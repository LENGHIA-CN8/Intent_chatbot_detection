{
 "cells": [
  {
   "cell_type": "markdown",
   "id": "09bf9eca-50e6-4490-8c93-44c427410b6c",
   "metadata": {},
   "source": [
    "# Multilingual Knowledge Distillation"
   ]
  },
  {
   "cell_type": "markdown",
   "id": "ab90a29a-a118-4269-b871-050f185004e2",
   "metadata": {
    "tags": []
   },
   "source": [
    "## Prepare data"
   ]
  },
  {
   "cell_type": "code",
   "execution_count": 1,
   "id": "6f0dc586-f09f-4fed-986b-83eaaa69e92d",
   "metadata": {
    "tags": []
   },
   "outputs": [],
   "source": [
    "import os"
   ]
  },
  {
   "cell_type": "code",
   "execution_count": 2,
   "id": "7f5759fb-58fd-47b9-ac5b-f96c00fa2c53",
   "metadata": {
    "tags": []
   },
   "outputs": [
    {
     "data": {
      "text/plain": [
       "'envi_data/raw_dir'"
      ]
     },
     "execution_count": 2,
     "metadata": {},
     "output_type": "execute_result"
    }
   ],
   "source": [
    "src = 'envi_data'\n",
    "raw_data_dir = os.path.join(src, 'raw_dir')\n",
    "raw_data_dir"
   ]
  },
  {
   "cell_type": "code",
   "execution_count": 5,
   "id": "ad6b9d89-259a-414d-b747-3a1203ad1905",
   "metadata": {
    "tags": []
   },
   "outputs": [
    {
     "name": "stdout",
     "output_type": "stream",
     "text": [
      "BANKING_77\n",
      "create_test_data.ipynb\n",
      "data\n",
      "Embed-label_Setfit.ipynb\n",
      "envi_data\n",
      "Multilingual_knowledge_distill_train.py\n",
      "Multi-lingual-training.ipynb\n",
      "multi-phoMT\n",
      "output.jpg\n",
      "setfitckpt\n",
      "setfitckpt_multilingual\n",
      "setfitckpt_multilingual_distil\n",
      "setfitckpt_multilingual_test_en\n",
      "setfitckpt_multilingual_test_en_v1\n",
      "setfitckpt_multilingual_test_en_v1_af\n",
      "setfitckpt_multilingual_test_en_v1_af.tar\n",
      "setfitckpt_multiphoMT\n",
      "setfitckpt_multiphoMT_test\n",
      "setfitckpt_onnx_multilingual_test_en\n",
      "Setfit.ipynb\n",
      "test_onnx.ipynb\n",
      "train.py\n"
     ]
    }
   ],
   "source": [
    "!ls"
   ]
  },
  {
   "cell_type": "code",
   "execution_count": 4,
   "id": "4e5c3495-b922-4941-b480-36b687d81659",
   "metadata": {
    "tags": []
   },
   "outputs": [],
   "source": [
    "if not os.path.exists(raw_data_dir):\n",
    "    os.makedirs(raw_data_dir)"
   ]
  },
  {
   "cell_type": "code",
   "execution_count": 6,
   "id": "1be0a245-e388-40c2-9fa4-fcba5e1fb37c",
   "metadata": {},
   "outputs": [],
   "source": [
    "en_sens= []\n",
    "with open('./envi_data/PhoMT/tokenization/train/train.en', 'r') as f:\n",
    "    for line in f:\n",
    "        en_sens.append(line.strip()) "
   ]
  },
  {
   "cell_type": "code",
   "execution_count": 7,
   "id": "c0c1aee3-12d0-4411-8a19-507be6186536",
   "metadata": {
    "tags": []
   },
   "outputs": [
    {
     "data": {
      "text/plain": [
       "['He enriches \" Midnight \\'s Children \" with a plethora of Indian and Pakistani cultural references , from family traditions to food , religion and folktales .',\n",
       " 'Scribbling by night under the watchful eyes of his lover Padma , Saleem \\'s frame narrative echoes that of \" 1001 Nights , \" where a woman named Scheherazade tells her king a series of stories to keep herself alive .',\n",
       " 'And as Saleem sees it , 1001 is \" the number of night , of magic , of alternative realities . \"',\n",
       " 'Over the course of the novel , Rushdie dazzles us with multiple versions of reality .',\n",
       " 'Sometimes , this is like reading a rollercoaster .',\n",
       " 'Saleem narrates : \" Who what am I ?',\n",
       " 'My answer : I am everyone everything whose being - in - the - world affected was affected by mine .',\n",
       " \"I am anything that happens after I 've gone which would not have happened if I had not come .\",\n",
       " \"Nor am I particularly exceptional in this matter ; each ' I , ' every one of the now - six - hundred - million - plus of us , contains a similar multitude .\",\n",
       " 'I repeat for the last time : to understand me , you \\'ll have to swallow a world . \"',\n",
       " \"Saleem 's narrative often has a breathless quality - and even as Rushdie depicts the cosmological consequences of a life , he questions the idea that we can ever condense history into a single narrative .\",\n",
       " 'His mind - bending plot and shapeshifting characters have garnered continuing fascination and praise .',\n",
       " 'Not only did \" Midnight \\'s Children \" win the prestigious Man Booker Prize in its year of publication , but in a 2008 competition that pitted all 39 winners against each other , it was named the best of all the winners .',\n",
       " \"In a masterpiece of epic proportions , Rushdie reveals that there are no singular truths- rather , it 's wiser to believe in several versions of reality at once , hold many lives in the palms of our hands , and experience multiple moments in a single stroke of the clock .\",\n",
       " 'When I was born , there was really only one book about how to raise your children , and it was written by Dr. Spock .',\n",
       " '( Laughter ) Thank you for indulging me .',\n",
       " 'I have always wanted to do that .',\n",
       " 'No , it was Benjamin Spock , and his book was called \" The Common Sense Book of Baby And Child Care . \"',\n",
       " 'It sold almost 50 million copies by the time he died .',\n",
       " 'Today , I , as the mother of a six - year - old , walk into Barnes and Noble , and see this .',\n",
       " 'And it is amazing the variety that one finds on those shelves .',\n",
       " 'There are guides to raising an eco-friendly kid , a gluten - free kid , a disease - proof kid , which , if you ask me , is a little bit creepy .',\n",
       " 'There are guides to raising a bilingual kid even if you only speak one language at home .',\n",
       " 'There are guides to raising a financially savvy kid and a science - minded kid and a kid who is a whiz at yoga .',\n",
       " 'Short of teaching your toddler how to defuse a nuclear bomb , there is pretty much a guide to everything .',\n",
       " 'All of these books are well - intentioned .',\n",
       " 'I am sure that many of them are great .',\n",
       " 'But taken together , I am sorry , I do not see help when I look at that shelf .',\n",
       " 'I see anxiety .',\n",
       " 'I see a giant candy - colored monument to our collective panic , and it makes me want to know , why is it that raising our children is associated with so much anguish and so much confusion ?']"
      ]
     },
     "execution_count": 7,
     "metadata": {},
     "output_type": "execute_result"
    }
   ],
   "source": [
    "en_sens[20:50]"
   ]
  },
  {
   "cell_type": "code",
   "execution_count": 8,
   "id": "cfa3eeae-ba48-4358-95ec-c3a3eb5cad81",
   "metadata": {
    "tags": []
   },
   "outputs": [],
   "source": [
    "vi_sens = []\n",
    "with open('./envi_data/PhoMT/tokenization/train/train.vi', 'r') as f:\n",
    "    for line in f:\n",
    "        vi_sens.append(line.strip()) "
   ]
  },
  {
   "cell_type": "code",
   "execution_count": 9,
   "id": "cbdf9a97-13e8-4b22-bfc3-cdd397fb1dd9",
   "metadata": {
    "tags": []
   },
   "outputs": [
    {
     "data": {
      "text/plain": [
       "['\" Những đứa con của nửa đêm \" mang đậm màu sắc văn hoá của Ấn Độ và Pakistan , từ truyền thống gia đình , ẩm thực , đến tôn giáo hay văn hoá dân gian .',\n",
       " 'Được viết nên mỗi đêm dưới sự chứng kiến của người tình là Padma , câu chuyện qua lời kể của Saleem mang âm hưởng nàng Scheherazade trong \" Nghìn lẻ một đêm \" , kể chuyện cho nhà vua hằng đêm để giữ mạng sống của mình .',\n",
       " 'Và theo cách Saleem nhìn nhận , 1001 là \" con số của đêm , của ma thuật , và hiện thực huyền ảo . \"',\n",
       " 'Xuyên suốt tiểu thuyết , Rushdie khiến người đọc choáng ngợp bởi những phiên bản khác nhau của hiện thực .',\n",
       " 'Đôi khi , việc đọc cuốn sách này cũng như đi tàu lượn vậy .',\n",
       " 'Saleem tự thuật : \" Tôi là ai ? là gì ?',\n",
       " 'Trả lời : Tôi là tổng hợp mọi thứ diễn ra , là tất cả mọi người , mọi vật mà sự tồn tại tác động đến tôi và bị tôi tác động .',\n",
       " 'Tôi là bất cứ chuyện gì xảy ra khi tôi ra đi nhưng sẽ không xảy ra nếu tôi không xuất hiện .',\n",
       " 'Tôi cũng không phải là ngoại lệ cá biệt trong vấn đề này ; mỗi một \" tôi \" , mỗi cá nhân trong số hơn - sáu - trăm - triệu - người chúng ta , đều chứa đựng những đa dạng tương tự .',\n",
       " 'Tôi nhắc lại lần cuối : Để hiểu tôi quý vị phải nuốt cả thế giới . \"',\n",
       " 'Những lời tự thuật của Saleem thường mang ý nghĩa nghẹt thở - và ngay cả khi Rushdie mô tả hệ quả của một cuộc đời đối với cả vũ trụ , ông vẫn tự hỏi liệu ta có thể cô đọng lịch sử qua một lời kể .',\n",
       " 'Cốt truyện đáng kinh ngạc cùng nhân vật linh hoạt của Rushdie đã không ngừng mê hoặc và được độc giả hết lời khen ngợi .',\n",
       " '\" Những đứa con của nửa đêm \" không chỉ nhận được giải thưởng Man Booker danh giá trong cùng năm xuất bản , mà còn vượt qua 39 tác phẩm chiến thắng khác để giành danh hiệu \" tác phẩm chiến thắng xuất sắc nhất \" vào năm 2008 .',\n",
       " 'Trong kiệt tác mang bối cảnh lịch sử , Rushdie tiết lộ rằng không có sự thật nào là duy nhất và sẽ là khôn ngoan hơn nếu tin vào nhiều góc nhìn của hiện thực , nắm giữ nhiều sinh mệnh trong lòng bàn tay và trải nghiệm nhiều khoảnh khắc trong một thời khắc của hiện tại .',\n",
       " 'Khi tôi mới sinh ra chỉ có một quyển sách về cách nuôi dạy con cái , là cuốn của Dr. Spock',\n",
       " '( Cười ) Cảm ơn đã nuông chiều tôi .',\n",
       " 'Tôi đã luôn mong được làm điều đó .',\n",
       " 'Không , đó là Benjamin Spock , có nhan đề \" Về chăm sóc trẻ sơ sinh và trẻ nhỏ \" .',\n",
       " 'Lúc ông qua đời , sách đã bán được gần 50 triệu bản .',\n",
       " 'Tôi là người mẹ có con lên 6 tuổi , bước vào cửa hàng Barnes và Noble , và thấy cái này .',\n",
       " 'Và thật kinh ngạc về sự đa dạng bạn thấy trên những giá sách đó .',\n",
       " 'Có sách hướng dẫn nuôi dạy trẻ thân thiện với môi trường , sách dạy trẻ không mắc chứng cuồng ăn , giúp trẻ chống lại bệnh tật , cả loại sách khiến tôi hơi choáng .',\n",
       " 'Có sách hướng dẫn dạy trẻ nói hai thứ tiếng , ngay cả khi bạn chỉ nói một thứ tiếng ở nhà .',\n",
       " 'Có sách hướng dẫn trẻ hiểu biết về tài chính , có đầu óc khoa học , hay dạy trẻ thành thần đồng yoga .',\n",
       " 'Chỉ thiếu mỗi sách dạy thằng bé tháo ngòi bom nguyên tử , Vô vàn dạy dỗ cho mọi thứ trên đời .',\n",
       " 'Tất cả những cuốn đó đều có ý định tốt .',\n",
       " 'Chắc trong số đó , có nhiều cuốn hay .',\n",
       " 'Nhưng gộp lại , thì rất tiếc , tôi không thấy lợi ích gì khi nhìn vào giá sách đó .',\n",
       " 'Tôi thấy sự lo lắng .',\n",
       " 'Tôi thấy một tượng đài màu kẹo khổng lồ cho nỗi sợ hãi hoang mang của chúng ta , và nó làm tôi muốn biết , tại sao việc nuôi dạy con cái của chúng ta lại đưa tới vô số nỗi khổ và nhiều bối rối đến vậy ?']"
      ]
     },
     "execution_count": 9,
     "metadata": {},
     "output_type": "execute_result"
    }
   ],
   "source": [
    "vi_sens[20:50]"
   ]
  },
  {
   "cell_type": "code",
   "execution_count": 10,
   "id": "8ea7bbd8-eee1-432d-a00a-575a6b9cdfb1",
   "metadata": {
    "tags": []
   },
   "outputs": [
    {
     "data": {
      "text/plain": [
       "2977999"
      ]
     },
     "execution_count": 10,
     "metadata": {},
     "output_type": "execute_result"
    }
   ],
   "source": [
    "len(en_sens)"
   ]
  },
  {
   "cell_type": "code",
   "execution_count": 11,
   "id": "a4401f2d-84fd-471b-80b0-4e0dd98087d9",
   "metadata": {
    "tags": []
   },
   "outputs": [],
   "source": [
    "train_dict_data = []\n",
    "\n",
    "for en_s, vi_s in zip(en_sens, vi_sens):\n",
    "    train_dict_data.append(en_s+'\\t'+vi_s)"
   ]
  },
  {
   "cell_type": "code",
   "execution_count": 12,
   "id": "8825c5fa-c26a-4430-aa7b-e5cd93200834",
   "metadata": {
    "tags": []
   },
   "outputs": [
    {
     "data": {
      "text/plain": [
       "['It begins with a countdown .\\tCâu chuyện bắt đầu với buổi lễ đếm ngược .',\n",
       " 'On August 14th , 1947 , a woman in Bombay goes into labor as the clock ticks towards midnight .\\tNgày 14 , tháng 8 , năm 1947 , gần nửa đêm , ở Bombay , có một phụ nữ sắp lâm bồn .',\n",
       " 'Across India , people hold their breath for the declaration of independence after nearly two centuries of British occupation and rule .\\tCùng lúc , trên khắp đất Ấn , người ta nín thở chờ đợi tuyên ngôn độc lập sau gần hai thập kỷ là thuộc địa của Anh .',\n",
       " 'And at the stroke of midnight , a squirming infant and two new nations are born in perfect synchronicity .\\tKhi đồng hồ điểm thời khắc nửa đêm , một đứa trẻ và hai quốc gia mới , cùng một lúc , ra đời .',\n",
       " 'These events form the foundation of \" Midnight \\'s Children , \" a dazzling novel by the British - Indian author Salman Rushdie .\\tNhững sự kiện này là nền móng tạo nên \" Những đứa con của nửa đêm , \" một tiểu thuyết nổi tiếng của nhà văn Anh gốc Ấn Salman Rushdie .',\n",
       " \"The baby who is the exact same age as the nation is Saleem Sinai , the novel 's protagonist .\\tĐứa trẻ cùng tuổi với đất nước đó là Saleem Sinai , nhân vật trung tâm của cuốn tiểu thuyết .\",\n",
       " 'His narrative stretches over 30 years of his life , jumping backwards and forwards in time to speculate on family secrets and deep - seated mysteries .\\tCuốn sách là lời tự thuật của Saleem về 30 năm cuộc đời với mạch thời gian khác nhau dần hé lộ những bí mật trong gia đình và những huyền bí cổ xưa .',\n",
       " \"These include the greatest enigma of all : Saleem has magic powers , and they 're somehow related to the time of his birth .\\tTất cả tạo ra điều bí ẩn vĩ đại nhất : Saleem sở hữu năng lực siêu nhiên , và , bằng cách nào đó , liên quan đến thời điểm cậu ra đời .\",\n",
       " \"And he 's not the only one .\\tSaleem không phải người duy nhất .\",\n",
       " \"All children born in and around the stroke of midnight are imbued with extraordinary powers ; like Parvati the Witch , a spectacular conjurer ; and Saleem 's nemesis Shiva , a gifted warrior .\\tMọi đứa trẻ sinh ra trong khoảng nửa đêm đều sở hữu năng lực đặc biệt , như Parvati , Phù thuỷ quyền năng ; một người bạn đồng hành tuyệt vời hay Shiva , kẻ thù của Saleem , một chiến binh thiên tài .\"]"
      ]
     },
     "execution_count": 12,
     "metadata": {},
     "output_type": "execute_result"
    }
   ],
   "source": [
    "train_dict_data[:10]"
   ]
  },
  {
   "cell_type": "code",
   "execution_count": 13,
   "id": "d9563b27-5e21-4cb5-926d-25f9b5b43891",
   "metadata": {
    "tags": []
   },
   "outputs": [
    {
     "data": {
      "text/plain": [
       "2977999"
      ]
     },
     "execution_count": 13,
     "metadata": {},
     "output_type": "execute_result"
    }
   ],
   "source": [
    "len(train_dict_data)"
   ]
  },
  {
   "cell_type": "code",
   "execution_count": 33,
   "id": "7b5999ab-d857-4747-a196-3cd903291260",
   "metadata": {
    "tags": []
   },
   "outputs": [],
   "source": [
    "import gzip\n",
    "\n",
    "with gzip.open(f'./envi_data/phoMT-train.tsv.gz', 'wt', encoding = 'utf-8') as f:\n",
    "    f.write('\\n'.join(train_dict_data))"
   ]
  },
  {
   "cell_type": "markdown",
   "id": "3351115c-aaa4-441b-9cee-f8ec30936c8c",
   "metadata": {},
   "source": [
    "## Model"
   ]
  },
  {
   "cell_type": "markdown",
   "id": "daf5dae8-c270-4e93-a81d-9fdebd869a98",
   "metadata": {},
   "source": [
    "### Teacher model"
   ]
  },
  {
   "cell_type": "code",
   "execution_count": 14,
   "id": "7cdcc7d5-e684-4e29-a0bb-3ee032def04c",
   "metadata": {
    "tags": []
   },
   "outputs": [
    {
     "name": "stderr",
     "output_type": "stream",
     "text": [
      "/data2/nghiatl/anaconda3/envs/onnx/lib/python3.9/site-packages/tqdm/auto.py:21: TqdmWarning: IProgress not found. Please update jupyter and ipywidgets. See https://ipywidgets.readthedocs.io/en/stable/user_install.html\n",
      "  from .autonotebook import tqdm as notebook_tqdm\n"
     ]
    }
   ],
   "source": [
    "from sentence_transformers import SentenceTransformer"
   ]
  },
  {
   "cell_type": "code",
   "execution_count": 36,
   "id": "ad1c3c1e-9a30-4c78-979d-01d74242fcea",
   "metadata": {
    "tags": []
   },
   "outputs": [],
   "source": [
    "from sentence_transformers import models"
   ]
  },
  {
   "cell_type": "code",
   "execution_count": 38,
   "id": "3d098e19-2b9f-49f7-b1fa-066406ec5973",
   "metadata": {
    "tags": []
   },
   "outputs": [
    {
     "data": {
      "application/vnd.jupyter.widget-view+json": {
       "model_id": "b8d5a9e35c20456f9aa4cd39b3d76313",
       "version_major": 2,
       "version_minor": 0
      },
      "text/plain": [
       "Downloading (…)a8e1d/.gitattributes:   0%|          | 0.00/1.18k [00:00<?, ?B/s]"
      ]
     },
     "metadata": {},
     "output_type": "display_data"
    },
    {
     "data": {
      "application/vnd.jupyter.widget-view+json": {
       "model_id": "5e5b60526e6b4aadade3d3dc3247b79e",
       "version_major": 2,
       "version_minor": 0
      },
      "text/plain": [
       "Downloading (…)_Pooling/config.json:   0%|          | 0.00/190 [00:00<?, ?B/s]"
      ]
     },
     "metadata": {},
     "output_type": "display_data"
    },
    {
     "data": {
      "application/vnd.jupyter.widget-view+json": {
       "model_id": "42765373cf154317b40d5528ed07bafd",
       "version_major": 2,
       "version_minor": 0
      },
      "text/plain": [
       "Downloading (…)b20bca8e1d/README.md:   0%|          | 0.00/10.6k [00:00<?, ?B/s]"
      ]
     },
     "metadata": {},
     "output_type": "display_data"
    },
    {
     "data": {
      "application/vnd.jupyter.widget-view+json": {
       "model_id": "2354f8ac2fba42a6ba47c51c921e199d",
       "version_major": 2,
       "version_minor": 0
      },
      "text/plain": [
       "Downloading (…)0bca8e1d/config.json:   0%|          | 0.00/571 [00:00<?, ?B/s]"
      ]
     },
     "metadata": {},
     "output_type": "display_data"
    },
    {
     "data": {
      "application/vnd.jupyter.widget-view+json": {
       "model_id": "9656b0fd0eac46288cf49a37473b6f70",
       "version_major": 2,
       "version_minor": 0
      },
      "text/plain": [
       "Downloading (…)ce_transformers.json:   0%|          | 0.00/116 [00:00<?, ?B/s]"
      ]
     },
     "metadata": {},
     "output_type": "display_data"
    },
    {
     "data": {
      "application/vnd.jupyter.widget-view+json": {
       "model_id": "6d60a78800424fc7aea37b1355604ad6",
       "version_major": 2,
       "version_minor": 0
      },
      "text/plain": [
       "Downloading (…)e1d/data_config.json:   0%|          | 0.00/39.3k [00:00<?, ?B/s]"
      ]
     },
     "metadata": {},
     "output_type": "display_data"
    },
    {
     "data": {
      "application/vnd.jupyter.widget-view+json": {
       "model_id": "ba6cf6fb255b42c2aedac4003591fa35",
       "version_major": 2,
       "version_minor": 0
      },
      "text/plain": [
       "Downloading (…)\"pytorch_model.bin\";:   0%|          | 0.00/438M [00:00<?, ?B/s]"
      ]
     },
     "metadata": {},
     "output_type": "display_data"
    },
    {
     "data": {
      "application/vnd.jupyter.widget-view+json": {
       "model_id": "5792b97116534778b7a4acef2ed5bfbc",
       "version_major": 2,
       "version_minor": 0
      },
      "text/plain": [
       "Downloading (…)nce_bert_config.json:   0%|          | 0.00/53.0 [00:00<?, ?B/s]"
      ]
     },
     "metadata": {},
     "output_type": "display_data"
    },
    {
     "data": {
      "application/vnd.jupyter.widget-view+json": {
       "model_id": "d342643f24dd4caaa23590dc5e3d89d2",
       "version_major": 2,
       "version_minor": 0
      },
      "text/plain": [
       "Downloading (…)cial_tokens_map.json:   0%|          | 0.00/239 [00:00<?, ?B/s]"
      ]
     },
     "metadata": {},
     "output_type": "display_data"
    },
    {
     "data": {
      "application/vnd.jupyter.widget-view+json": {
       "model_id": "8a0ba451bbaf477e89e4120061da0144",
       "version_major": 2,
       "version_minor": 0
      },
      "text/plain": [
       "Downloading (…)a8e1d/tokenizer.json:   0%|          | 0.00/466k [00:00<?, ?B/s]"
      ]
     },
     "metadata": {},
     "output_type": "display_data"
    },
    {
     "data": {
      "application/vnd.jupyter.widget-view+json": {
       "model_id": "b96a0b8aa5ee46dbb4e3b1e8328c0d24",
       "version_major": 2,
       "version_minor": 0
      },
      "text/plain": [
       "Downloading (…)okenizer_config.json:   0%|          | 0.00/363 [00:00<?, ?B/s]"
      ]
     },
     "metadata": {},
     "output_type": "display_data"
    },
    {
     "data": {
      "application/vnd.jupyter.widget-view+json": {
       "model_id": "2eb849c1cbab4453aa6e45095af3ecda",
       "version_major": 2,
       "version_minor": 0
      },
      "text/plain": [
       "Downloading (…)8e1d/train_script.py:   0%|          | 0.00/13.1k [00:00<?, ?B/s]"
      ]
     },
     "metadata": {},
     "output_type": "display_data"
    },
    {
     "data": {
      "application/vnd.jupyter.widget-view+json": {
       "model_id": "0cbc12ecf4dc4f6a960c0b59af812d66",
       "version_major": 2,
       "version_minor": 0
      },
      "text/plain": [
       "Downloading (…)b20bca8e1d/vocab.txt:   0%|          | 0.00/232k [00:00<?, ?B/s]"
      ]
     },
     "metadata": {},
     "output_type": "display_data"
    },
    {
     "data": {
      "application/vnd.jupyter.widget-view+json": {
       "model_id": "ad2adfb419744b1b852bcd9b42571f65",
       "version_major": 2,
       "version_minor": 0
      },
      "text/plain": [
       "Downloading (…)bca8e1d/modules.json:   0%|          | 0.00/349 [00:00<?, ?B/s]"
      ]
     },
     "metadata": {},
     "output_type": "display_data"
    },
    {
     "data": {
      "text/plain": [
       "SentenceTransformer(\n",
       "  (0): Transformer({'max_seq_length': 384, 'do_lower_case': False}) with Transformer model: MPNetModel \n",
       "  (1): Pooling({'word_embedding_dimension': 768, 'pooling_mode_cls_token': False, 'pooling_mode_mean_tokens': True, 'pooling_mode_max_tokens': False, 'pooling_mode_mean_sqrt_len_tokens': False})\n",
       "  (2): Normalize()\n",
       ")"
      ]
     },
     "execution_count": 38,
     "metadata": {},
     "output_type": "execute_result"
    }
   ],
   "source": [
    "teacher = SentenceTransformer('all-mpnet-base-v2')\n",
    "teacher"
   ]
  },
  {
   "cell_type": "code",
   "execution_count": 45,
   "id": "de07149e-4c33-4242-8cf1-b6269e45b8f6",
   "metadata": {
    "tags": []
   },
   "outputs": [
    {
     "data": {
      "text/plain": [
       "SentenceTransformer(\n",
       "  (0): Transformer({'max_seq_length': 384, 'do_lower_case': False}) with Transformer model: MPNetModel \n",
       "  (1): Pooling({'word_embedding_dimension': 768, 'pooling_mode_cls_token': False, 'pooling_mode_mean_tokens': True, 'pooling_mode_max_tokens': False, 'pooling_mode_mean_sqrt_len_tokens': False})\n",
       ")"
      ]
     },
     "execution_count": 45,
     "metadata": {},
     "output_type": "execute_result"
    }
   ],
   "source": [
    "mpnet = teacher[0]\n",
    "pooler = teacher[1]\n",
    "\n",
    "teacher = SentenceTransformer(modules=[mpnet, pooler])\n",
    "teacher"
   ]
  },
  {
   "cell_type": "markdown",
   "id": "79fe0a73-86f8-4db7-9c19-65caf541e284",
   "metadata": {},
   "source": [
    "## Student model"
   ]
  },
  {
   "cell_type": "code",
   "execution_count": 46,
   "id": "376ca924-f3d3-4603-aafb-01337c64eb29",
   "metadata": {
    "tags": []
   },
   "outputs": [
    {
     "data": {
      "text/plain": [
       "SentenceTransformer(\n",
       "  (0): Transformer({'max_seq_length': 128, 'do_lower_case': False}) with Transformer model: XLMRobertaModel \n",
       "  (1): Pooling({'word_embedding_dimension': 768, 'pooling_mode_cls_token': False, 'pooling_mode_mean_tokens': True, 'pooling_mode_max_tokens': False, 'pooling_mode_mean_sqrt_len_tokens': False})\n",
       ")"
      ]
     },
     "execution_count": 46,
     "metadata": {},
     "output_type": "execute_result"
    }
   ],
   "source": [
    "student = SentenceTransformer('sentence-transformers/paraphrase-multilingual-mpnet-base-v2')\n",
    "student"
   ]
  },
  {
   "cell_type": "markdown",
   "id": "9eccc550-5c4d-4d3a-a20d-2b0e4914af14",
   "metadata": {},
   "source": [
    "## Fine-tuning"
   ]
  },
  {
   "cell_type": "code",
   "execution_count": 47,
   "id": "abb3d398-c289-4b86-b5aa-e6c3b8a271d8",
   "metadata": {
    "tags": []
   },
   "outputs": [],
   "source": [
    "from sentence_transformers import ParallelSentencesDataset\n",
    "\n",
    "data = ParallelSentencesDataset(student_model=student, teacher_model=teacher, batch_size=32, use_embedding_cache=True)"
   ]
  },
  {
   "cell_type": "code",
   "execution_count": 48,
   "id": "204833f2-d314-4597-9470-4ded1e36b456",
   "metadata": {
    "tags": []
   },
   "outputs": [],
   "source": [
    "max_sentences_per_language = 1000000\n",
    "train_max_sentence_length = 250 # max num of characters per sentence\n",
    "\n",
    "data.load_data('./envi_data/phoMT-train.tsv.gz', max_sentences=max_sentences_per_language, max_sentence_length=train_max_sentence_length)"
   ]
  },
  {
   "cell_type": "code",
   "execution_count": 49,
   "id": "32f6ee46-cd9e-450d-b33b-7567e94fd154",
   "metadata": {
    "tags": []
   },
   "outputs": [],
   "source": [
    "from torch.utils.data import DataLoader\n",
    "\n",
    "loader = DataLoader(data, shuffle=True, batch_size=32)"
   ]
  },
  {
   "cell_type": "code",
   "execution_count": 50,
   "id": "ba06eeda-65fc-40ba-92a2-493cee3da052",
   "metadata": {
    "tags": []
   },
   "outputs": [],
   "source": [
    "from sentence_transformers import losses\n",
    "\n",
    "loss = losses.MSELoss(model=student)"
   ]
  },
  {
   "cell_type": "code",
   "execution_count": 52,
   "id": "3c09b12e-ec66-440d-8ca1-e450f0712dc7",
   "metadata": {
    "tags": []
   },
   "outputs": [
    {
     "name": "stderr",
     "output_type": "stream",
     "text": [
      "/data2/nghiatl/anaconda3/envs/SEO/lib/python3.8/site-packages/sentence_transformers/SentenceTransformer.py:547: UserWarning: Creating a tensor from a list of numpy.ndarrays is extremely slow. Please consider converting the list to a single numpy.ndarray with numpy.array() before converting to a tensor. (Triggered internally at  ../torch/csrc/utils/tensor_new.cpp:201.)\n",
      "  labels = torch.tensor(labels)\n"
     ]
    }
   ],
   "source": [
    "from sentence_transformers import evaluation\n",
    "import numpy as np\n",
    "\n",
    "epochs = 1\n",
    "warmup_steps = int(len(loader) * epochs * 0.1)\n",
    "\n",
    "student.fit(\n",
    "    train_objectives=[(loader, loss)],\n",
    "    epochs=epochs,\n",
    "    warmup_steps=warmup_steps,\n",
    "    output_path='./multi-phoMT',\n",
    "    optimizer_params={'lr': 2e-5, 'eps': 1e-6},\n",
    "    save_best_model=True,\n",
    "    show_progress_bar=False\n",
    ")"
   ]
  },
  {
   "cell_type": "code",
   "execution_count": null,
   "id": "428b42f8-0444-4084-bcd8-57ead9051f14",
   "metadata": {},
   "outputs": [],
   "source": []
  }
 ],
 "metadata": {
  "kernelspec": {
   "display_name": "REC",
   "language": "python",
   "name": "rec"
  },
  "language_info": {
   "codemirror_mode": {
    "name": "ipython",
    "version": 3
   },
   "file_extension": ".py",
   "mimetype": "text/x-python",
   "name": "python",
   "nbconvert_exporter": "python",
   "pygments_lexer": "ipython3",
   "version": "3.8.16"
  }
 },
 "nbformat": 4,
 "nbformat_minor": 5
}
