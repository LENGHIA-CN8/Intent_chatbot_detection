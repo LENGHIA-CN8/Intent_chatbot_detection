{
 "cells": [
  {
   "cell_type": "code",
   "execution_count": 1,
   "id": "4101cba0-fdf3-4c90-98d5-ecabab5887bf",
   "metadata": {
    "tags": []
   },
   "outputs": [],
   "source": [
    "import torch \n",
    "import torch.nn as nn\n",
    "from torch.utils.data import Dataset, DataLoader, random_split\n",
    "import pandas as pd\n",
    "import numpy as np\n",
    "import zipfile\n",
    "from PIL import Image\n",
    "import matplotlib.pyplot as plt\n",
    "import re\n",
    "# import pytorch_lightning as pl\n",
    "from torchvision import transforms as T\n",
    "from sklearn.model_selection import train_test_split\n",
    "\n",
    "train_ratio = 0.8"
   ]
  },
  {
   "cell_type": "code",
   "execution_count": 2,
   "id": "7942dec4-1fa9-487b-b99a-759843922fcd",
   "metadata": {
    "tags": []
   },
   "outputs": [
    {
     "name": "stdout",
     "output_type": "stream",
     "text": [
      "84\n"
     ]
    }
   ],
   "source": [
    "import random\n",
    "\n",
    "# SEED_VALUE = random.randint(0,100)\n",
    "SEED_VALUE = 84\n",
    "print(SEED_VALUE)\n",
    "random.seed(SEED_VALUE)\n",
    "torch.manual_seed(SEED_VALUE)\n",
    "torch.cuda.manual_seed_all(SEED_VALUE)\n",
    "\n",
    "np.random.seed(SEED_VALUE)"
   ]
  },
  {
   "cell_type": "code",
   "execution_count": 3,
   "id": "c5f68b33-6db8-48b4-88c2-7db1ecc736a7",
   "metadata": {
    "tags": []
   },
   "outputs": [],
   "source": [
    "# !nvidia-smi"
   ]
  },
  {
   "cell_type": "code",
   "execution_count": 4,
   "id": "44fd4fa4-abf1-463d-9354-49621ab7992f",
   "metadata": {
    "tags": []
   },
   "outputs": [
    {
     "name": "stdout",
     "output_type": "stream",
     "text": [
      "create_test_data.ipynb\t  setfitckpt_embed_label_multi_lingual\n",
      "data\t\t\t  setfitckpt_embed_label_v1\n",
      "Embed-label_Setfit.ipynb  Setfit.ipynb\n",
      "setfitckpt\t\t  train.py\n",
      "setfitckpt_embed_label\n"
     ]
    }
   ],
   "source": [
    "!ls\n",
    "csv_file = './data/train_v2.csv'"
   ]
  },
  {
   "cell_type": "code",
   "execution_count": 5,
   "id": "9329af7d-e605-4823-8feb-6a3690de49b4",
   "metadata": {
    "tags": []
   },
   "outputs": [
    {
     "data": {
      "text/html": [
       "<div>\n",
       "<style scoped>\n",
       "    .dataframe tbody tr th:only-of-type {\n",
       "        vertical-align: middle;\n",
       "    }\n",
       "\n",
       "    .dataframe tbody tr th {\n",
       "        vertical-align: top;\n",
       "    }\n",
       "\n",
       "    .dataframe thead th {\n",
       "        text-align: right;\n",
       "    }\n",
       "</style>\n",
       "<table border=\"1\" class=\"dataframe\">\n",
       "  <thead>\n",
       "    <tr style=\"text-align: right;\">\n",
       "      <th></th>\n",
       "      <th>Unnamed: 0</th>\n",
       "      <th>text</th>\n",
       "      <th>label</th>\n",
       "      <th>text_clean</th>\n",
       "    </tr>\n",
       "  </thead>\n",
       "  <tbody>\n",
       "    <tr>\n",
       "      <th>0</th>\n",
       "      <td>0</td>\n",
       "      <td>tư vấn giúp mình với</td>\n",
       "      <td>greetings</td>\n",
       "      <td>tư vấn giúp mình với</td>\n",
       "    </tr>\n",
       "    <tr>\n",
       "      <th>1</th>\n",
       "      <td>1</td>\n",
       "      <td>hi</td>\n",
       "      <td>greetings</td>\n",
       "      <td>hi</td>\n",
       "    </tr>\n",
       "    <tr>\n",
       "      <th>2</th>\n",
       "      <td>2</td>\n",
       "      <td>hi ad</td>\n",
       "      <td>greetings</td>\n",
       "      <td>hi ad</td>\n",
       "    </tr>\n",
       "    <tr>\n",
       "      <th>3</th>\n",
       "      <td>3</td>\n",
       "      <td>chào buổi sáng</td>\n",
       "      <td>greetings</td>\n",
       "      <td>chào buổi sáng</td>\n",
       "    </tr>\n",
       "    <tr>\n",
       "      <th>4</th>\n",
       "      <td>4</td>\n",
       "      <td>hello</td>\n",
       "      <td>greetings</td>\n",
       "      <td>hello</td>\n",
       "    </tr>\n",
       "  </tbody>\n",
       "</table>\n",
       "</div>"
      ],
      "text/plain": [
       "   Unnamed: 0                  text      label            text_clean\n",
       "0           0  tư vấn giúp mình với  greetings  tư vấn giúp mình với\n",
       "1           1                    hi  greetings                    hi\n",
       "2           2                 hi ad  greetings                 hi ad\n",
       "3           3        chào buổi sáng  greetings        chào buổi sáng\n",
       "4           4                 hello  greetings                 hello"
      ]
     },
     "execution_count": 5,
     "metadata": {},
     "output_type": "execute_result"
    }
   ],
   "source": [
    "data_df = pd.read_csv(csv_file)\n",
    "data_df.head()"
   ]
  },
  {
   "cell_type": "code",
   "execution_count": 6,
   "id": "420ce199-74f4-4ca7-b4ba-b67e7ad763ee",
   "metadata": {
    "tags": []
   },
   "outputs": [
    {
     "data": {
      "text/html": [
       "<div>\n",
       "<style scoped>\n",
       "    .dataframe tbody tr th:only-of-type {\n",
       "        vertical-align: middle;\n",
       "    }\n",
       "\n",
       "    .dataframe tbody tr th {\n",
       "        vertical-align: top;\n",
       "    }\n",
       "\n",
       "    .dataframe thead th {\n",
       "        text-align: right;\n",
       "    }\n",
       "</style>\n",
       "<table border=\"1\" class=\"dataframe\">\n",
       "  <thead>\n",
       "    <tr style=\"text-align: right;\">\n",
       "      <th></th>\n",
       "      <th>Unnamed: 0</th>\n",
       "      <th>text</th>\n",
       "      <th>label</th>\n",
       "      <th>text_clean</th>\n",
       "    </tr>\n",
       "  </thead>\n",
       "  <tbody>\n",
       "    <tr>\n",
       "      <th>650</th>\n",
       "      <td>670</td>\n",
       "      <td>Lê Minh Anh</td>\n",
       "      <td>outofscoreother</td>\n",
       "      <td>lê minh anh</td>\n",
       "    </tr>\n",
       "    <tr>\n",
       "      <th>651</th>\n",
       "      <td>671</td>\n",
       "      <td>Nguyễn Anh Minh</td>\n",
       "      <td>outofscoreother</td>\n",
       "      <td>nguyễn anh minh</td>\n",
       "    </tr>\n",
       "    <tr>\n",
       "      <th>652</th>\n",
       "      <td>672</td>\n",
       "      <td>Đào Xuân Đô</td>\n",
       "      <td>outofscoreother</td>\n",
       "      <td>đào xuân đô</td>\n",
       "    </tr>\n",
       "    <tr>\n",
       "      <th>653</th>\n",
       "      <td>673</td>\n",
       "      <td>4 + 2 = 1?</td>\n",
       "      <td>outofscoreother</td>\n",
       "      <td>speak english</td>\n",
       "    </tr>\n",
       "    <tr>\n",
       "      <th>654</th>\n",
       "      <td>674</td>\n",
       "      <td>Tôi đang hỏi bạn một câu ngoài lĩnh vực này</td>\n",
       "      <td>outofscoreother</td>\n",
       "      <td>tôi đang hỏi bạn một câu ngoài lĩnh vực này</td>\n",
       "    </tr>\n",
       "    <tr>\n",
       "      <th>...</th>\n",
       "      <td>...</td>\n",
       "      <td>...</td>\n",
       "      <td>...</td>\n",
       "      <td>...</td>\n",
       "    </tr>\n",
       "    <tr>\n",
       "      <th>855</th>\n",
       "      <td>875</td>\n",
       "      <td>tiện ích khi đăng ký dịch vụ ebanking</td>\n",
       "      <td>outofscoreother</td>\n",
       "      <td>tiện ích khi đăng ký dịch vụ ebanking</td>\n",
       "    </tr>\n",
       "    <tr>\n",
       "      <th>856</th>\n",
       "      <td>876</td>\n",
       "      <td>tôi đã chuyển khoản nhưng người thụ hưởng chưa...</td>\n",
       "      <td>outofscoreother</td>\n",
       "      <td>tôi đã chuyển khoản nhưng người thụ hưởng chưa...</td>\n",
       "    </tr>\n",
       "    <tr>\n",
       "      <th>857</th>\n",
       "      <td>877</td>\n",
       "      <td>tôi quên tên đăng nhập và mật khẩu internet ba...</td>\n",
       "      <td>outofscoreother</td>\n",
       "      <td>tôi quên tên đăng nhập và mật khẩu internet ba...</td>\n",
       "    </tr>\n",
       "    <tr>\n",
       "      <th>858</th>\n",
       "      <td>878</td>\n",
       "      <td>tôi muốn thực hiện thanh toán thẻ tín dụng cho...</td>\n",
       "      <td>outofscoreother</td>\n",
       "      <td>tôi muốn thực hiện thanh toán thẻ tín dụng cho...</td>\n",
       "    </tr>\n",
       "    <tr>\n",
       "      <th>859</th>\n",
       "      <td>879</td>\n",
       "      <td>chị có thể mở sổ tiết kiệm online được không</td>\n",
       "      <td>outofscoreother</td>\n",
       "      <td>chị có thể mở sổ tiết kiệm online được không</td>\n",
       "    </tr>\n",
       "  </tbody>\n",
       "</table>\n",
       "<p>210 rows × 4 columns</p>\n",
       "</div>"
      ],
      "text/plain": [
       "     Unnamed: 0                                               text  \\\n",
       "650         670                                        Lê Minh Anh   \n",
       "651         671                                    Nguyễn Anh Minh   \n",
       "652         672                                        Đào Xuân Đô   \n",
       "653         673                                         4 + 2 = 1?   \n",
       "654         674        Tôi đang hỏi bạn một câu ngoài lĩnh vực này   \n",
       "..          ...                                                ...   \n",
       "855         875              tiện ích khi đăng ký dịch vụ ebanking   \n",
       "856         876  tôi đã chuyển khoản nhưng người thụ hưởng chưa...   \n",
       "857         877  tôi quên tên đăng nhập và mật khẩu internet ba...   \n",
       "858         878  tôi muốn thực hiện thanh toán thẻ tín dụng cho...   \n",
       "859         879       chị có thể mở sổ tiết kiệm online được không   \n",
       "\n",
       "               label                                         text_clean  \n",
       "650  outofscoreother                                        lê minh anh  \n",
       "651  outofscoreother                                    nguyễn anh minh  \n",
       "652  outofscoreother                                        đào xuân đô  \n",
       "653  outofscoreother                                      speak english  \n",
       "654  outofscoreother        tôi đang hỏi bạn một câu ngoài lĩnh vực này  \n",
       "..               ...                                                ...  \n",
       "855  outofscoreother              tiện ích khi đăng ký dịch vụ ebanking  \n",
       "856  outofscoreother  tôi đã chuyển khoản nhưng người thụ hưởng chưa...  \n",
       "857  outofscoreother  tôi quên tên đăng nhập và mật khẩu internet ba...  \n",
       "858  outofscoreother  tôi muốn thực hiện thanh toán thẻ tín dụng cho...  \n",
       "859  outofscoreother       chị có thể mở sổ tiết kiệm online được không  \n",
       "\n",
       "[210 rows x 4 columns]"
      ]
     },
     "execution_count": 6,
     "metadata": {},
     "output_type": "execute_result"
    }
   ],
   "source": [
    "data_df[data_df['label'] == 'outofscoreother']"
   ]
  },
  {
   "cell_type": "code",
   "execution_count": 7,
   "id": "76305296-7604-4094-a34c-add7663cd8be",
   "metadata": {
    "tags": []
   },
   "outputs": [
    {
     "data": {
      "text/plain": [
       "'tôi muốn thực hiện thanh toán thẻ tín dụng cho người khác tôi có thể thực hiện được không'"
      ]
     },
     "execution_count": 7,
     "metadata": {},
     "output_type": "execute_result"
    }
   ],
   "source": [
    "data_df[data_df['label'] == 'outofscoreother'].loc[858]['text']"
   ]
  },
  {
   "cell_type": "code",
   "execution_count": 8,
   "id": "cb733b8c-2f95-4a9c-9c41-68260c69cc02",
   "metadata": {
    "tags": []
   },
   "outputs": [],
   "source": [
    "data_df.drop(columns=['Unnamed: 0', 'text'], inplace=True)"
   ]
  },
  {
   "cell_type": "code",
   "execution_count": 9,
   "id": "b5a6b3ba-cb3d-4fe0-8c30-aac2a6ba41d8",
   "metadata": {
    "tags": []
   },
   "outputs": [],
   "source": [
    "data_df.rename(columns={'text_clean':'text'}, inplace =True)"
   ]
  },
  {
   "cell_type": "code",
   "execution_count": 10,
   "id": "cc5bb0e2-f558-456f-a204-19bda7b0856e",
   "metadata": {
    "tags": []
   },
   "outputs": [],
   "source": [
    "data_df.dropna(subset=['text'], inplace=True)"
   ]
  },
  {
   "cell_type": "code",
   "execution_count": 11,
   "id": "35da8f8d-81cb-4075-a2d3-3c5659663811",
   "metadata": {
    "tags": []
   },
   "outputs": [
    {
     "data": {
      "text/html": [
       "<div>\n",
       "<style scoped>\n",
       "    .dataframe tbody tr th:only-of-type {\n",
       "        vertical-align: middle;\n",
       "    }\n",
       "\n",
       "    .dataframe tbody tr th {\n",
       "        vertical-align: top;\n",
       "    }\n",
       "\n",
       "    .dataframe thead th {\n",
       "        text-align: right;\n",
       "    }\n",
       "</style>\n",
       "<table border=\"1\" class=\"dataframe\">\n",
       "  <thead>\n",
       "    <tr style=\"text-align: right;\">\n",
       "      <th></th>\n",
       "      <th>label</th>\n",
       "      <th>text</th>\n",
       "    </tr>\n",
       "  </thead>\n",
       "  <tbody>\n",
       "  </tbody>\n",
       "</table>\n",
       "</div>"
      ],
      "text/plain": [
       "Empty DataFrame\n",
       "Columns: [label, text]\n",
       "Index: []"
      ]
     },
     "execution_count": 11,
     "metadata": {},
     "output_type": "execute_result"
    }
   ],
   "source": [
    "data_df[data_df['text'].isna()]"
   ]
  },
  {
   "cell_type": "code",
   "execution_count": 12,
   "id": "ce9d3c7b-3507-470b-80c0-a460d9e96c77",
   "metadata": {
    "tags": []
   },
   "outputs": [],
   "source": [
    "# data_df['text'].fillna(\"\", inplace =True)"
   ]
  },
  {
   "cell_type": "code",
   "execution_count": 13,
   "id": "6cc6f616-dad6-4fc0-a257-c672c94dcacb",
   "metadata": {
    "tags": []
   },
   "outputs": [
    {
     "data": {
      "text/plain": [
       "outofscoreother               210\n",
       "cardproductkiemtragiaonhan    162\n",
       "submenuthongtin               118\n",
       "greetings                      52\n",
       "cardproductmainmenu            40\n",
       "outofscorenonvietnamese        39\n",
       "submenucomplain                34\n",
       "cardproductdangkythe           23\n",
       "branchlocation                 22\n",
       "thanks                         19\n",
       "submenuthongtinID              18\n",
       "submenuthongtinemailphone      18\n",
       "goodbye                        18\n",
       "submenubieuphi                 15\n",
       "submenulienhetuvan             14\n",
       "affirm                         14\n",
       "moodgreat                      11\n",
       "deny                           10\n",
       "mainmenu                        9\n",
       "cardproductkhuyenmai            8\n",
       "cardproductkiemtrahoso          5\n",
       "Name: label, dtype: int64"
      ]
     },
     "execution_count": 13,
     "metadata": {},
     "output_type": "execute_result"
    }
   ],
   "source": [
    "data_df['label'].value_counts()"
   ]
  },
  {
   "cell_type": "code",
   "execution_count": 14,
   "id": "d0625041-d150-4ede-ad40-87346123c7b5",
   "metadata": {
    "tags": []
   },
   "outputs": [
    {
     "data": {
      "text/plain": [
       "<AxesSubplot: >"
      ]
     },
     "execution_count": 14,
     "metadata": {},
     "output_type": "execute_result"
    },
    {
     "data": {
      "image/png": "[encoded data removed]",
      "text/plain": [
       "<Figure size 640x480 with 1 Axes>"
      ]
     },
     "metadata": {},
     "output_type": "display_data"
    }
   ],
   "source": [
    "data_df['label'].value_counts().plot(y=['li','la'],kind='barh')"
   ]
  },
  {
   "cell_type": "code",
   "execution_count": 15,
   "id": "c69eeb86-a2f3-4fe9-a92d-41e3f1d358a8",
   "metadata": {
    "tags": []
   },
   "outputs": [],
   "source": [
    "label_list = data_df['label'].unique().tolist()"
   ]
  },
  {
   "cell_type": "code",
   "execution_count": 16,
   "id": "46ad9800-e731-4ea0-bc00-7b62b4a47062",
   "metadata": {
    "tags": []
   },
   "outputs": [
    {
     "data": {
      "text/plain": [
       "['greetings',\n",
       " 'goodbye',\n",
       " 'thanks',\n",
       " 'affirm',\n",
       " 'deny',\n",
       " 'moodgreat',\n",
       " 'mainmenu',\n",
       " 'submenuthongtin',\n",
       " 'submenuthongtinID',\n",
       " 'submenuthongtinemailphone',\n",
       " 'submenubieuphi',\n",
       " 'submenucomplain',\n",
       " 'submenulienhetuvan',\n",
       " 'branchlocation',\n",
       " 'cardproductmainmenu',\n",
       " 'cardproductdangkythe',\n",
       " 'cardproductkhuyenmai',\n",
       " 'cardproductkiemtrahoso',\n",
       " 'cardproductkiemtragiaonhan',\n",
       " 'outofscorenonvietnamese',\n",
       " 'outofscoreother']"
      ]
     },
     "execution_count": 16,
     "metadata": {},
     "output_type": "execute_result"
    }
   ],
   "source": [
    "label_list"
   ]
  },
  {
   "cell_type": "code",
   "execution_count": 17,
   "id": "88560a7a-09a7-41cc-8ba8-4dec4de03bb5",
   "metadata": {
    "tags": []
   },
   "outputs": [
    {
     "data": {
      "text/plain": [
       "12"
      ]
     },
     "execution_count": 17,
     "metadata": {},
     "output_type": "execute_result"
    }
   ],
   "source": [
    "label_list.index('submenulienhetuvan')"
   ]
  },
  {
   "cell_type": "code",
   "execution_count": 18,
   "id": "02710a2b-dedf-41c1-bc60-e519b3b2cf11",
   "metadata": {
    "tags": []
   },
   "outputs": [],
   "source": [
    "def convert_label(x):\n",
    "    return label_list.index(x)"
   ]
  },
  {
   "cell_type": "code",
   "execution_count": 19,
   "id": "05ff4bc9-9619-437c-b381-1c77216f238c",
   "metadata": {
    "tags": []
   },
   "outputs": [
    {
     "data": {
      "text/html": [
       "<div>\n",
       "<style scoped>\n",
       "    .dataframe tbody tr th:only-of-type {\n",
       "        vertical-align: middle;\n",
       "    }\n",
       "\n",
       "    .dataframe tbody tr th {\n",
       "        vertical-align: top;\n",
       "    }\n",
       "\n",
       "    .dataframe thead th {\n",
       "        text-align: right;\n",
       "    }\n",
       "</style>\n",
       "<table border=\"1\" class=\"dataframe\">\n",
       "  <thead>\n",
       "    <tr style=\"text-align: right;\">\n",
       "      <th></th>\n",
       "      <th>label</th>\n",
       "      <th>text</th>\n",
       "    </tr>\n",
       "  </thead>\n",
       "  <tbody>\n",
       "    <tr>\n",
       "      <th>0</th>\n",
       "      <td>0</td>\n",
       "      <td>tư vấn giúp mình với</td>\n",
       "    </tr>\n",
       "    <tr>\n",
       "      <th>1</th>\n",
       "      <td>0</td>\n",
       "      <td>hi</td>\n",
       "    </tr>\n",
       "    <tr>\n",
       "      <th>2</th>\n",
       "      <td>0</td>\n",
       "      <td>hi ad</td>\n",
       "    </tr>\n",
       "    <tr>\n",
       "      <th>3</th>\n",
       "      <td>0</td>\n",
       "      <td>chào buổi sáng</td>\n",
       "    </tr>\n",
       "    <tr>\n",
       "      <th>4</th>\n",
       "      <td>0</td>\n",
       "      <td>hello</td>\n",
       "    </tr>\n",
       "  </tbody>\n",
       "</table>\n",
       "</div>"
      ],
      "text/plain": [
       "   label                  text\n",
       "0      0  tư vấn giúp mình với\n",
       "1      0                    hi\n",
       "2      0                 hi ad\n",
       "3      0        chào buổi sáng\n",
       "4      0                 hello"
      ]
     },
     "execution_count": 19,
     "metadata": {},
     "output_type": "execute_result"
    }
   ],
   "source": [
    "data_df['label'] = data_df['label'].apply(lambda x: convert_label(x))\n",
    "data_df.head()"
   ]
  },
  {
   "cell_type": "code",
   "execution_count": 20,
   "id": "c01391c9-a794-4c84-8fe0-5d5d4b15b737",
   "metadata": {
    "tags": []
   },
   "outputs": [
    {
     "data": {
      "text/plain": [
       "<AxesSubplot: >"
      ]
     },
     "execution_count": 20,
     "metadata": {},
     "output_type": "execute_result"
    },
    {
     "data": {
      "image/png": "[encoded data removed]",
      "text/plain": [
       "<Figure size 640x480 with 1 Axes>"
      ]
     },
     "metadata": {},
     "output_type": "display_data"
    }
   ],
   "source": [
    "data_df['label'].value_counts().plot(y=['li','la'],kind='barh')"
   ]
  },
  {
   "cell_type": "code",
   "execution_count": 21,
   "id": "9ffaf214-6f1f-4a8c-9747-f26694ba7aa5",
   "metadata": {
    "tags": []
   },
   "outputs": [],
   "source": [
    "# from vncorenlp import VnCoreNLP\n",
    "# rdrsegmenter = VnCoreNLP(\"./vncorenlp/VnCoreNLP-1.1.1.jar\", annotators=\"wseg\", max_heap_size='-Xmx500m') \n",
    "import re\n",
    "\n",
    "uniChars = \"àáảãạâầấẩẫậăằắẳẵặèéẻẽẹêềếểễệđìíỉĩịòóỏõọôồốổỗộơờớởỡợùúủũụưừứửữựỳýỷỹỵÀÁẢÃẠÂẦẤẨẪẬĂẰẮẲẴẶÈÉẺẼẸÊỀẾỂỄỆĐÌÍỈĨỊÒÓỎÕỌÔỒỐỔỖỘƠỜỚỞỠỢÙÚỦŨỤƯỪỨỬỮỰỲÝỶỸỴÂĂĐÔƠƯ_\"\n",
    "punc_re = '[^\\w'+uniChars+']'\n",
    "def process_text(sen):\n",
    "  ##Unicode reform\n",
    "  assert isinstance(sen, str), 'Not String'\n",
    "  # sen = convert_unicode(sen)\n",
    "  # sen = striphtml(sen)\n",
    "  ##Remove punctuation\n",
    "  sen = re.sub(punc_re,' ', sen)\n",
    "  ##Remove multiple space\n",
    "  sen = re.sub('\\s+',' ', sen)\n",
    "  ##Lower\n",
    "  sen = sen.strip()\n",
    "  ##Segment\n",
    "  # seg = rdrsegmenter.tokenize(sen)\n",
    "  # if len(seg) == 0:\n",
    "  #   sen = ' '\n",
    "  # else: \n",
    "  #   sen = ' '.join(seg[0])\n",
    "  return sen"
   ]
  },
  {
   "cell_type": "code",
   "execution_count": 22,
   "id": "ad78ba8f-12b6-408d-b2ff-c30d4200ce78",
   "metadata": {
    "tags": []
   },
   "outputs": [],
   "source": [
    "def preprocess_sentence(sen):\n",
    "  sen = tokenize(sen)\n",
    "  # sen = process_text(sen)\n",
    "  return sen"
   ]
  },
  {
   "cell_type": "code",
   "execution_count": 23,
   "id": "d8ebe151-286e-4e74-9ac7-e5807a00833e",
   "metadata": {
    "tags": []
   },
   "outputs": [],
   "source": [
    "from pyvi.ViTokenizer import tokenize\n",
    "\n",
    "def preprocess_text(df):\n",
    "  sen = df['text']\n",
    "  sen = tokenize(sen)\n",
    "  # sen = process_text(sen)\n",
    "  return sen\n",
    "# vec_pre = np.vectorize(preprocess_text)\n",
    "# print(vec_pre((data_df.iloc[3,3])))\n",
    "data_df['concat_text'] = data_df.apply(lambda x: preprocess_text(x), axis = 1)"
   ]
  },
  {
   "cell_type": "code",
   "execution_count": 24,
   "id": "1963cd3b-f7c4-4f00-b69f-2642197e3110",
   "metadata": {
    "tags": []
   },
   "outputs": [
    {
     "data": {
      "text/html": [
       "<div>\n",
       "<style scoped>\n",
       "    .dataframe tbody tr th:only-of-type {\n",
       "        vertical-align: middle;\n",
       "    }\n",
       "\n",
       "    .dataframe tbody tr th {\n",
       "        vertical-align: top;\n",
       "    }\n",
       "\n",
       "    .dataframe thead th {\n",
       "        text-align: right;\n",
       "    }\n",
       "</style>\n",
       "<table border=\"1\" class=\"dataframe\">\n",
       "  <thead>\n",
       "    <tr style=\"text-align: right;\">\n",
       "      <th></th>\n",
       "      <th>label</th>\n",
       "      <th>text</th>\n",
       "      <th>concat_text</th>\n",
       "    </tr>\n",
       "  </thead>\n",
       "  <tbody>\n",
       "    <tr>\n",
       "      <th>0</th>\n",
       "      <td>0</td>\n",
       "      <td>tư vấn giúp mình với</td>\n",
       "      <td>tư_vấn giúp mình với</td>\n",
       "    </tr>\n",
       "    <tr>\n",
       "      <th>1</th>\n",
       "      <td>0</td>\n",
       "      <td>hi</td>\n",
       "      <td>hi</td>\n",
       "    </tr>\n",
       "    <tr>\n",
       "      <th>2</th>\n",
       "      <td>0</td>\n",
       "      <td>hi ad</td>\n",
       "      <td>hi_ad</td>\n",
       "    </tr>\n",
       "    <tr>\n",
       "      <th>3</th>\n",
       "      <td>0</td>\n",
       "      <td>chào buổi sáng</td>\n",
       "      <td>chào buổi sáng</td>\n",
       "    </tr>\n",
       "    <tr>\n",
       "      <th>4</th>\n",
       "      <td>0</td>\n",
       "      <td>hello</td>\n",
       "      <td>hello</td>\n",
       "    </tr>\n",
       "    <tr>\n",
       "      <th>...</th>\n",
       "      <td>...</td>\n",
       "      <td>...</td>\n",
       "      <td>...</td>\n",
       "    </tr>\n",
       "    <tr>\n",
       "      <th>855</th>\n",
       "      <td>20</td>\n",
       "      <td>tiện ích khi đăng ký dịch vụ ebanking</td>\n",
       "      <td>tiện_ích khi đăng_ký dịch_vụ ebanking</td>\n",
       "    </tr>\n",
       "    <tr>\n",
       "      <th>856</th>\n",
       "      <td>20</td>\n",
       "      <td>tôi đã chuyển khoản nhưng người thụ hưởng chưa...</td>\n",
       "      <td>tôi đã chuyển_khoản nhưng người thụ_hưởng chưa...</td>\n",
       "    </tr>\n",
       "    <tr>\n",
       "      <th>857</th>\n",
       "      <td>20</td>\n",
       "      <td>tôi quên tên đăng nhập và mật khẩu internet ba...</td>\n",
       "      <td>tôi quên tên đăng_nhập và mật_khẩu internet ba...</td>\n",
       "    </tr>\n",
       "    <tr>\n",
       "      <th>858</th>\n",
       "      <td>20</td>\n",
       "      <td>tôi muốn thực hiện thanh toán thẻ tín dụng cho...</td>\n",
       "      <td>tôi muốn thực_hiện thanh_toán thẻ tín_dụng cho...</td>\n",
       "    </tr>\n",
       "    <tr>\n",
       "      <th>859</th>\n",
       "      <td>20</td>\n",
       "      <td>chị có thể mở sổ tiết kiệm online được không</td>\n",
       "      <td>chị có_thể mở sổ tiết_kiệm online được không</td>\n",
       "    </tr>\n",
       "  </tbody>\n",
       "</table>\n",
       "<p>859 rows × 3 columns</p>\n",
       "</div>"
      ],
      "text/plain": [
       "     label                                               text  \\\n",
       "0        0                               tư vấn giúp mình với   \n",
       "1        0                                                 hi   \n",
       "2        0                                              hi ad   \n",
       "3        0                                     chào buổi sáng   \n",
       "4        0                                              hello   \n",
       "..     ...                                                ...   \n",
       "855     20              tiện ích khi đăng ký dịch vụ ebanking   \n",
       "856     20  tôi đã chuyển khoản nhưng người thụ hưởng chưa...   \n",
       "857     20  tôi quên tên đăng nhập và mật khẩu internet ba...   \n",
       "858     20  tôi muốn thực hiện thanh toán thẻ tín dụng cho...   \n",
       "859     20       chị có thể mở sổ tiết kiệm online được không   \n",
       "\n",
       "                                           concat_text  \n",
       "0                                 tư_vấn giúp mình với  \n",
       "1                                                   hi  \n",
       "2                                                hi_ad  \n",
       "3                                       chào buổi sáng  \n",
       "4                                                hello  \n",
       "..                                                 ...  \n",
       "855              tiện_ích khi đăng_ký dịch_vụ ebanking  \n",
       "856  tôi đã chuyển_khoản nhưng người thụ_hưởng chưa...  \n",
       "857  tôi quên tên đăng_nhập và mật_khẩu internet ba...  \n",
       "858  tôi muốn thực_hiện thanh_toán thẻ tín_dụng cho...  \n",
       "859       chị có_thể mở sổ tiết_kiệm online được không  \n",
       "\n",
       "[859 rows x 3 columns]"
      ]
     },
     "execution_count": 24,
     "metadata": {},
     "output_type": "execute_result"
    }
   ],
   "source": [
    "data_df"
   ]
  },
  {
   "cell_type": "code",
   "execution_count": 25,
   "id": "e64effb7-b9e4-448f-8738-7d21e7d40661",
   "metadata": {
    "tags": []
   },
   "outputs": [],
   "source": [
    "# from transformers import AutoTokenizer, AutoModel\n",
    "\n",
    "# tokenizer = AutoTokenizer.from_pretrained('sentence-transformers/paraphrase-multilingual-mpnet-base-v2')"
   ]
  },
  {
   "cell_type": "code",
   "execution_count": 26,
   "id": "33c2cd22-0bba-48ff-b8ad-e3d0925ba7ed",
   "metadata": {
    "tags": []
   },
   "outputs": [],
   "source": [
    "# tokenizer('ừ b')['input_ids']"
   ]
  },
  {
   "cell_type": "code",
   "execution_count": 27,
   "id": "019b481f-e083-4cf7-b25b-85890c1d80ad",
   "metadata": {
    "tags": []
   },
   "outputs": [
    {
     "data": {
      "text/plain": [
       "label               11\n",
       "text           bột ngũ\n",
       "concat_text    bột ngũ\n",
       "Name: 334, dtype: object"
      ]
     },
     "execution_count": 27,
     "metadata": {},
     "output_type": "execute_result"
    }
   ],
   "source": [
    "data_df.iloc[334]"
   ]
  },
  {
   "cell_type": "code",
   "execution_count": 28,
   "id": "ad2cd0e1-2874-4cb5-b9d7-0ed81bfbce3b",
   "metadata": {
    "tags": []
   },
   "outputs": [
    {
     "data": {
      "text/plain": [
       "'submenucomplain'"
      ]
     },
     "execution_count": 28,
     "metadata": {},
     "output_type": "execute_result"
    }
   ],
   "source": [
    "label_list[11]"
   ]
  },
  {
   "cell_type": "code",
   "execution_count": 29,
   "id": "809ef44b-c8e0-4585-88c7-a4dcf9353ff2",
   "metadata": {
    "tags": []
   },
   "outputs": [],
   "source": [
    "from sentence_transformers.losses import CosineSimilarityLoss\n",
    "from setfit import SetFitModel, SetFitTrainer, sample_dataset"
   ]
  },
  {
   "cell_type": "code",
   "execution_count": 30,
   "id": "824e0393-e368-4393-96cb-4b9f182901ba",
   "metadata": {
    "tags": []
   },
   "outputs": [],
   "source": [
    "# train_df = data_df.groupby('label').sample(n=16, random_state = 42)\n",
    "# train_df"
   ]
  },
  {
   "cell_type": "code",
   "execution_count": 31,
   "id": "58671f3b-c159-490b-95c4-ac0170f242a7",
   "metadata": {
    "tags": []
   },
   "outputs": [],
   "source": [
    "# test_df = data_df.loc[list(set(data_df.index) - set(train_df.index))]\n",
    "# test_df"
   ]
  },
  {
   "cell_type": "code",
   "execution_count": 32,
   "id": "095d393f-970e-4724-a2a3-1764973bd0a8",
   "metadata": {
    "tags": []
   },
   "outputs": [],
   "source": [
    "# with open('./data/test.json') as f:\n",
    "#     test_json = json.load(f)\n",
    "# test_json['submenucomplain']"
   ]
  },
  {
   "cell_type": "code",
   "execution_count": 33,
   "id": "cfc4aded-6951-4779-a66d-8753b136d4d0",
   "metadata": {
    "tags": []
   },
   "outputs": [
    {
     "data": {
      "text/plain": [
       "['greetings',\n",
       " 'goodbye',\n",
       " 'thanks',\n",
       " 'affirm',\n",
       " 'deny',\n",
       " 'moodgreat',\n",
       " 'mainmenu',\n",
       " 'submenuthongtin',\n",
       " 'submenuthongtinID',\n",
       " 'submenuthongtinemailphone',\n",
       " 'submenubieuphi',\n",
       " 'submenucomplain',\n",
       " 'submenulienhetuvan',\n",
       " 'branchlocation',\n",
       " 'cardproductmainmenu',\n",
       " 'cardproductdangkythe',\n",
       " 'cardproductkhuyenmai',\n",
       " 'cardproductkiemtrahoso',\n",
       " 'cardproductkiemtragiaonhan',\n",
       " 'outofscorenonvietnamese',\n",
       " 'outofscoreother']"
      ]
     },
     "execution_count": 33,
     "metadata": {},
     "output_type": "execute_result"
    }
   ],
   "source": [
    "label_list"
   ]
  },
  {
   "cell_type": "code",
   "execution_count": 34,
   "id": "35a807c3-d710-47a2-b855-d2fed9d26b90",
   "metadata": {
    "tags": []
   },
   "outputs": [
    {
     "data": {
      "text/plain": [
       "18"
      ]
     },
     "execution_count": 34,
     "metadata": {},
     "output_type": "execute_result"
    }
   ],
   "source": [
    "label_list.index('cardproductkiemtragiaonhan')"
   ]
  },
  {
   "cell_type": "code",
   "execution_count": 35,
   "id": "4945e6e3-70f4-4e56-b94c-3ecb4bb2ff11",
   "metadata": {
    "tags": []
   },
   "outputs": [],
   "source": [
    "train_df = data_df"
   ]
  },
  {
   "cell_type": "code",
   "execution_count": 36,
   "id": "bbcb2a71-4ae7-4ccf-bd94-be098e94fb49",
   "metadata": {
    "tags": []
   },
   "outputs": [
    {
     "data": {
      "text/plain": [
       "'tôi muốn thực hiện thanh toán thẻ tín dụng cho người khác tôi có thể'"
      ]
     },
     "execution_count": 36,
     "metadata": {},
     "output_type": "execute_result"
    }
   ],
   "source": [
    "train_df[train_df['label'] == 20].loc[858]['text']"
   ]
  },
  {
   "cell_type": "code",
   "execution_count": 37,
   "id": "f2392642-114b-4302-b527-8200ee6e13e7",
   "metadata": {
    "tags": []
   },
   "outputs": [
    {
     "data": {
      "text/plain": [
       "{0: 'chào hỏi làm quen và muốn hỏi',\n",
       " 1: 'muốn kết thúc trò chuyện',\n",
       " 2: 'cảm ơn và hài lòng dịch vụ',\n",
       " 3: 'xác nhận',\n",
       " 4: 'từ chối',\n",
       " 5: 'tâm trạng tốt',\n",
       " 6: 'đã sử dụng hoặc muốn biết về các thông tin chung',\n",
       " 7: 'muốn đổi thông tin',\n",
       " 8: 'muốn đổi chứng minh nhân dân',\n",
       " 9: 'muốn đổi email hoặc đổi số điện thoại',\n",
       " 10: 'xin giá phí',\n",
       " 11: 'phàn nàn không hài lòng',\n",
       " 12: 'cần tổng đài tư vấn trực tiếp',\n",
       " 13: 'hỏi địa chỉ chi nhánh',\n",
       " 14: 'chưa sử dụng và muốn biết về các dịch vụ thẻ',\n",
       " 15: 'đăng kí mở thẻ',\n",
       " 16: 'hỏi ưu đãi khuyến mãi',\n",
       " 17: 'kiểm tra thông tin hồ sơ thẻ',\n",
       " 18: 'kiểm tra giao nhận',\n",
       " 19: 'tiếng nước ngoài',\n",
       " 20: 'không liên quan'}"
      ]
     },
     "execution_count": 37,
     "metadata": {},
     "output_type": "execute_result"
    }
   ],
   "source": [
    "label_descript = {0: 'chào hỏi làm quen và muốn hỏi',\n",
    "1: 'muốn kết thúc trò chuyện',\n",
    "2: 'cảm ơn và hài lòng dịch vụ',\n",
    "3: 'xác nhận',\n",
    "4: 'từ chối',\n",
    "5: 'tâm trạng tốt',\n",
    "6: 'đã sử dụng hoặc muốn biết về các thông tin chung',\n",
    "7: 'muốn đổi thông tin',\n",
    "8: 'muốn đổi chứng minh nhân dân',\n",
    "9: 'muốn đổi email hoặc đổi số điện thoại',\n",
    "10: 'xin giá phí',\n",
    "11: 'phàn nàn không hài lòng',\n",
    "12: 'cần tổng đài tư vấn trực tiếp',\n",
    "13: 'hỏi địa chỉ chi nhánh',\n",
    "14: 'chưa sử dụng và muốn biết về các dịch vụ thẻ',\n",
    "15: 'đăng kí mở thẻ',\n",
    "16: 'hỏi ưu đãi khuyến mãi',\n",
    "17: 'kiểm tra thông tin hồ sơ thẻ',\n",
    "18: 'kiểm tra giao nhận',\n",
    "19: 'tiếng nước ngoài',\n",
    "20: 'không liên quan'}\n",
    "label_descript"
   ]
  },
  {
   "cell_type": "code",
   "execution_count": 38,
   "id": "4cc0e19c-fd43-4dd6-818d-f71ed698ecde",
   "metadata": {
    "tags": []
   },
   "outputs": [],
   "source": [
    "text_list = []\n",
    "label_des_list = []\n",
    "for item in label_descript.items():\n",
    "    text_list.append(item[1])\n",
    "    label_des_list.append(item[0])"
   ]
  },
  {
   "cell_type": "code",
   "execution_count": 39,
   "id": "19541d8c-faef-4f3f-9d2e-19e28fca044e",
   "metadata": {
    "tags": []
   },
   "outputs": [
    {
     "data": {
      "text/html": [
       "<div>\n",
       "<style scoped>\n",
       "    .dataframe tbody tr th:only-of-type {\n",
       "        vertical-align: middle;\n",
       "    }\n",
       "\n",
       "    .dataframe tbody tr th {\n",
       "        vertical-align: top;\n",
       "    }\n",
       "\n",
       "    .dataframe thead th {\n",
       "        text-align: right;\n",
       "    }\n",
       "</style>\n",
       "<table border=\"1\" class=\"dataframe\">\n",
       "  <thead>\n",
       "    <tr style=\"text-align: right;\">\n",
       "      <th></th>\n",
       "      <th>text</th>\n",
       "      <th>label</th>\n",
       "    </tr>\n",
       "  </thead>\n",
       "  <tbody>\n",
       "    <tr>\n",
       "      <th>0</th>\n",
       "      <td>chào hỏi làm quen và muốn hỏi</td>\n",
       "      <td>0</td>\n",
       "    </tr>\n",
       "    <tr>\n",
       "      <th>1</th>\n",
       "      <td>muốn kết thúc trò chuyện</td>\n",
       "      <td>1</td>\n",
       "    </tr>\n",
       "    <tr>\n",
       "      <th>2</th>\n",
       "      <td>cảm ơn và hài lòng dịch vụ</td>\n",
       "      <td>2</td>\n",
       "    </tr>\n",
       "    <tr>\n",
       "      <th>3</th>\n",
       "      <td>xác nhận</td>\n",
       "      <td>3</td>\n",
       "    </tr>\n",
       "    <tr>\n",
       "      <th>4</th>\n",
       "      <td>từ chối</td>\n",
       "      <td>4</td>\n",
       "    </tr>\n",
       "    <tr>\n",
       "      <th>5</th>\n",
       "      <td>tâm trạng tốt</td>\n",
       "      <td>5</td>\n",
       "    </tr>\n",
       "    <tr>\n",
       "      <th>6</th>\n",
       "      <td>đã sử dụng hoặc muốn biết về các thông tin chung</td>\n",
       "      <td>6</td>\n",
       "    </tr>\n",
       "    <tr>\n",
       "      <th>7</th>\n",
       "      <td>muốn đổi thông tin</td>\n",
       "      <td>7</td>\n",
       "    </tr>\n",
       "    <tr>\n",
       "      <th>8</th>\n",
       "      <td>muốn đổi chứng minh nhân dân</td>\n",
       "      <td>8</td>\n",
       "    </tr>\n",
       "    <tr>\n",
       "      <th>9</th>\n",
       "      <td>muốn đổi email hoặc đổi số điện thoại</td>\n",
       "      <td>9</td>\n",
       "    </tr>\n",
       "    <tr>\n",
       "      <th>10</th>\n",
       "      <td>xin giá phí</td>\n",
       "      <td>10</td>\n",
       "    </tr>\n",
       "    <tr>\n",
       "      <th>11</th>\n",
       "      <td>phàn nàn không hài lòng</td>\n",
       "      <td>11</td>\n",
       "    </tr>\n",
       "    <tr>\n",
       "      <th>12</th>\n",
       "      <td>cần tổng đài tư vấn trực tiếp</td>\n",
       "      <td>12</td>\n",
       "    </tr>\n",
       "    <tr>\n",
       "      <th>13</th>\n",
       "      <td>hỏi địa chỉ chi nhánh</td>\n",
       "      <td>13</td>\n",
       "    </tr>\n",
       "    <tr>\n",
       "      <th>14</th>\n",
       "      <td>chưa sử dụng và muốn biết về các dịch vụ thẻ</td>\n",
       "      <td>14</td>\n",
       "    </tr>\n",
       "    <tr>\n",
       "      <th>15</th>\n",
       "      <td>đăng kí mở thẻ</td>\n",
       "      <td>15</td>\n",
       "    </tr>\n",
       "    <tr>\n",
       "      <th>16</th>\n",
       "      <td>hỏi ưu đãi khuyến mãi</td>\n",
       "      <td>16</td>\n",
       "    </tr>\n",
       "    <tr>\n",
       "      <th>17</th>\n",
       "      <td>kiểm tra thông tin hồ sơ thẻ</td>\n",
       "      <td>17</td>\n",
       "    </tr>\n",
       "    <tr>\n",
       "      <th>18</th>\n",
       "      <td>kiểm tra giao nhận</td>\n",
       "      <td>18</td>\n",
       "    </tr>\n",
       "    <tr>\n",
       "      <th>19</th>\n",
       "      <td>tiếng nước ngoài</td>\n",
       "      <td>19</td>\n",
       "    </tr>\n",
       "    <tr>\n",
       "      <th>20</th>\n",
       "      <td>không liên quan</td>\n",
       "      <td>20</td>\n",
       "    </tr>\n",
       "  </tbody>\n",
       "</table>\n",
       "</div>"
      ],
      "text/plain": [
       "                                                text  label\n",
       "0                      chào hỏi làm quen và muốn hỏi      0\n",
       "1                           muốn kết thúc trò chuyện      1\n",
       "2                         cảm ơn và hài lòng dịch vụ      2\n",
       "3                                           xác nhận      3\n",
       "4                                            từ chối      4\n",
       "5                                      tâm trạng tốt      5\n",
       "6   đã sử dụng hoặc muốn biết về các thông tin chung      6\n",
       "7                                 muốn đổi thông tin      7\n",
       "8                       muốn đổi chứng minh nhân dân      8\n",
       "9              muốn đổi email hoặc đổi số điện thoại      9\n",
       "10                                       xin giá phí     10\n",
       "11                           phàn nàn không hài lòng     11\n",
       "12                     cần tổng đài tư vấn trực tiếp     12\n",
       "13                             hỏi địa chỉ chi nhánh     13\n",
       "14      chưa sử dụng và muốn biết về các dịch vụ thẻ     14\n",
       "15                                    đăng kí mở thẻ     15\n",
       "16                             hỏi ưu đãi khuyến mãi     16\n",
       "17                      kiểm tra thông tin hồ sơ thẻ     17\n",
       "18                                kiểm tra giao nhận     18\n",
       "19                                  tiếng nước ngoài     19\n",
       "20                                   không liên quan     20"
      ]
     },
     "execution_count": 39,
     "metadata": {},
     "output_type": "execute_result"
    }
   ],
   "source": [
    "label_descript_df = pd.DataFrame({'text': text_list, 'label': label_des_list})\n",
    "label_descript_df"
   ]
  },
  {
   "cell_type": "code",
   "execution_count": 40,
   "id": "511370c6-7a8f-46af-b420-be09cf80b9b2",
   "metadata": {
    "tags": []
   },
   "outputs": [
    {
     "data": {
      "text/html": [
       "<div>\n",
       "<style scoped>\n",
       "    .dataframe tbody tr th:only-of-type {\n",
       "        vertical-align: middle;\n",
       "    }\n",
       "\n",
       "    .dataframe tbody tr th {\n",
       "        vertical-align: top;\n",
       "    }\n",
       "\n",
       "    .dataframe thead th {\n",
       "        text-align: right;\n",
       "    }\n",
       "</style>\n",
       "<table border=\"1\" class=\"dataframe\">\n",
       "  <thead>\n",
       "    <tr style=\"text-align: right;\">\n",
       "      <th></th>\n",
       "      <th>label</th>\n",
       "      <th>text</th>\n",
       "      <th>concat_text</th>\n",
       "    </tr>\n",
       "  </thead>\n",
       "  <tbody>\n",
       "    <tr>\n",
       "      <th>0</th>\n",
       "      <td>0</td>\n",
       "      <td>tư vấn giúp mình với</td>\n",
       "      <td>tư_vấn giúp mình với</td>\n",
       "    </tr>\n",
       "    <tr>\n",
       "      <th>1</th>\n",
       "      <td>0</td>\n",
       "      <td>hi</td>\n",
       "      <td>hi</td>\n",
       "    </tr>\n",
       "    <tr>\n",
       "      <th>2</th>\n",
       "      <td>0</td>\n",
       "      <td>hi ad</td>\n",
       "      <td>hi_ad</td>\n",
       "    </tr>\n",
       "    <tr>\n",
       "      <th>3</th>\n",
       "      <td>0</td>\n",
       "      <td>chào buổi sáng</td>\n",
       "      <td>chào buổi sáng</td>\n",
       "    </tr>\n",
       "    <tr>\n",
       "      <th>4</th>\n",
       "      <td>0</td>\n",
       "      <td>hello</td>\n",
       "      <td>hello</td>\n",
       "    </tr>\n",
       "    <tr>\n",
       "      <th>...</th>\n",
       "      <td>...</td>\n",
       "      <td>...</td>\n",
       "      <td>...</td>\n",
       "    </tr>\n",
       "    <tr>\n",
       "      <th>875</th>\n",
       "      <td>16</td>\n",
       "      <td>hỏi ưu đãi khuyến mãi</td>\n",
       "      <td>NaN</td>\n",
       "    </tr>\n",
       "    <tr>\n",
       "      <th>876</th>\n",
       "      <td>17</td>\n",
       "      <td>kiểm tra thông tin hồ sơ thẻ</td>\n",
       "      <td>NaN</td>\n",
       "    </tr>\n",
       "    <tr>\n",
       "      <th>877</th>\n",
       "      <td>18</td>\n",
       "      <td>kiểm tra giao nhận</td>\n",
       "      <td>NaN</td>\n",
       "    </tr>\n",
       "    <tr>\n",
       "      <th>878</th>\n",
       "      <td>19</td>\n",
       "      <td>tiếng nước ngoài</td>\n",
       "      <td>NaN</td>\n",
       "    </tr>\n",
       "    <tr>\n",
       "      <th>879</th>\n",
       "      <td>20</td>\n",
       "      <td>không liên quan</td>\n",
       "      <td>NaN</td>\n",
       "    </tr>\n",
       "  </tbody>\n",
       "</table>\n",
       "<p>880 rows × 3 columns</p>\n",
       "</div>"
      ],
      "text/plain": [
       "     label                          text           concat_text\n",
       "0        0          tư vấn giúp mình với  tư_vấn giúp mình với\n",
       "1        0                            hi                    hi\n",
       "2        0                         hi ad                 hi_ad\n",
       "3        0                chào buổi sáng        chào buổi sáng\n",
       "4        0                         hello                 hello\n",
       "..     ...                           ...                   ...\n",
       "875     16         hỏi ưu đãi khuyến mãi                   NaN\n",
       "876     17  kiểm tra thông tin hồ sơ thẻ                   NaN\n",
       "877     18            kiểm tra giao nhận                   NaN\n",
       "878     19              tiếng nước ngoài                   NaN\n",
       "879     20               không liên quan                   NaN\n",
       "\n",
       "[880 rows x 3 columns]"
      ]
     },
     "execution_count": 40,
     "metadata": {},
     "output_type": "execute_result"
    }
   ],
   "source": [
    "train_df = pd.concat([train_df, label_descript_df], ignore_index = True)\n",
    "train_df"
   ]
  },
  {
   "cell_type": "code",
   "execution_count": 41,
   "id": "9c68b0d0-2757-4abb-ae75-3ab0f7cc49d9",
   "metadata": {
    "tags": []
   },
   "outputs": [],
   "source": [
    "train_df['concat_text'] = train_df.apply(lambda x: preprocess_text(x), axis = 1)"
   ]
  },
  {
   "cell_type": "code",
   "execution_count": 42,
   "id": "04b939c4-f793-4052-836e-d884d58c486f",
   "metadata": {
    "tags": []
   },
   "outputs": [
    {
     "data": {
      "text/html": [
       "<div>\n",
       "<style scoped>\n",
       "    .dataframe tbody tr th:only-of-type {\n",
       "        vertical-align: middle;\n",
       "    }\n",
       "\n",
       "    .dataframe tbody tr th {\n",
       "        vertical-align: top;\n",
       "    }\n",
       "\n",
       "    .dataframe thead th {\n",
       "        text-align: right;\n",
       "    }\n",
       "</style>\n",
       "<table border=\"1\" class=\"dataframe\">\n",
       "  <thead>\n",
       "    <tr style=\"text-align: right;\">\n",
       "      <th></th>\n",
       "      <th>Unnamed: 0</th>\n",
       "      <th>label</th>\n",
       "      <th>message</th>\n",
       "      <th>predict_label</th>\n",
       "      <th>message_clean</th>\n",
       "    </tr>\n",
       "  </thead>\n",
       "  <tbody>\n",
       "    <tr>\n",
       "      <th>0</th>\n",
       "      <td>0</td>\n",
       "      <td>greetings</td>\n",
       "      <td>chào bạn cho mình hỏi chút với ạ</td>\n",
       "      <td>greetings</td>\n",
       "      <td>chào bạn cho mình hỏi chút với ạ</td>\n",
       "    </tr>\n",
       "    <tr>\n",
       "      <th>1</th>\n",
       "      <td>1</td>\n",
       "      <td>greetings</td>\n",
       "      <td>xin chào mình là Nghĩa</td>\n",
       "      <td>greetings</td>\n",
       "      <td>xin chào mình là nghĩa</td>\n",
       "    </tr>\n",
       "    <tr>\n",
       "      <th>2</th>\n",
       "      <td>2</td>\n",
       "      <td>greetings</td>\n",
       "      <td>tên t là Thảo</td>\n",
       "      <td>greetings</td>\n",
       "      <td>tên tôi là thảo</td>\n",
       "    </tr>\n",
       "    <tr>\n",
       "      <th>3</th>\n",
       "      <td>3</td>\n",
       "      <td>greetings</td>\n",
       "      <td>b có thể giúp tôi được không</td>\n",
       "      <td>outofscoreother</td>\n",
       "      <td>bạn có thể giúp tôi được không</td>\n",
       "    </tr>\n",
       "    <tr>\n",
       "      <th>4</th>\n",
       "      <td>4</td>\n",
       "      <td>greetings</td>\n",
       "      <td>t cần hỏi một số việc</td>\n",
       "      <td>mainmenu</td>\n",
       "      <td>tôi cần hỏi một số việc</td>\n",
       "    </tr>\n",
       "  </tbody>\n",
       "</table>\n",
       "</div>"
      ],
      "text/plain": [
       "   Unnamed: 0      label                           message    predict_label  \\\n",
       "0           0  greetings  chào bạn cho mình hỏi chút với ạ        greetings   \n",
       "1           1  greetings            xin chào mình là Nghĩa        greetings   \n",
       "2           2  greetings                     tên t là Thảo        greetings   \n",
       "3           3  greetings      b có thể giúp tôi được không  outofscoreother   \n",
       "4           4  greetings             t cần hỏi một số việc         mainmenu   \n",
       "\n",
       "                      message_clean  \n",
       "0  chào bạn cho mình hỏi chút với ạ  \n",
       "1            xin chào mình là nghĩa  \n",
       "2                   tên tôi là thảo  \n",
       "3    bạn có thể giúp tôi được không  \n",
       "4           tôi cần hỏi một số việc  "
      ]
     },
     "execution_count": 42,
     "metadata": {},
     "output_type": "execute_result"
    }
   ],
   "source": [
    "test_df = pd.read_csv('./data/test.csv')\n",
    "test_df.head()"
   ]
  },
  {
   "cell_type": "code",
   "execution_count": 43,
   "id": "3cfa16fe-ade7-454c-a577-722557da2f41",
   "metadata": {
    "tags": []
   },
   "outputs": [],
   "source": [
    "# text_list = []\n",
    "# label_test_list = []\n",
    "# for k in test_df.keys():\n",
    "#     text_list.extend(test_df[k])\n",
    "#     label_test_list.extend([label_list.index(k)] * len(test_df[k]))"
   ]
  },
  {
   "cell_type": "code",
   "execution_count": 44,
   "id": "3d980317-2c27-4d19-8b9f-22828b345039",
   "metadata": {
    "tags": []
   },
   "outputs": [],
   "source": [
    "# test_df = pd.DataFrame(list(zip(text_list, label_test_list)), columns = ['text', 'label'])\n",
    "# test_df.head()"
   ]
  },
  {
   "cell_type": "code",
   "execution_count": 45,
   "id": "5a3b4956-f5cf-4a5a-9eb8-658122dc3e14",
   "metadata": {
    "tags": []
   },
   "outputs": [],
   "source": [
    "# test_df.drop(columns = ['text'], inplace =True)\n",
    "test_df.rename(columns = {\"message_clean\":\"text\"}, inplace = True)"
   ]
  },
  {
   "cell_type": "code",
   "execution_count": 46,
   "id": "2c551c52-d9e4-4d86-b292-a4a377010607",
   "metadata": {
    "tags": []
   },
   "outputs": [],
   "source": [
    "test_df['concat_text'] = test_df.apply(lambda x: preprocess_text(x), axis = 1)"
   ]
  },
  {
   "cell_type": "code",
   "execution_count": 47,
   "id": "da6a57e0-538b-4105-94b1-e542920fed49",
   "metadata": {
    "tags": []
   },
   "outputs": [
    {
     "data": {
      "text/html": [
       "<div>\n",
       "<style scoped>\n",
       "    .dataframe tbody tr th:only-of-type {\n",
       "        vertical-align: middle;\n",
       "    }\n",
       "\n",
       "    .dataframe tbody tr th {\n",
       "        vertical-align: top;\n",
       "    }\n",
       "\n",
       "    .dataframe thead th {\n",
       "        text-align: right;\n",
       "    }\n",
       "</style>\n",
       "<table border=\"1\" class=\"dataframe\">\n",
       "  <thead>\n",
       "    <tr style=\"text-align: right;\">\n",
       "      <th></th>\n",
       "      <th>Unnamed: 0</th>\n",
       "      <th>label</th>\n",
       "      <th>message</th>\n",
       "      <th>predict_label</th>\n",
       "      <th>text</th>\n",
       "      <th>concat_text</th>\n",
       "    </tr>\n",
       "  </thead>\n",
       "  <tbody>\n",
       "    <tr>\n",
       "      <th>0</th>\n",
       "      <td>0</td>\n",
       "      <td>greetings</td>\n",
       "      <td>chào bạn cho mình hỏi chút với ạ</td>\n",
       "      <td>greetings</td>\n",
       "      <td>chào bạn cho mình hỏi chút với ạ</td>\n",
       "      <td>chào bạn cho mình hỏi chút với ạ</td>\n",
       "    </tr>\n",
       "    <tr>\n",
       "      <th>1</th>\n",
       "      <td>1</td>\n",
       "      <td>greetings</td>\n",
       "      <td>xin chào mình là Nghĩa</td>\n",
       "      <td>greetings</td>\n",
       "      <td>xin chào mình là nghĩa</td>\n",
       "      <td>xin chào mình là nghĩa</td>\n",
       "    </tr>\n",
       "    <tr>\n",
       "      <th>2</th>\n",
       "      <td>2</td>\n",
       "      <td>greetings</td>\n",
       "      <td>tên t là Thảo</td>\n",
       "      <td>greetings</td>\n",
       "      <td>tên tôi là thảo</td>\n",
       "      <td>tên tôi là thảo</td>\n",
       "    </tr>\n",
       "    <tr>\n",
       "      <th>3</th>\n",
       "      <td>3</td>\n",
       "      <td>greetings</td>\n",
       "      <td>b có thể giúp tôi được không</td>\n",
       "      <td>outofscoreother</td>\n",
       "      <td>bạn có thể giúp tôi được không</td>\n",
       "      <td>bạn có_thể giúp tôi được không</td>\n",
       "    </tr>\n",
       "    <tr>\n",
       "      <th>4</th>\n",
       "      <td>4</td>\n",
       "      <td>greetings</td>\n",
       "      <td>t cần hỏi một số việc</td>\n",
       "      <td>mainmenu</td>\n",
       "      <td>tôi cần hỏi một số việc</td>\n",
       "      <td>tôi cần hỏi một_số việc</td>\n",
       "    </tr>\n",
       "  </tbody>\n",
       "</table>\n",
       "</div>"
      ],
      "text/plain": [
       "   Unnamed: 0      label                           message    predict_label  \\\n",
       "0           0  greetings  chào bạn cho mình hỏi chút với ạ        greetings   \n",
       "1           1  greetings            xin chào mình là Nghĩa        greetings   \n",
       "2           2  greetings                     tên t là Thảo        greetings   \n",
       "3           3  greetings      b có thể giúp tôi được không  outofscoreother   \n",
       "4           4  greetings             t cần hỏi một số việc         mainmenu   \n",
       "\n",
       "                               text                       concat_text  \n",
       "0  chào bạn cho mình hỏi chút với ạ  chào bạn cho mình hỏi chút với ạ  \n",
       "1            xin chào mình là nghĩa            xin chào mình là nghĩa  \n",
       "2                   tên tôi là thảo                   tên tôi là thảo  \n",
       "3    bạn có thể giúp tôi được không    bạn có_thể giúp tôi được không  \n",
       "4           tôi cần hỏi một số việc           tôi cần hỏi một_số việc  "
      ]
     },
     "execution_count": 47,
     "metadata": {},
     "output_type": "execute_result"
    }
   ],
   "source": [
    "test_df.head()"
   ]
  },
  {
   "cell_type": "code",
   "execution_count": 48,
   "id": "2ffb0044-0888-4e19-aa1e-95c91040a0de",
   "metadata": {
    "tags": []
   },
   "outputs": [
    {
     "data": {
      "text/html": [
       "<div>\n",
       "<style scoped>\n",
       "    .dataframe tbody tr th:only-of-type {\n",
       "        vertical-align: middle;\n",
       "    }\n",
       "\n",
       "    .dataframe tbody tr th {\n",
       "        vertical-align: top;\n",
       "    }\n",
       "\n",
       "    .dataframe thead th {\n",
       "        text-align: right;\n",
       "    }\n",
       "</style>\n",
       "<table border=\"1\" class=\"dataframe\">\n",
       "  <thead>\n",
       "    <tr style=\"text-align: right;\">\n",
       "      <th></th>\n",
       "      <th>label</th>\n",
       "      <th>text</th>\n",
       "      <th>concat_text</th>\n",
       "    </tr>\n",
       "  </thead>\n",
       "  <tbody>\n",
       "    <tr>\n",
       "      <th>0</th>\n",
       "      <td>0</td>\n",
       "      <td>tư vấn giúp mình với</td>\n",
       "      <td>tư_vấn giúp mình với</td>\n",
       "    </tr>\n",
       "    <tr>\n",
       "      <th>1</th>\n",
       "      <td>0</td>\n",
       "      <td>hi</td>\n",
       "      <td>hi</td>\n",
       "    </tr>\n",
       "    <tr>\n",
       "      <th>2</th>\n",
       "      <td>0</td>\n",
       "      <td>hi ad</td>\n",
       "      <td>hi_ad</td>\n",
       "    </tr>\n",
       "    <tr>\n",
       "      <th>3</th>\n",
       "      <td>0</td>\n",
       "      <td>chào buổi sáng</td>\n",
       "      <td>chào buổi sáng</td>\n",
       "    </tr>\n",
       "    <tr>\n",
       "      <th>4</th>\n",
       "      <td>0</td>\n",
       "      <td>hello</td>\n",
       "      <td>hello</td>\n",
       "    </tr>\n",
       "  </tbody>\n",
       "</table>\n",
       "</div>"
      ],
      "text/plain": [
       "   label                  text           concat_text\n",
       "0      0  tư vấn giúp mình với  tư_vấn giúp mình với\n",
       "1      0                    hi                    hi\n",
       "2      0                 hi ad                 hi_ad\n",
       "3      0        chào buổi sáng        chào buổi sáng\n",
       "4      0                 hello                 hello"
      ]
     },
     "execution_count": 48,
     "metadata": {},
     "output_type": "execute_result"
    }
   ],
   "source": [
    "train_df = train_df.reset_index(drop=True)\n",
    "test_df = test_df.reset_index(drop=True)\n",
    "train_df.head()"
   ]
  },
  {
   "cell_type": "code",
   "execution_count": 49,
   "id": "ccc6435b-c854-46c9-9ac9-82b5a2c5cb25",
   "metadata": {
    "tags": []
   },
   "outputs": [],
   "source": [
    "from datasets import Dataset"
   ]
  },
  {
   "cell_type": "code",
   "execution_count": 50,
   "id": "db603f39-d7f8-40ba-b99b-e6666d63c8a1",
   "metadata": {
    "tags": []
   },
   "outputs": [],
   "source": [
    "train_dataset = Dataset.from_pandas(train_df)\n",
    "test_dataset = Dataset.from_pandas(test_df)"
   ]
  },
  {
   "cell_type": "code",
   "execution_count": 51,
   "id": "2b45ec5a-81c5-43c2-8e17-f84b60617c81",
   "metadata": {
    "tags": []
   },
   "outputs": [
    {
     "name": "stdout",
     "output_type": "stream",
     "text": [
      "20    211\n",
      "18    163\n",
      "7     119\n",
      "0      53\n",
      "14     41\n",
      "19     40\n",
      "11     35\n",
      "15     24\n",
      "13     23\n",
      "2      20\n",
      "8      19\n",
      "9      19\n",
      "1      19\n",
      "10     16\n",
      "12     15\n",
      "3      15\n",
      "5      12\n",
      "4      11\n",
      "6      10\n",
      "16      9\n",
      "17      6\n",
      "Name: label, dtype: int64\n",
      "greetings                     18\n",
      "submenuthongtinemailphone     16\n",
      "submenuthongtin               15\n",
      "submenuthongtinID             14\n",
      "thanks                        12\n",
      "affirm                        12\n",
      "cardproductmainmenu           12\n",
      "branchlocation                12\n",
      "submenulienhetuvan            12\n",
      "submenubieuphi                12\n",
      "goodbye                       12\n",
      "mainmenu                      11\n",
      "moodgreat                     11\n",
      "deny                          11\n",
      "cardproductdangkythe          11\n",
      "cardproductkiemtragiaonhan    11\n",
      "submenucomplain               10\n",
      "cardproductkiemtrahoso         9\n",
      "cardproductkhuyenmai           7\n",
      "Name: label, dtype: int64\n"
     ]
    }
   ],
   "source": [
    "print(train_df['label'].value_counts())\n",
    "print(test_df['label'].value_counts())"
   ]
  },
  {
   "cell_type": "code",
   "execution_count": 52,
   "id": "cd807419-a257-4cc2-aa98-be1450c0b60d",
   "metadata": {
    "tags": []
   },
   "outputs": [
    {
     "name": "stderr",
     "output_type": "stream",
     "text": [
      "No sentence-transformers model found with name /home/nghiatl/.cache/torch/sentence_transformers/VoVanPhuc_sup-SimCSE-VietNamese-phobert-base. Creating a new one with MEAN pooling.\n",
      "Some weights of the model checkpoint at /home/nghiatl/.cache/torch/sentence_transformers/VoVanPhuc_sup-SimCSE-VietNamese-phobert-base were not used when initializing RobertaModel: ['mlp.dense.bias', 'mlp.dense.weight']\n",
      "- This IS expected if you are initializing RobertaModel from the checkpoint of a model trained on another task or with another architecture (e.g. initializing a BertForSequenceClassification model from a BertForPreTraining model).\n",
      "- This IS NOT expected if you are initializing RobertaModel from the checkpoint of a model that you expect to be exactly identical (initializing a BertForSequenceClassification model from a BertForSequenceClassification model).\n",
      "model_head.pkl not found on HuggingFace Hub, initialising classification head with random weights. You should TRAIN this model on a downstream task to use it for predictions and inference.\n"
     ]
    }
   ],
   "source": [
    "num_classes = len(label_list)\n",
    "\n",
    "model = SetFitModel.from_pretrained(\n",
    "    \"VoVanPhuc/sup-SimCSE-VietNamese-phobert-base\",\n",
    "    use_differentiable_head=True,\n",
    "    head_params={\"out_features\": num_classes},\n",
    ")"
   ]
  },
  {
   "cell_type": "code",
   "execution_count": 53,
   "id": "87764b68-f8ba-4b58-8c28-2e9cc1ae8df2",
   "metadata": {
    "tags": []
   },
   "outputs": [],
   "source": [
    "config = dict(\n",
    "    model=\"sentence-transformers/paraphrase-mpnet-base-v2\",\n",
    "    metric=\"f1\",\n",
    "    batch_size=16,\n",
    "    num_iterations=20,\n",
    "    num_epochs=1,\n",
    "    body_learning_rate=1e-5, # The body's learning rate\n",
    "    learning_rate=1e-2, # The head's learning rate\n",
    "    l2_weight=0.0, # Weight decay on **both** the body and head. If `None`, will use 0.01.\n",
    "    mixed_precision=True,\n",
    ")"
   ]
  },
  {
   "cell_type": "code",
   "execution_count": 54,
   "id": "bb6df635-3355-4a1f-bb7a-8f4192d436ef",
   "metadata": {
    "tags": []
   },
   "outputs": [],
   "source": [
    "trainer = SetFitTrainer(\n",
    "        model=model,\n",
    "        train_dataset=train_dataset,\n",
    "        eval_dataset=test_dataset,\n",
    "        loss_class=CosineSimilarityLoss,\n",
    "        metric=config[\"metric\"],\n",
    "        batch_size=config[\"batch_size\"],\n",
    "        num_iterations=config[\"num_iterations\"],\n",
    "        num_epochs=config[\"num_epochs\"],\n",
    "        column_mapping={\"text\": \"text\", \"label\": \"label\"}\n",
    "    )"
   ]
  },
  {
   "cell_type": "code",
   "execution_count": 55,
   "id": "34bb436d-edea-4f7b-a268-3b7f245e7ad6",
   "metadata": {
    "tags": []
   },
   "outputs": [
    {
     "data": {
      "text/plain": [
       "21"
      ]
     },
     "execution_count": 55,
     "metadata": {},
     "output_type": "execute_result"
    }
   ],
   "source": [
    "len(label_list)"
   ]
  },
  {
   "cell_type": "code",
   "execution_count": 56,
   "id": "fe89b082-4424-4fcc-ae90-04992460efa1",
   "metadata": {
    "tags": []
   },
   "outputs": [
    {
     "name": "stderr",
     "output_type": "stream",
     "text": [
      "Applying column mapping to training dataset\n",
      "***** Running training *****\n",
      "  Num examples = 35200\n",
      "  Num epochs = 1\n",
      "  Total optimization steps = 2200\n",
      "  Total train batch size = 16\n"
     ]
    },
    {
     "data": {
      "application/vnd.jupyter.widget-view+json": {
       "model_id": "f1d6453207ab492aab5190f1d457385f",
       "version_major": 2,
       "version_minor": 0
      },
      "text/plain": [
       "Epoch:   0%|          | 0/1 [00:00<?, ?it/s]"
      ]
     },
     "metadata": {},
     "output_type": "display_data"
    },
    {
     "data": {
      "application/vnd.jupyter.widget-view+json": {
       "model_id": "a1eb92494e4f4576951d2c06ff9c36be",
       "version_major": 2,
       "version_minor": 0
      },
      "text/plain": [
       "Iteration:   0%|          | 0/2200 [00:00<?, ?it/s]"
      ]
     },
     "metadata": {},
     "output_type": "display_data"
    }
   ],
   "source": [
    "trainer.freeze() # Freeze the head\n",
    "trainer.train(\n",
    "        body_learning_rate=config[\"body_learning_rate\"],\n",
    "        num_epochs=config[\"num_epochs\"]\n",
    "    )"
   ]
  },
  {
   "cell_type": "code",
   "execution_count": 57,
   "id": "b0176c76-055d-4cad-a191-9169df498524",
   "metadata": {
    "tags": []
   },
   "outputs": [],
   "source": [
    "# Unfreeze the head and freeze the body -> head-only training\n",
    "trainer.unfreeze(keep_body_frozen=True)\n",
    "# or\n",
    "# Unfreeze the head and unfreeze the body -> end-to-end training\n",
    "# trainer.unfreeze(keep_body_frozen=False)"
   ]
  },
  {
   "cell_type": "code",
   "execution_count": 58,
   "id": "da8f3091-c5e1-4dac-acba-577dd682f302",
   "metadata": {
    "tags": []
   },
   "outputs": [
    {
     "data": {
      "text/plain": [
       "'accuracy'"
      ]
     },
     "execution_count": 58,
     "metadata": {},
     "output_type": "execute_result"
    }
   ],
   "source": [
    "trainer.metric = 'accuracy'\n",
    "trainer.metric"
   ]
  },
  {
   "cell_type": "code",
   "execution_count": 59,
   "id": "fd4baaf7-f4a2-46ec-8feb-75f4b9a775f2",
   "metadata": {
    "tags": []
   },
   "outputs": [],
   "source": [
    "import tqdm as notebook_tqdm"
   ]
  },
  {
   "cell_type": "code",
   "execution_count": 60,
   "id": "1155cb23-da9d-42e4-b1f0-ceb7b438ce72",
   "metadata": {
    "tags": []
   },
   "outputs": [
    {
     "name": "stderr",
     "output_type": "stream",
     "text": [
      "Applying column mapping to training dataset\n",
      "The `max_length` is `None`. Using the maximum acceptable length according to the current model body: 256.\n"
     ]
    },
    {
     "data": {
      "application/vnd.jupyter.widget-view+json": {
       "model_id": "2ce3e862db8d494bb09792af1d6a695a",
       "version_major": 2,
       "version_minor": 0
      },
      "text/plain": [
       "Epoch:   0%|          | 0/50 [00:00<?, ?it/s]"
      ]
     },
     "metadata": {},
     "output_type": "display_data"
    },
    {
     "name": "stderr",
     "output_type": "stream",
     "text": [
      "Applying column mapping to evaluation dataset\n",
      "***** Running evaluation *****\n"
     ]
    },
    {
     "ename": "ValueError",
     "evalue": "invalid literal for int() with base 10: 'greetings'",
     "output_type": "error",
     "traceback": [
      "\u001b[0;31m---------------------------------------------------------------------------\u001b[0m",
      "\u001b[0;31mValueError\u001b[0m                                Traceback (most recent call last)",
      "Cell \u001b[0;32mIn[60], line 2\u001b[0m\n\u001b[1;32m      1\u001b[0m trainer\u001b[38;5;241m.\u001b[39mtrain(learning_rate\u001b[38;5;241m=\u001b[39m\u001b[38;5;241m1e-2\u001b[39m, num_epochs\u001b[38;5;241m=\u001b[39m\u001b[38;5;241m50\u001b[39m)\n\u001b[0;32m----> 2\u001b[0m metrics \u001b[38;5;241m=\u001b[39m \u001b[43mtrainer\u001b[49m\u001b[38;5;241;43m.\u001b[39;49m\u001b[43mevaluate\u001b[49m\u001b[43m(\u001b[49m\u001b[43m)\u001b[49m\n\u001b[1;32m      3\u001b[0m \u001b[38;5;28mprint\u001b[39m(metrics)\n",
      "File \u001b[0;32m/data2/nghiatl/anaconda3/envs/SEO/lib/python3.8/site-packages/setfit/trainer.py:421\u001b[0m, in \u001b[0;36mSetFitTrainer.evaluate\u001b[0;34m(self)\u001b[0m\n\u001b[1;32m    418\u001b[0m     metric_config \u001b[38;5;241m=\u001b[39m \u001b[38;5;124m\"\u001b[39m\u001b[38;5;124mmultilabel\u001b[39m\u001b[38;5;124m\"\u001b[39m \u001b[38;5;28;01mif\u001b[39;00m \u001b[38;5;28mself\u001b[39m\u001b[38;5;241m.\u001b[39mmodel\u001b[38;5;241m.\u001b[39mmulti_target_strategy \u001b[38;5;129;01mis\u001b[39;00m \u001b[38;5;129;01mnot\u001b[39;00m \u001b[38;5;28;01mNone\u001b[39;00m \u001b[38;5;28;01melse\u001b[39;00m \u001b[38;5;28;01mNone\u001b[39;00m\n\u001b[1;32m    419\u001b[0m     metric_fn \u001b[38;5;241m=\u001b[39m evaluate\u001b[38;5;241m.\u001b[39mload(\u001b[38;5;28mself\u001b[39m\u001b[38;5;241m.\u001b[39mmetric, config_name\u001b[38;5;241m=\u001b[39mmetric_config)\n\u001b[0;32m--> 421\u001b[0m     \u001b[38;5;28;01mreturn\u001b[39;00m \u001b[43mmetric_fn\u001b[49m\u001b[38;5;241;43m.\u001b[39;49m\u001b[43mcompute\u001b[49m\u001b[43m(\u001b[49m\u001b[43mpredictions\u001b[49m\u001b[38;5;241;43m=\u001b[39;49m\u001b[43my_pred\u001b[49m\u001b[43m,\u001b[49m\u001b[43m \u001b[49m\u001b[43mreferences\u001b[49m\u001b[38;5;241;43m=\u001b[39;49m\u001b[43my_test\u001b[49m\u001b[43m)\u001b[49m\n\u001b[1;32m    423\u001b[0m \u001b[38;5;28;01melif\u001b[39;00m callable(\u001b[38;5;28mself\u001b[39m\u001b[38;5;241m.\u001b[39mmetric):\n\u001b[1;32m    424\u001b[0m     \u001b[38;5;28;01mreturn\u001b[39;00m \u001b[38;5;28mself\u001b[39m\u001b[38;5;241m.\u001b[39mmetric(y_pred, y_test)\n",
      "File \u001b[0;32m/data2/nghiatl/anaconda3/envs/SEO/lib/python3.8/site-packages/evaluate/module.py:432\u001b[0m, in \u001b[0;36mEvaluationModule.compute\u001b[0;34m(self, predictions, references, **kwargs)\u001b[0m\n\u001b[1;32m    429\u001b[0m compute_kwargs \u001b[38;5;241m=\u001b[39m {k: kwargs[k] \u001b[38;5;28;01mfor\u001b[39;00m k \u001b[38;5;129;01min\u001b[39;00m kwargs \u001b[38;5;28;01mif\u001b[39;00m k \u001b[38;5;129;01mnot\u001b[39;00m \u001b[38;5;129;01min\u001b[39;00m \u001b[38;5;28mself\u001b[39m\u001b[38;5;241m.\u001b[39m_feature_names()}\n\u001b[1;32m    431\u001b[0m \u001b[38;5;28;01mif\u001b[39;00m \u001b[38;5;28many\u001b[39m(v \u001b[38;5;129;01mis\u001b[39;00m \u001b[38;5;129;01mnot\u001b[39;00m \u001b[38;5;28;01mNone\u001b[39;00m \u001b[38;5;28;01mfor\u001b[39;00m v \u001b[38;5;129;01min\u001b[39;00m inputs\u001b[38;5;241m.\u001b[39mvalues()):\n\u001b[0;32m--> 432\u001b[0m     \u001b[38;5;28;43mself\u001b[39;49m\u001b[38;5;241;43m.\u001b[39;49m\u001b[43madd_batch\u001b[49m\u001b[43m(\u001b[49m\u001b[38;5;241;43m*\u001b[39;49m\u001b[38;5;241;43m*\u001b[39;49m\u001b[43minputs\u001b[49m\u001b[43m)\u001b[49m\n\u001b[1;32m    433\u001b[0m \u001b[38;5;28mself\u001b[39m\u001b[38;5;241m.\u001b[39m_finalize()\n\u001b[1;32m    435\u001b[0m \u001b[38;5;28mself\u001b[39m\u001b[38;5;241m.\u001b[39mcache_file_name \u001b[38;5;241m=\u001b[39m \u001b[38;5;28;01mNone\u001b[39;00m\n",
      "File \u001b[0;32m/data2/nghiatl/anaconda3/envs/SEO/lib/python3.8/site-packages/evaluate/module.py:486\u001b[0m, in \u001b[0;36mEvaluationModule.add_batch\u001b[0;34m(self, predictions, references, **kwargs)\u001b[0m\n\u001b[1;32m    484\u001b[0m         \u001b[38;5;28;01mif\u001b[39;00m \u001b[38;5;28mlen\u001b[39m(column) \u001b[38;5;241m>\u001b[39m \u001b[38;5;241m0\u001b[39m:\n\u001b[1;32m    485\u001b[0m             \u001b[38;5;28mself\u001b[39m\u001b[38;5;241m.\u001b[39m_enforce_nested_string_type(\u001b[38;5;28mself\u001b[39m\u001b[38;5;241m.\u001b[39mselected_feature_format[key], column[\u001b[38;5;241m0\u001b[39m])\n\u001b[0;32m--> 486\u001b[0m     batch \u001b[38;5;241m=\u001b[39m \u001b[38;5;28;43mself\u001b[39;49m\u001b[38;5;241;43m.\u001b[39;49m\u001b[43mselected_feature_format\u001b[49m\u001b[38;5;241;43m.\u001b[39;49m\u001b[43mencode_batch\u001b[49m\u001b[43m(\u001b[49m\u001b[43mbatch\u001b[49m\u001b[43m)\u001b[49m\n\u001b[1;32m    487\u001b[0m     \u001b[38;5;28mself\u001b[39m\u001b[38;5;241m.\u001b[39mwriter\u001b[38;5;241m.\u001b[39mwrite_batch(batch)\n\u001b[1;32m    488\u001b[0m \u001b[38;5;28;01mexcept\u001b[39;00m (pa\u001b[38;5;241m.\u001b[39mArrowInvalid, \u001b[38;5;167;01mTypeError\u001b[39;00m):\n",
      "File \u001b[0;32m/data2/nghiatl/anaconda3/envs/SEO/lib/python3.8/site-packages/datasets/features/features.py:1829\u001b[0m, in \u001b[0;36mFeatures.encode_batch\u001b[0;34m(self, batch)\u001b[0m\n\u001b[1;32m   1827\u001b[0m \u001b[38;5;28;01mfor\u001b[39;00m key, column \u001b[38;5;129;01min\u001b[39;00m batch\u001b[38;5;241m.\u001b[39mitems():\n\u001b[1;32m   1828\u001b[0m     column \u001b[38;5;241m=\u001b[39m cast_to_python_objects(column)\n\u001b[0;32m-> 1829\u001b[0m     encoded_batch[key] \u001b[38;5;241m=\u001b[39m [encode_nested_example(\u001b[38;5;28mself\u001b[39m[key], obj) \u001b[38;5;28;01mfor\u001b[39;00m obj \u001b[38;5;129;01min\u001b[39;00m column]\n\u001b[1;32m   1830\u001b[0m \u001b[38;5;28;01mreturn\u001b[39;00m encoded_batch\n",
      "File \u001b[0;32m/data2/nghiatl/anaconda3/envs/SEO/lib/python3.8/site-packages/datasets/features/features.py:1829\u001b[0m, in \u001b[0;36m<listcomp>\u001b[0;34m(.0)\u001b[0m\n\u001b[1;32m   1827\u001b[0m \u001b[38;5;28;01mfor\u001b[39;00m key, column \u001b[38;5;129;01min\u001b[39;00m batch\u001b[38;5;241m.\u001b[39mitems():\n\u001b[1;32m   1828\u001b[0m     column \u001b[38;5;241m=\u001b[39m cast_to_python_objects(column)\n\u001b[0;32m-> 1829\u001b[0m     encoded_batch[key] \u001b[38;5;241m=\u001b[39m [\u001b[43mencode_nested_example\u001b[49m\u001b[43m(\u001b[49m\u001b[38;5;28;43mself\u001b[39;49m\u001b[43m[\u001b[49m\u001b[43mkey\u001b[49m\u001b[43m]\u001b[49m\u001b[43m,\u001b[49m\u001b[43m \u001b[49m\u001b[43mobj\u001b[49m\u001b[43m)\u001b[49m \u001b[38;5;28;01mfor\u001b[39;00m obj \u001b[38;5;129;01min\u001b[39;00m column]\n\u001b[1;32m   1830\u001b[0m \u001b[38;5;28;01mreturn\u001b[39;00m encoded_batch\n",
      "File \u001b[0;32m/data2/nghiatl/anaconda3/envs/SEO/lib/python3.8/site-packages/datasets/features/features.py:1268\u001b[0m, in \u001b[0;36mencode_nested_example\u001b[0;34m(schema, obj, level)\u001b[0m\n\u001b[1;32m   1265\u001b[0m \u001b[38;5;66;03m# Object with special encoding:\u001b[39;00m\n\u001b[1;32m   1266\u001b[0m \u001b[38;5;66;03m# ClassLabel will convert from string to int, TranslationVariableLanguages does some checks\u001b[39;00m\n\u001b[1;32m   1267\u001b[0m \u001b[38;5;28;01melif\u001b[39;00m \u001b[38;5;28misinstance\u001b[39m(schema, (Audio, Image, ClassLabel, TranslationVariableLanguages, Value, _ArrayXD)):\n\u001b[0;32m-> 1268\u001b[0m     \u001b[38;5;28;01mreturn\u001b[39;00m \u001b[43mschema\u001b[49m\u001b[38;5;241;43m.\u001b[39;49m\u001b[43mencode_example\u001b[49m\u001b[43m(\u001b[49m\u001b[43mobj\u001b[49m\u001b[43m)\u001b[49m \u001b[38;5;28;01mif\u001b[39;00m obj \u001b[38;5;129;01mis\u001b[39;00m \u001b[38;5;129;01mnot\u001b[39;00m \u001b[38;5;28;01mNone\u001b[39;00m \u001b[38;5;28;01melse\u001b[39;00m \u001b[38;5;28;01mNone\u001b[39;00m\n\u001b[1;32m   1269\u001b[0m \u001b[38;5;66;03m# Other object should be directly convertible to a native Arrow type (like Translation and Translation)\u001b[39;00m\n\u001b[1;32m   1270\u001b[0m \u001b[38;5;28;01mreturn\u001b[39;00m obj\n",
      "File \u001b[0;32m/data2/nghiatl/anaconda3/envs/SEO/lib/python3.8/site-packages/datasets/features/features.py:507\u001b[0m, in \u001b[0;36mValue.encode_example\u001b[0;34m(self, value)\u001b[0m\n\u001b[1;32m    505\u001b[0m     \u001b[38;5;28;01mreturn\u001b[39;00m \u001b[38;5;28mbool\u001b[39m(value)\n\u001b[1;32m    506\u001b[0m \u001b[38;5;28;01melif\u001b[39;00m pa\u001b[38;5;241m.\u001b[39mtypes\u001b[38;5;241m.\u001b[39mis_integer(\u001b[38;5;28mself\u001b[39m\u001b[38;5;241m.\u001b[39mpa_type):\n\u001b[0;32m--> 507\u001b[0m     \u001b[38;5;28;01mreturn\u001b[39;00m \u001b[38;5;28;43mint\u001b[39;49m\u001b[43m(\u001b[49m\u001b[43mvalue\u001b[49m\u001b[43m)\u001b[49m\n\u001b[1;32m    508\u001b[0m \u001b[38;5;28;01melif\u001b[39;00m pa\u001b[38;5;241m.\u001b[39mtypes\u001b[38;5;241m.\u001b[39mis_floating(\u001b[38;5;28mself\u001b[39m\u001b[38;5;241m.\u001b[39mpa_type):\n\u001b[1;32m    509\u001b[0m     \u001b[38;5;28;01mreturn\u001b[39;00m \u001b[38;5;28mfloat\u001b[39m(value)\n",
      "\u001b[0;31mValueError\u001b[0m: invalid literal for int() with base 10: 'greetings'"
     ]
    }
   ],
   "source": [
    "trainer.train(learning_rate=1e-2, num_epochs=50)\n",
    "metrics = trainer.evaluate()\n",
    "print(metrics)"
   ]
  },
  {
   "cell_type": "code",
   "execution_count": null,
   "id": "4d97e745-7517-4013-aad2-1b0a6b39270f",
   "metadata": {
    "tags": []
   },
   "outputs": [],
   "source": [
    "trainer"
   ]
  },
  {
   "cell_type": "code",
   "execution_count": null,
   "id": "a9580e17-88d6-445e-8023-03a41030d01f",
   "metadata": {
    "tags": []
   },
   "outputs": [],
   "source": [
    "trainer.model._save_pretrained('setfitckpt_embed_label_v1')"
   ]
  },
  {
   "cell_type": "code",
   "execution_count": 63,
   "id": "2c9c3b4e-1b2b-4017-97eb-78b65dba7893",
   "metadata": {
    "tags": []
   },
   "outputs": [],
   "source": [
    "import gc\n",
    "\n",
    "del model\n",
    "gc.collect()\n",
    "torch.cuda.empty_cache()"
   ]
  },
  {
   "cell_type": "code",
   "execution_count": 64,
   "id": "0fa7afa0-ceca-4ff7-9e50-86df2e4d6f15",
   "metadata": {
    "tags": []
   },
   "outputs": [],
   "source": [
    "model = SetFitModel.from_pretrained(\"setfitckpt_embed_label_v1\")"
   ]
  },
  {
   "cell_type": "code",
   "execution_count": 65,
   "id": "cf2d39f3-e25f-4d4f-b96d-d65c39c1cce8",
   "metadata": {
    "tags": []
   },
   "outputs": [
    {
     "data": {
      "text/plain": [
       "0     16\n",
       "9     16\n",
       "7     15\n",
       "8     14\n",
       "2     12\n",
       "3     12\n",
       "6     12\n",
       "1     12\n",
       "10    12\n",
       "12    12\n",
       "13    12\n",
       "4     11\n",
       "5     11\n",
       "15    11\n",
       "18    11\n",
       "14    10\n",
       "17     8\n",
       "16     7\n",
       "Name: label, dtype: int64"
      ]
     },
     "execution_count": 65,
     "metadata": {},
     "output_type": "execute_result"
    }
   ],
   "source": [
    "test_df['label'].value_counts()"
   ]
  },
  {
   "cell_type": "markdown",
   "id": "96c48290-858c-408e-be04-87777ba11296",
   "metadata": {
    "tags": []
   },
   "source": [
    "## Predict by cosine"
   ]
  },
  {
   "cell_type": "code",
   "execution_count": 74,
   "id": "8b21e9b6-3c85-498e-96bd-c408757aae0e",
   "metadata": {
    "tags": []
   },
   "outputs": [],
   "source": [
    "from sentence_transformers import SentenceTransformer, util"
   ]
  },
  {
   "cell_type": "code",
   "execution_count": 75,
   "id": "c08337b8-b2f2-415a-8810-c2cdde30e92b",
   "metadata": {
    "tags": []
   },
   "outputs": [],
   "source": [
    "model = SentenceTransformer('setfitckpt_embed_label_multi_lingual')"
   ]
  },
  {
   "cell_type": "code",
   "execution_count": 76,
   "id": "f9416a2b-25b1-4180-9e89-30be73f2a85a",
   "metadata": {
    "tags": []
   },
   "outputs": [],
   "source": [
    "model = model.to('cuda:1')"
   ]
  },
  {
   "cell_type": "code",
   "execution_count": 77,
   "id": "47ec208c-6a02-4d61-a62e-47003ea8813c",
   "metadata": {
    "tags": []
   },
   "outputs": [
    {
     "data": {
      "text/plain": [
       "True"
      ]
     },
     "execution_count": 77,
     "metadata": {},
     "output_type": "execute_result"
    }
   ],
   "source": [
    "a = next(model.parameters())\n",
    "a.is_cuda"
   ]
  },
  {
   "cell_type": "code",
   "execution_count": 99,
   "id": "4f5d0ee6-3d97-47de-9663-f9899b0d1f27",
   "metadata": {
    "tags": []
   },
   "outputs": [
    {
     "name": "stdout",
     "output_type": "stream",
     "text": [
      "0\n"
     ]
    },
    {
     "data": {
      "text/plain": [
       "'tôi cần hỏi một số việc'"
      ]
     },
     "execution_count": 99,
     "metadata": {},
     "output_type": "execute_result"
    }
   ],
   "source": [
    "idx = 4\n",
    "print(test_df.iloc[idx]['label'])\n",
    "test_df.iloc[idx]['text']"
   ]
  },
  {
   "cell_type": "code",
   "execution_count": 101,
   "id": "683c4347-d8b6-4eee-8575-eea5168819d5",
   "metadata": {
    "tags": []
   },
   "outputs": [],
   "source": [
    "process_label = [preprocess_sentence(t) for t in text_list]"
   ]
  },
  {
   "cell_type": "code",
   "execution_count": null,
   "id": "e1a678e7-88d1-437a-8fb5-fbd806df1059",
   "metadata": {},
   "outputs": [],
   "source": [
    "def predict_cosine(query, process_label):\n",
    "    query_embedding = model.encode(query)\n",
    "    passage_embedding = model.encode(process_label)\n",
    "    idx_label = int(torch.argmax(util.cos_sim(query_embedding, passage_embedding)))\n",
    "    \n",
    "    return idx_label\n",
    "    "
   ]
  },
  {
   "cell_type": "code",
   "execution_count": 100,
   "id": "ce0ce5b1-4a04-4b64-ab09-e668f32d31bb",
   "metadata": {
    "tags": []
   },
   "outputs": [],
   "source": [
    "query_embedding = model.encode(test_df.iloc[idx]['text'])"
   ]
  },
  {
   "cell_type": "code",
   "execution_count": 102,
   "id": "62a2ee25-31c6-4e98-8cc1-178bbc712abc",
   "metadata": {
    "tags": []
   },
   "outputs": [
    {
     "name": "stdout",
     "output_type": "stream",
     "text": [
      "Similarity: tensor([[ 0.7437,  0.2135,  0.2108,  0.0614,  0.2276, -0.0375,  0.2705,  0.0294,\n",
      "          0.1104, -0.0096, -0.0256,  0.1039,  0.2777,  0.2353,  0.3149,  0.0644,\n",
      "          0.2520,  0.2216,  0.2293,  0.2200,  0.1770]])\n"
     ]
    }
   ],
   "source": [
    "passage_embedding = model.encode(process_label)\n",
    "\n",
    "print(\"Similarity:\", util.cos_sim(query_embedding, passage_embedding))"
   ]
  },
  {
   "cell_type": "code",
   "execution_count": 103,
   "id": "2c32d162-ba59-4d5e-8909-8d8317837541",
   "metadata": {
    "tags": []
   },
   "outputs": [],
   "source": [
    "i = int(torch.argmax(util.cos_sim(query_embedding, passage_embedding)))"
   ]
  },
  {
   "cell_type": "code",
   "execution_count": 104,
   "id": "ba2e5645-76c2-451b-b5ba-f3887b124ae3",
   "metadata": {
    "tags": []
   },
   "outputs": [
    {
     "data": {
      "text/plain": [
       "'chào hỏi làm quen và muốn hỏi'"
      ]
     },
     "execution_count": 104,
     "metadata": {},
     "output_type": "execute_result"
    }
   ],
   "source": [
    "label_descript[i]"
   ]
  },
  {
   "cell_type": "code",
   "execution_count": 137,
   "id": "92862e64-5f8f-42c7-ba15-f0a0c761f61d",
   "metadata": {
    "tags": []
   },
   "outputs": [
    {
     "data": {
      "text/plain": [
       "'mainmenu'"
      ]
     },
     "execution_count": 137,
     "metadata": {},
     "output_type": "execute_result"
    }
   ],
   "source": [
    "label_list[torch.argmax(util.cos_sim(query_embedding, passage_embedding))]"
   ]
  },
  {
   "cell_type": "code",
   "execution_count": null,
   "id": "bf37dca7-43e3-4a75-a49d-845409129aea",
   "metadata": {},
   "outputs": [],
   "source": [
    "preds = []\n"
   ]
  },
  {
   "cell_type": "markdown",
   "id": "427f7c44-86b5-4984-b385-6cb2bee7f908",
   "metadata": {
    "tags": []
   },
   "source": [
    "## Predict by head"
   ]
  },
  {
   "cell_type": "code",
   "execution_count": 66,
   "id": "2e49c31e-ab22-459b-af99-38d8154a8842",
   "metadata": {
    "tags": []
   },
   "outputs": [],
   "source": [
    "preds = model(list(test_df['text']))"
   ]
  },
  {
   "cell_type": "code",
   "execution_count": 67,
   "id": "151fed67-f694-48c2-af95-9162b33aa30f",
   "metadata": {
    "tags": []
   },
   "outputs": [],
   "source": [
    "preds = preds.cpu()"
   ]
  },
  {
   "cell_type": "code",
   "execution_count": 68,
   "id": "d7708171-46b8-49a1-a273-c0780c254a7e",
   "metadata": {
    "tags": []
   },
   "outputs": [],
   "source": [
    "y_true = list(test_df['label'])"
   ]
  },
  {
   "cell_type": "code",
   "execution_count": 69,
   "id": "1f05354a-975c-484e-886d-f05b8e18d089",
   "metadata": {
    "tags": []
   },
   "outputs": [],
   "source": [
    "from sklearn.metrics import classification_report"
   ]
  },
  {
   "cell_type": "code",
   "execution_count": 70,
   "id": "9aa52c27-c5b4-41c9-91f7-1e908f22e740",
   "metadata": {
    "tags": []
   },
   "outputs": [
    {
     "data": {
      "text/plain": [
       "'submenulienhetuvan'"
      ]
     },
     "execution_count": 70,
     "metadata": {},
     "output_type": "execute_result"
    }
   ],
   "source": [
    "label_list[12]"
   ]
  },
  {
   "cell_type": "code",
   "execution_count": 59,
   "id": "671642f9-6f12-4b6b-8d7e-1c302d2a18ec",
   "metadata": {},
   "outputs": [],
   "source": [
    "embeddings = model.model_body.encode([message], normalize_embeddings=True, convert_to_tensor=True)\n",
    "prob = model.model_head.predict_proba(embeddings)"
   ]
  },
  {
   "cell_type": "code",
   "execution_count": 72,
   "id": "8855c009-1172-4934-bf12-0a1931d077c9",
   "metadata": {
    "tags": []
   },
   "outputs": [],
   "source": [
    "label_list_display = label_list.copy()"
   ]
  },
  {
   "cell_type": "code",
   "execution_count": 73,
   "id": "fbcda701-594f-4558-a7d4-22d52cc54c13",
   "metadata": {
    "tags": []
   },
   "outputs": [],
   "source": [
    "label_list_display.remove('outofscorenonvietnamese')"
   ]
  },
  {
   "cell_type": "code",
   "execution_count": 74,
   "id": "aa930596-4e20-4041-ad3e-dd2577ad5440",
   "metadata": {
    "tags": []
   },
   "outputs": [
    {
     "data": {
      "text/plain": [
       "['greetings',\n",
       " 'goodbye',\n",
       " 'thanks',\n",
       " 'affirm',\n",
       " 'deny',\n",
       " 'moodgreat',\n",
       " 'mainmenu',\n",
       " 'submenuthongtin',\n",
       " 'submenuthongtinID',\n",
       " 'submenuthongtinemailphone',\n",
       " 'submenubieuphi',\n",
       " 'submenucomplain',\n",
       " 'submenulienhetuvan',\n",
       " 'branchlocation',\n",
       " 'cardproductmainmenu',\n",
       " 'cardproductdangkythe',\n",
       " 'cardproductkhuyenmai',\n",
       " 'cardproductkiemtrahoso',\n",
       " 'cardproductkiemtragiaonhan',\n",
       " 'outofscorenonvietnamese',\n",
       " 'outofscoreother']"
      ]
     },
     "execution_count": 74,
     "metadata": {},
     "output_type": "execute_result"
    }
   ],
   "source": [
    "label_list"
   ]
  },
  {
   "cell_type": "code",
   "execution_count": 75,
   "id": "e2db1e22-c338-4d5e-884f-d450efa16825",
   "metadata": {
    "tags": []
   },
   "outputs": [
    {
     "data": {
      "text/plain": [
       "tensor([ 0,  0,  7, 12, 20, 12,  0,  0, 12,  0,  0,  0,  0,  0,  0,  0,  1, 20,\n",
       "         1,  1,  1, 20,  1,  1,  0,  1,  1,  1,  2,  2,  2,  2,  2,  2,  2,  2,\n",
       "         2,  2,  2,  2,  3,  3,  0,  3,  3,  0,  3,  3,  3,  3,  3,  5,  4,  4,\n",
       "         4,  4,  4,  4,  4, 11,  4,  1,  4,  5,  5,  0,  5, 20,  5,  5,  5,  5,\n",
       "         5,  5,  6,  6, 20, 17, 20, 17, 17,  6,  6, 20, 20, 20,  7,  7,  7,  7,\n",
       "         7,  7,  7,  9,  9,  9,  7,  7,  7,  7,  7,  8,  8,  8,  8,  8,  8,  8,\n",
       "         8,  8,  8,  8,  8,  8,  8,  9,  9,  9,  9,  9, 20, 20,  9,  9,  9,  9,\n",
       "         9,  9,  9,  9,  9, 10, 10, 10, 10, 10, 10, 10, 10, 10, 10, 10, 10, 12,\n",
       "        12, 12, 12, 20, 12, 12, 12, 12,  0, 12, 12, 13, 13, 13, 20, 13, 13, 13,\n",
       "        13, 13, 13, 20, 13, 14, 14, 14, 14, 15, 15, 14, 15, 14, 14, 15, 15, 15,\n",
       "        15, 15, 15, 15, 15, 15, 15, 15, 16, 16, 16, 16, 16, 16, 16, 17, 17, 17,\n",
       "        17, 17, 17, 20, 20, 18, 18, 18, 18, 18, 18, 18, 18, 18, 18, 18])"
      ]
     },
     "execution_count": 75,
     "metadata": {},
     "output_type": "execute_result"
    }
   ],
   "source": [
    "preds"
   ]
  },
  {
   "cell_type": "code",
   "execution_count": 77,
   "id": "559c0d19-a74b-4567-9da9-137556b97c8b",
   "metadata": {
    "tags": []
   },
   "outputs": [
    {
     "name": "stdout",
     "output_type": "stream",
     "text": [
      "              precision    recall  f1-score   support\n",
      "\n",
      "           0       0.69      0.69      0.69        16\n",
      "           1       0.90      0.75      0.82        12\n",
      "           2       1.00      1.00      1.00        12\n",
      "           3       1.00      0.75      0.86        12\n",
      "           4       1.00      0.82      0.90        11\n",
      "           5       0.90      0.82      0.86        11\n",
      "           6       1.00      0.33      0.50        12\n",
      "           7       0.92      0.80      0.86        15\n",
      "           8       1.00      1.00      1.00        14\n",
      "           9       0.82      0.88      0.85        16\n",
      "          10       1.00      1.00      1.00        12\n",
      "          11       0.00      0.00      0.00         0\n",
      "          12       0.77      0.83      0.80        12\n",
      "          13       1.00      0.83      0.91        12\n",
      "          14       1.00      0.70      0.82        10\n",
      "          15       0.79      1.00      0.88        11\n",
      "          16       1.00      1.00      1.00         7\n",
      "          17       0.67      0.75      0.71         8\n",
      "          18       1.00      1.00      1.00        11\n",
      "          20       0.00      0.00      0.00         0\n",
      "\n",
      "    accuracy                           0.83       214\n",
      "   macro avg       0.82      0.75      0.77       214\n",
      "weighted avg       0.91      0.83      0.85       214\n",
      "\n"
     ]
    },
    {
     "name": "stderr",
     "output_type": "stream",
     "text": [
      "/data2/nghiatl/anaconda3/envs/SEO/lib/python3.8/site-packages/sklearn/metrics/_classification.py:1344: UndefinedMetricWarning: Recall and F-score are ill-defined and being set to 0.0 in labels with no true samples. Use `zero_division` parameter to control this behavior.\n",
      "  _warn_prf(average, modifier, msg_start, len(result))\n",
      "/data2/nghiatl/anaconda3/envs/SEO/lib/python3.8/site-packages/sklearn/metrics/_classification.py:1344: UndefinedMetricWarning: Recall and F-score are ill-defined and being set to 0.0 in labels with no true samples. Use `zero_division` parameter to control this behavior.\n",
      "  _warn_prf(average, modifier, msg_start, len(result))\n",
      "/data2/nghiatl/anaconda3/envs/SEO/lib/python3.8/site-packages/sklearn/metrics/_classification.py:1344: UndefinedMetricWarning: Recall and F-score are ill-defined and being set to 0.0 in labels with no true samples. Use `zero_division` parameter to control this behavior.\n",
      "  _warn_prf(average, modifier, msg_start, len(result))\n"
     ]
    }
   ],
   "source": [
    "print(classification_report(y_true, preds))"
   ]
  },
  {
   "cell_type": "code",
   "execution_count": 141,
   "id": "c5217dbe-973a-4808-bd09-134f3c139bf6",
   "metadata": {
    "tags": []
   },
   "outputs": [
    {
     "name": "stdout",
     "output_type": "stream",
     "text": [
      "                            precision    recall  f1-score   support\n",
      "\n",
      "                 greetings       0.94      0.94      0.94        16\n",
      "                   goodbye       1.00      0.67      0.80        12\n",
      "                    thanks       1.00      1.00      1.00        12\n",
      "                    affirm       0.92      1.00      0.96        12\n",
      "                      deny       1.00      0.82      0.90        11\n",
      "                 moodgreat       1.00      1.00      1.00        11\n",
      "                  mainmenu       1.00      0.58      0.74        12\n",
      "           submenuthongtin       1.00      0.73      0.85        15\n",
      "         submenuthongtinID       0.93      1.00      0.97        14\n",
      " submenuthongtinemailphone       0.78      0.88      0.82        16\n",
      "            submenubieuphi       1.00      1.00      1.00        12\n",
      "           submenucomplain       0.00      0.00      0.00         0\n",
      "        submenulienhetuvan       1.00      0.75      0.86        12\n",
      "            branchlocation       1.00      0.92      0.96        12\n",
      "       cardproductmainmenu       0.89      0.80      0.84        10\n",
      "      cardproductdangkythe       0.92      1.00      0.96        11\n",
      "      cardproductkhuyenmai       1.00      1.00      1.00         7\n",
      "    cardproductkiemtrahoso       1.00      0.88      0.93         8\n",
      "cardproductkiemtragiaonhan       1.00      1.00      1.00        11\n",
      "           outofscoreother       0.00      0.00      0.00         0\n",
      "\n",
      "                  accuracy                           0.88       214\n",
      "                 macro avg       0.87      0.80      0.83       214\n",
      "              weighted avg       0.96      0.88      0.91       214\n",
      "\n"
     ]
    },
    {
     "name": "stderr",
     "output_type": "stream",
     "text": [
      "/data2/nghiatl/anaconda3/envs/SEO/lib/python3.8/site-packages/sklearn/metrics/_classification.py:1344: UndefinedMetricWarning: Recall and F-score are ill-defined and being set to 0.0 in labels with no true samples. Use `zero_division` parameter to control this behavior.\n",
      "  _warn_prf(average, modifier, msg_start, len(result))\n",
      "/data2/nghiatl/anaconda3/envs/SEO/lib/python3.8/site-packages/sklearn/metrics/_classification.py:1344: UndefinedMetricWarning: Recall and F-score are ill-defined and being set to 0.0 in labels with no true samples. Use `zero_division` parameter to control this behavior.\n",
      "  _warn_prf(average, modifier, msg_start, len(result))\n",
      "/data2/nghiatl/anaconda3/envs/SEO/lib/python3.8/site-packages/sklearn/metrics/_classification.py:1344: UndefinedMetricWarning: Recall and F-score are ill-defined and being set to 0.0 in labels with no true samples. Use `zero_division` parameter to control this behavior.\n",
      "  _warn_prf(average, modifier, msg_start, len(result))\n"
     ]
    }
   ],
   "source": [
    "print(classification_report(y_true, preds, target_names=label_list_display))"
   ]
  },
  {
   "cell_type": "code",
   "execution_count": 140,
   "id": "8ff0ff4e-9ea1-4642-8255-0bf3fd59f66f",
   "metadata": {
    "tags": []
   },
   "outputs": [],
   "source": [
    "# print(classification_report(y_true, preds, target_names=label_list))"
   ]
  },
  {
   "cell_type": "code",
   "execution_count": 116,
   "id": "ee843513-f78c-46de-8ea1-8c201d71fb14",
   "metadata": {
    "tags": []
   },
   "outputs": [
    {
     "name": "stdout",
     "output_type": "stream",
     "text": [
      "              precision    recall  f1-score   support\n",
      "\n",
      "           0       0.94      0.94      0.94        16\n",
      "           1       1.00      0.67      0.80        12\n",
      "           2       1.00      1.00      1.00        12\n",
      "           3       0.92      1.00      0.96        12\n",
      "           4       1.00      0.82      0.90        11\n",
      "           5       1.00      1.00      1.00        11\n",
      "           6       1.00      0.58      0.74        12\n",
      "           7       1.00      0.73      0.85        15\n",
      "           8       0.93      1.00      0.97        14\n",
      "           9       0.78      0.88      0.82        16\n",
      "          10       1.00      1.00      1.00        12\n",
      "          11       0.00      0.00      0.00         0\n",
      "          12       1.00      0.75      0.86        12\n",
      "          13       1.00      0.92      0.96        12\n",
      "          14       0.89      0.80      0.84        10\n",
      "          15       0.92      1.00      0.96        11\n",
      "          16       1.00      1.00      1.00         7\n",
      "          17       1.00      0.88      0.93         8\n",
      "          18       1.00      1.00      1.00        11\n",
      "          20       0.00      0.00      0.00         0\n",
      "\n",
      "    accuracy                           0.88       214\n",
      "   macro avg       0.87      0.80      0.83       214\n",
      "weighted avg       0.96      0.88      0.91       214\n",
      "\n"
     ]
    },
    {
     "name": "stderr",
     "output_type": "stream",
     "text": [
      "/data2/nghiatl/anaconda3/envs/SEO/lib/python3.8/site-packages/sklearn/metrics/_classification.py:1344: UndefinedMetricWarning: Recall and F-score are ill-defined and being set to 0.0 in labels with no true samples. Use `zero_division` parameter to control this behavior.\n",
      "  _warn_prf(average, modifier, msg_start, len(result))\n",
      "/data2/nghiatl/anaconda3/envs/SEO/lib/python3.8/site-packages/sklearn/metrics/_classification.py:1344: UndefinedMetricWarning: Recall and F-score are ill-defined and being set to 0.0 in labels with no true samples. Use `zero_division` parameter to control this behavior.\n",
      "  _warn_prf(average, modifier, msg_start, len(result))\n",
      "/data2/nghiatl/anaconda3/envs/SEO/lib/python3.8/site-packages/sklearn/metrics/_classification.py:1344: UndefinedMetricWarning: Recall and F-score are ill-defined and being set to 0.0 in labels with no true samples. Use `zero_division` parameter to control this behavior.\n",
      "  _warn_prf(average, modifier, msg_start, len(result))\n"
     ]
    }
   ],
   "source": [
    "print(classification_report(y_true, preds))"
   ]
  },
  {
   "cell_type": "code",
   "execution_count": 117,
   "id": "c6d739b3-81ac-435a-94bb-cfebb61612c0",
   "metadata": {
    "tags": []
   },
   "outputs": [
    {
     "data": {
      "text/plain": [
       "['greetings',\n",
       " 'goodbye',\n",
       " 'thanks',\n",
       " 'affirm',\n",
       " 'deny',\n",
       " 'moodgreat',\n",
       " 'mainmenu',\n",
       " 'submenuthongtin',\n",
       " 'submenuthongtinID',\n",
       " 'submenuthongtinemailphone',\n",
       " 'submenubieuphi',\n",
       " 'submenucomplain',\n",
       " 'submenulienhetuvan',\n",
       " 'branchlocation',\n",
       " 'cardproductmainmenu',\n",
       " 'cardproductdangkythe',\n",
       " 'cardproductkhuyenmai',\n",
       " 'cardproductkiemtrahoso',\n",
       " 'cardproductkiemtragiaonhan',\n",
       " 'outofscorenonvietnamese',\n",
       " 'outofscoreother']"
      ]
     },
     "execution_count": 117,
     "metadata": {},
     "output_type": "execute_result"
    }
   ],
   "source": [
    "label_list"
   ]
  },
  {
   "cell_type": "code",
   "execution_count": 118,
   "id": "225425d1-21e1-42f3-856e-98fd57d780bc",
   "metadata": {
    "tags": []
   },
   "outputs": [],
   "source": [
    "# y_true"
   ]
  },
  {
   "cell_type": "code",
   "execution_count": 62,
   "id": "7b09fc64-408c-4f7c-881f-934c1d0794a0",
   "metadata": {
    "tags": []
   },
   "outputs": [
    {
     "data": {
      "text/plain": [
       "7"
      ]
     },
     "execution_count": 62,
     "metadata": {},
     "output_type": "execute_result"
    }
   ],
   "source": [
    "label_list.index('submenuthongtin')"
   ]
  },
  {
   "cell_type": "code",
   "execution_count": 119,
   "id": "97ad6543-2160-4f63-9f23-22d022a3430f",
   "metadata": {
    "tags": []
   },
   "outputs": [],
   "source": [
    "false_preds_idx = []\n",
    "false_preds = []\n",
    "for idx, p in enumerate(zip(preds, y_true)):\n",
    "    if p[0] != p[1]:\n",
    "        # print(p)\n",
    "        false_preds_idx.append(idx)\n",
    "        false_preds.append(int(p[0]))"
   ]
  },
  {
   "cell_type": "code",
   "execution_count": 120,
   "id": "62dedf1d-5301-47ad-8a9a-8791dbef5145",
   "metadata": {
    "tags": []
   },
   "outputs": [
    {
     "data": {
      "text/html": [
       "<div>\n",
       "<style scoped>\n",
       "    .dataframe tbody tr th:only-of-type {\n",
       "        vertical-align: middle;\n",
       "    }\n",
       "\n",
       "    .dataframe tbody tr th {\n",
       "        vertical-align: top;\n",
       "    }\n",
       "\n",
       "    .dataframe thead th {\n",
       "        text-align: right;\n",
       "    }\n",
       "</style>\n",
       "<table border=\"1\" class=\"dataframe\">\n",
       "  <thead>\n",
       "    <tr style=\"text-align: right;\">\n",
       "      <th></th>\n",
       "      <th>Unnamed: 0</th>\n",
       "      <th>label</th>\n",
       "      <th>text</th>\n",
       "    </tr>\n",
       "  </thead>\n",
       "  <tbody>\n",
       "    <tr>\n",
       "      <th>3</th>\n",
       "      <td>3</td>\n",
       "      <td>0</td>\n",
       "      <td>bạn có thể giúp tôi được không</td>\n",
       "    </tr>\n",
       "    <tr>\n",
       "      <th>17</th>\n",
       "      <td>17</td>\n",
       "      <td>1</td>\n",
       "      <td>mình có việc rồi</td>\n",
       "    </tr>\n",
       "    <tr>\n",
       "      <th>21</th>\n",
       "      <td>21</td>\n",
       "      <td>1</td>\n",
       "      <td>bài</td>\n",
       "    </tr>\n",
       "    <tr>\n",
       "      <th>22</th>\n",
       "      <td>22</td>\n",
       "      <td>1</td>\n",
       "      <td>oke gút bai</td>\n",
       "    </tr>\n",
       "    <tr>\n",
       "      <th>26</th>\n",
       "      <td>26</td>\n",
       "      <td>1</td>\n",
       "      <td>tôi có việc mất rồi hẹn gặp lại c</td>\n",
       "    </tr>\n",
       "    <tr>\n",
       "      <th>59</th>\n",
       "      <td>59</td>\n",
       "      <td>4</td>\n",
       "      <td>tôi không thích</td>\n",
       "    </tr>\n",
       "    <tr>\n",
       "      <th>61</th>\n",
       "      <td>61</td>\n",
       "      <td>4</td>\n",
       "      <td>hủy đi</td>\n",
       "    </tr>\n",
       "    <tr>\n",
       "      <th>76</th>\n",
       "      <td>76</td>\n",
       "      <td>6</td>\n",
       "      <td>đã có rồi</td>\n",
       "    </tr>\n",
       "    <tr>\n",
       "      <th>78</th>\n",
       "      <td>78</td>\n",
       "      <td>6</td>\n",
       "      <td>tôi muốn làm một số thủ tục</td>\n",
       "    </tr>\n",
       "    <tr>\n",
       "      <th>83</th>\n",
       "      <td>83</td>\n",
       "      <td>6</td>\n",
       "      <td>mình hỗ trợ những việc gì</td>\n",
       "    </tr>\n",
       "    <tr>\n",
       "      <th>84</th>\n",
       "      <td>84</td>\n",
       "      <td>6</td>\n",
       "      <td>tôi muốn hỏi một số thủ tục</td>\n",
       "    </tr>\n",
       "    <tr>\n",
       "      <th>85</th>\n",
       "      <td>85</td>\n",
       "      <td>6</td>\n",
       "      <td>làm cho tôi một số thủ tục</td>\n",
       "    </tr>\n",
       "    <tr>\n",
       "      <th>92</th>\n",
       "      <td>92</td>\n",
       "      <td>7</td>\n",
       "      <td>tôi muốn cập nhật sđt của mình</td>\n",
       "    </tr>\n",
       "    <tr>\n",
       "      <th>93</th>\n",
       "      <td>93</td>\n",
       "      <td>7</td>\n",
       "      <td>tôi muốn cập nhật số điện thoại của mình</td>\n",
       "    </tr>\n",
       "    <tr>\n",
       "      <th>94</th>\n",
       "      <td>94</td>\n",
       "      <td>7</td>\n",
       "      <td>tôi muốn sửa số điện thoại của mình</td>\n",
       "    </tr>\n",
       "    <tr>\n",
       "      <th>95</th>\n",
       "      <td>95</td>\n",
       "      <td>7</td>\n",
       "      <td>tôi muốn thay đổi điện thoại của mình</td>\n",
       "    </tr>\n",
       "    <tr>\n",
       "      <th>120</th>\n",
       "      <td>120</td>\n",
       "      <td>9</td>\n",
       "      <td>sđt</td>\n",
       "    </tr>\n",
       "    <tr>\n",
       "      <th>121</th>\n",
       "      <td>121</td>\n",
       "      <td>9</td>\n",
       "      <td>số điện thoại</td>\n",
       "    </tr>\n",
       "    <tr>\n",
       "      <th>143</th>\n",
       "      <td>143</td>\n",
       "      <td>12</td>\n",
       "      <td>tôi cần hỗ trợ tư vấn</td>\n",
       "    </tr>\n",
       "    <tr>\n",
       "      <th>147</th>\n",
       "      <td>147</td>\n",
       "      <td>12</td>\n",
       "      <td>hotline tư vấn</td>\n",
       "    </tr>\n",
       "    <tr>\n",
       "      <th>152</th>\n",
       "      <td>152</td>\n",
       "      <td>12</td>\n",
       "      <td>hỗ trợ tư vấn</td>\n",
       "    </tr>\n",
       "    <tr>\n",
       "      <th>158</th>\n",
       "      <td>158</td>\n",
       "      <td>13</td>\n",
       "      <td>đ chỉ gấn tôi</td>\n",
       "    </tr>\n",
       "    <tr>\n",
       "      <th>171</th>\n",
       "      <td>171</td>\n",
       "      <td>14</td>\n",
       "      <td>cần thẻ để rút tiền</td>\n",
       "    </tr>\n",
       "    <tr>\n",
       "      <th>174</th>\n",
       "      <td>174</td>\n",
       "      <td>14</td>\n",
       "      <td>có những thẻ gì để đăng kí</td>\n",
       "    </tr>\n",
       "    <tr>\n",
       "      <th>201</th>\n",
       "      <td>201</td>\n",
       "      <td>17</td>\n",
       "      <td>tra hồ sơ cá nhân</td>\n",
       "    </tr>\n",
       "  </tbody>\n",
       "</table>\n",
       "</div>"
      ],
      "text/plain": [
       "     Unnamed: 0  label                                      text\n",
       "3             3      0            bạn có thể giúp tôi được không\n",
       "17           17      1                          mình có việc rồi\n",
       "21           21      1                                       bài\n",
       "22           22      1                               oke gút bai\n",
       "26           26      1         tôi có việc mất rồi hẹn gặp lại c\n",
       "59           59      4                           tôi không thích\n",
       "61           61      4                                    hủy đi\n",
       "76           76      6                                 đã có rồi\n",
       "78           78      6               tôi muốn làm một số thủ tục\n",
       "83           83      6                 mình hỗ trợ những việc gì\n",
       "84           84      6               tôi muốn hỏi một số thủ tục\n",
       "85           85      6                làm cho tôi một số thủ tục\n",
       "92           92      7            tôi muốn cập nhật sđt của mình\n",
       "93           93      7  tôi muốn cập nhật số điện thoại của mình\n",
       "94           94      7       tôi muốn sửa số điện thoại của mình\n",
       "95           95      7     tôi muốn thay đổi điện thoại của mình\n",
       "120         120      9                                       sđt\n",
       "121         121      9                             số điện thoại\n",
       "143         143     12                     tôi cần hỗ trợ tư vấn\n",
       "147         147     12                            hotline tư vấn\n",
       "152         152     12                             hỗ trợ tư vấn\n",
       "158         158     13                             đ chỉ gấn tôi\n",
       "171         171     14                       cần thẻ để rút tiền\n",
       "174         174     14                có những thẻ gì để đăng kí\n",
       "201         201     17                         tra hồ sơ cá nhân"
      ]
     },
     "execution_count": 120,
     "metadata": {},
     "output_type": "execute_result"
    }
   ],
   "source": [
    "test_false_df = test_df.iloc[false_preds_idx]\n",
    "test_false_df"
   ]
  },
  {
   "cell_type": "code",
   "execution_count": 121,
   "id": "b08e53f6-9cc9-4542-9f35-ccb59fbd7e6a",
   "metadata": {
    "tags": []
   },
   "outputs": [],
   "source": [
    "def convert_id_to_label(id_label):\n",
    "    return label_list[id_label]"
   ]
  },
  {
   "cell_type": "code",
   "execution_count": 122,
   "id": "e1b67f23-a279-4eba-a92a-c850f92984f2",
   "metadata": {
    "tags": []
   },
   "outputs": [
    {
     "name": "stderr",
     "output_type": "stream",
     "text": [
      "/data2/nghiatl/.tmp/ipykernel_588621/499004396.py:1: SettingWithCopyWarning: \n",
      "A value is trying to be set on a copy of a slice from a DataFrame.\n",
      "Try using .loc[row_indexer,col_indexer] = value instead\n",
      "\n",
      "See the caveats in the documentation: https://pandas.pydata.org/pandas-docs/stable/user_guide/indexing.html#returning-a-view-versus-a-copy\n",
      "  test_false_df['preds'] = false_preds\n"
     ]
    },
    {
     "data": {
      "text/html": [
       "<div>\n",
       "<style scoped>\n",
       "    .dataframe tbody tr th:only-of-type {\n",
       "        vertical-align: middle;\n",
       "    }\n",
       "\n",
       "    .dataframe tbody tr th {\n",
       "        vertical-align: top;\n",
       "    }\n",
       "\n",
       "    .dataframe thead th {\n",
       "        text-align: right;\n",
       "    }\n",
       "</style>\n",
       "<table border=\"1\" class=\"dataframe\">\n",
       "  <thead>\n",
       "    <tr style=\"text-align: right;\">\n",
       "      <th></th>\n",
       "      <th>Unnamed: 0</th>\n",
       "      <th>label</th>\n",
       "      <th>text</th>\n",
       "      <th>preds</th>\n",
       "    </tr>\n",
       "  </thead>\n",
       "  <tbody>\n",
       "    <tr>\n",
       "      <th>3</th>\n",
       "      <td>3</td>\n",
       "      <td>0</td>\n",
       "      <td>bạn có thể giúp tôi được không</td>\n",
       "      <td>20</td>\n",
       "    </tr>\n",
       "    <tr>\n",
       "      <th>17</th>\n",
       "      <td>17</td>\n",
       "      <td>1</td>\n",
       "      <td>mình có việc rồi</td>\n",
       "      <td>20</td>\n",
       "    </tr>\n",
       "    <tr>\n",
       "      <th>21</th>\n",
       "      <td>21</td>\n",
       "      <td>1</td>\n",
       "      <td>bài</td>\n",
       "      <td>14</td>\n",
       "    </tr>\n",
       "    <tr>\n",
       "      <th>22</th>\n",
       "      <td>22</td>\n",
       "      <td>1</td>\n",
       "      <td>oke gút bai</td>\n",
       "      <td>20</td>\n",
       "    </tr>\n",
       "    <tr>\n",
       "      <th>26</th>\n",
       "      <td>26</td>\n",
       "      <td>1</td>\n",
       "      <td>tôi có việc mất rồi hẹn gặp lại c</td>\n",
       "      <td>20</td>\n",
       "    </tr>\n",
       "    <tr>\n",
       "      <th>59</th>\n",
       "      <td>59</td>\n",
       "      <td>4</td>\n",
       "      <td>tôi không thích</td>\n",
       "      <td>11</td>\n",
       "    </tr>\n",
       "    <tr>\n",
       "      <th>61</th>\n",
       "      <td>61</td>\n",
       "      <td>4</td>\n",
       "      <td>hủy đi</td>\n",
       "      <td>20</td>\n",
       "    </tr>\n",
       "    <tr>\n",
       "      <th>76</th>\n",
       "      <td>76</td>\n",
       "      <td>6</td>\n",
       "      <td>đã có rồi</td>\n",
       "      <td>3</td>\n",
       "    </tr>\n",
       "    <tr>\n",
       "      <th>78</th>\n",
       "      <td>78</td>\n",
       "      <td>6</td>\n",
       "      <td>tôi muốn làm một số thủ tục</td>\n",
       "      <td>20</td>\n",
       "    </tr>\n",
       "    <tr>\n",
       "      <th>83</th>\n",
       "      <td>83</td>\n",
       "      <td>6</td>\n",
       "      <td>mình hỗ trợ những việc gì</td>\n",
       "      <td>20</td>\n",
       "    </tr>\n",
       "    <tr>\n",
       "      <th>84</th>\n",
       "      <td>84</td>\n",
       "      <td>6</td>\n",
       "      <td>tôi muốn hỏi một số thủ tục</td>\n",
       "      <td>20</td>\n",
       "    </tr>\n",
       "    <tr>\n",
       "      <th>85</th>\n",
       "      <td>85</td>\n",
       "      <td>6</td>\n",
       "      <td>làm cho tôi một số thủ tục</td>\n",
       "      <td>20</td>\n",
       "    </tr>\n",
       "    <tr>\n",
       "      <th>92</th>\n",
       "      <td>92</td>\n",
       "      <td>7</td>\n",
       "      <td>tôi muốn cập nhật sđt của mình</td>\n",
       "      <td>9</td>\n",
       "    </tr>\n",
       "    <tr>\n",
       "      <th>93</th>\n",
       "      <td>93</td>\n",
       "      <td>7</td>\n",
       "      <td>tôi muốn cập nhật số điện thoại của mình</td>\n",
       "      <td>9</td>\n",
       "    </tr>\n",
       "    <tr>\n",
       "      <th>94</th>\n",
       "      <td>94</td>\n",
       "      <td>7</td>\n",
       "      <td>tôi muốn sửa số điện thoại của mình</td>\n",
       "      <td>9</td>\n",
       "    </tr>\n",
       "    <tr>\n",
       "      <th>95</th>\n",
       "      <td>95</td>\n",
       "      <td>7</td>\n",
       "      <td>tôi muốn thay đổi điện thoại của mình</td>\n",
       "      <td>9</td>\n",
       "    </tr>\n",
       "    <tr>\n",
       "      <th>120</th>\n",
       "      <td>120</td>\n",
       "      <td>9</td>\n",
       "      <td>sđt</td>\n",
       "      <td>20</td>\n",
       "    </tr>\n",
       "    <tr>\n",
       "      <th>121</th>\n",
       "      <td>121</td>\n",
       "      <td>9</td>\n",
       "      <td>số điện thoại</td>\n",
       "      <td>20</td>\n",
       "    </tr>\n",
       "    <tr>\n",
       "      <th>143</th>\n",
       "      <td>143</td>\n",
       "      <td>12</td>\n",
       "      <td>tôi cần hỗ trợ tư vấn</td>\n",
       "      <td>0</td>\n",
       "    </tr>\n",
       "    <tr>\n",
       "      <th>147</th>\n",
       "      <td>147</td>\n",
       "      <td>12</td>\n",
       "      <td>hotline tư vấn</td>\n",
       "      <td>20</td>\n",
       "    </tr>\n",
       "    <tr>\n",
       "      <th>152</th>\n",
       "      <td>152</td>\n",
       "      <td>12</td>\n",
       "      <td>hỗ trợ tư vấn</td>\n",
       "      <td>20</td>\n",
       "    </tr>\n",
       "    <tr>\n",
       "      <th>158</th>\n",
       "      <td>158</td>\n",
       "      <td>13</td>\n",
       "      <td>đ chỉ gấn tôi</td>\n",
       "      <td>20</td>\n",
       "    </tr>\n",
       "    <tr>\n",
       "      <th>171</th>\n",
       "      <td>171</td>\n",
       "      <td>14</td>\n",
       "      <td>cần thẻ để rút tiền</td>\n",
       "      <td>20</td>\n",
       "    </tr>\n",
       "    <tr>\n",
       "      <th>174</th>\n",
       "      <td>174</td>\n",
       "      <td>14</td>\n",
       "      <td>có những thẻ gì để đăng kí</td>\n",
       "      <td>15</td>\n",
       "    </tr>\n",
       "    <tr>\n",
       "      <th>201</th>\n",
       "      <td>201</td>\n",
       "      <td>17</td>\n",
       "      <td>tra hồ sơ cá nhân</td>\n",
       "      <td>8</td>\n",
       "    </tr>\n",
       "  </tbody>\n",
       "</table>\n",
       "</div>"
      ],
      "text/plain": [
       "     Unnamed: 0  label                                      text  preds\n",
       "3             3      0            bạn có thể giúp tôi được không     20\n",
       "17           17      1                          mình có việc rồi     20\n",
       "21           21      1                                       bài     14\n",
       "22           22      1                               oke gút bai     20\n",
       "26           26      1         tôi có việc mất rồi hẹn gặp lại c     20\n",
       "59           59      4                           tôi không thích     11\n",
       "61           61      4                                    hủy đi     20\n",
       "76           76      6                                 đã có rồi      3\n",
       "78           78      6               tôi muốn làm một số thủ tục     20\n",
       "83           83      6                 mình hỗ trợ những việc gì     20\n",
       "84           84      6               tôi muốn hỏi một số thủ tục     20\n",
       "85           85      6                làm cho tôi một số thủ tục     20\n",
       "92           92      7            tôi muốn cập nhật sđt của mình      9\n",
       "93           93      7  tôi muốn cập nhật số điện thoại của mình      9\n",
       "94           94      7       tôi muốn sửa số điện thoại của mình      9\n",
       "95           95      7     tôi muốn thay đổi điện thoại của mình      9\n",
       "120         120      9                                       sđt     20\n",
       "121         121      9                             số điện thoại     20\n",
       "143         143     12                     tôi cần hỗ trợ tư vấn      0\n",
       "147         147     12                            hotline tư vấn     20\n",
       "152         152     12                             hỗ trợ tư vấn     20\n",
       "158         158     13                             đ chỉ gấn tôi     20\n",
       "171         171     14                       cần thẻ để rút tiền     20\n",
       "174         174     14                có những thẻ gì để đăng kí     15\n",
       "201         201     17                         tra hồ sơ cá nhân      8"
      ]
     },
     "execution_count": 122,
     "metadata": {},
     "output_type": "execute_result"
    }
   ],
   "source": [
    "test_false_df['preds'] = false_preds\n",
    "test_false_df"
   ]
  },
  {
   "cell_type": "code",
   "execution_count": 124,
   "id": "aa4cbfcc-7785-4be8-961f-89474d2b1efe",
   "metadata": {
    "tags": []
   },
   "outputs": [
    {
     "name": "stderr",
     "output_type": "stream",
     "text": [
      "/data2/nghiatl/.tmp/ipykernel_588621/3469866742.py:1: SettingWithCopyWarning: \n",
      "A value is trying to be set on a copy of a slice from a DataFrame.\n",
      "Try using .loc[row_indexer,col_indexer] = value instead\n",
      "\n",
      "See the caveats in the documentation: https://pandas.pydata.org/pandas-docs/stable/user_guide/indexing.html#returning-a-view-versus-a-copy\n",
      "  test_false_df['label'] = test_false_df['label'].apply(convert_id_to_label)\n"
     ]
    }
   ],
   "source": [
    "test_false_df['label'] = test_false_df['label'].apply(convert_id_to_label)"
   ]
  },
  {
   "cell_type": "code",
   "execution_count": 71,
   "id": "39be2618-85ee-42e8-8b52-6e1bbfb07cb2",
   "metadata": {
    "tags": []
   },
   "outputs": [
    {
     "name": "stderr",
     "output_type": "stream",
     "text": [
      "/data2/nghiatl/.tmp/ipykernel_2289416/318287103.py:1: SettingWithCopyWarning: \n",
      "A value is trying to be set on a copy of a slice from a DataFrame\n",
      "\n",
      "See the caveats in the documentation: https://pandas.pydata.org/pandas-docs/stable/user_guide/indexing.html#returning-a-view-versus-a-copy\n",
      "  test_false_df.drop(columns=['Unnamed: 0'], inplace=True)\n"
     ]
    },
    {
     "data": {
      "text/html": [
       "<div>\n",
       "<style scoped>\n",
       "    .dataframe tbody tr th:only-of-type {\n",
       "        vertical-align: middle;\n",
       "    }\n",
       "\n",
       "    .dataframe tbody tr th {\n",
       "        vertical-align: top;\n",
       "    }\n",
       "\n",
       "    .dataframe thead th {\n",
       "        text-align: right;\n",
       "    }\n",
       "</style>\n",
       "<table border=\"1\" class=\"dataframe\">\n",
       "  <thead>\n",
       "    <tr style=\"text-align: right;\">\n",
       "      <th></th>\n",
       "      <th>label</th>\n",
       "      <th>text</th>\n",
       "      <th>concat_text</th>\n",
       "      <th>preds</th>\n",
       "    </tr>\n",
       "  </thead>\n",
       "  <tbody>\n",
       "    <tr>\n",
       "      <th>2</th>\n",
       "      <td>greetings</td>\n",
       "      <td>tên tôi là thảo</td>\n",
       "      <td>tên tôi là thảo</td>\n",
       "      <td>outofscoreother</td>\n",
       "    </tr>\n",
       "    <tr>\n",
       "      <th>3</th>\n",
       "      <td>greetings</td>\n",
       "      <td>bạn có thể giúp tôi được không</td>\n",
       "      <td>bạn có_thể giúp tôi được không</td>\n",
       "      <td>submenulienhetuvan</td>\n",
       "    </tr>\n",
       "    <tr>\n",
       "      <th>4</th>\n",
       "      <td>greetings</td>\n",
       "      <td>tôi cần hỏi một số việc</td>\n",
       "      <td>tôi cần hỏi một_số việc</td>\n",
       "      <td>mainmenu</td>\n",
       "    </tr>\n",
       "    <tr>\n",
       "      <th>5</th>\n",
       "      <td>greetings</td>\n",
       "      <td>xin chào bạn có thể giúp tôi một số việc được ...</td>\n",
       "      <td>xin chào bạn có_thể giúp tôi một_số việc được ...</td>\n",
       "      <td>submenulienhetuvan</td>\n",
       "    </tr>\n",
       "    <tr>\n",
       "      <th>17</th>\n",
       "      <td>goodbye</td>\n",
       "      <td>mình có việc rồi</td>\n",
       "      <td>mình có việc rồi</td>\n",
       "      <td>outofscoreother</td>\n",
       "    </tr>\n",
       "    <tr>\n",
       "      <th>21</th>\n",
       "      <td>goodbye</td>\n",
       "      <td>bài</td>\n",
       "      <td>bài</td>\n",
       "      <td>mainmenu</td>\n",
       "    </tr>\n",
       "    <tr>\n",
       "      <th>24</th>\n",
       "      <td>goodbye</td>\n",
       "      <td>oke hẹn gặp lại bot</td>\n",
       "      <td>oke hẹn gặp lại bot</td>\n",
       "      <td>greetings</td>\n",
       "    </tr>\n",
       "    <tr>\n",
       "      <th>42</th>\n",
       "      <td>affirm</td>\n",
       "      <td>okay</td>\n",
       "      <td>okay</td>\n",
       "      <td>greetings</td>\n",
       "    </tr>\n",
       "    <tr>\n",
       "      <th>45</th>\n",
       "      <td>affirm</td>\n",
       "      <td>ừ</td>\n",
       "      <td>ừ</td>\n",
       "      <td>deny</td>\n",
       "    </tr>\n",
       "    <tr>\n",
       "      <th>46</th>\n",
       "      <td>affirm</td>\n",
       "      <td>ừ bạn</td>\n",
       "      <td>ừ bạn</td>\n",
       "      <td>outofscoreother</td>\n",
       "    </tr>\n",
       "    <tr>\n",
       "      <th>59</th>\n",
       "      <td>deny</td>\n",
       "      <td>tôi không thích</td>\n",
       "      <td>tôi không thích</td>\n",
       "      <td>submenucomplain</td>\n",
       "    </tr>\n",
       "    <tr>\n",
       "      <th>65</th>\n",
       "      <td>moodgreat</td>\n",
       "      <td>good job</td>\n",
       "      <td>good job</td>\n",
       "      <td>greetings</td>\n",
       "    </tr>\n",
       "    <tr>\n",
       "      <th>67</th>\n",
       "      <td>moodgreat</td>\n",
       "      <td>chưa bao giờ tuyệt vời hơn</td>\n",
       "      <td>chưa bao_giờ tuyệt_vời hơn</td>\n",
       "      <td>thanks</td>\n",
       "    </tr>\n",
       "    <tr>\n",
       "      <th>76</th>\n",
       "      <td>mainmenu</td>\n",
       "      <td>đã có rồi</td>\n",
       "      <td>đã có rồi</td>\n",
       "      <td>outofscoreother</td>\n",
       "    </tr>\n",
       "    <tr>\n",
       "      <th>78</th>\n",
       "      <td>mainmenu</td>\n",
       "      <td>tôi muốn làm một số thủ tục</td>\n",
       "      <td>tôi muốn làm một_số thủ_tục</td>\n",
       "      <td>cardproductkiemtrahoso</td>\n",
       "    </tr>\n",
       "    <tr>\n",
       "      <th>83</th>\n",
       "      <td>mainmenu</td>\n",
       "      <td>mình hỗ trợ những việc gì</td>\n",
       "      <td>mình hỗ_trợ những việc gì</td>\n",
       "      <td>outofscoreother</td>\n",
       "    </tr>\n",
       "    <tr>\n",
       "      <th>85</th>\n",
       "      <td>mainmenu</td>\n",
       "      <td>làm cho tôi một số thủ tục</td>\n",
       "      <td>làm cho tôi một_số thủ_tục</td>\n",
       "      <td>submenuthongtin</td>\n",
       "    </tr>\n",
       "    <tr>\n",
       "      <th>92</th>\n",
       "      <td>submenuthongtin</td>\n",
       "      <td>tôi muốn cập nhật sđt của mình</td>\n",
       "      <td>tôi muốn cập_nhật sđt của mình</td>\n",
       "      <td>submenuthongtinemailphone</td>\n",
       "    </tr>\n",
       "    <tr>\n",
       "      <th>93</th>\n",
       "      <td>submenuthongtin</td>\n",
       "      <td>tôi muốn cập nhật số điện thoại của mình</td>\n",
       "      <td>tôi muốn cập_nhật số điện_thoại của mình</td>\n",
       "      <td>submenuthongtinemailphone</td>\n",
       "    </tr>\n",
       "    <tr>\n",
       "      <th>94</th>\n",
       "      <td>submenuthongtin</td>\n",
       "      <td>tôi muốn sửa số điện thoại của mình</td>\n",
       "      <td>tôi muốn sửa số điện_thoại của mình</td>\n",
       "      <td>submenuthongtinemailphone</td>\n",
       "    </tr>\n",
       "    <tr>\n",
       "      <th>95</th>\n",
       "      <td>submenuthongtin</td>\n",
       "      <td>tôi muốn thay đổi điện thoại của mình</td>\n",
       "      <td>tôi muốn thay_đổi điện_thoại của mình</td>\n",
       "      <td>submenuthongtinemailphone</td>\n",
       "    </tr>\n",
       "    <tr>\n",
       "      <th>120</th>\n",
       "      <td>submenuthongtinemailphone</td>\n",
       "      <td>sđt</td>\n",
       "      <td>sđt</td>\n",
       "      <td>outofscoreother</td>\n",
       "    </tr>\n",
       "    <tr>\n",
       "      <th>121</th>\n",
       "      <td>submenuthongtinemailphone</td>\n",
       "      <td>số điện thoại</td>\n",
       "      <td>số điện_thoại</td>\n",
       "      <td>outofscoreother</td>\n",
       "    </tr>\n",
       "    <tr>\n",
       "      <th>147</th>\n",
       "      <td>submenulienhetuvan</td>\n",
       "      <td>hotline tư vấn</td>\n",
       "      <td>hotline tư_vấn</td>\n",
       "      <td>outofscoreother</td>\n",
       "    </tr>\n",
       "    <tr>\n",
       "      <th>158</th>\n",
       "      <td>branchlocation</td>\n",
       "      <td>đ chỉ gấn tôi</td>\n",
       "      <td>đ chỉ gấn tôi</td>\n",
       "      <td>outofscoreother</td>\n",
       "    </tr>\n",
       "    <tr>\n",
       "      <th>174</th>\n",
       "      <td>cardproductmainmenu</td>\n",
       "      <td>có những thẻ gì để đăng kí</td>\n",
       "      <td>có những thẻ gì để đăng_kí</td>\n",
       "      <td>cardproductdangkythe</td>\n",
       "    </tr>\n",
       "  </tbody>\n",
       "</table>\n",
       "</div>"
      ],
      "text/plain": [
       "                         label  \\\n",
       "2                    greetings   \n",
       "3                    greetings   \n",
       "4                    greetings   \n",
       "5                    greetings   \n",
       "17                     goodbye   \n",
       "21                     goodbye   \n",
       "24                     goodbye   \n",
       "42                      affirm   \n",
       "45                      affirm   \n",
       "46                      affirm   \n",
       "59                        deny   \n",
       "65                   moodgreat   \n",
       "67                   moodgreat   \n",
       "76                    mainmenu   \n",
       "78                    mainmenu   \n",
       "83                    mainmenu   \n",
       "85                    mainmenu   \n",
       "92             submenuthongtin   \n",
       "93             submenuthongtin   \n",
       "94             submenuthongtin   \n",
       "95             submenuthongtin   \n",
       "120  submenuthongtinemailphone   \n",
       "121  submenuthongtinemailphone   \n",
       "147         submenulienhetuvan   \n",
       "158             branchlocation   \n",
       "174        cardproductmainmenu   \n",
       "\n",
       "                                                  text  \\\n",
       "2                                      tên tôi là thảo   \n",
       "3                       bạn có thể giúp tôi được không   \n",
       "4                              tôi cần hỏi một số việc   \n",
       "5    xin chào bạn có thể giúp tôi một số việc được ...   \n",
       "17                                    mình có việc rồi   \n",
       "21                                                 bài   \n",
       "24                                 oke hẹn gặp lại bot   \n",
       "42                                                okay   \n",
       "45                                                   ừ   \n",
       "46                                               ừ bạn   \n",
       "59                                     tôi không thích   \n",
       "65                                            good job   \n",
       "67                          chưa bao giờ tuyệt vời hơn   \n",
       "76                                           đã có rồi   \n",
       "78                         tôi muốn làm một số thủ tục   \n",
       "83                           mình hỗ trợ những việc gì   \n",
       "85                          làm cho tôi một số thủ tục   \n",
       "92                      tôi muốn cập nhật sđt của mình   \n",
       "93            tôi muốn cập nhật số điện thoại của mình   \n",
       "94                 tôi muốn sửa số điện thoại của mình   \n",
       "95               tôi muốn thay đổi điện thoại của mình   \n",
       "120                                                sđt   \n",
       "121                                      số điện thoại   \n",
       "147                                     hotline tư vấn   \n",
       "158                                      đ chỉ gấn tôi   \n",
       "174                         có những thẻ gì để đăng kí   \n",
       "\n",
       "                                           concat_text  \\\n",
       "2                                      tên tôi là thảo   \n",
       "3                       bạn có_thể giúp tôi được không   \n",
       "4                              tôi cần hỏi một_số việc   \n",
       "5    xin chào bạn có_thể giúp tôi một_số việc được ...   \n",
       "17                                    mình có việc rồi   \n",
       "21                                                 bài   \n",
       "24                                 oke hẹn gặp lại bot   \n",
       "42                                                okay   \n",
       "45                                                   ừ   \n",
       "46                                               ừ bạn   \n",
       "59                                     tôi không thích   \n",
       "65                                            good job   \n",
       "67                          chưa bao_giờ tuyệt_vời hơn   \n",
       "76                                           đã có rồi   \n",
       "78                         tôi muốn làm một_số thủ_tục   \n",
       "83                           mình hỗ_trợ những việc gì   \n",
       "85                          làm cho tôi một_số thủ_tục   \n",
       "92                      tôi muốn cập_nhật sđt của mình   \n",
       "93            tôi muốn cập_nhật số điện_thoại của mình   \n",
       "94                 tôi muốn sửa số điện_thoại của mình   \n",
       "95               tôi muốn thay_đổi điện_thoại của mình   \n",
       "120                                                sđt   \n",
       "121                                      số điện_thoại   \n",
       "147                                     hotline tư_vấn   \n",
       "158                                      đ chỉ gấn tôi   \n",
       "174                         có những thẻ gì để đăng_kí   \n",
       "\n",
       "                         preds  \n",
       "2              outofscoreother  \n",
       "3           submenulienhetuvan  \n",
       "4                     mainmenu  \n",
       "5           submenulienhetuvan  \n",
       "17             outofscoreother  \n",
       "21                    mainmenu  \n",
       "24                   greetings  \n",
       "42                   greetings  \n",
       "45                        deny  \n",
       "46             outofscoreother  \n",
       "59             submenucomplain  \n",
       "65                   greetings  \n",
       "67                      thanks  \n",
       "76             outofscoreother  \n",
       "78      cardproductkiemtrahoso  \n",
       "83             outofscoreother  \n",
       "85             submenuthongtin  \n",
       "92   submenuthongtinemailphone  \n",
       "93   submenuthongtinemailphone  \n",
       "94   submenuthongtinemailphone  \n",
       "95   submenuthongtinemailphone  \n",
       "120            outofscoreother  \n",
       "121            outofscoreother  \n",
       "147            outofscoreother  \n",
       "158            outofscoreother  \n",
       "174       cardproductdangkythe  "
      ]
     },
     "execution_count": 71,
     "metadata": {},
     "output_type": "execute_result"
    }
   ],
   "source": [
    "test_false_df.drop(columns=['Unnamed: 0'], inplace=True)\n",
    "test_false_df"
   ]
  },
  {
   "cell_type": "code",
   "execution_count": 125,
   "id": "5c5d5f6f-042e-4735-b67c-5e1b0cc0c20c",
   "metadata": {
    "tags": []
   },
   "outputs": [
    {
     "name": "stderr",
     "output_type": "stream",
     "text": [
      "/data2/nghiatl/.tmp/ipykernel_588621/318287103.py:1: SettingWithCopyWarning: \n",
      "A value is trying to be set on a copy of a slice from a DataFrame\n",
      "\n",
      "See the caveats in the documentation: https://pandas.pydata.org/pandas-docs/stable/user_guide/indexing.html#returning-a-view-versus-a-copy\n",
      "  test_false_df.drop(columns=['Unnamed: 0'], inplace=True)\n"
     ]
    },
    {
     "data": {
      "text/html": [
       "<div>\n",
       "<style scoped>\n",
       "    .dataframe tbody tr th:only-of-type {\n",
       "        vertical-align: middle;\n",
       "    }\n",
       "\n",
       "    .dataframe tbody tr th {\n",
       "        vertical-align: top;\n",
       "    }\n",
       "\n",
       "    .dataframe thead th {\n",
       "        text-align: right;\n",
       "    }\n",
       "</style>\n",
       "<table border=\"1\" class=\"dataframe\">\n",
       "  <thead>\n",
       "    <tr style=\"text-align: right;\">\n",
       "      <th></th>\n",
       "      <th>label</th>\n",
       "      <th>text</th>\n",
       "      <th>preds</th>\n",
       "    </tr>\n",
       "  </thead>\n",
       "  <tbody>\n",
       "    <tr>\n",
       "      <th>3</th>\n",
       "      <td>greetings</td>\n",
       "      <td>bạn có thể giúp tôi được không</td>\n",
       "      <td>outofscoreother</td>\n",
       "    </tr>\n",
       "    <tr>\n",
       "      <th>17</th>\n",
       "      <td>goodbye</td>\n",
       "      <td>mình có việc rồi</td>\n",
       "      <td>outofscoreother</td>\n",
       "    </tr>\n",
       "    <tr>\n",
       "      <th>21</th>\n",
       "      <td>goodbye</td>\n",
       "      <td>bài</td>\n",
       "      <td>cardproductmainmenu</td>\n",
       "    </tr>\n",
       "    <tr>\n",
       "      <th>22</th>\n",
       "      <td>goodbye</td>\n",
       "      <td>oke gút bai</td>\n",
       "      <td>outofscoreother</td>\n",
       "    </tr>\n",
       "    <tr>\n",
       "      <th>26</th>\n",
       "      <td>goodbye</td>\n",
       "      <td>tôi có việc mất rồi hẹn gặp lại c</td>\n",
       "      <td>outofscoreother</td>\n",
       "    </tr>\n",
       "    <tr>\n",
       "      <th>59</th>\n",
       "      <td>deny</td>\n",
       "      <td>tôi không thích</td>\n",
       "      <td>submenucomplain</td>\n",
       "    </tr>\n",
       "    <tr>\n",
       "      <th>61</th>\n",
       "      <td>deny</td>\n",
       "      <td>hủy đi</td>\n",
       "      <td>outofscoreother</td>\n",
       "    </tr>\n",
       "    <tr>\n",
       "      <th>76</th>\n",
       "      <td>mainmenu</td>\n",
       "      <td>đã có rồi</td>\n",
       "      <td>affirm</td>\n",
       "    </tr>\n",
       "    <tr>\n",
       "      <th>78</th>\n",
       "      <td>mainmenu</td>\n",
       "      <td>tôi muốn làm một số thủ tục</td>\n",
       "      <td>outofscoreother</td>\n",
       "    </tr>\n",
       "    <tr>\n",
       "      <th>83</th>\n",
       "      <td>mainmenu</td>\n",
       "      <td>mình hỗ trợ những việc gì</td>\n",
       "      <td>outofscoreother</td>\n",
       "    </tr>\n",
       "    <tr>\n",
       "      <th>84</th>\n",
       "      <td>mainmenu</td>\n",
       "      <td>tôi muốn hỏi một số thủ tục</td>\n",
       "      <td>outofscoreother</td>\n",
       "    </tr>\n",
       "    <tr>\n",
       "      <th>85</th>\n",
       "      <td>mainmenu</td>\n",
       "      <td>làm cho tôi một số thủ tục</td>\n",
       "      <td>outofscoreother</td>\n",
       "    </tr>\n",
       "    <tr>\n",
       "      <th>92</th>\n",
       "      <td>submenuthongtin</td>\n",
       "      <td>tôi muốn cập nhật sđt của mình</td>\n",
       "      <td>submenuthongtinemailphone</td>\n",
       "    </tr>\n",
       "    <tr>\n",
       "      <th>93</th>\n",
       "      <td>submenuthongtin</td>\n",
       "      <td>tôi muốn cập nhật số điện thoại của mình</td>\n",
       "      <td>submenuthongtinemailphone</td>\n",
       "    </tr>\n",
       "    <tr>\n",
       "      <th>94</th>\n",
       "      <td>submenuthongtin</td>\n",
       "      <td>tôi muốn sửa số điện thoại của mình</td>\n",
       "      <td>submenuthongtinemailphone</td>\n",
       "    </tr>\n",
       "    <tr>\n",
       "      <th>95</th>\n",
       "      <td>submenuthongtin</td>\n",
       "      <td>tôi muốn thay đổi điện thoại của mình</td>\n",
       "      <td>submenuthongtinemailphone</td>\n",
       "    </tr>\n",
       "    <tr>\n",
       "      <th>120</th>\n",
       "      <td>submenuthongtinemailphone</td>\n",
       "      <td>sđt</td>\n",
       "      <td>outofscoreother</td>\n",
       "    </tr>\n",
       "    <tr>\n",
       "      <th>121</th>\n",
       "      <td>submenuthongtinemailphone</td>\n",
       "      <td>số điện thoại</td>\n",
       "      <td>outofscoreother</td>\n",
       "    </tr>\n",
       "    <tr>\n",
       "      <th>143</th>\n",
       "      <td>submenulienhetuvan</td>\n",
       "      <td>tôi cần hỗ trợ tư vấn</td>\n",
       "      <td>greetings</td>\n",
       "    </tr>\n",
       "    <tr>\n",
       "      <th>147</th>\n",
       "      <td>submenulienhetuvan</td>\n",
       "      <td>hotline tư vấn</td>\n",
       "      <td>outofscoreother</td>\n",
       "    </tr>\n",
       "    <tr>\n",
       "      <th>152</th>\n",
       "      <td>submenulienhetuvan</td>\n",
       "      <td>hỗ trợ tư vấn</td>\n",
       "      <td>outofscoreother</td>\n",
       "    </tr>\n",
       "    <tr>\n",
       "      <th>158</th>\n",
       "      <td>branchlocation</td>\n",
       "      <td>đ chỉ gấn tôi</td>\n",
       "      <td>outofscoreother</td>\n",
       "    </tr>\n",
       "    <tr>\n",
       "      <th>171</th>\n",
       "      <td>cardproductmainmenu</td>\n",
       "      <td>cần thẻ để rút tiền</td>\n",
       "      <td>outofscoreother</td>\n",
       "    </tr>\n",
       "    <tr>\n",
       "      <th>174</th>\n",
       "      <td>cardproductmainmenu</td>\n",
       "      <td>có những thẻ gì để đăng kí</td>\n",
       "      <td>cardproductdangkythe</td>\n",
       "    </tr>\n",
       "    <tr>\n",
       "      <th>201</th>\n",
       "      <td>cardproductkiemtrahoso</td>\n",
       "      <td>tra hồ sơ cá nhân</td>\n",
       "      <td>submenuthongtinID</td>\n",
       "    </tr>\n",
       "  </tbody>\n",
       "</table>\n",
       "</div>"
      ],
      "text/plain": [
       "                         label                                      text  \\\n",
       "3                    greetings            bạn có thể giúp tôi được không   \n",
       "17                     goodbye                          mình có việc rồi   \n",
       "21                     goodbye                                       bài   \n",
       "22                     goodbye                               oke gút bai   \n",
       "26                     goodbye         tôi có việc mất rồi hẹn gặp lại c   \n",
       "59                        deny                           tôi không thích   \n",
       "61                        deny                                    hủy đi   \n",
       "76                    mainmenu                                 đã có rồi   \n",
       "78                    mainmenu               tôi muốn làm một số thủ tục   \n",
       "83                    mainmenu                 mình hỗ trợ những việc gì   \n",
       "84                    mainmenu               tôi muốn hỏi một số thủ tục   \n",
       "85                    mainmenu                làm cho tôi một số thủ tục   \n",
       "92             submenuthongtin            tôi muốn cập nhật sđt của mình   \n",
       "93             submenuthongtin  tôi muốn cập nhật số điện thoại của mình   \n",
       "94             submenuthongtin       tôi muốn sửa số điện thoại của mình   \n",
       "95             submenuthongtin     tôi muốn thay đổi điện thoại của mình   \n",
       "120  submenuthongtinemailphone                                       sđt   \n",
       "121  submenuthongtinemailphone                             số điện thoại   \n",
       "143         submenulienhetuvan                     tôi cần hỗ trợ tư vấn   \n",
       "147         submenulienhetuvan                            hotline tư vấn   \n",
       "152         submenulienhetuvan                             hỗ trợ tư vấn   \n",
       "158             branchlocation                             đ chỉ gấn tôi   \n",
       "171        cardproductmainmenu                       cần thẻ để rút tiền   \n",
       "174        cardproductmainmenu                có những thẻ gì để đăng kí   \n",
       "201     cardproductkiemtrahoso                         tra hồ sơ cá nhân   \n",
       "\n",
       "                         preds  \n",
       "3              outofscoreother  \n",
       "17             outofscoreother  \n",
       "21         cardproductmainmenu  \n",
       "22             outofscoreother  \n",
       "26             outofscoreother  \n",
       "59             submenucomplain  \n",
       "61             outofscoreother  \n",
       "76                      affirm  \n",
       "78             outofscoreother  \n",
       "83             outofscoreother  \n",
       "84             outofscoreother  \n",
       "85             outofscoreother  \n",
       "92   submenuthongtinemailphone  \n",
       "93   submenuthongtinemailphone  \n",
       "94   submenuthongtinemailphone  \n",
       "95   submenuthongtinemailphone  \n",
       "120            outofscoreother  \n",
       "121            outofscoreother  \n",
       "143                  greetings  \n",
       "147            outofscoreother  \n",
       "152            outofscoreother  \n",
       "158            outofscoreother  \n",
       "171            outofscoreother  \n",
       "174       cardproductdangkythe  \n",
       "201          submenuthongtinID  "
      ]
     },
     "execution_count": 125,
     "metadata": {},
     "output_type": "execute_result"
    }
   ],
   "source": [
    "test_false_df.drop(columns=['Unnamed: 0'], inplace=True)\n",
    "test_false_df"
   ]
  },
  {
   "cell_type": "code",
   "execution_count": 73,
   "id": "1104a7dd-5045-4561-8420-2035c0be497f",
   "metadata": {
    "tags": []
   },
   "outputs": [
    {
     "data": {
      "text/plain": [
       "{0: 'chào hỏi làm quen và muốn hỏi',\n",
       " 1: 'muốn kết thúc trò chuyện',\n",
       " 2: 'cảm ơn và hài lòng dịch vụ',\n",
       " 3: 'xác nhận',\n",
       " 4: 'từ chối',\n",
       " 5: 'tâm trạng tốt',\n",
       " 6: 'đã sử dụng hoặc muốn biết về các thông tin chung',\n",
       " 7: 'muốn đổi thông tin',\n",
       " 8: 'muốn đổi chứng minh nhân dân',\n",
       " 9: 'muốn đổi email hoặc đổi số điện thoại',\n",
       " 10: 'xin giá phí',\n",
       " 11: 'phàn nàn không hài lòng',\n",
       " 12: 'cần tổng đài tư vấn trực tiếp',\n",
       " 13: 'hỏi địa chỉ chi nhánh',\n",
       " 14: 'chưa sử dụng và muốn biết về các dịch vụ thẻ',\n",
       " 15: 'đăng kí mở thẻ',\n",
       " 16: 'hỏi ưu đãi khuyến mãi',\n",
       " 17: 'kiểm tra thông tin hồ sơ thẻ',\n",
       " 18: 'kiểm tra giao nhận',\n",
       " 19: 'tiếng nước ngoài',\n",
       " 20: 'không liên quan'}"
      ]
     },
     "execution_count": 73,
     "metadata": {},
     "output_type": "execute_result"
    }
   ],
   "source": [
    "label_descript"
   ]
  },
  {
   "cell_type": "code",
   "execution_count": 143,
   "id": "2e9acc30-5f63-4f46-9297-711cb3906347",
   "metadata": {
    "tags": []
   },
   "outputs": [],
   "source": [
    "test_false_df.to_excel('./data/false_predict_multilignual.xlsx', index = False)"
   ]
  },
  {
   "cell_type": "code",
   "execution_count": 172,
   "id": "fc1e084c-f5d9-40d1-897c-98591279537d",
   "metadata": {},
   "outputs": [
    {
     "data": {
      "text/html": [
       "<div>\n",
       "<style scoped>\n",
       "    .dataframe tbody tr th:only-of-type {\n",
       "        vertical-align: middle;\n",
       "    }\n",
       "\n",
       "    .dataframe tbody tr th {\n",
       "        vertical-align: top;\n",
       "    }\n",
       "\n",
       "    .dataframe thead th {\n",
       "        text-align: right;\n",
       "    }\n",
       "</style>\n",
       "<table border=\"1\" class=\"dataframe\">\n",
       "  <thead>\n",
       "    <tr style=\"text-align: right;\">\n",
       "      <th></th>\n",
       "      <th>Link bài</th>\n",
       "      <th>title</th>\n",
       "      <th>sapo</th>\n",
       "      <th>content</th>\n",
       "    </tr>\n",
       "  </thead>\n",
       "  <tbody>\n",
       "    <tr>\n",
       "      <th>0</th>\n",
       "      <td>https://kenh14.vn/phi-cong-may-bay-su-22-hy-si...</td>\n",
       "      <td>Phi công máy bay Su-22 hy sinh được truy tặng ...</td>\n",
       "      <td>Ban Thường vụ Trung ương Đoàn TNCS Hồ Chí Minh...</td>\n",
       "      <td>Ngày 1/2, Bí thư Thường trực Trung ương Đoàn N...</td>\n",
       "    </tr>\n",
       "    <tr>\n",
       "      <th>1</th>\n",
       "      <td>https://kenh14.vn/tai-nan-may-bay-quan-su-o-ye...</td>\n",
       "      <td>Tai nạn máy bay quân sự ở Yên Bái, một phi côn...</td>\n",
       "      <td>Chiều 31/1, nguồn tin của Tiền Phong cho biết ...</td>\n",
       "      <td>Theo đó, vào lúc 12 giờ 9 phút cùng ngày, máy ...</td>\n",
       "    </tr>\n",
       "    <tr>\n",
       "      <th>2</th>\n",
       "      <td>https://kenh14.vn/loi-khai-cua-ke-cuop-tiem-va...</td>\n",
       "      <td>Lời khai của kẻ cướp tiệm vàng ngày vía Thần T...</td>\n",
       "      <td>Sau khi tiêu hết tiền, Huỳnh Dũng Em nảy sinh ...</td>\n",
       "      <td>Công an thị xã Bình Minh, tỉnh Vĩnh Long vẫn đ...</td>\n",
       "    </tr>\n",
       "  </tbody>\n",
       "</table>\n",
       "</div>"
      ],
      "text/plain": [
       "                                            Link bài  \\\n",
       "0  https://kenh14.vn/phi-cong-may-bay-su-22-hy-si...   \n",
       "1  https://kenh14.vn/tai-nan-may-bay-quan-su-o-ye...   \n",
       "2  https://kenh14.vn/loi-khai-cua-ke-cuop-tiem-va...   \n",
       "\n",
       "                                               title  \\\n",
       "0  Phi công máy bay Su-22 hy sinh được truy tặng ...   \n",
       "1  Tai nạn máy bay quân sự ở Yên Bái, một phi côn...   \n",
       "2  Lời khai của kẻ cướp tiệm vàng ngày vía Thần T...   \n",
       "\n",
       "                                                sapo  \\\n",
       "0  Ban Thường vụ Trung ương Đoàn TNCS Hồ Chí Minh...   \n",
       "1  Chiều 31/1, nguồn tin của Tiền Phong cho biết ...   \n",
       "2  Sau khi tiêu hết tiền, Huỳnh Dũng Em nảy sinh ...   \n",
       "\n",
       "                                             content  \n",
       "0  Ngày 1/2, Bí thư Thường trực Trung ương Đoàn N...  \n",
       "1  Theo đó, vào lúc 12 giờ 9 phút cùng ngày, máy ...  \n",
       "2  Công an thị xã Bình Minh, tỉnh Vĩnh Long vẫn đ...  "
      ]
     },
     "execution_count": 172,
     "metadata": {},
     "output_type": "execute_result"
    }
   ],
   "source": [
    "test_df_50 = pd.read_csv('./dataset/3_xa_hoi_test_crawled.csv')\n",
    "test_df_50.head()"
   ]
  },
  {
   "cell_type": "code",
   "execution_count": 80,
   "id": "5453cf87-c6fe-4e8e-88f7-a88d5e5bfcd7",
   "metadata": {},
   "outputs": [],
   "source": [
    "test_df_50.loc[test_df_50['Chủ đề'] == 'ngày, lễ đặc biệt', \"Chủ đề\"]= \"ngày lễ trong năm\""
   ]
  },
  {
   "cell_type": "code",
   "execution_count": 180,
   "id": "8a9adbc9-6e3b-4036-a2e8-522f9770eec0",
   "metadata": {},
   "outputs": [
    {
     "data": {
      "text/plain": [
       "'Ban Thường vụ Trung ương Đoàn TNCS Hồ Chí Minh truy tặng Huy hiệu \"Tuổi trẻ dũng cảm\" cho Thiếu tá Trần Ngọc Duy vì đã dũng cảm hy sinh khi thực hiện nhiệm vụ.'"
      ]
     },
     "execution_count": 180,
     "metadata": {},
     "output_type": "execute_result"
    }
   ],
   "source": [
    "test_df_50.iloc[0]['sapo']"
   ]
  },
  {
   "cell_type": "code",
   "execution_count": 81,
   "id": "3f3c80ec-8e9d-4717-8036-d0da3af538fe",
   "metadata": {},
   "outputs": [
    {
     "data": {
      "text/html": [
       "<div>\n",
       "<style scoped>\n",
       "    .dataframe tbody tr th:only-of-type {\n",
       "        vertical-align: middle;\n",
       "    }\n",
       "\n",
       "    .dataframe tbody tr th {\n",
       "        vertical-align: top;\n",
       "    }\n",
       "\n",
       "    .dataframe thead th {\n",
       "        text-align: right;\n",
       "    }\n",
       "</style>\n",
       "<table border=\"1\" class=\"dataframe\">\n",
       "  <thead>\n",
       "    <tr style=\"text-align: right;\">\n",
       "      <th></th>\n",
       "      <th>Chủ đề</th>\n",
       "      <th>Link bài</th>\n",
       "      <th>title</th>\n",
       "      <th>sapo</th>\n",
       "      <th>content</th>\n",
       "      <th>label</th>\n",
       "    </tr>\n",
       "  </thead>\n",
       "  <tbody>\n",
       "    <tr>\n",
       "      <th>0</th>\n",
       "      <td>cháy</td>\n",
       "      <td>https://kenh14.vn/clip-xe-oto-con-dang-chay-ba...</td>\n",
       "      <td>CLIP: Xe ôtô con đang chạy bất ngờ bốc cháy ng...</td>\n",
       "      <td>Đang lưu thông trên quốc lộ, xe ôtô con bất ng...</td>\n",
       "      <td>Vụ việc trên xảy lúc hơn 20 giờ ngày 31-10, tr...</td>\n",
       "      <td>5</td>\n",
       "    </tr>\n",
       "    <tr>\n",
       "      <th>1</th>\n",
       "      <td>bão</td>\n",
       "      <td>https://kenh14.vn/bao-so-7-cach-quan-dao-hoang...</td>\n",
       "      <td>Bão số 7 cách quần đảo Hoàng Sa khoảng 570km, ...</td>\n",
       "      <td>Trong 12 giờ tới, bão có khả năng mạnh thê...</td>\n",
       "      <td>Trung tâm Dự báo khí tượng thủy văn quốc gia c...</td>\n",
       "      <td>9</td>\n",
       "    </tr>\n",
       "    <tr>\n",
       "      <th>2</th>\n",
       "      <td>tai nạn</td>\n",
       "      <td>https://kenh14.vn/tang-thuong-ca-gia-dinh-cong...</td>\n",
       "      <td>Tang thương cả gia đình công nhân ra đi vì tai...</td>\n",
       "      <td>14 giờ chiều nay (2/11), gia đình sẽ tổ chức a...</td>\n",
       "      <td>Tại lễ tang 3 cha con anh Phạm Văn Luốc (37 tu...</td>\n",
       "      <td>6</td>\n",
       "    </tr>\n",
       "    <tr>\n",
       "      <th>3</th>\n",
       "      <td>dự báo thời tiết</td>\n",
       "      <td>https://kenh14.vn/bac-bo-co-the-ret-dam-trong-...</td>\n",
       "      <td>Bắc Bộ có thể rét đậm trong dịp Tết Nguyên đán</td>\n",
       "      <td>Theo dự báo, dịp Tết Nguyên đán năm 2023, Bắc ...</td>\n",
       "      <td>Theo Trung tâm Dự báo Khí tượng Thuỷ văn Quốc ...</td>\n",
       "      <td>8</td>\n",
       "    </tr>\n",
       "    <tr>\n",
       "      <th>4</th>\n",
       "      <td>dự báo thời tiết</td>\n",
       "      <td>https://kenh14.vn/chuyen-gia-ret-dam-ret-hai-b...</td>\n",
       "      <td>Chuyên gia: Rét đậm, rét hại, băng giá có thể ...</td>\n",
       "      <td>Chuyên gia thời tiết đưa ra những cảnh báo về ...</td>\n",
       "      <td>Video: Chuyên gia cảnh báo đợt rét đậm, rét hạ...</td>\n",
       "      <td>8</td>\n",
       "    </tr>\n",
       "  </tbody>\n",
       "</table>\n",
       "</div>"
      ],
      "text/plain": [
       "             Chủ đề                                           Link bài  \\\n",
       "0              cháy  https://kenh14.vn/clip-xe-oto-con-dang-chay-ba...   \n",
       "1               bão  https://kenh14.vn/bao-so-7-cach-quan-dao-hoang...   \n",
       "2           tai nạn  https://kenh14.vn/tang-thuong-ca-gia-dinh-cong...   \n",
       "3  dự báo thời tiết  https://kenh14.vn/bac-bo-co-the-ret-dam-trong-...   \n",
       "4  dự báo thời tiết  https://kenh14.vn/chuyen-gia-ret-dam-ret-hai-b...   \n",
       "\n",
       "                                               title  \\\n",
       "0  CLIP: Xe ôtô con đang chạy bất ngờ bốc cháy ng...   \n",
       "1  Bão số 7 cách quần đảo Hoàng Sa khoảng 570km, ...   \n",
       "2  Tang thương cả gia đình công nhân ra đi vì tai...   \n",
       "3     Bắc Bộ có thể rét đậm trong dịp Tết Nguyên đán   \n",
       "4  Chuyên gia: Rét đậm, rét hại, băng giá có thể ...   \n",
       "\n",
       "                                                sapo  \\\n",
       "0  Đang lưu thông trên quốc lộ, xe ôtô con bất ng...   \n",
       "1  Trong 12 giờ tới, bão có khả năng mạnh thê...   \n",
       "2  14 giờ chiều nay (2/11), gia đình sẽ tổ chức a...   \n",
       "3  Theo dự báo, dịp Tết Nguyên đán năm 2023, Bắc ...   \n",
       "4  Chuyên gia thời tiết đưa ra những cảnh báo về ...   \n",
       "\n",
       "                                             content  label  \n",
       "0  Vụ việc trên xảy lúc hơn 20 giờ ngày 31-10, tr...      5  \n",
       "1  Trung tâm Dự báo khí tượng thủy văn quốc gia c...      9  \n",
       "2  Tại lễ tang 3 cha con anh Phạm Văn Luốc (37 tu...      6  \n",
       "3  Theo Trung tâm Dự báo Khí tượng Thuỷ văn Quốc ...      8  \n",
       "4  Video: Chuyên gia cảnh báo đợt rét đậm, rét hạ...      8  "
      ]
     },
     "execution_count": 81,
     "metadata": {},
     "output_type": "execute_result"
    }
   ],
   "source": [
    "test_df_50['label'] = test_df_50['Chủ đề'].apply(lambda x: convert_label(x))\n",
    "test_df_50.head()"
   ]
  },
  {
   "cell_type": "code",
   "execution_count": 173,
   "id": "9d11e453-b724-4c0b-9298-597ae249021a",
   "metadata": {},
   "outputs": [
    {
     "data": {
      "text/html": [
       "<div>\n",
       "<style scoped>\n",
       "    .dataframe tbody tr th:only-of-type {\n",
       "        vertical-align: middle;\n",
       "    }\n",
       "\n",
       "    .dataframe tbody tr th {\n",
       "        vertical-align: top;\n",
       "    }\n",
       "\n",
       "    .dataframe thead th {\n",
       "        text-align: right;\n",
       "    }\n",
       "</style>\n",
       "<table border=\"1\" class=\"dataframe\">\n",
       "  <thead>\n",
       "    <tr style=\"text-align: right;\">\n",
       "      <th></th>\n",
       "      <th>Link bài</th>\n",
       "      <th>title</th>\n",
       "      <th>sapo</th>\n",
       "      <th>content</th>\n",
       "      <th>concat_text</th>\n",
       "    </tr>\n",
       "  </thead>\n",
       "  <tbody>\n",
       "    <tr>\n",
       "      <th>0</th>\n",
       "      <td>https://kenh14.vn/phi-cong-may-bay-su-22-hy-si...</td>\n",
       "      <td>Phi công máy bay Su-22 hy sinh được truy tặng ...</td>\n",
       "      <td>Ban Thường vụ Trung ương Đoàn TNCS Hồ Chí Minh...</td>\n",
       "      <td>Ngày 1/2, Bí thư Thường trực Trung ương Đoàn N...</td>\n",
       "      <td>Phi_công máy_bay Su 22 hy_sinh được truy_tặng ...</td>\n",
       "    </tr>\n",
       "    <tr>\n",
       "      <th>1</th>\n",
       "      <td>https://kenh14.vn/tai-nan-may-bay-quan-su-o-ye...</td>\n",
       "      <td>Tai nạn máy bay quân sự ở Yên Bái, một phi côn...</td>\n",
       "      <td>Chiều 31/1, nguồn tin của Tiền Phong cho biết ...</td>\n",
       "      <td>Theo đó, vào lúc 12 giờ 9 phút cùng ngày, máy ...</td>\n",
       "      <td>Tai_nạn máy_bay quân_sự ở Yên_Bái một phi_công...</td>\n",
       "    </tr>\n",
       "    <tr>\n",
       "      <th>2</th>\n",
       "      <td>https://kenh14.vn/loi-khai-cua-ke-cuop-tiem-va...</td>\n",
       "      <td>Lời khai của kẻ cướp tiệm vàng ngày vía Thần T...</td>\n",
       "      <td>Sau khi tiêu hết tiền, Huỳnh Dũng Em nảy sinh ...</td>\n",
       "      <td>Công an thị xã Bình Minh, tỉnh Vĩnh Long vẫn đ...</td>\n",
       "      <td>Lời khai của kẻ_cướp tiệm vàng ngày vía Thần_T...</td>\n",
       "    </tr>\n",
       "  </tbody>\n",
       "</table>\n",
       "</div>"
      ],
      "text/plain": [
       "                                            Link bài  \\\n",
       "0  https://kenh14.vn/phi-cong-may-bay-su-22-hy-si...   \n",
       "1  https://kenh14.vn/tai-nan-may-bay-quan-su-o-ye...   \n",
       "2  https://kenh14.vn/loi-khai-cua-ke-cuop-tiem-va...   \n",
       "\n",
       "                                               title  \\\n",
       "0  Phi công máy bay Su-22 hy sinh được truy tặng ...   \n",
       "1  Tai nạn máy bay quân sự ở Yên Bái, một phi côn...   \n",
       "2  Lời khai của kẻ cướp tiệm vàng ngày vía Thần T...   \n",
       "\n",
       "                                                sapo  \\\n",
       "0  Ban Thường vụ Trung ương Đoàn TNCS Hồ Chí Minh...   \n",
       "1  Chiều 31/1, nguồn tin của Tiền Phong cho biết ...   \n",
       "2  Sau khi tiêu hết tiền, Huỳnh Dũng Em nảy sinh ...   \n",
       "\n",
       "                                             content  \\\n",
       "0  Ngày 1/2, Bí thư Thường trực Trung ương Đoàn N...   \n",
       "1  Theo đó, vào lúc 12 giờ 9 phút cùng ngày, máy ...   \n",
       "2  Công an thị xã Bình Minh, tỉnh Vĩnh Long vẫn đ...   \n",
       "\n",
       "                                         concat_text  \n",
       "0  Phi_công máy_bay Su 22 hy_sinh được truy_tặng ...  \n",
       "1  Tai_nạn máy_bay quân_sự ở Yên_Bái một phi_công...  \n",
       "2  Lời khai của kẻ_cướp tiệm vàng ngày vía Thần_T...  "
      ]
     },
     "execution_count": 173,
     "metadata": {},
     "output_type": "execute_result"
    }
   ],
   "source": [
    "test_df_50['concat_text'] = test_df_50.apply(lambda x: preprocess_text(x), axis = 1)\n",
    "test_df_50"
   ]
  },
  {
   "cell_type": "code",
   "execution_count": 102,
   "id": "f72abed1-1b52-4390-a71c-7e3b39ff4f8f",
   "metadata": {},
   "outputs": [],
   "source": [
    "label_l = ['rơi chung cư', 'Ngày cá tháng tư', 'Tết', 'ngày cô hồn', 'Lễ vu lan', 'hiếp dâm', 'cháy', 'tai nạn', 'Trung thu', 'dự báo thời tiết', 'bão', 'ngày lễ trong năm', 'Lễ Thất tịch', 'doanh nhân/ đại gia /người nổi tiếng', 'vụ án: chém/giết người/thảm sát/nổ súng', 'phốt', 'ngộ độc thực phẩm', 'bạo hành', 'đánh ghen']"
   ]
  },
  {
   "cell_type": "code",
   "execution_count": 103,
   "id": "ab4daf68-75b9-46d7-b201-8e5f77f352fc",
   "metadata": {},
   "outputs": [],
   "source": [
    "preds = [convert_label(label_l[p]) for p in preds]"
   ]
  },
  {
   "cell_type": "code",
   "execution_count": 147,
   "id": "27fd14b8-1322-4a68-8dd0-39d6fd20d658",
   "metadata": {},
   "outputs": [
    {
     "data": {
      "text/plain": [
       "'Lễ Thất tịch'"
      ]
     },
     "execution_count": 147,
     "metadata": {},
     "output_type": "execute_result"
    }
   ],
   "source": [
    "label_list[11]"
   ]
  },
  {
   "cell_type": "code",
   "execution_count": 106,
   "id": "33b49d9f-7d90-413b-b3e6-368d271f74b9",
   "metadata": {},
   "outputs": [
    {
     "name": "stdout",
     "output_type": "stream",
     "text": [
      "              precision    recall  f1-score   support\n",
      "\n",
      "           2       0.00      0.00      0.00         0\n",
      "           5       0.80      1.00      0.89         4\n",
      "           6       1.00      0.93      0.96        14\n",
      "           8       1.00      1.00      1.00        18\n",
      "           9       1.00      1.00      1.00         2\n",
      "          10       0.00      0.00      0.00         1\n",
      "          13       1.00      1.00      1.00        11\n",
      "\n",
      "    accuracy                           0.96        50\n",
      "   macro avg       0.69      0.70      0.69        50\n",
      "weighted avg       0.96      0.96      0.96        50\n",
      "\n"
     ]
    },
    {
     "name": "stderr",
     "output_type": "stream",
     "text": [
      "/home/nghiatl/anaconda3/envs/SEO/lib/python3.8/site-packages/sklearn/metrics/_classification.py:1344: UndefinedMetricWarning: Precision and F-score are ill-defined and being set to 0.0 in labels with no predicted samples. Use `zero_division` parameter to control this behavior.\n",
      "  _warn_prf(average, modifier, msg_start, len(result))\n",
      "/home/nghiatl/anaconda3/envs/SEO/lib/python3.8/site-packages/sklearn/metrics/_classification.py:1344: UndefinedMetricWarning: Recall and F-score are ill-defined and being set to 0.0 in labels with no true samples. Use `zero_division` parameter to control this behavior.\n",
      "  _warn_prf(average, modifier, msg_start, len(result))\n",
      "/home/nghiatl/anaconda3/envs/SEO/lib/python3.8/site-packages/sklearn/metrics/_classification.py:1344: UndefinedMetricWarning: Precision and F-score are ill-defined and being set to 0.0 in labels with no predicted samples. Use `zero_division` parameter to control this behavior.\n",
      "  _warn_prf(average, modifier, msg_start, len(result))\n",
      "/home/nghiatl/anaconda3/envs/SEO/lib/python3.8/site-packages/sklearn/metrics/_classification.py:1344: UndefinedMetricWarning: Recall and F-score are ill-defined and being set to 0.0 in labels with no true samples. Use `zero_division` parameter to control this behavior.\n",
      "  _warn_prf(average, modifier, msg_start, len(result))\n",
      "/home/nghiatl/anaconda3/envs/SEO/lib/python3.8/site-packages/sklearn/metrics/_classification.py:1344: UndefinedMetricWarning: Precision and F-score are ill-defined and being set to 0.0 in labels with no predicted samples. Use `zero_division` parameter to control this behavior.\n",
      "  _warn_prf(average, modifier, msg_start, len(result))\n",
      "/home/nghiatl/anaconda3/envs/SEO/lib/python3.8/site-packages/sklearn/metrics/_classification.py:1344: UndefinedMetricWarning: Recall and F-score are ill-defined and being set to 0.0 in labels with no true samples. Use `zero_division` parameter to control this behavior.\n",
      "  _warn_prf(average, modifier, msg_start, len(result))\n"
     ]
    }
   ],
   "source": [
    "# ckpt 3\n",
    "print(classification_report(y_true, preds))"
   ]
  },
  {
   "cell_type": "code",
   "execution_count": 91,
   "id": "85c90392-be3a-4d7f-abea-361b5a437dc5",
   "metadata": {},
   "outputs": [
    {
     "name": "stdout",
     "output_type": "stream",
     "text": [
      "              precision    recall  f1-score   support\n",
      "\n",
      "           5       0.80      1.00      0.89         4\n",
      "           6       1.00      0.93      0.96        14\n",
      "           8       1.00      1.00      1.00        18\n",
      "           9       1.00      1.00      1.00         2\n",
      "          10       0.00      0.00      0.00         1\n",
      "          11       0.00      0.00      0.00         0\n",
      "          13       1.00      1.00      1.00        11\n",
      "\n",
      "    accuracy                           0.96        50\n",
      "   macro avg       0.69      0.70      0.69        50\n",
      "weighted avg       0.96      0.96      0.96        50\n",
      "\n"
     ]
    },
    {
     "name": "stderr",
     "output_type": "stream",
     "text": [
      "/home/nghiatl/anaconda3/envs/SEO/lib/python3.8/site-packages/sklearn/metrics/_classification.py:1344: UndefinedMetricWarning: Precision and F-score are ill-defined and being set to 0.0 in labels with no predicted samples. Use `zero_division` parameter to control this behavior.\n",
      "  _warn_prf(average, modifier, msg_start, len(result))\n",
      "/home/nghiatl/anaconda3/envs/SEO/lib/python3.8/site-packages/sklearn/metrics/_classification.py:1344: UndefinedMetricWarning: Recall and F-score are ill-defined and being set to 0.0 in labels with no true samples. Use `zero_division` parameter to control this behavior.\n",
      "  _warn_prf(average, modifier, msg_start, len(result))\n",
      "/home/nghiatl/anaconda3/envs/SEO/lib/python3.8/site-packages/sklearn/metrics/_classification.py:1344: UndefinedMetricWarning: Precision and F-score are ill-defined and being set to 0.0 in labels with no predicted samples. Use `zero_division` parameter to control this behavior.\n",
      "  _warn_prf(average, modifier, msg_start, len(result))\n",
      "/home/nghiatl/anaconda3/envs/SEO/lib/python3.8/site-packages/sklearn/metrics/_classification.py:1344: UndefinedMetricWarning: Recall and F-score are ill-defined and being set to 0.0 in labels with no true samples. Use `zero_division` parameter to control this behavior.\n",
      "  _warn_prf(average, modifier, msg_start, len(result))\n",
      "/home/nghiatl/anaconda3/envs/SEO/lib/python3.8/site-packages/sklearn/metrics/_classification.py:1344: UndefinedMetricWarning: Precision and F-score are ill-defined and being set to 0.0 in labels with no predicted samples. Use `zero_division` parameter to control this behavior.\n",
      "  _warn_prf(average, modifier, msg_start, len(result))\n",
      "/home/nghiatl/anaconda3/envs/SEO/lib/python3.8/site-packages/sklearn/metrics/_classification.py:1344: UndefinedMetricWarning: Recall and F-score are ill-defined and being set to 0.0 in labels with no true samples. Use `zero_division` parameter to control this behavior.\n",
      "  _warn_prf(average, modifier, msg_start, len(result))\n"
     ]
    }
   ],
   "source": [
    "#ckpt\n",
    "print(classification_report(y_true, preds))"
   ]
  },
  {
   "cell_type": "code",
   "execution_count": 150,
   "id": "9f6d1e13-3d8d-4ba3-b55a-04c3c355e7d3",
   "metadata": {},
   "outputs": [
    {
     "name": "stdout",
     "output_type": "stream",
     "text": [
      "(2, 10)\n"
     ]
    },
    {
     "data": {
      "text/plain": [
       "[47]"
      ]
     },
     "execution_count": 150,
     "metadata": {},
     "output_type": "execute_result"
    }
   ],
   "source": [
    "false_preds_idx = []\n",
    "for idx, p in enumerate(zip(preds, y_true)):\n",
    "    if p[1] == 10 and p[0] != p[1]:\n",
    "        print(p)\n",
    "        false_preds_idx.append(idx)\n",
    "false_preds_idx"
   ]
  },
  {
   "cell_type": "code",
   "execution_count": 152,
   "id": "eda5cdb6-3656-443f-bc04-51cfcdd68cae",
   "metadata": {},
   "outputs": [
    {
     "data": {
      "text/html": [
       "<div>\n",
       "<style scoped>\n",
       "    .dataframe tbody tr th:only-of-type {\n",
       "        vertical-align: middle;\n",
       "    }\n",
       "\n",
       "    .dataframe tbody tr th {\n",
       "        vertical-align: top;\n",
       "    }\n",
       "\n",
       "    .dataframe thead th {\n",
       "        text-align: right;\n",
       "    }\n",
       "</style>\n",
       "<table border=\"1\" class=\"dataframe\">\n",
       "  <thead>\n",
       "    <tr style=\"text-align: right;\">\n",
       "      <th></th>\n",
       "      <th>Chủ đề</th>\n",
       "      <th>Link bài</th>\n",
       "      <th>title</th>\n",
       "      <th>sapo</th>\n",
       "      <th>content</th>\n",
       "      <th>label</th>\n",
       "      <th>concat_text</th>\n",
       "    </tr>\n",
       "  </thead>\n",
       "  <tbody>\n",
       "    <tr>\n",
       "      <th>47</th>\n",
       "      <td>ngày lễ trong năm</td>\n",
       "      <td>https://kenh14.vn/dan-cong-so-ha-noi-ngoi-chat...</td>\n",
       "      <td>Dân công sở Hà Nội ngồi chật kín giữa trời rét...</td>\n",
       "      <td>Tối ngày 31/1 (tức ngày 10 tháng Giêng âm lịch...</td>\n",
       "      <td>Theo ghi nhận của phóng viên, lượng người đi m...</td>\n",
       "      <td>10</td>\n",
       "      <td>Dân_công_sở Hà_Nội ngồi chật kín giữa trời rét...</td>\n",
       "    </tr>\n",
       "  </tbody>\n",
       "</table>\n",
       "</div>"
      ],
      "text/plain": [
       "               Chủ đề                                           Link bài  \\\n",
       "47  ngày lễ trong năm  https://kenh14.vn/dan-cong-so-ha-noi-ngoi-chat...   \n",
       "\n",
       "                                                title  \\\n",
       "47  Dân công sở Hà Nội ngồi chật kín giữa trời rét...   \n",
       "\n",
       "                                                 sapo  \\\n",
       "47  Tối ngày 31/1 (tức ngày 10 tháng Giêng âm lịch...   \n",
       "\n",
       "                                              content  label  \\\n",
       "47  Theo ghi nhận của phóng viên, lượng người đi m...     10   \n",
       "\n",
       "                                          concat_text  \n",
       "47  Dân_công_sở Hà_Nội ngồi chật kín giữa trời rét...  "
      ]
     },
     "execution_count": 152,
     "metadata": {},
     "output_type": "execute_result"
    }
   ],
   "source": [
    "test_df_50.iloc[false_preds_idx]"
   ]
  },
  {
   "cell_type": "code",
   "execution_count": 154,
   "id": "e5d3fd7f-5ba6-4112-9628-abf8183955d2",
   "metadata": {},
   "outputs": [
    {
     "data": {
      "text/plain": [
       "'Tối ngày 31/1 (tức ngày 10 tháng Giêng âm lịch hay còn được gọi là ngày vía Thần Tài), các cửa hàng vàng trên địa bàn Hà Nội vẫn chật kín người dân mua vàng.'"
      ]
     },
     "execution_count": 154,
     "metadata": {},
     "output_type": "execute_result"
    }
   ],
   "source": [
    "test_df_50.iloc[false_preds_idx].iloc[0]['sapo']"
   ]
  },
  {
   "cell_type": "code",
   "execution_count": 52,
   "id": "1b069c86-63fc-4039-90cf-d86b33ceb839",
   "metadata": {},
   "outputs": [],
   "source": [
    "# from sentence_transformers import SentenceTransformer\n",
    "# from pyvi.ViTokenizer import tokenize\n",
    "\n",
    "# model = SentenceTransformer('VoVanPhuc/sup-SimCSE-VietNamese-phobert-base')\n",
    "\n",
    "# sentences = ['Kẻ đánh bom đinh tồi tệ nhất nước Anh.',\n",
    "#           'Nghệ sĩ làm thiện nguyện - minh bạch là việc cấp thiết.',\n",
    "#           'Bắc Giang tăng khả năng điều trị và xét nghiệm.',\n",
    "#           'HLV futsal Việt Nam tiết lộ lý do hạ Lebanon.',\n",
    "#           'việc quan trọng khi kêu gọi quyên góp từ thiện là phải minh bạch, giải ngân kịp thời.',\n",
    "#           '20% bệnh nhân Covid-19 có thể nhanh chóng trở nặng.',\n",
    "#           'thái Lan thua giao hữu trước vòng loại World Cup.',\n",
    "#           'Cựu tuyển thủ Nguyễn Bảo Quân: May mắn ủng hộ futsal Việt Nam',\n",
    "#           'Chủ ki-ốt bị đâm chết trong chợ đầu mối lớn nhất Thanh Hoá.',\n",
    "#           'Bắn chết người trong cuộc rượt đuổi trên sông.'\n",
    "#           ]\n",
    "\n",
    "# sentences = [tokenize(sentence) for sentence in sentences]\n",
    "# embeddings = model.encode(sentences)"
   ]
  },
  {
   "cell_type": "code",
   "execution_count": 30,
   "id": "6e54a3cd-2fff-4b70-95a5-f9ef122c7954",
   "metadata": {},
   "outputs": [],
   "source": [
    "# sentences = ['Kẻ đánh bom đinh tồi tệ nhất nước Anh.',\n",
    "#           'Nghệ sĩ làm thiện nguyện - minh bạch là việc cấp thiết.',\n",
    "#           'Bắc Giang tăng khả năng điều trị và xét nghiệm.',\n",
    "#           'HLV futsal Việt Nam tiết lộ lý do hạ Lebanon.',\n",
    "#           'việc quan trọng khi kêu gọi quyên góp từ thiện là phải minh bạch, giải ngân kịp thời.',\n",
    "#           '20% bệnh nhân Covid-19 có thể nhanh chóng trở nặng.',\n",
    "#           'Thái lan thua giao hữu trước vòng loại World Cup.',\n",
    "#           'Cựu tuyển thủ Nguyễn Bảo Quân: May mắn ủng hộ futsal Việt Nam bà Phương Hằng',\n",
    "#           'Chủ ki-ốt bị đâm chết trong chợ đầu mối lớn nhất Thanh Hoá.',\n",
    "#           'Bắn chết người trong cuộc rượt đuổi trên sông.',\n",
    "#           'Công an TP Thủ Đức TP HCM làm rõ nguyên nhân vụ việc nam thanh niên rơi từ tầng 22 của một chung cư tử vong',\n",
    "#           'Công an TP Thủ Đức, TP.HCM làm rõ nguyên nhân vụ việc nam thanh niên rơi từ tầng 22 của một chung cư tử vong.'\n",
    "#           ]\n",
    "\n",
    "# sentences = [tokenize(sentence) for sentence in sentences]\n",
    "# sentences"
   ]
  },
  {
   "cell_type": "code",
   "execution_count": null,
   "id": "81562a23-c473-47ff-b7c3-a92173f5f1f4",
   "metadata": {},
   "outputs": [],
   "source": []
  },
  {
   "cell_type": "code",
   "execution_count": null,
   "id": "f799b3c6-2940-4c61-8824-10efa8bb844f",
   "metadata": {},
   "outputs": [],
   "source": []
  }
 ],
 "metadata": {
  "kernelspec": {
   "display_name": "SEO",
   "language": "python",
   "name": "seo"
  },
  "language_info": {
   "codemirror_mode": {
    "name": "ipython",
    "version": 3
   },
   "file_extension": ".py",
   "mimetype": "text/x-python",
   "name": "python",
   "nbconvert_exporter": "python",
   "pygments_lexer": "ipython3",
   "version": "3.8.16"
  }
 },
 "nbformat": 4,
 "nbformat_minor": 5
}
