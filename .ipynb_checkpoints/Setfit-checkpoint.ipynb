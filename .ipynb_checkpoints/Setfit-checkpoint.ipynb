{
 "cells": [
  {
   "cell_type": "code",
   "execution_count": 1,
   "id": "fa73da17-2044-49bb-8d6a-b34208200b9a",
   "metadata": {
    "tags": []
   },
   "outputs": [],
   "source": [
    "from sklearn.model_selection import train_test_split"
   ]
  },
  {
   "cell_type": "code",
   "execution_count": 2,
   "id": "4101cba0-fdf3-4c90-98d5-ecabab5887bf",
   "metadata": {
    "tags": []
   },
   "outputs": [],
   "source": [
    "import torch \n",
    "import torch.nn as nn\n",
    "from torch.utils.data import Dataset, DataLoader, random_split\n",
    "import pandas as pd\n",
    "import numpy as np\n",
    "import zipfile\n",
    "from PIL import Image\n",
    "import matplotlib.pyplot as plt\n",
    "import re\n",
    "# import pytorch_lightning as pl\n",
    "from torchvision import transforms as T\n",
    "from sklearn.model_selection import train_test_split\n",
    "\n",
    "train_ratio = 0.8"
   ]
  },
  {
   "cell_type": "code",
   "execution_count": 3,
   "id": "7942dec4-1fa9-487b-b99a-759843922fcd",
   "metadata": {
    "tags": []
   },
   "outputs": [
    {
     "name": "stdout",
     "output_type": "stream",
     "text": [
      "84\n"
     ]
    }
   ],
   "source": [
    "import random\n",
    "\n",
    "# SEED_VALUE = random.randint(0,100)\n",
    "SEED_VALUE = 84\n",
    "print(SEED_VALUE)\n",
    "random.seed(SEED_VALUE)\n",
    "torch.manual_seed(SEED_VALUE)\n",
    "torch.cuda.manual_seed_all(SEED_VALUE)\n",
    "\n",
    "np.random.seed(SEED_VALUE)"
   ]
  },
  {
   "cell_type": "code",
   "execution_count": 4,
   "id": "38e9dfd5-82b1-4d88-a610-7acdf4f9539f",
   "metadata": {
    "tags": []
   },
   "outputs": [],
   "source": [
    "train_file = './data/10-04/train_all.csv'\n",
    "error_file = './data/error_message.csv'\n",
    "error_file_1 = './data/bo_sung_error_message.csv'"
   ]
  },
  {
   "cell_type": "code",
   "execution_count": 7,
   "id": "9461148a-cd01-4d36-b8e4-99e47cc2a238",
   "metadata": {},
   "outputs": [
    {
     "data": {
      "text/plain": [
       "tensor([[-1.7223,  0.9316, -1.5819, -1.1676, -0.2419,  1.3586,  1.4563,  1.8999,\n",
       "          0.3491,  0.3003,  0.7378, -0.0214,  0.0979,  1.1366,  1.5198, -0.4490]])"
      ]
     },
     "execution_count": 7,
     "metadata": {},
     "output_type": "execute_result"
    }
   ],
   "source": [
    "torch.randn(1,16)"
   ]
  },
  {
   "cell_type": "code",
   "execution_count": 8,
   "id": "6a21561e-286d-4644-a011-5ef33cf2935e",
   "metadata": {},
   "outputs": [],
   "source": [
    "import torch\n",
    "\n",
    "def euclidean_distance(x, y):\n",
    "    \"\"\"\n",
    "    Compute Euclidean distance between two tensors.\n",
    "    \"\"\"\n",
    "    return torch.pow(x - y, 2).sum(dim=1)\n",
    "\n",
    "def compute_distance_matrix(anchor, positive, negative):\n",
    "    \"\"\"\n",
    "    Compute distance matrix between anchor, positive, and negative samples.\n",
    "    \"\"\"\n",
    "    distance_matrix = torch.zeros(anchor.size(0), 3)\n",
    "    distance_matrix[:, 0] = euclidean_distance(anchor, anchor)\n",
    "    distance_matrix[:, 1] = euclidean_distance(anchor, positive)\n",
    "    distance_matrix[:, 2] = euclidean_distance(anchor, negative)\n",
    "    return distance_matrix\n",
    "\n",
    "dist = compute_distance_matrix(torch.randn(1,16), torch.randn(1,16), torch.randn(1,16))"
   ]
  },
  {
   "cell_type": "code",
   "execution_count": 9,
   "id": "80a8a6af-b953-4b8b-b58f-6defccc06f45",
   "metadata": {},
   "outputs": [
    {
     "data": {
      "text/plain": [
       "tensor([[ 0.0000, 22.3472, 26.8298]])"
      ]
     },
     "execution_count": 9,
     "metadata": {},
     "output_type": "execute_result"
    }
   ],
   "source": [
    "dist"
   ]
  },
  {
   "cell_type": "markdown",
   "id": "2879a437-c52f-4373-aa62-3c5d1849d712",
   "metadata": {
    "tags": []
   },
   "source": [
    "## Read data train"
   ]
  },
  {
   "cell_type": "code",
   "execution_count": 5,
   "id": "9329af7d-e605-4823-8feb-6a3690de49b4",
   "metadata": {
    "tags": []
   },
   "outputs": [
    {
     "data": {
      "text/html": [
       "<div>\n",
       "<style scoped>\n",
       "    .dataframe tbody tr th:only-of-type {\n",
       "        vertical-align: middle;\n",
       "    }\n",
       "\n",
       "    .dataframe tbody tr th {\n",
       "        vertical-align: top;\n",
       "    }\n",
       "\n",
       "    .dataframe thead th {\n",
       "        text-align: right;\n",
       "    }\n",
       "</style>\n",
       "<table border=\"1\" class=\"dataframe\">\n",
       "  <thead>\n",
       "    <tr style=\"text-align: right;\">\n",
       "      <th></th>\n",
       "      <th>label</th>\n",
       "      <th>text</th>\n",
       "    </tr>\n",
       "  </thead>\n",
       "  <tbody>\n",
       "    <tr>\n",
       "      <th>0</th>\n",
       "      <td>greetings</td>\n",
       "      <td>tư vấn giúp mình với</td>\n",
       "    </tr>\n",
       "    <tr>\n",
       "      <th>1</th>\n",
       "      <td>greetings</td>\n",
       "      <td>hi</td>\n",
       "    </tr>\n",
       "    <tr>\n",
       "      <th>2</th>\n",
       "      <td>greetings</td>\n",
       "      <td>hi ad</td>\n",
       "    </tr>\n",
       "    <tr>\n",
       "      <th>3</th>\n",
       "      <td>greetings</td>\n",
       "      <td>chào buổi sáng</td>\n",
       "    </tr>\n",
       "    <tr>\n",
       "      <th>4</th>\n",
       "      <td>greetings</td>\n",
       "      <td>hello</td>\n",
       "    </tr>\n",
       "  </tbody>\n",
       "</table>\n",
       "</div>"
      ],
      "text/plain": [
       "       label                  text\n",
       "0  greetings  tư vấn giúp mình với\n",
       "1  greetings                    hi\n",
       "2  greetings                 hi ad\n",
       "3  greetings        chào buổi sáng\n",
       "4  greetings                 hello"
      ]
     },
     "execution_count": 5,
     "metadata": {},
     "output_type": "execute_result"
    }
   ],
   "source": [
    "data_df = pd.read_csv(train_file)\n",
    "data_df.head()"
   ]
  },
  {
   "cell_type": "code",
   "execution_count": 6,
   "id": "6ed2e92c-55ad-411b-af2e-53f4cbf44bd9",
   "metadata": {
    "tags": []
   },
   "outputs": [
    {
     "data": {
      "text/html": [
       "<div>\n",
       "<style scoped>\n",
       "    .dataframe tbody tr th:only-of-type {\n",
       "        vertical-align: middle;\n",
       "    }\n",
       "\n",
       "    .dataframe tbody tr th {\n",
       "        vertical-align: top;\n",
       "    }\n",
       "\n",
       "    .dataframe thead th {\n",
       "        text-align: right;\n",
       "    }\n",
       "</style>\n",
       "<table border=\"1\" class=\"dataframe\">\n",
       "  <thead>\n",
       "    <tr style=\"text-align: right;\">\n",
       "      <th></th>\n",
       "      <th>label</th>\n",
       "      <th>text</th>\n",
       "    </tr>\n",
       "  </thead>\n",
       "  <tbody>\n",
       "    <tr>\n",
       "      <th>0</th>\n",
       "      <td>greetings</td>\n",
       "      <td>tư vấn giúp mình với</td>\n",
       "    </tr>\n",
       "    <tr>\n",
       "      <th>1</th>\n",
       "      <td>greetings</td>\n",
       "      <td>hi</td>\n",
       "    </tr>\n",
       "    <tr>\n",
       "      <th>2</th>\n",
       "      <td>greetings</td>\n",
       "      <td>hi ad</td>\n",
       "    </tr>\n",
       "    <tr>\n",
       "      <th>3</th>\n",
       "      <td>greetings</td>\n",
       "      <td>chào buổi sáng</td>\n",
       "    </tr>\n",
       "    <tr>\n",
       "      <th>4</th>\n",
       "      <td>greetings</td>\n",
       "      <td>hello</td>\n",
       "    </tr>\n",
       "    <tr>\n",
       "      <th>...</th>\n",
       "      <td>...</td>\n",
       "      <td>...</td>\n",
       "    </tr>\n",
       "    <tr>\n",
       "      <th>1488</th>\n",
       "      <td>submenubieuphi</td>\n",
       "      <td>biểu phí</td>\n",
       "    </tr>\n",
       "    <tr>\n",
       "      <th>1489</th>\n",
       "      <td>submenubieuphi</td>\n",
       "      <td>giá như nào</td>\n",
       "    </tr>\n",
       "    <tr>\n",
       "      <th>1490</th>\n",
       "      <td>submenubieuphi</td>\n",
       "      <td>phí như nào</td>\n",
       "    </tr>\n",
       "    <tr>\n",
       "      <th>1491</th>\n",
       "      <td>submenubieuphi</td>\n",
       "      <td>Chuyển tiền ngoài ngân hàng VIB có mất phí không?</td>\n",
       "    </tr>\n",
       "    <tr>\n",
       "      <th>1492</th>\n",
       "      <td>submenubieuphi</td>\n",
       "      <td>sử dụng ứng dụng ngân hàng di động vib có mất ...</td>\n",
       "    </tr>\n",
       "  </tbody>\n",
       "</table>\n",
       "<p>1493 rows × 2 columns</p>\n",
       "</div>"
      ],
      "text/plain": [
       "               label                                               text\n",
       "0          greetings                               tư vấn giúp mình với\n",
       "1          greetings                                                 hi\n",
       "2          greetings                                              hi ad\n",
       "3          greetings                                     chào buổi sáng\n",
       "4          greetings                                              hello\n",
       "...              ...                                                ...\n",
       "1488  submenubieuphi                                           biểu phí\n",
       "1489  submenubieuphi                                        giá như nào\n",
       "1490  submenubieuphi                                        phí như nào\n",
       "1491  submenubieuphi  Chuyển tiền ngoài ngân hàng VIB có mất phí không?\n",
       "1492  submenubieuphi  sử dụng ứng dụng ngân hàng di động vib có mất ...\n",
       "\n",
       "[1493 rows x 2 columns]"
      ]
     },
     "execution_count": 6,
     "metadata": {},
     "output_type": "execute_result"
    }
   ],
   "source": [
    "data_df"
   ]
  },
  {
   "cell_type": "code",
   "execution_count": 7,
   "id": "9316b5aa-39ed-455c-98ae-11b056405de7",
   "metadata": {
    "tags": []
   },
   "outputs": [],
   "source": [
    "data_df.drop_duplicates(subset=['text'], inplace = True, ignore_index=True)"
   ]
  },
  {
   "cell_type": "code",
   "execution_count": 8,
   "id": "6cc6f616-dad6-4fc0-a257-c672c94dcacb",
   "metadata": {
    "tags": []
   },
   "outputs": [
    {
     "data": {
      "text/plain": [
       "outofscoreother               170\n",
       "cardproductkiemtragiaonhan    153\n",
       "submenuthongtin               116\n",
       "taikhoan_khoa                 108\n",
       "nghiepvuthe_matthe             85\n",
       "greetings                      39\n",
       "submenucomplain                34\n",
       "outofscorenonvietnamese        31\n",
       "cardproductmainmenu            27\n",
       "nghiepvuthe_dangkythe          25\n",
       "Name: label, dtype: int64"
      ]
     },
     "execution_count": 8,
     "metadata": {},
     "output_type": "execute_result"
    }
   ],
   "source": [
    "data_df['label'].value_counts()[:10]"
   ]
  },
  {
   "cell_type": "code",
   "execution_count": 9,
   "id": "c9d9706d-3996-4c47-92fa-8afc8ef54f9c",
   "metadata": {
    "tags": []
   },
   "outputs": [],
   "source": [
    "def process_chuyentien_quocte(df):\n",
    "    if 'chuyentienquocte' in df['label']:\n",
    "        return re.sub('(cho con)|(con)', '', df['text'])\n",
    "    else:\n",
    "        return df['text']"
   ]
  },
  {
   "cell_type": "code",
   "execution_count": 10,
   "id": "cf5e246f-2b9b-4e30-89c5-182077f13f55",
   "metadata": {
    "tags": []
   },
   "outputs": [
    {
     "data": {
      "text/plain": [
       "'tư vấn cho tôi các giấy tờ phải nộp khi gửi sinh hoạt phí  nhé'"
      ]
     },
     "execution_count": 10,
     "metadata": {},
     "output_type": "execute_result"
    }
   ],
   "source": [
    "process_chuyentien_quocte(data_df.loc[data_df['label'] == 'chuyentienquocte_hoso_sinhhoatphi'].iloc[0])"
   ]
  },
  {
   "cell_type": "code",
   "execution_count": 11,
   "id": "86854e0e-71cc-4be4-9747-2b60bbdfc100",
   "metadata": {
    "tags": []
   },
   "outputs": [],
   "source": [
    "data_df['text'] = data_df.apply(process_chuyentien_quocte, axis=1)"
   ]
  },
  {
   "cell_type": "code",
   "execution_count": 12,
   "id": "c425d299-5b24-4479-bd71-85eb45bdabf5",
   "metadata": {
    "tags": []
   },
   "outputs": [],
   "source": [
    "# data_df.loc[(data_df['label'] == 'chuyentienquocte_hoso') & (data_df.index == 732), 'text'] = 'bên mình yêu cầu gì để được chuyển tiền định cư'"
   ]
  },
  {
   "cell_type": "code",
   "execution_count": 13,
   "id": "1fcaffcb-d01f-4353-845a-e21bf4346a2a",
   "metadata": {
    "tags": []
   },
   "outputs": [],
   "source": [
    "# sample_1 = data_df[data_df['label'] == 'outofscoreother'].sample(n=50, random_state=23)\n",
    "# sample_1"
   ]
  },
  {
   "cell_type": "code",
   "execution_count": 14,
   "id": "5001cd00-915e-47f6-8502-98c9f3ac3179",
   "metadata": {
    "tags": []
   },
   "outputs": [
    {
     "data": {
      "text/html": [
       "<div>\n",
       "<style scoped>\n",
       "    .dataframe tbody tr th:only-of-type {\n",
       "        vertical-align: middle;\n",
       "    }\n",
       "\n",
       "    .dataframe tbody tr th {\n",
       "        vertical-align: top;\n",
       "    }\n",
       "\n",
       "    .dataframe thead th {\n",
       "        text-align: right;\n",
       "    }\n",
       "</style>\n",
       "<table border=\"1\" class=\"dataframe\">\n",
       "  <thead>\n",
       "    <tr style=\"text-align: right;\">\n",
       "      <th></th>\n",
       "      <th>text</th>\n",
       "      <th>label</th>\n",
       "    </tr>\n",
       "  </thead>\n",
       "  <tbody>\n",
       "    <tr>\n",
       "      <th>0</th>\n",
       "      <td>thẻ tín dụng dùng như nào</td>\n",
       "      <td>outofscoreother</td>\n",
       "    </tr>\n",
       "    <tr>\n",
       "      <th>1</th>\n",
       "      <td>kíc hoạt thẻ tín dụng như nào</td>\n",
       "      <td>thetindung_kichhoatthe</td>\n",
       "    </tr>\n",
       "    <tr>\n",
       "      <th>2</th>\n",
       "      <td>thông tin thẻ tín dụng</td>\n",
       "      <td>thetindung_thongtin</td>\n",
       "    </tr>\n",
       "    <tr>\n",
       "      <th>3</th>\n",
       "      <td>tìm hiểu thẻ tín dụng</td>\n",
       "      <td>thetindung_thongtin</td>\n",
       "    </tr>\n",
       "    <tr>\n",
       "      <th>4</th>\n",
       "      <td>mình muốn vay vốn</td>\n",
       "      <td>vay_kinhdoanh</td>\n",
       "    </tr>\n",
       "    <tr>\n",
       "      <th>...</th>\n",
       "      <td>...</td>\n",
       "      <td>...</td>\n",
       "    </tr>\n",
       "    <tr>\n",
       "      <th>116</th>\n",
       "      <td>bao lâu thì ngân hàng mở xong hạn mức tín dụng...</td>\n",
       "      <td>outofscoreother</td>\n",
       "    </tr>\n",
       "    <tr>\n",
       "      <th>117</th>\n",
       "      <td>mục đích tài trợ cho người mua cuối là gì</td>\n",
       "      <td>outofscoreother</td>\n",
       "    </tr>\n",
       "    <tr>\n",
       "      <th>118</th>\n",
       "      <td>thời hạn tham gia gói tài khoản khách hàng ưu ...</td>\n",
       "      <td>outofscoreother</td>\n",
       "    </tr>\n",
       "    <tr>\n",
       "      <th>119</th>\n",
       "      <td>đã có thẻ có mở thêm được không</td>\n",
       "      <td>outofscoreother</td>\n",
       "    </tr>\n",
       "    <tr>\n",
       "      <th>120</th>\n",
       "      <td>vay lãi suất thấp là như nào nhỉ</td>\n",
       "      <td>outofscoreother</td>\n",
       "    </tr>\n",
       "  </tbody>\n",
       "</table>\n",
       "<p>121 rows × 2 columns</p>\n",
       "</div>"
      ],
      "text/plain": [
       "                                                  text                   label\n",
       "0                            thẻ tín dụng dùng như nào         outofscoreother\n",
       "1                        kíc hoạt thẻ tín dụng như nào  thetindung_kichhoatthe\n",
       "2                               thông tin thẻ tín dụng     thetindung_thongtin\n",
       "3                                tìm hiểu thẻ tín dụng     thetindung_thongtin\n",
       "4                                    mình muốn vay vốn           vay_kinhdoanh\n",
       "..                                                 ...                     ...\n",
       "116  bao lâu thì ngân hàng mở xong hạn mức tín dụng...         outofscoreother\n",
       "117          mục đích tài trợ cho người mua cuối là gì         outofscoreother\n",
       "118  thời hạn tham gia gói tài khoản khách hàng ưu ...         outofscoreother\n",
       "119                    đã có thẻ có mở thêm được không         outofscoreother\n",
       "120                   vay lãi suất thấp là như nào nhỉ         outofscoreother\n",
       "\n",
       "[121 rows x 2 columns]"
      ]
     },
     "execution_count": 14,
     "metadata": {},
     "output_type": "execute_result"
    }
   ],
   "source": [
    "new_data_df = pd.read_csv(error_file)\n",
    "new_data_df.drop_duplicates(subset=['text'], inplace = True, ignore_index=True)\n",
    "new_data_df"
   ]
  },
  {
   "cell_type": "code",
   "execution_count": 15,
   "id": "bd8c07cc-8e64-463f-9df7-bc069602871d",
   "metadata": {
    "tags": []
   },
   "outputs": [
    {
     "data": {
      "text/plain": [
       "outofscoreother                        86\n",
       "thetindung_doanhnghiep                  4\n",
       "thetindung_thongtin                     3\n",
       "baohiem_VIB                             3\n",
       "submenucomplain                         2\n",
       "vay_kinhdoanh                           2\n",
       "taikhoan_bieuphi_dangky                 2\n",
       "vay_nha                                 2\n",
       "baohiem_prudautulinhhoat_dotuoi         2\n",
       "cardproductkiemtrahoso                  2\n",
       "vayuudai_thongtin                       1\n",
       "affirm                                  1\n",
       "goodbye                                 1\n",
       "greetings                               1\n",
       "deny                                    1\n",
       "taikhoan_thutuc_dangky                  1\n",
       "vay_tieudung                            1\n",
       "chuyentienquocte_hanmuc_sinhhoatphi     1\n",
       "giolamviec_chinhanh                     1\n",
       "thetindung_kichhoatthe                  1\n",
       "nghiepvuthe_vibvisamastercard           1\n",
       "vay_bieuphi                             1\n",
       "nghiepvuthe_matthe                      1\n",
       "Name: label, dtype: int64"
      ]
     },
     "execution_count": 15,
     "metadata": {},
     "output_type": "execute_result"
    }
   ],
   "source": [
    "new_data_df['label'].value_counts()"
   ]
  },
  {
   "cell_type": "code",
   "execution_count": 16,
   "id": "f7192893-9ce9-4adc-972d-d9221aaaa2ed",
   "metadata": {
    "tags": []
   },
   "outputs": [],
   "source": [
    "sample_1 = new_data_df[new_data_df['label'] == 'outofscoreother'].sample(n=47, random_state=23)\n",
    "out_of_score_data_df = data_df.loc[data_df['label'] == 'outofscoreother'].sample(n=47, random_state=23)\n",
    "data_df = data_df.loc[data_df['label'] != 'outofscoreother']\n",
    "data_df = pd.concat([data_df, sample_1], ignore_index=True)"
   ]
  },
  {
   "cell_type": "code",
   "execution_count": 17,
   "id": "e546984e-4b29-494b-ad0c-0eb32128d8d7",
   "metadata": {
    "tags": []
   },
   "outputs": [
    {
     "data": {
      "text/plain": [
       "47"
      ]
     },
     "execution_count": 17,
     "metadata": {},
     "output_type": "execute_result"
    }
   ],
   "source": [
    "len(out_of_score_data_df)"
   ]
  },
  {
   "cell_type": "code",
   "execution_count": 18,
   "id": "3ac78fe4-2577-443a-8af5-971a8f4146f5",
   "metadata": {
    "tags": []
   },
   "outputs": [
    {
     "data": {
      "text/html": [
       "<div>\n",
       "<style scoped>\n",
       "    .dataframe tbody tr th:only-of-type {\n",
       "        vertical-align: middle;\n",
       "    }\n",
       "\n",
       "    .dataframe tbody tr th {\n",
       "        vertical-align: top;\n",
       "    }\n",
       "\n",
       "    .dataframe thead th {\n",
       "        text-align: right;\n",
       "    }\n",
       "</style>\n",
       "<table border=\"1\" class=\"dataframe\">\n",
       "  <thead>\n",
       "    <tr style=\"text-align: right;\">\n",
       "      <th></th>\n",
       "      <th>text</th>\n",
       "      <th>label</th>\n",
       "    </tr>\n",
       "  </thead>\n",
       "  <tbody>\n",
       "    <tr>\n",
       "      <th>1</th>\n",
       "      <td>kíc hoạt thẻ tín dụng như nào</td>\n",
       "      <td>thetindung_kichhoatthe</td>\n",
       "    </tr>\n",
       "    <tr>\n",
       "      <th>2</th>\n",
       "      <td>thông tin thẻ tín dụng</td>\n",
       "      <td>thetindung_thongtin</td>\n",
       "    </tr>\n",
       "    <tr>\n",
       "      <th>3</th>\n",
       "      <td>tìm hiểu thẻ tín dụng</td>\n",
       "      <td>thetindung_thongtin</td>\n",
       "    </tr>\n",
       "    <tr>\n",
       "      <th>4</th>\n",
       "      <td>mình muốn vay vốn</td>\n",
       "      <td>vay_kinhdoanh</td>\n",
       "    </tr>\n",
       "    <tr>\n",
       "      <th>5</th>\n",
       "      <td>đổi mật khẩu thẻ</td>\n",
       "      <td>outofscoreother</td>\n",
       "    </tr>\n",
       "    <tr>\n",
       "      <th>...</th>\n",
       "      <td>...</td>\n",
       "      <td>...</td>\n",
       "    </tr>\n",
       "    <tr>\n",
       "      <th>109</th>\n",
       "      <td>điều kiện để trở thành khách hàng ưu tiên của ...</td>\n",
       "      <td>outofscoreother</td>\n",
       "    </tr>\n",
       "    <tr>\n",
       "      <th>111</th>\n",
       "      <td>khi trở thành khách hàng ưu tiên tôi được tư v...</td>\n",
       "      <td>outofscoreother</td>\n",
       "    </tr>\n",
       "    <tr>\n",
       "      <th>113</th>\n",
       "      <td>thời hạn vay của sản phẩm cho vay mua phương t...</td>\n",
       "      <td>outofscoreother</td>\n",
       "    </tr>\n",
       "    <tr>\n",
       "      <th>114</th>\n",
       "      <td>phương thức thấu chi là gì</td>\n",
       "      <td>outofscoreother</td>\n",
       "    </tr>\n",
       "    <tr>\n",
       "      <th>118</th>\n",
       "      <td>thời hạn tham gia gói tài khoản khách hàng ưu ...</td>\n",
       "      <td>outofscoreother</td>\n",
       "    </tr>\n",
       "  </tbody>\n",
       "</table>\n",
       "<p>74 rows × 2 columns</p>\n",
       "</div>"
      ],
      "text/plain": [
       "                                                  text                   label\n",
       "1                        kíc hoạt thẻ tín dụng như nào  thetindung_kichhoatthe\n",
       "2                               thông tin thẻ tín dụng     thetindung_thongtin\n",
       "3                                tìm hiểu thẻ tín dụng     thetindung_thongtin\n",
       "4                                    mình muốn vay vốn           vay_kinhdoanh\n",
       "5                                     đổi mật khẩu thẻ         outofscoreother\n",
       "..                                                 ...                     ...\n",
       "109  điều kiện để trở thành khách hàng ưu tiên của ...         outofscoreother\n",
       "111  khi trở thành khách hàng ưu tiên tôi được tư v...         outofscoreother\n",
       "113  thời hạn vay của sản phẩm cho vay mua phương t...         outofscoreother\n",
       "114                         phương thức thấu chi là gì         outofscoreother\n",
       "118  thời hạn tham gia gói tài khoản khách hàng ưu ...         outofscoreother\n",
       "\n",
       "[74 rows x 2 columns]"
      ]
     },
     "execution_count": 18,
     "metadata": {},
     "output_type": "execute_result"
    }
   ],
   "source": [
    "new_data_df = pd.concat([new_data_df, sample_1]).drop_duplicates(keep=False)\n",
    "new_data_df"
   ]
  },
  {
   "cell_type": "code",
   "execution_count": 19,
   "id": "3de8b524-424f-4533-897d-fecd73b1215f",
   "metadata": {
    "tags": []
   },
   "outputs": [
    {
     "data": {
      "text/plain": [
       "outofscoreother                        39\n",
       "thetindung_doanhnghiep                  4\n",
       "baohiem_VIB                             3\n",
       "thetindung_thongtin                     3\n",
       "cardproductkiemtrahoso                  2\n",
       "vay_kinhdoanh                           2\n",
       "taikhoan_bieuphi_dangky                 2\n",
       "vay_nha                                 2\n",
       "baohiem_prudautulinhhoat_dotuoi         2\n",
       "submenucomplain                         2\n",
       "thetindung_kichhoatthe                  1\n",
       "vayuudai_thongtin                       1\n",
       "affirm                                  1\n",
       "goodbye                                 1\n",
       "greetings                               1\n",
       "deny                                    1\n",
       "taikhoan_thutuc_dangky                  1\n",
       "vay_tieudung                            1\n",
       "chuyentienquocte_hanmuc_sinhhoatphi     1\n",
       "giolamviec_chinhanh                     1\n",
       "nghiepvuthe_vibvisamastercard           1\n",
       "vay_bieuphi                             1\n",
       "nghiepvuthe_matthe                      1\n",
       "Name: label, dtype: int64"
      ]
     },
     "execution_count": 19,
     "metadata": {},
     "output_type": "execute_result"
    }
   ],
   "source": [
    "new_data_df['label'].value_counts()"
   ]
  },
  {
   "cell_type": "code",
   "execution_count": 20,
   "id": "f4d2ad96-33d7-4bf1-b95c-385c9b4a52b3",
   "metadata": {
    "tags": []
   },
   "outputs": [
    {
     "data": {
      "text/html": [
       "<div>\n",
       "<style scoped>\n",
       "    .dataframe tbody tr th:only-of-type {\n",
       "        vertical-align: middle;\n",
       "    }\n",
       "\n",
       "    .dataframe tbody tr th {\n",
       "        vertical-align: top;\n",
       "    }\n",
       "\n",
       "    .dataframe thead th {\n",
       "        text-align: right;\n",
       "    }\n",
       "</style>\n",
       "<table border=\"1\" class=\"dataframe\">\n",
       "  <thead>\n",
       "    <tr style=\"text-align: right;\">\n",
       "      <th></th>\n",
       "      <th>label</th>\n",
       "      <th>text</th>\n",
       "    </tr>\n",
       "  </thead>\n",
       "  <tbody>\n",
       "    <tr>\n",
       "      <th>0</th>\n",
       "      <td>greetings</td>\n",
       "      <td>tư vấn giúp mình với</td>\n",
       "    </tr>\n",
       "    <tr>\n",
       "      <th>1</th>\n",
       "      <td>greetings</td>\n",
       "      <td>hi</td>\n",
       "    </tr>\n",
       "    <tr>\n",
       "      <th>2</th>\n",
       "      <td>greetings</td>\n",
       "      <td>hi ad</td>\n",
       "    </tr>\n",
       "    <tr>\n",
       "      <th>3</th>\n",
       "      <td>greetings</td>\n",
       "      <td>chào buổi sáng</td>\n",
       "    </tr>\n",
       "    <tr>\n",
       "      <th>4</th>\n",
       "      <td>greetings</td>\n",
       "      <td>hello</td>\n",
       "    </tr>\n",
       "    <tr>\n",
       "      <th>...</th>\n",
       "      <td>...</td>\n",
       "      <td>...</td>\n",
       "    </tr>\n",
       "    <tr>\n",
       "      <th>1322</th>\n",
       "      <td>outofscoreother</td>\n",
       "      <td>tôi có tiền mà có phải cần tiền đâu đang hỏi x...</td>\n",
       "    </tr>\n",
       "    <tr>\n",
       "      <th>1323</th>\n",
       "      <td>outofscoreother</td>\n",
       "      <td>tôi muốn mua cổ phiếu của vib thì sao</td>\n",
       "    </tr>\n",
       "    <tr>\n",
       "      <th>1324</th>\n",
       "      <td>outofscoreother</td>\n",
       "      <td>thu nhập không ổn</td>\n",
       "    </tr>\n",
       "    <tr>\n",
       "      <th>1325</th>\n",
       "      <td>outofscoreother</td>\n",
       "      <td>thu nhập của tôi không cố định</td>\n",
       "    </tr>\n",
       "    <tr>\n",
       "      <th>1326</th>\n",
       "      <td>outofscoreother</td>\n",
       "      <td>trời hôm nay như thế nào</td>\n",
       "    </tr>\n",
       "  </tbody>\n",
       "</table>\n",
       "<p>1327 rows × 2 columns</p>\n",
       "</div>"
      ],
      "text/plain": [
       "                label                                               text\n",
       "0           greetings                               tư vấn giúp mình với\n",
       "1           greetings                                                 hi\n",
       "2           greetings                                              hi ad\n",
       "3           greetings                                     chào buổi sáng\n",
       "4           greetings                                              hello\n",
       "...               ...                                                ...\n",
       "1322  outofscoreother  tôi có tiền mà có phải cần tiền đâu đang hỏi x...\n",
       "1323  outofscoreother              tôi muốn mua cổ phiếu của vib thì sao\n",
       "1324  outofscoreother                                  thu nhập không ổn\n",
       "1325  outofscoreother                     thu nhập của tôi không cố định\n",
       "1326  outofscoreother                           trời hôm nay như thế nào\n",
       "\n",
       "[1327 rows x 2 columns]"
      ]
     },
     "execution_count": 20,
     "metadata": {},
     "output_type": "execute_result"
    }
   ],
   "source": [
    "new_data = ['thu nhập không ổn', 'thu nhập của tôi không cố định', 'trời hôm nay như thế nào']\n",
    "sample_1 = pd.DataFrame({'text': new_data, 'label': ['outofscoreother']*len(new_data)})\n",
    "sample_1 = sample_1.reset_index(drop=True)\n",
    "data_df = pd.concat([data_df, sample_1], ignore_index=True)\n",
    "data_df"
   ]
  },
  {
   "cell_type": "code",
   "execution_count": 21,
   "id": "542b55b1-c102-47ba-bb6b-5d208f81867d",
   "metadata": {
    "tags": []
   },
   "outputs": [],
   "source": [
    "# sample_1 = data_df[data_df['label'] == 'outofscoreother'].sample(n=50, random_state=23)\n",
    "# data_df = data_df.loc[data_df['label'] != 'outofscoreother']\n",
    "# data_df = pd.concat([data_df, sample_1], ignore_index=True)"
   ]
  },
  {
   "cell_type": "code",
   "execution_count": 22,
   "id": "ddfe9480-2e72-494d-b06c-4ef5f375bcaa",
   "metadata": {
    "tags": []
   },
   "outputs": [],
   "source": [
    "# sample_1"
   ]
  },
  {
   "cell_type": "code",
   "execution_count": 23,
   "id": "ed2f72cc-796b-43f0-be62-a636630a7f33",
   "metadata": {
    "tags": []
   },
   "outputs": [],
   "source": [
    "sample_1 = data_df[data_df['label'] == 'cardproductkiemtragiaonhan'].sample(n=40, random_state=23)\n",
    "data_df = data_df.loc[data_df['label'] != 'cardproductkiemtragiaonhan'].reset_index(drop=True)\n",
    "data_df = pd.concat([data_df, sample_1], ignore_index=True)"
   ]
  },
  {
   "cell_type": "code",
   "execution_count": 24,
   "id": "a185cb39-1644-4b1b-8053-30fadd5af2a1",
   "metadata": {
    "tags": []
   },
   "outputs": [],
   "source": [
    "sample_1 = data_df[data_df['label'] == 'submenuthongtin'].sample(n=40, random_state=23)\n",
    "data_df = data_df.loc[data_df['label'] != 'submenuthongtin'].reset_index(drop=True)\n",
    "data_df = pd.concat([data_df, sample_1], ignore_index=True)"
   ]
  },
  {
   "cell_type": "code",
   "execution_count": 25,
   "id": "cecbc513-ba9c-438b-bd04-5d04c91c93de",
   "metadata": {
    "tags": []
   },
   "outputs": [],
   "source": [
    "sample_1 = data_df[data_df['label'] == 'taikhoan_khoa'].sample(n=40, random_state=23)\n",
    "data_df = data_df.loc[data_df['label'] != 'taikhoan_khoa'].reset_index(drop=True)\n",
    "data_df = pd.concat([data_df, sample_1], ignore_index=True)"
   ]
  },
  {
   "cell_type": "code",
   "execution_count": 26,
   "id": "38b268ce-bbd6-4f3b-ad63-133fe095b6b9",
   "metadata": {
    "tags": []
   },
   "outputs": [],
   "source": [
    "sample_1 = data_df[data_df['label'] == 'nghiepvuthe_matthe'].sample(n=40, random_state=23)\n",
    "data_df = data_df.loc[data_df['label'] != 'nghiepvuthe_matthe'].reset_index(drop=True)\n",
    "data_df = pd.concat([data_df, sample_1], ignore_index=True)"
   ]
  },
  {
   "cell_type": "code",
   "execution_count": 27,
   "id": "27aa0a60-dd0b-426c-a900-b1d9a8233c64",
   "metadata": {
    "tags": []
   },
   "outputs": [],
   "source": [
    "# sample_1"
   ]
  },
  {
   "cell_type": "code",
   "execution_count": 28,
   "id": "7d5ba971-279e-4a0a-8b92-0842971d212a",
   "metadata": {
    "tags": []
   },
   "outputs": [
    {
     "data": {
      "text/plain": [
       "40"
      ]
     },
     "execution_count": 28,
     "metadata": {},
     "output_type": "execute_result"
    }
   ],
   "source": [
    "len(data_df[data_df['label'] == 'cardproductkiemtragiaonhan'])"
   ]
  },
  {
   "cell_type": "code",
   "execution_count": 29,
   "id": "d0625041-d150-4ede-ad40-87346123c7b5",
   "metadata": {
    "tags": []
   },
   "outputs": [
    {
     "data": {
      "text/plain": [
       "<Axes: >"
      ]
     },
     "execution_count": 29,
     "metadata": {},
     "output_type": "execute_result"
    },
    {
     "data": {
      "image/png": "[encoded data removed]",
      "text/plain": [
       "<Figure size 640x480 with 1 Axes>"
      ]
     },
     "metadata": {},
     "output_type": "display_data"
    }
   ],
   "source": [
    "data_df['label'].value_counts().plot(y=['li','la'],kind='barh')"
   ]
  },
  {
   "cell_type": "code",
   "execution_count": 30,
   "id": "1d020fa9-dd3f-43c3-a163-bc8c02abb26d",
   "metadata": {
    "tags": []
   },
   "outputs": [
    {
     "data": {
      "text/html": [
       "<div>\n",
       "<style scoped>\n",
       "    .dataframe tbody tr th:only-of-type {\n",
       "        vertical-align: middle;\n",
       "    }\n",
       "\n",
       "    .dataframe tbody tr th {\n",
       "        vertical-align: top;\n",
       "    }\n",
       "\n",
       "    .dataframe thead th {\n",
       "        text-align: right;\n",
       "    }\n",
       "</style>\n",
       "<table border=\"1\" class=\"dataframe\">\n",
       "  <thead>\n",
       "    <tr style=\"text-align: right;\">\n",
       "      <th></th>\n",
       "      <th>label</th>\n",
       "      <th>text</th>\n",
       "    </tr>\n",
       "  </thead>\n",
       "  <tbody>\n",
       "    <tr>\n",
       "      <th>0</th>\n",
       "      <td>greetings</td>\n",
       "      <td>tư vấn giúp mình với</td>\n",
       "    </tr>\n",
       "    <tr>\n",
       "      <th>1</th>\n",
       "      <td>greetings</td>\n",
       "      <td>hi</td>\n",
       "    </tr>\n",
       "    <tr>\n",
       "      <th>2</th>\n",
       "      <td>greetings</td>\n",
       "      <td>hi ad</td>\n",
       "    </tr>\n",
       "    <tr>\n",
       "      <th>3</th>\n",
       "      <td>greetings</td>\n",
       "      <td>chào buổi sáng</td>\n",
       "    </tr>\n",
       "    <tr>\n",
       "      <th>4</th>\n",
       "      <td>greetings</td>\n",
       "      <td>hello</td>\n",
       "    </tr>\n",
       "    <tr>\n",
       "      <th>...</th>\n",
       "      <td>...</td>\n",
       "      <td>...</td>\n",
       "    </tr>\n",
       "    <tr>\n",
       "      <th>1029</th>\n",
       "      <td>nghiepvuthe_dangkythe</td>\n",
       "      <td>tôi bị mất hộ khẩu thì mở thẻ được không</td>\n",
       "    </tr>\n",
       "    <tr>\n",
       "      <th>1030</th>\n",
       "      <td>nghiepvuthe_dangkythe</td>\n",
       "      <td>tôi muốn mở thẻ nhưng chưa có hộ khẩu tạm trú ...</td>\n",
       "    </tr>\n",
       "    <tr>\n",
       "      <th>1031</th>\n",
       "      <td>nghiepvuthe_dangkythe</td>\n",
       "      <td>tôi đang đi học nhưng muốn mở thẻ được không</td>\n",
       "    </tr>\n",
       "    <tr>\n",
       "      <th>1032</th>\n",
       "      <td>nghiepvuthe_dangkythe</td>\n",
       "      <td>muốn mở thẻ thì có cần hộ khẩu không</td>\n",
       "    </tr>\n",
       "    <tr>\n",
       "      <th>1033</th>\n",
       "      <td>nghiepvuthe_dangkythe</td>\n",
       "      <td>lương tôi thấp lắm muốn mở thẻ được không</td>\n",
       "    </tr>\n",
       "  </tbody>\n",
       "</table>\n",
       "<p>1034 rows × 2 columns</p>\n",
       "</div>"
      ],
      "text/plain": [
       "                      label                                               text\n",
       "0                 greetings                               tư vấn giúp mình với\n",
       "1                 greetings                                                 hi\n",
       "2                 greetings                                              hi ad\n",
       "3                 greetings                                     chào buổi sáng\n",
       "4                 greetings                                              hello\n",
       "...                     ...                                                ...\n",
       "1029  nghiepvuthe_dangkythe           tôi bị mất hộ khẩu thì mở thẻ được không\n",
       "1030  nghiepvuthe_dangkythe  tôi muốn mở thẻ nhưng chưa có hộ khẩu tạm trú ...\n",
       "1031  nghiepvuthe_dangkythe       tôi đang đi học nhưng muốn mở thẻ được không\n",
       "1032  nghiepvuthe_dangkythe               muốn mở thẻ thì có cần hộ khẩu không\n",
       "1033  nghiepvuthe_dangkythe          lương tôi thấp lắm muốn mở thẻ được không\n",
       "\n",
       "[1034 rows x 2 columns]"
      ]
     },
     "execution_count": 30,
     "metadata": {},
     "output_type": "execute_result"
    }
   ],
   "source": [
    "new_data = ['lương tôi 10 triệu thì có mở thẻ được không', 'lương tôi mười triệu mở thẻ được không', 'lương tôi hai mươi triệu thì mở thẻ được không', 'tôi thu nhập ba mươi triệu thì có mở thẻ được không', 'tôi bị mất hộ khẩu thì mở thẻ được không', 'tôi muốn mở thẻ nhưng chưa có hộ khẩu tạm trú được không', 'tôi đang đi học nhưng muốn mở thẻ được không', 'muốn mở thẻ thì có cần hộ khẩu không', 'lương tôi thấp lắm muốn mở thẻ được không']\n",
    "sample_1 = pd.DataFrame({'text': new_data, 'label': ['nghiepvuthe_dangkythe']*len(new_data)})\n",
    "sample_1 = sample_1.reset_index(drop=True)\n",
    "data_df = pd.concat([data_df, sample_1], ignore_index=True)\n",
    "data_df"
   ]
  },
  {
   "cell_type": "code",
   "execution_count": 31,
   "id": "3786b96a-393d-4609-8573-8e3b7ad76d2b",
   "metadata": {
    "tags": []
   },
   "outputs": [],
   "source": [
    "pattern_1 = r'\\btín dụng\\b'\n",
    "\n",
    "def process_dangkythe_khongluong(df):\n",
    "    if 'nghiepvuthe_dangkythe_khongluong' in df['label']:\n",
    "        return re.sub(pattern_1, '', df['text'])\n",
    "    else:\n",
    "        return df['text']"
   ]
  },
  {
   "cell_type": "code",
   "execution_count": 32,
   "id": "74af0bd8-27ad-42e0-9db5-e3f1b3387f66",
   "metadata": {
    "tags": []
   },
   "outputs": [
    {
     "data": {
      "text/plain": [
       "'lương của tôi không cố định theo tháng nhưng có bảo hiểm bảo việt thì được mở thẻ  không'"
      ]
     },
     "execution_count": 32,
     "metadata": {},
     "output_type": "execute_result"
    }
   ],
   "source": [
    "process_dangkythe_khongluong(data_df.loc[data_df['label'] == 'nghiepvuthe_dangkythe_khongluong'].iloc[0])"
   ]
  },
  {
   "cell_type": "code",
   "execution_count": 33,
   "id": "fade201d-0b77-4bc5-be3d-f1b4316ea584",
   "metadata": {
    "tags": []
   },
   "outputs": [],
   "source": [
    "data_df['text'] = data_df.apply(process_dangkythe_khongluong, axis = 1)"
   ]
  },
  {
   "cell_type": "code",
   "execution_count": 34,
   "id": "dd583529-64eb-443d-a06a-91faefa89a9e",
   "metadata": {
    "tags": []
   },
   "outputs": [
    {
     "data": {
      "text/plain": [
       "'lương của tôi không cố định theo tháng nhưng có bảo hiểm bảo việt thì được mở thẻ  không'"
      ]
     },
     "execution_count": 34,
     "metadata": {},
     "output_type": "execute_result"
    }
   ],
   "source": [
    "data_df[data_df['label'] == 'nghiepvuthe_dangkythe_khongluong'].iloc[0]['text']"
   ]
  },
  {
   "cell_type": "code",
   "execution_count": 35,
   "id": "6f03fda0-204b-464d-b146-eade6a8dfcb5",
   "metadata": {
    "tags": []
   },
   "outputs": [
    {
     "name": "stdout",
     "output_type": "stream",
     "text": [
      "không ra ngân hàng thì nhận thẻ tín dụng visa như nào\n"
     ]
    }
   ],
   "source": [
    "import re\n",
    "\n",
    "text = \"không ra ngân hàng thì nhận thẻ tín dụng như nào\"\n",
    "pattern = r\"(thẻ tín dụng)\"\n",
    "\n",
    "def replace_tindung(text):\n",
    "    # Replace the matched pattern with \"thẻ tín dụng visa\"\n",
    "    result = re.sub(pattern, r\"\\1 visa\", text)\n",
    "    return result\n",
    "\n",
    "print(replace_tindung(text)) # Output: \"không ra ngân hàng thì nhận thẻ tín dụng visa như nào\""
   ]
  },
  {
   "cell_type": "code",
   "execution_count": 36,
   "id": "dfc303b3-6dcc-4432-a7a1-c138510ad4ee",
   "metadata": {
    "tags": []
   },
   "outputs": [
    {
     "data": {
      "text/html": [
       "<div>\n",
       "<style scoped>\n",
       "    .dataframe tbody tr th:only-of-type {\n",
       "        vertical-align: middle;\n",
       "    }\n",
       "\n",
       "    .dataframe tbody tr th {\n",
       "        vertical-align: top;\n",
       "    }\n",
       "\n",
       "    .dataframe thead th {\n",
       "        text-align: right;\n",
       "    }\n",
       "</style>\n",
       "<table border=\"1\" class=\"dataframe\">\n",
       "  <thead>\n",
       "    <tr style=\"text-align: right;\">\n",
       "      <th></th>\n",
       "      <th>text</th>\n",
       "      <th>label</th>\n",
       "    </tr>\n",
       "  </thead>\n",
       "  <tbody>\n",
       "    <tr>\n",
       "      <th>296</th>\n",
       "      <td>có những cách nào để nhận thẻ tín dụng visa</td>\n",
       "      <td>thetindung_cachnhanthe</td>\n",
       "    </tr>\n",
       "    <tr>\n",
       "      <th>314</th>\n",
       "      <td>có ship thẻ tín dụng visa về cho tôi không</td>\n",
       "      <td>thetindung_cachnhanthe</td>\n",
       "    </tr>\n",
       "  </tbody>\n",
       "</table>\n",
       "</div>"
      ],
      "text/plain": [
       "                                            text                   label\n",
       "296  có những cách nào để nhận thẻ tín dụng visa  thetindung_cachnhanthe\n",
       "314   có ship thẻ tín dụng visa về cho tôi không  thetindung_cachnhanthe"
      ]
     },
     "execution_count": 36,
     "metadata": {},
     "output_type": "execute_result"
    }
   ],
   "source": [
    "new_data = data_df[data_df['label'] == 'thetindung_cachnhanthe'].iloc[:2]['text'].apply(replace_tindung)\n",
    "sample_1 = pd.DataFrame({'text': new_data, 'label': ['thetindung_cachnhanthe']*len(new_data)})\n",
    "sample_1"
   ]
  },
  {
   "cell_type": "code",
   "execution_count": 37,
   "id": "8d176bf7-0c14-4b31-87f8-5c72935ea540",
   "metadata": {
    "tags": []
   },
   "outputs": [
    {
     "data": {
      "text/html": [
       "<div>\n",
       "<style scoped>\n",
       "    .dataframe tbody tr th:only-of-type {\n",
       "        vertical-align: middle;\n",
       "    }\n",
       "\n",
       "    .dataframe tbody tr th {\n",
       "        vertical-align: top;\n",
       "    }\n",
       "\n",
       "    .dataframe thead th {\n",
       "        text-align: right;\n",
       "    }\n",
       "</style>\n",
       "<table border=\"1\" class=\"dataframe\">\n",
       "  <thead>\n",
       "    <tr style=\"text-align: right;\">\n",
       "      <th></th>\n",
       "      <th>text</th>\n",
       "      <th>label</th>\n",
       "    </tr>\n",
       "  </thead>\n",
       "  <tbody>\n",
       "    <tr>\n",
       "      <th>0</th>\n",
       "      <td>kíc hoạt thẻ tín dụng như nào</td>\n",
       "      <td>thetindung_kichhoatthe</td>\n",
       "    </tr>\n",
       "    <tr>\n",
       "      <th>1</th>\n",
       "      <td>thông tin thẻ tín dụng</td>\n",
       "      <td>thetindung_thongtin</td>\n",
       "    </tr>\n",
       "    <tr>\n",
       "      <th>2</th>\n",
       "      <td>tìm hiểu thẻ tín dụng</td>\n",
       "      <td>thetindung_thongtin</td>\n",
       "    </tr>\n",
       "    <tr>\n",
       "      <th>3</th>\n",
       "      <td>mình muốn vay vốn</td>\n",
       "      <td>vay_kinhdoanh</td>\n",
       "    </tr>\n",
       "    <tr>\n",
       "      <th>4</th>\n",
       "      <td>đổi mật khẩu thẻ</td>\n",
       "      <td>outofscoreother</td>\n",
       "    </tr>\n",
       "    <tr>\n",
       "      <th>...</th>\n",
       "      <td>...</td>\n",
       "      <td>...</td>\n",
       "    </tr>\n",
       "    <tr>\n",
       "      <th>71</th>\n",
       "      <td>thời hạn vay của sản phẩm cho vay mua phương t...</td>\n",
       "      <td>outofscoreother</td>\n",
       "    </tr>\n",
       "    <tr>\n",
       "      <th>72</th>\n",
       "      <td>phương thức thấu chi là gì</td>\n",
       "      <td>outofscoreother</td>\n",
       "    </tr>\n",
       "    <tr>\n",
       "      <th>73</th>\n",
       "      <td>thời hạn tham gia gói tài khoản khách hàng ưu ...</td>\n",
       "      <td>outofscoreother</td>\n",
       "    </tr>\n",
       "    <tr>\n",
       "      <th>74</th>\n",
       "      <td>có những cách nào để nhận thẻ tín dụng visa</td>\n",
       "      <td>thetindung_cachnhanthe</td>\n",
       "    </tr>\n",
       "    <tr>\n",
       "      <th>75</th>\n",
       "      <td>có ship thẻ tín dụng visa về cho tôi không</td>\n",
       "      <td>thetindung_cachnhanthe</td>\n",
       "    </tr>\n",
       "  </tbody>\n",
       "</table>\n",
       "<p>76 rows × 2 columns</p>\n",
       "</div>"
      ],
      "text/plain": [
       "                                                 text                   label\n",
       "0                       kíc hoạt thẻ tín dụng như nào  thetindung_kichhoatthe\n",
       "1                              thông tin thẻ tín dụng     thetindung_thongtin\n",
       "2                               tìm hiểu thẻ tín dụng     thetindung_thongtin\n",
       "3                                   mình muốn vay vốn           vay_kinhdoanh\n",
       "4                                    đổi mật khẩu thẻ         outofscoreother\n",
       "..                                                ...                     ...\n",
       "71  thời hạn vay của sản phẩm cho vay mua phương t...         outofscoreother\n",
       "72                         phương thức thấu chi là gì         outofscoreother\n",
       "73  thời hạn tham gia gói tài khoản khách hàng ưu ...         outofscoreother\n",
       "74        có những cách nào để nhận thẻ tín dụng visa  thetindung_cachnhanthe\n",
       "75         có ship thẻ tín dụng visa về cho tôi không  thetindung_cachnhanthe\n",
       "\n",
       "[76 rows x 2 columns]"
      ]
     },
     "execution_count": 37,
     "metadata": {},
     "output_type": "execute_result"
    }
   ],
   "source": [
    "new_data_df = pd.concat([new_data_df, sample_1], ignore_index=True)\n",
    "new_data_df"
   ]
  },
  {
   "cell_type": "code",
   "execution_count": 38,
   "id": "b5d65ef9-4dd2-40c0-ac9b-51742ce0d5fa",
   "metadata": {
    "tags": []
   },
   "outputs": [
    {
     "data": {
      "text/html": [
       "<div>\n",
       "<style scoped>\n",
       "    .dataframe tbody tr th:only-of-type {\n",
       "        vertical-align: middle;\n",
       "    }\n",
       "\n",
       "    .dataframe tbody tr th {\n",
       "        vertical-align: top;\n",
       "    }\n",
       "\n",
       "    .dataframe thead th {\n",
       "        text-align: right;\n",
       "    }\n",
       "</style>\n",
       "<table border=\"1\" class=\"dataframe\">\n",
       "  <thead>\n",
       "    <tr style=\"text-align: right;\">\n",
       "      <th></th>\n",
       "      <th>text</th>\n",
       "      <th>label</th>\n",
       "    </tr>\n",
       "  </thead>\n",
       "  <tbody>\n",
       "    <tr>\n",
       "      <th>0</th>\n",
       "      <td>kíc hoạt thẻ tín dụng như nào</td>\n",
       "      <td>thetindung_kichhoatthe</td>\n",
       "    </tr>\n",
       "    <tr>\n",
       "      <th>1</th>\n",
       "      <td>thông tin thẻ tín dụng</td>\n",
       "      <td>thetindung_thongtin</td>\n",
       "    </tr>\n",
       "    <tr>\n",
       "      <th>2</th>\n",
       "      <td>tìm hiểu thẻ tín dụng</td>\n",
       "      <td>thetindung_thongtin</td>\n",
       "    </tr>\n",
       "    <tr>\n",
       "      <th>3</th>\n",
       "      <td>mình muốn vay vốn</td>\n",
       "      <td>vay_kinhdoanh</td>\n",
       "    </tr>\n",
       "    <tr>\n",
       "      <th>4</th>\n",
       "      <td>đổi mật khẩu thẻ</td>\n",
       "      <td>outofscoreother</td>\n",
       "    </tr>\n",
       "    <tr>\n",
       "      <th>...</th>\n",
       "      <td>...</td>\n",
       "      <td>...</td>\n",
       "    </tr>\n",
       "    <tr>\n",
       "      <th>118</th>\n",
       "      <td>bạn có thông minh không</td>\n",
       "      <td>outofscoreother</td>\n",
       "    </tr>\n",
       "    <tr>\n",
       "      <th>119</th>\n",
       "      <td>mình muốn vay bên bạn</td>\n",
       "      <td>outofscoreother</td>\n",
       "    </tr>\n",
       "    <tr>\n",
       "      <th>120</th>\n",
       "      <td>làm thế nào để cho nó</td>\n",
       "      <td>outofscoreother</td>\n",
       "    </tr>\n",
       "    <tr>\n",
       "      <th>121</th>\n",
       "      <td>đây aci</td>\n",
       "      <td>outofscoreother</td>\n",
       "    </tr>\n",
       "    <tr>\n",
       "      <th>122</th>\n",
       "      <td>nội dung</td>\n",
       "      <td>outofscoreother</td>\n",
       "    </tr>\n",
       "  </tbody>\n",
       "</table>\n",
       "<p>123 rows × 2 columns</p>\n",
       "</div>"
      ],
      "text/plain": [
       "                              text                   label\n",
       "0    kíc hoạt thẻ tín dụng như nào  thetindung_kichhoatthe\n",
       "1           thông tin thẻ tín dụng     thetindung_thongtin\n",
       "2            tìm hiểu thẻ tín dụng     thetindung_thongtin\n",
       "3                mình muốn vay vốn           vay_kinhdoanh\n",
       "4                 đổi mật khẩu thẻ         outofscoreother\n",
       "..                             ...                     ...\n",
       "118        bạn có thông minh không         outofscoreother\n",
       "119          mình muốn vay bên bạn         outofscoreother\n",
       "120          làm thế nào để cho nó         outofscoreother\n",
       "121                        đây aci         outofscoreother\n",
       "122                       nội dung         outofscoreother\n",
       "\n",
       "[123 rows x 2 columns]"
      ]
     },
     "execution_count": 38,
     "metadata": {},
     "output_type": "execute_result"
    }
   ],
   "source": [
    "new_data_df = pd.concat([new_data_df, out_of_score_data_df], ignore_index=True)\n",
    "new_data_df"
   ]
  },
  {
   "cell_type": "code",
   "execution_count": 39,
   "id": "bc05f24f-4eee-4e94-9bd3-4ae01e0a01ac",
   "metadata": {
    "tags": []
   },
   "outputs": [
    {
     "data": {
      "text/html": [
       "<div>\n",
       "<style scoped>\n",
       "    .dataframe tbody tr th:only-of-type {\n",
       "        vertical-align: middle;\n",
       "    }\n",
       "\n",
       "    .dataframe tbody tr th {\n",
       "        vertical-align: top;\n",
       "    }\n",
       "\n",
       "    .dataframe thead th {\n",
       "        text-align: right;\n",
       "    }\n",
       "</style>\n",
       "<table border=\"1\" class=\"dataframe\">\n",
       "  <thead>\n",
       "    <tr style=\"text-align: right;\">\n",
       "      <th></th>\n",
       "      <th>text</th>\n",
       "      <th>label</th>\n",
       "    </tr>\n",
       "  </thead>\n",
       "  <tbody>\n",
       "    <tr>\n",
       "      <th>0</th>\n",
       "      <td>kíc hoạt thẻ tín dụng như nào</td>\n",
       "      <td>thetindung_kichhoatthe</td>\n",
       "    </tr>\n",
       "    <tr>\n",
       "      <th>1</th>\n",
       "      <td>thông tin thẻ tín dụng</td>\n",
       "      <td>thetindung_thongtin</td>\n",
       "    </tr>\n",
       "    <tr>\n",
       "      <th>2</th>\n",
       "      <td>tìm hiểu thẻ tín dụng</td>\n",
       "      <td>thetindung_thongtin</td>\n",
       "    </tr>\n",
       "    <tr>\n",
       "      <th>3</th>\n",
       "      <td>mình muốn vay vốn</td>\n",
       "      <td>vay_kinhdoanh</td>\n",
       "    </tr>\n",
       "    <tr>\n",
       "      <th>4</th>\n",
       "      <td>đổi mật khẩu thẻ</td>\n",
       "      <td>outofscoreother</td>\n",
       "    </tr>\n",
       "    <tr>\n",
       "      <th>...</th>\n",
       "      <td>...</td>\n",
       "      <td>...</td>\n",
       "    </tr>\n",
       "    <tr>\n",
       "      <th>124</th>\n",
       "      <td>phòng giao dịch mở cửa lúc mấy giờ</td>\n",
       "      <td>giolamviec_chinhanh</td>\n",
       "    </tr>\n",
       "    <tr>\n",
       "      <th>125</th>\n",
       "      <td>khung giờ làm việc tại các chi nhánh vib</td>\n",
       "      <td>giolamviec_chinhanh</td>\n",
       "    </tr>\n",
       "    <tr>\n",
       "      <th>126</th>\n",
       "      <td>phòng giao dịch, chi nhánh vib giờ làm việc nh...</td>\n",
       "      <td>giolamviec_chinhanh</td>\n",
       "    </tr>\n",
       "    <tr>\n",
       "      <th>127</th>\n",
       "      <td>phòng giao dịch làm việc lúc mấy giờ</td>\n",
       "      <td>giolamviec_chinhanh</td>\n",
       "    </tr>\n",
       "    <tr>\n",
       "      <th>128</th>\n",
       "      <td>mấy giờ chi nhánh vib đóng cửa</td>\n",
       "      <td>giolamviec_chinhanh</td>\n",
       "    </tr>\n",
       "  </tbody>\n",
       "</table>\n",
       "<p>129 rows × 2 columns</p>\n",
       "</div>"
      ],
      "text/plain": [
       "                                                  text                   label\n",
       "0                        kíc hoạt thẻ tín dụng như nào  thetindung_kichhoatthe\n",
       "1                               thông tin thẻ tín dụng     thetindung_thongtin\n",
       "2                                tìm hiểu thẻ tín dụng     thetindung_thongtin\n",
       "3                                    mình muốn vay vốn           vay_kinhdoanh\n",
       "4                                     đổi mật khẩu thẻ         outofscoreother\n",
       "..                                                 ...                     ...\n",
       "124                 phòng giao dịch mở cửa lúc mấy giờ     giolamviec_chinhanh\n",
       "125           khung giờ làm việc tại các chi nhánh vib     giolamviec_chinhanh\n",
       "126  phòng giao dịch, chi nhánh vib giờ làm việc nh...     giolamviec_chinhanh\n",
       "127               phòng giao dịch làm việc lúc mấy giờ     giolamviec_chinhanh\n",
       "128                     mấy giờ chi nhánh vib đóng cửa     giolamviec_chinhanh\n",
       "\n",
       "[129 rows x 2 columns]"
      ]
     },
     "execution_count": 39,
     "metadata": {},
     "output_type": "execute_result"
    }
   ],
   "source": [
    "new_data = ['chi nhánh mở cửa mấy giờ vậy', 'phòng giao dịch mở cửa lúc mấy giờ', 'khung giờ làm việc tại các chi nhánh vib', 'phòng giao dịch, chi nhánh vib giờ làm việc như thế nào vậy', 'phòng giao dịch làm việc lúc mấy giờ', 'mấy giờ chi nhánh vib đóng cửa']\n",
    "sample_1 = pd.DataFrame({'text': new_data, 'label': ['giolamviec_chinhanh']*len(new_data)})\n",
    "new_data_df = pd.concat([new_data_df, sample_1], ignore_index=True)\n",
    "new_data_df"
   ]
  },
  {
   "cell_type": "code",
   "execution_count": 40,
   "id": "39e0fad8-c02d-4211-bb8c-d4569f9de662",
   "metadata": {
    "tags": []
   },
   "outputs": [],
   "source": [
    "# new_data_df"
   ]
  },
  {
   "cell_type": "code",
   "execution_count": 41,
   "id": "9a836e2b-c552-4c4a-8061-109b2dddbc65",
   "metadata": {
    "tags": []
   },
   "outputs": [
    {
     "data": {
      "text/html": [
       "<div>\n",
       "<style scoped>\n",
       "    .dataframe tbody tr th:only-of-type {\n",
       "        vertical-align: middle;\n",
       "    }\n",
       "\n",
       "    .dataframe tbody tr th {\n",
       "        vertical-align: top;\n",
       "    }\n",
       "\n",
       "    .dataframe thead th {\n",
       "        text-align: right;\n",
       "    }\n",
       "</style>\n",
       "<table border=\"1\" class=\"dataframe\">\n",
       "  <thead>\n",
       "    <tr style=\"text-align: right;\">\n",
       "      <th></th>\n",
       "      <th>label</th>\n",
       "      <th>text</th>\n",
       "    </tr>\n",
       "  </thead>\n",
       "  <tbody>\n",
       "    <tr>\n",
       "      <th>0</th>\n",
       "      <td>greetings</td>\n",
       "      <td>tư vấn giúp mình với</td>\n",
       "    </tr>\n",
       "    <tr>\n",
       "      <th>1</th>\n",
       "      <td>greetings</td>\n",
       "      <td>hi</td>\n",
       "    </tr>\n",
       "    <tr>\n",
       "      <th>2</th>\n",
       "      <td>greetings</td>\n",
       "      <td>hi ad</td>\n",
       "    </tr>\n",
       "    <tr>\n",
       "      <th>3</th>\n",
       "      <td>greetings</td>\n",
       "      <td>chào buổi sáng</td>\n",
       "    </tr>\n",
       "    <tr>\n",
       "      <th>4</th>\n",
       "      <td>greetings</td>\n",
       "      <td>hello</td>\n",
       "    </tr>\n",
       "    <tr>\n",
       "      <th>...</th>\n",
       "      <td>...</td>\n",
       "      <td>...</td>\n",
       "    </tr>\n",
       "    <tr>\n",
       "      <th>1035</th>\n",
       "      <td>nghiepvuthe_dangkythe_khongluong</td>\n",
       "      <td>thu nhập tôi không ổn định thì mở thẻ được không</td>\n",
       "    </tr>\n",
       "    <tr>\n",
       "      <th>1036</th>\n",
       "      <td>nghiepvuthe_dangkythe_khongluong</td>\n",
       "      <td>tôi đang không có lương thì có được mở thẻ khô...</td>\n",
       "    </tr>\n",
       "    <tr>\n",
       "      <th>1037</th>\n",
       "      <td>nghiepvuthe_dangkythe_khongluong</td>\n",
       "      <td>thu nhập chưa được ổn thì có được mở thẻ không</td>\n",
       "    </tr>\n",
       "    <tr>\n",
       "      <th>1038</th>\n",
       "      <td>nghiepvuthe_dangkythe_khongluong</td>\n",
       "      <td>tôi muốn mở thẻ nhưng đang không có lương</td>\n",
       "    </tr>\n",
       "    <tr>\n",
       "      <th>1039</th>\n",
       "      <td>nghiepvuthe_dangkythe_khongluong</td>\n",
       "      <td>muốn mở thẻ thì có cần thu nhập cao không vì t...</td>\n",
       "    </tr>\n",
       "  </tbody>\n",
       "</table>\n",
       "<p>1040 rows × 2 columns</p>\n",
       "</div>"
      ],
      "text/plain": [
       "                                 label  \\\n",
       "0                            greetings   \n",
       "1                            greetings   \n",
       "2                            greetings   \n",
       "3                            greetings   \n",
       "4                            greetings   \n",
       "...                                ...   \n",
       "1035  nghiepvuthe_dangkythe_khongluong   \n",
       "1036  nghiepvuthe_dangkythe_khongluong   \n",
       "1037  nghiepvuthe_dangkythe_khongluong   \n",
       "1038  nghiepvuthe_dangkythe_khongluong   \n",
       "1039  nghiepvuthe_dangkythe_khongluong   \n",
       "\n",
       "                                                   text  \n",
       "0                                  tư vấn giúp mình với  \n",
       "1                                                    hi  \n",
       "2                                                 hi ad  \n",
       "3                                        chào buổi sáng  \n",
       "4                                                 hello  \n",
       "...                                                 ...  \n",
       "1035   thu nhập tôi không ổn định thì mở thẻ được không  \n",
       "1036  tôi đang không có lương thì có được mở thẻ khô...  \n",
       "1037     thu nhập chưa được ổn thì có được mở thẻ không  \n",
       "1038          tôi muốn mở thẻ nhưng đang không có lương  \n",
       "1039  muốn mở thẻ thì có cần thu nhập cao không vì t...  \n",
       "\n",
       "[1040 rows x 2 columns]"
      ]
     },
     "execution_count": 41,
     "metadata": {},
     "output_type": "execute_result"
    }
   ],
   "source": [
    "new_data = ['lương tôi không có thì mở thẻ được không', 'thu nhập tôi không ổn định thì mở thẻ được không', 'tôi đang không có lương thì có được mở thẻ không nhỉ', 'thu nhập chưa được ổn thì có được mở thẻ không', 'tôi muốn mở thẻ nhưng đang không có lương', 'muốn mở thẻ thì có cần thu nhập cao không vì tôi đang chưa có lương']\n",
    "sample_1 = pd.DataFrame({'text': new_data, 'label': ['nghiepvuthe_dangkythe_khongluong']*len(new_data)})\n",
    "sample_1 = sample_1.reset_index(drop=True)\n",
    "data_df = pd.concat([data_df, sample_1], ignore_index=True)\n",
    "data_df"
   ]
  },
  {
   "cell_type": "code",
   "execution_count": 42,
   "id": "5ac2f198-3f3d-48f9-b0d9-f4b5440a3965",
   "metadata": {
    "tags": []
   },
   "outputs": [
    {
     "data": {
      "text/html": [
       "<div>\n",
       "<style scoped>\n",
       "    .dataframe tbody tr th:only-of-type {\n",
       "        vertical-align: middle;\n",
       "    }\n",
       "\n",
       "    .dataframe tbody tr th {\n",
       "        vertical-align: top;\n",
       "    }\n",
       "\n",
       "    .dataframe thead th {\n",
       "        text-align: right;\n",
       "    }\n",
       "</style>\n",
       "<table border=\"1\" class=\"dataframe\">\n",
       "  <thead>\n",
       "    <tr style=\"text-align: right;\">\n",
       "      <th></th>\n",
       "      <th>label</th>\n",
       "      <th>text</th>\n",
       "    </tr>\n",
       "  </thead>\n",
       "  <tbody>\n",
       "    <tr>\n",
       "      <th>0</th>\n",
       "      <td>greetings</td>\n",
       "      <td>tư vấn giúp mình với</td>\n",
       "    </tr>\n",
       "    <tr>\n",
       "      <th>1</th>\n",
       "      <td>greetings</td>\n",
       "      <td>hi</td>\n",
       "    </tr>\n",
       "    <tr>\n",
       "      <th>2</th>\n",
       "      <td>greetings</td>\n",
       "      <td>hi ad</td>\n",
       "    </tr>\n",
       "    <tr>\n",
       "      <th>3</th>\n",
       "      <td>greetings</td>\n",
       "      <td>chào buổi sáng</td>\n",
       "    </tr>\n",
       "    <tr>\n",
       "      <th>4</th>\n",
       "      <td>greetings</td>\n",
       "      <td>hello</td>\n",
       "    </tr>\n",
       "    <tr>\n",
       "      <th>...</th>\n",
       "      <td>...</td>\n",
       "      <td>...</td>\n",
       "    </tr>\n",
       "    <tr>\n",
       "      <th>1164</th>\n",
       "      <td>giolamviec_chinhanh</td>\n",
       "      <td>phòng giao dịch mở cửa lúc mấy giờ</td>\n",
       "    </tr>\n",
       "    <tr>\n",
       "      <th>1165</th>\n",
       "      <td>giolamviec_chinhanh</td>\n",
       "      <td>khung giờ làm việc tại các chi nhánh vib</td>\n",
       "    </tr>\n",
       "    <tr>\n",
       "      <th>1166</th>\n",
       "      <td>giolamviec_chinhanh</td>\n",
       "      <td>phòng giao dịch, chi nhánh vib giờ làm việc nh...</td>\n",
       "    </tr>\n",
       "    <tr>\n",
       "      <th>1167</th>\n",
       "      <td>giolamviec_chinhanh</td>\n",
       "      <td>phòng giao dịch làm việc lúc mấy giờ</td>\n",
       "    </tr>\n",
       "    <tr>\n",
       "      <th>1168</th>\n",
       "      <td>giolamviec_chinhanh</td>\n",
       "      <td>mấy giờ chi nhánh vib đóng cửa</td>\n",
       "    </tr>\n",
       "  </tbody>\n",
       "</table>\n",
       "<p>1169 rows × 2 columns</p>\n",
       "</div>"
      ],
      "text/plain": [
       "                    label                                               text\n",
       "0               greetings                               tư vấn giúp mình với\n",
       "1               greetings                                                 hi\n",
       "2               greetings                                              hi ad\n",
       "3               greetings                                     chào buổi sáng\n",
       "4               greetings                                              hello\n",
       "...                   ...                                                ...\n",
       "1164  giolamviec_chinhanh                 phòng giao dịch mở cửa lúc mấy giờ\n",
       "1165  giolamviec_chinhanh           khung giờ làm việc tại các chi nhánh vib\n",
       "1166  giolamviec_chinhanh  phòng giao dịch, chi nhánh vib giờ làm việc nh...\n",
       "1167  giolamviec_chinhanh               phòng giao dịch làm việc lúc mấy giờ\n",
       "1168  giolamviec_chinhanh                     mấy giờ chi nhánh vib đóng cửa\n",
       "\n",
       "[1169 rows x 2 columns]"
      ]
     },
     "execution_count": 42,
     "metadata": {},
     "output_type": "execute_result"
    }
   ],
   "source": [
    "data_df = pd.concat([data_df, new_data_df], ignore_index=True)\n",
    "data_df"
   ]
  },
  {
   "cell_type": "code",
   "execution_count": 43,
   "id": "e683d410-a914-47e4-bb4e-61bd7298c57e",
   "metadata": {
    "tags": []
   },
   "outputs": [],
   "source": [
    "label_list = data_df['label'].unique().tolist()"
   ]
  },
  {
   "cell_type": "code",
   "execution_count": 44,
   "id": "7a517d5b-2da5-4acd-9f13-c752d8ec5838",
   "metadata": {
    "tags": []
   },
   "outputs": [
    {
     "data": {
      "text/plain": [
       "81"
      ]
     },
     "execution_count": 44,
     "metadata": {},
     "output_type": "execute_result"
    }
   ],
   "source": [
    "len(label_list)"
   ]
  },
  {
   "cell_type": "code",
   "execution_count": 45,
   "id": "bcf59b60-b0b7-4f13-8fb0-6dfebb2789c5",
   "metadata": {
    "tags": []
   },
   "outputs": [],
   "source": [
    "# data_df = data_df.sample(frac = 1, random_state = 42).reset_index(drop=True)\n",
    "# data_df"
   ]
  },
  {
   "cell_type": "code",
   "execution_count": 46,
   "id": "8783e425-d201-496a-b67a-916fe1a66689",
   "metadata": {
    "tags": []
   },
   "outputs": [
    {
     "data": {
      "text/plain": [
       "['greetings',\n",
       " 'goodbye',\n",
       " 'thanks',\n",
       " 'affirm',\n",
       " 'deny',\n",
       " 'moodgreat',\n",
       " 'mainmenu',\n",
       " 'submenuthongtinID',\n",
       " 'submenuthongtinemailphone',\n",
       " 'submenucomplain',\n",
       " 'submenulienhetuvan',\n",
       " 'branchlocation',\n",
       " 'cardproductmainmenu',\n",
       " 'cardproductkiemtrahoso',\n",
       " 'outofscorenonvietnamese',\n",
       " 'chuyentienquocte_hoso_muaho',\n",
       " 'chuyentienquocte_hoso_mua',\n",
       " 'taikhoan_bieuphi_hangthang',\n",
       " 'chuyentienquocte_hanmuc_sinhhoatphi',\n",
       " 'thetindung_thongtin',\n",
       " 'chuyentienquocte_hoso',\n",
       " 'chuyentienquocte_hanmuc',\n",
       " 'chuyentienquocte_hoso_sinhhoatphi',\n",
       " 'thetindung_cachnhanthe',\n",
       " 'giolamviec_giaodichvien',\n",
       " 'baohiem_sanpham',\n",
       " 'vay_kinhdoanh',\n",
       " 'nghiepvuthe_vibvisatravel_sudung',\n",
       " 'dautu_kenh',\n",
       " 'vay_tieudung',\n",
       " 'thetindung_kichhoatthe',\n",
       " 'thetindung_mapin_cachlay',\n",
       " 'nghiepvuthe_vibmastercardsuperfree_uudai',\n",
       " 'baohiem_VIB',\n",
       " 'vay_nha',\n",
       " 'vay_bieuphi',\n",
       " 'dautu_traiphieu',\n",
       " 'nghiepvuthe_vibvisadining_thanhtoan',\n",
       " 'nghiepvuthe_dangkythe_khongluong',\n",
       " 'nghiepvuthe_uudai',\n",
       " 'nghiepvuthe_vibvisamastercard',\n",
       " 'chuyentienquocte_mua',\n",
       " 'taikhoan_kiemtrasodu',\n",
       " 'nghiepvuthe_vibplus_caidat',\n",
       " 'vay_oto',\n",
       " 'giolamviec_chinhanh',\n",
       " 'taikhoan_bieuphi',\n",
       " 'taikhoan_thutuc_dangky',\n",
       " 'nghiepvuthe_vibvisadining_uudai',\n",
       " 'chuyentienquocte_hoso_khongvisa',\n",
       " 'chuyentienquocte_hoso_trocap',\n",
       " 'chuyentienquocte_hanmuc_dinhcu',\n",
       " 'nghiepvuthe_hoantien',\n",
       " 'baohiem_prudautulinhhoat_quyenloi',\n",
       " 'dautu_chungchiquy',\n",
       " 'guitietkiem_thongtin',\n",
       " 'baohiem_muaquaVIB',\n",
       " 'baohiem_prudautulinhhoat_dotuoi',\n",
       " 'baohiem_hoso',\n",
       " 'chuyentienquocte_hoso_hocphi',\n",
       " 'nghiepvuthe_vibplus',\n",
       " 'taikhoan_dangky',\n",
       " 'chuyentienquocte_taikhoan',\n",
       " 'taikhoan_bieuphi_dangky',\n",
       " 'chuyentienquocte_doituong_trocap',\n",
       " 'chuyentienquocte_hanmuc_trocap',\n",
       " 'nghiepvuthe_vibvisa_bieuphi',\n",
       " 'thetindung_doanhnghiep',\n",
       " 'guitietkiem_laisuat',\n",
       " 'vayuudai_thongtin',\n",
       " 'nghiepvuthe_dangkythe',\n",
       " 'taikhoan_chuyentien',\n",
       " 'nghiepvuthe_vibvisadining_bieuphi',\n",
       " 'chuyentienquocte_muanha',\n",
       " 'taikhoan_uudai',\n",
       " 'submenubieuphi',\n",
       " 'outofscoreother',\n",
       " 'cardproductkiemtragiaonhan',\n",
       " 'submenuthongtin',\n",
       " 'taikhoan_khoa',\n",
       " 'nghiepvuthe_matthe']"
      ]
     },
     "execution_count": 46,
     "metadata": {},
     "output_type": "execute_result"
    }
   ],
   "source": [
    "label_list"
   ]
  },
  {
   "cell_type": "markdown",
   "id": "6e924d55-8f53-4a8e-a2fe-e64a2bed8a89",
   "metadata": {
    "tags": []
   },
   "source": [
    "## Test data"
   ]
  },
  {
   "cell_type": "code",
   "execution_count": 47,
   "id": "675a8739-432e-4be9-bc32-c3c4a519c5c3",
   "metadata": {
    "tags": []
   },
   "outputs": [],
   "source": [
    "test_csv_file_3 = './data/10-04/test_all.csv'"
   ]
  },
  {
   "cell_type": "code",
   "execution_count": 48,
   "id": "11866f47-9aff-41f9-93fa-60f27779282f",
   "metadata": {
    "tags": []
   },
   "outputs": [
    {
     "data": {
      "text/html": [
       "<div>\n",
       "<style scoped>\n",
       "    .dataframe tbody tr th:only-of-type {\n",
       "        vertical-align: middle;\n",
       "    }\n",
       "\n",
       "    .dataframe tbody tr th {\n",
       "        vertical-align: top;\n",
       "    }\n",
       "\n",
       "    .dataframe thead th {\n",
       "        text-align: right;\n",
       "    }\n",
       "</style>\n",
       "<table border=\"1\" class=\"dataframe\">\n",
       "  <thead>\n",
       "    <tr style=\"text-align: right;\">\n",
       "      <th></th>\n",
       "      <th>label</th>\n",
       "      <th>text</th>\n",
       "    </tr>\n",
       "  </thead>\n",
       "  <tbody>\n",
       "    <tr>\n",
       "      <th>0</th>\n",
       "      <td>greetings</td>\n",
       "      <td>chào bạn cho mình hỏi chút với ạ</td>\n",
       "    </tr>\n",
       "    <tr>\n",
       "      <th>1</th>\n",
       "      <td>greetings</td>\n",
       "      <td>xin chào mình là nghĩa</td>\n",
       "    </tr>\n",
       "    <tr>\n",
       "      <th>2</th>\n",
       "      <td>greetings</td>\n",
       "      <td>tên tôi là thảo</td>\n",
       "    </tr>\n",
       "    <tr>\n",
       "      <th>3</th>\n",
       "      <td>greetings</td>\n",
       "      <td>bạn có thể giúp tôi được không</td>\n",
       "    </tr>\n",
       "    <tr>\n",
       "      <th>4</th>\n",
       "      <td>greetings</td>\n",
       "      <td>tôi cần hỏi một số việc</td>\n",
       "    </tr>\n",
       "    <tr>\n",
       "      <th>...</th>\n",
       "      <td>...</td>\n",
       "      <td>...</td>\n",
       "    </tr>\n",
       "    <tr>\n",
       "      <th>407</th>\n",
       "      <td>taikhoan_kiemtrasodu</td>\n",
       "      <td>làm sao để kiểm tra số dư tài khoản ạ</td>\n",
       "    </tr>\n",
       "    <tr>\n",
       "      <th>408</th>\n",
       "      <td>dautu_traiphieu</td>\n",
       "      <td>cung cấp cho tôi thông tin về trái phiếu với</td>\n",
       "    </tr>\n",
       "    <tr>\n",
       "      <th>409</th>\n",
       "      <td>nghiepvuthe_vibplus</td>\n",
       "      <td>ứng dụng vib plus là gì vậy</td>\n",
       "    </tr>\n",
       "    <tr>\n",
       "      <th>410</th>\n",
       "      <td>nghiepvuthe_dangkythe_khongluong</td>\n",
       "      <td>thu nhập của tôi không ổn định thì mở thẻ tín ...</td>\n",
       "    </tr>\n",
       "    <tr>\n",
       "      <th>411</th>\n",
       "      <td>nghiepvuthe_vibvisadining_uudai</td>\n",
       "      <td>tôi muốn biết những ưu đãi của thẻ visa dining</td>\n",
       "    </tr>\n",
       "  </tbody>\n",
       "</table>\n",
       "<p>412 rows × 2 columns</p>\n",
       "</div>"
      ],
      "text/plain": [
       "                                label  \\\n",
       "0                           greetings   \n",
       "1                           greetings   \n",
       "2                           greetings   \n",
       "3                           greetings   \n",
       "4                           greetings   \n",
       "..                                ...   \n",
       "407              taikhoan_kiemtrasodu   \n",
       "408                   dautu_traiphieu   \n",
       "409               nghiepvuthe_vibplus   \n",
       "410  nghiepvuthe_dangkythe_khongluong   \n",
       "411   nghiepvuthe_vibvisadining_uudai   \n",
       "\n",
       "                                                  text  \n",
       "0                     chào bạn cho mình hỏi chút với ạ  \n",
       "1                               xin chào mình là nghĩa  \n",
       "2                                      tên tôi là thảo  \n",
       "3                       bạn có thể giúp tôi được không  \n",
       "4                              tôi cần hỏi một số việc  \n",
       "..                                                 ...  \n",
       "407              làm sao để kiểm tra số dư tài khoản ạ  \n",
       "408       cung cấp cho tôi thông tin về trái phiếu với  \n",
       "409                        ứng dụng vib plus là gì vậy  \n",
       "410  thu nhập của tôi không ổn định thì mở thẻ tín ...  \n",
       "411     tôi muốn biết những ưu đãi của thẻ visa dining  \n",
       "\n",
       "[412 rows x 2 columns]"
      ]
     },
     "execution_count": 48,
     "metadata": {},
     "output_type": "execute_result"
    }
   ],
   "source": [
    "test_df = pd.read_csv(test_csv_file_3)\n",
    "test_df"
   ]
  },
  {
   "cell_type": "code",
   "execution_count": 49,
   "id": "431ebf83-97c4-4bde-a1c0-e96b32f49747",
   "metadata": {
    "tags": []
   },
   "outputs": [
    {
     "data": {
      "text/plain": [
       "taikhoan_khoa                     42\n",
       "nghiepvuthe_matthe                41\n",
       "submenuthongtinemailphone         20\n",
       "greetings                         17\n",
       "submenuthongtinID                 14\n",
       "                                  ..\n",
       "baohiem_VIB                        2\n",
       "chuyentienquocte_hanmuc_trocap     2\n",
       "thetindung_doanhnghiep             2\n",
       "vayuudai_thongtin                  2\n",
       "nghiepvuthe_dangkythe              2\n",
       "Name: label, Length: 81, dtype: int64"
      ]
     },
     "execution_count": 49,
     "metadata": {},
     "output_type": "execute_result"
    }
   ],
   "source": [
    "test_df['label'].value_counts()"
   ]
  },
  {
   "cell_type": "code",
   "execution_count": 50,
   "id": "18eaac45-cba0-4fb8-96a5-2687a51b355d",
   "metadata": {
    "tags": []
   },
   "outputs": [
    {
     "data": {
      "text/html": [
       "<div>\n",
       "<style scoped>\n",
       "    .dataframe tbody tr th:only-of-type {\n",
       "        vertical-align: middle;\n",
       "    }\n",
       "\n",
       "    .dataframe tbody tr th {\n",
       "        vertical-align: top;\n",
       "    }\n",
       "\n",
       "    .dataframe thead th {\n",
       "        text-align: right;\n",
       "    }\n",
       "</style>\n",
       "<table border=\"1\" class=\"dataframe\">\n",
       "  <thead>\n",
       "    <tr style=\"text-align: right;\">\n",
       "      <th></th>\n",
       "      <th>label</th>\n",
       "      <th>text</th>\n",
       "    </tr>\n",
       "  </thead>\n",
       "  <tbody>\n",
       "    <tr>\n",
       "      <th>0</th>\n",
       "      <td>greetings</td>\n",
       "      <td>tư vấn giúp mình với</td>\n",
       "    </tr>\n",
       "    <tr>\n",
       "      <th>1</th>\n",
       "      <td>greetings</td>\n",
       "      <td>hi</td>\n",
       "    </tr>\n",
       "    <tr>\n",
       "      <th>2</th>\n",
       "      <td>greetings</td>\n",
       "      <td>hi ad</td>\n",
       "    </tr>\n",
       "    <tr>\n",
       "      <th>3</th>\n",
       "      <td>greetings</td>\n",
       "      <td>chào buổi sáng</td>\n",
       "    </tr>\n",
       "    <tr>\n",
       "      <th>4</th>\n",
       "      <td>greetings</td>\n",
       "      <td>hello</td>\n",
       "    </tr>\n",
       "    <tr>\n",
       "      <th>...</th>\n",
       "      <td>...</td>\n",
       "      <td>...</td>\n",
       "    </tr>\n",
       "    <tr>\n",
       "      <th>1576</th>\n",
       "      <td>taikhoan_kiemtrasodu</td>\n",
       "      <td>làm sao để kiểm tra số dư tài khoản ạ</td>\n",
       "    </tr>\n",
       "    <tr>\n",
       "      <th>1577</th>\n",
       "      <td>dautu_traiphieu</td>\n",
       "      <td>cung cấp cho tôi thông tin về trái phiếu với</td>\n",
       "    </tr>\n",
       "    <tr>\n",
       "      <th>1578</th>\n",
       "      <td>nghiepvuthe_vibplus</td>\n",
       "      <td>ứng dụng vib plus là gì vậy</td>\n",
       "    </tr>\n",
       "    <tr>\n",
       "      <th>1579</th>\n",
       "      <td>nghiepvuthe_dangkythe_khongluong</td>\n",
       "      <td>thu nhập của tôi không ổn định thì mở thẻ tín ...</td>\n",
       "    </tr>\n",
       "    <tr>\n",
       "      <th>1580</th>\n",
       "      <td>nghiepvuthe_vibvisadining_uudai</td>\n",
       "      <td>tôi muốn biết những ưu đãi của thẻ visa dining</td>\n",
       "    </tr>\n",
       "  </tbody>\n",
       "</table>\n",
       "<p>1581 rows × 2 columns</p>\n",
       "</div>"
      ],
      "text/plain": [
       "                                 label  \\\n",
       "0                            greetings   \n",
       "1                            greetings   \n",
       "2                            greetings   \n",
       "3                            greetings   \n",
       "4                            greetings   \n",
       "...                                ...   \n",
       "1576              taikhoan_kiemtrasodu   \n",
       "1577                   dautu_traiphieu   \n",
       "1578               nghiepvuthe_vibplus   \n",
       "1579  nghiepvuthe_dangkythe_khongluong   \n",
       "1580   nghiepvuthe_vibvisadining_uudai   \n",
       "\n",
       "                                                   text  \n",
       "0                                  tư vấn giúp mình với  \n",
       "1                                                    hi  \n",
       "2                                                 hi ad  \n",
       "3                                        chào buổi sáng  \n",
       "4                                                 hello  \n",
       "...                                                 ...  \n",
       "1576              làm sao để kiểm tra số dư tài khoản ạ  \n",
       "1577       cung cấp cho tôi thông tin về trái phiếu với  \n",
       "1578                        ứng dụng vib plus là gì vậy  \n",
       "1579  thu nhập của tôi không ổn định thì mở thẻ tín ...  \n",
       "1580     tôi muốn biết những ưu đãi của thẻ visa dining  \n",
       "\n",
       "[1581 rows x 2 columns]"
      ]
     },
     "execution_count": 50,
     "metadata": {},
     "output_type": "execute_result"
    }
   ],
   "source": [
    "data_df = pd.concat([data_df, test_df], ignore_index = True)\n",
    "data_df"
   ]
  },
  {
   "cell_type": "markdown",
   "id": "73a95d4c-9db0-4ad3-8cab-2ff18a27aa1a",
   "metadata": {
    "jp-MarkdownHeadingCollapsed": true,
    "tags": []
   },
   "source": [
    "## Bo sung"
   ]
  },
  {
   "cell_type": "code",
   "execution_count": 69,
   "id": "67f11a85-c500-48dc-9c20-de596a534b77",
   "metadata": {
    "tags": []
   },
   "outputs": [],
   "source": [
    "new_data_df = pd.read_csv(error_file_1)\n",
    "new_data_df.drop(columns=['Unnamed: 0'], inplace = True)"
   ]
  },
  {
   "cell_type": "code",
   "execution_count": 70,
   "id": "1f75e908-1547-409c-95b3-a5c4fb067512",
   "metadata": {
    "tags": []
   },
   "outputs": [
    {
     "data": {
      "text/html": [
       "<div>\n",
       "<style scoped>\n",
       "    .dataframe tbody tr th:only-of-type {\n",
       "        vertical-align: middle;\n",
       "    }\n",
       "\n",
       "    .dataframe tbody tr th {\n",
       "        vertical-align: top;\n",
       "    }\n",
       "\n",
       "    .dataframe thead th {\n",
       "        text-align: right;\n",
       "    }\n",
       "</style>\n",
       "<table border=\"1\" class=\"dataframe\">\n",
       "  <thead>\n",
       "    <tr style=\"text-align: right;\">\n",
       "      <th></th>\n",
       "      <th>text</th>\n",
       "      <th>label</th>\n",
       "    </tr>\n",
       "  </thead>\n",
       "  <tbody>\n",
       "    <tr>\n",
       "      <th>0</th>\n",
       "      <td>thôi chào nhé hỏi xong rồi</td>\n",
       "      <td>affirm</td>\n",
       "    </tr>\n",
       "    <tr>\n",
       "      <th>1</th>\n",
       "      <td>thế vay thì có khuyến mại gì không</td>\n",
       "      <td>vayuudai_thongtin</td>\n",
       "    </tr>\n",
       "    <tr>\n",
       "      <th>2</th>\n",
       "      <td>khóa thẻ trên app kiểu gì</td>\n",
       "      <td>nghiepvuthe_matthe</td>\n",
       "    </tr>\n",
       "    <tr>\n",
       "      <th>3</th>\n",
       "      <td>hôm nay trời đẹp nhỉ</td>\n",
       "      <td>outofscoreother</td>\n",
       "    </tr>\n",
       "    <tr>\n",
       "      <th>4</th>\n",
       "      <td>có ai không</td>\n",
       "      <td>greetings</td>\n",
       "    </tr>\n",
       "    <tr>\n",
       "      <th>5</th>\n",
       "      <td>đang buồn quá kể chuyện vui cho tôi với</td>\n",
       "      <td>outofscoreother</td>\n",
       "    </tr>\n",
       "    <tr>\n",
       "      <th>6</th>\n",
       "      <td>đang có nhiều tiền không biết tiêu gì gửi lãi ...</td>\n",
       "      <td>guitietkiem_laisuat</td>\n",
       "    </tr>\n",
       "    <tr>\n",
       "      <th>7</th>\n",
       "      <td>có gói vay mua ô tô không</td>\n",
       "      <td>vay_oto</td>\n",
       "    </tr>\n",
       "    <tr>\n",
       "      <th>8</th>\n",
       "      <td>con tôi muốn gửi tiết kiệm</td>\n",
       "      <td>guitietkiem_thongtin</td>\n",
       "    </tr>\n",
       "    <tr>\n",
       "      <th>9</th>\n",
       "      <td>người thân của tôi quan tâm gửi tiết kiệm</td>\n",
       "      <td>guitietkiem_thongtin</td>\n",
       "    </tr>\n",
       "    <tr>\n",
       "      <th>10</th>\n",
       "      <td>co gói vay mua o tô không</td>\n",
       "      <td>vay_oto</td>\n",
       "    </tr>\n",
       "    <tr>\n",
       "      <th>11</th>\n",
       "      <td>người thân của tôi cần thông tin về tiền gửi t...</td>\n",
       "      <td>guitietkiem_thongtin</td>\n",
       "    </tr>\n",
       "    <tr>\n",
       "      <th>12</th>\n",
       "      <td>tôi nhận thẻ tín dụng doanh nghiệp như nào</td>\n",
       "      <td>thetindung_cachnhanthe</td>\n",
       "    </tr>\n",
       "    <tr>\n",
       "      <th>13</th>\n",
       "      <td>tôi bị mất chứng minh thư nhân dân</td>\n",
       "      <td>outofscoreother</td>\n",
       "    </tr>\n",
       "    <tr>\n",
       "      <th>14</th>\n",
       "      <td>có cho đổi mã pin thẻ tín dụng không</td>\n",
       "      <td>outofscoreother</td>\n",
       "    </tr>\n",
       "    <tr>\n",
       "      <th>15</th>\n",
       "      <td>tôi muốn đổi mã pin thẻ visa cơ mà</td>\n",
       "      <td>outofscoreother</td>\n",
       "    </tr>\n",
       "    <tr>\n",
       "      <th>16</th>\n",
       "      <td>sđt của tôi bị khóa rồi giờ đổi với ngân hàng ...</td>\n",
       "      <td>submenuthongtinemailphone</td>\n",
       "    </tr>\n",
       "    <tr>\n",
       "      <th>17</th>\n",
       "      <td>lịch làm việc giám đốc chi nhánh thế nào để tô...</td>\n",
       "      <td>outofscoreother</td>\n",
       "    </tr>\n",
       "    <tr>\n",
       "      <th>18</th>\n",
       "      <td>được miễn phí gì khi dùng</td>\n",
       "      <td>outofscoreother</td>\n",
       "    </tr>\n",
       "  </tbody>\n",
       "</table>\n",
       "</div>"
      ],
      "text/plain": [
       "                                                 text  \\\n",
       "0                          thôi chào nhé hỏi xong rồi   \n",
       "1                  thế vay thì có khuyến mại gì không   \n",
       "2                           khóa thẻ trên app kiểu gì   \n",
       "3                                hôm nay trời đẹp nhỉ   \n",
       "4                                         có ai không   \n",
       "5             đang buồn quá kể chuyện vui cho tôi với   \n",
       "6   đang có nhiều tiền không biết tiêu gì gửi lãi ...   \n",
       "7                           có gói vay mua ô tô không   \n",
       "8                          con tôi muốn gửi tiết kiệm   \n",
       "9           người thân của tôi quan tâm gửi tiết kiệm   \n",
       "10                          co gói vay mua o tô không   \n",
       "11  người thân của tôi cần thông tin về tiền gửi t...   \n",
       "12         tôi nhận thẻ tín dụng doanh nghiệp như nào   \n",
       "13                 tôi bị mất chứng minh thư nhân dân   \n",
       "14               có cho đổi mã pin thẻ tín dụng không   \n",
       "15                 tôi muốn đổi mã pin thẻ visa cơ mà   \n",
       "16  sđt của tôi bị khóa rồi giờ đổi với ngân hàng ...   \n",
       "17  lịch làm việc giám đốc chi nhánh thế nào để tô...   \n",
       "18                          được miễn phí gì khi dùng   \n",
       "\n",
       "                        label  \n",
       "0                      affirm  \n",
       "1           vayuudai_thongtin  \n",
       "2          nghiepvuthe_matthe  \n",
       "3             outofscoreother  \n",
       "4                   greetings  \n",
       "5             outofscoreother  \n",
       "6         guitietkiem_laisuat  \n",
       "7                     vay_oto  \n",
       "8        guitietkiem_thongtin  \n",
       "9        guitietkiem_thongtin  \n",
       "10                    vay_oto  \n",
       "11       guitietkiem_thongtin  \n",
       "12     thetindung_cachnhanthe  \n",
       "13            outofscoreother  \n",
       "14            outofscoreother  \n",
       "15            outofscoreother  \n",
       "16  submenuthongtinemailphone  \n",
       "17            outofscoreother  \n",
       "18            outofscoreother  "
      ]
     },
     "execution_count": 70,
     "metadata": {},
     "output_type": "execute_result"
    }
   ],
   "source": [
    "new_data_df"
   ]
  },
  {
   "cell_type": "code",
   "execution_count": 53,
   "id": "3d98f216-01ec-412c-8ac2-11eabdef77e4",
   "metadata": {
    "tags": []
   },
   "outputs": [
    {
     "data": {
      "text/html": [
       "<div>\n",
       "<style scoped>\n",
       "    .dataframe tbody tr th:only-of-type {\n",
       "        vertical-align: middle;\n",
       "    }\n",
       "\n",
       "    .dataframe tbody tr th {\n",
       "        vertical-align: top;\n",
       "    }\n",
       "\n",
       "    .dataframe thead th {\n",
       "        text-align: right;\n",
       "    }\n",
       "</style>\n",
       "<table border=\"1\" class=\"dataframe\">\n",
       "  <thead>\n",
       "    <tr style=\"text-align: right;\">\n",
       "      <th></th>\n",
       "      <th>label</th>\n",
       "      <th>text</th>\n",
       "    </tr>\n",
       "  </thead>\n",
       "  <tbody>\n",
       "    <tr>\n",
       "      <th>0</th>\n",
       "      <td>greetings</td>\n",
       "      <td>tư vấn giúp mình với</td>\n",
       "    </tr>\n",
       "    <tr>\n",
       "      <th>1</th>\n",
       "      <td>greetings</td>\n",
       "      <td>hi</td>\n",
       "    </tr>\n",
       "    <tr>\n",
       "      <th>2</th>\n",
       "      <td>greetings</td>\n",
       "      <td>hi ad</td>\n",
       "    </tr>\n",
       "    <tr>\n",
       "      <th>3</th>\n",
       "      <td>greetings</td>\n",
       "      <td>chào buổi sáng</td>\n",
       "    </tr>\n",
       "    <tr>\n",
       "      <th>4</th>\n",
       "      <td>greetings</td>\n",
       "      <td>hello</td>\n",
       "    </tr>\n",
       "    <tr>\n",
       "      <th>...</th>\n",
       "      <td>...</td>\n",
       "      <td>...</td>\n",
       "    </tr>\n",
       "    <tr>\n",
       "      <th>1712</th>\n",
       "      <td>outofscoreother</td>\n",
       "      <td>có cho đổi mã pin thẻ tín dụng không</td>\n",
       "    </tr>\n",
       "    <tr>\n",
       "      <th>1713</th>\n",
       "      <td>outofscoreother</td>\n",
       "      <td>tôi muốn đổi mã pin thẻ visa cơ mà</td>\n",
       "    </tr>\n",
       "    <tr>\n",
       "      <th>1714</th>\n",
       "      <td>submenuthongtinemailphone</td>\n",
       "      <td>sđt của tôi bị khóa rồi giờ đổi với ngân hàng ...</td>\n",
       "    </tr>\n",
       "    <tr>\n",
       "      <th>1715</th>\n",
       "      <td>outofscoreother</td>\n",
       "      <td>lịch làm việc giám đốc chi nhánh thế nào để tô...</td>\n",
       "    </tr>\n",
       "    <tr>\n",
       "      <th>1716</th>\n",
       "      <td>outofscoreother</td>\n",
       "      <td>được miễn phí gì khi dùng</td>\n",
       "    </tr>\n",
       "  </tbody>\n",
       "</table>\n",
       "<p>1717 rows × 2 columns</p>\n",
       "</div>"
      ],
      "text/plain": [
       "                          label  \\\n",
       "0                     greetings   \n",
       "1                     greetings   \n",
       "2                     greetings   \n",
       "3                     greetings   \n",
       "4                     greetings   \n",
       "...                         ...   \n",
       "1712            outofscoreother   \n",
       "1713            outofscoreother   \n",
       "1714  submenuthongtinemailphone   \n",
       "1715            outofscoreother   \n",
       "1716            outofscoreother   \n",
       "\n",
       "                                                   text  \n",
       "0                                  tư vấn giúp mình với  \n",
       "1                                                    hi  \n",
       "2                                                 hi ad  \n",
       "3                                        chào buổi sáng  \n",
       "4                                                 hello  \n",
       "...                                                 ...  \n",
       "1712               có cho đổi mã pin thẻ tín dụng không  \n",
       "1713                 tôi muốn đổi mã pin thẻ visa cơ mà  \n",
       "1714  sđt của tôi bị khóa rồi giờ đổi với ngân hàng ...  \n",
       "1715  lịch làm việc giám đốc chi nhánh thế nào để tô...  \n",
       "1716                          được miễn phí gì khi dùng  \n",
       "\n",
       "[1717 rows x 2 columns]"
      ]
     },
     "execution_count": 53,
     "metadata": {},
     "output_type": "execute_result"
    }
   ],
   "source": [
    "new_data_df.drop_duplicates(subset=['text'], inplace = True, ignore_index=True)\n",
    "data_df = pd.concat([data_df, new_data_df], ignore_index=True)\n",
    "data_df"
   ]
  },
  {
   "cell_type": "markdown",
   "id": "6e3888c2-b471-43c0-a6ae-48a8524513c6",
   "metadata": {
    "tags": []
   },
   "source": [
    "## Preprocess data"
   ]
  },
  {
   "cell_type": "code",
   "execution_count": 51,
   "id": "9ffaf214-6f1f-4a8c-9747-f26694ba7aa5",
   "metadata": {
    "tags": []
   },
   "outputs": [],
   "source": [
    "# from vncorenlp import VnCoreNLP\n",
    "# rdrsegmenter = VnCoreNLP(\"./vncorenlp/VnCoreNLP-1.1.1.jar\", annotators=\"wseg\", max_heap_size='-Xmx500m') \n",
    "import re\n",
    "\n",
    "uniChars = \"àáảãạâầấẩẫậăằắẳẵặèéẻẽẹêềếểễệđìíỉĩịòóỏõọôồốổỗộơờớởỡợùúủũụưừứửữựỳýỷỹỵÀÁẢÃẠÂẦẤẨẪẬĂẰẮẲẴẶÈÉẺẼẸÊỀẾỂỄỆĐÌÍỈĨỊÒÓỎÕỌÔỒỐỔỖỘƠỜỚỞỠỢÙÚỦŨỤƯỪỨỬỮỰỲÝỶỸỴÂĂĐÔƠƯ_\"\n",
    "punc_re = '[^\\w'+uniChars+']'\n",
    "def process_text(sen):\n",
    "  ##Unicode reform\n",
    "  assert isinstance(sen, str), 'Not String'\n",
    "  # sen = convert_unicode(sen)\n",
    "  # sen = striphtml(sen)\n",
    "  ##Remove punctuation\n",
    "  sen = re.sub(punc_re,' ', sen)\n",
    "  ##Remove multiple space\n",
    "  sen = re.sub('\\s+',' ', sen)\n",
    "  ##Lower\n",
    "  sen = sen.lower().strip()\n",
    "  ##Segment\n",
    "  # seg = rdrsegmenter.tokenize(sen)\n",
    "  # if len(seg) == 0:\n",
    "  #   sen = ' '\n",
    "  # else: \n",
    "  #   sen = ' '.join(seg[0])\n",
    "  return sen"
   ]
  },
  {
   "cell_type": "code",
   "execution_count": 52,
   "id": "ad78ba8f-12b6-408d-b2ff-c30d4200ce78",
   "metadata": {
    "tags": []
   },
   "outputs": [],
   "source": [
    "def preprocess_sentence(sen):\n",
    "  sen = process_text(sen)\n",
    "  sen = tokenize(sen)\n",
    "  return sen"
   ]
  },
  {
   "cell_type": "code",
   "execution_count": 53,
   "id": "d8ebe151-286e-4e74-9ac7-e5807a00833e",
   "metadata": {
    "tags": []
   },
   "outputs": [],
   "source": [
    "from pyvi.ViTokenizer import tokenize\n",
    "\n",
    "def preprocess_text(sen):\n",
    "  sen = sen\n",
    "  sen = process_text(sen)\n",
    "  sen = tokenize(sen)\n",
    "  # sen = process_text(sen)\n",
    "  return sen\n",
    "# vec_pre = np.vectorize(preprocess_text)\n",
    "# print(vec_pre((data_df.iloc[3,3])))\n",
    "# data_df['concat_text'] = data_df.apply(lambda x: preprocess_text(x), axis = 1)"
   ]
  },
  {
   "cell_type": "code",
   "execution_count": 54,
   "id": "b4ac4d76-1b38-4312-973d-ae6919d9de3d",
   "metadata": {
    "tags": []
   },
   "outputs": [],
   "source": [
    "data_df['text'] = data_df['text'].apply(preprocess_text)"
   ]
  },
  {
   "cell_type": "code",
   "execution_count": 55,
   "id": "bb8dd813-d8fc-4995-8485-9d3bef275f88",
   "metadata": {
    "tags": []
   },
   "outputs": [],
   "source": [
    "test_df['text'] = test_df['text'].apply(preprocess_text)"
   ]
  },
  {
   "cell_type": "code",
   "execution_count": 56,
   "id": "04a43b0f-6e5b-48b6-a08b-7d9eface0489",
   "metadata": {
    "tags": []
   },
   "outputs": [],
   "source": [
    "new_data_df['text'] = new_data_df['text'].apply(preprocess_text)"
   ]
  },
  {
   "cell_type": "code",
   "execution_count": 57,
   "id": "bdda4273-946f-47b9-bac9-07635fb1e411",
   "metadata": {
    "tags": []
   },
   "outputs": [],
   "source": [
    "# new_data_df_['text'] = new_data_df['text'].apply(preprocess_text)"
   ]
  },
  {
   "cell_type": "code",
   "execution_count": 58,
   "id": "f8cb06a9-4835-4b70-b013-3854ecf515f4",
   "metadata": {
    "tags": []
   },
   "outputs": [
    {
     "data": {
      "text/html": [
       "<div>\n",
       "<style scoped>\n",
       "    .dataframe tbody tr th:only-of-type {\n",
       "        vertical-align: middle;\n",
       "    }\n",
       "\n",
       "    .dataframe tbody tr th {\n",
       "        vertical-align: top;\n",
       "    }\n",
       "\n",
       "    .dataframe thead th {\n",
       "        text-align: right;\n",
       "    }\n",
       "</style>\n",
       "<table border=\"1\" class=\"dataframe\">\n",
       "  <thead>\n",
       "    <tr style=\"text-align: right;\">\n",
       "      <th></th>\n",
       "      <th>text</th>\n",
       "      <th>label</th>\n",
       "    </tr>\n",
       "  </thead>\n",
       "  <tbody>\n",
       "    <tr>\n",
       "      <th>0</th>\n",
       "      <td>kíc hoạt thẻ tín_dụng như nào</td>\n",
       "      <td>thetindung_kichhoatthe</td>\n",
       "    </tr>\n",
       "    <tr>\n",
       "      <th>1</th>\n",
       "      <td>thông_tin thẻ tín_dụng</td>\n",
       "      <td>thetindung_thongtin</td>\n",
       "    </tr>\n",
       "    <tr>\n",
       "      <th>2</th>\n",
       "      <td>tìm_hiểu thẻ tín_dụng</td>\n",
       "      <td>thetindung_thongtin</td>\n",
       "    </tr>\n",
       "    <tr>\n",
       "      <th>3</th>\n",
       "      <td>mình muốn vay vốn</td>\n",
       "      <td>vay_kinhdoanh</td>\n",
       "    </tr>\n",
       "    <tr>\n",
       "      <th>4</th>\n",
       "      <td>đổi mật_khẩu thẻ</td>\n",
       "      <td>outofscoreother</td>\n",
       "    </tr>\n",
       "    <tr>\n",
       "      <th>...</th>\n",
       "      <td>...</td>\n",
       "      <td>...</td>\n",
       "    </tr>\n",
       "    <tr>\n",
       "      <th>124</th>\n",
       "      <td>phòng giao_dịch mở_cửa lúc mấy giờ</td>\n",
       "      <td>giolamviec_chinhanh</td>\n",
       "    </tr>\n",
       "    <tr>\n",
       "      <th>125</th>\n",
       "      <td>khung giờ làm_việc tại các chi_nhánh vib</td>\n",
       "      <td>giolamviec_chinhanh</td>\n",
       "    </tr>\n",
       "    <tr>\n",
       "      <th>126</th>\n",
       "      <td>phòng giao_dịch chi_nhánh vib giờ làm_việc như...</td>\n",
       "      <td>giolamviec_chinhanh</td>\n",
       "    </tr>\n",
       "    <tr>\n",
       "      <th>127</th>\n",
       "      <td>phòng giao_dịch làm_việc lúc mấy giờ</td>\n",
       "      <td>giolamviec_chinhanh</td>\n",
       "    </tr>\n",
       "    <tr>\n",
       "      <th>128</th>\n",
       "      <td>mấy giờ chi_nhánh vib đóng_cửa</td>\n",
       "      <td>giolamviec_chinhanh</td>\n",
       "    </tr>\n",
       "  </tbody>\n",
       "</table>\n",
       "<p>129 rows × 2 columns</p>\n",
       "</div>"
      ],
      "text/plain": [
       "                                                  text                   label\n",
       "0                        kíc hoạt thẻ tín_dụng như nào  thetindung_kichhoatthe\n",
       "1                               thông_tin thẻ tín_dụng     thetindung_thongtin\n",
       "2                                tìm_hiểu thẻ tín_dụng     thetindung_thongtin\n",
       "3                                    mình muốn vay vốn           vay_kinhdoanh\n",
       "4                                     đổi mật_khẩu thẻ         outofscoreother\n",
       "..                                                 ...                     ...\n",
       "124                 phòng giao_dịch mở_cửa lúc mấy giờ     giolamviec_chinhanh\n",
       "125           khung giờ làm_việc tại các chi_nhánh vib     giolamviec_chinhanh\n",
       "126  phòng giao_dịch chi_nhánh vib giờ làm_việc như...     giolamviec_chinhanh\n",
       "127               phòng giao_dịch làm_việc lúc mấy giờ     giolamviec_chinhanh\n",
       "128                     mấy giờ chi_nhánh vib đóng_cửa     giolamviec_chinhanh\n",
       "\n",
       "[129 rows x 2 columns]"
      ]
     },
     "execution_count": 58,
     "metadata": {},
     "output_type": "execute_result"
    }
   ],
   "source": [
    "new_data_df"
   ]
  },
  {
   "cell_type": "code",
   "execution_count": 59,
   "id": "c69eeb86-a2f3-4fe9-a92d-41e3f1d358a8",
   "metadata": {
    "tags": []
   },
   "outputs": [],
   "source": [
    "# label_list = data_df['label'].unique().tolist()"
   ]
  },
  {
   "cell_type": "code",
   "execution_count": 60,
   "id": "46ad9800-e731-4ea0-bc00-7b62b4a47062",
   "metadata": {
    "tags": []
   },
   "outputs": [
    {
     "data": {
      "text/plain": [
       "81"
      ]
     },
     "execution_count": 60,
     "metadata": {},
     "output_type": "execute_result"
    }
   ],
   "source": [
    "len(label_list)"
   ]
  },
  {
   "cell_type": "code",
   "execution_count": 61,
   "id": "d94bc3a5-dc51-421a-a885-b433dc4cdfb4",
   "metadata": {
    "tags": []
   },
   "outputs": [],
   "source": [
    "# test_df_1 = test_df[(test_df['label'] != 'taikhoan_khoa') & (test_df['label'] != 'nghiepvuthe_matthe')]"
   ]
  },
  {
   "cell_type": "code",
   "execution_count": 62,
   "id": "02710a2b-dedf-41c1-bc60-e519b3b2cf11",
   "metadata": {
    "tags": []
   },
   "outputs": [],
   "source": [
    "def convert_label(x):\n",
    "    return label_list.index(x)"
   ]
  },
  {
   "cell_type": "code",
   "execution_count": 63,
   "id": "05ff4bc9-9619-437c-b381-1c77216f238c",
   "metadata": {
    "tags": []
   },
   "outputs": [
    {
     "data": {
      "text/html": [
       "<div>\n",
       "<style scoped>\n",
       "    .dataframe tbody tr th:only-of-type {\n",
       "        vertical-align: middle;\n",
       "    }\n",
       "\n",
       "    .dataframe tbody tr th {\n",
       "        vertical-align: top;\n",
       "    }\n",
       "\n",
       "    .dataframe thead th {\n",
       "        text-align: right;\n",
       "    }\n",
       "</style>\n",
       "<table border=\"1\" class=\"dataframe\">\n",
       "  <thead>\n",
       "    <tr style=\"text-align: right;\">\n",
       "      <th></th>\n",
       "      <th>label</th>\n",
       "      <th>text</th>\n",
       "    </tr>\n",
       "  </thead>\n",
       "  <tbody>\n",
       "    <tr>\n",
       "      <th>0</th>\n",
       "      <td>0</td>\n",
       "      <td>tư_vấn giúp mình với</td>\n",
       "    </tr>\n",
       "    <tr>\n",
       "      <th>1</th>\n",
       "      <td>0</td>\n",
       "      <td>hi</td>\n",
       "    </tr>\n",
       "    <tr>\n",
       "      <th>2</th>\n",
       "      <td>0</td>\n",
       "      <td>hi_ad</td>\n",
       "    </tr>\n",
       "    <tr>\n",
       "      <th>3</th>\n",
       "      <td>0</td>\n",
       "      <td>chào buổi sáng</td>\n",
       "    </tr>\n",
       "    <tr>\n",
       "      <th>4</th>\n",
       "      <td>0</td>\n",
       "      <td>hello</td>\n",
       "    </tr>\n",
       "  </tbody>\n",
       "</table>\n",
       "</div>"
      ],
      "text/plain": [
       "   label                  text\n",
       "0      0  tư_vấn giúp mình với\n",
       "1      0                    hi\n",
       "2      0                 hi_ad\n",
       "3      0        chào buổi sáng\n",
       "4      0                 hello"
      ]
     },
     "execution_count": 63,
     "metadata": {},
     "output_type": "execute_result"
    }
   ],
   "source": [
    "data_df['label'] = data_df['label'].apply(lambda x: convert_label(x))\n",
    "data_df.head()"
   ]
  },
  {
   "cell_type": "code",
   "execution_count": 64,
   "id": "643429f7-2ff5-4974-89ea-b5c539d2f4f7",
   "metadata": {
    "tags": []
   },
   "outputs": [],
   "source": [
    "# test_df_1['label'] = test_df_1['label'].apply(lambda x: convert_label(x))\n",
    "# test_df_1"
   ]
  },
  {
   "cell_type": "code",
   "execution_count": 65,
   "id": "59d76160-b496-4065-8164-ddcc03e05e02",
   "metadata": {
    "tags": []
   },
   "outputs": [
    {
     "data": {
      "text/html": [
       "<div>\n",
       "<style scoped>\n",
       "    .dataframe tbody tr th:only-of-type {\n",
       "        vertical-align: middle;\n",
       "    }\n",
       "\n",
       "    .dataframe tbody tr th {\n",
       "        vertical-align: top;\n",
       "    }\n",
       "\n",
       "    .dataframe thead th {\n",
       "        text-align: right;\n",
       "    }\n",
       "</style>\n",
       "<table border=\"1\" class=\"dataframe\">\n",
       "  <thead>\n",
       "    <tr style=\"text-align: right;\">\n",
       "      <th></th>\n",
       "      <th>label</th>\n",
       "      <th>text</th>\n",
       "    </tr>\n",
       "  </thead>\n",
       "  <tbody>\n",
       "    <tr>\n",
       "      <th>0</th>\n",
       "      <td>greetings</td>\n",
       "      <td>chào bạn cho mình hỏi chút với ạ</td>\n",
       "    </tr>\n",
       "    <tr>\n",
       "      <th>1</th>\n",
       "      <td>greetings</td>\n",
       "      <td>xin chào mình là nghĩa</td>\n",
       "    </tr>\n",
       "    <tr>\n",
       "      <th>2</th>\n",
       "      <td>greetings</td>\n",
       "      <td>tên tôi là thảo</td>\n",
       "    </tr>\n",
       "    <tr>\n",
       "      <th>3</th>\n",
       "      <td>greetings</td>\n",
       "      <td>bạn có_thể giúp tôi được không</td>\n",
       "    </tr>\n",
       "    <tr>\n",
       "      <th>4</th>\n",
       "      <td>greetings</td>\n",
       "      <td>tôi cần hỏi một_số việc</td>\n",
       "    </tr>\n",
       "    <tr>\n",
       "      <th>...</th>\n",
       "      <td>...</td>\n",
       "      <td>...</td>\n",
       "    </tr>\n",
       "    <tr>\n",
       "      <th>407</th>\n",
       "      <td>taikhoan_kiemtrasodu</td>\n",
       "      <td>làm_sao để kiểm_tra số_dư tài_khoản ạ</td>\n",
       "    </tr>\n",
       "    <tr>\n",
       "      <th>408</th>\n",
       "      <td>dautu_traiphieu</td>\n",
       "      <td>cung_cấp cho tôi thông_tin về trái_phiếu với</td>\n",
       "    </tr>\n",
       "    <tr>\n",
       "      <th>409</th>\n",
       "      <td>nghiepvuthe_vibplus</td>\n",
       "      <td>ứng_dụng vib plus là gì vậy</td>\n",
       "    </tr>\n",
       "    <tr>\n",
       "      <th>410</th>\n",
       "      <td>nghiepvuthe_dangkythe_khongluong</td>\n",
       "      <td>thu_nhập của tôi không ổn_định thì mở thẻ tín_...</td>\n",
       "    </tr>\n",
       "    <tr>\n",
       "      <th>411</th>\n",
       "      <td>nghiepvuthe_vibvisadining_uudai</td>\n",
       "      <td>tôi muốn biết những ưu_đãi của thẻ visa dining</td>\n",
       "    </tr>\n",
       "  </tbody>\n",
       "</table>\n",
       "<p>412 rows × 2 columns</p>\n",
       "</div>"
      ],
      "text/plain": [
       "                                label  \\\n",
       "0                           greetings   \n",
       "1                           greetings   \n",
       "2                           greetings   \n",
       "3                           greetings   \n",
       "4                           greetings   \n",
       "..                                ...   \n",
       "407              taikhoan_kiemtrasodu   \n",
       "408                   dautu_traiphieu   \n",
       "409               nghiepvuthe_vibplus   \n",
       "410  nghiepvuthe_dangkythe_khongluong   \n",
       "411   nghiepvuthe_vibvisadining_uudai   \n",
       "\n",
       "                                                  text  \n",
       "0                     chào bạn cho mình hỏi chút với ạ  \n",
       "1                               xin chào mình là nghĩa  \n",
       "2                                      tên tôi là thảo  \n",
       "3                       bạn có_thể giúp tôi được không  \n",
       "4                              tôi cần hỏi một_số việc  \n",
       "..                                                 ...  \n",
       "407              làm_sao để kiểm_tra số_dư tài_khoản ạ  \n",
       "408       cung_cấp cho tôi thông_tin về trái_phiếu với  \n",
       "409                        ứng_dụng vib plus là gì vậy  \n",
       "410  thu_nhập của tôi không ổn_định thì mở thẻ tín_...  \n",
       "411     tôi muốn biết những ưu_đãi của thẻ visa dining  \n",
       "\n",
       "[412 rows x 2 columns]"
      ]
     },
     "execution_count": 65,
     "metadata": {},
     "output_type": "execute_result"
    }
   ],
   "source": [
    "test_df"
   ]
  },
  {
   "cell_type": "code",
   "execution_count": 66,
   "id": "6399eb74-dd72-4873-8a42-4b8680b7a422",
   "metadata": {
    "tags": []
   },
   "outputs": [
    {
     "data": {
      "text/html": [
       "<div>\n",
       "<style scoped>\n",
       "    .dataframe tbody tr th:only-of-type {\n",
       "        vertical-align: middle;\n",
       "    }\n",
       "\n",
       "    .dataframe tbody tr th {\n",
       "        vertical-align: top;\n",
       "    }\n",
       "\n",
       "    .dataframe thead th {\n",
       "        text-align: right;\n",
       "    }\n",
       "</style>\n",
       "<table border=\"1\" class=\"dataframe\">\n",
       "  <thead>\n",
       "    <tr style=\"text-align: right;\">\n",
       "      <th></th>\n",
       "      <th>label</th>\n",
       "      <th>text</th>\n",
       "    </tr>\n",
       "  </thead>\n",
       "  <tbody>\n",
       "    <tr>\n",
       "      <th>0</th>\n",
       "      <td>0</td>\n",
       "      <td>chào bạn cho mình hỏi chút với ạ</td>\n",
       "    </tr>\n",
       "    <tr>\n",
       "      <th>1</th>\n",
       "      <td>0</td>\n",
       "      <td>xin chào mình là nghĩa</td>\n",
       "    </tr>\n",
       "    <tr>\n",
       "      <th>2</th>\n",
       "      <td>0</td>\n",
       "      <td>tên tôi là thảo</td>\n",
       "    </tr>\n",
       "    <tr>\n",
       "      <th>3</th>\n",
       "      <td>0</td>\n",
       "      <td>bạn có_thể giúp tôi được không</td>\n",
       "    </tr>\n",
       "    <tr>\n",
       "      <th>4</th>\n",
       "      <td>0</td>\n",
       "      <td>tôi cần hỏi một_số việc</td>\n",
       "    </tr>\n",
       "    <tr>\n",
       "      <th>...</th>\n",
       "      <td>...</td>\n",
       "      <td>...</td>\n",
       "    </tr>\n",
       "    <tr>\n",
       "      <th>407</th>\n",
       "      <td>42</td>\n",
       "      <td>làm_sao để kiểm_tra số_dư tài_khoản ạ</td>\n",
       "    </tr>\n",
       "    <tr>\n",
       "      <th>408</th>\n",
       "      <td>36</td>\n",
       "      <td>cung_cấp cho tôi thông_tin về trái_phiếu với</td>\n",
       "    </tr>\n",
       "    <tr>\n",
       "      <th>409</th>\n",
       "      <td>60</td>\n",
       "      <td>ứng_dụng vib plus là gì vậy</td>\n",
       "    </tr>\n",
       "    <tr>\n",
       "      <th>410</th>\n",
       "      <td>38</td>\n",
       "      <td>thu_nhập của tôi không ổn_định thì mở thẻ tín_...</td>\n",
       "    </tr>\n",
       "    <tr>\n",
       "      <th>411</th>\n",
       "      <td>48</td>\n",
       "      <td>tôi muốn biết những ưu_đãi của thẻ visa dining</td>\n",
       "    </tr>\n",
       "  </tbody>\n",
       "</table>\n",
       "<p>412 rows × 2 columns</p>\n",
       "</div>"
      ],
      "text/plain": [
       "     label                                               text\n",
       "0        0                   chào bạn cho mình hỏi chút với ạ\n",
       "1        0                             xin chào mình là nghĩa\n",
       "2        0                                    tên tôi là thảo\n",
       "3        0                     bạn có_thể giúp tôi được không\n",
       "4        0                            tôi cần hỏi một_số việc\n",
       "..     ...                                                ...\n",
       "407     42              làm_sao để kiểm_tra số_dư tài_khoản ạ\n",
       "408     36       cung_cấp cho tôi thông_tin về trái_phiếu với\n",
       "409     60                        ứng_dụng vib plus là gì vậy\n",
       "410     38  thu_nhập của tôi không ổn_định thì mở thẻ tín_...\n",
       "411     48     tôi muốn biết những ưu_đãi của thẻ visa dining\n",
       "\n",
       "[412 rows x 2 columns]"
      ]
     },
     "execution_count": 66,
     "metadata": {},
     "output_type": "execute_result"
    }
   ],
   "source": [
    "test_df['label'] = test_df['label'].apply(lambda x: convert_label(x))\n",
    "test_df"
   ]
  },
  {
   "cell_type": "code",
   "execution_count": 67,
   "id": "c04e9931-9a85-4365-8fdb-741f0f59e118",
   "metadata": {
    "tags": []
   },
   "outputs": [
    {
     "data": {
      "text/html": [
       "<div>\n",
       "<style scoped>\n",
       "    .dataframe tbody tr th:only-of-type {\n",
       "        vertical-align: middle;\n",
       "    }\n",
       "\n",
       "    .dataframe tbody tr th {\n",
       "        vertical-align: top;\n",
       "    }\n",
       "\n",
       "    .dataframe thead th {\n",
       "        text-align: right;\n",
       "    }\n",
       "</style>\n",
       "<table border=\"1\" class=\"dataframe\">\n",
       "  <thead>\n",
       "    <tr style=\"text-align: right;\">\n",
       "      <th></th>\n",
       "      <th>text</th>\n",
       "      <th>label</th>\n",
       "    </tr>\n",
       "  </thead>\n",
       "  <tbody>\n",
       "    <tr>\n",
       "      <th>0</th>\n",
       "      <td>kíc hoạt thẻ tín_dụng như nào</td>\n",
       "      <td>30</td>\n",
       "    </tr>\n",
       "    <tr>\n",
       "      <th>1</th>\n",
       "      <td>thông_tin thẻ tín_dụng</td>\n",
       "      <td>19</td>\n",
       "    </tr>\n",
       "    <tr>\n",
       "      <th>2</th>\n",
       "      <td>tìm_hiểu thẻ tín_dụng</td>\n",
       "      <td>19</td>\n",
       "    </tr>\n",
       "    <tr>\n",
       "      <th>3</th>\n",
       "      <td>mình muốn vay vốn</td>\n",
       "      <td>26</td>\n",
       "    </tr>\n",
       "    <tr>\n",
       "      <th>4</th>\n",
       "      <td>đổi mật_khẩu thẻ</td>\n",
       "      <td>76</td>\n",
       "    </tr>\n",
       "    <tr>\n",
       "      <th>...</th>\n",
       "      <td>...</td>\n",
       "      <td>...</td>\n",
       "    </tr>\n",
       "    <tr>\n",
       "      <th>124</th>\n",
       "      <td>phòng giao_dịch mở_cửa lúc mấy giờ</td>\n",
       "      <td>45</td>\n",
       "    </tr>\n",
       "    <tr>\n",
       "      <th>125</th>\n",
       "      <td>khung giờ làm_việc tại các chi_nhánh vib</td>\n",
       "      <td>45</td>\n",
       "    </tr>\n",
       "    <tr>\n",
       "      <th>126</th>\n",
       "      <td>phòng giao_dịch chi_nhánh vib giờ làm_việc như...</td>\n",
       "      <td>45</td>\n",
       "    </tr>\n",
       "    <tr>\n",
       "      <th>127</th>\n",
       "      <td>phòng giao_dịch làm_việc lúc mấy giờ</td>\n",
       "      <td>45</td>\n",
       "    </tr>\n",
       "    <tr>\n",
       "      <th>128</th>\n",
       "      <td>mấy giờ chi_nhánh vib đóng_cửa</td>\n",
       "      <td>45</td>\n",
       "    </tr>\n",
       "  </tbody>\n",
       "</table>\n",
       "<p>129 rows × 2 columns</p>\n",
       "</div>"
      ],
      "text/plain": [
       "                                                  text  label\n",
       "0                        kíc hoạt thẻ tín_dụng như nào     30\n",
       "1                               thông_tin thẻ tín_dụng     19\n",
       "2                                tìm_hiểu thẻ tín_dụng     19\n",
       "3                                    mình muốn vay vốn     26\n",
       "4                                     đổi mật_khẩu thẻ     76\n",
       "..                                                 ...    ...\n",
       "124                 phòng giao_dịch mở_cửa lúc mấy giờ     45\n",
       "125           khung giờ làm_việc tại các chi_nhánh vib     45\n",
       "126  phòng giao_dịch chi_nhánh vib giờ làm_việc như...     45\n",
       "127               phòng giao_dịch làm_việc lúc mấy giờ     45\n",
       "128                     mấy giờ chi_nhánh vib đóng_cửa     45\n",
       "\n",
       "[129 rows x 2 columns]"
      ]
     },
     "execution_count": 67,
     "metadata": {},
     "output_type": "execute_result"
    }
   ],
   "source": [
    "new_data_df['label'] = new_data_df['label'].apply(lambda x: convert_label(x))\n",
    "new_data_df"
   ]
  },
  {
   "cell_type": "code",
   "execution_count": 68,
   "id": "c01391c9-a794-4c84-8fe0-5d5d4b15b737",
   "metadata": {
    "tags": []
   },
   "outputs": [
    {
     "data": {
      "text/plain": [
       "<Axes: >"
      ]
     },
     "execution_count": 68,
     "metadata": {},
     "output_type": "execute_result"
    },
    {
     "data": {
      "image/png": "[encoded data removed]",
      "text/plain": [
       "<Figure size 640x480 with 1 Axes>"
      ]
     },
     "metadata": {},
     "output_type": "display_data"
    }
   ],
   "source": [
    "data_df['label'].value_counts().plot(y=['li','la'],kind='barh')"
   ]
  },
  {
   "cell_type": "code",
   "execution_count": 69,
   "id": "809ef44b-c8e0-4585-88c7-a4dcf9353ff2",
   "metadata": {
    "tags": []
   },
   "outputs": [],
   "source": [
    "from sentence_transformers.losses import CosineSimilarityLoss\n",
    "from setfit import SetFitModel, SetFitTrainer, sample_dataset"
   ]
  },
  {
   "cell_type": "code",
   "execution_count": 70,
   "id": "824e0393-e368-4393-96cb-4b9f182901ba",
   "metadata": {
    "tags": []
   },
   "outputs": [],
   "source": [
    "# train_df = data_df.groupby('label').sample(n=16, random_state = 42)\n",
    "# train_df"
   ]
  },
  {
   "cell_type": "code",
   "execution_count": 71,
   "id": "58671f3b-c159-490b-95c4-ac0170f242a7",
   "metadata": {
    "tags": []
   },
   "outputs": [],
   "source": [
    "# test_df = data_df.loc[list(set(data_df.index) - set(train_df.index))]\n",
    "# test_df"
   ]
  },
  {
   "cell_type": "code",
   "execution_count": 72,
   "id": "cfc4aded-6951-4779-a66d-8753b136d4d0",
   "metadata": {
    "tags": []
   },
   "outputs": [
    {
     "data": {
      "text/plain": [
       "81"
      ]
     },
     "execution_count": 72,
     "metadata": {},
     "output_type": "execute_result"
    }
   ],
   "source": [
    "len(label_list)"
   ]
  },
  {
   "cell_type": "code",
   "execution_count": 73,
   "id": "614357a6-1920-4e14-81e2-baabdb314f8e",
   "metadata": {
    "tags": []
   },
   "outputs": [],
   "source": [
    "# label_list"
   ]
  },
  {
   "cell_type": "code",
   "execution_count": 75,
   "id": "4a303e5b-a940-464a-9e91-a51ac2cd5b5e",
   "metadata": {
    "tags": []
   },
   "outputs": [
    {
     "data": {
      "text/html": [
       "<div>\n",
       "<style scoped>\n",
       "    .dataframe tbody tr th:only-of-type {\n",
       "        vertical-align: middle;\n",
       "    }\n",
       "\n",
       "    .dataframe tbody tr th {\n",
       "        vertical-align: top;\n",
       "    }\n",
       "\n",
       "    .dataframe thead th {\n",
       "        text-align: right;\n",
       "    }\n",
       "</style>\n",
       "<table border=\"1\" class=\"dataframe\">\n",
       "  <thead>\n",
       "    <tr style=\"text-align: right;\">\n",
       "      <th></th>\n",
       "      <th>label</th>\n",
       "      <th>text</th>\n",
       "    </tr>\n",
       "  </thead>\n",
       "  <tbody>\n",
       "    <tr>\n",
       "      <th>0</th>\n",
       "      <td>0</td>\n",
       "      <td>tư_vấn giúp mình với</td>\n",
       "    </tr>\n",
       "    <tr>\n",
       "      <th>1</th>\n",
       "      <td>0</td>\n",
       "      <td>hi</td>\n",
       "    </tr>\n",
       "    <tr>\n",
       "      <th>2</th>\n",
       "      <td>0</td>\n",
       "      <td>hi_ad</td>\n",
       "    </tr>\n",
       "    <tr>\n",
       "      <th>3</th>\n",
       "      <td>0</td>\n",
       "      <td>chào buổi sáng</td>\n",
       "    </tr>\n",
       "    <tr>\n",
       "      <th>4</th>\n",
       "      <td>0</td>\n",
       "      <td>hello</td>\n",
       "    </tr>\n",
       "    <tr>\n",
       "      <th>5</th>\n",
       "      <td>0</td>\n",
       "      <td>chào</td>\n",
       "    </tr>\n",
       "    <tr>\n",
       "      <th>6</th>\n",
       "      <td>0</td>\n",
       "      <td>chào bạn</td>\n",
       "    </tr>\n",
       "    <tr>\n",
       "      <th>7</th>\n",
       "      <td>0</td>\n",
       "      <td>alo</td>\n",
       "    </tr>\n",
       "    <tr>\n",
       "      <th>8</th>\n",
       "      <td>0</td>\n",
       "      <td>xin chào</td>\n",
       "    </tr>\n",
       "    <tr>\n",
       "      <th>9</th>\n",
       "      <td>0</td>\n",
       "      <td>cho mình hỏi với</td>\n",
       "    </tr>\n",
       "    <tr>\n",
       "      <th>10</th>\n",
       "      <td>0</td>\n",
       "      <td>mình cần tư_vấn</td>\n",
       "    </tr>\n",
       "    <tr>\n",
       "      <th>11</th>\n",
       "      <td>0</td>\n",
       "      <td>hiện_tại bên mình có ai tư_vấn không</td>\n",
       "    </tr>\n",
       "    <tr>\n",
       "      <th>12</th>\n",
       "      <td>0</td>\n",
       "      <td>chào đằng đó</td>\n",
       "    </tr>\n",
       "    <tr>\n",
       "      <th>13</th>\n",
       "      <td>0</td>\n",
       "      <td>hello bot</td>\n",
       "    </tr>\n",
       "    <tr>\n",
       "      <th>14</th>\n",
       "      <td>0</td>\n",
       "      <td>chào bot</td>\n",
       "    </tr>\n",
       "    <tr>\n",
       "      <th>15</th>\n",
       "      <td>0</td>\n",
       "      <td>xin chào cậu khỏe không</td>\n",
       "    </tr>\n",
       "    <tr>\n",
       "      <th>16</th>\n",
       "      <td>0</td>\n",
       "      <td>xin chào cho tôi hỏi chút</td>\n",
       "    </tr>\n",
       "    <tr>\n",
       "      <th>17</th>\n",
       "      <td>0</td>\n",
       "      <td>này</td>\n",
       "    </tr>\n",
       "    <tr>\n",
       "      <th>18</th>\n",
       "      <td>0</td>\n",
       "      <td>tôi hỏi chút</td>\n",
       "    </tr>\n",
       "    <tr>\n",
       "      <th>19</th>\n",
       "      <td>0</td>\n",
       "      <td>hey</td>\n",
       "    </tr>\n",
       "    <tr>\n",
       "      <th>20</th>\n",
       "      <td>0</td>\n",
       "      <td>giúp tôi với</td>\n",
       "    </tr>\n",
       "    <tr>\n",
       "      <th>21</th>\n",
       "      <td>0</td>\n",
       "      <td>tôi tên là minh</td>\n",
       "    </tr>\n",
       "    <tr>\n",
       "      <th>22</th>\n",
       "      <td>0</td>\n",
       "      <td>cho tôi hỏi</td>\n",
       "    </tr>\n",
       "    <tr>\n",
       "      <th>23</th>\n",
       "      <td>0</td>\n",
       "      <td>hi mình là bình</td>\n",
       "    </tr>\n",
       "    <tr>\n",
       "      <th>24</th>\n",
       "      <td>0</td>\n",
       "      <td>mình là hương nhé</td>\n",
       "    </tr>\n",
       "    <tr>\n",
       "      <th>25</th>\n",
       "      <td>0</td>\n",
       "      <td>chào bot mình tên là quỳnh</td>\n",
       "    </tr>\n",
       "    <tr>\n",
       "      <th>26</th>\n",
       "      <td>0</td>\n",
       "      <td>tớ tên là nhung rất vui được gặp bot</td>\n",
       "    </tr>\n",
       "    <tr>\n",
       "      <th>27</th>\n",
       "      <td>0</td>\n",
       "      <td>xin chao</td>\n",
       "    </tr>\n",
       "    <tr>\n",
       "      <th>28</th>\n",
       "      <td>0</td>\n",
       "      <td>good morning</td>\n",
       "    </tr>\n",
       "    <tr>\n",
       "      <th>29</th>\n",
       "      <td>0</td>\n",
       "      <td>good afternoon</td>\n",
       "    </tr>\n",
       "    <tr>\n",
       "      <th>30</th>\n",
       "      <td>0</td>\n",
       "      <td>good evening</td>\n",
       "    </tr>\n",
       "    <tr>\n",
       "      <th>31</th>\n",
       "      <td>0</td>\n",
       "      <td>goodmorning</td>\n",
       "    </tr>\n",
       "    <tr>\n",
       "      <th>32</th>\n",
       "      <td>0</td>\n",
       "      <td>hê lô</td>\n",
       "    </tr>\n",
       "    <tr>\n",
       "      <th>33</th>\n",
       "      <td>0</td>\n",
       "      <td>ê</td>\n",
       "    </tr>\n",
       "    <tr>\n",
       "      <th>34</th>\n",
       "      <td>0</td>\n",
       "      <td>ê bạn</td>\n",
       "    </tr>\n",
       "    <tr>\n",
       "      <th>35</th>\n",
       "      <td>0</td>\n",
       "      <td>ê có ai không</td>\n",
       "    </tr>\n",
       "    <tr>\n",
       "      <th>36</th>\n",
       "      <td>0</td>\n",
       "      <td>tôi cần tư_vấn</td>\n",
       "    </tr>\n",
       "    <tr>\n",
       "      <th>37</th>\n",
       "      <td>0</td>\n",
       "      <td>chào ngày mới</td>\n",
       "    </tr>\n",
       "    <tr>\n",
       "      <th>38</th>\n",
       "      <td>0</td>\n",
       "      <td>bạn ơi cho mình hỏi cái này chút</td>\n",
       "    </tr>\n",
       "    <tr>\n",
       "      <th>1090</th>\n",
       "      <td>0</td>\n",
       "      <td>hề lố</td>\n",
       "    </tr>\n",
       "    <tr>\n",
       "      <th>1169</th>\n",
       "      <td>0</td>\n",
       "      <td>chào bạn cho mình hỏi chút với ạ</td>\n",
       "    </tr>\n",
       "    <tr>\n",
       "      <th>1170</th>\n",
       "      <td>0</td>\n",
       "      <td>xin chào mình là nghĩa</td>\n",
       "    </tr>\n",
       "    <tr>\n",
       "      <th>1171</th>\n",
       "      <td>0</td>\n",
       "      <td>tên tôi là thảo</td>\n",
       "    </tr>\n",
       "    <tr>\n",
       "      <th>1172</th>\n",
       "      <td>0</td>\n",
       "      <td>bạn có_thể giúp tôi được không</td>\n",
       "    </tr>\n",
       "    <tr>\n",
       "      <th>1173</th>\n",
       "      <td>0</td>\n",
       "      <td>tôi cần hỏi một_số việc</td>\n",
       "    </tr>\n",
       "    <tr>\n",
       "      <th>1174</th>\n",
       "      <td>0</td>\n",
       "      <td>xin chào bạn có_thể giúp tôi một_số việc được ...</td>\n",
       "    </tr>\n",
       "    <tr>\n",
       "      <th>1175</th>\n",
       "      <td>0</td>\n",
       "      <td>bạn cho mình hỏi với</td>\n",
       "    </tr>\n",
       "    <tr>\n",
       "      <th>1176</th>\n",
       "      <td>0</td>\n",
       "      <td>bạn cho mình hỏi với</td>\n",
       "    </tr>\n",
       "    <tr>\n",
       "      <th>1177</th>\n",
       "      <td>0</td>\n",
       "      <td>xin chào bạn có_thể giúp tôi được không</td>\n",
       "    </tr>\n",
       "    <tr>\n",
       "      <th>1178</th>\n",
       "      <td>0</td>\n",
       "      <td>mình hỏi chút</td>\n",
       "    </tr>\n",
       "    <tr>\n",
       "      <th>1179</th>\n",
       "      <td>0</td>\n",
       "      <td>tôi hỏi với</td>\n",
       "    </tr>\n",
       "    <tr>\n",
       "      <th>1180</th>\n",
       "      <td>0</td>\n",
       "      <td>xin chào nice to meet you</td>\n",
       "    </tr>\n",
       "    <tr>\n",
       "      <th>1181</th>\n",
       "      <td>0</td>\n",
       "      <td>nice to meet you</td>\n",
       "    </tr>\n",
       "    <tr>\n",
       "      <th>1182</th>\n",
       "      <td>0</td>\n",
       "      <td>hello bạn</td>\n",
       "    </tr>\n",
       "    <tr>\n",
       "      <th>1183</th>\n",
       "      <td>0</td>\n",
       "      <td>hello bạn</td>\n",
       "    </tr>\n",
       "    <tr>\n",
       "      <th>1184</th>\n",
       "      <td>0</td>\n",
       "      <td>hi bạn</td>\n",
       "    </tr>\n",
       "    <tr>\n",
       "      <th>1185</th>\n",
       "      <td>0</td>\n",
       "      <td>trò_chuyện nhé</td>\n",
       "    </tr>\n",
       "  </tbody>\n",
       "</table>\n",
       "</div>"
      ],
      "text/plain": [
       "      label                                               text\n",
       "0         0                               tư_vấn giúp mình với\n",
       "1         0                                                 hi\n",
       "2         0                                              hi_ad\n",
       "3         0                                     chào buổi sáng\n",
       "4         0                                              hello\n",
       "5         0                                               chào\n",
       "6         0                                           chào bạn\n",
       "7         0                                                alo\n",
       "8         0                                           xin chào\n",
       "9         0                                   cho mình hỏi với\n",
       "10        0                                    mình cần tư_vấn\n",
       "11        0               hiện_tại bên mình có ai tư_vấn không\n",
       "12        0                                       chào đằng đó\n",
       "13        0                                          hello bot\n",
       "14        0                                           chào bot\n",
       "15        0                            xin chào cậu khỏe không\n",
       "16        0                          xin chào cho tôi hỏi chút\n",
       "17        0                                                này\n",
       "18        0                                       tôi hỏi chút\n",
       "19        0                                                hey\n",
       "20        0                                       giúp tôi với\n",
       "21        0                                    tôi tên là minh\n",
       "22        0                                        cho tôi hỏi\n",
       "23        0                                    hi mình là bình\n",
       "24        0                                  mình là hương nhé\n",
       "25        0                         chào bot mình tên là quỳnh\n",
       "26        0               tớ tên là nhung rất vui được gặp bot\n",
       "27        0                                           xin chao\n",
       "28        0                                       good morning\n",
       "29        0                                     good afternoon\n",
       "30        0                                       good evening\n",
       "31        0                                        goodmorning\n",
       "32        0                                              hê lô\n",
       "33        0                                                  ê\n",
       "34        0                                              ê bạn\n",
       "35        0                                      ê có ai không\n",
       "36        0                                     tôi cần tư_vấn\n",
       "37        0                                      chào ngày mới\n",
       "38        0                   bạn ơi cho mình hỏi cái này chút\n",
       "1090      0                                              hề lố\n",
       "1169      0                   chào bạn cho mình hỏi chút với ạ\n",
       "1170      0                             xin chào mình là nghĩa\n",
       "1171      0                                    tên tôi là thảo\n",
       "1172      0                     bạn có_thể giúp tôi được không\n",
       "1173      0                            tôi cần hỏi một_số việc\n",
       "1174      0  xin chào bạn có_thể giúp tôi một_số việc được ...\n",
       "1175      0                               bạn cho mình hỏi với\n",
       "1176      0                               bạn cho mình hỏi với\n",
       "1177      0            xin chào bạn có_thể giúp tôi được không\n",
       "1178      0                                      mình hỏi chút\n",
       "1179      0                                        tôi hỏi với\n",
       "1180      0                          xin chào nice to meet you\n",
       "1181      0                                   nice to meet you\n",
       "1182      0                                          hello bạn\n",
       "1183      0                                          hello bạn\n",
       "1184      0                                             hi bạn\n",
       "1185      0                                     trò_chuyện nhé"
      ]
     },
     "execution_count": 75,
     "metadata": {},
     "output_type": "execute_result"
    }
   ],
   "source": [
    "data_df[data_df['label'] == 0]"
   ]
  },
  {
   "cell_type": "code",
   "execution_count": 76,
   "id": "539c894a-4b93-424f-a10d-4b57cfeac632",
   "metadata": {
    "tags": []
   },
   "outputs": [],
   "source": [
    "data_df.drop_duplicates(subset=['text'], inplace=True, ignore_index=True)"
   ]
  },
  {
   "cell_type": "code",
   "execution_count": 77,
   "id": "8f799b05-a031-4589-b752-a1a2329f2fa2",
   "metadata": {
    "tags": []
   },
   "outputs": [],
   "source": [
    "# new_data_df.drop_duplicates(subset=['text'], inplace=True, ignore_index=True)"
   ]
  },
  {
   "cell_type": "code",
   "execution_count": 78,
   "id": "f1e25ab8-ce59-46dd-aaf1-9028d0d15243",
   "metadata": {
    "tags": []
   },
   "outputs": [],
   "source": [
    "train_df = data_df \n",
    "test_df = test_df"
   ]
  },
  {
   "cell_type": "code",
   "execution_count": 79,
   "id": "2ffb0044-0888-4e19-aa1e-95c91040a0de",
   "metadata": {
    "tags": []
   },
   "outputs": [
    {
     "data": {
      "text/html": [
       "<div>\n",
       "<style scoped>\n",
       "    .dataframe tbody tr th:only-of-type {\n",
       "        vertical-align: middle;\n",
       "    }\n",
       "\n",
       "    .dataframe tbody tr th {\n",
       "        vertical-align: top;\n",
       "    }\n",
       "\n",
       "    .dataframe thead th {\n",
       "        text-align: right;\n",
       "    }\n",
       "</style>\n",
       "<table border=\"1\" class=\"dataframe\">\n",
       "  <thead>\n",
       "    <tr style=\"text-align: right;\">\n",
       "      <th></th>\n",
       "      <th>label</th>\n",
       "      <th>text</th>\n",
       "    </tr>\n",
       "  </thead>\n",
       "  <tbody>\n",
       "    <tr>\n",
       "      <th>0</th>\n",
       "      <td>0</td>\n",
       "      <td>tư_vấn giúp mình với</td>\n",
       "    </tr>\n",
       "    <tr>\n",
       "      <th>1</th>\n",
       "      <td>0</td>\n",
       "      <td>hi</td>\n",
       "    </tr>\n",
       "    <tr>\n",
       "      <th>2</th>\n",
       "      <td>0</td>\n",
       "      <td>hi_ad</td>\n",
       "    </tr>\n",
       "    <tr>\n",
       "      <th>3</th>\n",
       "      <td>0</td>\n",
       "      <td>chào buổi sáng</td>\n",
       "    </tr>\n",
       "    <tr>\n",
       "      <th>4</th>\n",
       "      <td>0</td>\n",
       "      <td>hello</td>\n",
       "    </tr>\n",
       "  </tbody>\n",
       "</table>\n",
       "</div>"
      ],
      "text/plain": [
       "   label                  text\n",
       "0      0  tư_vấn giúp mình với\n",
       "1      0                    hi\n",
       "2      0                 hi_ad\n",
       "3      0        chào buổi sáng\n",
       "4      0                 hello"
      ]
     },
     "execution_count": 79,
     "metadata": {},
     "output_type": "execute_result"
    }
   ],
   "source": [
    "train_df = train_df.reset_index(drop=True)\n",
    "test_df = test_df.reset_index(drop=True)\n",
    "train_df.head()"
   ]
  },
  {
   "cell_type": "code",
   "execution_count": 80,
   "id": "156fc7af-939e-4a42-9070-130832983b78",
   "metadata": {
    "tags": []
   },
   "outputs": [],
   "source": [
    "# train_df.to_csv('./data/sample_train.csv', index = False)"
   ]
  },
  {
   "cell_type": "code",
   "execution_count": 81,
   "id": "2ec84048-8b4a-4637-b44c-6d08e47644fa",
   "metadata": {
    "tags": []
   },
   "outputs": [],
   "source": [
    "def convert_idx_to_label(x):\n",
    "    return label_list[int(x)]"
   ]
  },
  {
   "cell_type": "code",
   "execution_count": 82,
   "id": "e738c05d-d959-4795-84ca-befd5f65c1e0",
   "metadata": {
    "tags": []
   },
   "outputs": [],
   "source": [
    "# data_df['label'] =  data_df['label'].apply(convert_idx_to_label)\n",
    "# data_df"
   ]
  },
  {
   "cell_type": "code",
   "execution_count": 83,
   "id": "ccc6435b-c854-46c9-9ac9-82b5a2c5cb25",
   "metadata": {
    "tags": []
   },
   "outputs": [],
   "source": [
    "from datasets import Dataset"
   ]
  },
  {
   "cell_type": "code",
   "execution_count": 84,
   "id": "db603f39-d7f8-40ba-b99b-e6666d63c8a1",
   "metadata": {
    "tags": []
   },
   "outputs": [],
   "source": [
    "train_dataset = Dataset.from_pandas(train_df)\n",
    "test_dataset = Dataset.from_pandas(test_df)"
   ]
  },
  {
   "cell_type": "code",
   "execution_count": 85,
   "id": "b528aeed-a0f2-4aa0-b732-ac51f6cff8f5",
   "metadata": {
    "tags": []
   },
   "outputs": [
    {
     "data": {
      "text/plain": [
       "'taikhoan_bieuphi'"
      ]
     },
     "execution_count": 85,
     "metadata": {},
     "output_type": "execute_result"
    }
   ],
   "source": [
    "label_list[46]"
   ]
  },
  {
   "cell_type": "code",
   "execution_count": 86,
   "id": "3b983962-798d-4f3f-abbe-7b86702d578f",
   "metadata": {
    "tags": []
   },
   "outputs": [
    {
     "name": "stdout",
     "output_type": "stream",
     "text": [
      "76    137\n",
      "80     80\n",
      "79     78\n",
      "0      55\n",
      "78     50\n",
      "77     50\n",
      "9      46\n",
      "12     39\n",
      "70     36\n",
      "8      36\n",
      "Name: label, dtype: int64\n"
     ]
    }
   ],
   "source": [
    "print(train_df['label'].value_counts()[:10])"
   ]
  },
  {
   "cell_type": "code",
   "execution_count": 87,
   "id": "2b45ec5a-81c5-43c2-8e17-f84b60617c81",
   "metadata": {
    "tags": []
   },
   "outputs": [
    {
     "name": "stdout",
     "output_type": "stream",
     "text": [
      "76    137\n",
      "80     80\n",
      "79     78\n",
      "0      55\n",
      "78     50\n",
      "     ... \n",
      "46      8\n",
      "52      8\n",
      "51      8\n",
      "50      8\n",
      "42      8\n",
      "Name: label, Length: 81, dtype: int64\n",
      "79    42\n",
      "80    41\n",
      "8     20\n",
      "0     17\n",
      "7     14\n",
      "      ..\n",
      "33     2\n",
      "65     2\n",
      "67     2\n",
      "69     2\n",
      "70     2\n",
      "Name: label, Length: 81, dtype: int64\n"
     ]
    }
   ],
   "source": [
    "print(train_df['label'].value_counts())\n",
    "print(test_df['label'].value_counts())"
   ]
  },
  {
   "cell_type": "code",
   "execution_count": 94,
   "id": "cd807419-a257-4cc2-aa98-be1450c0b60d",
   "metadata": {
    "tags": []
   },
   "outputs": [
    {
     "name": "stderr",
     "output_type": "stream",
     "text": [
      "No sentence-transformers model found with name /home/nghiatl/.cache/torch/sentence_transformers/VoVanPhuc_sup-SimCSE-VietNamese-phobert-base. Creating a new one with MEAN pooling.\n",
      "Some weights of the model checkpoint at /home/nghiatl/.cache/torch/sentence_transformers/VoVanPhuc_sup-SimCSE-VietNamese-phobert-base were not used when initializing RobertaModel: ['mlp.dense.weight', 'mlp.dense.bias']\n",
      "- This IS expected if you are initializing RobertaModel from the checkpoint of a model trained on another task or with another architecture (e.g. initializing a BertForSequenceClassification model from a BertForPreTraining model).\n",
      "- This IS NOT expected if you are initializing RobertaModel from the checkpoint of a model that you expect to be exactly identical (initializing a BertForSequenceClassification model from a BertForSequenceClassification model).\n",
      "model_head.pkl not found on HuggingFace Hub, initialising classification head with random weights. You should TRAIN this model on a downstream task to use it for predictions and inference.\n"
     ]
    }
   ],
   "source": [
    "num_classes = len(label_list)\n",
    "\n",
    "# sentence-transformers/paraphrase-multilingual-mpnet-base-v2\n",
    "# VoVanPhuc/sup-SimCSE-VietNamese-phobert-base\n",
    "model = SetFitModel.from_pretrained(\n",
    "    \"VoVanPhuc/sup-SimCSE-VietNamese-phobert-base\",\n",
    "    use_differentiable_head=True,\n",
    "    head_params={\"out_features\": num_classes}\n",
    ")"
   ]
  },
  {
   "cell_type": "code",
   "execution_count": 86,
   "id": "46f42b9c-b10f-4686-931b-d4fb34e59756",
   "metadata": {
    "tags": []
   },
   "outputs": [],
   "source": [
    "model = SetFitModel.from_pretrained(\n",
    "    \"vo_van_phuc_setfitckpt_18_4_2023_3_epoch_20_iter_sample\"\n",
    ")"
   ]
  },
  {
   "cell_type": "code",
   "execution_count": 87,
   "id": "e15d7022-01c2-4174-9436-ccfd01f53431",
   "metadata": {
    "tags": []
   },
   "outputs": [
    {
     "data": {
      "text/plain": [
       "SetFitModel()"
      ]
     },
     "execution_count": 87,
     "metadata": {},
     "output_type": "execute_result"
    }
   ],
   "source": [
    "model"
   ]
  },
  {
   "cell_type": "code",
   "execution_count": 88,
   "id": "c02b77ac-c4aa-45d6-bfaa-90a4df9af485",
   "metadata": {
    "tags": []
   },
   "outputs": [
    {
     "data": {
      "text/plain": [
       "Parameter containing:\n",
       "tensor([[ 0.0441, -0.0300,  0.0375,  ...,  0.0239, -0.0074, -0.0660],\n",
       "        [ 0.0180, -0.0042,  0.0184,  ...,  0.0164, -0.0053, -0.0293],\n",
       "        [-0.0092, -0.0137, -0.0160,  ...,  0.0185, -0.0040,  0.0032],\n",
       "        ...,\n",
       "        [ 0.0362, -0.0147,  0.0119,  ...,  0.0203, -0.0207, -0.0179],\n",
       "        [ 0.0257,  0.0118, -0.0224,  ...,  0.0245,  0.0002, -0.0293],\n",
       "        [ 0.0102, -0.0061, -0.0062,  ...,  0.0089, -0.0124, -0.0148]],\n",
       "       device='cuda:0', requires_grad=True)"
      ]
     },
     "execution_count": 88,
     "metadata": {},
     "output_type": "execute_result"
    }
   ],
   "source": [
    "next(model.model_body.parameters())"
   ]
  },
  {
   "cell_type": "code",
   "execution_count": 88,
   "id": "87764b68-f8ba-4b58-8c28-2e9cc1ae8df2",
   "metadata": {
    "tags": []
   },
   "outputs": [],
   "source": [
    "config = dict(\n",
    "    model=\"sentence-transformers/paraphrase-mpnet-base-v2\",\n",
    "    metric=\"accuracy\",\n",
    "    batch_size=32,\n",
    "    num_iterations=20,\n",
    "    num_epochs=1,\n",
    "    body_learning_rate=1e-5, # The body's learning rate\n",
    "    learning_rate=1e-2, # The head's learning rate\n",
    "    l2_weight=0.0, # Weight decay on **both** the body and head. If `None`, will use 0.01.\n",
    "    mixed_precision=True,\n",
    ")"
   ]
  },
  {
   "cell_type": "code",
   "execution_count": 89,
   "id": "bb6df635-3355-4a1f-bb7a-8f4192d436ef",
   "metadata": {
    "tags": []
   },
   "outputs": [],
   "source": [
    "trainer = SetFitTrainer(\n",
    "        model=model,\n",
    "        train_dataset=train_dataset,\n",
    "        eval_dataset=test_dataset,\n",
    "        loss_class=CosineSimilarityLoss,\n",
    "        metric=config[\"metric\"],\n",
    "        batch_size=config[\"batch_size\"],\n",
    "        num_iterations=config[\"num_iterations\"],\n",
    "        num_epochs=config[\"num_epochs\"],\n",
    "        column_mapping={\"text\": \"text\", \"label\": \"label\"}\n",
    "    )"
   ]
  },
  {
   "cell_type": "code",
   "execution_count": 90,
   "id": "34bb436d-edea-4f7b-a268-3b7f245e7ad6",
   "metadata": {
    "tags": []
   },
   "outputs": [
    {
     "data": {
      "text/plain": [
       "81"
      ]
     },
     "execution_count": 90,
     "metadata": {},
     "output_type": "execute_result"
    }
   ],
   "source": [
    "len(label_list)"
   ]
  },
  {
   "cell_type": "code",
   "execution_count": 91,
   "id": "fe89b082-4424-4fcc-ae90-04992460efa1",
   "metadata": {
    "tags": []
   },
   "outputs": [
    {
     "name": "stderr",
     "output_type": "stream",
     "text": [
      "Applying column mapping to training dataset\n",
      "***** Running training *****\n",
      "  Num examples = 62120\n",
      "  Num epochs = 1\n",
      "  Total optimization steps = 1942\n",
      "  Total train batch size = 32\n"
     ]
    },
    {
     "data": {
      "application/vnd.jupyter.widget-view+json": {
       "model_id": "6b879e2020c24f3faefa49f5c877828c",
       "version_major": 2,
       "version_minor": 0
      },
      "text/plain": [
       "Epoch:   0%|          | 0/1 [00:00<?, ?it/s]"
      ]
     },
     "metadata": {},
     "output_type": "display_data"
    },
    {
     "data": {
      "application/vnd.jupyter.widget-view+json": {
       "model_id": "ce34ea7e649a4035bfc86de1976e663f",
       "version_major": 2,
       "version_minor": 0
      },
      "text/plain": [
       "Iteration:   0%|          | 0/1942 [00:00<?, ?it/s]"
      ]
     },
     "metadata": {},
     "output_type": "display_data"
    }
   ],
   "source": [
    "trainer.freeze() # Freeze the head\n",
    "trainer.train(\n",
    "        body_learning_rate=config[\"body_learning_rate\"],\n",
    "        num_epochs=config[\"num_epochs\"]\n",
    "    )\n",
    "# trainer.train()"
   ]
  },
  {
   "cell_type": "code",
   "execution_count": 92,
   "id": "b0176c76-055d-4cad-a191-9169df498524",
   "metadata": {
    "tags": []
   },
   "outputs": [],
   "source": [
    "# Unfreeze the head and freeze the body -> head-only training\n",
    "trainer.unfreeze(keep_body_frozen=True)\n",
    "# or\n",
    "# Unfreeze the head and unfreeze the body -> end-to-end training\n",
    "# trainer.unfreeze(keep_body_frozen=False)"
   ]
  },
  {
   "cell_type": "code",
   "execution_count": 93,
   "id": "da8f3091-c5e1-4dac-acba-577dd682f302",
   "metadata": {
    "tags": []
   },
   "outputs": [
    {
     "data": {
      "text/plain": [
       "'accuracy'"
      ]
     },
     "execution_count": 93,
     "metadata": {},
     "output_type": "execute_result"
    }
   ],
   "source": [
    "trainer.metric = 'accuracy'\n",
    "trainer.metric"
   ]
  },
  {
   "cell_type": "code",
   "execution_count": 94,
   "id": "c22c2d0c-e848-4149-a0fa-8cb1d159b571",
   "metadata": {
    "tags": []
   },
   "outputs": [],
   "source": [
    "# trainer.train(\n",
    "#                     num_epochs=25,\n",
    "#                     body_learning_rate=1e-5,\n",
    "#                     learning_rate=1e-2,  # recommend: 1e-2\n",
    "#                     l2_weight=0.0,\n",
    "#                     batch_size=config[\"batch_size\"],\n",
    "#                 )\n",
    "# metrics = trainer.evaluate()\n",
    "# print(metrics)"
   ]
  },
  {
   "cell_type": "code",
   "execution_count": 95,
   "id": "1155cb23-da9d-42e4-b1f0-ceb7b438ce72",
   "metadata": {
    "tags": []
   },
   "outputs": [
    {
     "name": "stderr",
     "output_type": "stream",
     "text": [
      "Applying column mapping to training dataset\n",
      "The `max_length` is `None`. Using the maximum acceptable length according to the current model body: 256.\n"
     ]
    },
    {
     "data": {
      "application/vnd.jupyter.widget-view+json": {
       "model_id": "f64a2b6c0ea441f9a34e1be8e82ffe2a",
       "version_major": 2,
       "version_minor": 0
      },
      "text/plain": [
       "Epoch:   0%|          | 0/50 [00:00<?, ?it/s]"
      ]
     },
     "metadata": {},
     "output_type": "display_data"
    },
    {
     "name": "stderr",
     "output_type": "stream",
     "text": [
      "Applying column mapping to evaluation dataset\n",
      "***** Running evaluation *****\n"
     ]
    },
    {
     "name": "stdout",
     "output_type": "stream",
     "text": [
      "{'accuracy': 1.0}\n"
     ]
    }
   ],
   "source": [
    "trainer.train(learning_rate=config['learning_rate'], num_epochs=50)\n",
    "metrics = trainer.evaluate()\n",
    "print(metrics)"
   ]
  },
  {
   "cell_type": "code",
   "execution_count": 96,
   "id": "4d97e745-7517-4013-aad2-1b0a6b39270f",
   "metadata": {
    "tags": []
   },
   "outputs": [],
   "source": [
    "# traine"
   ]
  },
  {
   "cell_type": "code",
   "execution_count": 208,
   "id": "a9580e17-88d6-445e-8023-03a41030d01f",
   "metadata": {
    "tags": []
   },
   "outputs": [],
   "source": [
    "trainer.model._save_pretrained('vo_van_phuc_setfitckpt_18_4_2023_3_epoch_20_iter_sample_continue_on_error_message_test_data')"
   ]
  },
  {
   "cell_type": "code",
   "execution_count": 110,
   "id": "2c9c3b4e-1b2b-4017-97eb-78b65dba7893",
   "metadata": {
    "tags": []
   },
   "outputs": [],
   "source": [
    "import gc\n",
    "\n",
    "del model\n",
    "gc.collect()\n",
    "torch.cuda.empty_cache()"
   ]
  },
  {
   "cell_type": "code",
   "execution_count": 95,
   "id": "0fa7afa0-ceca-4ff7-9e50-86df2e4d6f15",
   "metadata": {
    "tags": []
   },
   "outputs": [],
   "source": [
    "model = SetFitModel.from_pretrained(\"vo_van_phuc_setfitckpt_11_4_2023_3_epoch_20_iter_sample_continue_on_error_message_test_data\")"
   ]
  },
  {
   "cell_type": "code",
   "execution_count": 96,
   "id": "428a1f3b-c11b-41b3-af39-20c966abb179",
   "metadata": {
    "tags": []
   },
   "outputs": [
    {
     "data": {
      "text/plain": [
       "'greetings'"
      ]
     },
     "execution_count": 96,
     "metadata": {},
     "output_type": "execute_result"
    }
   ],
   "source": [
    "label_list[model('alo')]"
   ]
  },
  {
   "cell_type": "code",
   "execution_count": 139,
   "id": "c08337b8-b2f2-415a-8810-c2cdde30e92b",
   "metadata": {
    "tags": []
   },
   "outputs": [],
   "source": [
    "model = trainer.model"
   ]
  },
  {
   "cell_type": "code",
   "execution_count": 140,
   "id": "13949db5-02c4-467c-84e8-022b9e013447",
   "metadata": {
    "tags": []
   },
   "outputs": [],
   "source": [
    "# model"
   ]
  },
  {
   "cell_type": "code",
   "execution_count": 141,
   "id": "7db1024e-f930-4655-a0d1-53de1c8a3c2a",
   "metadata": {
    "tags": []
   },
   "outputs": [
    {
     "data": {
      "text/plain": [
       "Transformer({'max_seq_length': 256, 'do_lower_case': False}) with Transformer model: RobertaModel "
      ]
     },
     "execution_count": 141,
     "metadata": {},
     "output_type": "execute_result"
    }
   ],
   "source": [
    "model.model_body[0]"
   ]
  },
  {
   "cell_type": "markdown",
   "id": "fc62b8e8-0b5a-43e9-90a8-a1e39d89d3aa",
   "metadata": {},
   "source": [
    "## Evaluation"
   ]
  },
  {
   "cell_type": "code",
   "execution_count": 89,
   "id": "4f4e2547-d05c-4442-9c05-75810538d03a",
   "metadata": {
    "tags": []
   },
   "outputs": [],
   "source": [
    "from sklearn.metrics import classification_report"
   ]
  },
  {
   "cell_type": "code",
   "execution_count": 90,
   "id": "03ac0331-a896-4b0a-b638-bea7fe512fbf",
   "metadata": {
    "tags": []
   },
   "outputs": [
    {
     "data": {
      "text/html": [
       "<div>\n",
       "<style scoped>\n",
       "    .dataframe tbody tr th:only-of-type {\n",
       "        vertical-align: middle;\n",
       "    }\n",
       "\n",
       "    .dataframe tbody tr th {\n",
       "        vertical-align: top;\n",
       "    }\n",
       "\n",
       "    .dataframe thead th {\n",
       "        text-align: right;\n",
       "    }\n",
       "</style>\n",
       "<table border=\"1\" class=\"dataframe\">\n",
       "  <thead>\n",
       "    <tr style=\"text-align: right;\">\n",
       "      <th></th>\n",
       "      <th>label</th>\n",
       "      <th>text</th>\n",
       "    </tr>\n",
       "  </thead>\n",
       "  <tbody>\n",
       "    <tr>\n",
       "      <th>0</th>\n",
       "      <td>0</td>\n",
       "      <td>chào bạn cho mình hỏi chút với ạ</td>\n",
       "    </tr>\n",
       "    <tr>\n",
       "      <th>1</th>\n",
       "      <td>0</td>\n",
       "      <td>xin chào mình là nghĩa</td>\n",
       "    </tr>\n",
       "    <tr>\n",
       "      <th>2</th>\n",
       "      <td>0</td>\n",
       "      <td>tên tôi là thảo</td>\n",
       "    </tr>\n",
       "    <tr>\n",
       "      <th>3</th>\n",
       "      <td>0</td>\n",
       "      <td>bạn có_thể giúp tôi được không</td>\n",
       "    </tr>\n",
       "    <tr>\n",
       "      <th>4</th>\n",
       "      <td>0</td>\n",
       "      <td>tôi cần hỏi một_số việc</td>\n",
       "    </tr>\n",
       "    <tr>\n",
       "      <th>...</th>\n",
       "      <td>...</td>\n",
       "      <td>...</td>\n",
       "    </tr>\n",
       "    <tr>\n",
       "      <th>407</th>\n",
       "      <td>42</td>\n",
       "      <td>làm_sao để kiểm_tra số_dư tài_khoản ạ</td>\n",
       "    </tr>\n",
       "    <tr>\n",
       "      <th>408</th>\n",
       "      <td>36</td>\n",
       "      <td>cung_cấp cho tôi thông_tin về trái_phiếu với</td>\n",
       "    </tr>\n",
       "    <tr>\n",
       "      <th>409</th>\n",
       "      <td>60</td>\n",
       "      <td>ứng_dụng vib plus là gì vậy</td>\n",
       "    </tr>\n",
       "    <tr>\n",
       "      <th>410</th>\n",
       "      <td>38</td>\n",
       "      <td>thu_nhập của tôi không ổn_định thì mở thẻ tín_...</td>\n",
       "    </tr>\n",
       "    <tr>\n",
       "      <th>411</th>\n",
       "      <td>48</td>\n",
       "      <td>tôi muốn biết những ưu_đãi của thẻ visa dining</td>\n",
       "    </tr>\n",
       "  </tbody>\n",
       "</table>\n",
       "<p>412 rows × 2 columns</p>\n",
       "</div>"
      ],
      "text/plain": [
       "     label                                               text\n",
       "0        0                   chào bạn cho mình hỏi chút với ạ\n",
       "1        0                             xin chào mình là nghĩa\n",
       "2        0                                    tên tôi là thảo\n",
       "3        0                     bạn có_thể giúp tôi được không\n",
       "4        0                            tôi cần hỏi một_số việc\n",
       "..     ...                                                ...\n",
       "407     42              làm_sao để kiểm_tra số_dư tài_khoản ạ\n",
       "408     36       cung_cấp cho tôi thông_tin về trái_phiếu với\n",
       "409     60                        ứng_dụng vib plus là gì vậy\n",
       "410     38  thu_nhập của tôi không ổn_định thì mở thẻ tín_...\n",
       "411     48     tôi muốn biết những ưu_đãi của thẻ visa dining\n",
       "\n",
       "[412 rows x 2 columns]"
      ]
     },
     "execution_count": 90,
     "metadata": {},
     "output_type": "execute_result"
    }
   ],
   "source": [
    "test_df"
   ]
  },
  {
   "cell_type": "code",
   "execution_count": 91,
   "id": "cf2d39f3-e25f-4d4f-b96d-d65c39c1cce8",
   "metadata": {
    "tags": []
   },
   "outputs": [
    {
     "data": {
      "text/plain": [
       "79    42\n",
       "80    41\n",
       "8     20\n",
       "0     17\n",
       "7     14\n",
       "      ..\n",
       "33     2\n",
       "65     2\n",
       "67     2\n",
       "69     2\n",
       "70     2\n",
       "Name: label, Length: 81, dtype: int64"
      ]
     },
     "execution_count": 91,
     "metadata": {},
     "output_type": "execute_result"
    }
   ],
   "source": [
    "test_df['label'].value_counts()"
   ]
  },
  {
   "cell_type": "code",
   "execution_count": 92,
   "id": "5379eaab-49dc-43a0-99e6-41423b6e7877",
   "metadata": {
    "tags": []
   },
   "outputs": [],
   "source": [
    "# model.model_head.to('cuda:0')"
   ]
  },
  {
   "cell_type": "code",
   "execution_count": 93,
   "id": "fadd1240-097f-4115-9ae0-defea58794ac",
   "metadata": {
    "tags": []
   },
   "outputs": [
    {
     "data": {
      "text/plain": [
       "Parameter containing:\n",
       "tensor([[ 0.0560,  0.0249, -0.0590,  ..., -0.1423, -0.0736,  0.1558],\n",
       "        [-0.1639, -0.0496,  0.0358,  ..., -0.1648, -0.0366,  0.1358],\n",
       "        [ 0.0825,  0.1315, -0.2145,  ...,  0.2280, -0.0123,  0.2368],\n",
       "        ...,\n",
       "        [-0.0072,  0.0894, -0.1059,  ..., -0.0535,  0.0410, -0.1101],\n",
       "        [-0.0379,  0.1322, -0.0873,  ..., -0.1755, -0.1253, -0.1645],\n",
       "        [ 0.0163, -0.0375, -0.1166,  ..., -0.1126, -0.0821, -0.2028]],\n",
       "       device='cuda:0', requires_grad=True)"
      ]
     },
     "execution_count": 93,
     "metadata": {},
     "output_type": "execute_result"
    }
   ],
   "source": [
    "next(model.model_head.parameters())"
   ]
  },
  {
   "cell_type": "code",
   "execution_count": 94,
   "id": "2e49c31e-ab22-459b-af99-38d8154a8842",
   "metadata": {
    "tags": []
   },
   "outputs": [],
   "source": [
    "preds = model(list(test_df['text']))\n",
    "preds = preds.cpu()"
   ]
  },
  {
   "cell_type": "code",
   "execution_count": 95,
   "id": "d7708171-46b8-49a1-a273-c0780c254a7e",
   "metadata": {
    "tags": []
   },
   "outputs": [],
   "source": [
    "y_true = list(test_df['label'])"
   ]
  },
  {
   "cell_type": "code",
   "execution_count": 109,
   "id": "191b83ca-682f-4b3c-af54-832513d5f493",
   "metadata": {
    "tags": []
   },
   "outputs": [
    {
     "name": "stdout",
     "output_type": "stream",
     "text": [
      "                                          precision    recall  f1-score   support\n",
      "\n",
      "                               greetings       1.00      1.00      1.00        17\n",
      "                                 goodbye       1.00      1.00      1.00        12\n",
      "                                  thanks       1.00      1.00      1.00        12\n",
      "                                  affirm       1.00      1.00      1.00        12\n",
      "                                    deny       1.00      1.00      1.00        11\n",
      "                               moodgreat       1.00      1.00      1.00        11\n",
      "                                mainmenu       1.00      1.00      1.00        11\n",
      "                       submenuthongtinID       1.00      1.00      1.00        14\n",
      "               submenuthongtinemailphone       1.00      1.00      1.00        20\n",
      "                         submenucomplain       1.00      1.00      1.00        10\n",
      "                      submenulienhetuvan       1.00      1.00      1.00        12\n",
      "                          branchlocation       1.00      1.00      1.00        12\n",
      "                     cardproductmainmenu       1.00      1.00      1.00        12\n",
      "                  cardproductkiemtrahoso       1.00      1.00      1.00         9\n",
      "                 outofscorenonvietnamese       1.00      1.00      1.00         2\n",
      "             chuyentienquocte_hoso_muaho       1.00      1.00      1.00         2\n",
      "               chuyentienquocte_hoso_mua       1.00      1.00      1.00         2\n",
      "              taikhoan_bieuphi_hangthang       1.00      1.00      1.00         2\n",
      "     chuyentienquocte_hanmuc_sinhhoatphi       1.00      1.00      1.00         2\n",
      "                     thetindung_thongtin       1.00      1.00      1.00         2\n",
      "                   chuyentienquocte_hoso       1.00      1.00      1.00         2\n",
      "                 chuyentienquocte_hanmuc       1.00      1.00      1.00         2\n",
      "       chuyentienquocte_hoso_sinhhoatphi       1.00      1.00      1.00         2\n",
      "                  thetindung_cachnhanthe       1.00      1.00      1.00         2\n",
      "                 giolamviec_giaodichvien       1.00      1.00      1.00         2\n",
      "                         baohiem_sanpham       1.00      1.00      1.00         2\n",
      "                           vay_kinhdoanh       1.00      1.00      1.00         2\n",
      "        nghiepvuthe_vibvisatravel_sudung       1.00      1.00      1.00         2\n",
      "                              dautu_kenh       1.00      1.00      1.00         2\n",
      "                            vay_tieudung       1.00      1.00      1.00         2\n",
      "                  thetindung_kichhoatthe       1.00      1.00      1.00         2\n",
      "                thetindung_mapin_cachlay       1.00      1.00      1.00         2\n",
      "nghiepvuthe_vibmastercardsuperfree_uudai       1.00      1.00      1.00         2\n",
      "                             baohiem_VIB       1.00      1.00      1.00         2\n",
      "                                 vay_nha       1.00      1.00      1.00         2\n",
      "                             vay_bieuphi       1.00      1.00      1.00         2\n",
      "                         dautu_traiphieu       1.00      1.00      1.00         2\n",
      "     nghiepvuthe_vibvisadining_thanhtoan       1.00      1.00      1.00         2\n",
      "        nghiepvuthe_dangkythe_khongluong       1.00      1.00      1.00         2\n",
      "                       nghiepvuthe_uudai       1.00      1.00      1.00         2\n",
      "           nghiepvuthe_vibvisamastercard       1.00      1.00      1.00         2\n",
      "                    chuyentienquocte_mua       1.00      1.00      1.00         2\n",
      "                    taikhoan_kiemtrasodu       1.00      1.00      1.00         2\n",
      "              nghiepvuthe_vibplus_caidat       1.00      1.00      1.00         2\n",
      "                                 vay_oto       1.00      1.00      1.00         2\n",
      "                     giolamviec_chinhanh       1.00      1.00      1.00         4\n",
      "                        taikhoan_bieuphi       1.00      1.00      1.00         2\n",
      "                  taikhoan_thutuc_dangky       1.00      1.00      1.00         2\n",
      "         nghiepvuthe_vibvisadining_uudai       1.00      1.00      1.00         2\n",
      "         chuyentienquocte_hoso_khongvisa       1.00      1.00      1.00         2\n",
      "            chuyentienquocte_hoso_trocap       1.00      1.00      1.00         2\n",
      "          chuyentienquocte_hanmuc_dinhcu       1.00      1.00      1.00         2\n",
      "                    nghiepvuthe_hoantien       1.00      1.00      1.00         2\n",
      "       baohiem_prudautulinhhoat_quyenloi       1.00      1.00      1.00         3\n",
      "                       dautu_chungchiquy       1.00      1.00      1.00         3\n",
      "                    guitietkiem_thongtin       1.00      1.00      1.00         2\n",
      "                       baohiem_muaquaVIB       1.00      1.00      1.00         3\n",
      "         baohiem_prudautulinhhoat_dotuoi       1.00      1.00      1.00         3\n",
      "                            baohiem_hoso       1.00      1.00      1.00         2\n",
      "            chuyentienquocte_hoso_hocphi       1.00      1.00      1.00         2\n",
      "                     nghiepvuthe_vibplus       1.00      1.00      1.00         2\n",
      "                         taikhoan_dangky       1.00      1.00      1.00         2\n",
      "               chuyentienquocte_taikhoan       1.00      1.00      1.00         2\n",
      "                 taikhoan_bieuphi_dangky       1.00      1.00      1.00         2\n",
      "        chuyentienquocte_doituong_trocap       1.00      1.00      1.00         2\n",
      "          chuyentienquocte_hanmuc_trocap       1.00      1.00      1.00         2\n",
      "             nghiepvuthe_vibvisa_bieuphi       1.00      1.00      1.00         2\n",
      "                  thetindung_doanhnghiep       1.00      1.00      1.00         2\n",
      "                     guitietkiem_laisuat       1.00      1.00      1.00         2\n",
      "                       vayuudai_thongtin       1.00      1.00      1.00         2\n",
      "                   nghiepvuthe_dangkythe       1.00      1.00      1.00         2\n",
      "                     taikhoan_chuyentien       1.00      1.00      1.00         2\n",
      "       nghiepvuthe_vibvisadining_bieuphi       1.00      1.00      1.00         2\n",
      "                 chuyentienquocte_muanha       1.00      1.00      1.00         2\n",
      "                          taikhoan_uudai       1.00      1.00      1.00         2\n",
      "                          submenubieuphi       1.00      1.00      1.00         2\n",
      "                         outofscoreother       1.00      1.00      1.00         2\n",
      "              cardproductkiemtragiaonhan       1.00      1.00      1.00        11\n",
      "                         submenuthongtin       1.00      1.00      1.00        11\n",
      "                           taikhoan_khoa       1.00      1.00      1.00        42\n",
      "                      nghiepvuthe_matthe       1.00      1.00      1.00        41\n",
      "\n",
      "                                accuracy                           1.00       412\n",
      "                               macro avg       1.00      1.00      1.00       412\n",
      "                            weighted avg       1.00      1.00      1.00       412\n",
      "\n"
     ]
    }
   ],
   "source": [
    "# target_names = label_list\n",
    "# vvp 1 e 20 i 16 b sample train them the tin dung visa\n",
    "print(classification_report(y_true, preds, target_names = label_list))"
   ]
  },
  {
   "cell_type": "code",
   "execution_count": 96,
   "id": "27a664ea-170d-4ba4-991d-ee4231b5c7df",
   "metadata": {
    "tags": []
   },
   "outputs": [
    {
     "name": "stdout",
     "output_type": "stream",
     "text": [
      "                                          precision    recall  f1-score   support\n",
      "\n",
      "                               greetings       0.64      0.94      0.76        17\n",
      "                                 goodbye       0.89      0.67      0.76        12\n",
      "                                  thanks       1.00      1.00      1.00        12\n",
      "                                  affirm       0.82      0.75      0.78        12\n",
      "                                    deny       0.91      0.91      0.91        11\n",
      "                               moodgreat       1.00      0.82      0.90        11\n",
      "                                mainmenu       0.83      0.91      0.87        11\n",
      "                       submenuthongtinID       0.93      1.00      0.97        14\n",
      "               submenuthongtinemailphone       1.00      0.85      0.92        20\n",
      "                         submenucomplain       0.82      0.90      0.86        10\n",
      "                      submenulienhetuvan       0.91      0.83      0.87        12\n",
      "                          branchlocation       0.92      0.92      0.92        12\n",
      "                     cardproductmainmenu       0.90      0.75      0.82        12\n",
      "                  cardproductkiemtrahoso       1.00      1.00      1.00         9\n",
      "                 outofscorenonvietnamese       1.00      0.50      0.67         2\n",
      "             chuyentienquocte_hoso_muaho       1.00      1.00      1.00         2\n",
      "               chuyentienquocte_hoso_mua       1.00      1.00      1.00         2\n",
      "              taikhoan_bieuphi_hangthang       1.00      1.00      1.00         2\n",
      "     chuyentienquocte_hanmuc_sinhhoatphi       1.00      0.50      0.67         2\n",
      "                     thetindung_thongtin       1.00      1.00      1.00         2\n",
      "                   chuyentienquocte_hoso       1.00      1.00      1.00         2\n",
      "                 chuyentienquocte_hanmuc       1.00      1.00      1.00         2\n",
      "       chuyentienquocte_hoso_sinhhoatphi       0.67      1.00      0.80         2\n",
      "                  thetindung_cachnhanthe       1.00      1.00      1.00         2\n",
      "                 giolamviec_giaodichvien       1.00      1.00      1.00         2\n",
      "                         baohiem_sanpham       1.00      1.00      1.00         2\n",
      "                           vay_kinhdoanh       1.00      1.00      1.00         2\n",
      "        nghiepvuthe_vibvisatravel_sudung       0.67      1.00      0.80         2\n",
      "                              dautu_kenh       1.00      1.00      1.00         2\n",
      "                            vay_tieudung       1.00      1.00      1.00         2\n",
      "                  thetindung_kichhoatthe       1.00      1.00      1.00         2\n",
      "                thetindung_mapin_cachlay       1.00      1.00      1.00         2\n",
      "nghiepvuthe_vibmastercardsuperfree_uudai       1.00      1.00      1.00         2\n",
      "                             baohiem_VIB       1.00      1.00      1.00         2\n",
      "                                 vay_nha       1.00      1.00      1.00         2\n",
      "                             vay_bieuphi       1.00      1.00      1.00         2\n",
      "                         dautu_traiphieu       1.00      1.00      1.00         2\n",
      "     nghiepvuthe_vibvisadining_thanhtoan       1.00      0.50      0.67         2\n",
      "        nghiepvuthe_dangkythe_khongluong       1.00      1.00      1.00         2\n",
      "                       nghiepvuthe_uudai       1.00      1.00      1.00         2\n",
      "           nghiepvuthe_vibvisamastercard       1.00      1.00      1.00         2\n",
      "                    chuyentienquocte_mua       1.00      1.00      1.00         2\n",
      "                    taikhoan_kiemtrasodu       1.00      1.00      1.00         2\n",
      "              nghiepvuthe_vibplus_caidat       1.00      1.00      1.00         2\n",
      "                                 vay_oto       1.00      1.00      1.00         2\n",
      "                     giolamviec_chinhanh       1.00      0.75      0.86         4\n",
      "                        taikhoan_bieuphi       1.00      1.00      1.00         2\n",
      "                  taikhoan_thutuc_dangky       1.00      1.00      1.00         2\n",
      "         nghiepvuthe_vibvisadining_uudai       0.50      0.50      0.50         2\n",
      "         chuyentienquocte_hoso_khongvisa       1.00      1.00      1.00         2\n",
      "            chuyentienquocte_hoso_trocap       1.00      1.00      1.00         2\n",
      "          chuyentienquocte_hanmuc_dinhcu       1.00      1.00      1.00         2\n",
      "                    nghiepvuthe_hoantien       1.00      1.00      1.00         2\n",
      "       baohiem_prudautulinhhoat_quyenloi       1.00      1.00      1.00         3\n",
      "                       dautu_chungchiquy       1.00      1.00      1.00         3\n",
      "                    guitietkiem_thongtin       1.00      1.00      1.00         2\n",
      "                       baohiem_muaquaVIB       1.00      1.00      1.00         3\n",
      "         baohiem_prudautulinhhoat_dotuoi       1.00      1.00      1.00         3\n",
      "                            baohiem_hoso       1.00      1.00      1.00         2\n",
      "            chuyentienquocte_hoso_hocphi       1.00      1.00      1.00         2\n",
      "                     nghiepvuthe_vibplus       1.00      1.00      1.00         2\n",
      "                         taikhoan_dangky       1.00      1.00      1.00         2\n",
      "               chuyentienquocte_taikhoan       1.00      1.00      1.00         2\n",
      "                 taikhoan_bieuphi_dangky       1.00      1.00      1.00         2\n",
      "        chuyentienquocte_doituong_trocap       1.00      1.00      1.00         2\n",
      "          chuyentienquocte_hanmuc_trocap       1.00      1.00      1.00         2\n",
      "             nghiepvuthe_vibvisa_bieuphi       1.00      1.00      1.00         2\n",
      "                  thetindung_doanhnghiep       1.00      1.00      1.00         2\n",
      "                     guitietkiem_laisuat       1.00      1.00      1.00         2\n",
      "                       vayuudai_thongtin       1.00      1.00      1.00         2\n",
      "                   nghiepvuthe_dangkythe       1.00      1.00      1.00         2\n",
      "                     taikhoan_chuyentien       1.00      1.00      1.00         2\n",
      "       nghiepvuthe_vibvisadining_bieuphi       1.00      1.00      1.00         2\n",
      "                 chuyentienquocte_muanha       1.00      1.00      1.00         2\n",
      "                          taikhoan_uudai       1.00      1.00      1.00         2\n",
      "                          submenubieuphi       1.00      1.00      1.00         2\n",
      "                         outofscoreother       0.00      0.00      0.00         2\n",
      "              cardproductkiemtragiaonhan       0.79      1.00      0.88        11\n",
      "                         submenuthongtin       0.85      1.00      0.92        11\n",
      "                           taikhoan_khoa       1.00      1.00      1.00        42\n",
      "                      nghiepvuthe_matthe       1.00      0.93      0.96        41\n",
      "\n",
      "                                accuracy                           0.92       412\n",
      "                               macro avg       0.95      0.94      0.94       412\n",
      "                            weighted avg       0.93      0.92      0.92       412\n",
      "\n"
     ]
    }
   ],
   "source": [
    "# target_names = label_list\n",
    "# vvp 1 e 20 i 16 b sample train them the tin dung visa\n",
    "print(classification_report(y_true, preds, target_names = label_list))"
   ]
  },
  {
   "cell_type": "code",
   "execution_count": 90,
   "id": "dae49c5d-be2e-49f8-9eee-2f8ae57faefd",
   "metadata": {
    "tags": []
   },
   "outputs": [],
   "source": [
    "preds = model(list(new_data_df['text']))\n",
    "preds = preds.cpu()\n",
    "y_true = list(new_data_df['label'])"
   ]
  },
  {
   "cell_type": "code",
   "execution_count": 157,
   "id": "49fe7677-4155-4fd6-ab2f-fabca9230304",
   "metadata": {
    "tags": []
   },
   "outputs": [
    {
     "data": {
      "text/plain": [
       "tensor([7])"
      ]
     },
     "execution_count": 157,
     "metadata": {},
     "output_type": "execute_result"
    }
   ],
   "source": [
    "preds[preds == 7]"
   ]
  },
  {
   "cell_type": "code",
   "execution_count": 116,
   "id": "74646575-e0f2-4a8f-a581-3222e43e04ff",
   "metadata": {
    "tags": []
   },
   "outputs": [],
   "source": [
    "false_label = []"
   ]
  },
  {
   "cell_type": "code",
   "execution_count": 117,
   "id": "9aa52c27-c5b4-41c9-91f7-1e908f22e740",
   "metadata": {
    "tags": []
   },
   "outputs": [
    {
     "data": {
      "text/plain": [
       "'taikhoan_bieuphi'"
      ]
     },
     "execution_count": 117,
     "metadata": {},
     "output_type": "execute_result"
    }
   ],
   "source": [
    "idx = 46\n",
    "label_list[idx]"
   ]
  },
  {
   "cell_type": "code",
   "execution_count": 161,
   "id": "713e80ca-beee-481f-94f1-0bb5de101f0e",
   "metadata": {
    "tags": []
   },
   "outputs": [
    {
     "data": {
      "text/plain": [
       "24"
      ]
     },
     "execution_count": 161,
     "metadata": {},
     "output_type": "execute_result"
    }
   ],
   "source": [
    "label_list.index('giolamviec_giaodichvien')"
   ]
  },
  {
   "cell_type": "code",
   "execution_count": 77,
   "id": "a617f57b-6806-44f3-9a85-30061dca0f5e",
   "metadata": {
    "tags": []
   },
   "outputs": [
    {
     "data": {
      "text/plain": [
       "['chuyentienquocte_hoso_muaho']"
      ]
     },
     "execution_count": 77,
     "metadata": {},
     "output_type": "execute_result"
    }
   ],
   "source": [
    "false_label.append(label_list[idx])\n",
    "false_label"
   ]
  },
  {
   "cell_type": "code",
   "execution_count": 214,
   "id": "4f835ed3-1ff9-4b35-8001-ffc5495a16bf",
   "metadata": {
    "tags": []
   },
   "outputs": [
    {
     "data": {
      "text/plain": [
       "'lương tôi không ổn_định'"
      ]
     },
     "execution_count": 214,
     "metadata": {},
     "output_type": "execute_result"
    }
   ],
   "source": [
    "txt = preprocess_text('lương tôi không ổn định')\n",
    "txt"
   ]
  },
  {
   "cell_type": "code",
   "execution_count": 215,
   "id": "ddd46494-365b-413d-8e83-864bab33f012",
   "metadata": {
    "tags": []
   },
   "outputs": [
    {
     "data": {
      "text/plain": [
       "0.9996991157531738"
      ]
     },
     "execution_count": 215,
     "metadata": {},
     "output_type": "execute_result"
    }
   ],
   "source": [
    "model.predict_proba([txt]).max().item()"
   ]
  },
  {
   "cell_type": "code",
   "execution_count": 216,
   "id": "33c44cd5-1468-4b8a-827b-dc766061f8e4",
   "metadata": {
    "tags": []
   },
   "outputs": [
    {
     "data": {
      "text/plain": [
       "'outofscoreother'"
      ]
     },
     "execution_count": 216,
     "metadata": {},
     "output_type": "execute_result"
    }
   ],
   "source": [
    "label_list[model(txt)]"
   ]
  },
  {
   "cell_type": "code",
   "execution_count": 264,
   "id": "81e27cd4-0cdc-47a1-9dd4-c6a4b1f12024",
   "metadata": {
    "tags": []
   },
   "outputs": [
    {
     "data": {
      "text/plain": [
       "20"
      ]
     },
     "execution_count": 264,
     "metadata": {},
     "output_type": "execute_result"
    }
   ],
   "source": [
    "label_list.index('chuyentienquocte_hoso')"
   ]
  },
  {
   "cell_type": "code",
   "execution_count": 200,
   "id": "17e819eb-29ad-4cde-a3ea-f79b6c270959",
   "metadata": {
    "tags": []
   },
   "outputs": [
    {
     "data": {
      "text/html": [
       "<div>\n",
       "<style scoped>\n",
       "    .dataframe tbody tr th:only-of-type {\n",
       "        vertical-align: middle;\n",
       "    }\n",
       "\n",
       "    .dataframe tbody tr th {\n",
       "        vertical-align: top;\n",
       "    }\n",
       "\n",
       "    .dataframe thead th {\n",
       "        text-align: right;\n",
       "    }\n",
       "</style>\n",
       "<table border=\"1\" class=\"dataframe\">\n",
       "  <thead>\n",
       "    <tr style=\"text-align: right;\">\n",
       "      <th></th>\n",
       "      <th>label</th>\n",
       "      <th>text</th>\n",
       "    </tr>\n",
       "  </thead>\n",
       "  <tbody>\n",
       "    <tr>\n",
       "      <th>293</th>\n",
       "      <td>20</td>\n",
       "      <td>bên mình yêu_cầu hồ_sơ gì để được chuyển tiền_...</td>\n",
       "    </tr>\n",
       "    <tr>\n",
       "      <th>338</th>\n",
       "      <td>20</td>\n",
       "      <td>hồ_sơ để chuyển tiền_định_cư gồm những gì</td>\n",
       "    </tr>\n",
       "    <tr>\n",
       "      <th>350</th>\n",
       "      <td>20</td>\n",
       "      <td>chuyển tiền_định_cư có cần nộp nhiều giấy_tờ k...</td>\n",
       "    </tr>\n",
       "    <tr>\n",
       "      <th>363</th>\n",
       "      <td>20</td>\n",
       "      <td>vib yêu_cầu giấy_tờ gì để duyệt chuyển tiền_đị...</td>\n",
       "    </tr>\n",
       "    <tr>\n",
       "      <th>411</th>\n",
       "      <td>20</td>\n",
       "      <td>danh_sách các giấy_tờ cẩn chuẩn_bị để chuyển t...</td>\n",
       "    </tr>\n",
       "    <tr>\n",
       "      <th>595</th>\n",
       "      <td>20</td>\n",
       "      <td>tôi muốn chuyển tiền_định_cư cho bố thì cần nộ...</td>\n",
       "    </tr>\n",
       "    <tr>\n",
       "      <th>1335</th>\n",
       "      <td>20</td>\n",
       "      <td>tư_vấn cho tôi các giấy_tờ phải nộp để chuyển ...</td>\n",
       "    </tr>\n",
       "    <tr>\n",
       "      <th>1352</th>\n",
       "      <td>20</td>\n",
       "      <td>tôi muốn chuyển tiền_định_cư cho bạn ở mỹ thì ...</td>\n",
       "    </tr>\n",
       "  </tbody>\n",
       "</table>\n",
       "</div>"
      ],
      "text/plain": [
       "      label                                               text\n",
       "293      20  bên mình yêu_cầu hồ_sơ gì để được chuyển tiền_...\n",
       "338      20          hồ_sơ để chuyển tiền_định_cư gồm những gì\n",
       "350      20  chuyển tiền_định_cư có cần nộp nhiều giấy_tờ k...\n",
       "363      20  vib yêu_cầu giấy_tờ gì để duyệt chuyển tiền_đị...\n",
       "411      20  danh_sách các giấy_tờ cẩn chuẩn_bị để chuyển t...\n",
       "595      20  tôi muốn chuyển tiền_định_cư cho bố thì cần nộ...\n",
       "1335     20  tư_vấn cho tôi các giấy_tờ phải nộp để chuyển ...\n",
       "1352     20  tôi muốn chuyển tiền_định_cư cho bạn ở mỹ thì ..."
      ]
     },
     "execution_count": 200,
     "metadata": {},
     "output_type": "execute_result"
    }
   ],
   "source": [
    "train_df[train_df['label'] == 20]"
   ]
  },
  {
   "cell_type": "code",
   "execution_count": 165,
   "id": "4dc92c93-e724-48b8-b320-ade53b716595",
   "metadata": {
    "tags": []
   },
   "outputs": [],
   "source": [
    "# label_list"
   ]
  },
  {
   "cell_type": "code",
   "execution_count": 166,
   "id": "af9da571-9c9d-4ef5-a371-45ffb27e2be1",
   "metadata": {
    "tags": []
   },
   "outputs": [
    {
     "data": {
      "text/plain": [
       "True"
      ]
     },
     "execution_count": 166,
     "metadata": {},
     "output_type": "execute_result"
    }
   ],
   "source": [
    "80 in y_true"
   ]
  },
  {
   "cell_type": "code",
   "execution_count": 167,
   "id": "2e2fa094-4b60-4684-9853-c0576a658204",
   "metadata": {
    "tags": []
   },
   "outputs": [
    {
     "data": {
      "text/plain": [
       "81"
      ]
     },
     "execution_count": 167,
     "metadata": {},
     "output_type": "execute_result"
    }
   ],
   "source": [
    "len(label_list)"
   ]
  },
  {
   "cell_type": "code",
   "execution_count": 168,
   "id": "84102965-93db-416d-b135-44f161d6597c",
   "metadata": {
    "tags": []
   },
   "outputs": [
    {
     "name": "stdout",
     "output_type": "stream",
     "text": [
      "                                          precision    recall  f1-score   support\n",
      "\n",
      "                               greetings       0.75      0.71      0.73        17\n",
      "                                 goodbye       0.90      0.75      0.82        12\n",
      "                                  thanks       0.86      1.00      0.92        12\n",
      "                                  affirm       1.00      0.67      0.80        12\n",
      "                                    deny       0.83      0.91      0.87        11\n",
      "                               moodgreat       0.90      0.82      0.86        11\n",
      "                                mainmenu       0.67      0.36      0.47        11\n",
      "                       submenuthongtinID       1.00      1.00      1.00        14\n",
      "               submenuthongtinemailphone       1.00      0.80      0.89        20\n",
      "                         submenucomplain       0.82      0.90      0.86        10\n",
      "                      submenulienhetuvan       0.67      1.00      0.80        12\n",
      "                          branchlocation       1.00      0.92      0.96        12\n",
      "                     cardproductmainmenu       0.60      0.75      0.67        12\n",
      "                  cardproductkiemtrahoso       1.00      0.89      0.94         9\n",
      "                 outofscorenonvietnamese       1.00      0.50      0.67         2\n",
      "             chuyentienquocte_hoso_muaho       1.00      1.00      1.00         2\n",
      "               chuyentienquocte_hoso_mua       1.00      1.00      1.00         2\n",
      "              taikhoan_bieuphi_hangthang       1.00      1.00      1.00         2\n",
      "     chuyentienquocte_hanmuc_sinhhoatphi       0.50      0.50      0.50         2\n",
      "                     thetindung_thongtin       1.00      1.00      1.00         2\n",
      "                   chuyentienquocte_hoso       1.00      1.00      1.00         2\n",
      "                 chuyentienquocte_hanmuc       1.00      1.00      1.00         2\n",
      "       chuyentienquocte_hoso_sinhhoatphi       0.50      0.50      0.50         2\n",
      "                  thetindung_cachnhanthe       0.67      1.00      0.80         2\n",
      "                 giolamviec_giaodichvien       1.00      0.50      0.67         2\n",
      "                         baohiem_sanpham       1.00      1.00      1.00         2\n",
      "                           vay_kinhdoanh       1.00      1.00      1.00         2\n",
      "        nghiepvuthe_vibvisatravel_sudung       0.67      1.00      0.80         2\n",
      "                              dautu_kenh       1.00      1.00      1.00         2\n",
      "                            vay_tieudung       1.00      1.00      1.00         2\n",
      "                  thetindung_kichhoatthe       1.00      1.00      1.00         2\n",
      "                thetindung_mapin_cachlay       1.00      1.00      1.00         2\n",
      "nghiepvuthe_vibmastercardsuperfree_uudai       1.00      1.00      1.00         2\n",
      "                             baohiem_VIB       0.50      1.00      0.67         2\n",
      "                                 vay_nha       1.00      1.00      1.00         2\n",
      "                             vay_bieuphi       1.00      1.00      1.00         2\n",
      "                         dautu_traiphieu       1.00      1.00      1.00         2\n",
      "     nghiepvuthe_vibvisadining_thanhtoan       1.00      0.50      0.67         2\n",
      "        nghiepvuthe_dangkythe_khongluong       1.00      1.00      1.00         2\n",
      "                       nghiepvuthe_uudai       1.00      1.00      1.00         2\n",
      "           nghiepvuthe_vibvisamastercard       1.00      0.50      0.67         2\n",
      "                    chuyentienquocte_mua       1.00      1.00      1.00         2\n",
      "                    taikhoan_kiemtrasodu       1.00      1.00      1.00         2\n",
      "              nghiepvuthe_vibplus_caidat       0.67      1.00      0.80         2\n",
      "                                 vay_oto       1.00      1.00      1.00         2\n",
      "                     giolamviec_chinhanh       0.80      1.00      0.89         4\n",
      "                        taikhoan_bieuphi       1.00      1.00      1.00         2\n",
      "                  taikhoan_thutuc_dangky       1.00      1.00      1.00         2\n",
      "         nghiepvuthe_vibvisadining_uudai       1.00      0.50      0.67         2\n",
      "         chuyentienquocte_hoso_khongvisa       1.00      1.00      1.00         2\n",
      "            chuyentienquocte_hoso_trocap       1.00      0.50      0.67         2\n",
      "          chuyentienquocte_hanmuc_dinhcu       1.00      1.00      1.00         2\n",
      "                    nghiepvuthe_hoantien       1.00      1.00      1.00         2\n",
      "       baohiem_prudautulinhhoat_quyenloi       1.00      1.00      1.00         3\n",
      "                       dautu_chungchiquy       1.00      1.00      1.00         3\n",
      "                    guitietkiem_thongtin       1.00      1.00      1.00         2\n",
      "                       baohiem_muaquaVIB       1.00      0.33      0.50         3\n",
      "         baohiem_prudautulinhhoat_dotuoi       1.00      1.00      1.00         3\n",
      "                            baohiem_hoso       1.00      1.00      1.00         2\n",
      "            chuyentienquocte_hoso_hocphi       1.00      1.00      1.00         2\n",
      "                     nghiepvuthe_vibplus       1.00      0.50      0.67         2\n",
      "                         taikhoan_dangky       1.00      1.00      1.00         2\n",
      "               chuyentienquocte_taikhoan       1.00      1.00      1.00         2\n",
      "                 taikhoan_bieuphi_dangky       1.00      1.00      1.00         2\n",
      "        chuyentienquocte_doituong_trocap       0.67      1.00      0.80         2\n",
      "          chuyentienquocte_hanmuc_trocap       1.00      1.00      1.00         2\n",
      "             nghiepvuthe_vibvisa_bieuphi       1.00      1.00      1.00         2\n",
      "                  thetindung_doanhnghiep       1.00      1.00      1.00         2\n",
      "                     guitietkiem_laisuat       1.00      1.00      1.00         2\n",
      "                       vayuudai_thongtin       1.00      1.00      1.00         2\n",
      "                   nghiepvuthe_dangkythe       0.50      1.00      0.67         2\n",
      "                     taikhoan_chuyentien       1.00      1.00      1.00         2\n",
      "       nghiepvuthe_vibvisadining_bieuphi       0.67      1.00      0.80         2\n",
      "                 chuyentienquocte_muanha       1.00      1.00      1.00         2\n",
      "                          taikhoan_uudai       1.00      1.00      1.00         2\n",
      "                          submenubieuphi       1.00      1.00      1.00         2\n",
      "                         outofscoreother       0.00      0.00      0.00         2\n",
      "              cardproductkiemtragiaonhan       0.82      0.82      0.82        11\n",
      "                         submenuthongtin       0.85      1.00      0.92        11\n",
      "                           taikhoan_khoa       1.00      1.00      1.00        42\n",
      "                      nghiepvuthe_matthe       1.00      0.93      0.96        41\n",
      "\n",
      "                                accuracy                           0.88       412\n",
      "                               macro avg       0.91      0.89      0.88       412\n",
      "                            weighted avg       0.91      0.88      0.88       412\n",
      "\n"
     ]
    }
   ],
   "source": [
    "# target_names = label_list\n",
    "# vvp 1 e 20 i 16 b sample train them the tin dung visa\n",
    "print(classification_report(y_true, preds, target_names = label_list))"
   ]
  },
  {
   "cell_type": "code",
   "execution_count": 124,
   "id": "d499fba7-8b18-4a9f-b339-d369a0a11c3f",
   "metadata": {
    "tags": []
   },
   "outputs": [
    {
     "name": "stdout",
     "output_type": "stream",
     "text": [
      "                                          precision    recall  f1-score   support\n",
      "\n",
      "                               greetings       0.76      0.76      0.76        17\n",
      "                                 goodbye       0.90      0.75      0.82        12\n",
      "                                  thanks       1.00      1.00      1.00        12\n",
      "                                  affirm       0.89      0.67      0.76        12\n",
      "                                    deny       1.00      0.82      0.90        11\n",
      "                               moodgreat       0.89      0.73      0.80        11\n",
      "                                mainmenu       0.89      0.73      0.80        11\n",
      "                       submenuthongtinID       1.00      1.00      1.00        14\n",
      "               submenuthongtinemailphone       1.00      0.90      0.95        20\n",
      "                         submenucomplain       0.67      1.00      0.80        10\n",
      "                      submenulienhetuvan       0.86      1.00      0.92        12\n",
      "                          branchlocation       1.00      0.92      0.96        12\n",
      "                     cardproductmainmenu       0.83      0.83      0.83        12\n",
      "                  cardproductkiemtrahoso       0.82      1.00      0.90         9\n",
      "                 outofscorenonvietnamese       0.50      0.50      0.50         2\n",
      "             chuyentienquocte_hoso_muaho       1.00      1.00      1.00         2\n",
      "               chuyentienquocte_hoso_mua       1.00      1.00      1.00         2\n",
      "              taikhoan_bieuphi_hangthang       1.00      1.00      1.00         2\n",
      "     chuyentienquocte_hanmuc_sinhhoatphi       0.50      0.50      0.50         2\n",
      "                     thetindung_thongtin       1.00      1.00      1.00         2\n",
      "                   chuyentienquocte_hoso       1.00      1.00      1.00         2\n",
      "                 chuyentienquocte_hanmuc       1.00      1.00      1.00         2\n",
      "       chuyentienquocte_hoso_sinhhoatphi       0.50      0.50      0.50         2\n",
      "                  thetindung_cachnhanthe       0.67      1.00      0.80         2\n",
      "                 giolamviec_giaodichvien       1.00      1.00      1.00         2\n",
      "                         baohiem_sanpham       1.00      1.00      1.00         2\n",
      "                           vay_kinhdoanh       1.00      1.00      1.00         2\n",
      "        nghiepvuthe_vibvisatravel_sudung       0.67      1.00      0.80         2\n",
      "                              dautu_kenh       1.00      1.00      1.00         2\n",
      "                            vay_tieudung       1.00      1.00      1.00         2\n",
      "                  thetindung_kichhoatthe       1.00      1.00      1.00         2\n",
      "                thetindung_mapin_cachlay       1.00      1.00      1.00         2\n",
      "nghiepvuthe_vibmastercardsuperfree_uudai       1.00      1.00      1.00         2\n",
      "                             baohiem_VIB       1.00      1.00      1.00         2\n",
      "                                 vay_nha       1.00      1.00      1.00         2\n",
      "                             vay_bieuphi       1.00      1.00      1.00         2\n",
      "                         dautu_traiphieu       1.00      1.00      1.00         2\n",
      "     nghiepvuthe_vibvisadining_thanhtoan       1.00      0.50      0.67         2\n",
      "        nghiepvuthe_dangkythe_khongluong       1.00      1.00      1.00         2\n",
      "                       nghiepvuthe_uudai       1.00      1.00      1.00         2\n",
      "           nghiepvuthe_vibvisamastercard       1.00      0.50      0.67         2\n",
      "                    chuyentienquocte_mua       1.00      1.00      1.00         2\n",
      "                    taikhoan_kiemtrasodu       1.00      1.00      1.00         2\n",
      "              nghiepvuthe_vibplus_caidat       1.00      1.00      1.00         2\n",
      "                                 vay_oto       1.00      1.00      1.00         2\n",
      "                     giolamviec_chinhanh       1.00      1.00      1.00         4\n",
      "                        taikhoan_bieuphi       1.00      1.00      1.00         2\n",
      "                  taikhoan_thutuc_dangky       1.00      1.00      1.00         2\n",
      "         nghiepvuthe_vibvisadining_uudai       0.50      0.50      0.50         2\n",
      "         chuyentienquocte_hoso_khongvisa       1.00      1.00      1.00         2\n",
      "            chuyentienquocte_hoso_trocap       1.00      1.00      1.00         2\n",
      "          chuyentienquocte_hanmuc_dinhcu       1.00      1.00      1.00         2\n",
      "                    nghiepvuthe_hoantien       1.00      1.00      1.00         2\n",
      "       baohiem_prudautulinhhoat_quyenloi       1.00      1.00      1.00         3\n",
      "                       dautu_chungchiquy       1.00      1.00      1.00         3\n",
      "                    guitietkiem_thongtin       1.00      1.00      1.00         2\n",
      "                       baohiem_muaquaVIB       1.00      1.00      1.00         3\n",
      "         baohiem_prudautulinhhoat_dotuoi       1.00      1.00      1.00         3\n",
      "                            baohiem_hoso       1.00      1.00      1.00         2\n",
      "            chuyentienquocte_hoso_hocphi       1.00      1.00      1.00         2\n",
      "                     nghiepvuthe_vibplus       1.00      1.00      1.00         2\n",
      "                         taikhoan_dangky       1.00      1.00      1.00         2\n",
      "               chuyentienquocte_taikhoan       1.00      1.00      1.00         2\n",
      "                 taikhoan_bieuphi_dangky       1.00      1.00      1.00         2\n",
      "        chuyentienquocte_doituong_trocap       1.00      1.00      1.00         2\n",
      "          chuyentienquocte_hanmuc_trocap       1.00      1.00      1.00         2\n",
      "             nghiepvuthe_vibvisa_bieuphi       1.00      1.00      1.00         2\n",
      "                  thetindung_doanhnghiep       1.00      1.00      1.00         2\n",
      "                     guitietkiem_laisuat       1.00      1.00      1.00         2\n",
      "                       vayuudai_thongtin       1.00      1.00      1.00         2\n",
      "                   nghiepvuthe_dangkythe       0.67      1.00      0.80         2\n",
      "                     taikhoan_chuyentien       1.00      1.00      1.00         2\n",
      "       nghiepvuthe_vibvisadining_bieuphi       1.00      1.00      1.00         2\n",
      "                 chuyentienquocte_muanha       1.00      1.00      1.00         2\n",
      "                          taikhoan_uudai       1.00      1.00      1.00         2\n",
      "                          submenubieuphi       1.00      1.00      1.00         2\n",
      "                         outofscoreother       0.00      0.00      0.00         2\n",
      "              cardproductkiemtragiaonhan       0.83      0.91      0.87        11\n",
      "                         submenuthongtin       1.00      0.91      0.95        11\n",
      "                           taikhoan_khoa       1.00      1.00      1.00        42\n",
      "                      nghiepvuthe_matthe       1.00      0.93      0.96        41\n",
      "\n",
      "                                accuracy                           0.91       412\n",
      "                               macro avg       0.93      0.92      0.92       412\n",
      "                            weighted avg       0.93      0.91      0.92       412\n",
      "\n"
     ]
    }
   ],
   "source": [
    "# target_names = label_list\n",
    "# vvp 1 e 20 i 16 b sample train them the tin dung visa\n",
    "print(classification_report(y_true, preds, target_names = label_list))"
   ]
  },
  {
   "cell_type": "code",
   "execution_count": 253,
   "id": "8e4ecd40-61ce-4b09-8ef5-14f033ea8630",
   "metadata": {
    "tags": []
   },
   "outputs": [
    {
     "name": "stdout",
     "output_type": "stream",
     "text": [
      "                                          precision    recall  f1-score   support\n",
      "\n",
      "                               greetings       0.76      0.94      0.84        17\n",
      "                                 goodbye       1.00      0.75      0.86        12\n",
      "                                  thanks       1.00      1.00      1.00        12\n",
      "                                  affirm       1.00      0.75      0.86        12\n",
      "                                    deny       1.00      0.91      0.95        11\n",
      "                               moodgreat       1.00      0.82      0.90        11\n",
      "                                mainmenu       0.88      0.64      0.74        11\n",
      "                       submenuthongtinID       0.93      1.00      0.97        14\n",
      "               submenuthongtinemailphone       1.00      0.90      0.95        20\n",
      "                         submenucomplain       0.71      1.00      0.83        10\n",
      "                      submenulienhetuvan       0.92      1.00      0.96        12\n",
      "                          branchlocation       1.00      0.92      0.96        12\n",
      "                     cardproductmainmenu       0.83      0.83      0.83        12\n",
      "                  cardproductkiemtrahoso       1.00      1.00      1.00         9\n",
      "                 outofscorenonvietnamese       1.00      0.50      0.67         2\n",
      "             chuyentienquocte_hoso_muaho       1.00      1.00      1.00         2\n",
      "               chuyentienquocte_hoso_mua       1.00      1.00      1.00         2\n",
      "              taikhoan_bieuphi_hangthang       1.00      1.00      1.00         2\n",
      "     chuyentienquocte_hanmuc_sinhhoatphi       1.00      1.00      1.00         2\n",
      "                     thetindung_thongtin       0.67      1.00      0.80         2\n",
      "                   chuyentienquocte_hoso       1.00      1.00      1.00         2\n",
      "                 chuyentienquocte_hanmuc       1.00      1.00      1.00         2\n",
      "       chuyentienquocte_hoso_sinhhoatphi       1.00      1.00      1.00         2\n",
      "                  thetindung_cachnhanthe       1.00      1.00      1.00         2\n",
      "                 giolamviec_giaodichvien       1.00      1.00      1.00         2\n",
      "                         baohiem_sanpham       1.00      1.00      1.00         2\n",
      "                           vay_kinhdoanh       1.00      1.00      1.00         2\n",
      "        nghiepvuthe_vibvisatravel_sudung       1.00      1.00      1.00         2\n",
      "                              dautu_kenh       1.00      1.00      1.00         2\n",
      "                            vay_tieudung       1.00      1.00      1.00         2\n",
      "                  thetindung_kichhoatthe       1.00      1.00      1.00         2\n",
      "                thetindung_mapin_cachlay       1.00      1.00      1.00         2\n",
      "nghiepvuthe_vibmastercardsuperfree_uudai       1.00      1.00      1.00         2\n",
      "                             baohiem_VIB       0.67      1.00      0.80         2\n",
      "                                 vay_nha       1.00      1.00      1.00         2\n",
      "                             vay_bieuphi       1.00      1.00      1.00         2\n",
      "                         dautu_traiphieu       1.00      1.00      1.00         2\n",
      "     nghiepvuthe_vibvisadining_thanhtoan       1.00      0.50      0.67         2\n",
      "        nghiepvuthe_dangkythe_khongluong       1.00      1.00      1.00         2\n",
      "                       nghiepvuthe_uudai       1.00      1.00      1.00         2\n",
      "           nghiepvuthe_vibvisamastercard       0.00      0.00      0.00         2\n",
      "                    chuyentienquocte_mua       1.00      1.00      1.00         2\n",
      "                    taikhoan_kiemtrasodu       1.00      1.00      1.00         2\n",
      "              nghiepvuthe_vibplus_caidat       1.00      1.00      1.00         2\n",
      "                                 vay_oto       1.00      1.00      1.00         2\n",
      "                     giolamviec_chinhanh       1.00      1.00      1.00         4\n",
      "                        taikhoan_bieuphi       1.00      1.00      1.00         2\n",
      "                  taikhoan_thutuc_dangky       1.00      1.00      1.00         2\n",
      "         nghiepvuthe_vibvisadining_uudai       1.00      1.00      1.00         2\n",
      "         chuyentienquocte_hoso_khongvisa       1.00      1.00      1.00         2\n",
      "            chuyentienquocte_hoso_trocap       1.00      1.00      1.00         2\n",
      "          chuyentienquocte_hanmuc_dinhcu       1.00      1.00      1.00         2\n",
      "                    nghiepvuthe_hoantien       1.00      1.00      1.00         2\n",
      "       baohiem_prudautulinhhoat_quyenloi       1.00      1.00      1.00         3\n",
      "                       dautu_chungchiquy       1.00      1.00      1.00         3\n",
      "                    guitietkiem_thongtin       1.00      1.00      1.00         2\n",
      "                       baohiem_muaquaVIB       1.00      0.67      0.80         3\n",
      "         baohiem_prudautulinhhoat_dotuoi       1.00      1.00      1.00         3\n",
      "                            baohiem_hoso       1.00      1.00      1.00         2\n",
      "            chuyentienquocte_hoso_hocphi       1.00      1.00      1.00         2\n",
      "                     nghiepvuthe_vibplus       1.00      1.00      1.00         2\n",
      "                         taikhoan_dangky       1.00      1.00      1.00         2\n",
      "               chuyentienquocte_taikhoan       1.00      1.00      1.00         2\n",
      "                 taikhoan_bieuphi_dangky       1.00      1.00      1.00         2\n",
      "        chuyentienquocte_doituong_trocap       1.00      1.00      1.00         2\n",
      "          chuyentienquocte_hanmuc_trocap       1.00      1.00      1.00         2\n",
      "             nghiepvuthe_vibvisa_bieuphi       0.67      1.00      0.80         2\n",
      "                  thetindung_doanhnghiep       1.00      1.00      1.00         2\n",
      "                     guitietkiem_laisuat       1.00      1.00      1.00         2\n",
      "                       vayuudai_thongtin       1.00      1.00      1.00         2\n",
      "                   nghiepvuthe_dangkythe       0.50      1.00      0.67         2\n",
      "                     taikhoan_chuyentien       1.00      1.00      1.00         2\n",
      "       nghiepvuthe_vibvisadining_bieuphi       0.67      1.00      0.80         2\n",
      "                 chuyentienquocte_muanha       1.00      1.00      1.00         2\n",
      "                          taikhoan_uudai       1.00      1.00      1.00         2\n",
      "                          submenubieuphi       1.00      1.00      1.00         2\n",
      "                         outofscoreother       0.00      0.00      0.00         2\n",
      "              cardproductkiemtragiaonhan       0.79      1.00      0.88        11\n",
      "                         submenuthongtin       1.00      1.00      1.00        11\n",
      "                           taikhoan_khoa       1.00      1.00      1.00        42\n",
      "                      nghiepvuthe_matthe       1.00      0.93      0.96        41\n",
      "\n",
      "                                accuracy                           0.93       412\n",
      "                               macro avg       0.94      0.94      0.93       412\n",
      "                            weighted avg       0.95      0.93      0.93       412\n",
      "\n"
     ]
    },
    {
     "name": "stderr",
     "output_type": "stream",
     "text": [
      "/data2/nghiatl/anaconda3/envs/SEO/lib/python3.8/site-packages/sklearn/metrics/_classification.py:1344: UndefinedMetricWarning: Precision and F-score are ill-defined and being set to 0.0 in labels with no predicted samples. Use `zero_division` parameter to control this behavior.\n",
      "  _warn_prf(average, modifier, msg_start, len(result))\n",
      "/data2/nghiatl/anaconda3/envs/SEO/lib/python3.8/site-packages/sklearn/metrics/_classification.py:1344: UndefinedMetricWarning: Precision and F-score are ill-defined and being set to 0.0 in labels with no predicted samples. Use `zero_division` parameter to control this behavior.\n",
      "  _warn_prf(average, modifier, msg_start, len(result))\n",
      "/data2/nghiatl/anaconda3/envs/SEO/lib/python3.8/site-packages/sklearn/metrics/_classification.py:1344: UndefinedMetricWarning: Precision and F-score are ill-defined and being set to 0.0 in labels with no predicted samples. Use `zero_division` parameter to control this behavior.\n",
      "  _warn_prf(average, modifier, msg_start, len(result))\n"
     ]
    }
   ],
   "source": [
    "# target_names = label_list\n",
    "# vvp 3 e 20 i sample train them the tin dung visa\n",
    "print(classification_report(y_true, preds, target_names = label_list))"
   ]
  },
  {
   "cell_type": "code",
   "execution_count": 75,
   "id": "fc1001e9-ebb8-494c-ac66-526c278fa8f0",
   "metadata": {
    "tags": []
   },
   "outputs": [
    {
     "name": "stdout",
     "output_type": "stream",
     "text": [
      "                                          precision    recall  f1-score   support\n",
      "\n",
      "                               greetings       0.71      0.88      0.79        17\n",
      "                                 goodbye       1.00      0.75      0.86        12\n",
      "                                  thanks       1.00      1.00      1.00        12\n",
      "                                  affirm       1.00      0.75      0.86        12\n",
      "                                    deny       1.00      0.91      0.95        11\n",
      "                               moodgreat       1.00      0.91      0.95        11\n",
      "                                mainmenu       0.89      0.73      0.80        11\n",
      "                       submenuthongtinID       0.93      1.00      0.97        14\n",
      "               submenuthongtinemailphone       1.00      0.95      0.97        20\n",
      "                         submenucomplain       0.77      1.00      0.87        10\n",
      "                      submenulienhetuvan       1.00      0.92      0.96        12\n",
      "                          branchlocation       0.85      0.92      0.88        12\n",
      "                     cardproductmainmenu       0.83      0.83      0.83        12\n",
      "                  cardproductkiemtrahoso       0.89      0.89      0.89         9\n",
      "                 outofscorenonvietnamese       1.00      0.50      0.67         2\n",
      "             chuyentienquocte_hoso_muaho       1.00      1.00      1.00         2\n",
      "               chuyentienquocte_hoso_mua       1.00      1.00      1.00         2\n",
      "              taikhoan_bieuphi_hangthang       1.00      1.00      1.00         2\n",
      "     chuyentienquocte_hanmuc_sinhhoatphi       1.00      0.50      0.67         2\n",
      "                     thetindung_thongtin       1.00      1.00      1.00         2\n",
      "                   chuyentienquocte_hoso       1.00      1.00      1.00         2\n",
      "                 chuyentienquocte_hanmuc       1.00      1.00      1.00         2\n",
      "       chuyentienquocte_hoso_sinhhoatphi       1.00      1.00      1.00         2\n",
      "                  thetindung_cachnhanthe       0.50      0.50      0.50         2\n",
      "                 giolamviec_giaodichvien       1.00      1.00      1.00         2\n",
      "                         baohiem_sanpham       1.00      1.00      1.00         2\n",
      "                           vay_kinhdoanh       1.00      1.00      1.00         2\n",
      "        nghiepvuthe_vibvisatravel_sudung       1.00      1.00      1.00         2\n",
      "                              dautu_kenh       1.00      1.00      1.00         2\n",
      "                            vay_tieudung       1.00      1.00      1.00         2\n",
      "                  thetindung_kichhoatthe       1.00      1.00      1.00         2\n",
      "                thetindung_mapin_cachlay       1.00      1.00      1.00         2\n",
      "nghiepvuthe_vibmastercardsuperfree_uudai       1.00      1.00      1.00         2\n",
      "                             baohiem_VIB       1.00      1.00      1.00         2\n",
      "                                 vay_nha       1.00      1.00      1.00         2\n",
      "                             vay_bieuphi       1.00      1.00      1.00         2\n",
      "                         dautu_traiphieu       1.00      1.00      1.00         2\n",
      "     nghiepvuthe_vibvisadining_thanhtoan       1.00      0.50      0.67         2\n",
      "        nghiepvuthe_dangkythe_khongluong       1.00      1.00      1.00         2\n",
      "                       nghiepvuthe_uudai       1.00      1.00      1.00         2\n",
      "           nghiepvuthe_vibvisamastercard       1.00      0.50      0.67         2\n",
      "                    chuyentienquocte_mua       1.00      1.00      1.00         2\n",
      "                    taikhoan_kiemtrasodu       1.00      1.00      1.00         2\n",
      "              nghiepvuthe_vibplus_caidat       1.00      1.00      1.00         2\n",
      "                                 vay_oto       1.00      1.00      1.00         2\n",
      "                     giolamviec_chinhanh       1.00      0.50      0.67         4\n",
      "                        taikhoan_bieuphi       1.00      1.00      1.00         2\n",
      "                  taikhoan_thutuc_dangky       1.00      1.00      1.00         2\n",
      "         nghiepvuthe_vibvisadining_uudai       1.00      1.00      1.00         2\n",
      "         chuyentienquocte_hoso_khongvisa       1.00      1.00      1.00         2\n",
      "            chuyentienquocte_hoso_trocap       1.00      1.00      1.00         2\n",
      "          chuyentienquocte_hanmuc_dinhcu       1.00      1.00      1.00         2\n",
      "                    nghiepvuthe_hoantien       1.00      1.00      1.00         2\n",
      "       baohiem_prudautulinhhoat_quyenloi       1.00      1.00      1.00         3\n",
      "                       dautu_chungchiquy       1.00      1.00      1.00         3\n",
      "                    guitietkiem_thongtin       1.00      1.00      1.00         2\n",
      "                       baohiem_muaquaVIB       1.00      1.00      1.00         3\n",
      "         baohiem_prudautulinhhoat_dotuoi       1.00      1.00      1.00         3\n",
      "                            baohiem_hoso       1.00      1.00      1.00         2\n",
      "            chuyentienquocte_hoso_hocphi       0.67      1.00      0.80         2\n",
      "                     nghiepvuthe_vibplus       1.00      1.00      1.00         2\n",
      "                         taikhoan_dangky       1.00      1.00      1.00         2\n",
      "               chuyentienquocte_taikhoan       1.00      1.00      1.00         2\n",
      "                 taikhoan_bieuphi_dangky       1.00      1.00      1.00         2\n",
      "        chuyentienquocte_doituong_trocap       1.00      1.00      1.00         2\n",
      "          chuyentienquocte_hanmuc_trocap       1.00      1.00      1.00         2\n",
      "             nghiepvuthe_vibvisa_bieuphi       0.67      1.00      0.80         2\n",
      "                  thetindung_doanhnghiep       1.00      1.00      1.00         2\n",
      "                     guitietkiem_laisuat       1.00      1.00      1.00         2\n",
      "                       vayuudai_thongtin       1.00      1.00      1.00         2\n",
      "                   nghiepvuthe_dangkythe       0.50      1.00      0.67         2\n",
      "                     taikhoan_chuyentien       1.00      1.00      1.00         2\n",
      "       nghiepvuthe_vibvisadining_bieuphi       0.67      1.00      0.80         2\n",
      "                 chuyentienquocte_muanha       1.00      1.00      1.00         2\n",
      "                          taikhoan_uudai       1.00      1.00      1.00         2\n",
      "                          submenubieuphi       1.00      1.00      1.00         2\n",
      "                         outofscoreother       0.00      0.00      0.00         2\n",
      "              cardproductkiemtragiaonhan       0.85      1.00      0.92        11\n",
      "                         submenuthongtin       1.00      1.00      1.00        11\n",
      "                           taikhoan_khoa       1.00      1.00      1.00        42\n",
      "                      nghiepvuthe_matthe       1.00      0.93      0.96        41\n",
      "\n",
      "                                accuracy                           0.92       412\n",
      "                               macro avg       0.95      0.93      0.93       412\n",
      "                            weighted avg       0.95      0.92      0.93       412\n",
      "\n"
     ]
    }
   ],
   "source": [
    "# target_names = label_list\n",
    "# vvp 3 e 30 i sample train\n",
    "print(classification_report(y_true, preds, target_names = label_list))"
   ]
  },
  {
   "cell_type": "code",
   "execution_count": 72,
   "id": "f0124261-04c0-4cf0-be62-8f2ee4a37c31",
   "metadata": {
    "tags": []
   },
   "outputs": [
    {
     "name": "stdout",
     "output_type": "stream",
     "text": [
      "                                          precision    recall  f1-score   support\n",
      "\n",
      "                               greetings       0.71      0.88      0.79        17\n",
      "                                 goodbye       1.00      0.67      0.80        12\n",
      "                                  thanks       1.00      1.00      1.00        12\n",
      "                                  affirm       1.00      0.75      0.86        12\n",
      "                                    deny       1.00      0.82      0.90        11\n",
      "                               moodgreat       1.00      0.82      0.90        11\n",
      "                                mainmenu       0.90      0.82      0.86        11\n",
      "                       submenuthongtinID       1.00      1.00      1.00        14\n",
      "               submenuthongtinemailphone       1.00      0.80      0.89        20\n",
      "                         submenucomplain       0.67      1.00      0.80        10\n",
      "                      submenulienhetuvan       0.85      0.92      0.88        12\n",
      "                          branchlocation       0.85      0.92      0.88        12\n",
      "                     cardproductmainmenu       0.91      0.83      0.87        12\n",
      "                  cardproductkiemtrahoso       0.82      1.00      0.90         9\n",
      "                 outofscorenonvietnamese       1.00      0.50      0.67         2\n",
      "             chuyentienquocte_hoso_muaho       1.00      1.00      1.00         2\n",
      "               chuyentienquocte_hoso_mua       1.00      1.00      1.00         2\n",
      "              taikhoan_bieuphi_hangthang       1.00      1.00      1.00         2\n",
      "     chuyentienquocte_hanmuc_sinhhoatphi       0.50      0.50      0.50         2\n",
      "                     thetindung_thongtin       1.00      1.00      1.00         2\n",
      "                   chuyentienquocte_hoso       1.00      1.00      1.00         2\n",
      "                 chuyentienquocte_hanmuc       1.00      1.00      1.00         2\n",
      "       chuyentienquocte_hoso_sinhhoatphi       0.50      0.50      0.50         2\n",
      "                  thetindung_cachnhanthe       0.67      1.00      0.80         2\n",
      "                 giolamviec_giaodichvien       1.00      1.00      1.00         2\n",
      "                         baohiem_sanpham       1.00      1.00      1.00         2\n",
      "                           vay_kinhdoanh       1.00      1.00      1.00         2\n",
      "        nghiepvuthe_vibvisatravel_sudung       1.00      1.00      1.00         2\n",
      "                              dautu_kenh       1.00      1.00      1.00         2\n",
      "                            vay_tieudung       1.00      1.00      1.00         2\n",
      "                  thetindung_kichhoatthe       1.00      1.00      1.00         2\n",
      "                thetindung_mapin_cachlay       1.00      1.00      1.00         2\n",
      "nghiepvuthe_vibmastercardsuperfree_uudai       1.00      1.00      1.00         2\n",
      "                             baohiem_VIB       1.00      1.00      1.00         2\n",
      "                                 vay_nha       1.00      1.00      1.00         2\n",
      "                             vay_bieuphi       1.00      1.00      1.00         2\n",
      "                         dautu_traiphieu       1.00      1.00      1.00         2\n",
      "     nghiepvuthe_vibvisadining_thanhtoan       1.00      0.50      0.67         2\n",
      "        nghiepvuthe_dangkythe_khongluong       1.00      1.00      1.00         2\n",
      "                       nghiepvuthe_uudai       1.00      1.00      1.00         2\n",
      "           nghiepvuthe_vibvisamastercard       1.00      1.00      1.00         2\n",
      "                    chuyentienquocte_mua       1.00      1.00      1.00         2\n",
      "                    taikhoan_kiemtrasodu       1.00      1.00      1.00         2\n",
      "              nghiepvuthe_vibplus_caidat       1.00      1.00      1.00         2\n",
      "                                 vay_oto       1.00      1.00      1.00         2\n",
      "                     giolamviec_chinhanh       1.00      0.50      0.67         4\n",
      "                        taikhoan_bieuphi       1.00      1.00      1.00         2\n",
      "                  taikhoan_thutuc_dangky       1.00      1.00      1.00         2\n",
      "         nghiepvuthe_vibvisadining_uudai       0.67      1.00      0.80         2\n",
      "         chuyentienquocte_hoso_khongvisa       1.00      1.00      1.00         2\n",
      "            chuyentienquocte_hoso_trocap       1.00      1.00      1.00         2\n",
      "          chuyentienquocte_hanmuc_dinhcu       1.00      1.00      1.00         2\n",
      "                    nghiepvuthe_hoantien       1.00      1.00      1.00         2\n",
      "       baohiem_prudautulinhhoat_quyenloi       1.00      1.00      1.00         3\n",
      "                       dautu_chungchiquy       1.00      1.00      1.00         3\n",
      "                    guitietkiem_thongtin       1.00      1.00      1.00         2\n",
      "                       baohiem_muaquaVIB       1.00      1.00      1.00         3\n",
      "         baohiem_prudautulinhhoat_dotuoi       1.00      1.00      1.00         3\n",
      "                            baohiem_hoso       1.00      1.00      1.00         2\n",
      "            chuyentienquocte_hoso_hocphi       1.00      1.00      1.00         2\n",
      "                     nghiepvuthe_vibplus       1.00      1.00      1.00         2\n",
      "                         taikhoan_dangky       1.00      1.00      1.00         2\n",
      "               chuyentienquocte_taikhoan       1.00      1.00      1.00         2\n",
      "                 taikhoan_bieuphi_dangky       1.00      1.00      1.00         2\n",
      "        chuyentienquocte_doituong_trocap       1.00      1.00      1.00         2\n",
      "          chuyentienquocte_hanmuc_trocap       1.00      1.00      1.00         2\n",
      "             nghiepvuthe_vibvisa_bieuphi       1.00      1.00      1.00         2\n",
      "                  thetindung_doanhnghiep       1.00      1.00      1.00         2\n",
      "                     guitietkiem_laisuat       1.00      1.00      1.00         2\n",
      "                       vayuudai_thongtin       1.00      1.00      1.00         2\n",
      "                   nghiepvuthe_dangkythe       0.67      1.00      0.80         2\n",
      "                     taikhoan_chuyentien       1.00      1.00      1.00         2\n",
      "       nghiepvuthe_vibvisadining_bieuphi       1.00      1.00      1.00         2\n",
      "                 chuyentienquocte_muanha       1.00      1.00      1.00         2\n",
      "                          taikhoan_uudai       1.00      1.00      1.00         2\n",
      "                          submenubieuphi       1.00      1.00      1.00         2\n",
      "                         outofscoreother       0.00      0.00      0.00         2\n",
      "              cardproductkiemtragiaonhan       0.85      1.00      0.92        11\n",
      "                         submenuthongtin       0.85      1.00      0.92        11\n",
      "                           taikhoan_khoa       1.00      1.00      1.00        42\n",
      "                      nghiepvuthe_matthe       1.00      0.93      0.96        41\n",
      "\n",
      "                                accuracy                           0.92       412\n",
      "                               macro avg       0.94      0.93      0.93       412\n",
      "                            weighted avg       0.94      0.92      0.92       412\n",
      "\n"
     ]
    }
   ],
   "source": [
    "# target_names = label_list\n",
    "# vvp 3 e 20 i sample train\n",
    "print(classification_report(y_true, preds, target_names = label_list))"
   ]
  },
  {
   "cell_type": "code",
   "execution_count": 69,
   "id": "a06934e3-2040-40ef-a547-88f2f332edf9",
   "metadata": {
    "tags": []
   },
   "outputs": [
    {
     "name": "stdout",
     "output_type": "stream",
     "text": [
      "              precision    recall  f1-score   support\n",
      "\n",
      "           0       0.75      0.71      0.73        17\n",
      "           1       0.91      0.83      0.87        12\n",
      "           2       0.92      1.00      0.96        12\n",
      "           3       1.00      0.75      0.86        12\n",
      "           4       1.00      0.91      0.95        11\n",
      "           5       1.00      0.82      0.90        11\n",
      "           6       1.00      0.82      0.90        11\n",
      "           7       0.93      1.00      0.97        14\n",
      "           8       1.00      0.80      0.89        20\n",
      "           9       0.77      1.00      0.87        10\n",
      "          10       0.86      1.00      0.92        12\n",
      "          11       1.00      0.92      0.96        12\n",
      "          12       0.83      0.83      0.83        12\n",
      "          13       1.00      1.00      1.00         9\n",
      "          14       1.00      0.50      0.67         2\n",
      "          15       1.00      1.00      1.00         2\n",
      "          16       1.00      1.00      1.00         2\n",
      "          17       1.00      1.00      1.00         2\n",
      "          18       0.50      0.50      0.50         2\n",
      "          19       1.00      1.00      1.00         2\n",
      "          20       1.00      1.00      1.00         2\n",
      "          21       1.00      1.00      1.00         2\n",
      "          22       0.50      0.50      0.50         2\n",
      "          23       0.67      1.00      0.80         2\n",
      "          24       1.00      1.00      1.00         2\n",
      "          25       1.00      0.50      0.67         2\n",
      "          26       1.00      1.00      1.00         2\n",
      "          27       1.00      1.00      1.00         2\n",
      "          28       1.00      1.00      1.00         2\n",
      "          29       1.00      1.00      1.00         2\n",
      "          30       1.00      1.00      1.00         2\n",
      "          31       1.00      1.00      1.00         2\n",
      "          32       1.00      1.00      1.00         2\n",
      "          33       0.67      1.00      0.80         2\n",
      "          34       1.00      1.00      1.00         2\n",
      "          35       1.00      1.00      1.00         2\n",
      "          36       1.00      1.00      1.00         2\n",
      "          37       1.00      1.00      1.00         2\n",
      "          38       1.00      1.00      1.00         2\n",
      "          39       1.00      1.00      1.00         2\n",
      "          40       1.00      1.00      1.00         2\n",
      "          41       1.00      1.00      1.00         2\n",
      "          42       1.00      1.00      1.00         2\n",
      "          43       1.00      1.00      1.00         2\n",
      "          44       1.00      1.00      1.00         2\n",
      "          45       1.00      0.75      0.86         4\n",
      "          46       1.00      1.00      1.00         2\n",
      "          47       1.00      1.00      1.00         2\n",
      "          48       1.00      0.50      0.67         2\n",
      "          49       1.00      1.00      1.00         2\n",
      "          50       1.00      0.50      0.67         2\n",
      "          51       1.00      1.00      1.00         2\n",
      "          52       1.00      1.00      1.00         2\n",
      "          53       1.00      1.00      1.00         3\n",
      "          54       1.00      1.00      1.00         3\n",
      "          55       1.00      1.00      1.00         2\n",
      "          56       1.00      1.00      1.00         3\n",
      "          57       1.00      1.00      1.00         3\n",
      "          58       1.00      1.00      1.00         2\n",
      "          59       1.00      1.00      1.00         2\n",
      "          60       1.00      1.00      1.00         2\n",
      "          61       1.00      1.00      1.00         2\n",
      "          62       1.00      1.00      1.00         2\n",
      "          63       1.00      1.00      1.00         2\n",
      "          64       0.67      1.00      0.80         2\n",
      "          65       1.00      1.00      1.00         2\n",
      "          66       1.00      1.00      1.00         2\n",
      "          67       1.00      1.00      1.00         2\n",
      "          68       1.00      1.00      1.00         2\n",
      "          69       1.00      1.00      1.00         2\n",
      "          70       0.67      1.00      0.80         2\n",
      "          71       1.00      1.00      1.00         2\n",
      "          72       0.67      1.00      0.80         2\n",
      "          73       1.00      1.00      1.00         2\n",
      "          74       1.00      1.00      1.00         2\n",
      "          75       1.00      1.00      1.00         2\n",
      "          76       0.00      0.00      0.00         2\n",
      "          77       0.85      1.00      0.92        11\n",
      "          78       0.79      1.00      0.88        11\n",
      "          79       0.98      1.00      0.99        42\n",
      "          80       1.00      0.93      0.96        41\n",
      "\n",
      "    accuracy                           0.92       412\n",
      "   macro avg       0.94      0.93      0.92       412\n",
      "weighted avg       0.94      0.92      0.92       412\n",
      "\n"
     ]
    }
   ],
   "source": [
    "# target_names = label_list\n",
    "# vvp 1 e 20 i sample train\n",
    "print(classification_report(y_true, preds))"
   ]
  },
  {
   "cell_type": "code",
   "execution_count": 61,
   "id": "a3be0681-30ea-4486-ad29-27cbd3daec1c",
   "metadata": {
    "tags": []
   },
   "outputs": [
    {
     "name": "stdout",
     "output_type": "stream",
     "text": [
      "                                          precision    recall  f1-score   support\n",
      "\n",
      "                                 vay_oto       1.00      1.00      1.00         2\n",
      "              cardproductkiemtragiaonhan       0.92      1.00      0.96        11\n",
      "               chuyentienquocte_taikhoan       1.00      1.00      1.00         2\n",
      "                         submenuthongtin       0.92      1.00      0.96        11\n",
      "                          branchlocation       1.00      0.92      0.96        12\n",
      "                                 goodbye       0.90      0.75      0.82        12\n",
      "               submenuthongtinemailphone       1.00      0.85      0.92        20\n",
      "                       vayuudai_thongtin       1.00      1.00      1.00         2\n",
      "                     guitietkiem_laisuat       1.00      1.00      1.00         2\n",
      "nghiepvuthe_vibmastercardsuperfree_uudai       1.00      1.00      1.00         2\n",
      "                         outofscoreother       0.07      0.50      0.12         2\n",
      "                         baohiem_sanpham       1.00      0.50      0.67         2\n",
      "                  thetindung_cachnhanthe       0.67      1.00      0.80         2\n",
      "                                  thanks       1.00      1.00      1.00        12\n",
      "       chuyentienquocte_hoso_sinhhoatphi       0.50      0.50      0.50         2\n",
      "                              dautu_kenh       1.00      1.00      1.00         2\n",
      "                    taikhoan_kiemtrasodu       1.00      1.00      1.00         2\n",
      "                     cardproductmainmenu       1.00      0.75      0.86        12\n",
      "                   nghiepvuthe_dangkythe       0.67      1.00      0.80         2\n",
      "                         submenucomplain       0.82      0.90      0.86        10\n",
      "                           taikhoan_khoa       0.98      1.00      0.99        42\n",
      "            chuyentienquocte_hoso_trocap       0.00      0.00      0.00         2\n",
      "                      submenulienhetuvan       1.00      0.75      0.86        12\n",
      "                 chuyentienquocte_hanmuc       1.00      1.00      1.00         2\n",
      "                          taikhoan_uudai       1.00      1.00      1.00         2\n",
      "         baohiem_prudautulinhhoat_dotuoi       1.00      1.00      1.00         3\n",
      "                       nghiepvuthe_uudai       1.00      1.00      1.00         2\n",
      "                               greetings       0.70      0.82      0.76        17\n",
      "                       submenuthongtinID       1.00      1.00      1.00        14\n",
      "         chuyentienquocte_hoso_khongvisa       0.67      1.00      0.80         2\n",
      "                     giolamviec_chinhanh       1.00      0.75      0.86         4\n",
      "        chuyentienquocte_doituong_trocap       0.50      1.00      0.67         2\n",
      "                        taikhoan_bieuphi       1.00      0.50      0.67         2\n",
      "                thetindung_mapin_cachlay       1.00      1.00      1.00         2\n",
      "       baohiem_prudautulinhhoat_quyenloi       1.00      1.00      1.00         3\n",
      "                  thetindung_doanhnghiep       1.00      1.00      1.00         2\n",
      "                                  affirm       1.00      0.75      0.86        12\n",
      "       nghiepvuthe_vibvisadining_bieuphi       0.67      1.00      0.80         2\n",
      "                  taikhoan_thutuc_dangky       1.00      1.00      1.00         2\n",
      "                         dautu_traiphieu       1.00      1.00      1.00         2\n",
      "                 outofscorenonvietnamese       1.00      0.50      0.67         2\n",
      "                                mainmenu       0.90      0.82      0.86        11\n",
      "        nghiepvuthe_dangkythe_khongluong       1.00      1.00      1.00         2\n",
      "                           vay_kinhdoanh       1.00      1.00      1.00         2\n",
      "                     taikhoan_chuyentien       1.00      1.00      1.00         2\n",
      "     chuyentienquocte_hanmuc_sinhhoatphi       0.50      0.50      0.50         2\n",
      "                  thetindung_kichhoatthe       1.00      1.00      1.00         2\n",
      "                      nghiepvuthe_matthe       1.00      0.95      0.97        41\n",
      "                 chuyentienquocte_muanha       1.00      1.00      1.00         2\n",
      "               chuyentienquocte_hoso_mua       1.00      1.00      1.00         2\n",
      "                               moodgreat       1.00      0.91      0.95        11\n",
      "                                 vay_nha       1.00      1.00      1.00         2\n",
      "                     thetindung_thongtin       1.00      1.00      1.00         2\n",
      "              taikhoan_bieuphi_hangthang       0.67      1.00      0.80         2\n",
      "         nghiepvuthe_vibvisadining_uudai       1.00      0.50      0.67         2\n",
      "                    nghiepvuthe_hoantien       1.00      1.00      1.00         2\n",
      "                  cardproductkiemtrahoso       0.82      1.00      0.90         9\n",
      "                          submenubieuphi       1.00      1.00      1.00         2\n",
      "                            baohiem_hoso       1.00      1.00      1.00         2\n",
      "          chuyentienquocte_hanmuc_trocap       1.00      1.00      1.00         2\n",
      "                       baohiem_muaquaVIB       0.75      1.00      0.86         3\n",
      "     nghiepvuthe_vibvisadining_thanhtoan       1.00      0.50      0.67         2\n",
      "                       dautu_chungchiquy       1.00      1.00      1.00         3\n",
      "                    chuyentienquocte_mua       1.00      1.00      1.00         2\n",
      "                 taikhoan_bieuphi_dangky       1.00      1.00      1.00         2\n",
      "          chuyentienquocte_hanmuc_dinhcu       1.00      1.00      1.00         2\n",
      "                 giolamviec_giaodichvien       1.00      1.00      1.00         2\n",
      "                             baohiem_VIB       1.00      1.00      1.00         2\n",
      "              nghiepvuthe_vibplus_caidat       0.67      1.00      0.80         2\n",
      "             chuyentienquocte_hoso_muaho       1.00      1.00      1.00         2\n",
      "                   chuyentienquocte_hoso       1.00      1.00      1.00         2\n",
      "                         taikhoan_dangky       1.00      1.00      1.00         2\n",
      "                     nghiepvuthe_vibplus       1.00      0.50      0.67         2\n",
      "             nghiepvuthe_vibvisa_bieuphi       1.00      1.00      1.00         2\n",
      "                    guitietkiem_thongtin       1.00      1.00      1.00         2\n",
      "                            vay_tieudung       1.00      1.00      1.00         2\n",
      "        nghiepvuthe_vibvisatravel_sudung       0.67      1.00      0.80         2\n",
      "            chuyentienquocte_hoso_hocphi       1.00      1.00      1.00         2\n",
      "                                    deny       1.00      0.82      0.90        11\n",
      "           nghiepvuthe_vibvisamastercard       1.00      0.50      0.67         2\n",
      "                             vay_bieuphi       1.00      1.00      1.00         2\n",
      "\n",
      "                                accuracy                           0.90       412\n",
      "                               macro avg       0.91      0.90      0.89       412\n",
      "                            weighted avg       0.94      0.90      0.91       412\n",
      "\n"
     ]
    },
    {
     "name": "stderr",
     "output_type": "stream",
     "text": [
      "/data2/nghiatl/anaconda3/envs/SEO/lib/python3.8/site-packages/sklearn/metrics/_classification.py:1344: UndefinedMetricWarning: Precision and F-score are ill-defined and being set to 0.0 in labels with no predicted samples. Use `zero_division` parameter to control this behavior.\n",
      "  _warn_prf(average, modifier, msg_start, len(result))\n",
      "/data2/nghiatl/anaconda3/envs/SEO/lib/python3.8/site-packages/sklearn/metrics/_classification.py:1344: UndefinedMetricWarning: Precision and F-score are ill-defined and being set to 0.0 in labels with no predicted samples. Use `zero_division` parameter to control this behavior.\n",
      "  _warn_prf(average, modifier, msg_start, len(result))\n",
      "/data2/nghiatl/anaconda3/envs/SEO/lib/python3.8/site-packages/sklearn/metrics/_classification.py:1344: UndefinedMetricWarning: Precision and F-score are ill-defined and being set to 0.0 in labels with no predicted samples. Use `zero_division` parameter to control this behavior.\n",
      "  _warn_prf(average, modifier, msg_start, len(result))\n"
     ]
    }
   ],
   "source": [
    "# target_names = label_list\n",
    "# vvp 3 e 20 i\n",
    "print(classification_report(y_true, preds, target_names = label_list))"
   ]
  },
  {
   "cell_type": "code",
   "execution_count": 63,
   "id": "3214b9b1-87a0-4816-aa1c-77561fdc1a93",
   "metadata": {
    "tags": []
   },
   "outputs": [
    {
     "name": "stdout",
     "output_type": "stream",
     "text": [
      "                                          precision    recall  f1-score   support\n",
      "\n",
      "                               greetings       0.82      0.82      0.82        17\n",
      "                                 goodbye       1.00      0.75      0.86        12\n",
      "                                  thanks       1.00      1.00      1.00        12\n",
      "                                  affirm       1.00      0.67      0.80        12\n",
      "                                    deny       1.00      0.91      0.95        11\n",
      "                               moodgreat       1.00      0.82      0.90        11\n",
      "                                mainmenu       0.89      0.73      0.80        11\n",
      "                         submenuthongtin       1.00      1.00      1.00        11\n",
      "                       submenuthongtinID       1.00      1.00      1.00        14\n",
      "               submenuthongtinemailphone       1.00      0.90      0.95        20\n",
      "                         submenucomplain       0.82      0.90      0.86        10\n",
      "                      submenulienhetuvan       1.00      0.83      0.91        12\n",
      "                          branchlocation       1.00      0.92      0.96        12\n",
      "                     cardproductmainmenu       0.90      0.75      0.82        12\n",
      "                  cardproductkiemtrahoso       0.75      1.00      0.86         9\n",
      "              cardproductkiemtragiaonhan       0.85      1.00      0.92        11\n",
      "                 outofscorenonvietnamese       1.00      0.50      0.67         2\n",
      "                         outofscoreother       0.00      0.00      0.00         2\n",
      "             chuyentienquocte_hoso_muaho       1.00      1.00      1.00         2\n",
      "               chuyentienquocte_hoso_mua       1.00      1.00      1.00         2\n",
      "              taikhoan_bieuphi_hangthang       1.00      1.00      1.00         2\n",
      "     chuyentienquocte_hanmuc_sinhhoatphi       1.00      1.00      1.00         2\n",
      "                     thetindung_thongtin       1.00      1.00      1.00         2\n",
      "                   chuyentienquocte_hoso       1.00      1.00      1.00         2\n",
      "                 chuyentienquocte_hanmuc       1.00      1.00      1.00         2\n",
      "       chuyentienquocte_hoso_sinhhoatphi       1.00      1.00      1.00         2\n",
      "                  thetindung_cachnhanthe       0.67      1.00      0.80         2\n",
      "                 giolamviec_giaodichvien       1.00      0.50      0.67         2\n",
      "                         baohiem_sanpham       1.00      1.00      1.00         2\n",
      "                           vay_kinhdoanh       1.00      1.00      1.00         2\n",
      "        nghiepvuthe_vibvisatravel_sudung       1.00      1.00      1.00         2\n",
      "                              dautu_kenh       1.00      1.00      1.00         2\n",
      "                            vay_tieudung       1.00      1.00      1.00         2\n",
      "                  thetindung_kichhoatthe       1.00      1.00      1.00         2\n",
      "                thetindung_mapin_cachlay       1.00      1.00      1.00         2\n",
      "nghiepvuthe_vibmastercardsuperfree_uudai       1.00      1.00      1.00         2\n",
      "                             baohiem_VIB       0.00      0.00      0.00         2\n",
      "                                 vay_nha       1.00      1.00      1.00         2\n",
      "                             vay_bieuphi       1.00      1.00      1.00         2\n",
      "                         dautu_traiphieu       1.00      1.00      1.00         2\n",
      "                           taikhoan_khoa       0.95      1.00      0.98        42\n",
      "     nghiepvuthe_vibvisadining_thanhtoan       1.00      1.00      1.00         2\n",
      "        nghiepvuthe_dangkythe_khongluong       1.00      1.00      1.00         2\n",
      "                       nghiepvuthe_uudai       1.00      1.00      1.00         2\n",
      "           nghiepvuthe_vibvisamastercard       1.00      0.50      0.67         2\n",
      "                    chuyentienquocte_mua       1.00      1.00      1.00         2\n",
      "                    taikhoan_kiemtrasodu       1.00      1.00      1.00         2\n",
      "              nghiepvuthe_vibplus_caidat       1.00      1.00      1.00         2\n",
      "                                 vay_oto       1.00      1.00      1.00         2\n",
      "                     giolamviec_chinhanh       0.67      0.50      0.57         4\n",
      "                        taikhoan_bieuphi       1.00      1.00      1.00         2\n",
      "                  taikhoan_thutuc_dangky       1.00      1.00      1.00         2\n",
      "         nghiepvuthe_vibvisadining_uudai       1.00      0.50      0.67         2\n",
      "         chuyentienquocte_hoso_khongvisa       1.00      1.00      1.00         2\n",
      "            chuyentienquocte_hoso_trocap       1.00      1.00      1.00         2\n",
      "          chuyentienquocte_hanmuc_dinhcu       1.00      1.00      1.00         2\n",
      "                    nghiepvuthe_hoantien       1.00      1.00      1.00         2\n",
      "       baohiem_prudautulinhhoat_quyenloi       1.00      1.00      1.00         3\n",
      "                       dautu_chungchiquy       1.00      1.00      1.00         3\n",
      "                    guitietkiem_thongtin       1.00      1.00      1.00         2\n",
      "                       baohiem_muaquaVIB       0.60      1.00      0.75         3\n",
      "         baohiem_prudautulinhhoat_dotuoi       1.00      1.00      1.00         3\n",
      "                            baohiem_hoso       1.00      1.00      1.00         2\n",
      "            chuyentienquocte_hoso_hocphi       1.00      1.00      1.00         2\n",
      "                      nghiepvuthe_matthe       1.00      0.95      0.97        41\n",
      "                     nghiepvuthe_vibplus       1.00      1.00      1.00         2\n",
      "                         taikhoan_dangky       1.00      1.00      1.00         2\n",
      "               chuyentienquocte_taikhoan       1.00      1.00      1.00         2\n",
      "                 taikhoan_bieuphi_dangky       1.00      1.00      1.00         2\n",
      "        chuyentienquocte_doituong_trocap       1.00      1.00      1.00         2\n",
      "          chuyentienquocte_hanmuc_trocap       1.00      1.00      1.00         2\n",
      "             nghiepvuthe_vibvisa_bieuphi       1.00      1.00      1.00         2\n",
      "                  thetindung_doanhnghiep       1.00      1.00      1.00         2\n",
      "                     guitietkiem_laisuat       1.00      1.00      1.00         2\n",
      "                       vayuudai_thongtin       1.00      1.00      1.00         2\n",
      "                   nghiepvuthe_dangkythe       0.67      1.00      0.80         2\n",
      "                     taikhoan_chuyentien       1.00      1.00      1.00         2\n",
      "       nghiepvuthe_vibvisadining_bieuphi       0.67      1.00      0.80         2\n",
      "                 chuyentienquocte_muanha       1.00      1.00      1.00         2\n",
      "                          taikhoan_uudai       1.00      1.00      1.00         2\n",
      "                          submenubieuphi       1.00      1.00      1.00         2\n",
      "\n",
      "                                accuracy                           0.91       412\n",
      "                               macro avg       0.94      0.92      0.92       412\n",
      "                            weighted avg       0.95      0.91      0.92       412\n",
      "\n"
     ]
    },
    {
     "name": "stderr",
     "output_type": "stream",
     "text": [
      "/data2/nghiatl/anaconda3/envs/SEO/lib/python3.8/site-packages/sklearn/metrics/_classification.py:1344: UndefinedMetricWarning: Precision and F-score are ill-defined and being set to 0.0 in labels with no predicted samples. Use `zero_division` parameter to control this behavior.\n",
      "  _warn_prf(average, modifier, msg_start, len(result))\n",
      "/data2/nghiatl/anaconda3/envs/SEO/lib/python3.8/site-packages/sklearn/metrics/_classification.py:1344: UndefinedMetricWarning: Precision and F-score are ill-defined and being set to 0.0 in labels with no predicted samples. Use `zero_division` parameter to control this behavior.\n",
      "  _warn_prf(average, modifier, msg_start, len(result))\n",
      "/data2/nghiatl/anaconda3/envs/SEO/lib/python3.8/site-packages/sklearn/metrics/_classification.py:1344: UndefinedMetricWarning: Precision and F-score are ill-defined and being set to 0.0 in labels with no predicted samples. Use `zero_division` parameter to control this behavior.\n",
      "  _warn_prf(average, modifier, msg_start, len(result))\n"
     ]
    }
   ],
   "source": [
    "# target_names = label_list\n",
    "# vvp 3 e 30 i\n",
    "print(classification_report(y_true, preds, target_names = label_list))"
   ]
  },
  {
   "cell_type": "code",
   "execution_count": 63,
   "id": "6529df2b-9538-47ce-ba42-c16031647770",
   "metadata": {
    "tags": []
   },
   "outputs": [
    {
     "name": "stdout",
     "output_type": "stream",
     "text": [
      "              precision    recall  f1-score   support\n",
      "\n",
      "           0       0.72      0.76      0.74        17\n",
      "           1       0.89      0.67      0.76        12\n",
      "           2       0.92      1.00      0.96        12\n",
      "           3       1.00      0.67      0.80        12\n",
      "           4       1.00      0.91      0.95        11\n",
      "           5       1.00      0.82      0.90        11\n",
      "           6       0.89      0.73      0.80        11\n",
      "           7       1.00      1.00      1.00        11\n",
      "           8       1.00      1.00      1.00        14\n",
      "           9       1.00      0.90      0.95        20\n",
      "          10       0.80      0.80      0.80        10\n",
      "          11       1.00      0.67      0.80        12\n",
      "          12       0.92      0.92      0.92        12\n",
      "          13       0.91      0.83      0.87        12\n",
      "          14       0.90      1.00      0.95         9\n",
      "          15       0.85      1.00      0.92        11\n",
      "          16       0.50      0.50      0.50         2\n",
      "          17       0.00      0.00      0.00         2\n",
      "          18       1.00      1.00      1.00         2\n",
      "          19       1.00      1.00      1.00         2\n",
      "          20       1.00      1.00      1.00         2\n",
      "          21       1.00      0.50      0.67         2\n",
      "          22       1.00      1.00      1.00         2\n",
      "          23       1.00      1.00      1.00         2\n",
      "          24       1.00      1.00      1.00         2\n",
      "          25       0.50      0.50      0.50         2\n",
      "          26       1.00      1.00      1.00         2\n",
      "          27       1.00      1.00      1.00         2\n",
      "          28       1.00      1.00      1.00         2\n",
      "          29       1.00      1.00      1.00         2\n",
      "          30       1.00      1.00      1.00         2\n",
      "          31       1.00      1.00      1.00         2\n",
      "          32       1.00      1.00      1.00         2\n",
      "          33       1.00      1.00      1.00         2\n",
      "          34       1.00      1.00      1.00         2\n",
      "          35       1.00      1.00      1.00         2\n",
      "          36       1.00      1.00      1.00         2\n",
      "          37       1.00      1.00      1.00         2\n",
      "          38       1.00      1.00      1.00         2\n",
      "          39       1.00      1.00      1.00         2\n",
      "          40       0.98      1.00      0.99        42\n",
      "          41       1.00      1.00      1.00         2\n",
      "          42       1.00      1.00      1.00         2\n",
      "          43       1.00      1.00      1.00         2\n",
      "          44       1.00      0.50      0.67         2\n",
      "          45       1.00      1.00      1.00         2\n",
      "          46       1.00      1.00      1.00         2\n",
      "          47       0.67      1.00      0.80         2\n",
      "          48       1.00      1.00      1.00         2\n",
      "          49       1.00      0.25      0.40         4\n",
      "          50       1.00      1.00      1.00         2\n",
      "          51       1.00      1.00      1.00         2\n",
      "          52       1.00      1.00      1.00         2\n",
      "          53       1.00      1.00      1.00         2\n",
      "          54       1.00      1.00      1.00         2\n",
      "          55       1.00      1.00      1.00         2\n",
      "          56       1.00      1.00      1.00         2\n",
      "          57       1.00      1.00      1.00         3\n",
      "          58       1.00      1.00      1.00         3\n",
      "          59       1.00      1.00      1.00         2\n",
      "          60       1.00      1.00      1.00         3\n",
      "          61       1.00      1.00      1.00         3\n",
      "          62       1.00      1.00      1.00         2\n",
      "          63       0.67      1.00      0.80         2\n",
      "          64       1.00      0.95      0.97        41\n",
      "          65       1.00      0.50      0.67         2\n",
      "          66       1.00      1.00      1.00         2\n",
      "          67       1.00      1.00      1.00         2\n",
      "          68       1.00      1.00      1.00         2\n",
      "          69       1.00      1.00      1.00         2\n",
      "          70       1.00      1.00      1.00         2\n",
      "          71       1.00      1.00      1.00         2\n",
      "          72       1.00      1.00      1.00         2\n",
      "          73       1.00      1.00      1.00         2\n",
      "          74       1.00      1.00      1.00         2\n",
      "          75       0.40      1.00      0.57         2\n",
      "          76       1.00      1.00      1.00         2\n",
      "          77       1.00      1.00      1.00         2\n",
      "          78       1.00      1.00      1.00         2\n",
      "          79       1.00      1.00      1.00         2\n",
      "          80       1.00      1.00      1.00         2\n",
      "\n",
      "    accuracy                           0.90       412\n",
      "   macro avg       0.94      0.92      0.92       412\n",
      "weighted avg       0.95      0.90      0.92       412\n",
      "\n"
     ]
    }
   ],
   "source": [
    "# target_names = label_list\n",
    "# vvp 3 e 30 i\n",
    "print(classification_report(y_true, preds))"
   ]
  },
  {
   "cell_type": "code",
   "execution_count": 62,
   "id": "748016a0-3093-445d-ab5b-c0ec5a4e1cf7",
   "metadata": {
    "tags": []
   },
   "outputs": [
    {
     "name": "stdout",
     "output_type": "stream",
     "text": [
      "                                          precision    recall  f1-score   support\n",
      "\n",
      "                               greetings       1.00      0.82      0.90        17\n",
      "                                 goodbye       1.00      0.42      0.59        12\n",
      "                                  thanks       1.00      1.00      1.00        12\n",
      "                                  affirm       0.80      1.00      0.89        12\n",
      "                                    deny       1.00      0.82      0.90        11\n",
      "                               moodgreat       1.00      0.73      0.84        11\n",
      "                                mainmenu       1.00      0.36      0.53        11\n",
      "                         submenuthongtin       1.00      1.00      1.00        11\n",
      "                       submenuthongtinID       0.93      1.00      0.97        14\n",
      "               submenuthongtinemailphone       1.00      0.75      0.86        20\n",
      "                         submenucomplain       0.71      1.00      0.83        10\n",
      "                      submenulienhetuvan       0.92      0.92      0.92        12\n",
      "                          branchlocation       1.00      0.92      0.96        12\n",
      "                     cardproductmainmenu       1.00      0.67      0.80        12\n",
      "                  cardproductkiemtrahoso       0.53      0.89      0.67         9\n",
      "              cardproductkiemtragiaonhan       0.92      1.00      0.96        11\n",
      "                 outofscorenonvietnamese       0.00      0.00      0.00         2\n",
      "                         outofscoreother       0.00      0.00      0.00         2\n",
      "             chuyentienquocte_hoso_muaho       1.00      1.00      1.00         2\n",
      "               chuyentienquocte_hoso_mua       1.00      1.00      1.00         2\n",
      "              taikhoan_bieuphi_hangthang       1.00      1.00      1.00         2\n",
      "     chuyentienquocte_hanmuc_sinhhoatphi       1.00      0.50      0.67         2\n",
      "                     thetindung_thongtin       1.00      0.50      0.67         2\n",
      "                   chuyentienquocte_hoso       1.00      1.00      1.00         2\n",
      "                 chuyentienquocte_hanmuc       1.00      1.00      1.00         2\n",
      "       chuyentienquocte_hoso_sinhhoatphi       0.67      1.00      0.80         2\n",
      "                  thetindung_cachnhanthe       0.40      1.00      0.57         2\n",
      "                 giolamviec_giaodichvien       1.00      0.50      0.67         2\n",
      "                         baohiem_sanpham       0.00      0.00      0.00         2\n",
      "                           vay_kinhdoanh       1.00      1.00      1.00         2\n",
      "        nghiepvuthe_vibvisatravel_sudung       1.00      1.00      1.00         2\n",
      "                              dautu_kenh       1.00      1.00      1.00         2\n",
      "                            vay_tieudung       0.67      1.00      0.80         2\n",
      "                  thetindung_kichhoatthe       1.00      1.00      1.00         2\n",
      "                thetindung_mapin_cachlay       1.00      1.00      1.00         2\n",
      "nghiepvuthe_vibmastercardsuperfree_uudai       1.00      1.00      1.00         2\n",
      "                             baohiem_VIB       1.00      0.50      0.67         2\n",
      "                                 vay_nha       1.00      1.00      1.00         2\n",
      "                             vay_bieuphi       1.00      0.50      0.67         2\n",
      "                         dautu_traiphieu       1.00      1.00      1.00         2\n",
      "                           taikhoan_khoa       0.98      1.00      0.99        42\n",
      "     nghiepvuthe_vibvisadining_thanhtoan       1.00      1.00      1.00         2\n",
      "        nghiepvuthe_dangkythe_khongluong       1.00      1.00      1.00         2\n",
      "                       nghiepvuthe_uudai       1.00      1.00      1.00         2\n",
      "           nghiepvuthe_vibvisamastercard       1.00      1.00      1.00         2\n",
      "                    chuyentienquocte_mua       1.00      1.00      1.00         2\n",
      "                    taikhoan_kiemtrasodu       1.00      1.00      1.00         2\n",
      "              nghiepvuthe_vibplus_caidat       1.00      0.50      0.67         2\n",
      "                                 vay_oto       1.00      1.00      1.00         2\n",
      "                     giolamviec_chinhanh       0.75      0.75      0.75         4\n",
      "                        taikhoan_bieuphi       1.00      1.00      1.00         2\n",
      "                  taikhoan_thutuc_dangky       1.00      1.00      1.00         2\n",
      "         nghiepvuthe_vibvisadining_uudai       1.00      0.50      0.67         2\n",
      "         chuyentienquocte_hoso_khongvisa       1.00      1.00      1.00         2\n",
      "            chuyentienquocte_hoso_trocap       1.00      0.50      0.67         2\n",
      "          chuyentienquocte_hanmuc_dinhcu       1.00      1.00      1.00         2\n",
      "                    nghiepvuthe_hoantien       1.00      1.00      1.00         2\n",
      "       baohiem_prudautulinhhoat_quyenloi       1.00      1.00      1.00         3\n",
      "                       dautu_chungchiquy       1.00      1.00      1.00         3\n",
      "                    guitietkiem_thongtin       1.00      1.00      1.00         2\n",
      "                       baohiem_muaquaVIB       0.60      1.00      0.75         3\n",
      "         baohiem_prudautulinhhoat_dotuoi       1.00      1.00      1.00         3\n",
      "                            baohiem_hoso       0.67      1.00      0.80         2\n",
      "            chuyentienquocte_hoso_hocphi       1.00      1.00      1.00         2\n",
      "                      nghiepvuthe_matthe       1.00      0.95      0.97        41\n",
      "                     nghiepvuthe_vibplus       1.00      1.00      1.00         2\n",
      "                         taikhoan_dangky       1.00      1.00      1.00         2\n",
      "               chuyentienquocte_taikhoan       1.00      1.00      1.00         2\n",
      "                 taikhoan_bieuphi_dangky       1.00      1.00      1.00         2\n",
      "        chuyentienquocte_doituong_trocap       0.67      1.00      0.80         2\n",
      "          chuyentienquocte_hanmuc_trocap       1.00      1.00      1.00         2\n",
      "             nghiepvuthe_vibvisa_bieuphi       1.00      1.00      1.00         2\n",
      "                  thetindung_doanhnghiep       1.00      1.00      1.00         2\n",
      "                     guitietkiem_laisuat       1.00      1.00      1.00         2\n",
      "                       vayuudai_thongtin       1.00      1.00      1.00         2\n",
      "                   nghiepvuthe_dangkythe       0.67      1.00      0.80         2\n",
      "                     taikhoan_chuyentien       1.00      1.00      1.00         2\n",
      "       nghiepvuthe_vibvisadining_bieuphi       0.67      1.00      0.80         2\n",
      "                 chuyentienquocte_muanha       1.00      1.00      1.00         2\n",
      "                          taikhoan_uudai       1.00      1.00      1.00         2\n",
      "                          submenubieuphi       1.00      1.00      1.00         2\n",
      "\n",
      "                                accuracy                           0.88       412\n",
      "                               macro avg       0.91      0.88      0.87       412\n",
      "                            weighted avg       0.94      0.88      0.89       412\n",
      "\n"
     ]
    },
    {
     "name": "stderr",
     "output_type": "stream",
     "text": [
      "/data2/nghiatl/anaconda3/envs/SEO/lib/python3.8/site-packages/sklearn/metrics/_classification.py:1344: UndefinedMetricWarning: Precision and F-score are ill-defined and being set to 0.0 in labels with no predicted samples. Use `zero_division` parameter to control this behavior.\n",
      "  _warn_prf(average, modifier, msg_start, len(result))\n",
      "/data2/nghiatl/anaconda3/envs/SEO/lib/python3.8/site-packages/sklearn/metrics/_classification.py:1344: UndefinedMetricWarning: Precision and F-score are ill-defined and being set to 0.0 in labels with no predicted samples. Use `zero_division` parameter to control this behavior.\n",
      "  _warn_prf(average, modifier, msg_start, len(result))\n",
      "/data2/nghiatl/anaconda3/envs/SEO/lib/python3.8/site-packages/sklearn/metrics/_classification.py:1344: UndefinedMetricWarning: Precision and F-score are ill-defined and being set to 0.0 in labels with no predicted samples. Use `zero_division` parameter to control this behavior.\n",
      "  _warn_prf(average, modifier, msg_start, len(result))\n"
     ]
    }
   ],
   "source": [
    "# target_names = label_list\n",
    "# multi 1 e 20 i\n",
    "print(classification_report(y_true, preds, target_names = label_list))"
   ]
  },
  {
   "cell_type": "code",
   "execution_count": 76,
   "id": "654bc0ce-29ed-4394-bed4-cc0ab5cc655e",
   "metadata": {
    "tags": []
   },
   "outputs": [
    {
     "name": "stdout",
     "output_type": "stream",
     "text": [
      "                                          precision    recall  f1-score   support\n",
      "\n",
      "                               greetings       0.74      0.82      0.78        17\n",
      "                                 goodbye       0.90      0.75      0.82        12\n",
      "                                  thanks       1.00      1.00      1.00        12\n",
      "                                  affirm       0.83      0.42      0.56        12\n",
      "                                    deny       1.00      0.82      0.90        11\n",
      "                               moodgreat       0.67      0.73      0.70        11\n",
      "                                mainmenu       0.90      0.82      0.86        11\n",
      "                         submenuthongtin       1.00      1.00      1.00        11\n",
      "                       submenuthongtinID       1.00      1.00      1.00        14\n",
      "               submenuthongtinemailphone       0.95      0.90      0.92        20\n",
      "                         submenucomplain       0.82      0.90      0.86        10\n",
      "                      submenulienhetuvan       1.00      0.83      0.91        12\n",
      "                          branchlocation       0.92      0.92      0.92        12\n",
      "                     cardproductmainmenu       1.00      0.83      0.91        12\n",
      "                  cardproductkiemtrahoso       0.82      1.00      0.90         9\n",
      "              cardproductkiemtragiaonhan       0.92      1.00      0.96        11\n",
      "                 outofscorenonvietnamese       0.50      0.50      0.50         2\n",
      "                         outofscoreother       0.00      0.00      0.00         2\n",
      "             chuyentienquocte_hoso_muaho       1.00      1.00      1.00         2\n",
      "               chuyentienquocte_hoso_mua       1.00      1.00      1.00         2\n",
      "              taikhoan_bieuphi_hangthang       1.00      1.00      1.00         2\n",
      "     chuyentienquocte_hanmuc_sinhhoatphi       1.00      1.00      1.00         2\n",
      "                     thetindung_thongtin       1.00      1.00      1.00         2\n",
      "                   chuyentienquocte_hoso       1.00      1.00      1.00         2\n",
      "                 chuyentienquocte_hanmuc       1.00      1.00      1.00         2\n",
      "       chuyentienquocte_hoso_sinhhoatphi       1.00      0.50      0.67         2\n",
      "                  thetindung_cachnhanthe       0.67      1.00      0.80         2\n",
      "                 giolamviec_giaodichvien       1.00      1.00      1.00         2\n",
      "                         baohiem_sanpham       1.00      1.00      1.00         2\n",
      "                           vay_kinhdoanh       1.00      1.00      1.00         2\n",
      "        nghiepvuthe_vibvisatravel_sudung       1.00      1.00      1.00         2\n",
      "                              dautu_kenh       1.00      1.00      1.00         2\n",
      "                            vay_tieudung       1.00      1.00      1.00         2\n",
      "                  thetindung_kichhoatthe       1.00      1.00      1.00         2\n",
      "                thetindung_mapin_cachlay       1.00      1.00      1.00         2\n",
      "nghiepvuthe_vibmastercardsuperfree_uudai       1.00      1.00      1.00         2\n",
      "                             baohiem_VIB       1.00      1.00      1.00         2\n",
      "                                 vay_nha       1.00      1.00      1.00         2\n",
      "                             vay_bieuphi       1.00      1.00      1.00         2\n",
      "                         dautu_traiphieu       1.00      1.00      1.00         2\n",
      "                           taikhoan_khoa       0.98      1.00      0.99        42\n",
      "     nghiepvuthe_vibvisadining_thanhtoan       1.00      1.00      1.00         2\n",
      "        nghiepvuthe_dangkythe_khongluong       1.00      1.00      1.00         2\n",
      "                       nghiepvuthe_uudai       1.00      1.00      1.00         2\n",
      "           nghiepvuthe_vibvisamastercard       1.00      1.00      1.00         2\n",
      "                    chuyentienquocte_mua       1.00      1.00      1.00         2\n",
      "                    taikhoan_kiemtrasodu       1.00      1.00      1.00         2\n",
      "              nghiepvuthe_vibplus_caidat       0.67      1.00      0.80         2\n",
      "                                 vay_oto       1.00      1.00      1.00         2\n",
      "                     giolamviec_chinhanh       1.00      0.25      0.40         4\n",
      "                        taikhoan_bieuphi       1.00      1.00      1.00         2\n",
      "                  taikhoan_thutuc_dangky       1.00      1.00      1.00         2\n",
      "         nghiepvuthe_vibvisadining_uudai       1.00      1.00      1.00         2\n",
      "         chuyentienquocte_hoso_khongvisa       1.00      1.00      1.00         2\n",
      "            chuyentienquocte_hoso_trocap       1.00      0.50      0.67         2\n",
      "          chuyentienquocte_hanmuc_dinhcu       1.00      1.00      1.00         2\n",
      "                    nghiepvuthe_hoantien       1.00      1.00      1.00         2\n",
      "       baohiem_prudautulinhhoat_quyenloi       1.00      1.00      1.00         3\n",
      "                       dautu_chungchiquy       1.00      1.00      1.00         3\n",
      "                    guitietkiem_thongtin       1.00      1.00      1.00         2\n",
      "                       baohiem_muaquaVIB       1.00      1.00      1.00         3\n",
      "         baohiem_prudautulinhhoat_dotuoi       1.00      1.00      1.00         3\n",
      "                            baohiem_hoso       1.00      1.00      1.00         2\n",
      "            chuyentienquocte_hoso_hocphi       0.67      1.00      0.80         2\n",
      "                      nghiepvuthe_matthe       1.00      0.95      0.97        41\n",
      "                     nghiepvuthe_vibplus       1.00      0.50      0.67         2\n",
      "                         taikhoan_dangky       1.00      1.00      1.00         2\n",
      "               chuyentienquocte_taikhoan       1.00      1.00      1.00         2\n",
      "                 taikhoan_bieuphi_dangky       1.00      1.00      1.00         2\n",
      "        chuyentienquocte_doituong_trocap       0.67      1.00      0.80         2\n",
      "          chuyentienquocte_hanmuc_trocap       1.00      1.00      1.00         2\n",
      "             nghiepvuthe_vibvisa_bieuphi       1.00      1.00      1.00         2\n",
      "                  thetindung_doanhnghiep       1.00      1.00      1.00         2\n",
      "                     guitietkiem_laisuat       1.00      1.00      1.00         2\n",
      "                       vayuudai_thongtin       1.00      1.00      1.00         2\n",
      "                   nghiepvuthe_dangkythe       0.67      1.00      0.80         2\n",
      "                     taikhoan_chuyentien       1.00      1.00      1.00         2\n",
      "       nghiepvuthe_vibvisadining_bieuphi       1.00      1.00      1.00         2\n",
      "                 chuyentienquocte_muanha       1.00      1.00      1.00         2\n",
      "                          taikhoan_uudai       1.00      1.00      1.00         2\n",
      "                          submenubieuphi       1.00      1.00      1.00         2\n",
      "\n",
      "                                accuracy                           0.91       412\n",
      "                               macro avg       0.94      0.93      0.92       412\n",
      "                            weighted avg       0.94      0.91      0.91       412\n",
      "\n"
     ]
    }
   ],
   "source": [
    "# target_names = label_list\n",
    "# vvp 3 e 20 i\n",
    "print(classification_report(y_true, preds, target_names = label_list))"
   ]
  },
  {
   "cell_type": "code",
   "execution_count": 61,
   "id": "ce4c2ea0-0cd8-486e-a675-5c15ea9a6e9a",
   "metadata": {
    "tags": []
   },
   "outputs": [
    {
     "name": "stdout",
     "output_type": "stream",
     "text": [
      "                                          precision    recall  f1-score   support\n",
      "\n",
      "                               greetings       0.78      0.82      0.80        17\n",
      "                                 goodbye       1.00      0.58      0.74        12\n",
      "                                  thanks       1.00      1.00      1.00        12\n",
      "                                  affirm       1.00      0.75      0.86        12\n",
      "                                    deny       1.00      1.00      1.00        11\n",
      "                               moodgreat       1.00      0.91      0.95        11\n",
      "                                mainmenu       0.82      0.82      0.82        11\n",
      "                         submenuthongtin       0.85      1.00      0.92        11\n",
      "                       submenuthongtinID       1.00      1.00      1.00        14\n",
      "               submenuthongtinemailphone       1.00      0.80      0.89        20\n",
      "                         submenucomplain       0.90      0.90      0.90        10\n",
      "                      submenulienhetuvan       0.91      0.83      0.87        12\n",
      "                          branchlocation       1.00      0.92      0.96        12\n",
      "                     cardproductmainmenu       1.00      0.67      0.80        12\n",
      "                  cardproductkiemtrahoso       0.90      1.00      0.95         9\n",
      "              cardproductkiemtragiaonhan       0.92      1.00      0.96        11\n",
      "                 outofscorenonvietnamese       0.33      0.50      0.40         2\n",
      "                         outofscoreother       0.00      0.00      0.00         2\n",
      "             chuyentienquocte_hoso_muaho       1.00      1.00      1.00         2\n",
      "               chuyentienquocte_hoso_mua       1.00      1.00      1.00         2\n",
      "              taikhoan_bieuphi_hangthang       1.00      1.00      1.00         2\n",
      "     chuyentienquocte_hanmuc_sinhhoatphi       0.50      0.50      0.50         2\n",
      "                     thetindung_thongtin       1.00      1.00      1.00         2\n",
      "                   chuyentienquocte_hoso       1.00      1.00      1.00         2\n",
      "                 chuyentienquocte_hanmuc       1.00      1.00      1.00         2\n",
      "       chuyentienquocte_hoso_sinhhoatphi       0.50      0.50      0.50         2\n",
      "                  thetindung_cachnhanthe       0.67      1.00      0.80         2\n",
      "                 giolamviec_giaodichvien       1.00      1.00      1.00         2\n",
      "                         baohiem_sanpham       1.00      1.00      1.00         2\n",
      "                           vay_kinhdoanh       1.00      1.00      1.00         2\n",
      "        nghiepvuthe_vibvisatravel_sudung       1.00      1.00      1.00         2\n",
      "                              dautu_kenh       1.00      1.00      1.00         2\n",
      "                            vay_tieudung       1.00      1.00      1.00         2\n",
      "                  thetindung_kichhoatthe       1.00      1.00      1.00         2\n",
      "                thetindung_mapin_cachlay       1.00      1.00      1.00         2\n",
      "nghiepvuthe_vibmastercardsuperfree_uudai       1.00      1.00      1.00         2\n",
      "                             baohiem_VIB       0.67      1.00      0.80         2\n",
      "                                 vay_nha       1.00      1.00      1.00         2\n",
      "                             vay_bieuphi       1.00      0.50      0.67         2\n",
      "                         dautu_traiphieu       1.00      1.00      1.00         2\n",
      "                           taikhoan_khoa       0.98      1.00      0.99        42\n",
      "     nghiepvuthe_vibvisadining_thanhtoan       0.67      1.00      0.80         2\n",
      "        nghiepvuthe_dangkythe_khongluong       1.00      1.00      1.00         2\n",
      "                       nghiepvuthe_uudai       1.00      1.00      1.00         2\n",
      "           nghiepvuthe_vibvisamastercard       1.00      0.50      0.67         2\n",
      "                    chuyentienquocte_mua       1.00      1.00      1.00         2\n",
      "                    taikhoan_kiemtrasodu       1.00      1.00      1.00         2\n",
      "              nghiepvuthe_vibplus_caidat       1.00      1.00      1.00         2\n",
      "                                 vay_oto       0.67      1.00      0.80         2\n",
      "                     giolamviec_chinhanh       1.00      0.50      0.67         4\n",
      "                        taikhoan_bieuphi       1.00      1.00      1.00         2\n",
      "                  taikhoan_thutuc_dangky       1.00      1.00      1.00         2\n",
      "         nghiepvuthe_vibvisadining_uudai       1.00      0.50      0.67         2\n",
      "         chuyentienquocte_hoso_khongvisa       1.00      1.00      1.00         2\n",
      "            chuyentienquocte_hoso_trocap       1.00      1.00      1.00         2\n",
      "          chuyentienquocte_hanmuc_dinhcu       1.00      1.00      1.00         2\n",
      "                    nghiepvuthe_hoantien       1.00      1.00      1.00         2\n",
      "       baohiem_prudautulinhhoat_quyenloi       1.00      1.00      1.00         3\n",
      "                       dautu_chungchiquy       1.00      1.00      1.00         3\n",
      "                    guitietkiem_thongtin       1.00      1.00      1.00         2\n",
      "                       baohiem_muaquaVIB       1.00      0.67      0.80         3\n",
      "         baohiem_prudautulinhhoat_dotuoi       1.00      1.00      1.00         3\n",
      "                            baohiem_hoso       1.00      1.00      1.00         2\n",
      "            chuyentienquocte_hoso_hocphi       1.00      1.00      1.00         2\n",
      "                      nghiepvuthe_matthe       0.97      0.95      0.96        41\n",
      "                     nghiepvuthe_vibplus       1.00      1.00      1.00         2\n",
      "                         taikhoan_dangky       1.00      1.00      1.00         2\n",
      "               chuyentienquocte_taikhoan       1.00      1.00      1.00         2\n",
      "                 taikhoan_bieuphi_dangky       1.00      1.00      1.00         2\n",
      "        chuyentienquocte_doituong_trocap       1.00      1.00      1.00         2\n",
      "          chuyentienquocte_hanmuc_trocap       1.00      1.00      1.00         2\n",
      "             nghiepvuthe_vibvisa_bieuphi       1.00      1.00      1.00         2\n",
      "                  thetindung_doanhnghiep       1.00      1.00      1.00         2\n",
      "                     guitietkiem_laisuat       1.00      1.00      1.00         2\n",
      "                       vayuudai_thongtin       1.00      1.00      1.00         2\n",
      "                   nghiepvuthe_dangkythe       0.50      1.00      0.67         2\n",
      "                     taikhoan_chuyentien       1.00      1.00      1.00         2\n",
      "       nghiepvuthe_vibvisadining_bieuphi       0.67      1.00      0.80         2\n",
      "                 chuyentienquocte_muanha       1.00      1.00      1.00         2\n",
      "                          taikhoan_uudai       1.00      1.00      1.00         2\n",
      "                          submenubieuphi       0.67      1.00      0.80         2\n",
      "\n",
      "                                accuracy                           0.91       412\n",
      "                               macro avg       0.92      0.92      0.91       412\n",
      "                            weighted avg       0.94      0.91      0.92       412\n",
      "\n"
     ]
    }
   ],
   "source": [
    "# target_names = label_list\n",
    "# vvp 1 e 20 i\n",
    "print(classification_report(y_true, preds, target_names = label_list))"
   ]
  },
  {
   "cell_type": "code",
   "execution_count": 60,
   "id": "72a0b195-0797-4874-949d-e5dcf6f03042",
   "metadata": {
    "tags": []
   },
   "outputs": [
    {
     "name": "stdout",
     "output_type": "stream",
     "text": [
      "                                          precision    recall  f1-score   support\n",
      "\n",
      "                               greetings       0.76      0.76      0.76        17\n",
      "                                 goodbye       0.90      0.75      0.82        12\n",
      "                                  thanks       1.00      1.00      1.00        12\n",
      "                                  affirm       1.00      0.75      0.86        12\n",
      "                                    deny       1.00      0.91      0.95        11\n",
      "                               moodgreat       1.00      0.82      0.90        11\n",
      "                                mainmenu       0.90      0.82      0.86        11\n",
      "                         submenuthongtin       0.85      1.00      0.92        11\n",
      "                       submenuthongtinID       1.00      1.00      1.00        14\n",
      "               submenuthongtinemailphone       1.00      0.80      0.89        20\n",
      "                         submenucomplain       0.83      1.00      0.91        10\n",
      "                      submenulienhetuvan       1.00      0.92      0.96        12\n",
      "                          branchlocation       0.92      0.92      0.92        12\n",
      "                     cardproductmainmenu       1.00      0.75      0.86        12\n",
      "                  cardproductkiemtrahoso       0.90      1.00      0.95         9\n",
      "              cardproductkiemtragiaonhan       0.92      1.00      0.96        11\n",
      "                 outofscorenonvietnamese       0.33      0.50      0.40         2\n",
      "                         outofscoreother       0.00      0.00      0.00         2\n",
      "             chuyentienquocte_hoso_muaho       1.00      1.00      1.00         2\n",
      "               chuyentienquocte_hoso_mua       1.00      1.00      1.00         2\n",
      "              taikhoan_bieuphi_hangthang       1.00      1.00      1.00         2\n",
      "     chuyentienquocte_hanmuc_sinhhoatphi       0.50      0.50      0.50         2\n",
      "                     thetindung_thongtin       1.00      1.00      1.00         2\n",
      "                   chuyentienquocte_hoso       1.00      1.00      1.00         2\n",
      "                 chuyentienquocte_hanmuc       1.00      1.00      1.00         2\n",
      "       chuyentienquocte_hoso_sinhhoatphi       0.50      0.50      0.50         2\n",
      "                  thetindung_cachnhanthe       0.67      1.00      0.80         2\n",
      "                 giolamviec_giaodichvien       1.00      1.00      1.00         2\n",
      "                         baohiem_sanpham       1.00      1.00      1.00         2\n",
      "                           vay_kinhdoanh       1.00      1.00      1.00         2\n",
      "        nghiepvuthe_vibvisatravel_sudung       1.00      1.00      1.00         2\n",
      "                              dautu_kenh       1.00      1.00      1.00         2\n",
      "                            vay_tieudung       1.00      0.50      0.67         2\n",
      "                  thetindung_kichhoatthe       1.00      1.00      1.00         2\n",
      "                thetindung_mapin_cachlay       1.00      1.00      1.00         2\n",
      "nghiepvuthe_vibmastercardsuperfree_uudai       1.00      1.00      1.00         2\n",
      "                             baohiem_VIB       1.00      1.00      1.00         2\n",
      "                                 vay_nha       1.00      1.00      1.00         2\n",
      "                             vay_bieuphi       1.00      1.00      1.00         2\n",
      "                         dautu_traiphieu       1.00      1.00      1.00         2\n",
      "                           taikhoan_khoa       0.98      1.00      0.99        42\n",
      "     nghiepvuthe_vibvisadining_thanhtoan       1.00      1.00      1.00         2\n",
      "        nghiepvuthe_dangkythe_khongluong       1.00      1.00      1.00         2\n",
      "                       nghiepvuthe_uudai       1.00      1.00      1.00         2\n",
      "           nghiepvuthe_vibvisamastercard       1.00      0.50      0.67         2\n",
      "                    chuyentienquocte_mua       1.00      1.00      1.00         2\n",
      "                    taikhoan_kiemtrasodu       1.00      1.00      1.00         2\n",
      "              nghiepvuthe_vibplus_caidat       0.67      1.00      0.80         2\n",
      "                                 vay_oto       0.67      1.00      0.80         2\n",
      "                     giolamviec_chinhanh       1.00      0.25      0.40         4\n",
      "                        taikhoan_bieuphi       1.00      1.00      1.00         2\n",
      "                  taikhoan_thutuc_dangky       1.00      1.00      1.00         2\n",
      "         nghiepvuthe_vibvisadining_uudai       1.00      0.50      0.67         2\n",
      "         chuyentienquocte_hoso_khongvisa       1.00      1.00      1.00         2\n",
      "            chuyentienquocte_hoso_trocap       1.00      1.00      1.00         2\n",
      "          chuyentienquocte_hanmuc_dinhcu       1.00      1.00      1.00         2\n",
      "                    nghiepvuthe_hoantien       1.00      1.00      1.00         2\n",
      "       baohiem_prudautulinhhoat_quyenloi       1.00      1.00      1.00         3\n",
      "                       dautu_chungchiquy       1.00      1.00      1.00         3\n",
      "                    guitietkiem_thongtin       1.00      1.00      1.00         2\n",
      "                       baohiem_muaquaVIB       1.00      1.00      1.00         3\n",
      "         baohiem_prudautulinhhoat_dotuoi       1.00      1.00      1.00         3\n",
      "                            baohiem_hoso       1.00      1.00      1.00         2\n",
      "            chuyentienquocte_hoso_hocphi       1.00      1.00      1.00         2\n",
      "                      nghiepvuthe_matthe       0.97      0.95      0.96        41\n",
      "                     nghiepvuthe_vibplus       1.00      0.50      0.67         2\n",
      "                         taikhoan_dangky       1.00      1.00      1.00         2\n",
      "               chuyentienquocte_taikhoan       1.00      1.00      1.00         2\n",
      "                 taikhoan_bieuphi_dangky       1.00      1.00      1.00         2\n",
      "        chuyentienquocte_doituong_trocap       1.00      1.00      1.00         2\n",
      "          chuyentienquocte_hanmuc_trocap       1.00      1.00      1.00         2\n",
      "             nghiepvuthe_vibvisa_bieuphi       1.00      1.00      1.00         2\n",
      "                  thetindung_doanhnghiep       1.00      1.00      1.00         2\n",
      "                     guitietkiem_laisuat       1.00      1.00      1.00         2\n",
      "                       vayuudai_thongtin       1.00      1.00      1.00         2\n",
      "                   nghiepvuthe_dangkythe       0.40      1.00      0.57         2\n",
      "                     taikhoan_chuyentien       1.00      1.00      1.00         2\n",
      "       nghiepvuthe_vibvisadining_bieuphi       0.67      1.00      0.80         2\n",
      "                 chuyentienquocte_muanha       1.00      1.00      1.00         2\n",
      "                          taikhoan_uudai       1.00      1.00      1.00         2\n",
      "                          submenubieuphi       0.67      1.00      0.80         2\n",
      "\n",
      "                                accuracy                           0.91       412\n",
      "                               macro avg       0.93      0.91      0.91       412\n",
      "                            weighted avg       0.94      0.91      0.92       412\n",
      "\n"
     ]
    }
   ],
   "source": [
    "# vovanphuc 1 epoch 30 iter\n",
    "print(classification_report(y_true, preds, target_names = label_list))"
   ]
  },
  {
   "cell_type": "code",
   "execution_count": 62,
   "id": "b9fe218d-3e68-4e19-9334-32ea47df0ad1",
   "metadata": {
    "tags": []
   },
   "outputs": [
    {
     "name": "stdout",
     "output_type": "stream",
     "text": [
      "                                          precision    recall  f1-score   support\n",
      "\n",
      "                               greetings       0.93      0.76      0.84        17\n",
      "                                 goodbye       0.88      0.58      0.70        12\n",
      "                                  thanks       1.00      1.00      1.00        12\n",
      "                                  affirm       0.80      1.00      0.89        12\n",
      "                                    deny       1.00      0.91      0.95        11\n",
      "                               moodgreat       1.00      0.91      0.95        11\n",
      "                                mainmenu       1.00      0.27      0.43        11\n",
      "                         submenuthongtin       1.00      1.00      1.00        11\n",
      "                       submenuthongtinID       0.92      0.86      0.89        14\n",
      "               submenuthongtinemailphone       1.00      0.95      0.97        20\n",
      "                         submenucomplain       1.00      1.00      1.00        10\n",
      "                      submenulienhetuvan       0.73      0.92      0.81        12\n",
      "                          branchlocation       1.00      0.92      0.96        12\n",
      "                     cardproductmainmenu       1.00      0.75      0.86        12\n",
      "                  cardproductkiemtrahoso       0.56      1.00      0.72         9\n",
      "              cardproductkiemtragiaonhan       0.92      1.00      0.96        11\n",
      "                 outofscorenonvietnamese       0.00      0.00      0.00         2\n",
      "                         outofscoreother       0.15      1.00      0.27         2\n",
      "                    nghiepvuthe_hoantien       1.00      1.00      1.00         2\n",
      "                              dautu_kenh       1.00      1.00      1.00         2\n",
      "                            vay_tieudung       1.00      1.00      1.00         2\n",
      "                  thetindung_kichhoatthe       1.00      1.00      1.00         2\n",
      "                 giolamviec_giaodichvien       0.67      1.00      0.80         2\n",
      "       nghiepvuthe_vibvisadining_bieuphi       0.67      1.00      0.80         2\n",
      "         chuyentienquocte_hoso_khongvisa       1.00      1.00      1.00         2\n",
      "        nghiepvuthe_vibvisatravel_sudung       1.00      1.00      1.00         2\n",
      "                          taikhoan_uudai       1.00      1.00      1.00         2\n",
      "              nghiepvuthe_vibplus_caidat       1.00      1.00      1.00         2\n",
      "                       dautu_chungchiquy       1.00      1.00      1.00         3\n",
      "                        taikhoan_bieuphi       1.00      1.00      1.00         2\n",
      "nghiepvuthe_vibmastercardsuperfree_uudai       1.00      1.00      1.00         2\n",
      "       baohiem_prudautulinhhoat_quyenloi       0.75      1.00      0.86         3\n",
      "                       vayuudai_thongtin       1.00      1.00      1.00         2\n",
      "         nghiepvuthe_vibvisadining_uudai       0.00      0.00      0.00         2\n",
      "                 taikhoan_bieuphi_dangky       1.00      1.00      1.00         2\n",
      "                       baohiem_muaquaVIB       0.67      1.00      0.80         2\n",
      "                         dautu_traiphieu       1.00      1.00      1.00         2\n",
      "     chuyentienquocte_hanmuc_sinhhoatphi       1.00      1.00      1.00         2\n",
      "                       nghiepvuthe_uudai       1.00      1.00      1.00         2\n",
      "                     taikhoan_chuyentien       0.50      0.50      0.50         2\n",
      "       chuyentienquocte_hoso_sinhhoatphi       1.00      1.00      1.00         2\n",
      "            chuyentienquocte_hoso_trocap       1.00      1.00      1.00         2\n",
      "                  thetindung_cachnhanthe       0.50      1.00      0.67         2\n",
      "                           vay_kinhdoanh       1.00      1.00      1.00         2\n",
      "                                 vay_oto       1.00      1.00      1.00         2\n",
      "                         baohiem_sanpham       1.00      0.67      0.80         3\n",
      "             chuyentienquocte_hoso_muaho       0.00      0.00      0.00         2\n",
      "                    taikhoan_kiemtrasodu       1.00      1.00      1.00         2\n",
      "         baohiem_prudautulinhhoat_dotuoi       1.00      0.67      0.80         3\n",
      "                 chuyentienquocte_muanha       1.00      1.00      1.00         2\n",
      "     nghiepvuthe_vibvisadining_thanhtoan       1.00      1.00      1.00         2\n",
      "               chuyentienquocte_taikhoan       0.33      0.50      0.40         2\n",
      "           nghiepvuthe_vibvisamastercard       0.67      1.00      0.80         2\n",
      "                      nghiepvuthe_matthe       1.00      0.95      0.98        42\n",
      "              taikhoan_bieuphi_hangthang       1.00      1.00      1.00         2\n",
      "        nghiepvuthe_dangkythe_khongluong       1.00      1.00      1.00         2\n",
      "                             baohiem_VIB       1.00      1.00      1.00         2\n",
      "                     giolamviec_chinhanh       1.00      0.50      0.67         2\n",
      "                            baohiem_hoso       1.00      0.67      0.80         3\n",
      "               chuyentienquocte_hoso_mua       0.50      1.00      0.67         2\n",
      "                     guitietkiem_laisuat       1.00      1.00      1.00         2\n",
      "                  taikhoan_thutuc_dangky       1.00      1.00      1.00         2\n",
      "        chuyentienquocte_doituong_trocap       1.00      1.00      1.00         2\n",
      "                                 vay_nha       1.00      1.00      1.00         2\n",
      "                   chuyentienquocte_hoso       1.00      1.00      1.00         2\n",
      "                    chuyentienquocte_mua       1.00      1.00      1.00         2\n",
      "          chuyentienquocte_hanmuc_trocap       1.00      1.00      1.00         2\n",
      "                     nghiepvuthe_vibplus       1.00      1.00      1.00         2\n",
      "                 chuyentienquocte_hanmuc       1.00      1.00      1.00         2\n",
      "                           taikhoan_khoa       1.00      1.00      1.00        42\n",
      "                         taikhoan_dangky       1.00      1.00      1.00         2\n",
      "                             vay_bieuphi       1.00      1.00      1.00         2\n",
      "            chuyentienquocte_hoso_hocphi       1.00      1.00      1.00         2\n",
      "             nghiepvuthe_vibvisa_bieuphi       1.00      1.00      1.00         2\n",
      "          chuyentienquocte_hanmuc_dinhcu       1.00      1.00      1.00         2\n",
      "                thetindung_mapin_cachlay       1.00      1.00      1.00         2\n",
      "                  thetindung_doanhnghiep       1.00      1.00      1.00         2\n",
      "                   nghiepvuthe_dangkythe       0.67      1.00      0.80         2\n",
      "                    guitietkiem_thongtin       1.00      1.00      1.00         2\n",
      "                     thetindung_thongtin       1.00      0.50      0.67         2\n",
      "                          submenubieuphi       1.00      1.00      1.00         2\n",
      "\n",
      "                                accuracy                           0.90       412\n",
      "                               macro avg       0.89      0.90      0.88       412\n",
      "                            weighted avg       0.93      0.90      0.90       412\n",
      "\n"
     ]
    },
    {
     "name": "stderr",
     "output_type": "stream",
     "text": [
      "/data2/nghiatl/anaconda3/envs/SEO/lib/python3.8/site-packages/sklearn/metrics/_classification.py:1344: UndefinedMetricWarning: Precision and F-score are ill-defined and being set to 0.0 in labels with no predicted samples. Use `zero_division` parameter to control this behavior.\n",
      "  _warn_prf(average, modifier, msg_start, len(result))\n",
      "/data2/nghiatl/anaconda3/envs/SEO/lib/python3.8/site-packages/sklearn/metrics/_classification.py:1344: UndefinedMetricWarning: Precision and F-score are ill-defined and being set to 0.0 in labels with no predicted samples. Use `zero_division` parameter to control this behavior.\n",
      "  _warn_prf(average, modifier, msg_start, len(result))\n",
      "/data2/nghiatl/anaconda3/envs/SEO/lib/python3.8/site-packages/sklearn/metrics/_classification.py:1344: UndefinedMetricWarning: Precision and F-score are ill-defined and being set to 0.0 in labels with no predicted samples. Use `zero_division` parameter to control this behavior.\n",
      "  _warn_prf(average, modifier, msg_start, len(result))\n"
     ]
    }
   ],
   "source": [
    "print(classification_report(y_true, preds, target_names=label_list))"
   ]
  },
  {
   "cell_type": "code",
   "execution_count": 65,
   "id": "2fe66734-40fb-4d89-8bf8-565733820c9d",
   "metadata": {
    "tags": []
   },
   "outputs": [
    {
     "name": "stdout",
     "output_type": "stream",
     "text": [
      "                                          precision    recall  f1-score   support\n",
      "\n",
      "                               greetings       0.61      0.65      0.63        17\n",
      "                                 goodbye       0.86      0.50      0.63        12\n",
      "                                  thanks       1.00      0.92      0.96        12\n",
      "                                  affirm       0.91      0.83      0.87        12\n",
      "                                    deny       1.00      0.91      0.95        11\n",
      "                               moodgreat       1.00      0.82      0.90        11\n",
      "                                mainmenu       0.91      0.91      0.91        11\n",
      "                         submenuthongtin       0.85      1.00      0.92        11\n",
      "                       submenuthongtinID       1.00      1.00      1.00        14\n",
      "               submenuthongtinemailphone       1.00      0.80      0.89        20\n",
      "                         submenucomplain       0.83      1.00      0.91        10\n",
      "                      submenulienhetuvan       0.71      0.83      0.77        12\n",
      "                          branchlocation       1.00      0.92      0.96        12\n",
      "                     cardproductmainmenu       1.00      0.75      0.86        12\n",
      "                  cardproductkiemtrahoso       0.90      1.00      0.95         9\n",
      "              cardproductkiemtragiaonhan       0.92      1.00      0.96        11\n",
      "                 outofscorenonvietnamese       0.67      1.00      0.80         2\n",
      "                         outofscoreother       0.00      0.00      0.00         2\n",
      "                    nghiepvuthe_hoantien       1.00      1.00      1.00         2\n",
      "                              dautu_kenh       1.00      1.00      1.00         2\n",
      "                            vay_tieudung       1.00      1.00      1.00         2\n",
      "                  thetindung_kichhoatthe       1.00      1.00      1.00         2\n",
      "                 giolamviec_giaodichvien       0.67      1.00      0.80         2\n",
      "       nghiepvuthe_vibvisadining_bieuphi       1.00      1.00      1.00         2\n",
      "         chuyentienquocte_hoso_khongvisa       1.00      1.00      1.00         2\n",
      "        nghiepvuthe_vibvisatravel_sudung       0.67      1.00      0.80         2\n",
      "                          taikhoan_uudai       1.00      1.00      1.00         2\n",
      "              nghiepvuthe_vibplus_caidat       0.67      1.00      0.80         2\n",
      "                       dautu_chungchiquy       1.00      1.00      1.00         3\n",
      "                        taikhoan_bieuphi       1.00      1.00      1.00         2\n",
      "nghiepvuthe_vibmastercardsuperfree_uudai       1.00      1.00      1.00         2\n",
      "       baohiem_prudautulinhhoat_quyenloi       0.75      1.00      0.86         3\n",
      "                       vayuudai_thongtin       1.00      1.00      1.00         2\n",
      "         nghiepvuthe_vibvisadining_uudai       0.00      0.00      0.00         2\n",
      "                 taikhoan_bieuphi_dangky       1.00      1.00      1.00         2\n",
      "                       baohiem_muaquaVIB       1.00      1.00      1.00         2\n",
      "                         dautu_traiphieu       1.00      1.00      1.00         2\n",
      "     chuyentienquocte_hanmuc_sinhhoatphi       1.00      1.00      1.00         2\n",
      "                       nghiepvuthe_uudai       1.00      1.00      1.00         2\n",
      "                     taikhoan_chuyentien       1.00      1.00      1.00         2\n",
      "       chuyentienquocte_hoso_sinhhoatphi       1.00      1.00      1.00         2\n",
      "            chuyentienquocte_hoso_trocap       1.00      1.00      1.00         2\n",
      "                  thetindung_cachnhanthe       0.67      1.00      0.80         2\n",
      "                           vay_kinhdoanh       1.00      1.00      1.00         2\n",
      "                                 vay_oto       1.00      1.00      1.00         2\n",
      "                         baohiem_sanpham       1.00      1.00      1.00         3\n",
      "             chuyentienquocte_hoso_muaho       1.00      1.00      1.00         2\n",
      "                    taikhoan_kiemtrasodu       1.00      1.00      1.00         2\n",
      "         baohiem_prudautulinhhoat_dotuoi       1.00      0.67      0.80         3\n",
      "                 chuyentienquocte_muanha       1.00      1.00      1.00         2\n",
      "     nghiepvuthe_vibvisadining_thanhtoan       0.67      1.00      0.80         2\n",
      "               chuyentienquocte_taikhoan       1.00      1.00      1.00         2\n",
      "           nghiepvuthe_vibvisamastercard       1.00      1.00      1.00         2\n",
      "                      nghiepvuthe_matthe       1.00      0.95      0.98        42\n",
      "              taikhoan_bieuphi_hangthang       1.00      1.00      1.00         2\n",
      "        nghiepvuthe_dangkythe_khongluong       1.00      1.00      1.00         2\n",
      "                             baohiem_VIB       1.00      1.00      1.00         2\n",
      "                     giolamviec_chinhanh       1.00      0.50      0.67         2\n",
      "                            baohiem_hoso       1.00      1.00      1.00         3\n",
      "               chuyentienquocte_hoso_mua       0.67      1.00      0.80         2\n",
      "                     guitietkiem_laisuat       1.00      1.00      1.00         2\n",
      "                  taikhoan_thutuc_dangky       1.00      1.00      1.00         2\n",
      "        chuyentienquocte_doituong_trocap       1.00      1.00      1.00         2\n",
      "                                 vay_nha       1.00      1.00      1.00         2\n",
      "                   chuyentienquocte_hoso       1.00      1.00      1.00         2\n",
      "                    chuyentienquocte_mua       1.00      0.50      0.67         2\n",
      "          chuyentienquocte_hanmuc_trocap       1.00      1.00      1.00         2\n",
      "                     nghiepvuthe_vibplus       1.00      0.50      0.67         2\n",
      "                 chuyentienquocte_hanmuc       1.00      1.00      1.00         2\n",
      "                           taikhoan_khoa       0.98      1.00      0.99        42\n",
      "                         taikhoan_dangky       1.00      1.00      1.00         2\n",
      "                             vay_bieuphi       1.00      1.00      1.00         2\n",
      "            chuyentienquocte_hoso_hocphi       1.00      1.00      1.00         2\n",
      "             nghiepvuthe_vibvisa_bieuphi       1.00      1.00      1.00         2\n",
      "          chuyentienquocte_hanmuc_dinhcu       1.00      1.00      1.00         2\n",
      "                thetindung_mapin_cachlay       1.00      1.00      1.00         2\n",
      "                  thetindung_doanhnghiep       1.00      1.00      1.00         2\n",
      "                   nghiepvuthe_dangkythe       0.40      1.00      0.57         2\n",
      "                    guitietkiem_thongtin       1.00      1.00      1.00         2\n",
      "                     thetindung_thongtin       1.00      1.00      1.00         2\n",
      "                          submenubieuphi       1.00      1.00      1.00         2\n",
      "\n",
      "                                accuracy                           0.91       412\n",
      "                               macro avg       0.92      0.93      0.91       412\n",
      "                            weighted avg       0.93      0.91      0.91       412\n",
      "\n"
     ]
    },
    {
     "name": "stderr",
     "output_type": "stream",
     "text": [
      "/data2/nghiatl/anaconda3/envs/SEO/lib/python3.8/site-packages/sklearn/metrics/_classification.py:1344: UndefinedMetricWarning: Precision and F-score are ill-defined and being set to 0.0 in labels with no predicted samples. Use `zero_division` parameter to control this behavior.\n",
      "  _warn_prf(average, modifier, msg_start, len(result))\n",
      "/data2/nghiatl/anaconda3/envs/SEO/lib/python3.8/site-packages/sklearn/metrics/_classification.py:1344: UndefinedMetricWarning: Precision and F-score are ill-defined and being set to 0.0 in labels with no predicted samples. Use `zero_division` parameter to control this behavior.\n",
      "  _warn_prf(average, modifier, msg_start, len(result))\n",
      "/data2/nghiatl/anaconda3/envs/SEO/lib/python3.8/site-packages/sklearn/metrics/_classification.py:1344: UndefinedMetricWarning: Precision and F-score are ill-defined and being set to 0.0 in labels with no predicted samples. Use `zero_division` parameter to control this behavior.\n",
      "  _warn_prf(average, modifier, msg_start, len(result))\n"
     ]
    }
   ],
   "source": [
    "print(classification_report(y_true, preds, target_names=label_list))"
   ]
  },
  {
   "cell_type": "code",
   "execution_count": 63,
   "id": "022ae070-9ced-477e-805a-bbf219ceb0db",
   "metadata": {
    "tags": []
   },
   "outputs": [
    {
     "name": "stdout",
     "output_type": "stream",
     "text": [
      "              precision    recall  f1-score   support\n",
      "\n",
      "           0       0.93      0.76      0.84        17\n",
      "           1       0.88      0.58      0.70        12\n",
      "           2       1.00      1.00      1.00        12\n",
      "           3       0.80      1.00      0.89        12\n",
      "           4       1.00      0.91      0.95        11\n",
      "           5       1.00      0.91      0.95        11\n",
      "           6       1.00      0.27      0.43        11\n",
      "           7       1.00      1.00      1.00        11\n",
      "           8       0.92      0.86      0.89        14\n",
      "           9       1.00      0.95      0.97        20\n",
      "          10       1.00      1.00      1.00        10\n",
      "          11       0.73      0.92      0.81        12\n",
      "          12       1.00      0.92      0.96        12\n",
      "          13       1.00      0.75      0.86        12\n",
      "          14       0.56      1.00      0.72         9\n",
      "          15       0.92      1.00      0.96        11\n",
      "          16       0.00      0.00      0.00         2\n",
      "          17       0.15      1.00      0.27         2\n",
      "          18       1.00      1.00      1.00         2\n",
      "          19       1.00      1.00      1.00         2\n",
      "          20       1.00      1.00      1.00         2\n",
      "          21       1.00      1.00      1.00         2\n",
      "          22       0.67      1.00      0.80         2\n",
      "          23       0.67      1.00      0.80         2\n",
      "          24       1.00      1.00      1.00         2\n",
      "          25       1.00      1.00      1.00         2\n",
      "          26       1.00      1.00      1.00         2\n",
      "          27       1.00      1.00      1.00         2\n",
      "          28       1.00      1.00      1.00         3\n",
      "          29       1.00      1.00      1.00         2\n",
      "          30       1.00      1.00      1.00         2\n",
      "          31       0.75      1.00      0.86         3\n",
      "          32       1.00      1.00      1.00         2\n",
      "          33       0.00      0.00      0.00         2\n",
      "          34       1.00      1.00      1.00         2\n",
      "          35       0.67      1.00      0.80         2\n",
      "          36       1.00      1.00      1.00         2\n",
      "          37       1.00      1.00      1.00         2\n",
      "          38       1.00      1.00      1.00         2\n",
      "          39       0.50      0.50      0.50         2\n",
      "          40       1.00      1.00      1.00         2\n",
      "          41       1.00      1.00      1.00         2\n",
      "          42       0.50      1.00      0.67         2\n",
      "          43       1.00      1.00      1.00         2\n",
      "          44       1.00      1.00      1.00         2\n",
      "          45       1.00      0.67      0.80         3\n",
      "          46       0.00      0.00      0.00         2\n",
      "          47       1.00      1.00      1.00         2\n",
      "          48       1.00      0.67      0.80         3\n",
      "          49       1.00      1.00      1.00         2\n",
      "          50       1.00      1.00      1.00         2\n",
      "          51       0.33      0.50      0.40         2\n",
      "          52       0.67      1.00      0.80         2\n",
      "          53       1.00      0.95      0.98        42\n",
      "          54       1.00      1.00      1.00         2\n",
      "          55       1.00      1.00      1.00         2\n",
      "          56       1.00      1.00      1.00         2\n",
      "          57       1.00      0.50      0.67         2\n",
      "          58       1.00      0.67      0.80         3\n",
      "          59       0.50      1.00      0.67         2\n",
      "          60       1.00      1.00      1.00         2\n",
      "          61       1.00      1.00      1.00         2\n",
      "          62       1.00      1.00      1.00         2\n",
      "          63       1.00      1.00      1.00         2\n",
      "          64       1.00      1.00      1.00         2\n",
      "          65       1.00      1.00      1.00         2\n",
      "          66       1.00      1.00      1.00         2\n",
      "          67       1.00      1.00      1.00         2\n",
      "          68       1.00      1.00      1.00         2\n",
      "          69       1.00      1.00      1.00        42\n",
      "          70       1.00      1.00      1.00         2\n",
      "          71       1.00      1.00      1.00         2\n",
      "          72       1.00      1.00      1.00         2\n",
      "          73       1.00      1.00      1.00         2\n",
      "          74       1.00      1.00      1.00         2\n",
      "          75       1.00      1.00      1.00         2\n",
      "          76       1.00      1.00      1.00         2\n",
      "          77       0.67      1.00      0.80         2\n",
      "          78       1.00      1.00      1.00         2\n",
      "          79       1.00      0.50      0.67         2\n",
      "          80       1.00      1.00      1.00         2\n",
      "\n",
      "    accuracy                           0.90       412\n",
      "   macro avg       0.89      0.90      0.88       412\n",
      "weighted avg       0.93      0.90      0.90       412\n",
      "\n"
     ]
    },
    {
     "name": "stderr",
     "output_type": "stream",
     "text": [
      "/data2/nghiatl/anaconda3/envs/SEO/lib/python3.8/site-packages/sklearn/metrics/_classification.py:1344: UndefinedMetricWarning: Precision and F-score are ill-defined and being set to 0.0 in labels with no predicted samples. Use `zero_division` parameter to control this behavior.\n",
      "  _warn_prf(average, modifier, msg_start, len(result))\n",
      "/data2/nghiatl/anaconda3/envs/SEO/lib/python3.8/site-packages/sklearn/metrics/_classification.py:1344: UndefinedMetricWarning: Precision and F-score are ill-defined and being set to 0.0 in labels with no predicted samples. Use `zero_division` parameter to control this behavior.\n",
      "  _warn_prf(average, modifier, msg_start, len(result))\n",
      "/data2/nghiatl/anaconda3/envs/SEO/lib/python3.8/site-packages/sklearn/metrics/_classification.py:1344: UndefinedMetricWarning: Precision and F-score are ill-defined and being set to 0.0 in labels with no predicted samples. Use `zero_division` parameter to control this behavior.\n",
      "  _warn_prf(average, modifier, msg_start, len(result))\n"
     ]
    }
   ],
   "source": [
    "print(classification_report(y_true, preds))"
   ]
  },
  {
   "cell_type": "code",
   "execution_count": 55,
   "id": "c70ca794-c26f-4f6d-8333-6daf9a101ec4",
   "metadata": {
    "tags": []
   },
   "outputs": [
    {
     "name": "stdout",
     "output_type": "stream",
     "text": [
      "                                          precision    recall  f1-score   support\n",
      "\n",
      "                               greetings       0.65      0.76      0.70        17\n",
      "                                 goodbye       0.90      0.75      0.82        12\n",
      "                                  thanks       0.85      0.92      0.88        12\n",
      "                                  affirm       0.82      0.75      0.78        12\n",
      "                                    deny       1.00      0.91      0.95        11\n",
      "                               moodgreat       1.00      0.73      0.84        11\n",
      "                                mainmenu       0.83      0.91      0.87        11\n",
      "                         submenuthongtin       0.73      1.00      0.85        11\n",
      "                       submenuthongtinID       1.00      1.00      1.00        14\n",
      "               submenuthongtinemailphone       1.00      0.75      0.86        20\n",
      "                         submenucomplain       0.83      1.00      0.91        10\n",
      "                      submenulienhetuvan       0.69      0.75      0.72        12\n",
      "                          branchlocation       1.00      0.92      0.96        12\n",
      "                     cardproductmainmenu       1.00      0.92      0.96        12\n",
      "                  cardproductkiemtrahoso       0.89      0.89      0.89         9\n",
      "              cardproductkiemtragiaonhan       1.00      1.00      1.00        11\n",
      "                 outofscorenonvietnamese       1.00      1.00      1.00         2\n",
      "                         outofscoreother       0.00      0.00      0.00         2\n",
      "                    nghiepvuthe_hoantien       1.00      1.00      1.00         2\n",
      "                              dautu_kenh       1.00      1.00      1.00         2\n",
      "                            vay_tieudung       1.00      1.00      1.00         2\n",
      "                  thetindung_kichhoatthe       1.00      1.00      1.00         2\n",
      "                 giolamviec_giaodichvien       0.67      1.00      0.80         2\n",
      "       nghiepvuthe_vibvisadining_bieuphi       1.00      0.50      0.67         2\n",
      "         chuyentienquocte_hoso_khongvisa       1.00      1.00      1.00         2\n",
      "        nghiepvuthe_vibvisatravel_sudung       0.67      1.00      0.80         2\n",
      "                          taikhoan_uudai       1.00      1.00      1.00         2\n",
      "              nghiepvuthe_vibplus_caidat       1.00      1.00      1.00         2\n",
      "                       dautu_chungchiquy       1.00      1.00      1.00         3\n",
      "                        taikhoan_bieuphi       1.00      1.00      1.00         2\n",
      "nghiepvuthe_vibmastercardsuperfree_uudai       1.00      1.00      1.00         2\n",
      "       baohiem_prudautulinhhoat_quyenloi       1.00      1.00      1.00         3\n",
      "                       vayuudai_thongtin       1.00      1.00      1.00         2\n",
      "         nghiepvuthe_vibvisadining_uudai       0.00      0.00      0.00         2\n",
      "                 taikhoan_bieuphi_dangky       1.00      1.00      1.00         2\n",
      "                       baohiem_muaquaVIB       1.00      1.00      1.00         2\n",
      "                         dautu_traiphieu       1.00      1.00      1.00         2\n",
      "     chuyentienquocte_hanmuc_sinhhoatphi       1.00      1.00      1.00         2\n",
      "                       nghiepvuthe_uudai       1.00      1.00      1.00         2\n",
      "                     taikhoan_chuyentien       1.00      1.00      1.00         2\n",
      "       chuyentienquocte_hoso_sinhhoatphi       1.00      1.00      1.00         2\n",
      "            chuyentienquocte_hoso_trocap       1.00      1.00      1.00         2\n",
      "                  thetindung_cachnhanthe       0.67      1.00      0.80         2\n",
      "                           vay_kinhdoanh       1.00      1.00      1.00         2\n",
      "                                 vay_oto       1.00      1.00      1.00         2\n",
      "                         baohiem_sanpham       1.00      1.00      1.00         3\n",
      "             chuyentienquocte_hoso_muaho       1.00      1.00      1.00         2\n",
      "                    taikhoan_kiemtrasodu       1.00      1.00      1.00         2\n",
      "         baohiem_prudautulinhhoat_dotuoi       1.00      1.00      1.00         3\n",
      "                 chuyentienquocte_muanha       1.00      1.00      1.00         2\n",
      "     nghiepvuthe_vibvisadining_thanhtoan       0.67      1.00      0.80         2\n",
      "               chuyentienquocte_taikhoan       1.00      1.00      1.00         2\n",
      "           nghiepvuthe_vibvisamastercard       1.00      1.00      1.00         2\n",
      "                      nghiepvuthe_matthe       1.00      0.98      0.99        42\n",
      "              taikhoan_bieuphi_hangthang       1.00      1.00      1.00         2\n",
      "        nghiepvuthe_dangkythe_khongluong       1.00      1.00      1.00         2\n",
      "                             baohiem_VIB       1.00      1.00      1.00         2\n",
      "                     giolamviec_chinhanh       1.00      0.50      0.67         2\n",
      "                            baohiem_hoso       1.00      1.00      1.00         3\n",
      "               chuyentienquocte_hoso_mua       1.00      1.00      1.00         2\n",
      "                     guitietkiem_laisuat       1.00      1.00      1.00         2\n",
      "                  taikhoan_thutuc_dangky       1.00      1.00      1.00         2\n",
      "        chuyentienquocte_doituong_trocap       0.67      1.00      0.80         2\n",
      "                                 vay_nha       1.00      1.00      1.00         2\n",
      "                   chuyentienquocte_hoso       1.00      1.00      1.00         2\n",
      "                    chuyentienquocte_mua       1.00      1.00      1.00         2\n",
      "          chuyentienquocte_hanmuc_trocap       1.00      0.50      0.67         2\n",
      "                     nghiepvuthe_vibplus       1.00      1.00      1.00         2\n",
      "                 chuyentienquocte_hanmuc       1.00      1.00      1.00         2\n",
      "                           taikhoan_khoa       1.00      1.00      1.00        42\n",
      "                         taikhoan_dangky       1.00      1.00      1.00         2\n",
      "                             vay_bieuphi       1.00      1.00      1.00         2\n",
      "            chuyentienquocte_hoso_hocphi       1.00      1.00      1.00         2\n",
      "             nghiepvuthe_vibvisa_bieuphi       0.67      1.00      0.80         2\n",
      "          chuyentienquocte_hanmuc_dinhcu       1.00      1.00      1.00         2\n",
      "                thetindung_mapin_cachlay       1.00      1.00      1.00         2\n",
      "                  thetindung_doanhnghiep       1.00      1.00      1.00         2\n",
      "                   nghiepvuthe_dangkythe       1.00      1.00      1.00         2\n",
      "                    guitietkiem_thongtin       1.00      1.00      1.00         2\n",
      "                     thetindung_thongtin       1.00      1.00      1.00         2\n",
      "\n",
      "                                accuracy                           0.91       410\n",
      "                               macro avg       0.93      0.93      0.92       410\n",
      "                            weighted avg       0.93      0.91      0.92       410\n",
      "\n"
     ]
    },
    {
     "name": "stderr",
     "output_type": "stream",
     "text": [
      "/data2/nghiatl/anaconda3/envs/SEO/lib/python3.8/site-packages/sklearn/metrics/_classification.py:1344: UndefinedMetricWarning: Precision and F-score are ill-defined and being set to 0.0 in labels with no predicted samples. Use `zero_division` parameter to control this behavior.\n",
      "  _warn_prf(average, modifier, msg_start, len(result))\n",
      "/data2/nghiatl/anaconda3/envs/SEO/lib/python3.8/site-packages/sklearn/metrics/_classification.py:1344: UndefinedMetricWarning: Precision and F-score are ill-defined and being set to 0.0 in labels with no predicted samples. Use `zero_division` parameter to control this behavior.\n",
      "  _warn_prf(average, modifier, msg_start, len(result))\n",
      "/data2/nghiatl/anaconda3/envs/SEO/lib/python3.8/site-packages/sklearn/metrics/_classification.py:1344: UndefinedMetricWarning: Precision and F-score are ill-defined and being set to 0.0 in labels with no predicted samples. Use `zero_division` parameter to control this behavior.\n",
      "  _warn_prf(average, modifier, msg_start, len(result))\n"
     ]
    }
   ],
   "source": [
    "## vovanphuc du lieu train 8/4\n",
    "print(classification_report(y_true, preds, target_names=label_list))"
   ]
  },
  {
   "cell_type": "code",
   "execution_count": 93,
   "id": "7b09fc64-408c-4f7c-881f-934c1d0794a0",
   "metadata": {
    "tags": []
   },
   "outputs": [
    {
     "data": {
      "text/plain": [
       "22"
      ]
     },
     "execution_count": 93,
     "metadata": {},
     "output_type": "execute_result"
    }
   ],
   "source": [
    "label_list.index('giolamviec_giaodichvien')"
   ]
  },
  {
   "cell_type": "code",
   "execution_count": 137,
   "id": "c2801f40-5267-40fc-86f8-566d8560fa3c",
   "metadata": {
    "tags": []
   },
   "outputs": [
    {
     "data": {
      "text/plain": [
       "'mainmenu'"
      ]
     },
     "execution_count": 137,
     "metadata": {},
     "output_type": "execute_result"
    }
   ],
   "source": [
    "label_list[6]"
   ]
  },
  {
   "cell_type": "code",
   "execution_count": 138,
   "id": "97ad6543-2160-4f63-9f23-22d022a3430f",
   "metadata": {
    "tags": []
   },
   "outputs": [],
   "source": [
    "false_preds_idx = []\n",
    "false_preds = []\n",
    "for idx, p in enumerate(zip(preds, y_true)):\n",
    "    if p[1] == 6 and p[0] != p[1]:\n",
    "        # print(p)\n",
    "        false_preds_idx.append(idx)\n",
    "        false_preds.append(int(p[0]))"
   ]
  },
  {
   "cell_type": "code",
   "execution_count": 139,
   "id": "62dedf1d-5301-47ad-8a9a-8791dbef5145",
   "metadata": {
    "tags": []
   },
   "outputs": [
    {
     "data": {
      "text/html": [
       "<div>\n",
       "<style scoped>\n",
       "    .dataframe tbody tr th:only-of-type {\n",
       "        vertical-align: middle;\n",
       "    }\n",
       "\n",
       "    .dataframe tbody tr th {\n",
       "        vertical-align: top;\n",
       "    }\n",
       "\n",
       "    .dataframe thead th {\n",
       "        text-align: right;\n",
       "    }\n",
       "</style>\n",
       "<table border=\"1\" class=\"dataframe\">\n",
       "  <thead>\n",
       "    <tr style=\"text-align: right;\">\n",
       "      <th></th>\n",
       "      <th>label</th>\n",
       "      <th>text</th>\n",
       "    </tr>\n",
       "  </thead>\n",
       "  <tbody>\n",
       "    <tr>\n",
       "      <th>79</th>\n",
       "      <td>6</td>\n",
       "      <td>tôi muốn làm một_số thủ_tục</td>\n",
       "    </tr>\n",
       "    <tr>\n",
       "      <th>84</th>\n",
       "      <td>6</td>\n",
       "      <td>tôi muốn hỏi một_số thủ_tục</td>\n",
       "    </tr>\n",
       "    <tr>\n",
       "      <th>85</th>\n",
       "      <td>6</td>\n",
       "      <td>làm cho tôi một_số thủ_tục</td>\n",
       "    </tr>\n",
       "  </tbody>\n",
       "</table>\n",
       "</div>"
      ],
      "text/plain": [
       "    label                         text\n",
       "79      6  tôi muốn làm một_số thủ_tục\n",
       "84      6  tôi muốn hỏi một_số thủ_tục\n",
       "85      6   làm cho tôi một_số thủ_tục"
      ]
     },
     "execution_count": 139,
     "metadata": {},
     "output_type": "execute_result"
    }
   ],
   "source": [
    "test_false_df = test_df.iloc[false_preds_idx]\n",
    "test_false_df"
   ]
  },
  {
   "cell_type": "code",
   "execution_count": 85,
   "id": "302f952e-3ded-4b04-bb10-6378c48f0695",
   "metadata": {
    "tags": []
   },
   "outputs": [],
   "source": [
    "# test_df[test_df['label'] == 2]"
   ]
  },
  {
   "cell_type": "code",
   "execution_count": 162,
   "id": "b08e53f6-9cc9-4542-9f35-ccb59fbd7e6a",
   "metadata": {
    "tags": []
   },
   "outputs": [],
   "source": [
    "def convert_id_to_label(id_label):\n",
    "    return label_list[id_label]"
   ]
  },
  {
   "cell_type": "code",
   "execution_count": 163,
   "id": "e1b67f23-a279-4eba-a92a-c850f92984f2",
   "metadata": {
    "tags": []
   },
   "outputs": [
    {
     "name": "stderr",
     "output_type": "stream",
     "text": [
      "/data2/nghiatl/.tmp/ipykernel_1227082/499004396.py:1: SettingWithCopyWarning: \n",
      "A value is trying to be set on a copy of a slice from a DataFrame.\n",
      "Try using .loc[row_indexer,col_indexer] = value instead\n",
      "\n",
      "See the caveats in the documentation: https://pandas.pydata.org/pandas-docs/stable/user_guide/indexing.html#returning-a-view-versus-a-copy\n",
      "  test_false_df['preds'] = false_preds\n"
     ]
    },
    {
     "data": {
      "text/html": [
       "<div>\n",
       "<style scoped>\n",
       "    .dataframe tbody tr th:only-of-type {\n",
       "        vertical-align: middle;\n",
       "    }\n",
       "\n",
       "    .dataframe tbody tr th {\n",
       "        vertical-align: top;\n",
       "    }\n",
       "\n",
       "    .dataframe thead th {\n",
       "        text-align: right;\n",
       "    }\n",
       "</style>\n",
       "<table border=\"1\" class=\"dataframe\">\n",
       "  <thead>\n",
       "    <tr style=\"text-align: right;\">\n",
       "      <th></th>\n",
       "      <th>label</th>\n",
       "      <th>text</th>\n",
       "      <th>preds</th>\n",
       "    </tr>\n",
       "  </thead>\n",
       "  <tbody>\n",
       "    <tr>\n",
       "      <th>65</th>\n",
       "      <td>5</td>\n",
       "      <td>oke tuyệt</td>\n",
       "      <td>7</td>\n",
       "    </tr>\n",
       "  </tbody>\n",
       "</table>\n",
       "</div>"
      ],
      "text/plain": [
       "    label       text  preds\n",
       "65      5  oke tuyệt      7"
      ]
     },
     "execution_count": 163,
     "metadata": {},
     "output_type": "execute_result"
    }
   ],
   "source": [
    "test_false_df['preds'] = false_preds\n",
    "test_false_df"
   ]
  },
  {
   "cell_type": "code",
   "execution_count": 164,
   "id": "5e6d352d-69d8-4e6a-ab92-7b8339f0b9cb",
   "metadata": {
    "tags": []
   },
   "outputs": [
    {
     "data": {
      "text/plain": [
       "'submenuthongtinID'"
      ]
     },
     "execution_count": 164,
     "metadata": {},
     "output_type": "execute_result"
    }
   ],
   "source": [
    "label_list[7]"
   ]
  },
  {
   "cell_type": "code",
   "execution_count": 92,
   "id": "ceb5bb8d-1c5a-493a-90af-afe4ed881269",
   "metadata": {
    "tags": []
   },
   "outputs": [
    {
     "data": {
      "text/html": [
       "<div>\n",
       "<style scoped>\n",
       "    .dataframe tbody tr th:only-of-type {\n",
       "        vertical-align: middle;\n",
       "    }\n",
       "\n",
       "    .dataframe tbody tr th {\n",
       "        vertical-align: top;\n",
       "    }\n",
       "\n",
       "    .dataframe thead th {\n",
       "        text-align: right;\n",
       "    }\n",
       "</style>\n",
       "<table border=\"1\" class=\"dataframe\">\n",
       "  <thead>\n",
       "    <tr style=\"text-align: right;\">\n",
       "      <th></th>\n",
       "      <th>text</th>\n",
       "      <th>label</th>\n",
       "    </tr>\n",
       "  </thead>\n",
       "  <tbody>\n",
       "    <tr>\n",
       "      <th>0</th>\n",
       "      <td>tư_vấn giúp mình với</td>\n",
       "      <td>0</td>\n",
       "    </tr>\n",
       "    <tr>\n",
       "      <th>1</th>\n",
       "      <td>hi</td>\n",
       "      <td>0</td>\n",
       "    </tr>\n",
       "    <tr>\n",
       "      <th>2</th>\n",
       "      <td>hi_ad</td>\n",
       "      <td>0</td>\n",
       "    </tr>\n",
       "    <tr>\n",
       "      <th>3</th>\n",
       "      <td>chào buổi sáng</td>\n",
       "      <td>0</td>\n",
       "    </tr>\n",
       "    <tr>\n",
       "      <th>4</th>\n",
       "      <td>hello</td>\n",
       "      <td>0</td>\n",
       "    </tr>\n",
       "    <tr>\n",
       "      <th>5</th>\n",
       "      <td>chào</td>\n",
       "      <td>0</td>\n",
       "    </tr>\n",
       "    <tr>\n",
       "      <th>6</th>\n",
       "      <td>chào bạn</td>\n",
       "      <td>0</td>\n",
       "    </tr>\n",
       "    <tr>\n",
       "      <th>7</th>\n",
       "      <td>alo</td>\n",
       "      <td>0</td>\n",
       "    </tr>\n",
       "    <tr>\n",
       "      <th>8</th>\n",
       "      <td>xin chào</td>\n",
       "      <td>0</td>\n",
       "    </tr>\n",
       "    <tr>\n",
       "      <th>9</th>\n",
       "      <td>cho mình hỏi với</td>\n",
       "      <td>0</td>\n",
       "    </tr>\n",
       "    <tr>\n",
       "      <th>10</th>\n",
       "      <td>mình cần tư_vấn</td>\n",
       "      <td>0</td>\n",
       "    </tr>\n",
       "    <tr>\n",
       "      <th>11</th>\n",
       "      <td>hiện_tại bên mình có ai tư_vấn không</td>\n",
       "      <td>0</td>\n",
       "    </tr>\n",
       "    <tr>\n",
       "      <th>12</th>\n",
       "      <td>chào bạn</td>\n",
       "      <td>0</td>\n",
       "    </tr>\n",
       "    <tr>\n",
       "      <th>13</th>\n",
       "      <td>chào</td>\n",
       "      <td>0</td>\n",
       "    </tr>\n",
       "    <tr>\n",
       "      <th>14</th>\n",
       "      <td>chào đằng đó</td>\n",
       "      <td>0</td>\n",
       "    </tr>\n",
       "    <tr>\n",
       "      <th>15</th>\n",
       "      <td>hello bot</td>\n",
       "      <td>0</td>\n",
       "    </tr>\n",
       "    <tr>\n",
       "      <th>16</th>\n",
       "      <td>chào bot</td>\n",
       "      <td>0</td>\n",
       "    </tr>\n",
       "    <tr>\n",
       "      <th>17</th>\n",
       "      <td>xin chào</td>\n",
       "      <td>0</td>\n",
       "    </tr>\n",
       "    <tr>\n",
       "      <th>18</th>\n",
       "      <td>xin chào cậu khỏe không</td>\n",
       "      <td>0</td>\n",
       "    </tr>\n",
       "    <tr>\n",
       "      <th>19</th>\n",
       "      <td>xin chào cho tôi hỏi chút</td>\n",
       "      <td>0</td>\n",
       "    </tr>\n",
       "    <tr>\n",
       "      <th>20</th>\n",
       "      <td>này</td>\n",
       "      <td>0</td>\n",
       "    </tr>\n",
       "    <tr>\n",
       "      <th>21</th>\n",
       "      <td>tôi hỏi chút</td>\n",
       "      <td>0</td>\n",
       "    </tr>\n",
       "    <tr>\n",
       "      <th>22</th>\n",
       "      <td>chào bạn</td>\n",
       "      <td>0</td>\n",
       "    </tr>\n",
       "    <tr>\n",
       "      <th>23</th>\n",
       "      <td>hey</td>\n",
       "      <td>0</td>\n",
       "    </tr>\n",
       "    <tr>\n",
       "      <th>24</th>\n",
       "      <td>giúp tôi với</td>\n",
       "      <td>0</td>\n",
       "    </tr>\n",
       "    <tr>\n",
       "      <th>25</th>\n",
       "      <td>tôi tên là minh</td>\n",
       "      <td>0</td>\n",
       "    </tr>\n",
       "    <tr>\n",
       "      <th>26</th>\n",
       "      <td>cho tôi hỏi</td>\n",
       "      <td>0</td>\n",
       "    </tr>\n",
       "    <tr>\n",
       "      <th>27</th>\n",
       "      <td>hi</td>\n",
       "      <td>0</td>\n",
       "    </tr>\n",
       "    <tr>\n",
       "      <th>28</th>\n",
       "      <td>hello</td>\n",
       "      <td>0</td>\n",
       "    </tr>\n",
       "    <tr>\n",
       "      <th>29</th>\n",
       "      <td>alo</td>\n",
       "      <td>0</td>\n",
       "    </tr>\n",
       "    <tr>\n",
       "      <th>30</th>\n",
       "      <td>hi mình là bình</td>\n",
       "      <td>0</td>\n",
       "    </tr>\n",
       "    <tr>\n",
       "      <th>31</th>\n",
       "      <td>mình là hương nhé</td>\n",
       "      <td>0</td>\n",
       "    </tr>\n",
       "    <tr>\n",
       "      <th>32</th>\n",
       "      <td>chào bot mình tên là quỳnh</td>\n",
       "      <td>0</td>\n",
       "    </tr>\n",
       "    <tr>\n",
       "      <th>33</th>\n",
       "      <td>tớ tên là nhung rất vui được gặp bot</td>\n",
       "      <td>0</td>\n",
       "    </tr>\n",
       "    <tr>\n",
       "      <th>34</th>\n",
       "      <td>xin chao</td>\n",
       "      <td>0</td>\n",
       "    </tr>\n",
       "    <tr>\n",
       "      <th>35</th>\n",
       "      <td>good morning</td>\n",
       "      <td>0</td>\n",
       "    </tr>\n",
       "    <tr>\n",
       "      <th>36</th>\n",
       "      <td>good afternoon</td>\n",
       "      <td>0</td>\n",
       "    </tr>\n",
       "    <tr>\n",
       "      <th>37</th>\n",
       "      <td>good evening</td>\n",
       "      <td>0</td>\n",
       "    </tr>\n",
       "    <tr>\n",
       "      <th>38</th>\n",
       "      <td>goodmorning</td>\n",
       "      <td>0</td>\n",
       "    </tr>\n",
       "    <tr>\n",
       "      <th>39</th>\n",
       "      <td>hi</td>\n",
       "      <td>0</td>\n",
       "    </tr>\n",
       "    <tr>\n",
       "      <th>40</th>\n",
       "      <td>hi</td>\n",
       "      <td>0</td>\n",
       "    </tr>\n",
       "    <tr>\n",
       "      <th>41</th>\n",
       "      <td>hê lô</td>\n",
       "      <td>0</td>\n",
       "    </tr>\n",
       "    <tr>\n",
       "      <th>42</th>\n",
       "      <td>ê</td>\n",
       "      <td>0</td>\n",
       "    </tr>\n",
       "    <tr>\n",
       "      <th>43</th>\n",
       "      <td>ê bạn</td>\n",
       "      <td>0</td>\n",
       "    </tr>\n",
       "    <tr>\n",
       "      <th>44</th>\n",
       "      <td>ê có ai không</td>\n",
       "      <td>0</td>\n",
       "    </tr>\n",
       "    <tr>\n",
       "      <th>45</th>\n",
       "      <td>tôi cần tư_vấn</td>\n",
       "      <td>0</td>\n",
       "    </tr>\n",
       "    <tr>\n",
       "      <th>46</th>\n",
       "      <td>t cần tư_vấn</td>\n",
       "      <td>0</td>\n",
       "    </tr>\n",
       "    <tr>\n",
       "      <th>47</th>\n",
       "      <td>chào ngày mới</td>\n",
       "      <td>0</td>\n",
       "    </tr>\n",
       "    <tr>\n",
       "      <th>48</th>\n",
       "      <td>bạn ơi cho mình hỏi cái này chút</td>\n",
       "      <td>0</td>\n",
       "    </tr>\n",
       "  </tbody>\n",
       "</table>\n",
       "</div>"
      ],
      "text/plain": [
       "                                    text  label\n",
       "0                   tư_vấn giúp mình với      0\n",
       "1                                     hi      0\n",
       "2                                  hi_ad      0\n",
       "3                         chào buổi sáng      0\n",
       "4                                  hello      0\n",
       "5                                   chào      0\n",
       "6                               chào bạn      0\n",
       "7                                    alo      0\n",
       "8                               xin chào      0\n",
       "9                       cho mình hỏi với      0\n",
       "10                       mình cần tư_vấn      0\n",
       "11  hiện_tại bên mình có ai tư_vấn không      0\n",
       "12                              chào bạn      0\n",
       "13                                  chào      0\n",
       "14                          chào đằng đó      0\n",
       "15                             hello bot      0\n",
       "16                              chào bot      0\n",
       "17                              xin chào      0\n",
       "18               xin chào cậu khỏe không      0\n",
       "19             xin chào cho tôi hỏi chút      0\n",
       "20                                   này      0\n",
       "21                          tôi hỏi chút      0\n",
       "22                              chào bạn      0\n",
       "23                                   hey      0\n",
       "24                          giúp tôi với      0\n",
       "25                       tôi tên là minh      0\n",
       "26                           cho tôi hỏi      0\n",
       "27                                    hi      0\n",
       "28                                 hello      0\n",
       "29                                   alo      0\n",
       "30                       hi mình là bình      0\n",
       "31                     mình là hương nhé      0\n",
       "32            chào bot mình tên là quỳnh      0\n",
       "33  tớ tên là nhung rất vui được gặp bot      0\n",
       "34                              xin chao      0\n",
       "35                          good morning      0\n",
       "36                        good afternoon      0\n",
       "37                          good evening      0\n",
       "38                           goodmorning      0\n",
       "39                                    hi      0\n",
       "40                                    hi      0\n",
       "41                                 hê lô      0\n",
       "42                                     ê      0\n",
       "43                                 ê bạn      0\n",
       "44                         ê có ai không      0\n",
       "45                        tôi cần tư_vấn      0\n",
       "46                          t cần tư_vấn      0\n",
       "47                         chào ngày mới      0\n",
       "48      bạn ơi cho mình hỏi cái này chút      0"
      ]
     },
     "execution_count": 92,
     "metadata": {},
     "output_type": "execute_result"
    }
   ],
   "source": [
    "train_df[train_df['label'] == 0]"
   ]
  },
  {
   "cell_type": "code",
   "execution_count": 90,
   "id": "0b895b93-8fce-4fbc-b0d2-e69f736da856",
   "metadata": {
    "tags": []
   },
   "outputs": [
    {
     "data": {
      "text/plain": [
       "'submenulienhetuvan'"
      ]
     },
     "execution_count": 90,
     "metadata": {},
     "output_type": "execute_result"
    }
   ],
   "source": [
    "label_list[11]"
   ]
  },
  {
   "cell_type": "code",
   "execution_count": 72,
   "id": "aa4cbfcc-7785-4be8-961f-89474d2b1efe",
   "metadata": {
    "tags": []
   },
   "outputs": [
    {
     "name": "stderr",
     "output_type": "stream",
     "text": [
      "/data2/nghiatl/.tmp/ipykernel_1458156/3469866742.py:1: SettingWithCopyWarning: \n",
      "A value is trying to be set on a copy of a slice from a DataFrame.\n",
      "Try using .loc[row_indexer,col_indexer] = value instead\n",
      "\n",
      "See the caveats in the documentation: https://pandas.pydata.org/pandas-docs/stable/user_guide/indexing.html#returning-a-view-versus-a-copy\n",
      "  test_false_df['label'] = test_false_df['label'].apply(convert_id_to_label)\n"
     ]
    }
   ],
   "source": [
    "test_false_df['label'] = test_false_df['label'].apply(convert_id_to_label)"
   ]
  },
  {
   "cell_type": "code",
   "execution_count": 73,
   "id": "47bb0fe7-faeb-442c-9091-90efa839d61a",
   "metadata": {
    "tags": []
   },
   "outputs": [
    {
     "name": "stderr",
     "output_type": "stream",
     "text": [
      "/data2/nghiatl/.tmp/ipykernel_1458156/4291957028.py:1: SettingWithCopyWarning: \n",
      "A value is trying to be set on a copy of a slice from a DataFrame.\n",
      "Try using .loc[row_indexer,col_indexer] = value instead\n",
      "\n",
      "See the caveats in the documentation: https://pandas.pydata.org/pandas-docs/stable/user_guide/indexing.html#returning-a-view-versus-a-copy\n",
      "  test_false_df['preds'] = test_false_df['preds'].apply(convert_id_to_label)\n"
     ]
    }
   ],
   "source": [
    "test_false_df['preds'] = test_false_df['preds'].apply(convert_id_to_label)"
   ]
  },
  {
   "cell_type": "code",
   "execution_count": 74,
   "id": "a1290fd9-62c2-4606-a58a-dd990a4e156c",
   "metadata": {
    "tags": []
   },
   "outputs": [
    {
     "data": {
      "text/html": [
       "<div>\n",
       "<style scoped>\n",
       "    .dataframe tbody tr th:only-of-type {\n",
       "        vertical-align: middle;\n",
       "    }\n",
       "\n",
       "    .dataframe tbody tr th {\n",
       "        vertical-align: top;\n",
       "    }\n",
       "\n",
       "    .dataframe thead th {\n",
       "        text-align: right;\n",
       "    }\n",
       "</style>\n",
       "<table border=\"1\" class=\"dataframe\">\n",
       "  <thead>\n",
       "    <tr style=\"text-align: right;\">\n",
       "      <th></th>\n",
       "      <th>label</th>\n",
       "      <th>predict_label</th>\n",
       "      <th>text</th>\n",
       "      <th>preds</th>\n",
       "    </tr>\n",
       "  </thead>\n",
       "  <tbody>\n",
       "    <tr>\n",
       "      <th>0</th>\n",
       "      <td>greetings</td>\n",
       "      <td>greetings</td>\n",
       "      <td>chào bạn cho mình hỏi chút với ạ</td>\n",
       "      <td>greetings</td>\n",
       "    </tr>\n",
       "    <tr>\n",
       "      <th>1</th>\n",
       "      <td>greetings</td>\n",
       "      <td>greetings</td>\n",
       "      <td>xin chào mình là nghĩa</td>\n",
       "      <td>greetings</td>\n",
       "    </tr>\n",
       "    <tr>\n",
       "      <th>2</th>\n",
       "      <td>greetings</td>\n",
       "      <td>greetings</td>\n",
       "      <td>tên tôi là thảo</td>\n",
       "      <td>greetings</td>\n",
       "    </tr>\n",
       "    <tr>\n",
       "      <th>3</th>\n",
       "      <td>greetings</td>\n",
       "      <td>mainmenu</td>\n",
       "      <td>tôi cần hỏi một số việc</td>\n",
       "      <td>greetings</td>\n",
       "    </tr>\n",
       "    <tr>\n",
       "      <th>4</th>\n",
       "      <td>greetings</td>\n",
       "      <td>greetings</td>\n",
       "      <td>xin chào bạn có thể giúp tôi một số việc được ...</td>\n",
       "      <td>greetings</td>\n",
       "    </tr>\n",
       "    <tr>\n",
       "      <th>...</th>\n",
       "      <td>...</td>\n",
       "      <td>...</td>\n",
       "      <td>...</td>\n",
       "      <td>...</td>\n",
       "    </tr>\n",
       "    <tr>\n",
       "      <th>382</th>\n",
       "      <td>submenucomplain</td>\n",
       "      <td>NaN</td>\n",
       "      <td>You answer so badly</td>\n",
       "      <td>submenucomplain</td>\n",
       "    </tr>\n",
       "    <tr>\n",
       "      <th>383</th>\n",
       "      <td>submenucomplain</td>\n",
       "      <td>NaN</td>\n",
       "      <td>really bad</td>\n",
       "      <td>submenucomplain</td>\n",
       "    </tr>\n",
       "    <tr>\n",
       "      <th>384</th>\n",
       "      <td>submenucomplain</td>\n",
       "      <td>NaN</td>\n",
       "      <td>Too worse</td>\n",
       "      <td>submenucomplain</td>\n",
       "    </tr>\n",
       "    <tr>\n",
       "      <th>385</th>\n",
       "      <td>submenucomplain</td>\n",
       "      <td>NaN</td>\n",
       "      <td>Staff attitude is unprofessional</td>\n",
       "      <td>submenucomplain</td>\n",
       "    </tr>\n",
       "    <tr>\n",
       "      <th>386</th>\n",
       "      <td>submenucomplain</td>\n",
       "      <td>NaN</td>\n",
       "      <td>The attitude of the staff is too bad</td>\n",
       "      <td>submenucomplain</td>\n",
       "    </tr>\n",
       "  </tbody>\n",
       "</table>\n",
       "<p>387 rows × 4 columns</p>\n",
       "</div>"
      ],
      "text/plain": [
       "               label predict_label  \\\n",
       "0          greetings     greetings   \n",
       "1          greetings     greetings   \n",
       "2          greetings     greetings   \n",
       "3          greetings      mainmenu   \n",
       "4          greetings     greetings   \n",
       "..               ...           ...   \n",
       "382  submenucomplain           NaN   \n",
       "383  submenucomplain           NaN   \n",
       "384  submenucomplain           NaN   \n",
       "385  submenucomplain           NaN   \n",
       "386  submenucomplain           NaN   \n",
       "\n",
       "                                                  text            preds  \n",
       "0                     chào bạn cho mình hỏi chút với ạ        greetings  \n",
       "1                               xin chào mình là nghĩa        greetings  \n",
       "2                                      tên tôi là thảo        greetings  \n",
       "3                              tôi cần hỏi một số việc        greetings  \n",
       "4    xin chào bạn có thể giúp tôi một số việc được ...        greetings  \n",
       "..                                                 ...              ...  \n",
       "382                                You answer so badly  submenucomplain  \n",
       "383                                         really bad  submenucomplain  \n",
       "384                                          Too worse  submenucomplain  \n",
       "385                   Staff attitude is unprofessional  submenucomplain  \n",
       "386               The attitude of the staff is too bad  submenucomplain  \n",
       "\n",
       "[387 rows x 4 columns]"
      ]
     },
     "execution_count": 74,
     "metadata": {},
     "output_type": "execute_result"
    }
   ],
   "source": [
    "# test_false_df.drop(columns=['Unnamed: 0'], inplace = True)\n",
    "test_false_df = test_false_df.reset_index(drop=True)\n",
    "test_false_df"
   ]
  },
  {
   "cell_type": "code",
   "execution_count": 75,
   "id": "a059d34f-9e18-4bd0-bd97-5837203623b4",
   "metadata": {
    "tags": []
   },
   "outputs": [
    {
     "data": {
      "text/html": [
       "<div>\n",
       "<style scoped>\n",
       "    .dataframe tbody tr th:only-of-type {\n",
       "        vertical-align: middle;\n",
       "    }\n",
       "\n",
       "    .dataframe tbody tr th {\n",
       "        vertical-align: top;\n",
       "    }\n",
       "\n",
       "    .dataframe thead th {\n",
       "        text-align: right;\n",
       "    }\n",
       "</style>\n",
       "<table border=\"1\" class=\"dataframe\">\n",
       "  <thead>\n",
       "    <tr style=\"text-align: right;\">\n",
       "      <th></th>\n",
       "      <th>label</th>\n",
       "      <th>text</th>\n",
       "      <th>concat_text</th>\n",
       "    </tr>\n",
       "  </thead>\n",
       "  <tbody>\n",
       "    <tr>\n",
       "      <th>443</th>\n",
       "      <td>17</td>\n",
       "      <td>tôi muốn kiểm tra hồ sơ mở thẻ</td>\n",
       "      <td>tôi muốn kiểm_tra hồ_sơ mở thẻ</td>\n",
       "    </tr>\n",
       "    <tr>\n",
       "      <th>444</th>\n",
       "      <td>17</td>\n",
       "      <td>tôi đăng kí chưa nhận được thông tin</td>\n",
       "      <td>tôi đăng_kí chưa nhận được thông_tin</td>\n",
       "    </tr>\n",
       "    <tr>\n",
       "      <th>445</th>\n",
       "      <td>17</td>\n",
       "      <td>mình cần tra thông tin cá nhân</td>\n",
       "      <td>mình cần tra thông_tin cá_nhân</td>\n",
       "    </tr>\n",
       "    <tr>\n",
       "      <th>446</th>\n",
       "      <td>17</td>\n",
       "      <td>tôi chưa thấy thông tin của mình</td>\n",
       "      <td>tôi chưa thấy thông_tin của mình</td>\n",
       "    </tr>\n",
       "    <tr>\n",
       "      <th>447</th>\n",
       "      <td>17</td>\n",
       "      <td>kiểm tra hồ sơ đăng ký thẻ atm</td>\n",
       "      <td>kiểm_tra hồ_sơ đăng_ký thẻ atm</td>\n",
       "    </tr>\n",
       "    <tr>\n",
       "      <th>1258</th>\n",
       "      <td>17</td>\n",
       "      <td>I want to check the card opening</td>\n",
       "      <td>I want to check the card opening</td>\n",
       "    </tr>\n",
       "    <tr>\n",
       "      <th>1259</th>\n",
       "      <td>17</td>\n",
       "      <td>I have not yet received the information</td>\n",
       "      <td>I have not yet received the_information</td>\n",
       "    </tr>\n",
       "    <tr>\n",
       "      <th>1260</th>\n",
       "      <td>17</td>\n",
       "      <td>I need to look up personal information</td>\n",
       "      <td>I need to look up personal information</td>\n",
       "    </tr>\n",
       "    <tr>\n",
       "      <th>1261</th>\n",
       "      <td>17</td>\n",
       "      <td>I have not seen my information</td>\n",
       "      <td>I have not seen my information</td>\n",
       "    </tr>\n",
       "    <tr>\n",
       "      <th>1262</th>\n",
       "      <td>17</td>\n",
       "      <td>Check the ATM card registration record</td>\n",
       "      <td>Check the ATM card registration record</td>\n",
       "    </tr>\n",
       "  </tbody>\n",
       "</table>\n",
       "</div>"
      ],
      "text/plain": [
       "      label                                     text  \\\n",
       "443      17           tôi muốn kiểm tra hồ sơ mở thẻ   \n",
       "444      17     tôi đăng kí chưa nhận được thông tin   \n",
       "445      17           mình cần tra thông tin cá nhân   \n",
       "446      17         tôi chưa thấy thông tin của mình   \n",
       "447      17           kiểm tra hồ sơ đăng ký thẻ atm   \n",
       "1258     17         I want to check the card opening   \n",
       "1259     17  I have not yet received the information   \n",
       "1260     17   I need to look up personal information   \n",
       "1261     17           I have not seen my information   \n",
       "1262     17   Check the ATM card registration record   \n",
       "\n",
       "                                  concat_text  \n",
       "443            tôi muốn kiểm_tra hồ_sơ mở thẻ  \n",
       "444      tôi đăng_kí chưa nhận được thông_tin  \n",
       "445            mình cần tra thông_tin cá_nhân  \n",
       "446          tôi chưa thấy thông_tin của mình  \n",
       "447            kiểm_tra hồ_sơ đăng_ký thẻ atm  \n",
       "1258         I want to check the card opening  \n",
       "1259  I have not yet received the_information  \n",
       "1260   I need to look up personal information  \n",
       "1261           I have not seen my information  \n",
       "1262   Check the ATM card registration record  "
      ]
     },
     "execution_count": 75,
     "metadata": {},
     "output_type": "execute_result"
    }
   ],
   "source": [
    "train_df[train_df['label'] == 17]"
   ]
  },
  {
   "cell_type": "code",
   "execution_count": 76,
   "id": "d3846a7b-e357-4bee-a90b-065cdc862d1d",
   "metadata": {
    "tags": []
   },
   "outputs": [
    {
     "data": {
      "text/plain": [
       "'submenuthongtinID'"
      ]
     },
     "execution_count": 76,
     "metadata": {},
     "output_type": "execute_result"
    }
   ],
   "source": [
    "label_list[8]"
   ]
  },
  {
   "cell_type": "code",
   "execution_count": 77,
   "id": "2e9acc30-5f63-4f46-9297-711cb3906347",
   "metadata": {
    "tags": []
   },
   "outputs": [],
   "source": [
    "test_false_df.to_excel('./data/true_predict_differ_head_multilingual_on_multi_test_app_2.xlsx', index = False)"
   ]
  },
  {
   "cell_type": "code",
   "execution_count": 172,
   "id": "fc1e084c-f5d9-40d1-897c-98591279537d",
   "metadata": {},
   "outputs": [
    {
     "data": {
      "text/html": [
       "<div>\n",
       "<style scoped>\n",
       "    .dataframe tbody tr th:only-of-type {\n",
       "        vertical-align: middle;\n",
       "    }\n",
       "\n",
       "    .dataframe tbody tr th {\n",
       "        vertical-align: top;\n",
       "    }\n",
       "\n",
       "    .dataframe thead th {\n",
       "        text-align: right;\n",
       "    }\n",
       "</style>\n",
       "<table border=\"1\" class=\"dataframe\">\n",
       "  <thead>\n",
       "    <tr style=\"text-align: right;\">\n",
       "      <th></th>\n",
       "      <th>Link bài</th>\n",
       "      <th>title</th>\n",
       "      <th>sapo</th>\n",
       "      <th>content</th>\n",
       "    </tr>\n",
       "  </thead>\n",
       "  <tbody>\n",
       "    <tr>\n",
       "      <th>0</th>\n",
       "      <td>https://kenh14.vn/phi-cong-may-bay-su-22-hy-si...</td>\n",
       "      <td>Phi công máy bay Su-22 hy sinh được truy tặng ...</td>\n",
       "      <td>Ban Thường vụ Trung ương Đoàn TNCS Hồ Chí Minh...</td>\n",
       "      <td>Ngày 1/2, Bí thư Thường trực Trung ương Đoàn N...</td>\n",
       "    </tr>\n",
       "    <tr>\n",
       "      <th>1</th>\n",
       "      <td>https://kenh14.vn/tai-nan-may-bay-quan-su-o-ye...</td>\n",
       "      <td>Tai nạn máy bay quân sự ở Yên Bái, một phi côn...</td>\n",
       "      <td>Chiều 31/1, nguồn tin của Tiền Phong cho biết ...</td>\n",
       "      <td>Theo đó, vào lúc 12 giờ 9 phút cùng ngày, máy ...</td>\n",
       "    </tr>\n",
       "    <tr>\n",
       "      <th>2</th>\n",
       "      <td>https://kenh14.vn/loi-khai-cua-ke-cuop-tiem-va...</td>\n",
       "      <td>Lời khai của kẻ cướp tiệm vàng ngày vía Thần T...</td>\n",
       "      <td>Sau khi tiêu hết tiền, Huỳnh Dũng Em nảy sinh ...</td>\n",
       "      <td>Công an thị xã Bình Minh, tỉnh Vĩnh Long vẫn đ...</td>\n",
       "    </tr>\n",
       "  </tbody>\n",
       "</table>\n",
       "</div>"
      ],
      "text/plain": [
       "                                            Link bài  \\\n",
       "0  https://kenh14.vn/phi-cong-may-bay-su-22-hy-si...   \n",
       "1  https://kenh14.vn/tai-nan-may-bay-quan-su-o-ye...   \n",
       "2  https://kenh14.vn/loi-khai-cua-ke-cuop-tiem-va...   \n",
       "\n",
       "                                               title  \\\n",
       "0  Phi công máy bay Su-22 hy sinh được truy tặng ...   \n",
       "1  Tai nạn máy bay quân sự ở Yên Bái, một phi côn...   \n",
       "2  Lời khai của kẻ cướp tiệm vàng ngày vía Thần T...   \n",
       "\n",
       "                                                sapo  \\\n",
       "0  Ban Thường vụ Trung ương Đoàn TNCS Hồ Chí Minh...   \n",
       "1  Chiều 31/1, nguồn tin của Tiền Phong cho biết ...   \n",
       "2  Sau khi tiêu hết tiền, Huỳnh Dũng Em nảy sinh ...   \n",
       "\n",
       "                                             content  \n",
       "0  Ngày 1/2, Bí thư Thường trực Trung ương Đoàn N...  \n",
       "1  Theo đó, vào lúc 12 giờ 9 phút cùng ngày, máy ...  \n",
       "2  Công an thị xã Bình Minh, tỉnh Vĩnh Long vẫn đ...  "
      ]
     },
     "execution_count": 172,
     "metadata": {},
     "output_type": "execute_result"
    }
   ],
   "source": [
    "test_df_50 = pd.read_csv('./dataset/3_xa_hoi_test_crawled.csv')\n",
    "test_df_50.head()"
   ]
  },
  {
   "cell_type": "code",
   "execution_count": 80,
   "id": "5453cf87-c6fe-4e8e-88f7-a88d5e5bfcd7",
   "metadata": {},
   "outputs": [],
   "source": [
    "test_df_50.loc[test_df_50['Chủ đề'] == 'ngày, lễ đặc biệt', \"Chủ đề\"]= \"ngày lễ trong năm\""
   ]
  },
  {
   "cell_type": "code",
   "execution_count": 180,
   "id": "8a9adbc9-6e3b-4036-a2e8-522f9770eec0",
   "metadata": {},
   "outputs": [
    {
     "data": {
      "text/plain": [
       "'Ban Thường vụ Trung ương Đoàn TNCS Hồ Chí Minh truy tặng Huy hiệu \"Tuổi trẻ dũng cảm\" cho Thiếu tá Trần Ngọc Duy vì đã dũng cảm hy sinh khi thực hiện nhiệm vụ.'"
      ]
     },
     "execution_count": 180,
     "metadata": {},
     "output_type": "execute_result"
    }
   ],
   "source": [
    "test_df_50.iloc[0]['sapo']"
   ]
  },
  {
   "cell_type": "code",
   "execution_count": 81,
   "id": "3f3c80ec-8e9d-4717-8036-d0da3af538fe",
   "metadata": {},
   "outputs": [
    {
     "data": {
      "text/html": [
       "<div>\n",
       "<style scoped>\n",
       "    .dataframe tbody tr th:only-of-type {\n",
       "        vertical-align: middle;\n",
       "    }\n",
       "\n",
       "    .dataframe tbody tr th {\n",
       "        vertical-align: top;\n",
       "    }\n",
       "\n",
       "    .dataframe thead th {\n",
       "        text-align: right;\n",
       "    }\n",
       "</style>\n",
       "<table border=\"1\" class=\"dataframe\">\n",
       "  <thead>\n",
       "    <tr style=\"text-align: right;\">\n",
       "      <th></th>\n",
       "      <th>Chủ đề</th>\n",
       "      <th>Link bài</th>\n",
       "      <th>title</th>\n",
       "      <th>sapo</th>\n",
       "      <th>content</th>\n",
       "      <th>label</th>\n",
       "    </tr>\n",
       "  </thead>\n",
       "  <tbody>\n",
       "    <tr>\n",
       "      <th>0</th>\n",
       "      <td>cháy</td>\n",
       "      <td>https://kenh14.vn/clip-xe-oto-con-dang-chay-ba...</td>\n",
       "      <td>CLIP: Xe ôtô con đang chạy bất ngờ bốc cháy ng...</td>\n",
       "      <td>Đang lưu thông trên quốc lộ, xe ôtô con bất ng...</td>\n",
       "      <td>Vụ việc trên xảy lúc hơn 20 giờ ngày 31-10, tr...</td>\n",
       "      <td>5</td>\n",
       "    </tr>\n",
       "    <tr>\n",
       "      <th>1</th>\n",
       "      <td>bão</td>\n",
       "      <td>https://kenh14.vn/bao-so-7-cach-quan-dao-hoang...</td>\n",
       "      <td>Bão số 7 cách quần đảo Hoàng Sa khoảng 570km, ...</td>\n",
       "      <td>Trong 12 giờ tới, bão có khả năng mạnh thê...</td>\n",
       "      <td>Trung tâm Dự báo khí tượng thủy văn quốc gia c...</td>\n",
       "      <td>9</td>\n",
       "    </tr>\n",
       "    <tr>\n",
       "      <th>2</th>\n",
       "      <td>tai nạn</td>\n",
       "      <td>https://kenh14.vn/tang-thuong-ca-gia-dinh-cong...</td>\n",
       "      <td>Tang thương cả gia đình công nhân ra đi vì tai...</td>\n",
       "      <td>14 giờ chiều nay (2/11), gia đình sẽ tổ chức a...</td>\n",
       "      <td>Tại lễ tang 3 cha con anh Phạm Văn Luốc (37 tu...</td>\n",
       "      <td>6</td>\n",
       "    </tr>\n",
       "    <tr>\n",
       "      <th>3</th>\n",
       "      <td>dự báo thời tiết</td>\n",
       "      <td>https://kenh14.vn/bac-bo-co-the-ret-dam-trong-...</td>\n",
       "      <td>Bắc Bộ có thể rét đậm trong dịp Tết Nguyên đán</td>\n",
       "      <td>Theo dự báo, dịp Tết Nguyên đán năm 2023, Bắc ...</td>\n",
       "      <td>Theo Trung tâm Dự báo Khí tượng Thuỷ văn Quốc ...</td>\n",
       "      <td>8</td>\n",
       "    </tr>\n",
       "    <tr>\n",
       "      <th>4</th>\n",
       "      <td>dự báo thời tiết</td>\n",
       "      <td>https://kenh14.vn/chuyen-gia-ret-dam-ret-hai-b...</td>\n",
       "      <td>Chuyên gia: Rét đậm, rét hại, băng giá có thể ...</td>\n",
       "      <td>Chuyên gia thời tiết đưa ra những cảnh báo về ...</td>\n",
       "      <td>Video: Chuyên gia cảnh báo đợt rét đậm, rét hạ...</td>\n",
       "      <td>8</td>\n",
       "    </tr>\n",
       "  </tbody>\n",
       "</table>\n",
       "</div>"
      ],
      "text/plain": [
       "             Chủ đề                                           Link bài  \\\n",
       "0              cháy  https://kenh14.vn/clip-xe-oto-con-dang-chay-ba...   \n",
       "1               bão  https://kenh14.vn/bao-so-7-cach-quan-dao-hoang...   \n",
       "2           tai nạn  https://kenh14.vn/tang-thuong-ca-gia-dinh-cong...   \n",
       "3  dự báo thời tiết  https://kenh14.vn/bac-bo-co-the-ret-dam-trong-...   \n",
       "4  dự báo thời tiết  https://kenh14.vn/chuyen-gia-ret-dam-ret-hai-b...   \n",
       "\n",
       "                                               title  \\\n",
       "0  CLIP: Xe ôtô con đang chạy bất ngờ bốc cháy ng...   \n",
       "1  Bão số 7 cách quần đảo Hoàng Sa khoảng 570km, ...   \n",
       "2  Tang thương cả gia đình công nhân ra đi vì tai...   \n",
       "3     Bắc Bộ có thể rét đậm trong dịp Tết Nguyên đán   \n",
       "4  Chuyên gia: Rét đậm, rét hại, băng giá có thể ...   \n",
       "\n",
       "                                                sapo  \\\n",
       "0  Đang lưu thông trên quốc lộ, xe ôtô con bất ng...   \n",
       "1  Trong 12 giờ tới, bão có khả năng mạnh thê...   \n",
       "2  14 giờ chiều nay (2/11), gia đình sẽ tổ chức a...   \n",
       "3  Theo dự báo, dịp Tết Nguyên đán năm 2023, Bắc ...   \n",
       "4  Chuyên gia thời tiết đưa ra những cảnh báo về ...   \n",
       "\n",
       "                                             content  label  \n",
       "0  Vụ việc trên xảy lúc hơn 20 giờ ngày 31-10, tr...      5  \n",
       "1  Trung tâm Dự báo khí tượng thủy văn quốc gia c...      9  \n",
       "2  Tại lễ tang 3 cha con anh Phạm Văn Luốc (37 tu...      6  \n",
       "3  Theo Trung tâm Dự báo Khí tượng Thuỷ văn Quốc ...      8  \n",
       "4  Video: Chuyên gia cảnh báo đợt rét đậm, rét hạ...      8  "
      ]
     },
     "execution_count": 81,
     "metadata": {},
     "output_type": "execute_result"
    }
   ],
   "source": [
    "test_df_50['label'] = test_df_50['Chủ đề'].apply(lambda x: convert_label(x))\n",
    "test_df_50.head()"
   ]
  },
  {
   "cell_type": "code",
   "execution_count": 173,
   "id": "9d11e453-b724-4c0b-9298-597ae249021a",
   "metadata": {},
   "outputs": [
    {
     "data": {
      "text/html": [
       "<div>\n",
       "<style scoped>\n",
       "    .dataframe tbody tr th:only-of-type {\n",
       "        vertical-align: middle;\n",
       "    }\n",
       "\n",
       "    .dataframe tbody tr th {\n",
       "        vertical-align: top;\n",
       "    }\n",
       "\n",
       "    .dataframe thead th {\n",
       "        text-align: right;\n",
       "    }\n",
       "</style>\n",
       "<table border=\"1\" class=\"dataframe\">\n",
       "  <thead>\n",
       "    <tr style=\"text-align: right;\">\n",
       "      <th></th>\n",
       "      <th>Link bài</th>\n",
       "      <th>title</th>\n",
       "      <th>sapo</th>\n",
       "      <th>content</th>\n",
       "      <th>concat_text</th>\n",
       "    </tr>\n",
       "  </thead>\n",
       "  <tbody>\n",
       "    <tr>\n",
       "      <th>0</th>\n",
       "      <td>https://kenh14.vn/phi-cong-may-bay-su-22-hy-si...</td>\n",
       "      <td>Phi công máy bay Su-22 hy sinh được truy tặng ...</td>\n",
       "      <td>Ban Thường vụ Trung ương Đoàn TNCS Hồ Chí Minh...</td>\n",
       "      <td>Ngày 1/2, Bí thư Thường trực Trung ương Đoàn N...</td>\n",
       "      <td>Phi_công máy_bay Su 22 hy_sinh được truy_tặng ...</td>\n",
       "    </tr>\n",
       "    <tr>\n",
       "      <th>1</th>\n",
       "      <td>https://kenh14.vn/tai-nan-may-bay-quan-su-o-ye...</td>\n",
       "      <td>Tai nạn máy bay quân sự ở Yên Bái, một phi côn...</td>\n",
       "      <td>Chiều 31/1, nguồn tin của Tiền Phong cho biết ...</td>\n",
       "      <td>Theo đó, vào lúc 12 giờ 9 phút cùng ngày, máy ...</td>\n",
       "      <td>Tai_nạn máy_bay quân_sự ở Yên_Bái một phi_công...</td>\n",
       "    </tr>\n",
       "    <tr>\n",
       "      <th>2</th>\n",
       "      <td>https://kenh14.vn/loi-khai-cua-ke-cuop-tiem-va...</td>\n",
       "      <td>Lời khai của kẻ cướp tiệm vàng ngày vía Thần T...</td>\n",
       "      <td>Sau khi tiêu hết tiền, Huỳnh Dũng Em nảy sinh ...</td>\n",
       "      <td>Công an thị xã Bình Minh, tỉnh Vĩnh Long vẫn đ...</td>\n",
       "      <td>Lời khai của kẻ_cướp tiệm vàng ngày vía Thần_T...</td>\n",
       "    </tr>\n",
       "  </tbody>\n",
       "</table>\n",
       "</div>"
      ],
      "text/plain": [
       "                                            Link bài  \\\n",
       "0  https://kenh14.vn/phi-cong-may-bay-su-22-hy-si...   \n",
       "1  https://kenh14.vn/tai-nan-may-bay-quan-su-o-ye...   \n",
       "2  https://kenh14.vn/loi-khai-cua-ke-cuop-tiem-va...   \n",
       "\n",
       "                                               title  \\\n",
       "0  Phi công máy bay Su-22 hy sinh được truy tặng ...   \n",
       "1  Tai nạn máy bay quân sự ở Yên Bái, một phi côn...   \n",
       "2  Lời khai của kẻ cướp tiệm vàng ngày vía Thần T...   \n",
       "\n",
       "                                                sapo  \\\n",
       "0  Ban Thường vụ Trung ương Đoàn TNCS Hồ Chí Minh...   \n",
       "1  Chiều 31/1, nguồn tin của Tiền Phong cho biết ...   \n",
       "2  Sau khi tiêu hết tiền, Huỳnh Dũng Em nảy sinh ...   \n",
       "\n",
       "                                             content  \\\n",
       "0  Ngày 1/2, Bí thư Thường trực Trung ương Đoàn N...   \n",
       "1  Theo đó, vào lúc 12 giờ 9 phút cùng ngày, máy ...   \n",
       "2  Công an thị xã Bình Minh, tỉnh Vĩnh Long vẫn đ...   \n",
       "\n",
       "                                         concat_text  \n",
       "0  Phi_công máy_bay Su 22 hy_sinh được truy_tặng ...  \n",
       "1  Tai_nạn máy_bay quân_sự ở Yên_Bái một phi_công...  \n",
       "2  Lời khai của kẻ_cướp tiệm vàng ngày vía Thần_T...  "
      ]
     },
     "execution_count": 173,
     "metadata": {},
     "output_type": "execute_result"
    }
   ],
   "source": [
    "test_df_50['concat_text'] = test_df_50.apply(lambda x: preprocess_text(x), axis = 1)\n",
    "test_df_50"
   ]
  },
  {
   "cell_type": "code",
   "execution_count": 102,
   "id": "f72abed1-1b52-4390-a71c-7e3b39ff4f8f",
   "metadata": {},
   "outputs": [],
   "source": [
    "label_l = ['rơi chung cư', 'Ngày cá tháng tư', 'Tết', 'ngày cô hồn', 'Lễ vu lan', 'hiếp dâm', 'cháy', 'tai nạn', 'Trung thu', 'dự báo thời tiết', 'bão', 'ngày lễ trong năm', 'Lễ Thất tịch', 'doanh nhân/ đại gia /người nổi tiếng', 'vụ án: chém/giết người/thảm sát/nổ súng', 'phốt', 'ngộ độc thực phẩm', 'bạo hành', 'đánh ghen']"
   ]
  },
  {
   "cell_type": "code",
   "execution_count": 103,
   "id": "ab4daf68-75b9-46d7-b201-8e5f77f352fc",
   "metadata": {},
   "outputs": [],
   "source": [
    "preds = [convert_label(label_l[p]) for p in preds]"
   ]
  },
  {
   "cell_type": "code",
   "execution_count": 147,
   "id": "27fd14b8-1322-4a68-8dd0-39d6fd20d658",
   "metadata": {},
   "outputs": [
    {
     "data": {
      "text/plain": [
       "'Lễ Thất tịch'"
      ]
     },
     "execution_count": 147,
     "metadata": {},
     "output_type": "execute_result"
    }
   ],
   "source": [
    "label_list[11]"
   ]
  },
  {
   "cell_type": "code",
   "execution_count": 106,
   "id": "33b49d9f-7d90-413b-b3e6-368d271f74b9",
   "metadata": {},
   "outputs": [
    {
     "name": "stdout",
     "output_type": "stream",
     "text": [
      "              precision    recall  f1-score   support\n",
      "\n",
      "           2       0.00      0.00      0.00         0\n",
      "           5       0.80      1.00      0.89         4\n",
      "           6       1.00      0.93      0.96        14\n",
      "           8       1.00      1.00      1.00        18\n",
      "           9       1.00      1.00      1.00         2\n",
      "          10       0.00      0.00      0.00         1\n",
      "          13       1.00      1.00      1.00        11\n",
      "\n",
      "    accuracy                           0.96        50\n",
      "   macro avg       0.69      0.70      0.69        50\n",
      "weighted avg       0.96      0.96      0.96        50\n",
      "\n"
     ]
    },
    {
     "name": "stderr",
     "output_type": "stream",
     "text": [
      "/home/nghiatl/anaconda3/envs/SEO/lib/python3.8/site-packages/sklearn/metrics/_classification.py:1344: UndefinedMetricWarning: Precision and F-score are ill-defined and being set to 0.0 in labels with no predicted samples. Use `zero_division` parameter to control this behavior.\n",
      "  _warn_prf(average, modifier, msg_start, len(result))\n",
      "/home/nghiatl/anaconda3/envs/SEO/lib/python3.8/site-packages/sklearn/metrics/_classification.py:1344: UndefinedMetricWarning: Recall and F-score are ill-defined and being set to 0.0 in labels with no true samples. Use `zero_division` parameter to control this behavior.\n",
      "  _warn_prf(average, modifier, msg_start, len(result))\n",
      "/home/nghiatl/anaconda3/envs/SEO/lib/python3.8/site-packages/sklearn/metrics/_classification.py:1344: UndefinedMetricWarning: Precision and F-score are ill-defined and being set to 0.0 in labels with no predicted samples. Use `zero_division` parameter to control this behavior.\n",
      "  _warn_prf(average, modifier, msg_start, len(result))\n",
      "/home/nghiatl/anaconda3/envs/SEO/lib/python3.8/site-packages/sklearn/metrics/_classification.py:1344: UndefinedMetricWarning: Recall and F-score are ill-defined and being set to 0.0 in labels with no true samples. Use `zero_division` parameter to control this behavior.\n",
      "  _warn_prf(average, modifier, msg_start, len(result))\n",
      "/home/nghiatl/anaconda3/envs/SEO/lib/python3.8/site-packages/sklearn/metrics/_classification.py:1344: UndefinedMetricWarning: Precision and F-score are ill-defined and being set to 0.0 in labels with no predicted samples. Use `zero_division` parameter to control this behavior.\n",
      "  _warn_prf(average, modifier, msg_start, len(result))\n",
      "/home/nghiatl/anaconda3/envs/SEO/lib/python3.8/site-packages/sklearn/metrics/_classification.py:1344: UndefinedMetricWarning: Recall and F-score are ill-defined and being set to 0.0 in labels with no true samples. Use `zero_division` parameter to control this behavior.\n",
      "  _warn_prf(average, modifier, msg_start, len(result))\n"
     ]
    }
   ],
   "source": [
    "# ckpt 3\n",
    "print(classification_report(y_true, preds))"
   ]
  },
  {
   "cell_type": "code",
   "execution_count": 91,
   "id": "85c90392-be3a-4d7f-abea-361b5a437dc5",
   "metadata": {},
   "outputs": [
    {
     "name": "stdout",
     "output_type": "stream",
     "text": [
      "              precision    recall  f1-score   support\n",
      "\n",
      "           5       0.80      1.00      0.89         4\n",
      "           6       1.00      0.93      0.96        14\n",
      "           8       1.00      1.00      1.00        18\n",
      "           9       1.00      1.00      1.00         2\n",
      "          10       0.00      0.00      0.00         1\n",
      "          11       0.00      0.00      0.00         0\n",
      "          13       1.00      1.00      1.00        11\n",
      "\n",
      "    accuracy                           0.96        50\n",
      "   macro avg       0.69      0.70      0.69        50\n",
      "weighted avg       0.96      0.96      0.96        50\n",
      "\n"
     ]
    },
    {
     "name": "stderr",
     "output_type": "stream",
     "text": [
      "/home/nghiatl/anaconda3/envs/SEO/lib/python3.8/site-packages/sklearn/metrics/_classification.py:1344: UndefinedMetricWarning: Precision and F-score are ill-defined and being set to 0.0 in labels with no predicted samples. Use `zero_division` parameter to control this behavior.\n",
      "  _warn_prf(average, modifier, msg_start, len(result))\n",
      "/home/nghiatl/anaconda3/envs/SEO/lib/python3.8/site-packages/sklearn/metrics/_classification.py:1344: UndefinedMetricWarning: Recall and F-score are ill-defined and being set to 0.0 in labels with no true samples. Use `zero_division` parameter to control this behavior.\n",
      "  _warn_prf(average, modifier, msg_start, len(result))\n",
      "/home/nghiatl/anaconda3/envs/SEO/lib/python3.8/site-packages/sklearn/metrics/_classification.py:1344: UndefinedMetricWarning: Precision and F-score are ill-defined and being set to 0.0 in labels with no predicted samples. Use `zero_division` parameter to control this behavior.\n",
      "  _warn_prf(average, modifier, msg_start, len(result))\n",
      "/home/nghiatl/anaconda3/envs/SEO/lib/python3.8/site-packages/sklearn/metrics/_classification.py:1344: UndefinedMetricWarning: Recall and F-score are ill-defined and being set to 0.0 in labels with no true samples. Use `zero_division` parameter to control this behavior.\n",
      "  _warn_prf(average, modifier, msg_start, len(result))\n",
      "/home/nghiatl/anaconda3/envs/SEO/lib/python3.8/site-packages/sklearn/metrics/_classification.py:1344: UndefinedMetricWarning: Precision and F-score are ill-defined and being set to 0.0 in labels with no predicted samples. Use `zero_division` parameter to control this behavior.\n",
      "  _warn_prf(average, modifier, msg_start, len(result))\n",
      "/home/nghiatl/anaconda3/envs/SEO/lib/python3.8/site-packages/sklearn/metrics/_classification.py:1344: UndefinedMetricWarning: Recall and F-score are ill-defined and being set to 0.0 in labels with no true samples. Use `zero_division` parameter to control this behavior.\n",
      "  _warn_prf(average, modifier, msg_start, len(result))\n"
     ]
    }
   ],
   "source": [
    "#ckpt\n",
    "print(classification_report(y_true, preds))"
   ]
  },
  {
   "cell_type": "code",
   "execution_count": 150,
   "id": "9f6d1e13-3d8d-4ba3-b55a-04c3c355e7d3",
   "metadata": {},
   "outputs": [
    {
     "name": "stdout",
     "output_type": "stream",
     "text": [
      "(2, 10)\n"
     ]
    },
    {
     "data": {
      "text/plain": [
       "[47]"
      ]
     },
     "execution_count": 150,
     "metadata": {},
     "output_type": "execute_result"
    }
   ],
   "source": [
    "false_preds_idx = []\n",
    "for idx, p in enumerate(zip(preds, y_true)):\n",
    "    if p[1] == 10 and p[0] != p[1]:\n",
    "        print(p)\n",
    "        false_preds_idx.append(idx)\n",
    "false_preds_idx"
   ]
  },
  {
   "cell_type": "code",
   "execution_count": 152,
   "id": "eda5cdb6-3656-443f-bc04-51cfcdd68cae",
   "metadata": {},
   "outputs": [
    {
     "data": {
      "text/html": [
       "<div>\n",
       "<style scoped>\n",
       "    .dataframe tbody tr th:only-of-type {\n",
       "        vertical-align: middle;\n",
       "    }\n",
       "\n",
       "    .dataframe tbody tr th {\n",
       "        vertical-align: top;\n",
       "    }\n",
       "\n",
       "    .dataframe thead th {\n",
       "        text-align: right;\n",
       "    }\n",
       "</style>\n",
       "<table border=\"1\" class=\"dataframe\">\n",
       "  <thead>\n",
       "    <tr style=\"text-align: right;\">\n",
       "      <th></th>\n",
       "      <th>Chủ đề</th>\n",
       "      <th>Link bài</th>\n",
       "      <th>title</th>\n",
       "      <th>sapo</th>\n",
       "      <th>content</th>\n",
       "      <th>label</th>\n",
       "      <th>concat_text</th>\n",
       "    </tr>\n",
       "  </thead>\n",
       "  <tbody>\n",
       "    <tr>\n",
       "      <th>47</th>\n",
       "      <td>ngày lễ trong năm</td>\n",
       "      <td>https://kenh14.vn/dan-cong-so-ha-noi-ngoi-chat...</td>\n",
       "      <td>Dân công sở Hà Nội ngồi chật kín giữa trời rét...</td>\n",
       "      <td>Tối ngày 31/1 (tức ngày 10 tháng Giêng âm lịch...</td>\n",
       "      <td>Theo ghi nhận của phóng viên, lượng người đi m...</td>\n",
       "      <td>10</td>\n",
       "      <td>Dân_công_sở Hà_Nội ngồi chật kín giữa trời rét...</td>\n",
       "    </tr>\n",
       "  </tbody>\n",
       "</table>\n",
       "</div>"
      ],
      "text/plain": [
       "               Chủ đề                                           Link bài  \\\n",
       "47  ngày lễ trong năm  https://kenh14.vn/dan-cong-so-ha-noi-ngoi-chat...   \n",
       "\n",
       "                                                title  \\\n",
       "47  Dân công sở Hà Nội ngồi chật kín giữa trời rét...   \n",
       "\n",
       "                                                 sapo  \\\n",
       "47  Tối ngày 31/1 (tức ngày 10 tháng Giêng âm lịch...   \n",
       "\n",
       "                                              content  label  \\\n",
       "47  Theo ghi nhận của phóng viên, lượng người đi m...     10   \n",
       "\n",
       "                                          concat_text  \n",
       "47  Dân_công_sở Hà_Nội ngồi chật kín giữa trời rét...  "
      ]
     },
     "execution_count": 152,
     "metadata": {},
     "output_type": "execute_result"
    }
   ],
   "source": [
    "test_df_50.iloc[false_preds_idx]"
   ]
  },
  {
   "cell_type": "code",
   "execution_count": 154,
   "id": "e5d3fd7f-5ba6-4112-9628-abf8183955d2",
   "metadata": {},
   "outputs": [
    {
     "data": {
      "text/plain": [
       "'Tối ngày 31/1 (tức ngày 10 tháng Giêng âm lịch hay còn được gọi là ngày vía Thần Tài), các cửa hàng vàng trên địa bàn Hà Nội vẫn chật kín người dân mua vàng.'"
      ]
     },
     "execution_count": 154,
     "metadata": {},
     "output_type": "execute_result"
    }
   ],
   "source": [
    "test_df_50.iloc[false_preds_idx].iloc[0]['sapo']"
   ]
  },
  {
   "cell_type": "code",
   "execution_count": 52,
   "id": "1b069c86-63fc-4039-90cf-d86b33ceb839",
   "metadata": {},
   "outputs": [],
   "source": [
    "# from sentence_transformers import SentenceTransformer\n",
    "# from pyvi.ViTokenizer import tokenize\n",
    "\n",
    "# model = SentenceTransformer('VoVanPhuc/sup-SimCSE-VietNamese-phobert-base')\n",
    "\n",
    "# sentences = ['Kẻ đánh bom đinh tồi tệ nhất nước Anh.',\n",
    "#           'Nghệ sĩ làm thiện nguyện - minh bạch là việc cấp thiết.',\n",
    "#           'Bắc Giang tăng khả năng điều trị và xét nghiệm.',\n",
    "#           'HLV futsal Việt Nam tiết lộ lý do hạ Lebanon.',\n",
    "#           'việc quan trọng khi kêu gọi quyên góp từ thiện là phải minh bạch, giải ngân kịp thời.',\n",
    "#           '20% bệnh nhân Covid-19 có thể nhanh chóng trở nặng.',\n",
    "#           'thái Lan thua giao hữu trước vòng loại World Cup.',\n",
    "#           'Cựu tuyển thủ Nguyễn Bảo Quân: May mắn ủng hộ futsal Việt Nam',\n",
    "#           'Chủ ki-ốt bị đâm chết trong chợ đầu mối lớn nhất Thanh Hoá.',\n",
    "#           'Bắn chết người trong cuộc rượt đuổi trên sông.'\n",
    "#           ]\n",
    "\n",
    "# sentences = [tokenize(sentence) for sentence in sentences]\n",
    "# embeddings = model.encode(sentences)"
   ]
  },
  {
   "cell_type": "code",
   "execution_count": 30,
   "id": "6e54a3cd-2fff-4b70-95a5-f9ef122c7954",
   "metadata": {},
   "outputs": [],
   "source": [
    "# sentences = ['Kẻ đánh bom đinh tồi tệ nhất nước Anh.',\n",
    "#           'Nghệ sĩ làm thiện nguyện - minh bạch là việc cấp thiết.',\n",
    "#           'Bắc Giang tăng khả năng điều trị và xét nghiệm.',\n",
    "#           'HLV futsal Việt Nam tiết lộ lý do hạ Lebanon.',\n",
    "#           'việc quan trọng khi kêu gọi quyên góp từ thiện là phải minh bạch, giải ngân kịp thời.',\n",
    "#           '20% bệnh nhân Covid-19 có thể nhanh chóng trở nặng.',\n",
    "#           'Thái lan thua giao hữu trước vòng loại World Cup.',\n",
    "#           'Cựu tuyển thủ Nguyễn Bảo Quân: May mắn ủng hộ futsal Việt Nam bà Phương Hằng',\n",
    "#           'Chủ ki-ốt bị đâm chết trong chợ đầu mối lớn nhất Thanh Hoá.',\n",
    "#           'Bắn chết người trong cuộc rượt đuổi trên sông.',\n",
    "#           'Công an TP Thủ Đức TP HCM làm rõ nguyên nhân vụ việc nam thanh niên rơi từ tầng 22 của một chung cư tử vong',\n",
    "#           'Công an TP Thủ Đức, TP.HCM làm rõ nguyên nhân vụ việc nam thanh niên rơi từ tầng 22 của một chung cư tử vong.'\n",
    "#           ]\n",
    "\n",
    "# sentences = [tokenize(sentence) for sentence in sentences]\n",
    "# sentences"
   ]
  },
  {
   "cell_type": "code",
   "execution_count": 117,
   "id": "1c3aa4e9-6ae9-4a12-8957-d8c572568083",
   "metadata": {
    "tags": []
   },
   "outputs": [],
   "source": [
    "test_df = pd.read_csv('./data/test.csv')"
   ]
  },
  {
   "cell_type": "code",
   "execution_count": 128,
   "id": "b5a9aa56-841a-43aa-a9e4-6c4c0fe72732",
   "metadata": {
    "tags": []
   },
   "outputs": [],
   "source": [
    "test_df.iloc[95, [1]] = 'submenuthongtinemailphone' "
   ]
  },
  {
   "cell_type": "code",
   "execution_count": 131,
   "id": "d6ae5a0c-4244-43c9-a1e4-8ecdbe3cdb80",
   "metadata": {
    "tags": []
   },
   "outputs": [
    {
     "data": {
      "text/html": [
       "<div>\n",
       "<style scoped>\n",
       "    .dataframe tbody tr th:only-of-type {\n",
       "        vertical-align: middle;\n",
       "    }\n",
       "\n",
       "    .dataframe tbody tr th {\n",
       "        vertical-align: top;\n",
       "    }\n",
       "\n",
       "    .dataframe thead th {\n",
       "        text-align: right;\n",
       "    }\n",
       "</style>\n",
       "<table border=\"1\" class=\"dataframe\">\n",
       "  <thead>\n",
       "    <tr style=\"text-align: right;\">\n",
       "      <th></th>\n",
       "      <th>label</th>\n",
       "      <th>message</th>\n",
       "      <th>predict_label</th>\n",
       "      <th>message_clean</th>\n",
       "    </tr>\n",
       "  </thead>\n",
       "  <tbody>\n",
       "    <tr>\n",
       "      <th>87</th>\n",
       "      <td>submenuthongtin</td>\n",
       "      <td>t muốn thay đổi thông tin</td>\n",
       "      <td>submenuthongtin</td>\n",
       "      <td>tôi muốn thay đổi thông tin</td>\n",
       "    </tr>\n",
       "    <tr>\n",
       "      <th>88</th>\n",
       "      <td>submenuthongtin</td>\n",
       "      <td>tôi muốn thay đổi thông tin</td>\n",
       "      <td>submenuthongtin</td>\n",
       "      <td>tôi muốn thay đổi thông tin</td>\n",
       "    </tr>\n",
       "    <tr>\n",
       "      <th>89</th>\n",
       "      <td>submenuthongtin</td>\n",
       "      <td>muốn cập nhật thông tin thì làm như thế nào đư...</td>\n",
       "      <td>submenuthongtin</td>\n",
       "      <td>muốn cập nhật thông tin thì làm như thế nào đư...</td>\n",
       "    </tr>\n",
       "    <tr>\n",
       "      <th>90</th>\n",
       "      <td>submenuthongtin</td>\n",
       "      <td>muốn sửa thông tin thì làm cách nào b</td>\n",
       "      <td>submenuthongtin</td>\n",
       "      <td>muốn sửa thông tin thì làm cách nào bạn</td>\n",
       "    </tr>\n",
       "    <tr>\n",
       "      <th>91</th>\n",
       "      <td>submenuthongtin</td>\n",
       "      <td>b hướng dẫn tôi cách sửa thông tin cá nhân đượ...</td>\n",
       "      <td>submenuthongtin</td>\n",
       "      <td>bạn hướng dẫn tôi cách sửa thông tin cá nhân đ...</td>\n",
       "    </tr>\n",
       "    <tr>\n",
       "      <th>92</th>\n",
       "      <td>submenuthongtin</td>\n",
       "      <td>t muốn cập nhật thông tin của mình</td>\n",
       "      <td>submenuthongtin</td>\n",
       "      <td>tôi muốn cập nhật thông tin của mình</td>\n",
       "    </tr>\n",
       "    <tr>\n",
       "      <th>97</th>\n",
       "      <td>submenuthongtin</td>\n",
       "      <td>t muốn thay đổi họ tên của mình</td>\n",
       "      <td>submenuthongtin</td>\n",
       "      <td>tôi muốn thay đổi họ tên của mình</td>\n",
       "    </tr>\n",
       "    <tr>\n",
       "      <th>98</th>\n",
       "      <td>submenuthongtin</td>\n",
       "      <td>thay đổi họ tên thì làm như thế nào</td>\n",
       "      <td>submenuthongtin</td>\n",
       "      <td>thay đổi họ tên thì làm như thế nào</td>\n",
       "    </tr>\n",
       "    <tr>\n",
       "      <th>99</th>\n",
       "      <td>submenuthongtin</td>\n",
       "      <td>thay đổi thông tin của tôi thì làm như thế nào</td>\n",
       "      <td>submenuthongtin</td>\n",
       "      <td>thay đổi thông tin của tôi thì làm như thế nào</td>\n",
       "    </tr>\n",
       "    <tr>\n",
       "      <th>100</th>\n",
       "      <td>submenuthongtin</td>\n",
       "      <td>t cần thay đổi thông tin cá nhân</td>\n",
       "      <td>submenuthongtin</td>\n",
       "      <td>tôi cần thay đổi thông tin cá nhân</td>\n",
       "    </tr>\n",
       "    <tr>\n",
       "      <th>101</th>\n",
       "      <td>submenuthongtin</td>\n",
       "      <td>thay đổi thông tin cá nhân</td>\n",
       "      <td>submenuthongtin</td>\n",
       "      <td>thay đổi thông tin cá nhân</td>\n",
       "    </tr>\n",
       "  </tbody>\n",
       "</table>\n",
       "</div>"
      ],
      "text/plain": [
       "               label                                            message  \\\n",
       "87   submenuthongtin                          t muốn thay đổi thông tin   \n",
       "88   submenuthongtin                        tôi muốn thay đổi thông tin   \n",
       "89   submenuthongtin  muốn cập nhật thông tin thì làm như thế nào đư...   \n",
       "90   submenuthongtin              muốn sửa thông tin thì làm cách nào b   \n",
       "91   submenuthongtin  b hướng dẫn tôi cách sửa thông tin cá nhân đượ...   \n",
       "92   submenuthongtin                 t muốn cập nhật thông tin của mình   \n",
       "97   submenuthongtin                    t muốn thay đổi họ tên của mình   \n",
       "98   submenuthongtin                thay đổi họ tên thì làm như thế nào   \n",
       "99   submenuthongtin     thay đổi thông tin của tôi thì làm như thế nào   \n",
       "100  submenuthongtin                   t cần thay đổi thông tin cá nhân   \n",
       "101  submenuthongtin                         thay đổi thông tin cá nhân   \n",
       "\n",
       "       predict_label                                      message_clean  \n",
       "87   submenuthongtin                        tôi muốn thay đổi thông tin  \n",
       "88   submenuthongtin                        tôi muốn thay đổi thông tin  \n",
       "89   submenuthongtin  muốn cập nhật thông tin thì làm như thế nào đư...  \n",
       "90   submenuthongtin            muốn sửa thông tin thì làm cách nào bạn  \n",
       "91   submenuthongtin  bạn hướng dẫn tôi cách sửa thông tin cá nhân đ...  \n",
       "92   submenuthongtin               tôi muốn cập nhật thông tin của mình  \n",
       "97   submenuthongtin                  tôi muốn thay đổi họ tên của mình  \n",
       "98   submenuthongtin                thay đổi họ tên thì làm như thế nào  \n",
       "99   submenuthongtin     thay đổi thông tin của tôi thì làm như thế nào  \n",
       "100  submenuthongtin                 tôi cần thay đổi thông tin cá nhân  \n",
       "101  submenuthongtin                         thay đổi thông tin cá nhân  "
      ]
     },
     "execution_count": 131,
     "metadata": {},
     "output_type": "execute_result"
    }
   ],
   "source": [
    "test_df[test_df['label'] == 'submenuthongtin']"
   ]
  },
  {
   "cell_type": "code",
   "execution_count": 98,
   "id": "4aabf65b-da45-499c-ae72-3ff5b20d8eba",
   "metadata": {
    "tags": []
   },
   "outputs": [
    {
     "data": {
      "text/plain": [
       "array(['greetings', 'goodbye', 'thanks', 'affirm', 'deny', 'moodgreat',\n",
       "       'mainmenu', 'submenuthongtin', 'submenuthongtinID',\n",
       "       'submenuthongtinemailphone', 'submenubieuphi',\n",
       "       'submenulienhetuvan', 'branchlocation', 'cardproductmainmenu',\n",
       "       'cardproductdangkythe', 'cardproductkhuyenmai',\n",
       "       'cardproductkiemtrahoso', 'cardproductkiemtragiaonhan',\n",
       "       'submenucomplain'], dtype=object)"
      ]
     },
     "execution_count": 98,
     "metadata": {},
     "output_type": "execute_result"
    }
   ],
   "source": [
    "test_df['label'].unique()"
   ]
  },
  {
   "cell_type": "code",
   "execution_count": 130,
   "id": "81562a23-c473-47ff-b7c3-a92173f5f1f4",
   "metadata": {
    "tags": []
   },
   "outputs": [],
   "source": [
    "test_df.drop(columns=['Unnamed: 0'], inplace = True)"
   ]
  },
  {
   "cell_type": "code",
   "execution_count": 132,
   "id": "f799b3c6-2940-4c61-8824-10efa8bb844f",
   "metadata": {
    "tags": []
   },
   "outputs": [
    {
     "data": {
      "text/html": [
       "<div>\n",
       "<style scoped>\n",
       "    .dataframe tbody tr th:only-of-type {\n",
       "        vertical-align: middle;\n",
       "    }\n",
       "\n",
       "    .dataframe tbody tr th {\n",
       "        vertical-align: top;\n",
       "    }\n",
       "\n",
       "    .dataframe thead th {\n",
       "        text-align: right;\n",
       "    }\n",
       "</style>\n",
       "<table border=\"1\" class=\"dataframe\">\n",
       "  <thead>\n",
       "    <tr style=\"text-align: right;\">\n",
       "      <th></th>\n",
       "      <th>label</th>\n",
       "      <th>message</th>\n",
       "      <th>predict_label</th>\n",
       "      <th>message_clean</th>\n",
       "    </tr>\n",
       "  </thead>\n",
       "  <tbody>\n",
       "    <tr>\n",
       "      <th>0</th>\n",
       "      <td>greetings</td>\n",
       "      <td>chào bạn cho mình hỏi chút với ạ</td>\n",
       "      <td>greetings</td>\n",
       "      <td>chào bạn cho mình hỏi chút với ạ</td>\n",
       "    </tr>\n",
       "    <tr>\n",
       "      <th>1</th>\n",
       "      <td>greetings</td>\n",
       "      <td>xin chào mình là Nghĩa</td>\n",
       "      <td>greetings</td>\n",
       "      <td>xin chào mình là nghĩa</td>\n",
       "    </tr>\n",
       "    <tr>\n",
       "      <th>2</th>\n",
       "      <td>greetings</td>\n",
       "      <td>tên t là Thảo</td>\n",
       "      <td>greetings</td>\n",
       "      <td>tên tôi là thảo</td>\n",
       "    </tr>\n",
       "    <tr>\n",
       "      <th>3</th>\n",
       "      <td>greetings</td>\n",
       "      <td>b có thể giúp tôi được không</td>\n",
       "      <td>outofscoreother</td>\n",
       "      <td>bạn có thể giúp tôi được không</td>\n",
       "    </tr>\n",
       "    <tr>\n",
       "      <th>4</th>\n",
       "      <td>greetings</td>\n",
       "      <td>t cần hỏi một số việc</td>\n",
       "      <td>mainmenu</td>\n",
       "      <td>tôi cần hỏi một số việc</td>\n",
       "    </tr>\n",
       "    <tr>\n",
       "      <th>...</th>\n",
       "      <td>...</td>\n",
       "      <td>...</td>\n",
       "      <td>...</td>\n",
       "      <td>...</td>\n",
       "    </tr>\n",
       "    <tr>\n",
       "      <th>223</th>\n",
       "      <td>submenucomplain</td>\n",
       "      <td>bạn trả lời tệ thế</td>\n",
       "      <td>submenucomplain</td>\n",
       "      <td>bạn trả lời tệ thế</td>\n",
       "    </tr>\n",
       "    <tr>\n",
       "      <th>224</th>\n",
       "      <td>submenucomplain</td>\n",
       "      <td>tệ thật sự</td>\n",
       "      <td>submenucomplain</td>\n",
       "      <td>tệ thật sự</td>\n",
       "    </tr>\n",
       "    <tr>\n",
       "      <th>225</th>\n",
       "      <td>submenucomplain</td>\n",
       "      <td>kém quá đi</td>\n",
       "      <td>submenucomplain</td>\n",
       "      <td>kém quá đi</td>\n",
       "    </tr>\n",
       "    <tr>\n",
       "      <th>226</th>\n",
       "      <td>submenucomplain</td>\n",
       "      <td>thái độ nhân viên thiếu chuyên nghiệp</td>\n",
       "      <td>submenucomplain</td>\n",
       "      <td>thái độ nhân viên thiếu chuyên nghiệp</td>\n",
       "    </tr>\n",
       "    <tr>\n",
       "      <th>227</th>\n",
       "      <td>submenucomplain</td>\n",
       "      <td>thái độ của nhân viên quá tệ</td>\n",
       "      <td>submenucomplain</td>\n",
       "      <td>thái độ của nhân viên quá tệ</td>\n",
       "    </tr>\n",
       "  </tbody>\n",
       "</table>\n",
       "<p>227 rows × 4 columns</p>\n",
       "</div>"
      ],
      "text/plain": [
       "               label                                message    predict_label  \\\n",
       "0          greetings       chào bạn cho mình hỏi chút với ạ        greetings   \n",
       "1          greetings                 xin chào mình là Nghĩa        greetings   \n",
       "2          greetings                          tên t là Thảo        greetings   \n",
       "3          greetings           b có thể giúp tôi được không  outofscoreother   \n",
       "4          greetings                  t cần hỏi một số việc         mainmenu   \n",
       "..               ...                                    ...              ...   \n",
       "223  submenucomplain                     bạn trả lời tệ thế  submenucomplain   \n",
       "224  submenucomplain                             tệ thật sự  submenucomplain   \n",
       "225  submenucomplain                             kém quá đi  submenucomplain   \n",
       "226  submenucomplain  thái độ nhân viên thiếu chuyên nghiệp  submenucomplain   \n",
       "227  submenucomplain           thái độ của nhân viên quá tệ  submenucomplain   \n",
       "\n",
       "                             message_clean  \n",
       "0         chào bạn cho mình hỏi chút với ạ  \n",
       "1                   xin chào mình là nghĩa  \n",
       "2                          tên tôi là thảo  \n",
       "3           bạn có thể giúp tôi được không  \n",
       "4                  tôi cần hỏi một số việc  \n",
       "..                                     ...  \n",
       "223                     bạn trả lời tệ thế  \n",
       "224                             tệ thật sự  \n",
       "225                             kém quá đi  \n",
       "226  thái độ nhân viên thiếu chuyên nghiệp  \n",
       "227           thái độ của nhân viên quá tệ  \n",
       "\n",
       "[227 rows x 4 columns]"
      ]
     },
     "execution_count": 132,
     "metadata": {},
     "output_type": "execute_result"
    }
   ],
   "source": [
    "test_df.to_csv('./data/test.csv', index = False)\n",
    "test_df"
   ]
  },
  {
   "cell_type": "code",
   "execution_count": null,
   "id": "4ee33a15-0d7c-4d8a-b7e0-324cb4619ed0",
   "metadata": {},
   "outputs": [],
   "source": []
  }
 ],
 "metadata": {
  "kernelspec": {
   "display_name": "SEO",
   "language": "python",
   "name": "seo"
  },
  "language_info": {
   "codemirror_mode": {
    "name": "ipython",
    "version": 3
   },
   "file_extension": ".py",
   "mimetype": "text/x-python",
   "name": "python",
   "nbconvert_exporter": "python",
   "pygments_lexer": "ipython3",
   "version": "3.8.16"
  }
 },
 "nbformat": 4,
 "nbformat_minor": 5
}
