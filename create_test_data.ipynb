{
 "cells": [
  {
   "cell_type": "markdown",
   "id": "fb30c872-0e20-455a-80e3-dedb2cb7c1c9",
   "metadata": {
    "tags": []
   },
   "source": [
    "## Train data"
   ]
  },
  {
   "cell_type": "code",
   "execution_count": 26,
   "id": "d199fb84-0a6e-456d-8dba-9e5453d83afe",
   "metadata": {
    "tags": []
   },
   "outputs": [
    {
     "data": {
      "text/html": [
       "<div>\n",
       "<style scoped>\n",
       "    .dataframe tbody tr th:only-of-type {\n",
       "        vertical-align: middle;\n",
       "    }\n",
       "\n",
       "    .dataframe tbody tr th {\n",
       "        vertical-align: top;\n",
       "    }\n",
       "\n",
       "    .dataframe thead th {\n",
       "        text-align: right;\n",
       "    }\n",
       "</style>\n",
       "<table border=\"1\" class=\"dataframe\">\n",
       "  <thead>\n",
       "    <tr style=\"text-align: right;\">\n",
       "      <th></th>\n",
       "      <th>text</th>\n",
       "      <th>label</th>\n",
       "    </tr>\n",
       "  </thead>\n",
       "  <tbody>\n",
       "    <tr>\n",
       "      <th>0</th>\n",
       "      <td>tư vấn giúp mình với</td>\n",
       "      <td>greetings</td>\n",
       "    </tr>\n",
       "    <tr>\n",
       "      <th>1</th>\n",
       "      <td>hi</td>\n",
       "      <td>greetings</td>\n",
       "    </tr>\n",
       "    <tr>\n",
       "      <th>2</th>\n",
       "      <td>hi ad</td>\n",
       "      <td>greetings</td>\n",
       "    </tr>\n",
       "    <tr>\n",
       "      <th>3</th>\n",
       "      <td>chào buổi sáng</td>\n",
       "      <td>greetings</td>\n",
       "    </tr>\n",
       "    <tr>\n",
       "      <th>4</th>\n",
       "      <td>hello</td>\n",
       "      <td>greetings</td>\n",
       "    </tr>\n",
       "  </tbody>\n",
       "</table>\n",
       "</div>"
      ],
      "text/plain": [
       "                   text      label\n",
       "0  tư vấn giúp mình với  greetings\n",
       "1                    hi  greetings\n",
       "2                 hi ad  greetings\n",
       "3        chào buổi sáng  greetings\n",
       "4                 hello  greetings"
      ]
     },
     "execution_count": 26,
     "metadata": {},
     "output_type": "execute_result"
    }
   ],
   "source": [
    "import pandas as pd\n",
    "from tqdm._tqdm_notebook import tqdm_notebook\n",
    "import pandas as pd\n",
    "tqdm_notebook.pandas()\n",
    "\n",
    "train_df = pd.read_csv('./data/train_all_1.csv')\n",
    "train_df.head()"
   ]
  },
  {
   "cell_type": "code",
   "execution_count": 31,
   "id": "45c6909b-62d1-462a-8e12-d152d9894213",
   "metadata": {
    "tags": []
   },
   "outputs": [],
   "source": [
    "train_df_fil = train_df[:764]\n",
    "train_df_fil.to_csv('./data/train_intent_old.csv', index = False)"
   ]
  },
  {
   "cell_type": "code",
   "execution_count": 18,
   "id": "caffec0b-a53d-4746-8db8-4c0bc773fbe0",
   "metadata": {
    "tags": []
   },
   "outputs": [
    {
     "data": {
      "text/html": [
       "<div>\n",
       "<style scoped>\n",
       "    .dataframe tbody tr th:only-of-type {\n",
       "        vertical-align: middle;\n",
       "    }\n",
       "\n",
       "    .dataframe tbody tr th {\n",
       "        vertical-align: top;\n",
       "    }\n",
       "\n",
       "    .dataframe thead th {\n",
       "        text-align: right;\n",
       "    }\n",
       "</style>\n",
       "<table border=\"1\" class=\"dataframe\">\n",
       "  <thead>\n",
       "    <tr style=\"text-align: right;\">\n",
       "      <th></th>\n",
       "      <th>label</th>\n",
       "      <th>text</th>\n",
       "    </tr>\n",
       "  </thead>\n",
       "  <tbody>\n",
       "    <tr>\n",
       "      <th>0</th>\n",
       "      <td>greetings</td>\n",
       "      <td>chào bạn cho mình hỏi chút với ạ</td>\n",
       "    </tr>\n",
       "    <tr>\n",
       "      <th>1</th>\n",
       "      <td>greetings</td>\n",
       "      <td>xin chào mình là nghĩa</td>\n",
       "    </tr>\n",
       "    <tr>\n",
       "      <th>2</th>\n",
       "      <td>greetings</td>\n",
       "      <td>tên tôi là thảo</td>\n",
       "    </tr>\n",
       "    <tr>\n",
       "      <th>3</th>\n",
       "      <td>greetings</td>\n",
       "      <td>bạn có thể giúp tôi được không</td>\n",
       "    </tr>\n",
       "    <tr>\n",
       "      <th>4</th>\n",
       "      <td>greetings</td>\n",
       "      <td>tôi cần hỏi một số việc</td>\n",
       "    </tr>\n",
       "    <tr>\n",
       "      <th>...</th>\n",
       "      <td>...</td>\n",
       "      <td>...</td>\n",
       "    </tr>\n",
       "    <tr>\n",
       "      <th>405</th>\n",
       "      <td>taikhoan_khoa</td>\n",
       "      <td>công ty này thật tệ bạn có thể chấm dứt tài kh...</td>\n",
       "    </tr>\n",
       "    <tr>\n",
       "      <th>406</th>\n",
       "      <td>outofscoreother</td>\n",
       "      <td>tôi bị lạc đường</td>\n",
       "    </tr>\n",
       "    <tr>\n",
       "      <th>407</th>\n",
       "      <td>outofscoreother</td>\n",
       "      <td>tôi bị điểm kém</td>\n",
       "    </tr>\n",
       "    <tr>\n",
       "      <th>408</th>\n",
       "      <td>outofscorenonvietnamese</td>\n",
       "      <td>jai perdu</td>\n",
       "    </tr>\n",
       "    <tr>\n",
       "      <th>409</th>\n",
       "      <td>outofscorenonvietnamese</td>\n",
       "      <td>私は負けた</td>\n",
       "    </tr>\n",
       "  </tbody>\n",
       "</table>\n",
       "<p>410 rows × 2 columns</p>\n",
       "</div>"
      ],
      "text/plain": [
       "                       label  \\\n",
       "0                  greetings   \n",
       "1                  greetings   \n",
       "2                  greetings   \n",
       "3                  greetings   \n",
       "4                  greetings   \n",
       "..                       ...   \n",
       "405            taikhoan_khoa   \n",
       "406          outofscoreother   \n",
       "407          outofscoreother   \n",
       "408  outofscorenonvietnamese   \n",
       "409  outofscorenonvietnamese   \n",
       "\n",
       "                                                  text  \n",
       "0                     chào bạn cho mình hỏi chút với ạ  \n",
       "1                               xin chào mình là nghĩa  \n",
       "2                                      tên tôi là thảo  \n",
       "3                       bạn có thể giúp tôi được không  \n",
       "4                              tôi cần hỏi một số việc  \n",
       "..                                                 ...  \n",
       "405  công ty này thật tệ bạn có thể chấm dứt tài kh...  \n",
       "406                                   tôi bị lạc đường  \n",
       "407                                    tôi bị điểm kém  \n",
       "408                                          jai perdu  \n",
       "409                                              私は負けた  \n",
       "\n",
       "[410 rows x 2 columns]"
      ]
     },
     "execution_count": 18,
     "metadata": {},
     "output_type": "execute_result"
    }
   ],
   "source": [
    "train_df"
   ]
  },
  {
   "cell_type": "code",
   "execution_count": 19,
   "id": "d45b3d2d-9c77-4e57-8a11-3d7a380a8122",
   "metadata": {
    "tags": []
   },
   "outputs": [],
   "source": [
    "bieu_phi_test = [\"Cho tôi xin biểu phí\", \"biểu phí\"]"
   ]
  },
  {
   "cell_type": "code",
   "execution_count": 4,
   "id": "7df6c503-37b3-49ef-a544-92636690850a",
   "metadata": {
    "tags": []
   },
   "outputs": [],
   "source": [
    "submenu_phi_text = ['Giá thế nào', \"Biểu phí như nào\", \"Thẻ này làm hết bao nhiêu\", \"Phí làm thẻ\", \"Tôi xin phí cấp thẻ\", \"Cấp thẻ mất phí nhiêu nhỉ\", \"biểu phí sử dụng thẻ đắt không\", \"biểu phí sử dụng thẻ như thế nào nhỉ\", \"giá như nào\", \"phí như nào\", \"Chuyển tiền ngoài ngân hàng VIB có mất phí không?\", \"sử dụng ứng dụng ngân hàng di động vib có mất phí không\"]"
   ]
  },
  {
   "cell_type": "code",
   "execution_count": 10,
   "id": "94676e93-7bdf-4255-b9ab-ab6f5c96261c",
   "metadata": {
    "tags": []
   },
   "outputs": [],
   "source": [
    "nghiep_vu_uu_dai = [\"Hiện tại có chương trình khuyến mại nào không\", \"Bên mình có khuyến mại gì không\", \"Bây giờ có ưu đãi gì không\", \"khuyến mãi khi mở thẻ\", \"chương trình khuyến mãi là gì \", \"khuyến mãi\", \"dịch vụ khuyến mãi\", \"dạo này có chương trình khuyến mãi nào cho khách hàng mở thẻ mới không\"]"
   ]
  },
  {
   "cell_type": "code",
   "execution_count": 13,
   "id": "54455231-4579-4fe2-9ec9-c5baad446dfe",
   "metadata": {
    "tags": []
   },
   "outputs": [],
   "source": [
    "dang_ky_the = [\"Tôi muốn mở thẻ\", \"Đăng ký thẻ\", \"Mở thẻ\", \"tôi muốn làm thẻ\", \"Tôi cần mở thẻ\", \"t muốn làm thẻ\", \"muốn làm thẻ VIB \", \"mở thẻ thủ tục ra sao\", \"mở thẻ thủ tục ra sao nhỉ\", \"thủ tục mở thẻ ra sao?\", \"Mở thẻ tín dụng thế nào ạ?\", \"mở thẻ visa\", \"Em muốn đăng ký thẻ credit card\", \"Em muốn làm thẻ credit card ạ\", \"Em muốn làm thẻ ATM ạ\", \"Tôi có thể mở thẻ master online được ko?\", \"Hướng dẫn tôi mở thẻ\", \"mình muốn tạo một cái thẻ atm thì làm sao nhỉ\", \"mình muốn đăng ký làm thẻ atm bạn hướng dẫn mình nhé\"]"
   ]
  },
  {
   "cell_type": "code",
   "execution_count": 24,
   "id": "e1ecdec2-5a78-4d89-9836-1f3948af2790",
   "metadata": {
    "tags": []
   },
   "outputs": [],
   "source": [
    "good_bye = [\"tôi có việc mất rồi\", \"tôi đang có việc rồi hẹn gặp lại\", \"thế nhé tôi đi đây\", \"hẹn sau gặp lại\", \"tôi có việc phải đi rồi\"]"
   ]
  },
  {
   "cell_type": "code",
   "execution_count": 25,
   "id": "647924d4-e896-48ea-b6a0-028936a23184",
   "metadata": {
    "tags": []
   },
   "outputs": [
    {
     "data": {
      "text/html": [
       "<div>\n",
       "<style scoped>\n",
       "    .dataframe tbody tr th:only-of-type {\n",
       "        vertical-align: middle;\n",
       "    }\n",
       "\n",
       "    .dataframe tbody tr th {\n",
       "        vertical-align: top;\n",
       "    }\n",
       "\n",
       "    .dataframe thead th {\n",
       "        text-align: right;\n",
       "    }\n",
       "</style>\n",
       "<table border=\"1\" class=\"dataframe\">\n",
       "  <thead>\n",
       "    <tr style=\"text-align: right;\">\n",
       "      <th></th>\n",
       "      <th>text</th>\n",
       "      <th>label</th>\n",
       "    </tr>\n",
       "  </thead>\n",
       "  <tbody>\n",
       "    <tr>\n",
       "      <th>0</th>\n",
       "      <td>tôi có việc mất rồi</td>\n",
       "      <td>goodbye</td>\n",
       "    </tr>\n",
       "    <tr>\n",
       "      <th>1</th>\n",
       "      <td>tôi đang có việc rồi hẹn gặp lại</td>\n",
       "      <td>goodbye</td>\n",
       "    </tr>\n",
       "    <tr>\n",
       "      <th>2</th>\n",
       "      <td>thế nhé tôi đi đây</td>\n",
       "      <td>goodbye</td>\n",
       "    </tr>\n",
       "    <tr>\n",
       "      <th>3</th>\n",
       "      <td>hẹn sau gặp lại</td>\n",
       "      <td>goodbye</td>\n",
       "    </tr>\n",
       "    <tr>\n",
       "      <th>4</th>\n",
       "      <td>tôi có việc phải đi rồi</td>\n",
       "      <td>goodbye</td>\n",
       "    </tr>\n",
       "  </tbody>\n",
       "</table>\n",
       "</div>"
      ],
      "text/plain": [
       "                               text    label\n",
       "0               tôi có việc mất rồi  goodbye\n",
       "1  tôi đang có việc rồi hẹn gặp lại  goodbye\n",
       "2                thế nhé tôi đi đây  goodbye\n",
       "3                   hẹn sau gặp lại  goodbye\n",
       "4           tôi có việc phải đi rồi  goodbye"
      ]
     },
     "execution_count": 25,
     "metadata": {},
     "output_type": "execute_result"
    }
   ],
   "source": [
    "new_row = pd.DataFrame({'text': good_bye, 'label':['goodbye']*len(good_bye)})\n",
    "new_row"
   ]
  },
  {
   "cell_type": "code",
   "execution_count": 22,
   "id": "49fdf997-85f8-4724-a16e-4097ac177f40",
   "metadata": {
    "tags": []
   },
   "outputs": [
    {
     "data": {
      "text/html": [
       "<div>\n",
       "<style scoped>\n",
       "    .dataframe tbody tr th:only-of-type {\n",
       "        vertical-align: middle;\n",
       "    }\n",
       "\n",
       "    .dataframe tbody tr th {\n",
       "        vertical-align: top;\n",
       "    }\n",
       "\n",
       "    .dataframe thead th {\n",
       "        text-align: right;\n",
       "    }\n",
       "</style>\n",
       "<table border=\"1\" class=\"dataframe\">\n",
       "  <thead>\n",
       "    <tr style=\"text-align: right;\">\n",
       "      <th></th>\n",
       "      <th>label</th>\n",
       "      <th>text</th>\n",
       "    </tr>\n",
       "  </thead>\n",
       "  <tbody>\n",
       "    <tr>\n",
       "      <th>0</th>\n",
       "      <td>greetings</td>\n",
       "      <td>chào bạn cho mình hỏi chút với ạ</td>\n",
       "    </tr>\n",
       "    <tr>\n",
       "      <th>1</th>\n",
       "      <td>greetings</td>\n",
       "      <td>xin chào mình là nghĩa</td>\n",
       "    </tr>\n",
       "    <tr>\n",
       "      <th>2</th>\n",
       "      <td>greetings</td>\n",
       "      <td>tên tôi là thảo</td>\n",
       "    </tr>\n",
       "    <tr>\n",
       "      <th>3</th>\n",
       "      <td>greetings</td>\n",
       "      <td>bạn có thể giúp tôi được không</td>\n",
       "    </tr>\n",
       "    <tr>\n",
       "      <th>4</th>\n",
       "      <td>greetings</td>\n",
       "      <td>tôi cần hỏi một số việc</td>\n",
       "    </tr>\n",
       "    <tr>\n",
       "      <th>...</th>\n",
       "      <td>...</td>\n",
       "      <td>...</td>\n",
       "    </tr>\n",
       "    <tr>\n",
       "      <th>407</th>\n",
       "      <td>outofscoreother</td>\n",
       "      <td>tôi bị điểm kém</td>\n",
       "    </tr>\n",
       "    <tr>\n",
       "      <th>408</th>\n",
       "      <td>outofscorenonvietnamese</td>\n",
       "      <td>jai perdu</td>\n",
       "    </tr>\n",
       "    <tr>\n",
       "      <th>409</th>\n",
       "      <td>outofscorenonvietnamese</td>\n",
       "      <td>私は負けた</td>\n",
       "    </tr>\n",
       "    <tr>\n",
       "      <th>410</th>\n",
       "      <td>submenubieuphi</td>\n",
       "      <td>Cho tôi xin biểu phí</td>\n",
       "    </tr>\n",
       "    <tr>\n",
       "      <th>411</th>\n",
       "      <td>submenubieuphi</td>\n",
       "      <td>biểu phí</td>\n",
       "    </tr>\n",
       "  </tbody>\n",
       "</table>\n",
       "<p>412 rows × 2 columns</p>\n",
       "</div>"
      ],
      "text/plain": [
       "                       label                              text\n",
       "0                  greetings  chào bạn cho mình hỏi chút với ạ\n",
       "1                  greetings            xin chào mình là nghĩa\n",
       "2                  greetings                   tên tôi là thảo\n",
       "3                  greetings    bạn có thể giúp tôi được không\n",
       "4                  greetings           tôi cần hỏi một số việc\n",
       "..                       ...                               ...\n",
       "407          outofscoreother                   tôi bị điểm kém\n",
       "408  outofscorenonvietnamese                         jai perdu\n",
       "409  outofscorenonvietnamese                             私は負けた\n",
       "410           submenubieuphi              Cho tôi xin biểu phí\n",
       "411           submenubieuphi                          biểu phí\n",
       "\n",
       "[412 rows x 2 columns]"
      ]
     },
     "execution_count": 22,
     "metadata": {},
     "output_type": "execute_result"
    }
   ],
   "source": [
    "train_df = pd.concat([train_df, new_row], ignore_index = True)\n",
    "train_df"
   ]
  },
  {
   "cell_type": "code",
   "execution_count": 23,
   "id": "47201efe-774a-4ba7-878f-68612c010186",
   "metadata": {
    "tags": []
   },
   "outputs": [],
   "source": [
    "train_df.to_csv('test_all_1.csv', index = False)"
   ]
  },
  {
   "cell_type": "code",
   "execution_count": 99,
   "id": "139d803a-2e87-430a-86d0-4f865c390722",
   "metadata": {
    "tags": []
   },
   "outputs": [
    {
     "name": "stderr",
     "output_type": "stream",
     "text": [
      "Using region  server backend.\n"
     ]
    }
   ],
   "source": [
    "import translators as ts"
   ]
  },
  {
   "cell_type": "code",
   "execution_count": 100,
   "id": "4d47e132-87de-463b-aa1f-d82666dd07e2",
   "metadata": {
    "tags": []
   },
   "outputs": [
    {
     "name": "stderr",
     "output_type": "stream",
     "text": [
      "Preacceleration Process: 100%|██████████████████| 26/26 [01:57<00:00,  4.50s/it]\n"
     ]
    },
    {
     "data": {
      "text/plain": [
       "{'success': ['alibaba',\n",
       "  'argos',\n",
       "  'baidu',\n",
       "  'bing',\n",
       "  'caiyun',\n",
       "  'google',\n",
       "  'iciba',\n",
       "  'iflyrec',\n",
       "  'itranslate',\n",
       "  'lingvanex',\n",
       "  'mglip',\n",
       "  'modernMt',\n",
       "  'myMemory',\n",
       "  'papago',\n",
       "  'qqFanyi',\n",
       "  'qqTranSmart',\n",
       "  'reverso',\n",
       "  'sogou',\n",
       "  'translateCom',\n",
       "  'youdao'],\n",
       " 'fail': ['deepl', 'iflytek', 'niutrans', 'utibet', 'volcEngine', 'yandex']}"
      ]
     },
     "execution_count": 100,
     "metadata": {},
     "output_type": "execute_result"
    }
   ],
   "source": [
    "ts.preaccelerate()"
   ]
  },
  {
   "cell_type": "code",
   "execution_count": 109,
   "id": "50053433-e166-405c-8214-e6c722ca7005",
   "metadata": {
    "tags": []
   },
   "outputs": [
    {
     "data": {
      "text/plain": [
       "'I lost my wallet and all my cards were in it.'"
      ]
     },
     "execution_count": 109,
     "metadata": {},
     "output_type": "execute_result"
    }
   ],
   "source": [
    "idx = 1\n",
    "tx = df[df['label'] == 'lost_or_stolen_card']['text'].iloc[idx]\n",
    "tx"
   ]
  },
  {
   "cell_type": "code",
   "execution_count": 110,
   "id": "006e8115-062a-400d-a006-5f90361b9289",
   "metadata": {
    "tags": []
   },
   "outputs": [
    {
     "data": {
      "text/plain": [
       "'Tôi bị mất ví và tất cả các thẻ của tôi đều ở trong đó.'"
      ]
     },
     "execution_count": 110,
     "metadata": {},
     "output_type": "execute_result"
    }
   ],
   "source": [
    "ts.translate_text(tx, translator='google', from_language='en', to_language='vi')"
   ]
  },
  {
   "cell_type": "code",
   "execution_count": 5,
   "id": "30c388f7-c405-4c5e-8f76-b7b27d16f8e3",
   "metadata": {
    "tags": []
   },
   "outputs": [],
   "source": [
    "# train_df_en[10:50]"
   ]
  },
  {
   "cell_type": "code",
   "execution_count": 114,
   "id": "53acef8a-68b3-4983-9df8-854e2e8e2012",
   "metadata": {
    "tags": []
   },
   "outputs": [],
   "source": [
    "import time \n",
    "def trans(text):\n",
    "    try:\n",
    "        return ts.translate_text(text, translator='google', from_language='en', to_language='vi', if_use_preacceleration=True, sleep_seconds = 0.5)\n",
    "    except:\n",
    "        return ''\n",
    "    return ''"
   ]
  },
  {
   "cell_type": "code",
   "execution_count": 115,
   "id": "f5632d88-980b-4389-9696-04ce7c6b986e",
   "metadata": {},
   "outputs": [
    {
     "data": {
      "text/plain": [
       "'Tôi bị mất ví và tất cả các thẻ của tôi đều ở trong đó.'"
      ]
     },
     "execution_count": 115,
     "metadata": {},
     "output_type": "execute_result"
    }
   ],
   "source": [
    "trans(tx)"
   ]
  },
  {
   "cell_type": "code",
   "execution_count": 52,
   "id": "43527a69-e1ad-4cd5-9317-8bb0802185cd",
   "metadata": {
    "tags": []
   },
   "outputs": [],
   "source": [
    "test_en = train_df['message_clean'].map(trans) "
   ]
  },
  {
   "cell_type": "code",
   "execution_count": 54,
   "id": "3ca2d64e-d94a-47f7-83aa-10f0772c2cad",
   "metadata": {
    "tags": []
   },
   "outputs": [
    {
     "data": {
      "text/html": [
       "<div>\n",
       "<style scoped>\n",
       "    .dataframe tbody tr th:only-of-type {\n",
       "        vertical-align: middle;\n",
       "    }\n",
       "\n",
       "    .dataframe tbody tr th {\n",
       "        vertical-align: top;\n",
       "    }\n",
       "\n",
       "    .dataframe thead th {\n",
       "        text-align: right;\n",
       "    }\n",
       "</style>\n",
       "<table border=\"1\" class=\"dataframe\">\n",
       "  <thead>\n",
       "    <tr style=\"text-align: right;\">\n",
       "      <th></th>\n",
       "      <th>message_clean</th>\n",
       "      <th>label</th>\n",
       "    </tr>\n",
       "  </thead>\n",
       "  <tbody>\n",
       "    <tr>\n",
       "      <th>0</th>\n",
       "      <td>Hi, let me ask you</td>\n",
       "      <td>greetings</td>\n",
       "    </tr>\n",
       "    <tr>\n",
       "      <th>1</th>\n",
       "      <td>Hello I mean</td>\n",
       "      <td>greetings</td>\n",
       "    </tr>\n",
       "    <tr>\n",
       "      <th>2</th>\n",
       "      <td>my name is Thao</td>\n",
       "      <td>greetings</td>\n",
       "    </tr>\n",
       "    <tr>\n",
       "      <th>3</th>\n",
       "      <td>Can you help me</td>\n",
       "      <td>greetings</td>\n",
       "    </tr>\n",
       "    <tr>\n",
       "      <th>4</th>\n",
       "      <td>I need to ask some things</td>\n",
       "      <td>greetings</td>\n",
       "    </tr>\n",
       "    <tr>\n",
       "      <th>...</th>\n",
       "      <td>...</td>\n",
       "      <td>...</td>\n",
       "    </tr>\n",
       "    <tr>\n",
       "      <th>222</th>\n",
       "      <td>You answer so badly</td>\n",
       "      <td>submenucomplain</td>\n",
       "    </tr>\n",
       "    <tr>\n",
       "      <th>223</th>\n",
       "      <td>really bad</td>\n",
       "      <td>submenucomplain</td>\n",
       "    </tr>\n",
       "    <tr>\n",
       "      <th>224</th>\n",
       "      <td>Too worse</td>\n",
       "      <td>submenucomplain</td>\n",
       "    </tr>\n",
       "    <tr>\n",
       "      <th>225</th>\n",
       "      <td>Staff attitude is unprofessional</td>\n",
       "      <td>submenucomplain</td>\n",
       "    </tr>\n",
       "    <tr>\n",
       "      <th>226</th>\n",
       "      <td>The attitude of the staff is too bad</td>\n",
       "      <td>submenucomplain</td>\n",
       "    </tr>\n",
       "  </tbody>\n",
       "</table>\n",
       "<p>227 rows × 2 columns</p>\n",
       "</div>"
      ],
      "text/plain": [
       "                            message_clean            label\n",
       "0                      Hi, let me ask you        greetings\n",
       "1                            Hello I mean        greetings\n",
       "2                         my name is Thao        greetings\n",
       "3                         Can you help me        greetings\n",
       "4               I need to ask some things        greetings\n",
       "..                                    ...              ...\n",
       "222                   You answer so badly  submenucomplain\n",
       "223                            really bad  submenucomplain\n",
       "224                             Too worse  submenucomplain\n",
       "225      Staff attitude is unprofessional  submenucomplain\n",
       "226  The attitude of the staff is too bad  submenucomplain\n",
       "\n",
       "[227 rows x 2 columns]"
      ]
     },
     "execution_count": 54,
     "metadata": {},
     "output_type": "execute_result"
    }
   ],
   "source": [
    "train_df_en = pd.DataFrame({'message_clean': test_en, 'label': train_df['label']})\n",
    "train_df_en"
   ]
  },
  {
   "cell_type": "code",
   "execution_count": 55,
   "id": "03714bc8-8cc5-49bb-a5d7-00c05eaf98a4",
   "metadata": {
    "tags": []
   },
   "outputs": [],
   "source": [
    "train_df_en = train_df_en[train_df_en['message_clean'] != ''].reset_index(drop=True)"
   ]
  },
  {
   "cell_type": "code",
   "execution_count": 59,
   "id": "f99209fe-ca60-4341-8774-6511055bae5f",
   "metadata": {
    "tags": []
   },
   "outputs": [
    {
     "data": {
      "text/plain": [
       "205"
      ]
     },
     "execution_count": 59,
     "metadata": {},
     "output_type": "execute_result"
    }
   ],
   "source": [
    "len(train_df_en)"
   ]
  },
  {
   "cell_type": "code",
   "execution_count": 58,
   "id": "25818b42-2705-4971-a5b6-906d355203fb",
   "metadata": {
    "tags": []
   },
   "outputs": [],
   "source": [
    "train_df_en = train_df_en.drop_duplicates(subset=['message_clean']).reset_index(drop=True)"
   ]
  },
  {
   "cell_type": "code",
   "execution_count": 61,
   "id": "1874e000-3606-4a52-812e-8b16b583d278",
   "metadata": {
    "tags": []
   },
   "outputs": [
    {
     "data": {
      "text/html": [
       "<div>\n",
       "<style scoped>\n",
       "    .dataframe tbody tr th:only-of-type {\n",
       "        vertical-align: middle;\n",
       "    }\n",
       "\n",
       "    .dataframe tbody tr th {\n",
       "        vertical-align: top;\n",
       "    }\n",
       "\n",
       "    .dataframe thead th {\n",
       "        text-align: right;\n",
       "    }\n",
       "</style>\n",
       "<table border=\"1\" class=\"dataframe\">\n",
       "  <thead>\n",
       "    <tr style=\"text-align: right;\">\n",
       "      <th></th>\n",
       "      <th>message_clean</th>\n",
       "      <th>label</th>\n",
       "    </tr>\n",
       "  </thead>\n",
       "  <tbody>\n",
       "    <tr>\n",
       "      <th>0</th>\n",
       "      <td>Hi, let me ask you</td>\n",
       "      <td>greetings</td>\n",
       "    </tr>\n",
       "    <tr>\n",
       "      <th>1</th>\n",
       "      <td>Hello I mean</td>\n",
       "      <td>greetings</td>\n",
       "    </tr>\n",
       "    <tr>\n",
       "      <th>2</th>\n",
       "      <td>my name is Thao</td>\n",
       "      <td>greetings</td>\n",
       "    </tr>\n",
       "    <tr>\n",
       "      <th>3</th>\n",
       "      <td>Can you help me</td>\n",
       "      <td>greetings</td>\n",
       "    </tr>\n",
       "    <tr>\n",
       "      <th>4</th>\n",
       "      <td>I need to ask some things</td>\n",
       "      <td>greetings</td>\n",
       "    </tr>\n",
       "    <tr>\n",
       "      <th>5</th>\n",
       "      <td>Hello, can you help me with some things?</td>\n",
       "      <td>greetings</td>\n",
       "    </tr>\n",
       "    <tr>\n",
       "      <th>6</th>\n",
       "      <td>Please let me ask</td>\n",
       "      <td>greetings</td>\n",
       "    </tr>\n",
       "    <tr>\n",
       "      <th>7</th>\n",
       "      <td>Hello, can you help me</td>\n",
       "      <td>greetings</td>\n",
       "    </tr>\n",
       "    <tr>\n",
       "      <th>8</th>\n",
       "      <td>I asked a little</td>\n",
       "      <td>greetings</td>\n",
       "    </tr>\n",
       "    <tr>\n",
       "      <th>9</th>\n",
       "      <td>I asked</td>\n",
       "      <td>greetings</td>\n",
       "    </tr>\n",
       "    <tr>\n",
       "      <th>10</th>\n",
       "      <td>Hello Nice to meet you</td>\n",
       "      <td>greetings</td>\n",
       "    </tr>\n",
       "    <tr>\n",
       "      <th>11</th>\n",
       "      <td>Nice to meet you</td>\n",
       "      <td>greetings</td>\n",
       "    </tr>\n",
       "    <tr>\n",
       "      <th>12</th>\n",
       "      <td>hello you</td>\n",
       "      <td>greetings</td>\n",
       "    </tr>\n",
       "    <tr>\n",
       "      <th>13</th>\n",
       "      <td>hi you</td>\n",
       "      <td>greetings</td>\n",
       "    </tr>\n",
       "    <tr>\n",
       "      <th>14</th>\n",
       "      <td>Chat</td>\n",
       "      <td>greetings</td>\n",
       "    </tr>\n",
       "  </tbody>\n",
       "</table>\n",
       "</div>"
      ],
      "text/plain": [
       "                               message_clean      label\n",
       "0                         Hi, let me ask you  greetings\n",
       "1                               Hello I mean  greetings\n",
       "2                            my name is Thao  greetings\n",
       "3                            Can you help me  greetings\n",
       "4                  I need to ask some things  greetings\n",
       "5   Hello, can you help me with some things?  greetings\n",
       "6                          Please let me ask  greetings\n",
       "7                     Hello, can you help me  greetings\n",
       "8                           I asked a little  greetings\n",
       "9                                    I asked  greetings\n",
       "10                    Hello Nice to meet you  greetings\n",
       "11                          Nice to meet you  greetings\n",
       "12                                 hello you  greetings\n",
       "13                                    hi you  greetings\n",
       "14                                      Chat  greetings"
      ]
     },
     "execution_count": 61,
     "metadata": {},
     "output_type": "execute_result"
    }
   ],
   "source": [
    "train_df_en[train_df_en['label']=='greetings']"
   ]
  },
  {
   "cell_type": "code",
   "execution_count": 62,
   "id": "f2e6e08f-a327-4f5e-b737-efc0befa4c07",
   "metadata": {
    "tags": []
   },
   "outputs": [
    {
     "data": {
      "text/html": [
       "<div>\n",
       "<style scoped>\n",
       "    .dataframe tbody tr th:only-of-type {\n",
       "        vertical-align: middle;\n",
       "    }\n",
       "\n",
       "    .dataframe tbody tr th {\n",
       "        vertical-align: top;\n",
       "    }\n",
       "\n",
       "    .dataframe thead th {\n",
       "        text-align: right;\n",
       "    }\n",
       "</style>\n",
       "<table border=\"1\" class=\"dataframe\">\n",
       "  <thead>\n",
       "    <tr style=\"text-align: right;\">\n",
       "      <th></th>\n",
       "      <th>label</th>\n",
       "      <th>message</th>\n",
       "      <th>predict_label</th>\n",
       "      <th>message_clean</th>\n",
       "    </tr>\n",
       "  </thead>\n",
       "  <tbody>\n",
       "    <tr>\n",
       "      <th>0</th>\n",
       "      <td>greetings</td>\n",
       "      <td>chào bạn cho mình hỏi chút với ạ</td>\n",
       "      <td>greetings</td>\n",
       "      <td>chào bạn cho mình hỏi chút với ạ</td>\n",
       "    </tr>\n",
       "    <tr>\n",
       "      <th>1</th>\n",
       "      <td>greetings</td>\n",
       "      <td>xin chào mình là Nghĩa</td>\n",
       "      <td>greetings</td>\n",
       "      <td>xin chào mình là nghĩa</td>\n",
       "    </tr>\n",
       "    <tr>\n",
       "      <th>2</th>\n",
       "      <td>greetings</td>\n",
       "      <td>tên t là Thảo</td>\n",
       "      <td>greetings</td>\n",
       "      <td>tên tôi là thảo</td>\n",
       "    </tr>\n",
       "    <tr>\n",
       "      <th>3</th>\n",
       "      <td>greetings</td>\n",
       "      <td>b có thể giúp tôi được không</td>\n",
       "      <td>outofscoreother</td>\n",
       "      <td>bạn có thể giúp tôi được không</td>\n",
       "    </tr>\n",
       "    <tr>\n",
       "      <th>4</th>\n",
       "      <td>greetings</td>\n",
       "      <td>t cần hỏi một số việc</td>\n",
       "      <td>mainmenu</td>\n",
       "      <td>tôi cần hỏi một số việc</td>\n",
       "    </tr>\n",
       "  </tbody>\n",
       "</table>\n",
       "</div>"
      ],
      "text/plain": [
       "       label                           message    predict_label  \\\n",
       "0  greetings  chào bạn cho mình hỏi chút với ạ        greetings   \n",
       "1  greetings            xin chào mình là Nghĩa        greetings   \n",
       "2  greetings                     tên t là Thảo        greetings   \n",
       "3  greetings      b có thể giúp tôi được không  outofscoreother   \n",
       "4  greetings             t cần hỏi một số việc         mainmenu   \n",
       "\n",
       "                      message_clean  \n",
       "0  chào bạn cho mình hỏi chút với ạ  \n",
       "1            xin chào mình là nghĩa  \n",
       "2                   tên tôi là thảo  \n",
       "3    bạn có thể giúp tôi được không  \n",
       "4           tôi cần hỏi một số việc  "
      ]
     },
     "execution_count": 62,
     "metadata": {},
     "output_type": "execute_result"
    }
   ],
   "source": [
    "sum_df = pd.concat([train_df, train_df_en], ignore_index=True)\n",
    "sum_df.head()"
   ]
  },
  {
   "cell_type": "code",
   "execution_count": 63,
   "id": "9e357503-b1ec-4164-a13e-a0fa5275867e",
   "metadata": {
    "tags": []
   },
   "outputs": [
    {
     "data": {
      "text/html": [
       "<div>\n",
       "<style scoped>\n",
       "    .dataframe tbody tr th:only-of-type {\n",
       "        vertical-align: middle;\n",
       "    }\n",
       "\n",
       "    .dataframe tbody tr th {\n",
       "        vertical-align: top;\n",
       "    }\n",
       "\n",
       "    .dataframe thead th {\n",
       "        text-align: right;\n",
       "    }\n",
       "</style>\n",
       "<table border=\"1\" class=\"dataframe\">\n",
       "  <thead>\n",
       "    <tr style=\"text-align: right;\">\n",
       "      <th></th>\n",
       "      <th>label</th>\n",
       "      <th>message</th>\n",
       "      <th>predict_label</th>\n",
       "      <th>message_clean</th>\n",
       "    </tr>\n",
       "  </thead>\n",
       "  <tbody>\n",
       "    <tr>\n",
       "      <th>0</th>\n",
       "      <td>greetings</td>\n",
       "      <td>chào bạn cho mình hỏi chút với ạ</td>\n",
       "      <td>greetings</td>\n",
       "      <td>chào bạn cho mình hỏi chút với ạ</td>\n",
       "    </tr>\n",
       "    <tr>\n",
       "      <th>1</th>\n",
       "      <td>greetings</td>\n",
       "      <td>xin chào mình là Nghĩa</td>\n",
       "      <td>greetings</td>\n",
       "      <td>xin chào mình là nghĩa</td>\n",
       "    </tr>\n",
       "    <tr>\n",
       "      <th>2</th>\n",
       "      <td>greetings</td>\n",
       "      <td>tên t là Thảo</td>\n",
       "      <td>greetings</td>\n",
       "      <td>tên tôi là thảo</td>\n",
       "    </tr>\n",
       "    <tr>\n",
       "      <th>3</th>\n",
       "      <td>greetings</td>\n",
       "      <td>b có thể giúp tôi được không</td>\n",
       "      <td>outofscoreother</td>\n",
       "      <td>bạn có thể giúp tôi được không</td>\n",
       "    </tr>\n",
       "    <tr>\n",
       "      <th>4</th>\n",
       "      <td>greetings</td>\n",
       "      <td>t cần hỏi một số việc</td>\n",
       "      <td>mainmenu</td>\n",
       "      <td>tôi cần hỏi một số việc</td>\n",
       "    </tr>\n",
       "    <tr>\n",
       "      <th>...</th>\n",
       "      <td>...</td>\n",
       "      <td>...</td>\n",
       "      <td>...</td>\n",
       "      <td>...</td>\n",
       "    </tr>\n",
       "    <tr>\n",
       "      <th>427</th>\n",
       "      <td>submenucomplain</td>\n",
       "      <td>NaN</td>\n",
       "      <td>NaN</td>\n",
       "      <td>You answer so badly</td>\n",
       "    </tr>\n",
       "    <tr>\n",
       "      <th>428</th>\n",
       "      <td>submenucomplain</td>\n",
       "      <td>NaN</td>\n",
       "      <td>NaN</td>\n",
       "      <td>really bad</td>\n",
       "    </tr>\n",
       "    <tr>\n",
       "      <th>429</th>\n",
       "      <td>submenucomplain</td>\n",
       "      <td>NaN</td>\n",
       "      <td>NaN</td>\n",
       "      <td>Too worse</td>\n",
       "    </tr>\n",
       "    <tr>\n",
       "      <th>430</th>\n",
       "      <td>submenucomplain</td>\n",
       "      <td>NaN</td>\n",
       "      <td>NaN</td>\n",
       "      <td>Staff attitude is unprofessional</td>\n",
       "    </tr>\n",
       "    <tr>\n",
       "      <th>431</th>\n",
       "      <td>submenucomplain</td>\n",
       "      <td>NaN</td>\n",
       "      <td>NaN</td>\n",
       "      <td>The attitude of the staff is too bad</td>\n",
       "    </tr>\n",
       "  </tbody>\n",
       "</table>\n",
       "<p>432 rows × 4 columns</p>\n",
       "</div>"
      ],
      "text/plain": [
       "               label                           message    predict_label  \\\n",
       "0          greetings  chào bạn cho mình hỏi chút với ạ        greetings   \n",
       "1          greetings            xin chào mình là Nghĩa        greetings   \n",
       "2          greetings                     tên t là Thảo        greetings   \n",
       "3          greetings      b có thể giúp tôi được không  outofscoreother   \n",
       "4          greetings             t cần hỏi một số việc         mainmenu   \n",
       "..               ...                               ...              ...   \n",
       "427  submenucomplain                               NaN              NaN   \n",
       "428  submenucomplain                               NaN              NaN   \n",
       "429  submenucomplain                               NaN              NaN   \n",
       "430  submenucomplain                               NaN              NaN   \n",
       "431  submenucomplain                               NaN              NaN   \n",
       "\n",
       "                            message_clean  \n",
       "0        chào bạn cho mình hỏi chút với ạ  \n",
       "1                  xin chào mình là nghĩa  \n",
       "2                         tên tôi là thảo  \n",
       "3          bạn có thể giúp tôi được không  \n",
       "4                 tôi cần hỏi một số việc  \n",
       "..                                    ...  \n",
       "427                   You answer so badly  \n",
       "428                            really bad  \n",
       "429                             Too worse  \n",
       "430      Staff attitude is unprofessional  \n",
       "431  The attitude of the staff is too bad  \n",
       "\n",
       "[432 rows x 4 columns]"
      ]
     },
     "execution_count": 63,
     "metadata": {},
     "output_type": "execute_result"
    }
   ],
   "source": [
    "sum_df"
   ]
  },
  {
   "cell_type": "code",
   "execution_count": 64,
   "id": "5391b841-d4b2-4bde-9845-50a8acfec500",
   "metadata": {
    "tags": []
   },
   "outputs": [],
   "source": [
    "sum_df.to_csv('./data/test_multi.csv', index = False)"
   ]
  },
  {
   "cell_type": "markdown",
   "id": "2428ac11-da8e-4a98-80ca-254873e1ecb7",
   "metadata": {
    "tags": []
   },
   "source": [
    "## Test data"
   ]
  },
  {
   "cell_type": "code",
   "execution_count": 1,
   "id": "a32f6f6e-f998-4a60-9ddd-e53a5df88b13",
   "metadata": {
    "tags": []
   },
   "outputs": [],
   "source": [
    "import yaml"
   ]
  },
  {
   "cell_type": "code",
   "execution_count": 40,
   "id": "787db0a1-4d02-49a9-a293-1158fbd85ceb",
   "metadata": {
    "tags": []
   },
   "outputs": [],
   "source": [
    "import matplotlib.pyplot as plt"
   ]
  },
  {
   "cell_type": "code",
   "execution_count": 4,
   "id": "fec658c1-de2c-40e2-a46e-0f143e342e68",
   "metadata": {
    "tags": []
   },
   "outputs": [],
   "source": [
    "with open('./data/nlu.yml') as file:\n",
    "    docs = yaml.load(file, Loader=yaml.FullLoader)\n",
    "    \n",
    "# print(docs)"
   ]
  },
  {
   "cell_type": "code",
   "execution_count": 12,
   "id": "11e3531f-5566-4ff2-ade5-5b74832d88d5",
   "metadata": {
    "tags": []
   },
   "outputs": [
    {
     "data": {
      "text/plain": [
       "['greetings',\n",
       " 'goodbye',\n",
       " 'thanks',\n",
       " 'affirm',\n",
       " 'deny',\n",
       " 'moodgreat',\n",
       " 'mainmenu',\n",
       " 'submenuthongtin',\n",
       " 'submenuthongtinID',\n",
       " 'submenuthongtinemailphone',\n",
       " 'submenubieuphi',\n",
       " 'submenucomplain',\n",
       " 'submenulienhetuvan',\n",
       " 'branchlocation',\n",
       " 'cardproductmainmenu',\n",
       " 'cardproductdangkythe',\n",
       " 'cardproductkhuyenmai',\n",
       " 'cardproductkiemtrahoso',\n",
       " 'cardproductkiemtragiaonhan',\n",
       " 'outofscorenonvietnamese',\n",
       " 'outofscoreother']"
      ]
     },
     "execution_count": 12,
     "metadata": {},
     "output_type": "execute_result"
    }
   ],
   "source": [
    "intents = [d['intent'] for d in docs['nlu']]\n",
    "intents"
   ]
  },
  {
   "cell_type": "code",
   "execution_count": 201,
   "id": "6b7497ae-e541-4163-8ce3-6680e6715f28",
   "metadata": {
    "tags": []
   },
   "outputs": [
    {
     "data": {
      "text/plain": [
       "21"
      ]
     },
     "execution_count": 201,
     "metadata": {},
     "output_type": "execute_result"
    }
   ],
   "source": [
    "len(intents)"
   ]
  },
  {
   "cell_type": "code",
   "execution_count": 537,
   "id": "4c201c1b-742d-4dcf-949e-07f77d90bead",
   "metadata": {
    "tags": []
   },
   "outputs": [
    {
     "data": {
      "text/plain": [
       "11"
      ]
     },
     "execution_count": 537,
     "metadata": {},
     "output_type": "execute_result"
    }
   ],
   "source": [
    "intents.index('submenucomplain')"
   ]
  },
  {
   "cell_type": "code",
   "execution_count": 39,
   "id": "e16e5937-da0d-4d53-ad25-bb4167777dfd",
   "metadata": {
    "tags": []
   },
   "outputs": [],
   "source": [
    "total_data_train = [ len(d['examples'].split('\\n')) for d in docs['nlu'] ]"
   ]
  },
  {
   "cell_type": "code",
   "execution_count": 446,
   "id": "b93cf878-4253-4a7e-b65d-d94a5771ac38",
   "metadata": {
    "tags": []
   },
   "outputs": [
    {
     "data": {
      "text/plain": [
       "881"
      ]
     },
     "execution_count": 446,
     "metadata": {},
     "output_type": "execute_result"
    }
   ],
   "source": [
    "import numpy as np\n",
    "np.array(total_data_train).sum()"
   ]
  },
  {
   "cell_type": "code",
   "execution_count": 59,
   "id": "b7c38637-30b2-425c-a56f-53c75db29634",
   "metadata": {
    "tags": []
   },
   "outputs": [
    {
     "data": {
      "image/png": "[encoded data removed]",
      "text/plain": [
       "<Figure size 1500x1000 with 1 Axes>"
      ]
     },
     "metadata": {},
     "output_type": "display_data"
    }
   ],
   "source": [
    "plt.figure(figsize=(15, 10))\n",
    "plt.xticks(rotation=45)\n",
    "plt.bar(intents, total_data_train)\n",
    "\n",
    "for i, v in enumerate(total_data_train):\n",
    "    plt.text(i, v, str(v), ha='center', va='bottom')"
   ]
  },
  {
   "cell_type": "code",
   "execution_count": 544,
   "id": "d4631582-744e-4b07-9b29-cf2763b40f69",
   "metadata": {
    "tags": []
   },
   "outputs": [
    {
     "name": "stdout",
     "output_type": "stream",
     "text": [
      "submenucomplain\n",
      "35\n"
     ]
    },
    {
     "data": {
      "text/plain": [
       "['- Ngân hàng làm ăn chán thế',\n",
       " '- Chăm sóc khách hàng tệ quá',\n",
       " '- Tôi thấy chưa ok đâu',\n",
       " '- Cảm giác không ổn lắm',\n",
       " '- Có ai giải quyết ok không',\n",
       " '- Tôi muốn khiếu nại',\n",
       " '- Dịch vụ bên mình chưa được',\n",
       " '- Trải nghiệm không tốt',\n",
       " '- Tôi chưa hài lòng cách phục vụ của ngân hàng',\n",
       " '- Tôi thấy có một số vấn đề',\n",
       " '- App chán thế',\n",
       " '- Tệ thật',\n",
       " '- app tệ thế',\n",
       " '- tại sao tài khoản tôi bị trừ tiền vô lý',\n",
       " '- tôi bị trừ tiền ở tài khoản',\n",
       " '- tài khoản của mình bị mất tiền vô lý',\n",
       " '- t bị mất tiền trong tài khoản',\n",
       " '- dịch vụ bên bạn quá tệ',\n",
       " '- dịch vụ tệ quá đi',\n",
       " '- tư vấn quá chán']"
      ]
     },
     "execution_count": 544,
     "metadata": {},
     "output_type": "execute_result"
    }
   ],
   "source": [
    "idx = 11\n",
    "print(docs['nlu'][idx]['intent'])\n",
    "print(len(docs['nlu'][idx]['examples'].split('\\n')))\n",
    "docs['nlu'][idx]['examples'].split('\\n')[:20]"
   ]
  },
  {
   "cell_type": "code",
   "execution_count": 545,
   "id": "159304f0-105e-402a-89e5-a927d0c86557",
   "metadata": {
    "tags": []
   },
   "outputs": [
    {
     "data": {
      "text/plain": [
       "['Ngân hàng làm ăn chán thế',\n",
       " 'Chăm sóc khách hàng tệ quá',\n",
       " 'Tôi thấy chưa ok đâu',\n",
       " 'Cảm giác không ổn lắm',\n",
       " 'Có ai giải quyết ok không',\n",
       " 'Tôi muốn khiếu nại',\n",
       " 'Dịch vụ bên mình chưa được',\n",
       " 'Trải nghiệm không tốt',\n",
       " 'Tôi chưa hài lòng cách phục vụ của ngân hàng',\n",
       " 'Tôi thấy có một số vấn đề',\n",
       " 'App chán thế',\n",
       " 'Tệ thật',\n",
       " 'app tệ thế',\n",
       " 'tại sao tài khoản tôi bị trừ tiền vô lý',\n",
       " 'tôi bị trừ tiền ở tài khoản',\n",
       " 'tài khoản của mình bị mất tiền vô lý',\n",
       " 't bị mất tiền trong tài khoản',\n",
       " 'dịch vụ bên bạn quá tệ',\n",
       " 'dịch vụ tệ quá đi',\n",
       " 'tư vấn quá chán',\n",
       " 'làm ăn bát nháo',\n",
       " 'làm ăn vớ vẩn',\n",
       " 'khó chịu',\n",
       " 'vớ vẩn',\n",
       " 'dịch vụ gì mà đắt quá',\n",
       " 'dịch vụ gì đắt thế',\n",
       " 'chờ hơi lâu rồi đấy',\n",
       " 'mình chưa nhận được tư vấn',\n",
       " 'tư vấn viên trả lời trễ quá ạ',\n",
       " 'mình ko hài lòng thái độ nhân viên',\n",
       " 'mình không hài lòng sản phẩm vib',\n",
       " 'đơn giản thế không biết',\n",
       " 'bot ngu',\n",
       " 'điên',\n",
       " '']"
      ]
     },
     "execution_count": 545,
     "metadata": {},
     "output_type": "execute_result"
    }
   ],
   "source": [
    "strip_list = [doc.strip('- ') for doc in docs['nlu'][idx]['examples'].split('\\n')]\n",
    "strip_list"
   ]
  },
  {
   "cell_type": "code",
   "execution_count": 546,
   "id": "9b344769-20d9-4d27-82d9-04f4db68778d",
   "metadata": {
    "tags": []
   },
   "outputs": [],
   "source": [
    "new_list = []"
   ]
  },
  {
   "cell_type": "code",
   "execution_count": 556,
   "id": "af79a047-a9b3-4c1e-9124-79693b085506",
   "metadata": {
    "tags": []
   },
   "outputs": [
    {
     "name": "stdout",
     "output_type": "stream",
     "text": [
      "10\n"
     ]
    }
   ],
   "source": [
    "text = 'thái độ của nhân viên quá tệ'\n",
    "if text not in strip_list:\n",
    "    new_list.append(text)\n",
    "    strip_list.append(text)\n",
    "    print(len(new_list))"
   ]
  },
  {
   "cell_type": "code",
   "execution_count": 559,
   "id": "cb05b6b5-b757-4d12-a344-a2fb4bbd30df",
   "metadata": {
    "tags": []
   },
   "outputs": [],
   "source": [
    "import json\n",
    "with open('./data/test.json', 'w', encoding=\"utf-8\") as f:\n",
    "    json.dump(test_dict, f, ensure_ascii=False)"
   ]
  },
  {
   "cell_type": "code",
   "execution_count": 521,
   "id": "2fd58b03-3664-4213-8095-3cc2e6b1b8ae",
   "metadata": {
    "tags": []
   },
   "outputs": [],
   "source": [
    "import json\n",
    "with open('./data/test.json', 'r', encoding=\"utf-8\") as f:\n",
    "    t = json.load(f)  # parse the contents using json.loads()"
   ]
  },
  {
   "cell_type": "code",
   "execution_count": 523,
   "id": "faab2877-8589-4b55-ad78-7ae9730aa6d0",
   "metadata": {
    "tags": []
   },
   "outputs": [],
   "source": [
    "# t"
   ]
  },
  {
   "cell_type": "code",
   "execution_count": 558,
   "id": "2dd6dbfe-4c9f-488a-b131-a8fd8a7ce61f",
   "metadata": {
    "tags": []
   },
   "outputs": [
    {
     "data": {
      "text/plain": [
       "{'greetings': ['chào bạn cho mình hỏi chút với ạ',\n",
       "  'xin chào mình là Nghĩa',\n",
       "  'tên t là Thảo',\n",
       "  'b có thể giúp tôi được không',\n",
       "  't cần hỏi một số việc',\n",
       "  'xin chào bạn có thể giúp tôi một số việc được không',\n",
       "  'B cho mình hỏi với',\n",
       "  'bạn cho mình hỏi với',\n",
       "  'xin chào b có thể giúp t được không',\n",
       "  'mình hỏi chút',\n",
       "  't hỏi với',\n",
       "  'xin chào nice to meet you',\n",
       "  'nice to meet you',\n",
       "  'Hello b',\n",
       "  'Hello bạn',\n",
       "  'Hi bạn',\n",
       "  'trò chuyện nhé',\n",
       "  'dở tệ'],\n",
       " 'goodbye': ['oke bai bai nhé',\n",
       "  'mình có việc rồi',\n",
       "  'tạm biệt nhé',\n",
       "  'hẹn gặp lại',\n",
       "  'gặp lại sau nhé',\n",
       "  'bai',\n",
       "  'oke gút bai',\n",
       "  'tạm biệt nhé t có việc phải đi rồi',\n",
       "  'oke hẹn gặp lại bot',\n",
       "  'thôi thế nhé',\n",
       "  't có việc mất rồi hẹn gặp lại c',\n",
       "  'bye'],\n",
       " 'thanks': ['oke mình cảm ơn nhé',\n",
       "  'oke t cảm ơn nhé',\n",
       "  'oke thanks',\n",
       "  'thank kiu',\n",
       "  'thank kiu bạn nha',\n",
       "  'mình cảm ơn nha',\n",
       "  't cảm ơn nha',\n",
       "  't cảm ơn nhé',\n",
       "  'oke cảm ơn b',\n",
       "  'okay t cảm ơn',\n",
       "  'cảm ơn',\n",
       "  'cảm ơn nha'],\n",
       " 'affirm': ['ừ đúng rồi',\n",
       "  'oke',\n",
       "  'okay',\n",
       "  'ừm đúng vậy',\n",
       "  'ừ đúng',\n",
       "  'Ừ',\n",
       "  'Ừ b',\n",
       "  'đúng rồi b',\n",
       "  'oke đúng rồi',\n",
       "  'oke nha',\n",
       "  'vậy là oke rồi',\n",
       "  'oke chuẩn rồi'],\n",
       " 'deny': ['không được đâu',\n",
       "  'tôi không cho b được',\n",
       "  'k thể như thế được',\n",
       "  'không đc đâu',\n",
       "  't không chấp nhận',\n",
       "  'tôi không muốn',\n",
       "  'tôi k muốn',\n",
       "  'tôi k thích',\n",
       "  'tôi k cho b được',\n",
       "  'hủy đi',\n",
       "  't không cho'],\n",
       " 'moodgreat': ['thật tuyệt vời',\n",
       "  'oke tuyệt',\n",
       "  'good job',\n",
       "  'tôi ổn',\n",
       "  'chưa bao giờ tuyệt vời hơn',\n",
       "  'hôm nay là ngày tuyệt vời',\n",
       "  'chúc bạn ngày mới tuyệt vời',\n",
       "  'tuyệt lắm',\n",
       "  '10 điểm xuất sắc đấy',\n",
       "  't rất khỏe',\n",
       "  'rất tuyệt vời'],\n",
       " 'mainmenu': ['t dùng rồi',\n",
       "  't đã dùng rồi',\n",
       "  'đã có rồi',\n",
       "  't muốn hỏi một số thông tin',\n",
       "  't muốn làm một số thủ tục',\n",
       "  'mình muốn xem một số thông tin',\n",
       "  't muốn xem một số thông tin',\n",
       "  'cho t xem một số thông tin',\n",
       "  'đã dùng rồi',\n",
       "  't muốn hỏi một số thủ tục',\n",
       "  'làm cho t một số thủ tục'],\n",
       " 'submenuthongtin': ['t muốn thay đổi thông tin',\n",
       "  'tôi muốn thay đổi thông tin',\n",
       "  'muốn cập nhật thông tin thì làm như thế nào được nhỉ',\n",
       "  'muốn sửa thông tin thì làm cách nào b',\n",
       "  'b hướng dẫn tôi cách sửa thông tin cá nhân được không',\n",
       "  't muốn cập nhật thông tin của mình',\n",
       "  't muốn cập nhật SDT của mình',\n",
       "  't muốn cập nhật số điện thoại của mình',\n",
       "  't muốn sửa số điện thoại của mình',\n",
       "  't muốn thay đổi điện thoại của mình',\n",
       "  't muốn thay đổi họ tên của mình',\n",
       "  'thay đổi họ tên thì làm như thế nào',\n",
       "  'thay đổi thông tin của tôi thì làm như thế nào',\n",
       "  't cần thay đổi thông tin cá nhân',\n",
       "  'thay đổi thông tin cá nhân'],\n",
       " 'submenuthongtinID': ['chứng minh thư',\n",
       "  'đổi chứng minh thư',\n",
       "  'thay đổi chứng minh thư',\n",
       "  'cập nhật chứng minh thư',\n",
       "  'sửa chứng minh thư',\n",
       "  'sửa CMT',\n",
       "  'sửa cmt',\n",
       "  'sửa cmnd',\n",
       "  'sửa cccd',\n",
       "  't muốn đổi cccd',\n",
       "  't muốn sửa số cccd',\n",
       "  't muốn thay đổi cccd',\n",
       "  't bị điền sai cccd',\n",
       "  't bị điền sai CMT'],\n",
       " 'submenuthongtinemailphone': ['đổi email',\n",
       "  't điền sai email',\n",
       "  't muốn thay đổi email',\n",
       "  'tôi muốn cập nhật lại email',\n",
       "  'email của tôi bị sai',\n",
       "  'SDT',\n",
       "  'số điện thoại',\n",
       "  'sửa sdt',\n",
       "  'sửa SDT',\n",
       "  'thay đổi số điện thoại',\n",
       "  'cập nhật số điện thoại',\n",
       "  'tôi muốn sửa số điện thoại',\n",
       "  'tôi muốn sửa SDT',\n",
       "  'tôi muốn sửa thông tin email',\n",
       "  'đổi sdt thì làm như nào',\n",
       "  'đổi email thì làm như nào'],\n",
       " 'submenubieuphi': ['phí ntn',\n",
       "  'giá ntn',\n",
       "  't xin phí cấp thẻ',\n",
       "  'c cho t xin phí cấp thẻ',\n",
       "  'biểu phí như nào',\n",
       "  'chuyển tiền có mất phí k',\n",
       "  'phí làm thẻ như thế nào',\n",
       "  'thẻ tín dụng mất phí là bao nhiêu',\n",
       "  'giá phí',\n",
       "  'phí làm thẻ như thế nào ạ',\n",
       "  'phí làm thẻ ntn ạ',\n",
       "  'phí làm thẻ bn ạ'],\n",
       " 'submenulienhetuvan': ['tôi cần hỗ trợ tư vấn',\n",
       "  'tôi muốn liên hệ tổng đài',\n",
       "  'liên hệ tổng đài',\n",
       "  'tổng đài tư vấn online',\n",
       "  'hotline tư vấn',\n",
       "  'liên hệ với hotline tư vấn',\n",
       "  'cần nhân viên tư vấn',\n",
       "  'liên hệ nhân viên tư vấn',\n",
       "  'gọi nhân viên tư vấn',\n",
       "  'hỗ trợ tư vấn',\n",
       "  'gặp nhân viên tư vấn',\n",
       "  'gọi tư vấn trực tiếp'],\n",
       " 'branchlocation': ['chi nhánh gần nhất',\n",
       "  'địa chỉ các chi nhánh',\n",
       "  'địa chỉ gần t',\n",
       "  'đ chỉ gấn tôi',\n",
       "  'chi nhánh ở Hà Nội',\n",
       "  'chi nhánh ở Sài Gòn',\n",
       "  'địa chỉ giao dịch',\n",
       "  'địa chỉ atm ở Hà Nội',\n",
       "  'phòng giao dịch gấn tôi',\n",
       "  'cơ sở gần tôi',\n",
       "  'trụ sở gần tôi ở Hà Nội',\n",
       "  'chi nhánh khu vực Thanh Xuân'],\n",
       " 'cardproductmainmenu': ['có những loại thẻ nào',\n",
       "  'dịch vụ thẻ bên mình ntn',\n",
       "  'tư vấn dịch vụ thẻ',\n",
       "  'tư vấn các loại thẻ',\n",
       "  'cần thẻ để rút tiền',\n",
       "  'cần thẻ để thanh toán',\n",
       "  'thông tin các thẻ',\n",
       "  'có những thẻ gì để đăng kí',\n",
       "  't cần thông tin về dịch vụ thẻ',\n",
       "  't cần thông tin về các thẻ',\n",
       "  'mình hỗ trợ sản phẩm gì',\n",
       "  'có những sản phẩm nào'],\n",
       " 'cardproductdangkythe': ['mở thẻ atm',\n",
       "  't muốn mở thẻ atm',\n",
       "  't muốn mở thẻ tín dụng',\n",
       "  'làm thẻ',\n",
       "  'đăng kí mở thẻ',\n",
       "  'đăng kí thẻ',\n",
       "  'mở thẻ ghi nợ',\n",
       "  'đăng kí thẻ credit card',\n",
       "  'đăng kí thẻ debit',\n",
       "  'đăng kí thẻ visa',\n",
       "  'làm thẻ mastercard'],\n",
       " 'cardproductkhuyenmai': ['có khuyến mãi nào k',\n",
       "  'có ct khuyến mãi nào không',\n",
       "  'có ct khuyến mại nào không',\n",
       "  'chương trình khuyến mại',\n",
       "  'chương trình khuyến mãi',\n",
       "  'ưu đãi gì mới không',\n",
       "  'chương trình ưu đãi nào mới không'],\n",
       " 'cardproductkiemtrahoso': ['xem thông tin cá nhân',\n",
       "  'kiểm tra thông tin cá nhân',\n",
       "  'thông tin cá nhân',\n",
       "  'kiểm tra hồ sơ đăng kí thẻ atm',\n",
       "  'xem hồ sơ đăng kí thẻ atm',\n",
       "  'tra hồ sơ đăng kí thẻ atm',\n",
       "  'tra hồ sơ cá nhân',\n",
       "  'hồ sơ cá nhân',\n",
       "  'kiểm tra hồ sơ đăng kí'],\n",
       " 'cardproductkiemtragiaonhan': ['tôi vẫn chưa nhận được thẻ của mình',\n",
       "  'thẻ của t vẫn chưa được giao đến',\n",
       "  'tại sao tôi vẫn chưa nhận được thẻ mới',\n",
       "  'thẻ của t vẫn chưa đc giao',\n",
       "  'theo dõi thẻ của tôi',\n",
       "  'bao lâu thẻ mới được giao',\n",
       "  'tình trạng giao thẻ hiện tại',\n",
       "  'chưa nhận được thẻ',\n",
       "  'thẻ của t vẫn chưa nhận đc',\n",
       "  'bao lâu t sẽ được nhận thẻ',\n",
       "  'nhận thẻ mới khi nào'],\n",
       " 'submenucomplain': ['dở tệ',\n",
       "  'làm ăn chán thế',\n",
       "  'chả thông minh gì',\n",
       "  'dịch vụ kém quá',\n",
       "  'app chán thật sự',\n",
       "  'bạn trả lời tệ thế',\n",
       "  'tệ thật sự',\n",
       "  'kém quá đi',\n",
       "  'thái độ nhân viên thiếu chuyên nghiệp',\n",
       "  'thái độ của nhân viên quá tệ']}"
      ]
     },
     "execution_count": 558,
     "metadata": {},
     "output_type": "execute_result"
    }
   ],
   "source": [
    "test_dict"
   ]
  },
  {
   "cell_type": "code",
   "execution_count": 557,
   "id": "cd83ead9-eaa1-48dc-bde4-3bde11648a61",
   "metadata": {
    "tags": []
   },
   "outputs": [],
   "source": [
    "test_dict['submenucomplain'] = new_list"
   ]
  },
  {
   "cell_type": "markdown",
   "id": "28a110ce-1ecd-43a9-a227-2829d4291e2d",
   "metadata": {},
   "source": [
    "## Reading file "
   ]
  },
  {
   "cell_type": "code",
   "execution_count": 118,
   "id": "a1163e6e-ed3c-4193-857a-8df953aca0fd",
   "metadata": {
    "tags": []
   },
   "outputs": [],
   "source": [
    "from tqdm import tqdm"
   ]
  },
  {
   "cell_type": "code",
   "execution_count": 120,
   "id": "35e35d11-4352-4fad-b8d2-05db4c3e2810",
   "metadata": {
    "tags": []
   },
   "outputs": [],
   "source": [
    "from tqdm.notebook import tqdm\n",
    "tqdm.pandas()"
   ]
  },
  {
   "cell_type": "code",
   "execution_count": 122,
   "id": "80f106c3-d6a0-4f75-800c-9b9c87dae4fc",
   "metadata": {
    "tags": []
   },
   "outputs": [
    {
     "data": {
      "application/vnd.jupyter.widget-view+json": {
       "model_id": "c3356d84cdf1479da00ea4c2435b822e",
       "version_major": 2,
       "version_minor": 0
      },
      "text/plain": [
       "  0%|          | 0/10003 [00:00<?, ?it/s]"
      ]
     },
     "metadata": {},
     "output_type": "display_data"
    },
    {
     "data": {
      "text/plain": [
       "0           card_arrivalhello\n",
       "1           card_arrivalhello\n",
       "2           card_arrivalhello\n",
       "3           card_arrivalhello\n",
       "4           card_arrivalhello\n",
       "                 ...         \n",
       "9998     country_supporthello\n",
       "9999     country_supporthello\n",
       "10000    country_supporthello\n",
       "10001    country_supporthello\n",
       "10002    country_supporthello\n",
       "Name: label, Length: 10003, dtype: object"
      ]
     },
     "execution_count": 122,
     "metadata": {},
     "output_type": "execute_result"
    }
   ],
   "source": [
    "df['label'].progress_apply(lambda x: x+'hello')"
   ]
  },
  {
   "cell_type": "code",
   "execution_count": 260,
   "id": "2003ea8a-0c8f-43a9-88ec-c01a1903f91d",
   "metadata": {
    "tags": []
   },
   "outputs": [
    {
     "data": {
      "text/html": [
       "<div>\n",
       "<style scoped>\n",
       "    .dataframe tbody tr th:only-of-type {\n",
       "        vertical-align: middle;\n",
       "    }\n",
       "\n",
       "    .dataframe tbody tr th {\n",
       "        vertical-align: top;\n",
       "    }\n",
       "\n",
       "    .dataframe thead th {\n",
       "        text-align: right;\n",
       "    }\n",
       "</style>\n",
       "<table border=\"1\" class=\"dataframe\">\n",
       "  <thead>\n",
       "    <tr style=\"text-align: right;\">\n",
       "      <th></th>\n",
       "      <th>Unnamed: 0</th>\n",
       "      <th>text</th>\n",
       "      <th>label</th>\n",
       "      <th>text_clean</th>\n",
       "    </tr>\n",
       "  </thead>\n",
       "  <tbody>\n",
       "    <tr>\n",
       "      <th>0</th>\n",
       "      <td>0</td>\n",
       "      <td>tư vấn giúp mình với</td>\n",
       "      <td>greetings</td>\n",
       "      <td>tư vấn giúp mình với</td>\n",
       "    </tr>\n",
       "    <tr>\n",
       "      <th>1</th>\n",
       "      <td>1</td>\n",
       "      <td>hi</td>\n",
       "      <td>greetings</td>\n",
       "      <td>hi</td>\n",
       "    </tr>\n",
       "    <tr>\n",
       "      <th>2</th>\n",
       "      <td>2</td>\n",
       "      <td>hi ad</td>\n",
       "      <td>greetings</td>\n",
       "      <td>hi ad</td>\n",
       "    </tr>\n",
       "    <tr>\n",
       "      <th>3</th>\n",
       "      <td>3</td>\n",
       "      <td>chào buổi sáng</td>\n",
       "      <td>greetings</td>\n",
       "      <td>chào buổi sáng</td>\n",
       "    </tr>\n",
       "    <tr>\n",
       "      <th>4</th>\n",
       "      <td>4</td>\n",
       "      <td>hello</td>\n",
       "      <td>greetings</td>\n",
       "      <td>hello</td>\n",
       "    </tr>\n",
       "  </tbody>\n",
       "</table>\n",
       "</div>"
      ],
      "text/plain": [
       "   Unnamed: 0                  text      label            text_clean\n",
       "0           0  tư vấn giúp mình với  greetings  tư vấn giúp mình với\n",
       "1           1                    hi  greetings                    hi\n",
       "2           2                 hi ad  greetings                 hi ad\n",
       "3           3        chào buổi sáng  greetings        chào buổi sáng\n",
       "4           4                 hello  greetings                 hello"
      ]
     },
     "execution_count": 260,
     "metadata": {},
     "output_type": "execute_result"
    }
   ],
   "source": [
    "import pandas as pd\n",
    "\n",
    "df = pd.read_csv('./data/train_v2.csv')\n",
    "df.head()"
   ]
  },
  {
   "cell_type": "code",
   "execution_count": 161,
   "id": "a57ae3f5-8c00-4d03-84ce-3758e9fb26fb",
   "metadata": {
    "tags": []
   },
   "outputs": [],
   "source": [
    "df_en = df.iloc[227:]"
   ]
  },
  {
   "cell_type": "code",
   "execution_count": 162,
   "id": "9ceacaf1-7672-416d-9193-adc818e8001a",
   "metadata": {
    "tags": []
   },
   "outputs": [],
   "source": [
    "df = df.iloc[:227]"
   ]
  },
  {
   "cell_type": "code",
   "execution_count": 163,
   "id": "b348650d-3806-445e-b199-cb45dd65e4a8",
   "metadata": {
    "tags": []
   },
   "outputs": [
    {
     "data": {
      "text/html": [
       "<div>\n",
       "<style scoped>\n",
       "    .dataframe tbody tr th:only-of-type {\n",
       "        vertical-align: middle;\n",
       "    }\n",
       "\n",
       "    .dataframe tbody tr th {\n",
       "        vertical-align: top;\n",
       "    }\n",
       "\n",
       "    .dataframe thead th {\n",
       "        text-align: right;\n",
       "    }\n",
       "</style>\n",
       "<table border=\"1\" class=\"dataframe\">\n",
       "  <thead>\n",
       "    <tr style=\"text-align: right;\">\n",
       "      <th></th>\n",
       "      <th>label</th>\n",
       "      <th>message</th>\n",
       "      <th>predict_label</th>\n",
       "      <th>message_clean</th>\n",
       "    </tr>\n",
       "  </thead>\n",
       "  <tbody>\n",
       "    <tr>\n",
       "      <th>227</th>\n",
       "      <td>greetings</td>\n",
       "      <td>NaN</td>\n",
       "      <td>NaN</td>\n",
       "      <td>Hi, let me ask you</td>\n",
       "    </tr>\n",
       "    <tr>\n",
       "      <th>228</th>\n",
       "      <td>greetings</td>\n",
       "      <td>NaN</td>\n",
       "      <td>NaN</td>\n",
       "      <td>Hello I mean</td>\n",
       "    </tr>\n",
       "    <tr>\n",
       "      <th>229</th>\n",
       "      <td>greetings</td>\n",
       "      <td>NaN</td>\n",
       "      <td>NaN</td>\n",
       "      <td>my name is Thao</td>\n",
       "    </tr>\n",
       "    <tr>\n",
       "      <th>230</th>\n",
       "      <td>greetings</td>\n",
       "      <td>NaN</td>\n",
       "      <td>NaN</td>\n",
       "      <td>Can you help me</td>\n",
       "    </tr>\n",
       "    <tr>\n",
       "      <th>231</th>\n",
       "      <td>greetings</td>\n",
       "      <td>NaN</td>\n",
       "      <td>NaN</td>\n",
       "      <td>I need to ask some things</td>\n",
       "    </tr>\n",
       "    <tr>\n",
       "      <th>...</th>\n",
       "      <td>...</td>\n",
       "      <td>...</td>\n",
       "      <td>...</td>\n",
       "      <td>...</td>\n",
       "    </tr>\n",
       "    <tr>\n",
       "      <th>427</th>\n",
       "      <td>submenucomplain</td>\n",
       "      <td>NaN</td>\n",
       "      <td>NaN</td>\n",
       "      <td>You answer so badly</td>\n",
       "    </tr>\n",
       "    <tr>\n",
       "      <th>428</th>\n",
       "      <td>submenucomplain</td>\n",
       "      <td>NaN</td>\n",
       "      <td>NaN</td>\n",
       "      <td>really bad</td>\n",
       "    </tr>\n",
       "    <tr>\n",
       "      <th>429</th>\n",
       "      <td>submenucomplain</td>\n",
       "      <td>NaN</td>\n",
       "      <td>NaN</td>\n",
       "      <td>Too worse</td>\n",
       "    </tr>\n",
       "    <tr>\n",
       "      <th>430</th>\n",
       "      <td>submenucomplain</td>\n",
       "      <td>NaN</td>\n",
       "      <td>NaN</td>\n",
       "      <td>Staff attitude is unprofessional</td>\n",
       "    </tr>\n",
       "    <tr>\n",
       "      <th>431</th>\n",
       "      <td>submenucomplain</td>\n",
       "      <td>NaN</td>\n",
       "      <td>NaN</td>\n",
       "      <td>The attitude of the staff is too bad</td>\n",
       "    </tr>\n",
       "  </tbody>\n",
       "</table>\n",
       "<p>205 rows × 4 columns</p>\n",
       "</div>"
      ],
      "text/plain": [
       "               label message predict_label  \\\n",
       "227        greetings     NaN           NaN   \n",
       "228        greetings     NaN           NaN   \n",
       "229        greetings     NaN           NaN   \n",
       "230        greetings     NaN           NaN   \n",
       "231        greetings     NaN           NaN   \n",
       "..               ...     ...           ...   \n",
       "427  submenucomplain     NaN           NaN   \n",
       "428  submenucomplain     NaN           NaN   \n",
       "429  submenucomplain     NaN           NaN   \n",
       "430  submenucomplain     NaN           NaN   \n",
       "431  submenucomplain     NaN           NaN   \n",
       "\n",
       "                            message_clean  \n",
       "227                    Hi, let me ask you  \n",
       "228                          Hello I mean  \n",
       "229                       my name is Thao  \n",
       "230                       Can you help me  \n",
       "231             I need to ask some things  \n",
       "..                                    ...  \n",
       "427                   You answer so badly  \n",
       "428                            really bad  \n",
       "429                             Too worse  \n",
       "430      Staff attitude is unprofessional  \n",
       "431  The attitude of the staff is too bad  \n",
       "\n",
       "[205 rows x 4 columns]"
      ]
     },
     "execution_count": 163,
     "metadata": {},
     "output_type": "execute_result"
    }
   ],
   "source": [
    "df_en"
   ]
  },
  {
   "cell_type": "code",
   "execution_count": 264,
   "id": "ad248e52-adb8-4721-a3f0-b867afca1657",
   "metadata": {
    "tags": []
   },
   "outputs": [
    {
     "data": {
      "text/plain": [
       "'cardproductmainmenu'"
      ]
     },
     "execution_count": 264,
     "metadata": {},
     "output_type": "execute_result"
    }
   ],
   "source": [
    "idx = 14\n",
    "df['label'].unique()[idx]"
   ]
  },
  {
   "cell_type": "code",
   "execution_count": 265,
   "id": "b8280144-3bc3-44cb-8caf-50f1065268af",
   "metadata": {
    "tags": []
   },
   "outputs": [],
   "source": [
    "l = df['label'].unique()[idx]"
   ]
  },
  {
   "cell_type": "code",
   "execution_count": 266,
   "id": "b164bf8e-7577-43f6-82de-15b9dbaefcfd",
   "metadata": {
    "tags": []
   },
   "outputs": [
    {
     "data": {
      "text/html": [
       "<div>\n",
       "<style scoped>\n",
       "    .dataframe tbody tr th:only-of-type {\n",
       "        vertical-align: middle;\n",
       "    }\n",
       "\n",
       "    .dataframe tbody tr th {\n",
       "        vertical-align: top;\n",
       "    }\n",
       "\n",
       "    .dataframe thead th {\n",
       "        text-align: right;\n",
       "    }\n",
       "</style>\n",
       "<table border=\"1\" class=\"dataframe\">\n",
       "  <thead>\n",
       "    <tr style=\"text-align: right;\">\n",
       "      <th></th>\n",
       "      <th>Unnamed: 0</th>\n",
       "      <th>text</th>\n",
       "      <th>label</th>\n",
       "      <th>text_clean</th>\n",
       "    </tr>\n",
       "  </thead>\n",
       "  <tbody>\n",
       "    <tr>\n",
       "      <th>372</th>\n",
       "      <td>386</td>\n",
       "      <td>Tôi muốn tìm thông tin về sản phẩm thẻ tín dụng</td>\n",
       "      <td>cardproductmainmenu</td>\n",
       "      <td>tôi muốn tìm thông tin về sản phẩm thẻ tín dụng</td>\n",
       "    </tr>\n",
       "    <tr>\n",
       "      <th>373</th>\n",
       "      <td>387</td>\n",
       "      <td>Tôi đang tìm hiểu về sản phẩm thẻ tín dụng</td>\n",
       "      <td>cardproductmainmenu</td>\n",
       "      <td>tôi đang tìm hiểu về sản phẩm thẻ tín dụng</td>\n",
       "    </tr>\n",
       "    <tr>\n",
       "      <th>374</th>\n",
       "      <td>388</td>\n",
       "      <td>Thông tin thẻ tín dụng</td>\n",
       "      <td>cardproductmainmenu</td>\n",
       "      <td>thông tin thẻ tín dụng</td>\n",
       "    </tr>\n",
       "    <tr>\n",
       "      <th>375</th>\n",
       "      <td>389</td>\n",
       "      <td>thông tin về các loại thẻ VIB</td>\n",
       "      <td>cardproductmainmenu</td>\n",
       "      <td>thông tin về các loại thẻ vib</td>\n",
       "    </tr>\n",
       "    <tr>\n",
       "      <th>376</th>\n",
       "      <td>390</td>\n",
       "      <td>thông tin về thẻ</td>\n",
       "      <td>cardproductmainmenu</td>\n",
       "      <td>thông tin về thẻ</td>\n",
       "    </tr>\n",
       "    <tr>\n",
       "      <th>377</th>\n",
       "      <td>391</td>\n",
       "      <td>nội chung chung của thẻ</td>\n",
       "      <td>cardproductmainmenu</td>\n",
       "      <td>nội chung chung của thẻ</td>\n",
       "    </tr>\n",
       "    <tr>\n",
       "      <th>378</th>\n",
       "      <td>392</td>\n",
       "      <td>thông tin chung của thẻ</td>\n",
       "      <td>cardproductmainmenu</td>\n",
       "      <td>thông tin chung của thẻ</td>\n",
       "    </tr>\n",
       "    <tr>\n",
       "      <th>379</th>\n",
       "      <td>393</td>\n",
       "      <td>thông tin chung thẻ VIB</td>\n",
       "      <td>cardproductmainmenu</td>\n",
       "      <td>thông tin chung thẻ vib</td>\n",
       "    </tr>\n",
       "    <tr>\n",
       "      <th>380</th>\n",
       "      <td>394</td>\n",
       "      <td>thẻ tín dụng</td>\n",
       "      <td>cardproductmainmenu</td>\n",
       "      <td>thẻ tín dụng</td>\n",
       "    </tr>\n",
       "    <tr>\n",
       "      <th>381</th>\n",
       "      <td>395</td>\n",
       "      <td>mở tiết kiệm</td>\n",
       "      <td>cardproductmainmenu</td>\n",
       "      <td>mở tiết kiệm</td>\n",
       "    </tr>\n",
       "    <tr>\n",
       "      <th>382</th>\n",
       "      <td>396</td>\n",
       "      <td>tiết kiệm</td>\n",
       "      <td>cardproductmainmenu</td>\n",
       "      <td>tiết kiệm</td>\n",
       "    </tr>\n",
       "    <tr>\n",
       "      <th>383</th>\n",
       "      <td>397</td>\n",
       "      <td>tín dụng</td>\n",
       "      <td>cardproductmainmenu</td>\n",
       "      <td>tín dụng</td>\n",
       "    </tr>\n",
       "    <tr>\n",
       "      <th>384</th>\n",
       "      <td>398</td>\n",
       "      <td>thẻ ghi nợ</td>\n",
       "      <td>cardproductmainmenu</td>\n",
       "      <td>thẻ ghi nợ</td>\n",
       "    </tr>\n",
       "    <tr>\n",
       "      <th>385</th>\n",
       "      <td>399</td>\n",
       "      <td>ghi nợ</td>\n",
       "      <td>cardproductmainmenu</td>\n",
       "      <td>ghi nợ</td>\n",
       "    </tr>\n",
       "    <tr>\n",
       "      <th>386</th>\n",
       "      <td>400</td>\n",
       "      <td>thẻ visa</td>\n",
       "      <td>cardproductmainmenu</td>\n",
       "      <td>thẻ visa</td>\n",
       "    </tr>\n",
       "    <tr>\n",
       "      <th>387</th>\n",
       "      <td>401</td>\n",
       "      <td>thẻ visa debit</td>\n",
       "      <td>cardproductmainmenu</td>\n",
       "      <td>thẻ visa debit</td>\n",
       "    </tr>\n",
       "    <tr>\n",
       "      <th>388</th>\n",
       "      <td>402</td>\n",
       "      <td>Tôi muốn hỏi về thẻ</td>\n",
       "      <td>cardproductmainmenu</td>\n",
       "      <td>tôi muốn hỏi về thẻ</td>\n",
       "    </tr>\n",
       "    <tr>\n",
       "      <th>389</th>\n",
       "      <td>403</td>\n",
       "      <td>Thẻ</td>\n",
       "      <td>cardproductmainmenu</td>\n",
       "      <td>thẻ</td>\n",
       "    </tr>\n",
       "    <tr>\n",
       "      <th>390</th>\n",
       "      <td>404</td>\n",
       "      <td>thẻ atm ạ</td>\n",
       "      <td>cardproductmainmenu</td>\n",
       "      <td>thẻ atm ạ</td>\n",
       "    </tr>\n",
       "    <tr>\n",
       "      <th>391</th>\n",
       "      <td>405</td>\n",
       "      <td>Bên mình có các loại thẻ nào</td>\n",
       "      <td>cardproductmainmenu</td>\n",
       "      <td>bên mình có các loại thẻ nào</td>\n",
       "    </tr>\n",
       "    <tr>\n",
       "      <th>392</th>\n",
       "      <td>406</td>\n",
       "      <td>Bên bạn có những thẻ gì</td>\n",
       "      <td>cardproductmainmenu</td>\n",
       "      <td>bên bạn có những thẻ gì</td>\n",
       "    </tr>\n",
       "    <tr>\n",
       "      <th>393</th>\n",
       "      <td>407</td>\n",
       "      <td>Tôi cần thẻ để giao dịch</td>\n",
       "      <td>cardproductmainmenu</td>\n",
       "      <td>tôi cần thẻ để giao dịch</td>\n",
       "    </tr>\n",
       "    <tr>\n",
       "      <th>394</th>\n",
       "      <td>408</td>\n",
       "      <td>Mình đang tìm hiểu về thẻ VIB</td>\n",
       "      <td>cardproductmainmenu</td>\n",
       "      <td>mình đang tìm hiểu về thẻ vib</td>\n",
       "    </tr>\n",
       "    <tr>\n",
       "      <th>395</th>\n",
       "      <td>409</td>\n",
       "      <td>Mình chưa có thẻ VIB</td>\n",
       "      <td>cardproductmainmenu</td>\n",
       "      <td>mình chưa có thẻ vib</td>\n",
       "    </tr>\n",
       "    <tr>\n",
       "      <th>396</th>\n",
       "      <td>410</td>\n",
       "      <td>dịch vụ bên bạn có những gì</td>\n",
       "      <td>cardproductmainmenu</td>\n",
       "      <td>dịch vụ bên bạn có những gì</td>\n",
       "    </tr>\n",
       "    <tr>\n",
       "      <th>397</th>\n",
       "      <td>411</td>\n",
       "      <td>hỏi dịch vụ</td>\n",
       "      <td>cardproductmainmenu</td>\n",
       "      <td>hỏi dịch vụ</td>\n",
       "    </tr>\n",
       "    <tr>\n",
       "      <th>398</th>\n",
       "      <td>412</td>\n",
       "      <td>dịch vụ</td>\n",
       "      <td>cardproductmainmenu</td>\n",
       "      <td>dịch vụ</td>\n",
       "    </tr>\n",
       "    <tr>\n",
       "      <th>399</th>\n",
       "      <td>413</td>\n",
       "      <td>tôi muốn tham khảo dịch vụ</td>\n",
       "      <td>cardproductmainmenu</td>\n",
       "      <td>tôi muốn tham khảo dịch vụ</td>\n",
       "    </tr>\n",
       "    <tr>\n",
       "      <th>400</th>\n",
       "      <td>414</td>\n",
       "      <td>m muốn tham khảo dịch vụ</td>\n",
       "      <td>cardproductmainmenu</td>\n",
       "      <td>mình muốn tham khảo dịch vụ</td>\n",
       "    </tr>\n",
       "    <tr>\n",
       "      <th>401</th>\n",
       "      <td>415</td>\n",
       "      <td>giới thiệu cho tôi dịch vụ bên bạn</td>\n",
       "      <td>cardproductmainmenu</td>\n",
       "      <td>giới thiệu cho tôi dịch vụ bên bạn</td>\n",
       "    </tr>\n",
       "    <tr>\n",
       "      <th>402</th>\n",
       "      <td>416</td>\n",
       "      <td>tôi muôn xem các sản phẩm bên bạn</td>\n",
       "      <td>cardproductmainmenu</td>\n",
       "      <td>tôi muôn xem các sản phẩm bên bạn</td>\n",
       "    </tr>\n",
       "    <tr>\n",
       "      <th>403</th>\n",
       "      <td>417</td>\n",
       "      <td>có sản phẩm nào tốt không</td>\n",
       "      <td>cardproductmainmenu</td>\n",
       "      <td>có sản phẩm nào tốt không</td>\n",
       "    </tr>\n",
       "    <tr>\n",
       "      <th>404</th>\n",
       "      <td>418</td>\n",
       "      <td>cho tôi xem các sản phẩm</td>\n",
       "      <td>cardproductmainmenu</td>\n",
       "      <td>cho tôi xem các sản phẩm</td>\n",
       "    </tr>\n",
       "    <tr>\n",
       "      <th>405</th>\n",
       "      <td>419</td>\n",
       "      <td>show cho tôi các sản phẩm coi</td>\n",
       "      <td>cardproductmainmenu</td>\n",
       "      <td>show cho tôi các sản phẩm coi</td>\n",
       "    </tr>\n",
       "    <tr>\n",
       "      <th>406</th>\n",
       "      <td>420</td>\n",
       "      <td>giới thiệu cho tôi về VIB</td>\n",
       "      <td>cardproductmainmenu</td>\n",
       "      <td>giới thiệu cho tôi về vib</td>\n",
       "    </tr>\n",
       "    <tr>\n",
       "      <th>407</th>\n",
       "      <td>421</td>\n",
       "      <td>minh chua sử dụng nhe a</td>\n",
       "      <td>cardproductmainmenu</td>\n",
       "      <td>mình chưa sử dụng nhé a</td>\n",
       "    </tr>\n",
       "    <tr>\n",
       "      <th>408</th>\n",
       "      <td>422</td>\n",
       "      <td>chưa sử dụng</td>\n",
       "      <td>cardproductmainmenu</td>\n",
       "      <td>chưa sử dụng</td>\n",
       "    </tr>\n",
       "    <tr>\n",
       "      <th>409</th>\n",
       "      <td>423</td>\n",
       "      <td>mình cần tư vấn thêm về dịch vụ thẻ</td>\n",
       "      <td>cardproductmainmenu</td>\n",
       "      <td>mình cần tư vấn thêm về dịch vụ thẻ</td>\n",
       "    </tr>\n",
       "    <tr>\n",
       "      <th>410</th>\n",
       "      <td>424</td>\n",
       "      <td>Mình chưa sử dụng bạn ơi</td>\n",
       "      <td>cardproductmainmenu</td>\n",
       "      <td>mình chưa sử dụng bạn ơi</td>\n",
       "    </tr>\n",
       "    <tr>\n",
       "      <th>411</th>\n",
       "      <td>425</td>\n",
       "      <td>Tư vấn tôi thông tin các sản phẩm</td>\n",
       "      <td>cardproductmainmenu</td>\n",
       "      <td>tư vấn tôi thông tin các sản phẩm</td>\n",
       "    </tr>\n",
       "  </tbody>\n",
       "</table>\n",
       "</div>"
      ],
      "text/plain": [
       "     Unnamed: 0                                             text  \\\n",
       "372         386  Tôi muốn tìm thông tin về sản phẩm thẻ tín dụng   \n",
       "373         387       Tôi đang tìm hiểu về sản phẩm thẻ tín dụng   \n",
       "374         388                           Thông tin thẻ tín dụng   \n",
       "375         389                    thông tin về các loại thẻ VIB   \n",
       "376         390                                 thông tin về thẻ   \n",
       "377         391                          nội chung chung của thẻ   \n",
       "378         392                          thông tin chung của thẻ   \n",
       "379         393                          thông tin chung thẻ VIB   \n",
       "380         394                                     thẻ tín dụng   \n",
       "381         395                                     mở tiết kiệm   \n",
       "382         396                                        tiết kiệm   \n",
       "383         397                                         tín dụng   \n",
       "384         398                                       thẻ ghi nợ   \n",
       "385         399                                           ghi nợ   \n",
       "386         400                                         thẻ visa   \n",
       "387         401                                   thẻ visa debit   \n",
       "388         402                              Tôi muốn hỏi về thẻ   \n",
       "389         403                                              Thẻ   \n",
       "390         404                                        thẻ atm ạ   \n",
       "391         405                     Bên mình có các loại thẻ nào   \n",
       "392         406                          Bên bạn có những thẻ gì   \n",
       "393         407                         Tôi cần thẻ để giao dịch   \n",
       "394         408                    Mình đang tìm hiểu về thẻ VIB   \n",
       "395         409                             Mình chưa có thẻ VIB   \n",
       "396         410                      dịch vụ bên bạn có những gì   \n",
       "397         411                                      hỏi dịch vụ   \n",
       "398         412                                          dịch vụ   \n",
       "399         413                       tôi muốn tham khảo dịch vụ   \n",
       "400         414                         m muốn tham khảo dịch vụ   \n",
       "401         415               giới thiệu cho tôi dịch vụ bên bạn   \n",
       "402         416                tôi muôn xem các sản phẩm bên bạn   \n",
       "403         417                        có sản phẩm nào tốt không   \n",
       "404         418                         cho tôi xem các sản phẩm   \n",
       "405         419                    show cho tôi các sản phẩm coi   \n",
       "406         420                        giới thiệu cho tôi về VIB   \n",
       "407         421                          minh chua sử dụng nhe a   \n",
       "408         422                                     chưa sử dụng   \n",
       "409         423              mình cần tư vấn thêm về dịch vụ thẻ   \n",
       "410         424                         Mình chưa sử dụng bạn ơi   \n",
       "411         425                Tư vấn tôi thông tin các sản phẩm   \n",
       "\n",
       "                   label                                       text_clean  \n",
       "372  cardproductmainmenu  tôi muốn tìm thông tin về sản phẩm thẻ tín dụng  \n",
       "373  cardproductmainmenu       tôi đang tìm hiểu về sản phẩm thẻ tín dụng  \n",
       "374  cardproductmainmenu                           thông tin thẻ tín dụng  \n",
       "375  cardproductmainmenu                    thông tin về các loại thẻ vib  \n",
       "376  cardproductmainmenu                                 thông tin về thẻ  \n",
       "377  cardproductmainmenu                          nội chung chung của thẻ  \n",
       "378  cardproductmainmenu                          thông tin chung của thẻ  \n",
       "379  cardproductmainmenu                          thông tin chung thẻ vib  \n",
       "380  cardproductmainmenu                                     thẻ tín dụng  \n",
       "381  cardproductmainmenu                                     mở tiết kiệm  \n",
       "382  cardproductmainmenu                                        tiết kiệm  \n",
       "383  cardproductmainmenu                                         tín dụng  \n",
       "384  cardproductmainmenu                                       thẻ ghi nợ  \n",
       "385  cardproductmainmenu                                           ghi nợ  \n",
       "386  cardproductmainmenu                                         thẻ visa  \n",
       "387  cardproductmainmenu                                   thẻ visa debit  \n",
       "388  cardproductmainmenu                              tôi muốn hỏi về thẻ  \n",
       "389  cardproductmainmenu                                              thẻ  \n",
       "390  cardproductmainmenu                                        thẻ atm ạ  \n",
       "391  cardproductmainmenu                     bên mình có các loại thẻ nào  \n",
       "392  cardproductmainmenu                          bên bạn có những thẻ gì  \n",
       "393  cardproductmainmenu                         tôi cần thẻ để giao dịch  \n",
       "394  cardproductmainmenu                    mình đang tìm hiểu về thẻ vib  \n",
       "395  cardproductmainmenu                             mình chưa có thẻ vib  \n",
       "396  cardproductmainmenu                      dịch vụ bên bạn có những gì  \n",
       "397  cardproductmainmenu                                      hỏi dịch vụ  \n",
       "398  cardproductmainmenu                                          dịch vụ  \n",
       "399  cardproductmainmenu                       tôi muốn tham khảo dịch vụ  \n",
       "400  cardproductmainmenu                      mình muốn tham khảo dịch vụ  \n",
       "401  cardproductmainmenu               giới thiệu cho tôi dịch vụ bên bạn  \n",
       "402  cardproductmainmenu                tôi muôn xem các sản phẩm bên bạn  \n",
       "403  cardproductmainmenu                        có sản phẩm nào tốt không  \n",
       "404  cardproductmainmenu                         cho tôi xem các sản phẩm  \n",
       "405  cardproductmainmenu                    show cho tôi các sản phẩm coi  \n",
       "406  cardproductmainmenu                        giới thiệu cho tôi về vib  \n",
       "407  cardproductmainmenu                          mình chưa sử dụng nhé a  \n",
       "408  cardproductmainmenu                                     chưa sử dụng  \n",
       "409  cardproductmainmenu              mình cần tư vấn thêm về dịch vụ thẻ  \n",
       "410  cardproductmainmenu                         mình chưa sử dụng bạn ơi  \n",
       "411  cardproductmainmenu                tư vấn tôi thông tin các sản phẩm  "
      ]
     },
     "execution_count": 266,
     "metadata": {},
     "output_type": "execute_result"
    }
   ],
   "source": [
    "df[df['label'] == l]"
   ]
  },
  {
   "cell_type": "code",
   "execution_count": 249,
   "id": "2e5961b1-0601-4d20-9c7e-e1fcf60139e1",
   "metadata": {
    "tags": []
   },
   "outputs": [
    {
     "data": {
      "text/html": [
       "<div>\n",
       "<style scoped>\n",
       "    .dataframe tbody tr th:only-of-type {\n",
       "        vertical-align: middle;\n",
       "    }\n",
       "\n",
       "    .dataframe tbody tr th {\n",
       "        vertical-align: top;\n",
       "    }\n",
       "\n",
       "    .dataframe thead th {\n",
       "        text-align: right;\n",
       "    }\n",
       "</style>\n",
       "<table border=\"1\" class=\"dataframe\">\n",
       "  <thead>\n",
       "    <tr style=\"text-align: right;\">\n",
       "      <th></th>\n",
       "      <th>label</th>\n",
       "      <th>message</th>\n",
       "      <th>predict_label</th>\n",
       "      <th>message_clean</th>\n",
       "    </tr>\n",
       "  </thead>\n",
       "  <tbody>\n",
       "    <tr>\n",
       "      <th>167</th>\n",
       "      <td>cardproductmainmenu</td>\n",
       "      <td>có những loại thẻ nào</td>\n",
       "      <td>cardproductmainmenu</td>\n",
       "      <td>có những loại thẻ nào</td>\n",
       "    </tr>\n",
       "    <tr>\n",
       "      <th>168</th>\n",
       "      <td>cardproductmainmenu</td>\n",
       "      <td>dịch vụ thẻ bên mình ntn</td>\n",
       "      <td>cardproductmainmenu</td>\n",
       "      <td>dịch vụ thẻ bên mình như thế nào</td>\n",
       "    </tr>\n",
       "    <tr>\n",
       "      <th>169</th>\n",
       "      <td>cardproductmainmenu</td>\n",
       "      <td>tư vấn dịch vụ thẻ</td>\n",
       "      <td>cardproductmainmenu</td>\n",
       "      <td>tư vấn dịch vụ thẻ</td>\n",
       "    </tr>\n",
       "    <tr>\n",
       "      <th>170</th>\n",
       "      <td>cardproductmainmenu</td>\n",
       "      <td>tư vấn các loại thẻ</td>\n",
       "      <td>cardproductmainmenu</td>\n",
       "      <td>tư vấn các loại thẻ</td>\n",
       "    </tr>\n",
       "    <tr>\n",
       "      <th>171</th>\n",
       "      <td>cardproductmainmenu</td>\n",
       "      <td>cần thẻ để rút tiền</td>\n",
       "      <td>outofscoreother</td>\n",
       "      <td>cần thẻ để rút tiền</td>\n",
       "    </tr>\n",
       "    <tr>\n",
       "      <th>172</th>\n",
       "      <td>cardproductmainmenu</td>\n",
       "      <td>cần thẻ để thanh toán</td>\n",
       "      <td>cardproductmainmenu</td>\n",
       "      <td>cần thẻ để thanh toán</td>\n",
       "    </tr>\n",
       "    <tr>\n",
       "      <th>173</th>\n",
       "      <td>cardproductmainmenu</td>\n",
       "      <td>thông tin các thẻ</td>\n",
       "      <td>cardproductmainmenu</td>\n",
       "      <td>thông tin các thẻ</td>\n",
       "    </tr>\n",
       "    <tr>\n",
       "      <th>174</th>\n",
       "      <td>cardproductmainmenu</td>\n",
       "      <td>có những thẻ gì để đăng kí</td>\n",
       "      <td>cardproductmainmenu</td>\n",
       "      <td>có những thẻ gì để đăng kí</td>\n",
       "    </tr>\n",
       "    <tr>\n",
       "      <th>175</th>\n",
       "      <td>cardproductmainmenu</td>\n",
       "      <td>t cần thông tin về dịch vụ thẻ</td>\n",
       "      <td>cardproductmainmenu</td>\n",
       "      <td>tôi cần thông tin về dịch vụ thẻ</td>\n",
       "    </tr>\n",
       "    <tr>\n",
       "      <th>176</th>\n",
       "      <td>cardproductmainmenu</td>\n",
       "      <td>t cần thông tin về các thẻ</td>\n",
       "      <td>cardproductmainmenu</td>\n",
       "      <td>tôi cần thông tin về các thẻ</td>\n",
       "    </tr>\n",
       "    <tr>\n",
       "      <th>177</th>\n",
       "      <td>cardproductmainmenu</td>\n",
       "      <td>mình hỗ trợ sản phẩm gì</td>\n",
       "      <td>outofscoreother</td>\n",
       "      <td>mình hỗ trợ sản phẩm gì</td>\n",
       "    </tr>\n",
       "    <tr>\n",
       "      <th>178</th>\n",
       "      <td>cardproductmainmenu</td>\n",
       "      <td>có những sản phẩm nào</td>\n",
       "      <td>cardproductmainmenu</td>\n",
       "      <td>có những sản phẩm nào</td>\n",
       "    </tr>\n",
       "  </tbody>\n",
       "</table>\n",
       "</div>"
      ],
      "text/plain": [
       "                   label                         message        predict_label  \\\n",
       "167  cardproductmainmenu           có những loại thẻ nào  cardproductmainmenu   \n",
       "168  cardproductmainmenu        dịch vụ thẻ bên mình ntn  cardproductmainmenu   \n",
       "169  cardproductmainmenu              tư vấn dịch vụ thẻ  cardproductmainmenu   \n",
       "170  cardproductmainmenu             tư vấn các loại thẻ  cardproductmainmenu   \n",
       "171  cardproductmainmenu             cần thẻ để rút tiền      outofscoreother   \n",
       "172  cardproductmainmenu           cần thẻ để thanh toán  cardproductmainmenu   \n",
       "173  cardproductmainmenu               thông tin các thẻ  cardproductmainmenu   \n",
       "174  cardproductmainmenu      có những thẻ gì để đăng kí  cardproductmainmenu   \n",
       "175  cardproductmainmenu  t cần thông tin về dịch vụ thẻ  cardproductmainmenu   \n",
       "176  cardproductmainmenu      t cần thông tin về các thẻ  cardproductmainmenu   \n",
       "177  cardproductmainmenu         mình hỗ trợ sản phẩm gì      outofscoreother   \n",
       "178  cardproductmainmenu           có những sản phẩm nào  cardproductmainmenu   \n",
       "\n",
       "                        message_clean  \n",
       "167             có những loại thẻ nào  \n",
       "168  dịch vụ thẻ bên mình như thế nào  \n",
       "169                tư vấn dịch vụ thẻ  \n",
       "170               tư vấn các loại thẻ  \n",
       "171               cần thẻ để rút tiền  \n",
       "172             cần thẻ để thanh toán  \n",
       "173                 thông tin các thẻ  \n",
       "174        có những thẻ gì để đăng kí  \n",
       "175  tôi cần thông tin về dịch vụ thẻ  \n",
       "176      tôi cần thông tin về các thẻ  \n",
       "177           mình hỗ trợ sản phẩm gì  \n",
       "178             có những sản phẩm nào  "
      ]
     },
     "execution_count": 249,
     "metadata": {},
     "output_type": "execute_result"
    }
   ],
   "source": [
    "df[df['label'] == l]"
   ]
  },
  {
   "cell_type": "code",
   "execution_count": 253,
   "id": "6bc5ba43-359d-4142-9ce7-3a9ffcb7a05a",
   "metadata": {
    "tags": []
   },
   "outputs": [
    {
     "name": "stderr",
     "output_type": "stream",
     "text": [
      "/data2/nghiatl/.tmp/ipykernel_1115712/4099555344.py:1: SettingWithCopyWarning: \n",
      "A value is trying to be set on a copy of a slice from a DataFrame\n",
      "\n",
      "See the caveats in the documentation: https://pandas.pydata.org/pandas-docs/stable/user_guide/indexing.html#returning-a-view-versus-a-copy\n",
      "  df_en.loc[(df_en['label'] == 'cardproductdangkythe') & (df_en.index.isin([387])), 'message_clean'] =  ['open bank card']\n"
     ]
    }
   ],
   "source": [
    "df_en.loc[(df_en['label'] == 'cardproductdangkythe') & (df_en.index.isin([387])), 'message_clean'] =  ['open bank card']"
   ]
  },
  {
   "cell_type": "code",
   "execution_count": 255,
   "id": "77357cd4-b56b-4325-9871-2255b5f2caf8",
   "metadata": {},
   "outputs": [
    {
     "data": {
      "text/html": [
       "<div>\n",
       "<style scoped>\n",
       "    .dataframe tbody tr th:only-of-type {\n",
       "        vertical-align: middle;\n",
       "    }\n",
       "\n",
       "    .dataframe tbody tr th {\n",
       "        vertical-align: top;\n",
       "    }\n",
       "\n",
       "    .dataframe thead th {\n",
       "        text-align: right;\n",
       "    }\n",
       "</style>\n",
       "<table border=\"1\" class=\"dataframe\">\n",
       "  <thead>\n",
       "    <tr style=\"text-align: right;\">\n",
       "      <th></th>\n",
       "      <th>label</th>\n",
       "      <th>message</th>\n",
       "      <th>predict_label</th>\n",
       "      <th>message_clean</th>\n",
       "    </tr>\n",
       "  </thead>\n",
       "  <tbody>\n",
       "    <tr>\n",
       "      <th>227</th>\n",
       "      <td>greetings</td>\n",
       "      <td>NaN</td>\n",
       "      <td>NaN</td>\n",
       "      <td>Hi, let me ask you</td>\n",
       "    </tr>\n",
       "    <tr>\n",
       "      <th>228</th>\n",
       "      <td>greetings</td>\n",
       "      <td>NaN</td>\n",
       "      <td>NaN</td>\n",
       "      <td>Hello I mean</td>\n",
       "    </tr>\n",
       "    <tr>\n",
       "      <th>229</th>\n",
       "      <td>greetings</td>\n",
       "      <td>NaN</td>\n",
       "      <td>NaN</td>\n",
       "      <td>my name is Thao</td>\n",
       "    </tr>\n",
       "    <tr>\n",
       "      <th>230</th>\n",
       "      <td>greetings</td>\n",
       "      <td>NaN</td>\n",
       "      <td>NaN</td>\n",
       "      <td>Can you help me</td>\n",
       "    </tr>\n",
       "    <tr>\n",
       "      <th>231</th>\n",
       "      <td>greetings</td>\n",
       "      <td>NaN</td>\n",
       "      <td>NaN</td>\n",
       "      <td>I need to ask some things</td>\n",
       "    </tr>\n",
       "    <tr>\n",
       "      <th>...</th>\n",
       "      <td>...</td>\n",
       "      <td>...</td>\n",
       "      <td>...</td>\n",
       "      <td>...</td>\n",
       "    </tr>\n",
       "    <tr>\n",
       "      <th>427</th>\n",
       "      <td>submenucomplain</td>\n",
       "      <td>NaN</td>\n",
       "      <td>NaN</td>\n",
       "      <td>You answer so badly</td>\n",
       "    </tr>\n",
       "    <tr>\n",
       "      <th>428</th>\n",
       "      <td>submenucomplain</td>\n",
       "      <td>NaN</td>\n",
       "      <td>NaN</td>\n",
       "      <td>really bad</td>\n",
       "    </tr>\n",
       "    <tr>\n",
       "      <th>429</th>\n",
       "      <td>submenucomplain</td>\n",
       "      <td>NaN</td>\n",
       "      <td>NaN</td>\n",
       "      <td>Too worse</td>\n",
       "    </tr>\n",
       "    <tr>\n",
       "      <th>430</th>\n",
       "      <td>submenucomplain</td>\n",
       "      <td>NaN</td>\n",
       "      <td>NaN</td>\n",
       "      <td>Staff attitude is unprofessional</td>\n",
       "    </tr>\n",
       "    <tr>\n",
       "      <th>431</th>\n",
       "      <td>submenucomplain</td>\n",
       "      <td>NaN</td>\n",
       "      <td>NaN</td>\n",
       "      <td>The attitude of the staff is too bad</td>\n",
       "    </tr>\n",
       "  </tbody>\n",
       "</table>\n",
       "<p>205 rows × 4 columns</p>\n",
       "</div>"
      ],
      "text/plain": [
       "               label message predict_label  \\\n",
       "227        greetings     NaN           NaN   \n",
       "228        greetings     NaN           NaN   \n",
       "229        greetings     NaN           NaN   \n",
       "230        greetings     NaN           NaN   \n",
       "231        greetings     NaN           NaN   \n",
       "..               ...     ...           ...   \n",
       "427  submenucomplain     NaN           NaN   \n",
       "428  submenucomplain     NaN           NaN   \n",
       "429  submenucomplain     NaN           NaN   \n",
       "430  submenucomplain     NaN           NaN   \n",
       "431  submenucomplain     NaN           NaN   \n",
       "\n",
       "                            message_clean  \n",
       "227                    Hi, let me ask you  \n",
       "228                          Hello I mean  \n",
       "229                       my name is Thao  \n",
       "230                       Can you help me  \n",
       "231             I need to ask some things  \n",
       "..                                    ...  \n",
       "427                   You answer so badly  \n",
       "428                            really bad  \n",
       "429                             Too worse  \n",
       "430      Staff attitude is unprofessional  \n",
       "431  The attitude of the staff is too bad  \n",
       "\n",
       "[205 rows x 4 columns]"
      ]
     },
     "execution_count": 255,
     "metadata": {},
     "output_type": "execute_result"
    }
   ],
   "source": [
    "df_en"
   ]
  },
  {
   "cell_type": "code",
   "execution_count": 259,
   "id": "3c255921-8549-463d-8eef-0016a9aeb81b",
   "metadata": {
    "tags": []
   },
   "outputs": [],
   "source": [
    "df_af.to_csv('./data/test_multi.csv', index = False)"
   ]
  },
  {
   "cell_type": "code",
   "execution_count": 258,
   "id": "acd43925-2b1f-49ab-9844-a0396ec8c521",
   "metadata": {
    "tags": []
   },
   "outputs": [
    {
     "data": {
      "text/html": [
       "<div>\n",
       "<style scoped>\n",
       "    .dataframe tbody tr th:only-of-type {\n",
       "        vertical-align: middle;\n",
       "    }\n",
       "\n",
       "    .dataframe tbody tr th {\n",
       "        vertical-align: top;\n",
       "    }\n",
       "\n",
       "    .dataframe thead th {\n",
       "        text-align: right;\n",
       "    }\n",
       "</style>\n",
       "<table border=\"1\" class=\"dataframe\">\n",
       "  <thead>\n",
       "    <tr style=\"text-align: right;\">\n",
       "      <th></th>\n",
       "      <th>label</th>\n",
       "      <th>message</th>\n",
       "      <th>predict_label</th>\n",
       "      <th>message_clean</th>\n",
       "    </tr>\n",
       "  </thead>\n",
       "  <tbody>\n",
       "    <tr>\n",
       "      <th>0</th>\n",
       "      <td>greetings</td>\n",
       "      <td>chào bạn cho mình hỏi chút với ạ</td>\n",
       "      <td>greetings</td>\n",
       "      <td>chào bạn cho mình hỏi chút với ạ</td>\n",
       "    </tr>\n",
       "    <tr>\n",
       "      <th>1</th>\n",
       "      <td>greetings</td>\n",
       "      <td>xin chào mình là Nghĩa</td>\n",
       "      <td>greetings</td>\n",
       "      <td>xin chào mình là nghĩa</td>\n",
       "    </tr>\n",
       "    <tr>\n",
       "      <th>2</th>\n",
       "      <td>greetings</td>\n",
       "      <td>tên t là Thảo</td>\n",
       "      <td>greetings</td>\n",
       "      <td>tên tôi là thảo</td>\n",
       "    </tr>\n",
       "    <tr>\n",
       "      <th>3</th>\n",
       "      <td>greetings</td>\n",
       "      <td>b có thể giúp tôi được không</td>\n",
       "      <td>outofscoreother</td>\n",
       "      <td>bạn có thể giúp tôi được không</td>\n",
       "    </tr>\n",
       "    <tr>\n",
       "      <th>4</th>\n",
       "      <td>greetings</td>\n",
       "      <td>t cần hỏi một số việc</td>\n",
       "      <td>mainmenu</td>\n",
       "      <td>tôi cần hỏi một số việc</td>\n",
       "    </tr>\n",
       "    <tr>\n",
       "      <th>...</th>\n",
       "      <td>...</td>\n",
       "      <td>...</td>\n",
       "      <td>...</td>\n",
       "      <td>...</td>\n",
       "    </tr>\n",
       "    <tr>\n",
       "      <th>427</th>\n",
       "      <td>submenucomplain</td>\n",
       "      <td>NaN</td>\n",
       "      <td>NaN</td>\n",
       "      <td>You answer so badly</td>\n",
       "    </tr>\n",
       "    <tr>\n",
       "      <th>428</th>\n",
       "      <td>submenucomplain</td>\n",
       "      <td>NaN</td>\n",
       "      <td>NaN</td>\n",
       "      <td>really bad</td>\n",
       "    </tr>\n",
       "    <tr>\n",
       "      <th>429</th>\n",
       "      <td>submenucomplain</td>\n",
       "      <td>NaN</td>\n",
       "      <td>NaN</td>\n",
       "      <td>Too worse</td>\n",
       "    </tr>\n",
       "    <tr>\n",
       "      <th>430</th>\n",
       "      <td>submenucomplain</td>\n",
       "      <td>NaN</td>\n",
       "      <td>NaN</td>\n",
       "      <td>Staff attitude is unprofessional</td>\n",
       "    </tr>\n",
       "    <tr>\n",
       "      <th>431</th>\n",
       "      <td>submenucomplain</td>\n",
       "      <td>NaN</td>\n",
       "      <td>NaN</td>\n",
       "      <td>The attitude of the staff is too bad</td>\n",
       "    </tr>\n",
       "  </tbody>\n",
       "</table>\n",
       "<p>432 rows × 4 columns</p>\n",
       "</div>"
      ],
      "text/plain": [
       "               label                           message    predict_label  \\\n",
       "0          greetings  chào bạn cho mình hỏi chút với ạ        greetings   \n",
       "1          greetings            xin chào mình là Nghĩa        greetings   \n",
       "2          greetings                     tên t là Thảo        greetings   \n",
       "3          greetings      b có thể giúp tôi được không  outofscoreother   \n",
       "4          greetings             t cần hỏi một số việc         mainmenu   \n",
       "..               ...                               ...              ...   \n",
       "427  submenucomplain                               NaN              NaN   \n",
       "428  submenucomplain                               NaN              NaN   \n",
       "429  submenucomplain                               NaN              NaN   \n",
       "430  submenucomplain                               NaN              NaN   \n",
       "431  submenucomplain                               NaN              NaN   \n",
       "\n",
       "                            message_clean  \n",
       "0        chào bạn cho mình hỏi chút với ạ  \n",
       "1                  xin chào mình là nghĩa  \n",
       "2                         tên tôi là thảo  \n",
       "3          bạn có thể giúp tôi được không  \n",
       "4                 tôi cần hỏi một số việc  \n",
       "..                                    ...  \n",
       "427                   You answer so badly  \n",
       "428                            really bad  \n",
       "429                             Too worse  \n",
       "430      Staff attitude is unprofessional  \n",
       "431  The attitude of the staff is too bad  \n",
       "\n",
       "[432 rows x 4 columns]"
      ]
     },
     "execution_count": 258,
     "metadata": {},
     "output_type": "execute_result"
    }
   ],
   "source": [
    "df_af = pd.concat([df, df_en], ignore_index= True)\n",
    "df_af"
   ]
  },
  {
   "cell_type": "markdown",
   "id": "ef66beba-556e-470a-a3d8-ff04b696e6b9",
   "metadata": {
    "tags": []
   },
   "source": [
    "## Baking 77 hugging face"
   ]
  },
  {
   "cell_type": "code",
   "execution_count": 75,
   "id": "dae26c40-70a1-4b45-9aea-44bbbd31febe",
   "metadata": {
    "tags": []
   },
   "outputs": [],
   "source": [
    "from datasets import load_dataset, Dataset"
   ]
  },
  {
   "cell_type": "code",
   "execution_count": 76,
   "id": "feb291c8-5bf9-47fa-9aca-5e94ed68c2b9",
   "metadata": {
    "tags": []
   },
   "outputs": [
    {
     "name": "stderr",
     "output_type": "stream",
     "text": [
      "Found cached dataset banking77 (/home/nghiatl/.cache/huggingface/datasets/banking77/default/1.1.0/ff44c4421d7e70aa810b0fa79d36908a38b87aff8125d002cd44f7fcd31f493c)\n"
     ]
    },
    {
     "data": {
      "application/vnd.jupyter.widget-view+json": {
       "model_id": "e915def70fcf49599cff448c146422bc",
       "version_major": 2,
       "version_minor": 0
      },
      "text/plain": [
       "  0%|          | 0/2 [00:00<?, ?it/s]"
      ]
     },
     "metadata": {},
     "output_type": "display_data"
    }
   ],
   "source": [
    "from datasets import load_dataset, Dataset\n",
    "dataset = load_dataset('banking77')"
   ]
  },
  {
   "cell_type": "code",
   "execution_count": 79,
   "id": "77a4780c-50e5-49e7-b697-380e15a26db5",
   "metadata": {
    "tags": []
   },
   "outputs": [
    {
     "data": {
      "text/plain": [
       "Dataset({\n",
       "    features: ['text', 'label'],\n",
       "    num_rows: 10003\n",
       "})"
      ]
     },
     "execution_count": 79,
     "metadata": {},
     "output_type": "execute_result"
    }
   ],
   "source": [
    "train_df = dataset['train']\n",
    "train_df"
   ]
  },
  {
   "cell_type": "code",
   "execution_count": 80,
   "id": "4e9a7b18-4a8c-4150-8e26-fde4eef1286f",
   "metadata": {
    "tags": []
   },
   "outputs": [
    {
     "data": {
      "text/plain": [
       "10003"
      ]
     },
     "execution_count": 80,
     "metadata": {},
     "output_type": "execute_result"
    }
   ],
   "source": [
    "len(train_df)"
   ]
  },
  {
   "cell_type": "code",
   "execution_count": 81,
   "id": "1fd8e797-cc7d-4ece-8d6f-59ce282c2a4e",
   "metadata": {
    "tags": []
   },
   "outputs": [
    {
     "data": {
      "text/html": [
       "<div>\n",
       "<style scoped>\n",
       "    .dataframe tbody tr th:only-of-type {\n",
       "        vertical-align: middle;\n",
       "    }\n",
       "\n",
       "    .dataframe tbody tr th {\n",
       "        vertical-align: top;\n",
       "    }\n",
       "\n",
       "    .dataframe thead th {\n",
       "        text-align: right;\n",
       "    }\n",
       "</style>\n",
       "<table border=\"1\" class=\"dataframe\">\n",
       "  <thead>\n",
       "    <tr style=\"text-align: right;\">\n",
       "      <th></th>\n",
       "      <th>text</th>\n",
       "      <th>label</th>\n",
       "    </tr>\n",
       "  </thead>\n",
       "  <tbody>\n",
       "    <tr>\n",
       "      <th>0</th>\n",
       "      <td>I am still waiting on my card?</td>\n",
       "      <td>11</td>\n",
       "    </tr>\n",
       "    <tr>\n",
       "      <th>1</th>\n",
       "      <td>What can I do if my card still hasn't arrived ...</td>\n",
       "      <td>11</td>\n",
       "    </tr>\n",
       "    <tr>\n",
       "      <th>2</th>\n",
       "      <td>I have been waiting over a week. Is the card s...</td>\n",
       "      <td>11</td>\n",
       "    </tr>\n",
       "    <tr>\n",
       "      <th>3</th>\n",
       "      <td>Can I track my card while it is in the process...</td>\n",
       "      <td>11</td>\n",
       "    </tr>\n",
       "    <tr>\n",
       "      <th>4</th>\n",
       "      <td>How do I know if I will get my card, or if it ...</td>\n",
       "      <td>11</td>\n",
       "    </tr>\n",
       "    <tr>\n",
       "      <th>...</th>\n",
       "      <td>...</td>\n",
       "      <td>...</td>\n",
       "    </tr>\n",
       "    <tr>\n",
       "      <th>9998</th>\n",
       "      <td>You provide support in what countries?</td>\n",
       "      <td>24</td>\n",
       "    </tr>\n",
       "    <tr>\n",
       "      <th>9999</th>\n",
       "      <td>What countries are you supporting?</td>\n",
       "      <td>24</td>\n",
       "    </tr>\n",
       "    <tr>\n",
       "      <th>10000</th>\n",
       "      <td>What countries are getting support?</td>\n",
       "      <td>24</td>\n",
       "    </tr>\n",
       "    <tr>\n",
       "      <th>10001</th>\n",
       "      <td>Are cards available in the EU?</td>\n",
       "      <td>24</td>\n",
       "    </tr>\n",
       "    <tr>\n",
       "      <th>10002</th>\n",
       "      <td>Which countries are represented?</td>\n",
       "      <td>24</td>\n",
       "    </tr>\n",
       "  </tbody>\n",
       "</table>\n",
       "<p>10003 rows × 2 columns</p>\n",
       "</div>"
      ],
      "text/plain": [
       "                                                    text  label\n",
       "0                         I am still waiting on my card?     11\n",
       "1      What can I do if my card still hasn't arrived ...     11\n",
       "2      I have been waiting over a week. Is the card s...     11\n",
       "3      Can I track my card while it is in the process...     11\n",
       "4      How do I know if I will get my card, or if it ...     11\n",
       "...                                                  ...    ...\n",
       "9998              You provide support in what countries?     24\n",
       "9999                  What countries are you supporting?     24\n",
       "10000                What countries are getting support?     24\n",
       "10001                     Are cards available in the EU?     24\n",
       "10002                   Which countries are represented?     24\n",
       "\n",
       "[10003 rows x 2 columns]"
      ]
     },
     "execution_count": 81,
     "metadata": {},
     "output_type": "execute_result"
    }
   ],
   "source": [
    "df = train_df.to_pandas()\n",
    "df"
   ]
  },
  {
   "cell_type": "code",
   "execution_count": 88,
   "id": "edee9171-6292-45e9-bba7-75ea344a143a",
   "metadata": {
    "tags": []
   },
   "outputs": [
    {
     "data": {
      "text/plain": [
       "\"Please help me with my card.  It won't activate.\""
      ]
     },
     "execution_count": 88,
     "metadata": {},
     "output_type": "execute_result"
    }
   ],
   "source": [
    "df[df['label'] == 0].iloc[0]['text']"
   ]
  },
  {
   "cell_type": "code",
   "execution_count": 91,
   "id": "035bb266-b823-421b-9fa9-eb7c70ec0808",
   "metadata": {
    "tags": []
   },
   "outputs": [],
   "source": [
    "intent_dict = { 0 : \"activate_my_card\",\n",
    " 1\t: \"age_limit\",\n",
    " 2 : \"apple_pay_or_google_pay\"\n",
    ",3 : \"atm_support\"\n",
    ",4 : \"automatic_top_up\"\n",
    ",5 : \"balance_not_updated_after_bank_transfer\"\n",
    ",6 : \"balance_not_updated_after_cheque_or_cash_deposit\"\n",
    ",7 : \"beneficiary_not_allowed\"\n",
    ",8 : \"cancel_transfer\"\n",
    ",9 : \"card_about_to_expire\"\n",
    ",10 : \"card_acceptance\"\n",
    ",11 : \"card_arrival\"\n",
    ",12 : \"card_delivery_estimate\"\n",
    ",13 : \"card_linking\"\n",
    ",14 : \"card_not_working\"\n",
    ",15 : \"card_payment_fee_charged\"\n",
    ",16 : \"card_payment_not_recognised\"\n",
    ",17 : \"card_payment_wrong_exchange_rate\"\n",
    ",18 : \"card_swallowed\"\n",
    ",19 : \"cash_withdrawal_charge\"\n",
    ",20 : \"cash_withdrawal_not_recognised\"\n",
    ",21 : \"change_pin\"\n",
    ",22 : \"compromised_card\"\n",
    ",23 : \"contactless_not_working\"\n",
    ",24 : \"country_support\"\n",
    ",25 : \"declined_card_payment\"\n",
    ",26 : \"declined_cash_withdrawal\"\n",
    ",27 : \"declined_transfer\"\n",
    ",28 : \"direct_debit_payment_not_recognised\"\n",
    ",29 : \"disposable_card_limits\"\n",
    ",30 : \"edit_personal_details\"\n",
    ",31 : \"exchange_charge\"\n",
    ",32 : \"exchange_rate\"\n",
    ",33 : \"exchange_via_app\"\n",
    ",34 : \"extra_charge_on_statement\"\n",
    ",35 : \"failed_transfer\"\n",
    ",36 : \"fiat_currency_support\"\n",
    ",37 : \"get_disposable_virtual_card\"\n",
    ",38 : \"get_physical_card\"\n",
    ",39 : \"getting_spare_card\"\n",
    ",40 : \"getting_virtual_card\"\n",
    ",41 : \"lost_or_stolen_card\"\n",
    ",42 : \"lost_or_stolen_phone\"\n",
    ",43 : \"order_physical_card\"\n",
    ",44 : \"passcode_forgotten\"\n",
    ",45 : \"pending_card_payment\"\n",
    ",46 : \"pending_cash_withdrawal\"\n",
    ",47 : \"pending_top_up\"\n",
    ",48 : \"pending_transfer\"\n",
    ",49 : \"pin_blocked\"\n",
    ",50 : \"receiving_money\"\n",
    ",51 : \"Refund_not_showing_up\"\n",
    ",52 : \"request_refund\"\n",
    ",53 : \"reverted_card_payment?\"\n",
    ",54 : \"supported_cards_and_currencies\"\n",
    ",55 : \"terminate_account\"\n",
    ",56 : \"top_up_by_bank_transfer_charge\"\n",
    ",57 : \"top_up_by_card_charge\"\n",
    ",58 : \"top_up_by_cash_or_cheque\"\n",
    ",59 : \"top_up_failed\"\n",
    ",60 : \"top_up_limits\"\n",
    ",61 : \"top_up_reverted\"\n",
    ",62 : \"topping_up_by_card\"\n",
    ",63 : \"transaction_charged_twice\"\n",
    ",64 : \"transfer_fee_charged\"\n",
    ",65 : \"transfer_into_account\"\n",
    ",66 : \"transfer_not_received_by_recipient\"\n",
    ",67 : \"transfer_timing\"\n",
    ",68 : \"unable_to_verify_identity\"\n",
    ",69 : \"verify_my_identity\"\n",
    ",70 : \"verify_source_of_funds\"\n",
    ",71 : \"verify_top_up\"\n",
    ",72 : \"virtual_card_not_working\"\n",
    ",73 : \"visa_or_mastercard\"\n",
    ",74 : \"why_verify_identity\"\n",
    ",75 : \"wrong_amount_of_cash_received\"\n",
    ",76 : \"wrong_exchange_rate_for_cash_withdrawal\"\n",
    "}"
   ]
  },
  {
   "cell_type": "code",
   "execution_count": 92,
   "id": "9cb58424-4d8c-4786-a24b-19ef53250464",
   "metadata": {
    "tags": []
   },
   "outputs": [],
   "source": [
    "df['label'] = df['label'].map(intent_dict)"
   ]
  },
  {
   "cell_type": "code",
   "execution_count": 93,
   "id": "78714401-086b-418f-8fc1-3abe8e4e99ba",
   "metadata": {
    "tags": []
   },
   "outputs": [
    {
     "data": {
      "text/html": [
       "<div>\n",
       "<style scoped>\n",
       "    .dataframe tbody tr th:only-of-type {\n",
       "        vertical-align: middle;\n",
       "    }\n",
       "\n",
       "    .dataframe tbody tr th {\n",
       "        vertical-align: top;\n",
       "    }\n",
       "\n",
       "    .dataframe thead th {\n",
       "        text-align: right;\n",
       "    }\n",
       "</style>\n",
       "<table border=\"1\" class=\"dataframe\">\n",
       "  <thead>\n",
       "    <tr style=\"text-align: right;\">\n",
       "      <th></th>\n",
       "      <th>text</th>\n",
       "      <th>label</th>\n",
       "    </tr>\n",
       "  </thead>\n",
       "  <tbody>\n",
       "    <tr>\n",
       "      <th>0</th>\n",
       "      <td>I am still waiting on my card?</td>\n",
       "      <td>card_arrival</td>\n",
       "    </tr>\n",
       "    <tr>\n",
       "      <th>1</th>\n",
       "      <td>What can I do if my card still hasn't arrived ...</td>\n",
       "      <td>card_arrival</td>\n",
       "    </tr>\n",
       "    <tr>\n",
       "      <th>2</th>\n",
       "      <td>I have been waiting over a week. Is the card s...</td>\n",
       "      <td>card_arrival</td>\n",
       "    </tr>\n",
       "    <tr>\n",
       "      <th>3</th>\n",
       "      <td>Can I track my card while it is in the process...</td>\n",
       "      <td>card_arrival</td>\n",
       "    </tr>\n",
       "    <tr>\n",
       "      <th>4</th>\n",
       "      <td>How do I know if I will get my card, or if it ...</td>\n",
       "      <td>card_arrival</td>\n",
       "    </tr>\n",
       "  </tbody>\n",
       "</table>\n",
       "</div>"
      ],
      "text/plain": [
       "                                                text         label\n",
       "0                     I am still waiting on my card?  card_arrival\n",
       "1  What can I do if my card still hasn't arrived ...  card_arrival\n",
       "2  I have been waiting over a week. Is the card s...  card_arrival\n",
       "3  Can I track my card while it is in the process...  card_arrival\n",
       "4  How do I know if I will get my card, or if it ...  card_arrival"
      ]
     },
     "execution_count": 93,
     "metadata": {},
     "output_type": "execute_result"
    }
   ],
   "source": [
    "df.head()"
   ]
  },
  {
   "cell_type": "markdown",
   "id": "4b1074f3-2605-4b3c-af5f-94714a55fad6",
   "metadata": {},
   "source": [
    "## Banking 77"
   ]
  },
  {
   "cell_type": "code",
   "execution_count": 1,
   "id": "ae47269a-6acc-4065-ade2-450d6e99b508",
   "metadata": {},
   "outputs": [],
   "source": [
    "class IntentExample:\n",
    "    def __init__(self, text, label, do_lower_case):\n",
    "        self.original_text = text\n",
    "        self.text = text\n",
    "        self.label = label\n",
    "\n",
    "        if do_lower_case:\n",
    "            self.text = self.text.lower()\n",
    "        \n",
    "def load_intent_examples(file_path, do_lower_case=True):\n",
    "    examples = []\n",
    "\n",
    "    with open('{}/seq.in'.format(file_path), 'r', encoding=\"utf-8\") as f_text, open('{}/label'.format(file_path), 'r', encoding=\"utf-8\") as f_label:\n",
    "        for text, label in zip(f_text, f_label):\n",
    "            e = IntentExample(text.strip(), label.strip(), do_lower_case)\n",
    "            examples.append(e)\n",
    "\n",
    "    return examples"
   ]
  },
  {
   "cell_type": "code",
   "execution_count": 6,
   "id": "b9b92696-72b1-45f8-a032-7430497393c4",
   "metadata": {},
   "outputs": [
    {
     "data": {
      "text/plain": [
       "[<__main__.IntentExample at 0x7f1d51f1d760>,\n",
       " <__main__.IntentExample at 0x7f1d51f1de20>,\n",
       " <__main__.IntentExample at 0x7f1d51f1d460>,\n",
       " <__main__.IntentExample at 0x7f1d51f1d610>,\n",
       " <__main__.IntentExample at 0x7f1d51e93dc0>]"
      ]
     },
     "execution_count": 6,
     "metadata": {},
     "output_type": "execute_result"
    }
   ],
   "source": [
    "train_banking_77 = load_intent_examples('./BANKING_77')\n",
    "train_banking_77[:5]"
   ]
  },
  {
   "cell_type": "code",
   "execution_count": 89,
   "id": "048e5a9e-bf6a-4b36-96ef-f0491dde9e8d",
   "metadata": {
    "tags": []
   },
   "outputs": [
    {
     "name": "stdout",
     "output_type": "stream",
     "text": [
      "i'm not happy, i want to close my account.\n",
      "please delete my account and personal information.\n",
      "the service here is horrible, i want to delete my account.\n",
      "please delete account\n",
      "i need to close my account.  your company is terrible!\n",
      "how do i discontinue my account?\n",
      "i am very dissatisfied with the services that you are providing.  i want to cancel my account.\n",
      "i'd like to delete my account.\n",
      "i no longer want this account, what should i do?\n",
      "i want to delete my account. how do i do this?\n"
     ]
    }
   ],
   "source": [
    "for pair in train_banking_77:\n",
    "    if pair.label == 'terminate_account':\n",
    "        print(pair.text)"
   ]
  },
  {
   "cell_type": "code",
   "execution_count": 9,
   "id": "40540600-a573-4489-9b73-7f6383c90922",
   "metadata": {
    "tags": []
   },
   "outputs": [
    {
     "data": {
      "text/plain": [
       "'Refund_not_showing_up'"
      ]
     },
     "execution_count": 9,
     "metadata": {},
     "output_type": "execute_result"
    }
   ],
   "source": [
    "train_banking_77[1].label"
   ]
  },
  {
   "cell_type": "code",
   "execution_count": 10,
   "id": "061a2ae4-93a3-4ee9-b24c-e1e4c8a8254d",
   "metadata": {
    "tags": []
   },
   "outputs": [
    {
     "data": {
      "text/plain": [
       "\"as advised by you, i requested seller to refund my money. a week has passed but i haven't got any update from seller. please track the refund with the seller.\""
      ]
     },
     "execution_count": 10,
     "metadata": {},
     "output_type": "execute_result"
    }
   ],
   "source": [
    "train_banking_77[1].text"
   ]
  },
  {
   "cell_type": "code",
   "execution_count": null,
   "id": "05b73e16-95c8-43c1-a49e-bfaf2fe6651c",
   "metadata": {},
   "outputs": [],
   "source": []
  }
 ],
 "metadata": {
  "kernelspec": {
   "display_name": "SEO",
   "language": "python",
   "name": "seo"
  },
  "language_info": {
   "codemirror_mode": {
    "name": "ipython",
    "version": 3
   },
   "file_extension": ".py",
   "mimetype": "text/x-python",
   "name": "python",
   "nbconvert_exporter": "python",
   "pygments_lexer": "ipython3",
   "version": "3.8.16"
  }
 },
 "nbformat": 4,
 "nbformat_minor": 5
}
