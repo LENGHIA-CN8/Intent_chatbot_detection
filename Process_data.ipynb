{
 "cells": [
  {
   "cell_type": "code",
   "execution_count": 1,
   "id": "fa73da17-2044-49bb-8d6a-b34208200b9a",
   "metadata": {
    "tags": []
   },
   "outputs": [],
   "source": [
    "from sklearn.model_selection import train_test_split"
   ]
  },
  {
   "cell_type": "code",
   "execution_count": 2,
   "id": "4101cba0-fdf3-4c90-98d5-ecabab5887bf",
   "metadata": {
    "tags": []
   },
   "outputs": [],
   "source": [
    "import torch \n",
    "import torch.nn as nn\n",
    "from torch.utils.data import Dataset, DataLoader, random_split\n",
    "import pandas as pd\n",
    "import numpy as np\n",
    "import zipfile\n",
    "from PIL import Image\n",
    "import matplotlib.pyplot as plt\n",
    "import re\n",
    "# import pytorch_lightning as pl\n",
    "from torchvision import transforms as T\n",
    "from sklearn.model_selection import train_test_split\n",
    "\n",
    "train_ratio = 0.8"
   ]
  },
  {
   "cell_type": "code",
   "execution_count": 3,
   "id": "7942dec4-1fa9-487b-b99a-759843922fcd",
   "metadata": {
    "tags": []
   },
   "outputs": [
    {
     "name": "stdout",
     "output_type": "stream",
     "text": [
      "84\n"
     ]
    }
   ],
   "source": [
    "import random\n",
    "\n",
    "# SEED_VALUE = random.randint(0,100)\n",
    "SEED_VALUE = 84\n",
    "print(SEED_VALUE)\n",
    "random.seed(SEED_VALUE)\n",
    "torch.manual_seed(SEED_VALUE)\n",
    "torch.cuda.manual_seed_all(SEED_VALUE)\n",
    "\n",
    "np.random.seed(SEED_VALUE)"
   ]
  },
  {
   "cell_type": "code",
   "execution_count": 4,
   "id": "44fd4fa4-abf1-463d-9354-49621ab7992f",
   "metadata": {
    "tags": []
   },
   "outputs": [
    {
     "name": "stdout",
     "output_type": "stream",
     "text": [
      "BANKING_77\n",
      "create_test_data.ipynb\n",
      "data\n",
      "Embed-label_Setfit.ipynb\n",
      "envi_data\n",
      "Multilingual_knowledge_distill_train.py\n",
      "Multi-lingual-training.ipynb\n",
      "multi-phoMT\n",
      "output.jpg\n",
      "Process_data.ipynb\n",
      "setfitckpt\n",
      "setfitckpt_multilingual_distil\n",
      "setfitckpt_multilingual_test_en\n",
      "setfitckpt_multilingual_test_en_v1\n",
      "setfitckpt_multilingual_test_en_v1_af\n",
      "setfitckpt_multilingual_test_en_v1_af.tar\n",
      "Setfit.ipynb\n",
      "test_onnx.ipynb\n",
      "train.py\n",
      "vo_van_phuc_setfitckpt_10_4_2023_1_epoch\n",
      "vo_van_phuc_setfitckpt_10_4_2023_3_epoch_20_iter\n",
      "vo_van_phuc_setfitckpt_10_4_2023_3_epoch_30_iter\n",
      "vo_van_phuc_setfitckpt_11_4_2023_1_epoch_20_iter_sample\n",
      "vo_van_phuc_setfitckpt_11_4_2023_3_epoch_20_iter_sample\n",
      "vo_van_phuc_setfitckpt_11_4_2023_3_epoch_30_iter_sample\n",
      "vo_van_phuc_setfitckpt_11_4_2023_3_epoch_30_iter_sample_them_tindung_visa\n"
     ]
    }
   ],
   "source": [
    "!ls\n",
    "csv_file = './data/train_all_1.csv'\n",
    "csv_file_1 = './data/database_intent_old.csv'\n",
    "csv_file_2 = './data/data_new_intent.csv'"
   ]
  },
  {
   "cell_type": "markdown",
   "id": "2879a437-c52f-4373-aa62-3c5d1849d712",
   "metadata": {},
   "source": [
    "## Read data train"
   ]
  },
  {
   "cell_type": "code",
   "execution_count": 5,
   "id": "9329af7d-e605-4823-8feb-6a3690de49b4",
   "metadata": {
    "tags": []
   },
   "outputs": [
    {
     "ename": "FileNotFoundError",
     "evalue": "[Errno 2] No such file or directory: './data/train_all_1.csv'",
     "output_type": "error",
     "traceback": [
      "\u001b[0;31m---------------------------------------------------------------------------\u001b[0m",
      "\u001b[0;31mFileNotFoundError\u001b[0m                         Traceback (most recent call last)",
      "Cell \u001b[0;32mIn[5], line 1\u001b[0m\n\u001b[0;32m----> 1\u001b[0m data_df \u001b[38;5;241m=\u001b[39m \u001b[43mpd\u001b[49m\u001b[38;5;241;43m.\u001b[39;49m\u001b[43mread_csv\u001b[49m\u001b[43m(\u001b[49m\u001b[43mcsv_file\u001b[49m\u001b[43m)\u001b[49m\n\u001b[1;32m      2\u001b[0m data_df\u001b[38;5;241m.\u001b[39mhead()\n",
      "File \u001b[0;32m/data2/nghiatl/anaconda3/envs/SEO/lib/python3.8/site-packages/pandas/util/_decorators.py:211\u001b[0m, in \u001b[0;36mdeprecate_kwarg.<locals>._deprecate_kwarg.<locals>.wrapper\u001b[0;34m(*args, **kwargs)\u001b[0m\n\u001b[1;32m    209\u001b[0m     \u001b[38;5;28;01melse\u001b[39;00m:\n\u001b[1;32m    210\u001b[0m         kwargs[new_arg_name] \u001b[38;5;241m=\u001b[39m new_arg_value\n\u001b[0;32m--> 211\u001b[0m \u001b[38;5;28;01mreturn\u001b[39;00m \u001b[43mfunc\u001b[49m\u001b[43m(\u001b[49m\u001b[38;5;241;43m*\u001b[39;49m\u001b[43margs\u001b[49m\u001b[43m,\u001b[49m\u001b[43m \u001b[49m\u001b[38;5;241;43m*\u001b[39;49m\u001b[38;5;241;43m*\u001b[39;49m\u001b[43mkwargs\u001b[49m\u001b[43m)\u001b[49m\n",
      "File \u001b[0;32m/data2/nghiatl/anaconda3/envs/SEO/lib/python3.8/site-packages/pandas/util/_decorators.py:331\u001b[0m, in \u001b[0;36mdeprecate_nonkeyword_arguments.<locals>.decorate.<locals>.wrapper\u001b[0;34m(*args, **kwargs)\u001b[0m\n\u001b[1;32m    325\u001b[0m \u001b[38;5;28;01mif\u001b[39;00m \u001b[38;5;28mlen\u001b[39m(args) \u001b[38;5;241m>\u001b[39m num_allow_args:\n\u001b[1;32m    326\u001b[0m     warnings\u001b[38;5;241m.\u001b[39mwarn(\n\u001b[1;32m    327\u001b[0m         msg\u001b[38;5;241m.\u001b[39mformat(arguments\u001b[38;5;241m=\u001b[39m_format_argument_list(allow_args)),\n\u001b[1;32m    328\u001b[0m         \u001b[38;5;167;01mFutureWarning\u001b[39;00m,\n\u001b[1;32m    329\u001b[0m         stacklevel\u001b[38;5;241m=\u001b[39mfind_stack_level(),\n\u001b[1;32m    330\u001b[0m     )\n\u001b[0;32m--> 331\u001b[0m \u001b[38;5;28;01mreturn\u001b[39;00m \u001b[43mfunc\u001b[49m\u001b[43m(\u001b[49m\u001b[38;5;241;43m*\u001b[39;49m\u001b[43margs\u001b[49m\u001b[43m,\u001b[49m\u001b[43m \u001b[49m\u001b[38;5;241;43m*\u001b[39;49m\u001b[38;5;241;43m*\u001b[39;49m\u001b[43mkwargs\u001b[49m\u001b[43m)\u001b[49m\n",
      "File \u001b[0;32m/data2/nghiatl/anaconda3/envs/SEO/lib/python3.8/site-packages/pandas/io/parsers/readers.py:950\u001b[0m, in \u001b[0;36mread_csv\u001b[0;34m(filepath_or_buffer, sep, delimiter, header, names, index_col, usecols, squeeze, prefix, mangle_dupe_cols, dtype, engine, converters, true_values, false_values, skipinitialspace, skiprows, skipfooter, nrows, na_values, keep_default_na, na_filter, verbose, skip_blank_lines, parse_dates, infer_datetime_format, keep_date_col, date_parser, dayfirst, cache_dates, iterator, chunksize, compression, thousands, decimal, lineterminator, quotechar, quoting, doublequote, escapechar, comment, encoding, encoding_errors, dialect, error_bad_lines, warn_bad_lines, on_bad_lines, delim_whitespace, low_memory, memory_map, float_precision, storage_options)\u001b[0m\n\u001b[1;32m    935\u001b[0m kwds_defaults \u001b[38;5;241m=\u001b[39m _refine_defaults_read(\n\u001b[1;32m    936\u001b[0m     dialect,\n\u001b[1;32m    937\u001b[0m     delimiter,\n\u001b[0;32m   (...)\u001b[0m\n\u001b[1;32m    946\u001b[0m     defaults\u001b[38;5;241m=\u001b[39m{\u001b[38;5;124m\"\u001b[39m\u001b[38;5;124mdelimiter\u001b[39m\u001b[38;5;124m\"\u001b[39m: \u001b[38;5;124m\"\u001b[39m\u001b[38;5;124m,\u001b[39m\u001b[38;5;124m\"\u001b[39m},\n\u001b[1;32m    947\u001b[0m )\n\u001b[1;32m    948\u001b[0m kwds\u001b[38;5;241m.\u001b[39mupdate(kwds_defaults)\n\u001b[0;32m--> 950\u001b[0m \u001b[38;5;28;01mreturn\u001b[39;00m \u001b[43m_read\u001b[49m\u001b[43m(\u001b[49m\u001b[43mfilepath_or_buffer\u001b[49m\u001b[43m,\u001b[49m\u001b[43m \u001b[49m\u001b[43mkwds\u001b[49m\u001b[43m)\u001b[49m\n",
      "File \u001b[0;32m/data2/nghiatl/anaconda3/envs/SEO/lib/python3.8/site-packages/pandas/io/parsers/readers.py:605\u001b[0m, in \u001b[0;36m_read\u001b[0;34m(filepath_or_buffer, kwds)\u001b[0m\n\u001b[1;32m    602\u001b[0m _validate_names(kwds\u001b[38;5;241m.\u001b[39mget(\u001b[38;5;124m\"\u001b[39m\u001b[38;5;124mnames\u001b[39m\u001b[38;5;124m\"\u001b[39m, \u001b[38;5;28;01mNone\u001b[39;00m))\n\u001b[1;32m    604\u001b[0m \u001b[38;5;66;03m# Create the parser.\u001b[39;00m\n\u001b[0;32m--> 605\u001b[0m parser \u001b[38;5;241m=\u001b[39m \u001b[43mTextFileReader\u001b[49m\u001b[43m(\u001b[49m\u001b[43mfilepath_or_buffer\u001b[49m\u001b[43m,\u001b[49m\u001b[43m \u001b[49m\u001b[38;5;241;43m*\u001b[39;49m\u001b[38;5;241;43m*\u001b[39;49m\u001b[43mkwds\u001b[49m\u001b[43m)\u001b[49m\n\u001b[1;32m    607\u001b[0m \u001b[38;5;28;01mif\u001b[39;00m chunksize \u001b[38;5;129;01mor\u001b[39;00m iterator:\n\u001b[1;32m    608\u001b[0m     \u001b[38;5;28;01mreturn\u001b[39;00m parser\n",
      "File \u001b[0;32m/data2/nghiatl/anaconda3/envs/SEO/lib/python3.8/site-packages/pandas/io/parsers/readers.py:1442\u001b[0m, in \u001b[0;36mTextFileReader.__init__\u001b[0;34m(self, f, engine, **kwds)\u001b[0m\n\u001b[1;32m   1439\u001b[0m     \u001b[38;5;28mself\u001b[39m\u001b[38;5;241m.\u001b[39moptions[\u001b[38;5;124m\"\u001b[39m\u001b[38;5;124mhas_index_names\u001b[39m\u001b[38;5;124m\"\u001b[39m] \u001b[38;5;241m=\u001b[39m kwds[\u001b[38;5;124m\"\u001b[39m\u001b[38;5;124mhas_index_names\u001b[39m\u001b[38;5;124m\"\u001b[39m]\n\u001b[1;32m   1441\u001b[0m \u001b[38;5;28mself\u001b[39m\u001b[38;5;241m.\u001b[39mhandles: IOHandles \u001b[38;5;241m|\u001b[39m \u001b[38;5;28;01mNone\u001b[39;00m \u001b[38;5;241m=\u001b[39m \u001b[38;5;28;01mNone\u001b[39;00m\n\u001b[0;32m-> 1442\u001b[0m \u001b[38;5;28mself\u001b[39m\u001b[38;5;241m.\u001b[39m_engine \u001b[38;5;241m=\u001b[39m \u001b[38;5;28;43mself\u001b[39;49m\u001b[38;5;241;43m.\u001b[39;49m\u001b[43m_make_engine\u001b[49m\u001b[43m(\u001b[49m\u001b[43mf\u001b[49m\u001b[43m,\u001b[49m\u001b[43m \u001b[49m\u001b[38;5;28;43mself\u001b[39;49m\u001b[38;5;241;43m.\u001b[39;49m\u001b[43mengine\u001b[49m\u001b[43m)\u001b[49m\n",
      "File \u001b[0;32m/data2/nghiatl/anaconda3/envs/SEO/lib/python3.8/site-packages/pandas/io/parsers/readers.py:1735\u001b[0m, in \u001b[0;36mTextFileReader._make_engine\u001b[0;34m(self, f, engine)\u001b[0m\n\u001b[1;32m   1733\u001b[0m     \u001b[38;5;28;01mif\u001b[39;00m \u001b[38;5;124m\"\u001b[39m\u001b[38;5;124mb\u001b[39m\u001b[38;5;124m\"\u001b[39m \u001b[38;5;129;01mnot\u001b[39;00m \u001b[38;5;129;01min\u001b[39;00m mode:\n\u001b[1;32m   1734\u001b[0m         mode \u001b[38;5;241m+\u001b[39m\u001b[38;5;241m=\u001b[39m \u001b[38;5;124m\"\u001b[39m\u001b[38;5;124mb\u001b[39m\u001b[38;5;124m\"\u001b[39m\n\u001b[0;32m-> 1735\u001b[0m \u001b[38;5;28mself\u001b[39m\u001b[38;5;241m.\u001b[39mhandles \u001b[38;5;241m=\u001b[39m \u001b[43mget_handle\u001b[49m\u001b[43m(\u001b[49m\n\u001b[1;32m   1736\u001b[0m \u001b[43m    \u001b[49m\u001b[43mf\u001b[49m\u001b[43m,\u001b[49m\n\u001b[1;32m   1737\u001b[0m \u001b[43m    \u001b[49m\u001b[43mmode\u001b[49m\u001b[43m,\u001b[49m\n\u001b[1;32m   1738\u001b[0m \u001b[43m    \u001b[49m\u001b[43mencoding\u001b[49m\u001b[38;5;241;43m=\u001b[39;49m\u001b[38;5;28;43mself\u001b[39;49m\u001b[38;5;241;43m.\u001b[39;49m\u001b[43moptions\u001b[49m\u001b[38;5;241;43m.\u001b[39;49m\u001b[43mget\u001b[49m\u001b[43m(\u001b[49m\u001b[38;5;124;43m\"\u001b[39;49m\u001b[38;5;124;43mencoding\u001b[39;49m\u001b[38;5;124;43m\"\u001b[39;49m\u001b[43m,\u001b[49m\u001b[43m \u001b[49m\u001b[38;5;28;43;01mNone\u001b[39;49;00m\u001b[43m)\u001b[49m\u001b[43m,\u001b[49m\n\u001b[1;32m   1739\u001b[0m \u001b[43m    \u001b[49m\u001b[43mcompression\u001b[49m\u001b[38;5;241;43m=\u001b[39;49m\u001b[38;5;28;43mself\u001b[39;49m\u001b[38;5;241;43m.\u001b[39;49m\u001b[43moptions\u001b[49m\u001b[38;5;241;43m.\u001b[39;49m\u001b[43mget\u001b[49m\u001b[43m(\u001b[49m\u001b[38;5;124;43m\"\u001b[39;49m\u001b[38;5;124;43mcompression\u001b[39;49m\u001b[38;5;124;43m\"\u001b[39;49m\u001b[43m,\u001b[49m\u001b[43m \u001b[49m\u001b[38;5;28;43;01mNone\u001b[39;49;00m\u001b[43m)\u001b[49m\u001b[43m,\u001b[49m\n\u001b[1;32m   1740\u001b[0m \u001b[43m    \u001b[49m\u001b[43mmemory_map\u001b[49m\u001b[38;5;241;43m=\u001b[39;49m\u001b[38;5;28;43mself\u001b[39;49m\u001b[38;5;241;43m.\u001b[39;49m\u001b[43moptions\u001b[49m\u001b[38;5;241;43m.\u001b[39;49m\u001b[43mget\u001b[49m\u001b[43m(\u001b[49m\u001b[38;5;124;43m\"\u001b[39;49m\u001b[38;5;124;43mmemory_map\u001b[39;49m\u001b[38;5;124;43m\"\u001b[39;49m\u001b[43m,\u001b[49m\u001b[43m \u001b[49m\u001b[38;5;28;43;01mFalse\u001b[39;49;00m\u001b[43m)\u001b[49m\u001b[43m,\u001b[49m\n\u001b[1;32m   1741\u001b[0m \u001b[43m    \u001b[49m\u001b[43mis_text\u001b[49m\u001b[38;5;241;43m=\u001b[39;49m\u001b[43mis_text\u001b[49m\u001b[43m,\u001b[49m\n\u001b[1;32m   1742\u001b[0m \u001b[43m    \u001b[49m\u001b[43merrors\u001b[49m\u001b[38;5;241;43m=\u001b[39;49m\u001b[38;5;28;43mself\u001b[39;49m\u001b[38;5;241;43m.\u001b[39;49m\u001b[43moptions\u001b[49m\u001b[38;5;241;43m.\u001b[39;49m\u001b[43mget\u001b[49m\u001b[43m(\u001b[49m\u001b[38;5;124;43m\"\u001b[39;49m\u001b[38;5;124;43mencoding_errors\u001b[39;49m\u001b[38;5;124;43m\"\u001b[39;49m\u001b[43m,\u001b[49m\u001b[43m \u001b[49m\u001b[38;5;124;43m\"\u001b[39;49m\u001b[38;5;124;43mstrict\u001b[39;49m\u001b[38;5;124;43m\"\u001b[39;49m\u001b[43m)\u001b[49m\u001b[43m,\u001b[49m\n\u001b[1;32m   1743\u001b[0m \u001b[43m    \u001b[49m\u001b[43mstorage_options\u001b[49m\u001b[38;5;241;43m=\u001b[39;49m\u001b[38;5;28;43mself\u001b[39;49m\u001b[38;5;241;43m.\u001b[39;49m\u001b[43moptions\u001b[49m\u001b[38;5;241;43m.\u001b[39;49m\u001b[43mget\u001b[49m\u001b[43m(\u001b[49m\u001b[38;5;124;43m\"\u001b[39;49m\u001b[38;5;124;43mstorage_options\u001b[39;49m\u001b[38;5;124;43m\"\u001b[39;49m\u001b[43m,\u001b[49m\u001b[43m \u001b[49m\u001b[38;5;28;43;01mNone\u001b[39;49;00m\u001b[43m)\u001b[49m\u001b[43m,\u001b[49m\n\u001b[1;32m   1744\u001b[0m \u001b[43m\u001b[49m\u001b[43m)\u001b[49m\n\u001b[1;32m   1745\u001b[0m \u001b[38;5;28;01massert\u001b[39;00m \u001b[38;5;28mself\u001b[39m\u001b[38;5;241m.\u001b[39mhandles \u001b[38;5;129;01mis\u001b[39;00m \u001b[38;5;129;01mnot\u001b[39;00m \u001b[38;5;28;01mNone\u001b[39;00m\n\u001b[1;32m   1746\u001b[0m f \u001b[38;5;241m=\u001b[39m \u001b[38;5;28mself\u001b[39m\u001b[38;5;241m.\u001b[39mhandles\u001b[38;5;241m.\u001b[39mhandle\n",
      "File \u001b[0;32m/data2/nghiatl/anaconda3/envs/SEO/lib/python3.8/site-packages/pandas/io/common.py:856\u001b[0m, in \u001b[0;36mget_handle\u001b[0;34m(path_or_buf, mode, encoding, compression, memory_map, is_text, errors, storage_options)\u001b[0m\n\u001b[1;32m    851\u001b[0m \u001b[38;5;28;01melif\u001b[39;00m \u001b[38;5;28misinstance\u001b[39m(handle, \u001b[38;5;28mstr\u001b[39m):\n\u001b[1;32m    852\u001b[0m     \u001b[38;5;66;03m# Check whether the filename is to be opened in binary mode.\u001b[39;00m\n\u001b[1;32m    853\u001b[0m     \u001b[38;5;66;03m# Binary mode does not support 'encoding' and 'newline'.\u001b[39;00m\n\u001b[1;32m    854\u001b[0m     \u001b[38;5;28;01mif\u001b[39;00m ioargs\u001b[38;5;241m.\u001b[39mencoding \u001b[38;5;129;01mand\u001b[39;00m \u001b[38;5;124m\"\u001b[39m\u001b[38;5;124mb\u001b[39m\u001b[38;5;124m\"\u001b[39m \u001b[38;5;129;01mnot\u001b[39;00m \u001b[38;5;129;01min\u001b[39;00m ioargs\u001b[38;5;241m.\u001b[39mmode:\n\u001b[1;32m    855\u001b[0m         \u001b[38;5;66;03m# Encoding\u001b[39;00m\n\u001b[0;32m--> 856\u001b[0m         handle \u001b[38;5;241m=\u001b[39m \u001b[38;5;28;43mopen\u001b[39;49m\u001b[43m(\u001b[49m\n\u001b[1;32m    857\u001b[0m \u001b[43m            \u001b[49m\u001b[43mhandle\u001b[49m\u001b[43m,\u001b[49m\n\u001b[1;32m    858\u001b[0m \u001b[43m            \u001b[49m\u001b[43mioargs\u001b[49m\u001b[38;5;241;43m.\u001b[39;49m\u001b[43mmode\u001b[49m\u001b[43m,\u001b[49m\n\u001b[1;32m    859\u001b[0m \u001b[43m            \u001b[49m\u001b[43mencoding\u001b[49m\u001b[38;5;241;43m=\u001b[39;49m\u001b[43mioargs\u001b[49m\u001b[38;5;241;43m.\u001b[39;49m\u001b[43mencoding\u001b[49m\u001b[43m,\u001b[49m\n\u001b[1;32m    860\u001b[0m \u001b[43m            \u001b[49m\u001b[43merrors\u001b[49m\u001b[38;5;241;43m=\u001b[39;49m\u001b[43merrors\u001b[49m\u001b[43m,\u001b[49m\n\u001b[1;32m    861\u001b[0m \u001b[43m            \u001b[49m\u001b[43mnewline\u001b[49m\u001b[38;5;241;43m=\u001b[39;49m\u001b[38;5;124;43m\"\u001b[39;49m\u001b[38;5;124;43m\"\u001b[39;49m\u001b[43m,\u001b[49m\n\u001b[1;32m    862\u001b[0m \u001b[43m        \u001b[49m\u001b[43m)\u001b[49m\n\u001b[1;32m    863\u001b[0m     \u001b[38;5;28;01melse\u001b[39;00m:\n\u001b[1;32m    864\u001b[0m         \u001b[38;5;66;03m# Binary mode\u001b[39;00m\n\u001b[1;32m    865\u001b[0m         handle \u001b[38;5;241m=\u001b[39m \u001b[38;5;28mopen\u001b[39m(handle, ioargs\u001b[38;5;241m.\u001b[39mmode)\n",
      "\u001b[0;31mFileNotFoundError\u001b[0m: [Errno 2] No such file or directory: './data/train_all_1.csv'"
     ]
    }
   ],
   "source": [
    "data_df = pd.read_csv(csv_file)\n",
    "data_df.head()"
   ]
  },
  {
   "cell_type": "code",
   "execution_count": null,
   "id": "6e851508-575c-4209-8c5f-0d6819262081",
   "metadata": {
    "tags": []
   },
   "outputs": [],
   "source": [
    "data_df_1"
   ]
  },
  {
   "cell_type": "code",
   "execution_count": 20,
   "id": "97abae82-e5fb-4bb6-84bf-f9e1e8346bcf",
   "metadata": {
    "tags": []
   },
   "outputs": [
    {
     "data": {
      "text/html": [
       "<div>\n",
       "<style scoped>\n",
       "    .dataframe tbody tr th:only-of-type {\n",
       "        vertical-align: middle;\n",
       "    }\n",
       "\n",
       "    .dataframe tbody tr th {\n",
       "        vertical-align: top;\n",
       "    }\n",
       "\n",
       "    .dataframe thead th {\n",
       "        text-align: right;\n",
       "    }\n",
       "</style>\n",
       "<table border=\"1\" class=\"dataframe\">\n",
       "  <thead>\n",
       "    <tr style=\"text-align: right;\">\n",
       "      <th></th>\n",
       "      <th>Unnamed: 0</th>\n",
       "      <th>text</th>\n",
       "      <th>label</th>\n",
       "      <th>message_clean</th>\n",
       "    </tr>\n",
       "  </thead>\n",
       "  <tbody>\n",
       "    <tr>\n",
       "      <th>0</th>\n",
       "      <td>0</td>\n",
       "      <td>tư vấn giúp mình với</td>\n",
       "      <td>greetings</td>\n",
       "      <td>tư vấn giúp mình với</td>\n",
       "    </tr>\n",
       "    <tr>\n",
       "      <th>1</th>\n",
       "      <td>1</td>\n",
       "      <td>hi</td>\n",
       "      <td>greetings</td>\n",
       "      <td>hi</td>\n",
       "    </tr>\n",
       "    <tr>\n",
       "      <th>2</th>\n",
       "      <td>2</td>\n",
       "      <td>hi ad</td>\n",
       "      <td>greetings</td>\n",
       "      <td>hi ad</td>\n",
       "    </tr>\n",
       "    <tr>\n",
       "      <th>3</th>\n",
       "      <td>3</td>\n",
       "      <td>chào buổi sáng</td>\n",
       "      <td>greetings</td>\n",
       "      <td>chào buổi sáng</td>\n",
       "    </tr>\n",
       "    <tr>\n",
       "      <th>4</th>\n",
       "      <td>4</td>\n",
       "      <td>hello</td>\n",
       "      <td>greetings</td>\n",
       "      <td>hello</td>\n",
       "    </tr>\n",
       "  </tbody>\n",
       "</table>\n",
       "</div>"
      ],
      "text/plain": [
       "   Unnamed: 0                  text      label         message_clean\n",
       "0           0  tư vấn giúp mình với  greetings  tư vấn giúp mình với\n",
       "1           1                    hi  greetings                    hi\n",
       "2           2                 hi ad  greetings                 hi ad\n",
       "3           3        chào buổi sáng  greetings        chào buổi sáng\n",
       "4           4                 hello  greetings                 hello"
      ]
     },
     "execution_count": 20,
     "metadata": {},
     "output_type": "execute_result"
    }
   ],
   "source": [
    "data_df_1 = pd.read_csv(csv_file_1)\n",
    "data_df_1.head()"
   ]
  },
  {
   "cell_type": "code",
   "execution_count": 128,
   "id": "16db8375-3cd9-4dcd-8d98-93f289a687d3",
   "metadata": {
    "tags": []
   },
   "outputs": [
    {
     "data": {
      "text/html": [
       "<div>\n",
       "<style scoped>\n",
       "    .dataframe tbody tr th:only-of-type {\n",
       "        vertical-align: middle;\n",
       "    }\n",
       "\n",
       "    .dataframe tbody tr th {\n",
       "        vertical-align: top;\n",
       "    }\n",
       "\n",
       "    .dataframe thead th {\n",
       "        text-align: right;\n",
       "    }\n",
       "</style>\n",
       "<table border=\"1\" class=\"dataframe\">\n",
       "  <thead>\n",
       "    <tr style=\"text-align: right;\">\n",
       "      <th></th>\n",
       "      <th>Unnamed: 0</th>\n",
       "      <th>text</th>\n",
       "      <th>label</th>\n",
       "    </tr>\n",
       "  </thead>\n",
       "  <tbody>\n",
       "    <tr>\n",
       "      <th>0</th>\n",
       "      <td>0</td>\n",
       "      <td>Tôi nên chọn kênh nào nếu muốn đầu tư?</td>\n",
       "      <td>dautu_kenh</td>\n",
       "    </tr>\n",
       "    <tr>\n",
       "      <th>1</th>\n",
       "      <td>1</td>\n",
       "      <td>Tôi có thể đầu tư vào kênh nào?</td>\n",
       "      <td>dautu_kenh</td>\n",
       "    </tr>\n",
       "    <tr>\n",
       "      <th>2</th>\n",
       "      <td>2</td>\n",
       "      <td>Muốn đầu tư thì nên chọn kênh nào?</td>\n",
       "      <td>dautu_kenh</td>\n",
       "    </tr>\n",
       "    <tr>\n",
       "      <th>3</th>\n",
       "      <td>3</td>\n",
       "      <td>Tư vấn giúp tôi các kênh đầu tư</td>\n",
       "      <td>dautu_kenh</td>\n",
       "    </tr>\n",
       "    <tr>\n",
       "      <th>4</th>\n",
       "      <td>4</td>\n",
       "      <td>Đầu tư vào kênh nào được nhỉ?</td>\n",
       "      <td>dautu_kenh</td>\n",
       "    </tr>\n",
       "  </tbody>\n",
       "</table>\n",
       "</div>"
      ],
      "text/plain": [
       "   Unnamed: 0                                    text       label\n",
       "0           0  Tôi nên chọn kênh nào nếu muốn đầu tư?  dautu_kenh\n",
       "1           1         Tôi có thể đầu tư vào kênh nào?  dautu_kenh\n",
       "2           2      Muốn đầu tư thì nên chọn kênh nào?  dautu_kenh\n",
       "3           3         Tư vấn giúp tôi các kênh đầu tư  dautu_kenh\n",
       "4           4           Đầu tư vào kênh nào được nhỉ?  dautu_kenh"
      ]
     },
     "execution_count": 128,
     "metadata": {},
     "output_type": "execute_result"
    }
   ],
   "source": [
    "data_df_2 = pd.read_csv(csv_file_2)\n",
    "data_df_2.head()"
   ]
  },
  {
   "cell_type": "code",
   "execution_count": 10,
   "id": "87c98fb3-57af-4d54-853e-db9bf3709673",
   "metadata": {
    "tags": []
   },
   "outputs": [
    {
     "data": {
      "text/html": [
       "<div>\n",
       "<style scoped>\n",
       "    .dataframe tbody tr th:only-of-type {\n",
       "        vertical-align: middle;\n",
       "    }\n",
       "\n",
       "    .dataframe tbody tr th {\n",
       "        vertical-align: top;\n",
       "    }\n",
       "\n",
       "    .dataframe thead th {\n",
       "        text-align: right;\n",
       "    }\n",
       "</style>\n",
       "<table border=\"1\" class=\"dataframe\">\n",
       "  <thead>\n",
       "    <tr style=\"text-align: right;\">\n",
       "      <th></th>\n",
       "      <th>text</th>\n",
       "      <th>label</th>\n",
       "    </tr>\n",
       "  </thead>\n",
       "  <tbody>\n",
       "    <tr>\n",
       "      <th>1150</th>\n",
       "      <td>tôi bị mất ví và tất cả các thẻ của tôi đều ở ...</td>\n",
       "      <td>nghiepvuthe_matthe</td>\n",
       "    </tr>\n",
       "    <tr>\n",
       "      <th>1151</th>\n",
       "      <td>tôi đang hoảng loạn tôi bị mất thẻ của tôi giú...</td>\n",
       "      <td>nghiepvuthe_matthe</td>\n",
       "    </tr>\n",
       "    <tr>\n",
       "      <th>1152</th>\n",
       "      <td>tôi cần báo cáo thẻ bị đánh cắp</td>\n",
       "      <td>nghiepvuthe_matthe</td>\n",
       "    </tr>\n",
       "    <tr>\n",
       "      <th>1153</th>\n",
       "      <td>làm cách nào để thay thế thẻ bị đánh cắp</td>\n",
       "      <td>nghiepvuthe_matthe</td>\n",
       "    </tr>\n",
       "    <tr>\n",
       "      <th>1154</th>\n",
       "      <td>bạn có thể cung cấp thông tin để đóng băng thẻ...</td>\n",
       "      <td>nghiepvuthe_matthe</td>\n",
       "    </tr>\n",
       "    <tr>\n",
       "      <th>...</th>\n",
       "      <td>...</td>\n",
       "      <td>...</td>\n",
       "    </tr>\n",
       "    <tr>\n",
       "      <th>1484</th>\n",
       "      <td>Em muốn làm thẻ ATM ạ</td>\n",
       "      <td>nghiepvuthe_dangkythe</td>\n",
       "    </tr>\n",
       "    <tr>\n",
       "      <th>1485</th>\n",
       "      <td>Tôi có thể mở thẻ master online được ko?</td>\n",
       "      <td>nghiepvuthe_dangkythe</td>\n",
       "    </tr>\n",
       "    <tr>\n",
       "      <th>1486</th>\n",
       "      <td>Hướng dẫn tôi mở thẻ</td>\n",
       "      <td>nghiepvuthe_dangkythe</td>\n",
       "    </tr>\n",
       "    <tr>\n",
       "      <th>1487</th>\n",
       "      <td>mình muốn tạo một cái thẻ atm thì làm sao nhỉ</td>\n",
       "      <td>nghiepvuthe_dangkythe</td>\n",
       "    </tr>\n",
       "    <tr>\n",
       "      <th>1488</th>\n",
       "      <td>mình muốn đăng ký làm thẻ atm bạn hướng dẫn mì...</td>\n",
       "      <td>nghiepvuthe_dangkythe</td>\n",
       "    </tr>\n",
       "  </tbody>\n",
       "</table>\n",
       "<p>339 rows × 2 columns</p>\n",
       "</div>"
      ],
      "text/plain": [
       "                                                   text                  label\n",
       "1150  tôi bị mất ví và tất cả các thẻ của tôi đều ở ...     nghiepvuthe_matthe\n",
       "1151  tôi đang hoảng loạn tôi bị mất thẻ của tôi giú...     nghiepvuthe_matthe\n",
       "1152                    tôi cần báo cáo thẻ bị đánh cắp     nghiepvuthe_matthe\n",
       "1153           làm cách nào để thay thế thẻ bị đánh cắp     nghiepvuthe_matthe\n",
       "1154  bạn có thể cung cấp thông tin để đóng băng thẻ...     nghiepvuthe_matthe\n",
       "...                                                 ...                    ...\n",
       "1484                              Em muốn làm thẻ ATM ạ  nghiepvuthe_dangkythe\n",
       "1485           Tôi có thể mở thẻ master online được ko?  nghiepvuthe_dangkythe\n",
       "1486                               Hướng dẫn tôi mở thẻ  nghiepvuthe_dangkythe\n",
       "1487      mình muốn tạo một cái thẻ atm thì làm sao nhỉ  nghiepvuthe_dangkythe\n",
       "1488  mình muốn đăng ký làm thẻ atm bạn hướng dẫn mì...  nghiepvuthe_dangkythe\n",
       "\n",
       "[339 rows x 2 columns]"
      ]
     },
     "execution_count": 10,
     "metadata": {},
     "output_type": "execute_result"
    }
   ],
   "source": [
    "data_df = data_df.loc[1150:]\n",
    "data_df"
   ]
  },
  {
   "cell_type": "code",
   "execution_count": 15,
   "id": "a11b6ad6-73a9-4219-a435-e32c30fe2ece",
   "metadata": {
    "tags": []
   },
   "outputs": [
    {
     "name": "stderr",
     "output_type": "stream",
     "text": [
      "/data2/nghiatl/.tmp/ipykernel_3839211/3728802237.py:1: SettingWithCopyWarning: \n",
      "A value is trying to be set on a copy of a slice from a DataFrame\n",
      "\n",
      "See the caveats in the documentation: https://pandas.pydata.org/pandas-docs/stable/user_guide/indexing.html#returning-a-view-versus-a-copy\n",
      "  data_df['label'].replace({\"giolamviec_giaodichvien\":\"giolamviec_chinhanh\"}, inplace = True)\n"
     ]
    }
   ],
   "source": [
    "data_df['label'].replace({\"giolamviec_giaodichvien\":\"giolamviec_chinhanh\"}, inplace = True)"
   ]
  },
  {
   "cell_type": "code",
   "execution_count": 124,
   "id": "cb544217-a388-44dd-8e87-6534323be07b",
   "metadata": {
    "tags": []
   },
   "outputs": [
    {
     "data": {
      "text/html": [
       "<div>\n",
       "<style scoped>\n",
       "    .dataframe tbody tr th:only-of-type {\n",
       "        vertical-align: middle;\n",
       "    }\n",
       "\n",
       "    .dataframe tbody tr th {\n",
       "        vertical-align: top;\n",
       "    }\n",
       "\n",
       "    .dataframe thead th {\n",
       "        text-align: right;\n",
       "    }\n",
       "</style>\n",
       "<table border=\"1\" class=\"dataframe\">\n",
       "  <thead>\n",
       "    <tr style=\"text-align: right;\">\n",
       "      <th></th>\n",
       "      <th>text</th>\n",
       "      <th>label</th>\n",
       "    </tr>\n",
       "  </thead>\n",
       "  <tbody>\n",
       "    <tr>\n",
       "      <th>1339</th>\n",
       "      <td>bên mình đóng quầy mấy giờ</td>\n",
       "      <td>giolamviec_chinhanh</td>\n",
       "    </tr>\n",
       "    <tr>\n",
       "      <th>1340</th>\n",
       "      <td>giao dịch sớm nhất mấy giờ</td>\n",
       "      <td>giolamviec_chinhanh</td>\n",
       "    </tr>\n",
       "    <tr>\n",
       "      <th>1341</th>\n",
       "      <td>mấy giờ sáng qua giao dịch được</td>\n",
       "      <td>giolamviec_chinhanh</td>\n",
       "    </tr>\n",
       "    <tr>\n",
       "      <th>1342</th>\n",
       "      <td>vib có giao dịch thứ 7 không</td>\n",
       "      <td>giolamviec_chinhanh</td>\n",
       "    </tr>\n",
       "    <tr>\n",
       "      <th>1343</th>\n",
       "      <td>chiều mấy giờ đóng giao dịch</td>\n",
       "      <td>giolamviec_chinhanh</td>\n",
       "    </tr>\n",
       "    <tr>\n",
       "      <th>1344</th>\n",
       "      <td>mai bên em mấy giờ giao dịch</td>\n",
       "      <td>giolamviec_chinhanh</td>\n",
       "    </tr>\n",
       "    <tr>\n",
       "      <th>1345</th>\n",
       "      <td>mở giao dịch mấy giờ</td>\n",
       "      <td>giolamviec_chinhanh</td>\n",
       "    </tr>\n",
       "    <tr>\n",
       "      <th>1346</th>\n",
       "      <td>đóng giao dịch muộn nhất lúc nào</td>\n",
       "      <td>giolamviec_chinhanh</td>\n",
       "    </tr>\n",
       "  </tbody>\n",
       "</table>\n",
       "</div>"
      ],
      "text/plain": [
       "                                  text                label\n",
       "1339        bên mình đóng quầy mấy giờ  giolamviec_chinhanh\n",
       "1340        giao dịch sớm nhất mấy giờ  giolamviec_chinhanh\n",
       "1341   mấy giờ sáng qua giao dịch được  giolamviec_chinhanh\n",
       "1342      vib có giao dịch thứ 7 không  giolamviec_chinhanh\n",
       "1343      chiều mấy giờ đóng giao dịch  giolamviec_chinhanh\n",
       "1344      mai bên em mấy giờ giao dịch  giolamviec_chinhanh\n",
       "1345              mở giao dịch mấy giờ  giolamviec_chinhanh\n",
       "1346  đóng giao dịch muộn nhất lúc nào  giolamviec_chinhanh"
      ]
     },
     "execution_count": 124,
     "metadata": {},
     "output_type": "execute_result"
    }
   ],
   "source": [
    "data_df[data_df['label'] == \"giolamviec_chinhanh\"]"
   ]
  },
  {
   "cell_type": "code",
   "execution_count": 21,
   "id": "8c779da9-de30-418e-8fe4-09cf894b52f0",
   "metadata": {
    "tags": []
   },
   "outputs": [
    {
     "data": {
      "text/html": [
       "<div>\n",
       "<style scoped>\n",
       "    .dataframe tbody tr th:only-of-type {\n",
       "        vertical-align: middle;\n",
       "    }\n",
       "\n",
       "    .dataframe tbody tr th {\n",
       "        vertical-align: top;\n",
       "    }\n",
       "\n",
       "    .dataframe thead th {\n",
       "        text-align: right;\n",
       "    }\n",
       "</style>\n",
       "<table border=\"1\" class=\"dataframe\">\n",
       "  <thead>\n",
       "    <tr style=\"text-align: right;\">\n",
       "      <th></th>\n",
       "      <th>label</th>\n",
       "      <th>text</th>\n",
       "    </tr>\n",
       "  </thead>\n",
       "  <tbody>\n",
       "    <tr>\n",
       "      <th>0</th>\n",
       "      <td>greetings</td>\n",
       "      <td>tư vấn giúp mình với</td>\n",
       "    </tr>\n",
       "    <tr>\n",
       "      <th>1</th>\n",
       "      <td>greetings</td>\n",
       "      <td>hi</td>\n",
       "    </tr>\n",
       "    <tr>\n",
       "      <th>2</th>\n",
       "      <td>greetings</td>\n",
       "      <td>hi ad</td>\n",
       "    </tr>\n",
       "    <tr>\n",
       "      <th>3</th>\n",
       "      <td>greetings</td>\n",
       "      <td>chào buổi sáng</td>\n",
       "    </tr>\n",
       "    <tr>\n",
       "      <th>4</th>\n",
       "      <td>greetings</td>\n",
       "      <td>hello</td>\n",
       "    </tr>\n",
       "    <tr>\n",
       "      <th>...</th>\n",
       "      <td>...</td>\n",
       "      <td>...</td>\n",
       "    </tr>\n",
       "    <tr>\n",
       "      <th>759</th>\n",
       "      <td>outofscoreother</td>\n",
       "      <td>tôi phải làm gì khi bị mất hoặc hỏng thiết bị ...</td>\n",
       "    </tr>\n",
       "    <tr>\n",
       "      <th>760</th>\n",
       "      <td>outofscoreother</td>\n",
       "      <td>tôi có thể nhờ bạn bè hay người thân đăng ký s...</td>\n",
       "    </tr>\n",
       "    <tr>\n",
       "      <th>761</th>\n",
       "      <td>outofscoreother</td>\n",
       "      <td>tiện ích khi đăng ký dịch vụ ebanking</td>\n",
       "    </tr>\n",
       "    <tr>\n",
       "      <th>762</th>\n",
       "      <td>outofscoreother</td>\n",
       "      <td>tôi đã chuyển khoản nhưng người thụ hưởng chưa...</td>\n",
       "    </tr>\n",
       "    <tr>\n",
       "      <th>763</th>\n",
       "      <td>outofscoreother</td>\n",
       "      <td>tôi quên tên đăng nhập và mật khẩu internet ba...</td>\n",
       "    </tr>\n",
       "  </tbody>\n",
       "</table>\n",
       "<p>764 rows × 2 columns</p>\n",
       "</div>"
      ],
      "text/plain": [
       "               label                                               text\n",
       "0          greetings                               tư vấn giúp mình với\n",
       "1          greetings                                                 hi\n",
       "2          greetings                                              hi ad\n",
       "3          greetings                                     chào buổi sáng\n",
       "4          greetings                                              hello\n",
       "..               ...                                                ...\n",
       "759  outofscoreother  tôi phải làm gì khi bị mất hoặc hỏng thiết bị ...\n",
       "760  outofscoreother  tôi có thể nhờ bạn bè hay người thân đăng ký s...\n",
       "761  outofscoreother              tiện ích khi đăng ký dịch vụ ebanking\n",
       "762  outofscoreother  tôi đã chuyển khoản nhưng người thụ hưởng chưa...\n",
       "763  outofscoreother  tôi quên tên đăng nhập và mật khẩu internet ba...\n",
       "\n",
       "[764 rows x 2 columns]"
      ]
     },
     "execution_count": 21,
     "metadata": {},
     "output_type": "execute_result"
    }
   ],
   "source": [
    "data_df_1.drop(columns=['Unnamed: 0', 'text'], inplace = True)\n",
    "data_df_1.rename(columns = {\"message_clean\":\"text\"}, inplace = True)\n",
    "data_df_1"
   ]
  },
  {
   "cell_type": "code",
   "execution_count": 129,
   "id": "c8312681-3024-4b0a-9a82-1d74b43eef65",
   "metadata": {
    "tags": []
   },
   "outputs": [],
   "source": [
    "data_df_2.drop(columns=['Unnamed: 0'], inplace = True)"
   ]
  },
  {
   "cell_type": "code",
   "execution_count": 17,
   "id": "d0625041-d150-4ede-ad40-87346123c7b5",
   "metadata": {
    "tags": []
   },
   "outputs": [
    {
     "data": {
      "text/plain": [
       "<AxesSubplot: >"
      ]
     },
     "execution_count": 17,
     "metadata": {},
     "output_type": "execute_result"
    },
    {
     "data": {
      "image/png": "[encoded data removed]",
      "text/plain": [
       "<Figure size 640x480 with 1 Axes>"
      ]
     },
     "metadata": {},
     "output_type": "display_data"
    }
   ],
   "source": [
    "data_df['label'].value_counts().plot(y=['li','la'],kind='barh')"
   ]
  },
  {
   "cell_type": "code",
   "execution_count": 33,
   "id": "6178e192-8cb4-4f0c-a594-74d32f08a3a0",
   "metadata": {
    "tags": []
   },
   "outputs": [
    {
     "data": {
      "text/html": [
       "<div>\n",
       "<style scoped>\n",
       "    .dataframe tbody tr th:only-of-type {\n",
       "        vertical-align: middle;\n",
       "    }\n",
       "\n",
       "    .dataframe tbody tr th {\n",
       "        vertical-align: top;\n",
       "    }\n",
       "\n",
       "    .dataframe thead th {\n",
       "        text-align: right;\n",
       "    }\n",
       "</style>\n",
       "<table border=\"1\" class=\"dataframe\">\n",
       "  <thead>\n",
       "    <tr style=\"text-align: right;\">\n",
       "      <th></th>\n",
       "      <th>Unnamed: 0</th>\n",
       "      <th>Intent</th>\n",
       "      <th>message</th>\n",
       "      <th>Answer</th>\n",
       "      <th>label</th>\n",
       "    </tr>\n",
       "  </thead>\n",
       "  <tbody>\n",
       "    <tr>\n",
       "      <th>0</th>\n",
       "      <td>0</td>\n",
       "      <td>VIB có thẻ visa/mastercard hay không?</td>\n",
       "      <td>Bên mình có thẻ tín dụng visa hay mastercard g...</td>\n",
       "      <td>Hiện tại VIB đang có 2 loại thẻ tín dụng Visa ...</td>\n",
       "      <td>nghiepvuthe_vibvisamastercard</td>\n",
       "    </tr>\n",
       "    <tr>\n",
       "      <th>1</th>\n",
       "      <td>1</td>\n",
       "      <td>VIB có thẻ visa/mastercard hay không?</td>\n",
       "      <td>VIB có những loại thẻ visa hay mastercard nào?</td>\n",
       "      <td>Hiện tại VIB đang có 2 loại thẻ tín dụng Visa ...</td>\n",
       "      <td>nghiepvuthe_vibvisamastercard</td>\n",
       "    </tr>\n",
       "    <tr>\n",
       "      <th>2</th>\n",
       "      <td>2</td>\n",
       "      <td>VIB có thẻ visa/mastercard hay không?</td>\n",
       "      <td>Cho tôi thông tin các loại thẻ visa hoặc maste...</td>\n",
       "      <td>Hiện tại VIB đang có 2 loại thẻ tín dụng Visa ...</td>\n",
       "      <td>nghiepvuthe_vibvisamastercard</td>\n",
       "    </tr>\n",
       "    <tr>\n",
       "      <th>3</th>\n",
       "      <td>3</td>\n",
       "      <td>VIB có thẻ visa/mastercard hay không?</td>\n",
       "      <td>VIB có thẻ visa, mastercard như thế nào</td>\n",
       "      <td>Hiện tại VIB đang có 2 loại thẻ tín dụng Visa ...</td>\n",
       "      <td>nghiepvuthe_vibvisamastercard</td>\n",
       "    </tr>\n",
       "    <tr>\n",
       "      <th>4</th>\n",
       "      <td>4</td>\n",
       "      <td>VIB có thẻ visa/mastercard hay không?</td>\n",
       "      <td>Tư vấn cho tôi về loại thẻ visa hoặc mastercar...</td>\n",
       "      <td>Hiện tại VIB đang có 2 loại thẻ tín dụng Visa ...</td>\n",
       "      <td>nghiepvuthe_vibvisamastercard</td>\n",
       "    </tr>\n",
       "  </tbody>\n",
       "</table>\n",
       "</div>"
      ],
      "text/plain": [
       "   Unnamed: 0                                 Intent  \\\n",
       "0           0  VIB có thẻ visa/mastercard hay không?   \n",
       "1           1  VIB có thẻ visa/mastercard hay không?   \n",
       "2           2  VIB có thẻ visa/mastercard hay không?   \n",
       "3           3  VIB có thẻ visa/mastercard hay không?   \n",
       "4           4  VIB có thẻ visa/mastercard hay không?   \n",
       "\n",
       "                                             message  \\\n",
       "0  Bên mình có thẻ tín dụng visa hay mastercard g...   \n",
       "1     VIB có những loại thẻ visa hay mastercard nào?   \n",
       "2  Cho tôi thông tin các loại thẻ visa hoặc maste...   \n",
       "3            VIB có thẻ visa, mastercard như thế nào   \n",
       "4  Tư vấn cho tôi về loại thẻ visa hoặc mastercar...   \n",
       "\n",
       "                                              Answer  \\\n",
       "0  Hiện tại VIB đang có 2 loại thẻ tín dụng Visa ...   \n",
       "1  Hiện tại VIB đang có 2 loại thẻ tín dụng Visa ...   \n",
       "2  Hiện tại VIB đang có 2 loại thẻ tín dụng Visa ...   \n",
       "3  Hiện tại VIB đang có 2 loại thẻ tín dụng Visa ...   \n",
       "4  Hiện tại VIB đang có 2 loại thẻ tín dụng Visa ...   \n",
       "\n",
       "                           label  \n",
       "0  nghiepvuthe_vibvisamastercard  \n",
       "1  nghiepvuthe_vibvisamastercard  \n",
       "2  nghiepvuthe_vibvisamastercard  \n",
       "3  nghiepvuthe_vibvisamastercard  \n",
       "4  nghiepvuthe_vibvisamastercard  "
      ]
     },
     "execution_count": 33,
     "metadata": {},
     "output_type": "execute_result"
    }
   ],
   "source": [
    "data_df_1 = pd.read_csv(csv_file_1)\n",
    "data_df_1.head()"
   ]
  },
  {
   "cell_type": "code",
   "execution_count": 35,
   "id": "91b8232f-ee19-4d7f-9b59-1bd2e284576a",
   "metadata": {
    "tags": []
   },
   "outputs": [
    {
     "data": {
      "text/html": [
       "<div>\n",
       "<style scoped>\n",
       "    .dataframe tbody tr th:only-of-type {\n",
       "        vertical-align: middle;\n",
       "    }\n",
       "\n",
       "    .dataframe tbody tr th {\n",
       "        vertical-align: top;\n",
       "    }\n",
       "\n",
       "    .dataframe thead th {\n",
       "        text-align: right;\n",
       "    }\n",
       "</style>\n",
       "<table border=\"1\" class=\"dataframe\">\n",
       "  <thead>\n",
       "    <tr style=\"text-align: right;\">\n",
       "      <th></th>\n",
       "      <th>text</th>\n",
       "      <th>label</th>\n",
       "    </tr>\n",
       "  </thead>\n",
       "  <tbody>\n",
       "    <tr>\n",
       "      <th>0</th>\n",
       "      <td>Bên mình có thẻ tín dụng visa hay mastercard g...</td>\n",
       "      <td>nghiepvuthe_vibvisamastercard</td>\n",
       "    </tr>\n",
       "    <tr>\n",
       "      <th>1</th>\n",
       "      <td>VIB có những loại thẻ visa hay mastercard nào?</td>\n",
       "      <td>nghiepvuthe_vibvisamastercard</td>\n",
       "    </tr>\n",
       "    <tr>\n",
       "      <th>2</th>\n",
       "      <td>Cho tôi thông tin các loại thẻ visa hoặc maste...</td>\n",
       "      <td>nghiepvuthe_vibvisamastercard</td>\n",
       "    </tr>\n",
       "    <tr>\n",
       "      <th>3</th>\n",
       "      <td>VIB có thẻ visa, mastercard như thế nào</td>\n",
       "      <td>nghiepvuthe_vibvisamastercard</td>\n",
       "    </tr>\n",
       "    <tr>\n",
       "      <th>4</th>\n",
       "      <td>Tư vấn cho tôi về loại thẻ visa hoặc mastercar...</td>\n",
       "      <td>nghiepvuthe_vibvisamastercard</td>\n",
       "    </tr>\n",
       "  </tbody>\n",
       "</table>\n",
       "</div>"
      ],
      "text/plain": [
       "                                                text  \\\n",
       "0  Bên mình có thẻ tín dụng visa hay mastercard g...   \n",
       "1     VIB có những loại thẻ visa hay mastercard nào?   \n",
       "2  Cho tôi thông tin các loại thẻ visa hoặc maste...   \n",
       "3            VIB có thẻ visa, mastercard như thế nào   \n",
       "4  Tư vấn cho tôi về loại thẻ visa hoặc mastercar...   \n",
       "\n",
       "                           label  \n",
       "0  nghiepvuthe_vibvisamastercard  \n",
       "1  nghiepvuthe_vibvisamastercard  \n",
       "2  nghiepvuthe_vibvisamastercard  \n",
       "3  nghiepvuthe_vibvisamastercard  \n",
       "4  nghiepvuthe_vibvisamastercard  "
      ]
     },
     "execution_count": 35,
     "metadata": {},
     "output_type": "execute_result"
    }
   ],
   "source": [
    "# data_df_1.drop(columns=['Intent', 'Answer', 'Unnamed: 0'], inplace = True)\n",
    "data_df_1.rename(columns={'message':'text'}, inplace =True)\n",
    "data_df_1.head()"
   ]
  },
  {
   "cell_type": "code",
   "execution_count": 42,
   "id": "dc503441-10f9-4805-b4f3-a20dae4b4a5a",
   "metadata": {
    "tags": []
   },
   "outputs": [
    {
     "data": {
      "text/html": [
       "<div>\n",
       "<style scoped>\n",
       "    .dataframe tbody tr th:only-of-type {\n",
       "        vertical-align: middle;\n",
       "    }\n",
       "\n",
       "    .dataframe tbody tr th {\n",
       "        vertical-align: top;\n",
       "    }\n",
       "\n",
       "    .dataframe thead th {\n",
       "        text-align: right;\n",
       "    }\n",
       "</style>\n",
       "<table border=\"1\" class=\"dataframe\">\n",
       "  <thead>\n",
       "    <tr style=\"text-align: right;\">\n",
       "      <th></th>\n",
       "      <th>text</th>\n",
       "      <th>label</th>\n",
       "    </tr>\n",
       "  </thead>\n",
       "  <tbody>\n",
       "    <tr>\n",
       "      <th>0</th>\n",
       "      <td>Hôm nay có hoạt động nào trên thẻ của tôi không?</td>\n",
       "      <td>lost_or_stolen_card</td>\n",
       "    </tr>\n",
       "    <tr>\n",
       "      <th>1</th>\n",
       "      <td>Tôi bị mất ví và tất cả các thẻ của tôi đều ở ...</td>\n",
       "      <td>lost_or_stolen_card</td>\n",
       "    </tr>\n",
       "    <tr>\n",
       "      <th>2</th>\n",
       "      <td>Tôi đang hoảng loạn! Tôi bị mất thẻ của tôi! G...</td>\n",
       "      <td>lost_or_stolen_card</td>\n",
       "    </tr>\n",
       "    <tr>\n",
       "      <th>3</th>\n",
       "      <td>Tôi cần báo cáo thẻ bị đánh cắp</td>\n",
       "      <td>lost_or_stolen_card</td>\n",
       "    </tr>\n",
       "    <tr>\n",
       "      <th>4</th>\n",
       "      <td>Làm cách nào để thay thế thẻ bị đánh cắp?</td>\n",
       "      <td>lost_or_stolen_card</td>\n",
       "    </tr>\n",
       "  </tbody>\n",
       "</table>\n",
       "</div>"
      ],
      "text/plain": [
       "                                                text                label\n",
       "0   Hôm nay có hoạt động nào trên thẻ của tôi không?  lost_or_stolen_card\n",
       "1  Tôi bị mất ví và tất cả các thẻ của tôi đều ở ...  lost_or_stolen_card\n",
       "2  Tôi đang hoảng loạn! Tôi bị mất thẻ của tôi! G...  lost_or_stolen_card\n",
       "3                    Tôi cần báo cáo thẻ bị đánh cắp  lost_or_stolen_card\n",
       "4          Làm cách nào để thay thế thẻ bị đánh cắp?  lost_or_stolen_card"
      ]
     },
     "execution_count": 42,
     "metadata": {},
     "output_type": "execute_result"
    }
   ],
   "source": [
    "data_df_2 = pd.read_csv(csv_file_2)\n",
    "data_df_2.head()"
   ]
  },
  {
   "cell_type": "markdown",
   "id": "6e924d55-8f53-4a8e-a2fe-e64a2bed8a89",
   "metadata": {
    "tags": []
   },
   "source": [
    "## Test data"
   ]
  },
  {
   "cell_type": "code",
   "execution_count": 66,
   "id": "675a8739-432e-4be9-bc32-c3c4a519c5c3",
   "metadata": {
    "tags": []
   },
   "outputs": [],
   "source": [
    "test_csv_file = './data/test.csv'\n",
    "test_csv_file_3 = './data/test_all_1.csv'"
   ]
  },
  {
   "cell_type": "code",
   "execution_count": 67,
   "id": "11866f47-9aff-41f9-93fa-60f27779282f",
   "metadata": {
    "tags": []
   },
   "outputs": [
    {
     "data": {
      "text/html": [
       "<div>\n",
       "<style scoped>\n",
       "    .dataframe tbody tr th:only-of-type {\n",
       "        vertical-align: middle;\n",
       "    }\n",
       "\n",
       "    .dataframe tbody tr th {\n",
       "        vertical-align: top;\n",
       "    }\n",
       "\n",
       "    .dataframe thead th {\n",
       "        text-align: right;\n",
       "    }\n",
       "</style>\n",
       "<table border=\"1\" class=\"dataframe\">\n",
       "  <thead>\n",
       "    <tr style=\"text-align: right;\">\n",
       "      <th></th>\n",
       "      <th>label</th>\n",
       "      <th>message</th>\n",
       "      <th>predict_label</th>\n",
       "      <th>message_clean</th>\n",
       "    </tr>\n",
       "  </thead>\n",
       "  <tbody>\n",
       "    <tr>\n",
       "      <th>0</th>\n",
       "      <td>greetings</td>\n",
       "      <td>chào bạn cho mình hỏi chút với ạ</td>\n",
       "      <td>greetings</td>\n",
       "      <td>chào bạn cho mình hỏi chút với ạ</td>\n",
       "    </tr>\n",
       "    <tr>\n",
       "      <th>1</th>\n",
       "      <td>greetings</td>\n",
       "      <td>xin chào mình là Nghĩa</td>\n",
       "      <td>greetings</td>\n",
       "      <td>xin chào mình là nghĩa</td>\n",
       "    </tr>\n",
       "    <tr>\n",
       "      <th>2</th>\n",
       "      <td>greetings</td>\n",
       "      <td>tên t là Thảo</td>\n",
       "      <td>greetings</td>\n",
       "      <td>tên tôi là thảo</td>\n",
       "    </tr>\n",
       "    <tr>\n",
       "      <th>3</th>\n",
       "      <td>greetings</td>\n",
       "      <td>b có thể giúp tôi được không</td>\n",
       "      <td>outofscoreother</td>\n",
       "      <td>bạn có thể giúp tôi được không</td>\n",
       "    </tr>\n",
       "    <tr>\n",
       "      <th>4</th>\n",
       "      <td>greetings</td>\n",
       "      <td>t cần hỏi một số việc</td>\n",
       "      <td>mainmenu</td>\n",
       "      <td>tôi cần hỏi một số việc</td>\n",
       "    </tr>\n",
       "    <tr>\n",
       "      <th>...</th>\n",
       "      <td>...</td>\n",
       "      <td>...</td>\n",
       "      <td>...</td>\n",
       "      <td>...</td>\n",
       "    </tr>\n",
       "    <tr>\n",
       "      <th>222</th>\n",
       "      <td>submenucomplain</td>\n",
       "      <td>bạn trả lời tệ thế</td>\n",
       "      <td>submenucomplain</td>\n",
       "      <td>bạn trả lời tệ thế</td>\n",
       "    </tr>\n",
       "    <tr>\n",
       "      <th>223</th>\n",
       "      <td>submenucomplain</td>\n",
       "      <td>tệ thật sự</td>\n",
       "      <td>submenucomplain</td>\n",
       "      <td>tệ thật sự</td>\n",
       "    </tr>\n",
       "    <tr>\n",
       "      <th>224</th>\n",
       "      <td>submenucomplain</td>\n",
       "      <td>kém quá đi</td>\n",
       "      <td>submenucomplain</td>\n",
       "      <td>kém quá đi</td>\n",
       "    </tr>\n",
       "    <tr>\n",
       "      <th>225</th>\n",
       "      <td>submenucomplain</td>\n",
       "      <td>thái độ nhân viên thiếu chuyên nghiệp</td>\n",
       "      <td>submenucomplain</td>\n",
       "      <td>thái độ nhân viên thiếu chuyên nghiệp</td>\n",
       "    </tr>\n",
       "    <tr>\n",
       "      <th>226</th>\n",
       "      <td>submenucomplain</td>\n",
       "      <td>thái độ của nhân viên quá tệ</td>\n",
       "      <td>submenucomplain</td>\n",
       "      <td>thái độ của nhân viên quá tệ</td>\n",
       "    </tr>\n",
       "  </tbody>\n",
       "</table>\n",
       "<p>227 rows × 4 columns</p>\n",
       "</div>"
      ],
      "text/plain": [
       "               label                                message    predict_label  \\\n",
       "0          greetings       chào bạn cho mình hỏi chút với ạ        greetings   \n",
       "1          greetings                 xin chào mình là Nghĩa        greetings   \n",
       "2          greetings                          tên t là Thảo        greetings   \n",
       "3          greetings           b có thể giúp tôi được không  outofscoreother   \n",
       "4          greetings                  t cần hỏi một số việc         mainmenu   \n",
       "..               ...                                    ...              ...   \n",
       "222  submenucomplain                     bạn trả lời tệ thế  submenucomplain   \n",
       "223  submenucomplain                             tệ thật sự  submenucomplain   \n",
       "224  submenucomplain                             kém quá đi  submenucomplain   \n",
       "225  submenucomplain  thái độ nhân viên thiếu chuyên nghiệp  submenucomplain   \n",
       "226  submenucomplain           thái độ của nhân viên quá tệ  submenucomplain   \n",
       "\n",
       "                             message_clean  \n",
       "0         chào bạn cho mình hỏi chút với ạ  \n",
       "1                   xin chào mình là nghĩa  \n",
       "2                          tên tôi là thảo  \n",
       "3           bạn có thể giúp tôi được không  \n",
       "4                  tôi cần hỏi một số việc  \n",
       "..                                     ...  \n",
       "222                     bạn trả lời tệ thế  \n",
       "223                             tệ thật sự  \n",
       "224                             kém quá đi  \n",
       "225  thái độ nhân viên thiếu chuyên nghiệp  \n",
       "226           thái độ của nhân viên quá tệ  \n",
       "\n",
       "[227 rows x 4 columns]"
      ]
     },
     "execution_count": 67,
     "metadata": {},
     "output_type": "execute_result"
    }
   ],
   "source": [
    "test_df = pd.read_csv(test_csv_file)\n",
    "test_df_3 = pd.read_csv(test_csv_file_3)\n",
    "test_df"
   ]
  },
  {
   "cell_type": "code",
   "execution_count": 164,
   "id": "60c64df5-385f-49cf-8ad5-f57838dcc972",
   "metadata": {
    "tags": []
   },
   "outputs": [],
   "source": [
    "# test_df_3[:197]"
   ]
  },
  {
   "cell_type": "code",
   "execution_count": 161,
   "id": "3ade6e9b-c1b8-43bc-8e96-40a6d6c46897",
   "metadata": {
    "tags": []
   },
   "outputs": [],
   "source": [
    "# new_test_1 = test_df_3[:197]\n",
    "# new_test_2 = test_df_3[327:]\n",
    "# new_test_2"
   ]
  },
  {
   "cell_type": "code",
   "execution_count": 165,
   "id": "241b4286-6af9-47ec-b283-0bdd9948d5e7",
   "metadata": {
    "tags": []
   },
   "outputs": [
    {
     "data": {
      "text/html": [
       "<div>\n",
       "<style scoped>\n",
       "    .dataframe tbody tr th:only-of-type {\n",
       "        vertical-align: middle;\n",
       "    }\n",
       "\n",
       "    .dataframe tbody tr th {\n",
       "        vertical-align: top;\n",
       "    }\n",
       "\n",
       "    .dataframe thead th {\n",
       "        text-align: right;\n",
       "    }\n",
       "</style>\n",
       "<table border=\"1\" class=\"dataframe\">\n",
       "  <thead>\n",
       "    <tr style=\"text-align: right;\">\n",
       "      <th></th>\n",
       "      <th>label</th>\n",
       "      <th>text</th>\n",
       "    </tr>\n",
       "  </thead>\n",
       "  <tbody>\n",
       "    <tr>\n",
       "      <th>0</th>\n",
       "      <td>greetings</td>\n",
       "      <td>chào bạn cho mình hỏi chút với ạ</td>\n",
       "    </tr>\n",
       "    <tr>\n",
       "      <th>1</th>\n",
       "      <td>greetings</td>\n",
       "      <td>xin chào mình là nghĩa</td>\n",
       "    </tr>\n",
       "    <tr>\n",
       "      <th>2</th>\n",
       "      <td>greetings</td>\n",
       "      <td>tên tôi là thảo</td>\n",
       "    </tr>\n",
       "    <tr>\n",
       "      <th>3</th>\n",
       "      <td>greetings</td>\n",
       "      <td>bạn có thể giúp tôi được không</td>\n",
       "    </tr>\n",
       "    <tr>\n",
       "      <th>4</th>\n",
       "      <td>greetings</td>\n",
       "      <td>tôi cần hỏi một số việc</td>\n",
       "    </tr>\n",
       "    <tr>\n",
       "      <th>...</th>\n",
       "      <td>...</td>\n",
       "      <td>...</td>\n",
       "    </tr>\n",
       "    <tr>\n",
       "      <th>407</th>\n",
       "      <td>taikhoan_kiemtrasodu</td>\n",
       "      <td>làm sao để kiểm tra số dư tài khoản ạ</td>\n",
       "    </tr>\n",
       "    <tr>\n",
       "      <th>408</th>\n",
       "      <td>dautu_traiphieu</td>\n",
       "      <td>cung cấp cho tôi thông tin về trái phiếu với</td>\n",
       "    </tr>\n",
       "    <tr>\n",
       "      <th>409</th>\n",
       "      <td>nghiepvuthe_vibplus</td>\n",
       "      <td>ứng dụng vib plus là gì vậy</td>\n",
       "    </tr>\n",
       "    <tr>\n",
       "      <th>410</th>\n",
       "      <td>nghiepvuthe_dangkythe_khongluong</td>\n",
       "      <td>thu nhập của tôi không ổn định thì mở thẻ tín ...</td>\n",
       "    </tr>\n",
       "    <tr>\n",
       "      <th>411</th>\n",
       "      <td>nghiepvuthe_vibvisadining_uudai</td>\n",
       "      <td>tôi muốn biết những ưu đãi của thẻ visa dining</td>\n",
       "    </tr>\n",
       "  </tbody>\n",
       "</table>\n",
       "<p>412 rows × 2 columns</p>\n",
       "</div>"
      ],
      "text/plain": [
       "                                label  \\\n",
       "0                           greetings   \n",
       "1                           greetings   \n",
       "2                           greetings   \n",
       "3                           greetings   \n",
       "4                           greetings   \n",
       "..                                ...   \n",
       "407              taikhoan_kiemtrasodu   \n",
       "408                   dautu_traiphieu   \n",
       "409               nghiepvuthe_vibplus   \n",
       "410  nghiepvuthe_dangkythe_khongluong   \n",
       "411   nghiepvuthe_vibvisadining_uudai   \n",
       "\n",
       "                                                  text  \n",
       "0                     chào bạn cho mình hỏi chút với ạ  \n",
       "1                               xin chào mình là nghĩa  \n",
       "2                                      tên tôi là thảo  \n",
       "3                       bạn có thể giúp tôi được không  \n",
       "4                              tôi cần hỏi một số việc  \n",
       "..                                                 ...  \n",
       "407              làm sao để kiểm tra số dư tài khoản ạ  \n",
       "408       cung cấp cho tôi thông tin về trái phiếu với  \n",
       "409                        ứng dụng vib plus là gì vậy  \n",
       "410  thu nhập của tôi không ổn định thì mở thẻ tín ...  \n",
       "411     tôi muốn biết những ưu đãi của thẻ visa dining  \n",
       "\n",
       "[412 rows x 2 columns]"
      ]
     },
     "execution_count": 165,
     "metadata": {},
     "output_type": "execute_result"
    }
   ],
   "source": [
    "new_test = pd.concat([new_test_1, new_test_2, new_intent_test], ignore_index=True)\n",
    "new_test"
   ]
  },
  {
   "cell_type": "code",
   "execution_count": 166,
   "id": "ab3226ab-50e2-4d9e-8d98-6e18f15e53e0",
   "metadata": {
    "tags": []
   },
   "outputs": [
    {
     "data": {
      "text/html": [
       "<div>\n",
       "<style scoped>\n",
       "    .dataframe tbody tr th:only-of-type {\n",
       "        vertical-align: middle;\n",
       "    }\n",
       "\n",
       "    .dataframe tbody tr th {\n",
       "        vertical-align: top;\n",
       "    }\n",
       "\n",
       "    .dataframe thead th {\n",
       "        text-align: right;\n",
       "    }\n",
       "</style>\n",
       "<table border=\"1\" class=\"dataframe\">\n",
       "  <thead>\n",
       "    <tr style=\"text-align: right;\">\n",
       "      <th></th>\n",
       "      <th>label</th>\n",
       "      <th>text</th>\n",
       "    </tr>\n",
       "  </thead>\n",
       "  <tbody>\n",
       "    <tr>\n",
       "      <th>285</th>\n",
       "      <td>giolamviec_giaodichvien</td>\n",
       "      <td>tôi muốn biết thời gian làm việc của giao dịch...</td>\n",
       "    </tr>\n",
       "    <tr>\n",
       "      <th>294</th>\n",
       "      <td>giolamviec_giaodichvien</td>\n",
       "      <td>buổi sáng mấy giờ giao dịch viên làm việc</td>\n",
       "    </tr>\n",
       "  </tbody>\n",
       "</table>\n",
       "</div>"
      ],
      "text/plain": [
       "                       label  \\\n",
       "285  giolamviec_giaodichvien   \n",
       "294  giolamviec_giaodichvien   \n",
       "\n",
       "                                                  text  \n",
       "285  tôi muốn biết thời gian làm việc của giao dịch...  \n",
       "294          buổi sáng mấy giờ giao dịch viên làm việc  "
      ]
     },
     "execution_count": 166,
     "metadata": {},
     "output_type": "execute_result"
    }
   ],
   "source": [
    "new_test[new_test['label'] == 'giolamviec_giaodichvien']"
   ]
  },
  {
   "cell_type": "code",
   "execution_count": 167,
   "id": "bed85a8d-c513-4658-8b5c-fdddb4a903ed",
   "metadata": {
    "tags": []
   },
   "outputs": [
    {
     "data": {
      "text/plain": [
       "set()"
      ]
     },
     "execution_count": 167,
     "metadata": {},
     "output_type": "execute_result"
    }
   ],
   "source": [
    "set(data_df_train_af['label'].unique().tolist()) - set(new_test['label'].unique().tolist())"
   ]
  },
  {
   "cell_type": "code",
   "execution_count": 168,
   "id": "f927b16f-11a3-4395-9d7b-a4cd6e3b1794",
   "metadata": {
    "tags": []
   },
   "outputs": [],
   "source": [
    "new_test.to_csv('./data/10-04/test_all.csv', index = False)"
   ]
  },
  {
   "cell_type": "code",
   "execution_count": 15,
   "id": "fba2bee3-392f-4b57-aa90-483904c87edc",
   "metadata": {
    "tags": []
   },
   "outputs": [
    {
     "data": {
      "text/html": [
       "<div>\n",
       "<style scoped>\n",
       "    .dataframe tbody tr th:only-of-type {\n",
       "        vertical-align: middle;\n",
       "    }\n",
       "\n",
       "    .dataframe tbody tr th {\n",
       "        vertical-align: top;\n",
       "    }\n",
       "\n",
       "    .dataframe thead th {\n",
       "        text-align: right;\n",
       "    }\n",
       "</style>\n",
       "<table border=\"1\" class=\"dataframe\">\n",
       "  <thead>\n",
       "    <tr style=\"text-align: right;\">\n",
       "      <th></th>\n",
       "      <th>label</th>\n",
       "      <th>text</th>\n",
       "    </tr>\n",
       "  </thead>\n",
       "  <tbody>\n",
       "    <tr>\n",
       "      <th>0</th>\n",
       "      <td>greetings</td>\n",
       "      <td>chào bạn cho mình hỏi chút với ạ</td>\n",
       "    </tr>\n",
       "    <tr>\n",
       "      <th>1</th>\n",
       "      <td>greetings</td>\n",
       "      <td>xin chào mình là nghĩa</td>\n",
       "    </tr>\n",
       "    <tr>\n",
       "      <th>2</th>\n",
       "      <td>greetings</td>\n",
       "      <td>tên tôi là thảo</td>\n",
       "    </tr>\n",
       "    <tr>\n",
       "      <th>3</th>\n",
       "      <td>greetings</td>\n",
       "      <td>bạn có thể giúp tôi được không</td>\n",
       "    </tr>\n",
       "    <tr>\n",
       "      <th>4</th>\n",
       "      <td>greetings</td>\n",
       "      <td>tôi cần hỏi một số việc</td>\n",
       "    </tr>\n",
       "  </tbody>\n",
       "</table>\n",
       "</div>"
      ],
      "text/plain": [
       "       label                              text\n",
       "0  greetings  chào bạn cho mình hỏi chút với ạ\n",
       "1  greetings            xin chào mình là nghĩa\n",
       "2  greetings                   tên tôi là thảo\n",
       "3  greetings    bạn có thể giúp tôi được không\n",
       "4  greetings           tôi cần hỏi một số việc"
      ]
     },
     "execution_count": 15,
     "metadata": {},
     "output_type": "execute_result"
    }
   ],
   "source": [
    "test_df.rename(columns={'message_clean':'text'}, inplace =True)\n",
    "test_df.drop(columns=['predict_label', 'message'], inplace = True)\n",
    "test_df.head()"
   ]
  },
  {
   "cell_type": "code",
   "execution_count": 25,
   "id": "d86fee2f-a326-4b94-bc6c-2e1f8c7f5db6",
   "metadata": {
    "tags": []
   },
   "outputs": [],
   "source": [
    "test_df = test_df[(test_df['label'] != 'cardproductdangkythe') & (test_df['label'] != 'cardproductkhuyenmai') & (test_df['label'] != 'submenubieuphi')]"
   ]
  },
  {
   "cell_type": "code",
   "execution_count": 16,
   "id": "7d7d502c-b453-4a89-869e-bad775952d19",
   "metadata": {
    "tags": []
   },
   "outputs": [],
   "source": [
    "test_df_3.replace({'terminate_account':'taikhoan_khoa', 'lost_or_stolen_card':'nghiepvuthe_matthe'}, inplace = True)"
   ]
  },
  {
   "cell_type": "code",
   "execution_count": 31,
   "id": "85a43753-3ea3-46e7-a176-33c6c9617228",
   "metadata": {
    "tags": []
   },
   "outputs": [
    {
     "data": {
      "text/html": [
       "<div>\n",
       "<style scoped>\n",
       "    .dataframe tbody tr th:only-of-type {\n",
       "        vertical-align: middle;\n",
       "    }\n",
       "\n",
       "    .dataframe tbody tr th {\n",
       "        vertical-align: top;\n",
       "    }\n",
       "\n",
       "    .dataframe thead th {\n",
       "        text-align: right;\n",
       "    }\n",
       "</style>\n",
       "<table border=\"1\" class=\"dataframe\">\n",
       "  <thead>\n",
       "    <tr style=\"text-align: right;\">\n",
       "      <th></th>\n",
       "      <th>label</th>\n",
       "      <th>text</th>\n",
       "    </tr>\n",
       "  </thead>\n",
       "  <tbody>\n",
       "    <tr>\n",
       "      <th>0</th>\n",
       "      <td>greetings</td>\n",
       "      <td>chào bạn cho mình hỏi chút với ạ</td>\n",
       "    </tr>\n",
       "    <tr>\n",
       "      <th>1</th>\n",
       "      <td>greetings</td>\n",
       "      <td>xin chào mình là nghĩa</td>\n",
       "    </tr>\n",
       "    <tr>\n",
       "      <th>2</th>\n",
       "      <td>greetings</td>\n",
       "      <td>tên tôi là thảo</td>\n",
       "    </tr>\n",
       "    <tr>\n",
       "      <th>3</th>\n",
       "      <td>greetings</td>\n",
       "      <td>bạn có thể giúp tôi được không</td>\n",
       "    </tr>\n",
       "    <tr>\n",
       "      <th>4</th>\n",
       "      <td>greetings</td>\n",
       "      <td>tôi cần hỏi một số việc</td>\n",
       "    </tr>\n",
       "    <tr>\n",
       "      <th>...</th>\n",
       "      <td>...</td>\n",
       "      <td>...</td>\n",
       "    </tr>\n",
       "    <tr>\n",
       "      <th>481</th>\n",
       "      <td>taikhoan_khoa</td>\n",
       "      <td>i don t find your services useful anymore how ...</td>\n",
       "    </tr>\n",
       "    <tr>\n",
       "      <th>482</th>\n",
       "      <td>taikhoan_khoa</td>\n",
       "      <td>please delete my account this company is not w...</td>\n",
       "    </tr>\n",
       "    <tr>\n",
       "      <th>483</th>\n",
       "      <td>taikhoan_khoa</td>\n",
       "      <td>i want to delete my account i m unhappy with t...</td>\n",
       "    </tr>\n",
       "    <tr>\n",
       "      <th>484</th>\n",
       "      <td>taikhoan_khoa</td>\n",
       "      <td>can you tell me how to close my account</td>\n",
       "    </tr>\n",
       "    <tr>\n",
       "      <th>485</th>\n",
       "      <td>taikhoan_khoa</td>\n",
       "      <td>this company sucks can you terminate my account</td>\n",
       "    </tr>\n",
       "  </tbody>\n",
       "</table>\n",
       "<p>486 rows × 2 columns</p>\n",
       "</div>"
      ],
      "text/plain": [
       "             label                                               text\n",
       "0        greetings                   chào bạn cho mình hỏi chút với ạ\n",
       "1        greetings                             xin chào mình là nghĩa\n",
       "2        greetings                                    tên tôi là thảo\n",
       "3        greetings                     bạn có thể giúp tôi được không\n",
       "4        greetings                            tôi cần hỏi một số việc\n",
       "..             ...                                                ...\n",
       "481  taikhoan_khoa  i don t find your services useful anymore how ...\n",
       "482  taikhoan_khoa  please delete my account this company is not w...\n",
       "483  taikhoan_khoa  i want to delete my account i m unhappy with t...\n",
       "484  taikhoan_khoa            can you tell me how to close my account\n",
       "485  taikhoan_khoa    this company sucks can you terminate my account\n",
       "\n",
       "[486 rows x 2 columns]"
      ]
     },
     "execution_count": 31,
     "metadata": {},
     "output_type": "execute_result"
    }
   ],
   "source": [
    "test_df_all = pd.concat([test_df, test_df_3], ignore_index=True)\n",
    "test_df_all"
   ]
  },
  {
   "cell_type": "code",
   "execution_count": 29,
   "id": "b8ef50ea-e0a0-4a94-9a1f-d2749f9bba62",
   "metadata": {
    "tags": []
   },
   "outputs": [
    {
     "data": {
      "text/html": [
       "<div>\n",
       "<style scoped>\n",
       "    .dataframe tbody tr th:only-of-type {\n",
       "        vertical-align: middle;\n",
       "    }\n",
       "\n",
       "    .dataframe tbody tr th {\n",
       "        vertical-align: top;\n",
       "    }\n",
       "\n",
       "    .dataframe thead th {\n",
       "        text-align: right;\n",
       "    }\n",
       "</style>\n",
       "<table border=\"1\" class=\"dataframe\">\n",
       "  <thead>\n",
       "    <tr style=\"text-align: right;\">\n",
       "      <th></th>\n",
       "      <th>text</th>\n",
       "      <th>label</th>\n",
       "    </tr>\n",
       "  </thead>\n",
       "  <tbody>\n",
       "    <tr>\n",
       "      <th>0</th>\n",
       "      <td>chuẩn bị những giấy tờ gì để mua ngoại tệ du l...</td>\n",
       "      <td>chuyentienquocte_hoso_muaho</td>\n",
       "    </tr>\n",
       "    <tr>\n",
       "      <th>1</th>\n",
       "      <td>đi ăn thanh toán bằng thẻ visa dining của vib ...</td>\n",
       "      <td>nghiepvuthe_vibvisadining_uudai</td>\n",
       "    </tr>\n",
       "    <tr>\n",
       "      <th>2</th>\n",
       "      <td>vào mùa đông hầu như tôi không có lương vậy tô...</td>\n",
       "      <td>nghiepvuthe_dangkythe_khongluong</td>\n",
       "    </tr>\n",
       "    <tr>\n",
       "      <th>3</th>\n",
       "      <td>cần có giấy tờ nào để mua tiền ngoại tệ đi du ...</td>\n",
       "      <td>chuyentienquocte_hoso_khongvisa</td>\n",
       "    </tr>\n",
       "    <tr>\n",
       "      <th>4</th>\n",
       "      <td>tôi nên chọn kênh nào nếu muốn đầu tư</td>\n",
       "      <td>dautu_kenh</td>\n",
       "    </tr>\n",
       "    <tr>\n",
       "      <th>...</th>\n",
       "      <td>...</td>\n",
       "      <td>...</td>\n",
       "    </tr>\n",
       "    <tr>\n",
       "      <th>284</th>\n",
       "      <td>i don t find your services useful anymore how ...</td>\n",
       "      <td>taikhoan_khoa</td>\n",
       "    </tr>\n",
       "    <tr>\n",
       "      <th>285</th>\n",
       "      <td>please delete my account this company is not w...</td>\n",
       "      <td>taikhoan_khoa</td>\n",
       "    </tr>\n",
       "    <tr>\n",
       "      <th>286</th>\n",
       "      <td>i want to delete my account i m unhappy with t...</td>\n",
       "      <td>taikhoan_khoa</td>\n",
       "    </tr>\n",
       "    <tr>\n",
       "      <th>287</th>\n",
       "      <td>can you tell me how to close my account</td>\n",
       "      <td>taikhoan_khoa</td>\n",
       "    </tr>\n",
       "    <tr>\n",
       "      <th>288</th>\n",
       "      <td>this company sucks can you terminate my account</td>\n",
       "      <td>taikhoan_khoa</td>\n",
       "    </tr>\n",
       "  </tbody>\n",
       "</table>\n",
       "<p>289 rows × 2 columns</p>\n",
       "</div>"
      ],
      "text/plain": [
       "                                                  text  \\\n",
       "0    chuẩn bị những giấy tờ gì để mua ngoại tệ du l...   \n",
       "1    đi ăn thanh toán bằng thẻ visa dining của vib ...   \n",
       "2    vào mùa đông hầu như tôi không có lương vậy tô...   \n",
       "3    cần có giấy tờ nào để mua tiền ngoại tệ đi du ...   \n",
       "4                tôi nên chọn kênh nào nếu muốn đầu tư   \n",
       "..                                                 ...   \n",
       "284  i don t find your services useful anymore how ...   \n",
       "285  please delete my account this company is not w...   \n",
       "286  i want to delete my account i m unhappy with t...   \n",
       "287            can you tell me how to close my account   \n",
       "288    this company sucks can you terminate my account   \n",
       "\n",
       "                                label  \n",
       "0         chuyentienquocte_hoso_muaho  \n",
       "1     nghiepvuthe_vibvisadining_uudai  \n",
       "2    nghiepvuthe_dangkythe_khongluong  \n",
       "3     chuyentienquocte_hoso_khongvisa  \n",
       "4                          dautu_kenh  \n",
       "..                                ...  \n",
       "284                     taikhoan_khoa  \n",
       "285                     taikhoan_khoa  \n",
       "286                     taikhoan_khoa  \n",
       "287                     taikhoan_khoa  \n",
       "288                     taikhoan_khoa  \n",
       "\n",
       "[289 rows x 2 columns]"
      ]
     },
     "execution_count": 29,
     "metadata": {},
     "output_type": "execute_result"
    }
   ],
   "source": [
    "test_df_3.rename(columns = {'raw_label':'label'}, inplace =True)\n",
    "test_df_3"
   ]
  },
  {
   "cell_type": "code",
   "execution_count": 51,
   "id": "b2ec73ac-6b11-4d3f-93a4-0c21ef89e169",
   "metadata": {
    "tags": []
   },
   "outputs": [],
   "source": [
    "test_df_all = test_df_3"
   ]
  },
  {
   "cell_type": "code",
   "execution_count": 52,
   "id": "edf48399-8d70-430f-b7f4-36303ea9c7b9",
   "metadata": {
    "tags": []
   },
   "outputs": [
    {
     "data": {
      "text/html": [
       "<div>\n",
       "<style scoped>\n",
       "    .dataframe tbody tr th:only-of-type {\n",
       "        vertical-align: middle;\n",
       "    }\n",
       "\n",
       "    .dataframe tbody tr th {\n",
       "        vertical-align: top;\n",
       "    }\n",
       "\n",
       "    .dataframe thead th {\n",
       "        text-align: right;\n",
       "    }\n",
       "</style>\n",
       "<table border=\"1\" class=\"dataframe\">\n",
       "  <thead>\n",
       "    <tr style=\"text-align: right;\">\n",
       "      <th></th>\n",
       "      <th>label</th>\n",
       "      <th>text</th>\n",
       "    </tr>\n",
       "  </thead>\n",
       "  <tbody>\n",
       "    <tr>\n",
       "      <th>0</th>\n",
       "      <td>greetings</td>\n",
       "      <td>chào bạn cho mình hỏi chút với ạ</td>\n",
       "    </tr>\n",
       "    <tr>\n",
       "      <th>1</th>\n",
       "      <td>greetings</td>\n",
       "      <td>xin chào mình là nghĩa</td>\n",
       "    </tr>\n",
       "    <tr>\n",
       "      <th>2</th>\n",
       "      <td>greetings</td>\n",
       "      <td>tên tôi là thảo</td>\n",
       "    </tr>\n",
       "    <tr>\n",
       "      <th>3</th>\n",
       "      <td>greetings</td>\n",
       "      <td>bạn có thể giúp tôi được không</td>\n",
       "    </tr>\n",
       "    <tr>\n",
       "      <th>4</th>\n",
       "      <td>greetings</td>\n",
       "      <td>tôi cần hỏi một số việc</td>\n",
       "    </tr>\n",
       "    <tr>\n",
       "      <th>...</th>\n",
       "      <td>...</td>\n",
       "      <td>...</td>\n",
       "    </tr>\n",
       "    <tr>\n",
       "      <th>481</th>\n",
       "      <td>taikhoan_khoa</td>\n",
       "      <td>i don t find your services useful anymore how ...</td>\n",
       "    </tr>\n",
       "    <tr>\n",
       "      <th>482</th>\n",
       "      <td>taikhoan_khoa</td>\n",
       "      <td>please delete my account this company is not w...</td>\n",
       "    </tr>\n",
       "    <tr>\n",
       "      <th>483</th>\n",
       "      <td>taikhoan_khoa</td>\n",
       "      <td>i want to delete my account i m unhappy with t...</td>\n",
       "    </tr>\n",
       "    <tr>\n",
       "      <th>484</th>\n",
       "      <td>taikhoan_khoa</td>\n",
       "      <td>can you tell me how to close my account</td>\n",
       "    </tr>\n",
       "    <tr>\n",
       "      <th>485</th>\n",
       "      <td>taikhoan_khoa</td>\n",
       "      <td>this company sucks can you terminate my account</td>\n",
       "    </tr>\n",
       "  </tbody>\n",
       "</table>\n",
       "<p>486 rows × 2 columns</p>\n",
       "</div>"
      ],
      "text/plain": [
       "             label                                               text\n",
       "0        greetings                   chào bạn cho mình hỏi chút với ạ\n",
       "1        greetings                             xin chào mình là nghĩa\n",
       "2        greetings                                    tên tôi là thảo\n",
       "3        greetings                     bạn có thể giúp tôi được không\n",
       "4        greetings                            tôi cần hỏi một số việc\n",
       "..             ...                                                ...\n",
       "481  taikhoan_khoa  i don t find your services useful anymore how ...\n",
       "482  taikhoan_khoa  please delete my account this company is not w...\n",
       "483  taikhoan_khoa  i want to delete my account i m unhappy with t...\n",
       "484  taikhoan_khoa            can you tell me how to close my account\n",
       "485  taikhoan_khoa    this company sucks can you terminate my account\n",
       "\n",
       "[486 rows x 2 columns]"
      ]
     },
     "execution_count": 52,
     "metadata": {},
     "output_type": "execute_result"
    }
   ],
   "source": [
    "test_df_all"
   ]
  },
  {
   "cell_type": "code",
   "execution_count": 53,
   "id": "06cb8b2f-6528-46f9-acf5-f011e72df959",
   "metadata": {
    "tags": []
   },
   "outputs": [],
   "source": [
    "test_df_vi = test_df_all[:406]\n",
    "test_df_en = test_df_all[406:]"
   ]
  },
  {
   "cell_type": "code",
   "execution_count": 64,
   "id": "0fda4431-fdb0-4e30-a30c-207a6b47f5f9",
   "metadata": {
    "tags": []
   },
   "outputs": [
    {
     "data": {
      "text/html": [
       "<div>\n",
       "<style scoped>\n",
       "    .dataframe tbody tr th:only-of-type {\n",
       "        vertical-align: middle;\n",
       "    }\n",
       "\n",
       "    .dataframe tbody tr th {\n",
       "        vertical-align: top;\n",
       "    }\n",
       "\n",
       "    .dataframe thead th {\n",
       "        text-align: right;\n",
       "    }\n",
       "</style>\n",
       "<table border=\"1\" class=\"dataframe\">\n",
       "  <thead>\n",
       "    <tr style=\"text-align: right;\">\n",
       "      <th></th>\n",
       "      <th>text</th>\n",
       "      <th>label</th>\n",
       "    </tr>\n",
       "  </thead>\n",
       "  <tbody>\n",
       "    <tr>\n",
       "      <th>0</th>\n",
       "      <td>私は負けた</td>\n",
       "      <td>outofscorenonvietnamese</td>\n",
       "    </tr>\n",
       "  </tbody>\n",
       "</table>\n",
       "</div>"
      ],
      "text/plain": [
       "    text                    label\n",
       "0  私は負けた  outofscorenonvietnamese"
      ]
     },
     "execution_count": 64,
     "metadata": {},
     "output_type": "execute_result"
    }
   ],
   "source": [
    "new_row = pd.DataFrame({'text':['私は負けた'], 'label':['outofscorenonvietnamese']})\n",
    "new_row"
   ]
  },
  {
   "cell_type": "code",
   "execution_count": 65,
   "id": "c380a001-3175-4f12-8f0d-43d0d4b172e6",
   "metadata": {
    "tags": []
   },
   "outputs": [
    {
     "data": {
      "text/html": [
       "<div>\n",
       "<style scoped>\n",
       "    .dataframe tbody tr th:only-of-type {\n",
       "        vertical-align: middle;\n",
       "    }\n",
       "\n",
       "    .dataframe tbody tr th {\n",
       "        vertical-align: top;\n",
       "    }\n",
       "\n",
       "    .dataframe thead th {\n",
       "        text-align: right;\n",
       "    }\n",
       "</style>\n",
       "<table border=\"1\" class=\"dataframe\">\n",
       "  <thead>\n",
       "    <tr style=\"text-align: right;\">\n",
       "      <th></th>\n",
       "      <th>label</th>\n",
       "      <th>text</th>\n",
       "    </tr>\n",
       "  </thead>\n",
       "  <tbody>\n",
       "    <tr>\n",
       "      <th>0</th>\n",
       "      <td>greetings</td>\n",
       "      <td>chào bạn cho mình hỏi chút với ạ</td>\n",
       "    </tr>\n",
       "    <tr>\n",
       "      <th>1</th>\n",
       "      <td>greetings</td>\n",
       "      <td>xin chào mình là nghĩa</td>\n",
       "    </tr>\n",
       "    <tr>\n",
       "      <th>2</th>\n",
       "      <td>greetings</td>\n",
       "      <td>tên tôi là thảo</td>\n",
       "    </tr>\n",
       "    <tr>\n",
       "      <th>3</th>\n",
       "      <td>greetings</td>\n",
       "      <td>bạn có thể giúp tôi được không</td>\n",
       "    </tr>\n",
       "    <tr>\n",
       "      <th>4</th>\n",
       "      <td>greetings</td>\n",
       "      <td>tôi cần hỏi một số việc</td>\n",
       "    </tr>\n",
       "    <tr>\n",
       "      <th>...</th>\n",
       "      <td>...</td>\n",
       "      <td>...</td>\n",
       "    </tr>\n",
       "    <tr>\n",
       "      <th>405</th>\n",
       "      <td>taikhoan_khoa</td>\n",
       "      <td>công ty này thật tệ bạn có thể chấm dứt tài kh...</td>\n",
       "    </tr>\n",
       "    <tr>\n",
       "      <th>406</th>\n",
       "      <td>outofscoreother</td>\n",
       "      <td>tôi bị lạc đường</td>\n",
       "    </tr>\n",
       "    <tr>\n",
       "      <th>407</th>\n",
       "      <td>outofscoreother</td>\n",
       "      <td>tôi bị điểm kém</td>\n",
       "    </tr>\n",
       "    <tr>\n",
       "      <th>408</th>\n",
       "      <td>outofscorenonvietnamese</td>\n",
       "      <td>jai perdu</td>\n",
       "    </tr>\n",
       "    <tr>\n",
       "      <th>409</th>\n",
       "      <td>outofscorenonvietnamese</td>\n",
       "      <td>私は負けた</td>\n",
       "    </tr>\n",
       "  </tbody>\n",
       "</table>\n",
       "<p>410 rows × 2 columns</p>\n",
       "</div>"
      ],
      "text/plain": [
       "                       label  \\\n",
       "0                  greetings   \n",
       "1                  greetings   \n",
       "2                  greetings   \n",
       "3                  greetings   \n",
       "4                  greetings   \n",
       "..                       ...   \n",
       "405            taikhoan_khoa   \n",
       "406          outofscoreother   \n",
       "407          outofscoreother   \n",
       "408  outofscorenonvietnamese   \n",
       "409  outofscorenonvietnamese   \n",
       "\n",
       "                                                  text  \n",
       "0                     chào bạn cho mình hỏi chút với ạ  \n",
       "1                               xin chào mình là nghĩa  \n",
       "2                                      tên tôi là thảo  \n",
       "3                       bạn có thể giúp tôi được không  \n",
       "4                              tôi cần hỏi một số việc  \n",
       "..                                                 ...  \n",
       "405  công ty này thật tệ bạn có thể chấm dứt tài kh...  \n",
       "406                                   tôi bị lạc đường  \n",
       "407                                    tôi bị điểm kém  \n",
       "408                                          jai perdu  \n",
       "409                                              私は負けた  \n",
       "\n",
       "[410 rows x 2 columns]"
      ]
     },
     "execution_count": 65,
     "metadata": {},
     "output_type": "execute_result"
    }
   ],
   "source": [
    "test_df_vi = pd.concat([test_df_vi, new_row], ignore_index = True)\n",
    "test_df_vi"
   ]
  },
  {
   "cell_type": "code",
   "execution_count": 66,
   "id": "5fd1400c-2f12-4525-b1fd-2ca77fa4be61",
   "metadata": {
    "tags": []
   },
   "outputs": [],
   "source": [
    "test_df_vi.to_csv('./data/test_all.csv', index = False)"
   ]
  },
  {
   "cell_type": "code",
   "execution_count": 44,
   "id": "71280071-11bc-4d6f-b8ae-3f0fb2cd62fe",
   "metadata": {
    "tags": []
   },
   "outputs": [
    {
     "ename": "NameError",
     "evalue": "name 'test_df_all' is not defined",
     "output_type": "error",
     "traceback": [
      "\u001b[0;31m---------------------------------------------------------------------------\u001b[0m",
      "\u001b[0;31mNameError\u001b[0m                                 Traceback (most recent call last)",
      "Cell \u001b[0;32mIn[44], line 1\u001b[0m\n\u001b[0;32m----> 1\u001b[0m \u001b[43mtest_df_all\u001b[49m\n",
      "\u001b[0;31mNameError\u001b[0m: name 'test_df_all' is not defined"
     ]
    }
   ],
   "source": [
    "test_df_all"
   ]
  },
  {
   "cell_type": "markdown",
   "id": "6e3888c2-b471-43c0-a6ae-48a8524513c6",
   "metadata": {},
   "source": [
    "## Preprocess data"
   ]
  },
  {
   "cell_type": "code",
   "execution_count": 23,
   "id": "9ffaf214-6f1f-4a8c-9747-f26694ba7aa5",
   "metadata": {
    "tags": []
   },
   "outputs": [],
   "source": [
    "# from vncorenlp import VnCoreNLP\n",
    "# rdrsegmenter = VnCoreNLP(\"./vncorenlp/VnCoreNLP-1.1.1.jar\", annotators=\"wseg\", max_heap_size='-Xmx500m') \n",
    "import re\n",
    "\n",
    "uniChars = \"àáảãạâầấẩẫậăằắẳẵặèéẻẽẹêềếểễệđìíỉĩịòóỏõọôồốổỗộơờớởỡợùúủũụưừứửữựỳýỷỹỵÀÁẢÃẠÂẦẤẨẪẬĂẰẮẲẴẶÈÉẺẼẸÊỀẾỂỄỆĐÌÍỈĨỊÒÓỎÕỌÔỒỐỔỖỘƠỜỚỞỠỢÙÚỦŨỤƯỪỨỬỮỰỲÝỶỸỴÂĂĐÔƠƯ_\"\n",
    "punc_re = '[^\\w'+uniChars+']'\n",
    "def process_text(sen):\n",
    "  ##Unicode reform\n",
    "  assert isinstance(sen, str), 'Not String'\n",
    "  # sen = convert_unicode(sen)\n",
    "  # sen = striphtml(sen)\n",
    "  ##Remove punctuation\n",
    "  sen = re.sub(punc_re,' ', sen)\n",
    "  ##Remove multiple space\n",
    "  sen = re.sub('\\s+',' ', sen)\n",
    "  ##Lower\n",
    "  sen = sen.lower().strip()\n",
    "  ##Segment\n",
    "  # seg = rdrsegmenter.tokenize(sen)\n",
    "  # if len(seg) == 0:\n",
    "  #   sen = ' '\n",
    "  # else: \n",
    "  #   sen = ' '.join(seg[0])\n",
    "  return sen"
   ]
  },
  {
   "cell_type": "code",
   "execution_count": 130,
   "id": "9f975191-7887-40c9-8e54-aab4102b0ecd",
   "metadata": {
    "tags": []
   },
   "outputs": [
    {
     "data": {
      "text/html": [
       "<div>\n",
       "<style scoped>\n",
       "    .dataframe tbody tr th:only-of-type {\n",
       "        vertical-align: middle;\n",
       "    }\n",
       "\n",
       "    .dataframe tbody tr th {\n",
       "        vertical-align: top;\n",
       "    }\n",
       "\n",
       "    .dataframe thead th {\n",
       "        text-align: right;\n",
       "    }\n",
       "</style>\n",
       "<table border=\"1\" class=\"dataframe\">\n",
       "  <thead>\n",
       "    <tr style=\"text-align: right;\">\n",
       "      <th></th>\n",
       "      <th>text</th>\n",
       "      <th>label</th>\n",
       "    </tr>\n",
       "  </thead>\n",
       "  <tbody>\n",
       "    <tr>\n",
       "      <th>0</th>\n",
       "      <td>tôi nên chọn kênh nào nếu muốn đầu tư</td>\n",
       "      <td>dautu_kenh</td>\n",
       "    </tr>\n",
       "    <tr>\n",
       "      <th>1</th>\n",
       "      <td>tôi có thể đầu tư vào kênh nào</td>\n",
       "      <td>dautu_kenh</td>\n",
       "    </tr>\n",
       "    <tr>\n",
       "      <th>2</th>\n",
       "      <td>muốn đầu tư thì nên chọn kênh nào</td>\n",
       "      <td>dautu_kenh</td>\n",
       "    </tr>\n",
       "    <tr>\n",
       "      <th>3</th>\n",
       "      <td>tư vấn giúp tôi các kênh đầu tư</td>\n",
       "      <td>dautu_kenh</td>\n",
       "    </tr>\n",
       "    <tr>\n",
       "      <th>4</th>\n",
       "      <td>đầu tư vào kênh nào được nhỉ</td>\n",
       "      <td>dautu_kenh</td>\n",
       "    </tr>\n",
       "  </tbody>\n",
       "</table>\n",
       "</div>"
      ],
      "text/plain": [
       "                                    text       label\n",
       "0  tôi nên chọn kênh nào nếu muốn đầu tư  dautu_kenh\n",
       "1         tôi có thể đầu tư vào kênh nào  dautu_kenh\n",
       "2      muốn đầu tư thì nên chọn kênh nào  dautu_kenh\n",
       "3        tư vấn giúp tôi các kênh đầu tư  dautu_kenh\n",
       "4           đầu tư vào kênh nào được nhỉ  dautu_kenh"
      ]
     },
     "execution_count": 130,
     "metadata": {},
     "output_type": "execute_result"
    }
   ],
   "source": [
    "data_df_2['text'] = data_df_2['text'].apply(process_text)\n",
    "# test_df_3['text'] = test_df_3['text'].apply(process_text)\n",
    "data_df_2.head()"
   ]
  },
  {
   "cell_type": "code",
   "execution_count": 146,
   "id": "cd5c440d-b537-4cf7-ba42-42b9c2f59e21",
   "metadata": {
    "tags": []
   },
   "outputs": [],
   "source": [
    "data_df_fil = data_df[(data_df['label'] != 'submenubieuphi') & (data_df['label'] != 'taikhoan_khoa') & (data_df['label'] != 'nghiepvuthe_matthe')].reset_index(drop=True)"
   ]
  },
  {
   "cell_type": "code",
   "execution_count": 147,
   "id": "ee58c952-16a3-4fc5-8d38-3030ed1f7dcd",
   "metadata": {
    "tags": []
   },
   "outputs": [
    {
     "data": {
      "text/html": [
       "<div>\n",
       "<style scoped>\n",
       "    .dataframe tbody tr th:only-of-type {\n",
       "        vertical-align: middle;\n",
       "    }\n",
       "\n",
       "    .dataframe tbody tr th {\n",
       "        vertical-align: top;\n",
       "    }\n",
       "\n",
       "    .dataframe thead th {\n",
       "        text-align: right;\n",
       "    }\n",
       "</style>\n",
       "<table border=\"1\" class=\"dataframe\">\n",
       "  <thead>\n",
       "    <tr style=\"text-align: right;\">\n",
       "      <th></th>\n",
       "      <th>text</th>\n",
       "      <th>label</th>\n",
       "    </tr>\n",
       "  </thead>\n",
       "  <tbody>\n",
       "    <tr>\n",
       "      <th>0</th>\n",
       "      <td>bên mình đóng quầy mấy giờ</td>\n",
       "      <td>giolamviec_chinhanh</td>\n",
       "    </tr>\n",
       "    <tr>\n",
       "      <th>1</th>\n",
       "      <td>giao dịch sớm nhất mấy giờ</td>\n",
       "      <td>giolamviec_chinhanh</td>\n",
       "    </tr>\n",
       "    <tr>\n",
       "      <th>2</th>\n",
       "      <td>mấy giờ sáng qua giao dịch được</td>\n",
       "      <td>giolamviec_chinhanh</td>\n",
       "    </tr>\n",
       "    <tr>\n",
       "      <th>3</th>\n",
       "      <td>vib có giao dịch thứ 7 không</td>\n",
       "      <td>giolamviec_chinhanh</td>\n",
       "    </tr>\n",
       "    <tr>\n",
       "      <th>4</th>\n",
       "      <td>chiều mấy giờ đóng giao dịch</td>\n",
       "      <td>giolamviec_chinhanh</td>\n",
       "    </tr>\n",
       "    <tr>\n",
       "      <th>...</th>\n",
       "      <td>...</td>\n",
       "      <td>...</td>\n",
       "    </tr>\n",
       "    <tr>\n",
       "      <th>131</th>\n",
       "      <td>Em muốn làm thẻ ATM ạ</td>\n",
       "      <td>nghiepvuthe_dangkythe</td>\n",
       "    </tr>\n",
       "    <tr>\n",
       "      <th>132</th>\n",
       "      <td>Tôi có thể mở thẻ master online được ko?</td>\n",
       "      <td>nghiepvuthe_dangkythe</td>\n",
       "    </tr>\n",
       "    <tr>\n",
       "      <th>133</th>\n",
       "      <td>Hướng dẫn tôi mở thẻ</td>\n",
       "      <td>nghiepvuthe_dangkythe</td>\n",
       "    </tr>\n",
       "    <tr>\n",
       "      <th>134</th>\n",
       "      <td>mình muốn tạo một cái thẻ atm thì làm sao nhỉ</td>\n",
       "      <td>nghiepvuthe_dangkythe</td>\n",
       "    </tr>\n",
       "    <tr>\n",
       "      <th>135</th>\n",
       "      <td>mình muốn đăng ký làm thẻ atm bạn hướng dẫn mì...</td>\n",
       "      <td>nghiepvuthe_dangkythe</td>\n",
       "    </tr>\n",
       "  </tbody>\n",
       "</table>\n",
       "<p>136 rows × 2 columns</p>\n",
       "</div>"
      ],
      "text/plain": [
       "                                                  text                  label\n",
       "0                           bên mình đóng quầy mấy giờ    giolamviec_chinhanh\n",
       "1                           giao dịch sớm nhất mấy giờ    giolamviec_chinhanh\n",
       "2                      mấy giờ sáng qua giao dịch được    giolamviec_chinhanh\n",
       "3                         vib có giao dịch thứ 7 không    giolamviec_chinhanh\n",
       "4                         chiều mấy giờ đóng giao dịch    giolamviec_chinhanh\n",
       "..                                                 ...                    ...\n",
       "131                              Em muốn làm thẻ ATM ạ  nghiepvuthe_dangkythe\n",
       "132           Tôi có thể mở thẻ master online được ko?  nghiepvuthe_dangkythe\n",
       "133                               Hướng dẫn tôi mở thẻ  nghiepvuthe_dangkythe\n",
       "134      mình muốn tạo một cái thẻ atm thì làm sao nhỉ  nghiepvuthe_dangkythe\n",
       "135  mình muốn đăng ký làm thẻ atm bạn hướng dẫn mì...  nghiepvuthe_dangkythe\n",
       "\n",
       "[136 rows x 2 columns]"
      ]
     },
     "execution_count": 147,
     "metadata": {},
     "output_type": "execute_result"
    }
   ],
   "source": [
    "data_df_fil"
   ]
  },
  {
   "cell_type": "code",
   "execution_count": 143,
   "id": "b2890337-a873-4ace-b929-0618fb3a0f5b",
   "metadata": {
    "tags": []
   },
   "outputs": [
    {
     "data": {
      "text/html": [
       "<div>\n",
       "<style scoped>\n",
       "    .dataframe tbody tr th:only-of-type {\n",
       "        vertical-align: middle;\n",
       "    }\n",
       "\n",
       "    .dataframe tbody tr th {\n",
       "        vertical-align: top;\n",
       "    }\n",
       "\n",
       "    .dataframe thead th {\n",
       "        text-align: right;\n",
       "    }\n",
       "</style>\n",
       "<table border=\"1\" class=\"dataframe\">\n",
       "  <thead>\n",
       "    <tr style=\"text-align: right;\">\n",
       "      <th></th>\n",
       "      <th>text</th>\n",
       "      <th>label</th>\n",
       "    </tr>\n",
       "  </thead>\n",
       "  <tbody>\n",
       "    <tr>\n",
       "      <th>0</th>\n",
       "      <td>tôi nên chọn kênh nào nếu muốn đầu tư</td>\n",
       "      <td>dautu_kenh</td>\n",
       "    </tr>\n",
       "    <tr>\n",
       "      <th>1</th>\n",
       "      <td>tôi có thể đầu tư vào kênh nào</td>\n",
       "      <td>dautu_kenh</td>\n",
       "    </tr>\n",
       "    <tr>\n",
       "      <th>2</th>\n",
       "      <td>muốn đầu tư thì nên chọn kênh nào</td>\n",
       "      <td>dautu_kenh</td>\n",
       "    </tr>\n",
       "    <tr>\n",
       "      <th>3</th>\n",
       "      <td>tư vấn giúp tôi các kênh đầu tư</td>\n",
       "      <td>dautu_kenh</td>\n",
       "    </tr>\n",
       "    <tr>\n",
       "      <th>4</th>\n",
       "      <td>đầu tư vào kênh nào được nhỉ</td>\n",
       "      <td>dautu_kenh</td>\n",
       "    </tr>\n",
       "    <tr>\n",
       "      <th>...</th>\n",
       "      <td>...</td>\n",
       "      <td>...</td>\n",
       "    </tr>\n",
       "    <tr>\n",
       "      <th>515</th>\n",
       "      <td>điểm khác nhau giữa thẻ doanh nghiệp và thẻ cá...</td>\n",
       "      <td>thetindung_doanhnghiep</td>\n",
       "    </tr>\n",
       "    <tr>\n",
       "      <th>516</th>\n",
       "      <td>thẻ doanh nghiệp và thẻ cá nhân khác nhau ở đi...</td>\n",
       "      <td>thetindung_doanhnghiep</td>\n",
       "    </tr>\n",
       "    <tr>\n",
       "      <th>517</th>\n",
       "      <td>thẻ doanh nghiệp có tính năng gì khác với thẻ ...</td>\n",
       "      <td>thetindung_doanhnghiep</td>\n",
       "    </tr>\n",
       "    <tr>\n",
       "      <th>518</th>\n",
       "      <td>thẻ doanh nghiệp và thẻ cá nhân có những điểm ...</td>\n",
       "      <td>thetindung_doanhnghiep</td>\n",
       "    </tr>\n",
       "    <tr>\n",
       "      <th>519</th>\n",
       "      <td>thẻ doanh nghiệp và thẻ cá nhân có gì khác nha...</td>\n",
       "      <td>thetindung_doanhnghiep</td>\n",
       "    </tr>\n",
       "  </tbody>\n",
       "</table>\n",
       "<p>520 rows × 2 columns</p>\n",
       "</div>"
      ],
      "text/plain": [
       "                                                  text                   label\n",
       "0                tôi nên chọn kênh nào nếu muốn đầu tư              dautu_kenh\n",
       "1                       tôi có thể đầu tư vào kênh nào              dautu_kenh\n",
       "2                    muốn đầu tư thì nên chọn kênh nào              dautu_kenh\n",
       "3                      tư vấn giúp tôi các kênh đầu tư              dautu_kenh\n",
       "4                         đầu tư vào kênh nào được nhỉ              dautu_kenh\n",
       "..                                                 ...                     ...\n",
       "515  điểm khác nhau giữa thẻ doanh nghiệp và thẻ cá...  thetindung_doanhnghiep\n",
       "516  thẻ doanh nghiệp và thẻ cá nhân khác nhau ở đi...  thetindung_doanhnghiep\n",
       "517  thẻ doanh nghiệp có tính năng gì khác với thẻ ...  thetindung_doanhnghiep\n",
       "518  thẻ doanh nghiệp và thẻ cá nhân có những điểm ...  thetindung_doanhnghiep\n",
       "519  thẻ doanh nghiệp và thẻ cá nhân có gì khác nha...  thetindung_doanhnghiep\n",
       "\n",
       "[520 rows x 2 columns]"
      ]
     },
     "execution_count": 143,
     "metadata": {},
     "output_type": "execute_result"
    }
   ],
   "source": [
    "# data_df_2['label'].replace({\"giolamviec_giaodichvien\":\"giolamviec_chinhanh\"}, inplace = True)\n",
    "data_df_2 = data_df_2[:520]\n",
    "data_df_2"
   ]
  },
  {
   "cell_type": "code",
   "execution_count": 144,
   "id": "e1e1d494-8ae2-4b4a-9619-17dfe91d504c",
   "metadata": {
    "tags": []
   },
   "outputs": [],
   "source": [
    "new_intent_train, new_intent_test = train_test_split(data_df_2, test_size=0.25, random_state=42, shuffle=True, stratify=data_df_2['label'])"
   ]
  },
  {
   "cell_type": "code",
   "execution_count": 145,
   "id": "58acec76-91bc-4439-80a5-b367cf0fec0f",
   "metadata": {
    "tags": []
   },
   "outputs": [
    {
     "data": {
      "text/html": [
       "<div>\n",
       "<style scoped>\n",
       "    .dataframe tbody tr th:only-of-type {\n",
       "        vertical-align: middle;\n",
       "    }\n",
       "\n",
       "    .dataframe tbody tr th {\n",
       "        vertical-align: top;\n",
       "    }\n",
       "\n",
       "    .dataframe thead th {\n",
       "        text-align: right;\n",
       "    }\n",
       "</style>\n",
       "<table border=\"1\" class=\"dataframe\">\n",
       "  <thead>\n",
       "    <tr style=\"text-align: right;\">\n",
       "      <th></th>\n",
       "      <th>text</th>\n",
       "      <th>label</th>\n",
       "    </tr>\n",
       "  </thead>\n",
       "  <tbody>\n",
       "    <tr>\n",
       "      <th>464</th>\n",
       "      <td>giờ làm việc của giao dịch viên chi nhánh bên ...</td>\n",
       "      <td>giolamviec_giaodichvien</td>\n",
       "    </tr>\n",
       "    <tr>\n",
       "      <th>469</th>\n",
       "      <td>thứ 7 giao dịch viên làm việc từ mấy giờ</td>\n",
       "      <td>giolamviec_giaodichvien</td>\n",
       "    </tr>\n",
       "    <tr>\n",
       "      <th>461</th>\n",
       "      <td>tôi định buổi chiều qua ngân hàng thì giao dịc...</td>\n",
       "      <td>giolamviec_giaodichvien</td>\n",
       "    </tr>\n",
       "    <tr>\n",
       "      <th>468</th>\n",
       "      <td>giao dịch viên làm việc mấy giờ chiều nhỉ</td>\n",
       "      <td>giolamviec_giaodichvien</td>\n",
       "    </tr>\n",
       "    <tr>\n",
       "      <th>471</th>\n",
       "      <td>giao dịch viên làm việc mấy giờ đến mấy giờ</td>\n",
       "      <td>giolamviec_giaodichvien</td>\n",
       "    </tr>\n",
       "    <tr>\n",
       "      <th>467</th>\n",
       "      <td>sáng giao dịch viên làm việc sớm nhất mấy giờ</td>\n",
       "      <td>giolamviec_giaodichvien</td>\n",
       "    </tr>\n",
       "  </tbody>\n",
       "</table>\n",
       "</div>"
      ],
      "text/plain": [
       "                                                  text  \\\n",
       "464  giờ làm việc của giao dịch viên chi nhánh bên ...   \n",
       "469           thứ 7 giao dịch viên làm việc từ mấy giờ   \n",
       "461  tôi định buổi chiều qua ngân hàng thì giao dịc...   \n",
       "468          giao dịch viên làm việc mấy giờ chiều nhỉ   \n",
       "471        giao dịch viên làm việc mấy giờ đến mấy giờ   \n",
       "467      sáng giao dịch viên làm việc sớm nhất mấy giờ   \n",
       "\n",
       "                       label  \n",
       "464  giolamviec_giaodichvien  \n",
       "469  giolamviec_giaodichvien  \n",
       "461  giolamviec_giaodichvien  \n",
       "468  giolamviec_giaodichvien  \n",
       "471  giolamviec_giaodichvien  \n",
       "467  giolamviec_giaodichvien  "
      ]
     },
     "execution_count": 145,
     "metadata": {},
     "output_type": "execute_result"
    }
   ],
   "source": [
    "new_intent_train[new_intent_train['label'] == 'giolamviec_giaodichvien']"
   ]
  },
  {
   "cell_type": "code",
   "execution_count": 148,
   "id": "56b60b4b-b4ef-4fef-9219-0c07bd11202c",
   "metadata": {
    "tags": []
   },
   "outputs": [],
   "source": [
    "data_new = pd.concat([new_intent_train, data_df_fil], ignore_index = True)"
   ]
  },
  {
   "cell_type": "code",
   "execution_count": 150,
   "id": "3a0c1acc-276d-459b-9ca2-4d5f80603004",
   "metadata": {
    "tags": []
   },
   "outputs": [],
   "source": [
    "data_df_fil['label'].value_counts()"
   ]
  },
  {
   "cell_type": "code",
   "execution_count": 151,
   "id": "bc8258da-0a5e-45f4-b895-91ae65d498f2",
   "metadata": {
    "tags": []
   },
   "outputs": [],
   "source": [
    "data_df_fil = data_df[(data_df['label'] == 'submenubieuphi') | (data_df['label'] == 'taikhoan_khoa') | (data_df['label'] == 'nghiepvuthe_matthe')].reset_index(drop=True)"
   ]
  },
  {
   "cell_type": "code",
   "execution_count": 152,
   "id": "a7cc5ac3-e3db-4f28-b561-ba72f902af96",
   "metadata": {
    "tags": []
   },
   "outputs": [
    {
     "data": {
      "text/html": [
       "<div>\n",
       "<style scoped>\n",
       "    .dataframe tbody tr th:only-of-type {\n",
       "        vertical-align: middle;\n",
       "    }\n",
       "\n",
       "    .dataframe tbody tr th {\n",
       "        vertical-align: top;\n",
       "    }\n",
       "\n",
       "    .dataframe thead th {\n",
       "        text-align: right;\n",
       "    }\n",
       "</style>\n",
       "<table border=\"1\" class=\"dataframe\">\n",
       "  <thead>\n",
       "    <tr style=\"text-align: right;\">\n",
       "      <th></th>\n",
       "      <th>text</th>\n",
       "      <th>label</th>\n",
       "    </tr>\n",
       "  </thead>\n",
       "  <tbody>\n",
       "    <tr>\n",
       "      <th>0</th>\n",
       "      <td>mua ngoại tệ du lịch cho người thân có cần giấ...</td>\n",
       "      <td>chuyentienquocte_hoso_muaho</td>\n",
       "    </tr>\n",
       "    <tr>\n",
       "      <th>1</th>\n",
       "      <td>giấy tờ để có thể mua tiền ngoại tệ du lịch</td>\n",
       "      <td>chuyentienquocte_hoso_mua</td>\n",
       "    </tr>\n",
       "    <tr>\n",
       "      <th>2</th>\n",
       "      <td>vib thu phí tài khoản bao nhiêu khi không sử d...</td>\n",
       "      <td>taikhoan_bieuphi_hangthang</td>\n",
       "    </tr>\n",
       "    <tr>\n",
       "      <th>3</th>\n",
       "      <td>nhiều nhất mỗi năm tôi chuyển được bao nhiêu t...</td>\n",
       "      <td>chuyentienquocte_hanmuc_sinhhoatphi</td>\n",
       "    </tr>\n",
       "    <tr>\n",
       "      <th>4</th>\n",
       "      <td>tôi chưa dùng thẻ tín dụng bao giờ tư vấn cho ...</td>\n",
       "      <td>thetindung_thongtin</td>\n",
       "    </tr>\n",
       "    <tr>\n",
       "      <th>...</th>\n",
       "      <td>...</td>\n",
       "      <td>...</td>\n",
       "    </tr>\n",
       "    <tr>\n",
       "      <th>521</th>\n",
       "      <td>Em muốn làm thẻ ATM ạ</td>\n",
       "      <td>nghiepvuthe_dangkythe</td>\n",
       "    </tr>\n",
       "    <tr>\n",
       "      <th>522</th>\n",
       "      <td>Tôi có thể mở thẻ master online được ko?</td>\n",
       "      <td>nghiepvuthe_dangkythe</td>\n",
       "    </tr>\n",
       "    <tr>\n",
       "      <th>523</th>\n",
       "      <td>Hướng dẫn tôi mở thẻ</td>\n",
       "      <td>nghiepvuthe_dangkythe</td>\n",
       "    </tr>\n",
       "    <tr>\n",
       "      <th>524</th>\n",
       "      <td>mình muốn tạo một cái thẻ atm thì làm sao nhỉ</td>\n",
       "      <td>nghiepvuthe_dangkythe</td>\n",
       "    </tr>\n",
       "    <tr>\n",
       "      <th>525</th>\n",
       "      <td>mình muốn đăng ký làm thẻ atm bạn hướng dẫn mì...</td>\n",
       "      <td>nghiepvuthe_dangkythe</td>\n",
       "    </tr>\n",
       "  </tbody>\n",
       "</table>\n",
       "<p>526 rows × 2 columns</p>\n",
       "</div>"
      ],
      "text/plain": [
       "                                                  text  \\\n",
       "0    mua ngoại tệ du lịch cho người thân có cần giấ...   \n",
       "1          giấy tờ để có thể mua tiền ngoại tệ du lịch   \n",
       "2    vib thu phí tài khoản bao nhiêu khi không sử d...   \n",
       "3    nhiều nhất mỗi năm tôi chuyển được bao nhiêu t...   \n",
       "4    tôi chưa dùng thẻ tín dụng bao giờ tư vấn cho ...   \n",
       "..                                                 ...   \n",
       "521                              Em muốn làm thẻ ATM ạ   \n",
       "522           Tôi có thể mở thẻ master online được ko?   \n",
       "523                               Hướng dẫn tôi mở thẻ   \n",
       "524      mình muốn tạo một cái thẻ atm thì làm sao nhỉ   \n",
       "525  mình muốn đăng ký làm thẻ atm bạn hướng dẫn mì...   \n",
       "\n",
       "                                   label  \n",
       "0            chuyentienquocte_hoso_muaho  \n",
       "1              chuyentienquocte_hoso_mua  \n",
       "2             taikhoan_bieuphi_hangthang  \n",
       "3    chuyentienquocte_hanmuc_sinhhoatphi  \n",
       "4                    thetindung_thongtin  \n",
       "..                                   ...  \n",
       "521                nghiepvuthe_dangkythe  \n",
       "522                nghiepvuthe_dangkythe  \n",
       "523                nghiepvuthe_dangkythe  \n",
       "524                nghiepvuthe_dangkythe  \n",
       "525                nghiepvuthe_dangkythe  \n",
       "\n",
       "[526 rows x 2 columns]"
      ]
     },
     "execution_count": 152,
     "metadata": {},
     "output_type": "execute_result"
    }
   ],
   "source": [
    "data_new"
   ]
  },
  {
   "cell_type": "code",
   "execution_count": 153,
   "id": "4dc298ff-d73d-4aab-b1ff-2d142f30860d",
   "metadata": {
    "tags": []
   },
   "outputs": [],
   "source": [
    "data_df_train_af = pd.concat([data_df_1, data_new, data_df_fil], ignore_index = True)"
   ]
  },
  {
   "cell_type": "code",
   "execution_count": 154,
   "id": "4ae40a14-ae85-424e-9c24-c6f4befe54f5",
   "metadata": {
    "tags": []
   },
   "outputs": [
    {
     "data": {
      "text/plain": [
       "outofscoreother                    172\n",
       "cardproductkiemtragiaonhan         162\n",
       "submenuthongtin                    118\n",
       "taikhoan_khoa                      114\n",
       "nghiepvuthe_matthe                  87\n",
       "                                  ... \n",
       "taikhoan_bieuphi                     6\n",
       "taikhoan_thutuc_dangky               6\n",
       "nghiepvuthe_vibvisadining_uudai      6\n",
       "chuyentienquocte_hoso_trocap         6\n",
       "cardproductkiemtrahoso               5\n",
       "Name: label, Length: 81, dtype: int64"
      ]
     },
     "execution_count": 154,
     "metadata": {},
     "output_type": "execute_result"
    }
   ],
   "source": [
    "data_df_train_af['label'].value_counts()"
   ]
  },
  {
   "cell_type": "code",
   "execution_count": 155,
   "id": "116daad9-1fb0-461d-8879-eca6037e6170",
   "metadata": {
    "tags": []
   },
   "outputs": [],
   "source": [
    "data_df_train_af.to_csv('./data/10-04/train_all.csv', index = False)"
   ]
  },
  {
   "cell_type": "code",
   "execution_count": 156,
   "id": "82859343-49ef-4d97-96ec-f1aab97857c6",
   "metadata": {
    "tags": []
   },
   "outputs": [
    {
     "data": {
      "text/html": [
       "<div>\n",
       "<style scoped>\n",
       "    .dataframe tbody tr th:only-of-type {\n",
       "        vertical-align: middle;\n",
       "    }\n",
       "\n",
       "    .dataframe tbody tr th {\n",
       "        vertical-align: top;\n",
       "    }\n",
       "\n",
       "    .dataframe thead th {\n",
       "        text-align: right;\n",
       "    }\n",
       "</style>\n",
       "<table border=\"1\" class=\"dataframe\">\n",
       "  <thead>\n",
       "    <tr style=\"text-align: right;\">\n",
       "      <th></th>\n",
       "      <th>label</th>\n",
       "      <th>text</th>\n",
       "    </tr>\n",
       "  </thead>\n",
       "  <tbody>\n",
       "    <tr>\n",
       "      <th>0</th>\n",
       "      <td>greetings</td>\n",
       "      <td>tư vấn giúp mình với</td>\n",
       "    </tr>\n",
       "    <tr>\n",
       "      <th>1</th>\n",
       "      <td>greetings</td>\n",
       "      <td>hi</td>\n",
       "    </tr>\n",
       "    <tr>\n",
       "      <th>2</th>\n",
       "      <td>greetings</td>\n",
       "      <td>hi ad</td>\n",
       "    </tr>\n",
       "    <tr>\n",
       "      <th>3</th>\n",
       "      <td>greetings</td>\n",
       "      <td>chào buổi sáng</td>\n",
       "    </tr>\n",
       "    <tr>\n",
       "      <th>4</th>\n",
       "      <td>greetings</td>\n",
       "      <td>hello</td>\n",
       "    </tr>\n",
       "    <tr>\n",
       "      <th>...</th>\n",
       "      <td>...</td>\n",
       "      <td>...</td>\n",
       "    </tr>\n",
       "    <tr>\n",
       "      <th>1488</th>\n",
       "      <td>submenubieuphi</td>\n",
       "      <td>biểu phí</td>\n",
       "    </tr>\n",
       "    <tr>\n",
       "      <th>1489</th>\n",
       "      <td>submenubieuphi</td>\n",
       "      <td>giá như nào</td>\n",
       "    </tr>\n",
       "    <tr>\n",
       "      <th>1490</th>\n",
       "      <td>submenubieuphi</td>\n",
       "      <td>phí như nào</td>\n",
       "    </tr>\n",
       "    <tr>\n",
       "      <th>1491</th>\n",
       "      <td>submenubieuphi</td>\n",
       "      <td>Chuyển tiền ngoài ngân hàng VIB có mất phí không?</td>\n",
       "    </tr>\n",
       "    <tr>\n",
       "      <th>1492</th>\n",
       "      <td>submenubieuphi</td>\n",
       "      <td>sử dụng ứng dụng ngân hàng di động vib có mất ...</td>\n",
       "    </tr>\n",
       "  </tbody>\n",
       "</table>\n",
       "<p>1493 rows × 2 columns</p>\n",
       "</div>"
      ],
      "text/plain": [
       "               label                                               text\n",
       "0          greetings                               tư vấn giúp mình với\n",
       "1          greetings                                                 hi\n",
       "2          greetings                                              hi ad\n",
       "3          greetings                                     chào buổi sáng\n",
       "4          greetings                                              hello\n",
       "...              ...                                                ...\n",
       "1488  submenubieuphi                                           biểu phí\n",
       "1489  submenubieuphi                                        giá như nào\n",
       "1490  submenubieuphi                                        phí như nào\n",
       "1491  submenubieuphi  Chuyển tiền ngoài ngân hàng VIB có mất phí không?\n",
       "1492  submenubieuphi  sử dụng ứng dụng ngân hàng di động vib có mất ...\n",
       "\n",
       "[1493 rows x 2 columns]"
      ]
     },
     "execution_count": 156,
     "metadata": {},
     "output_type": "execute_result"
    }
   ],
   "source": [
    "data_df_train_af"
   ]
  },
  {
   "cell_type": "code",
   "execution_count": 42,
   "id": "6f334ba9-f3eb-4fb6-8144-d5e668aabc63",
   "metadata": {
    "tags": []
   },
   "outputs": [
    {
     "data": {
      "text/html": [
       "<div>\n",
       "<style scoped>\n",
       "    .dataframe tbody tr th:only-of-type {\n",
       "        vertical-align: middle;\n",
       "    }\n",
       "\n",
       "    .dataframe tbody tr th {\n",
       "        vertical-align: top;\n",
       "    }\n",
       "\n",
       "    .dataframe thead th {\n",
       "        text-align: right;\n",
       "    }\n",
       "</style>\n",
       "<table border=\"1\" class=\"dataframe\">\n",
       "  <thead>\n",
       "    <tr style=\"text-align: right;\">\n",
       "      <th></th>\n",
       "      <th>text</th>\n",
       "      <th>label</th>\n",
       "    </tr>\n",
       "  </thead>\n",
       "  <tbody>\n",
       "    <tr>\n",
       "      <th>49</th>\n",
       "      <td>tạm biệt</td>\n",
       "      <td>goodbye</td>\n",
       "    </tr>\n",
       "    <tr>\n",
       "      <th>50</th>\n",
       "      <td>bái bai</td>\n",
       "      <td>goodbye</td>\n",
       "    </tr>\n",
       "    <tr>\n",
       "      <th>51</th>\n",
       "      <td>gặp lại sau nha</td>\n",
       "      <td>goodbye</td>\n",
       "    </tr>\n",
       "    <tr>\n",
       "      <th>52</th>\n",
       "      <td>chào tạm biệt</td>\n",
       "      <td>goodbye</td>\n",
       "    </tr>\n",
       "    <tr>\n",
       "      <th>53</th>\n",
       "      <td>bye nhé</td>\n",
       "      <td>goodbye</td>\n",
       "    </tr>\n",
       "    <tr>\n",
       "      <th>54</th>\n",
       "      <td>good bye</td>\n",
       "      <td>goodbye</td>\n",
       "    </tr>\n",
       "    <tr>\n",
       "      <th>55</th>\n",
       "      <td>see you again</td>\n",
       "      <td>goodbye</td>\n",
       "    </tr>\n",
       "    <tr>\n",
       "      <th>56</th>\n",
       "      <td>mai gặp lại nhé bạn</td>\n",
       "      <td>goodbye</td>\n",
       "    </tr>\n",
       "    <tr>\n",
       "      <th>57</th>\n",
       "      <td>tạm biệt bot nhé</td>\n",
       "      <td>goodbye</td>\n",
       "    </tr>\n",
       "    <tr>\n",
       "      <th>58</th>\n",
       "      <td>bye bye</td>\n",
       "      <td>goodbye</td>\n",
       "    </tr>\n",
       "    <tr>\n",
       "      <th>59</th>\n",
       "      <td>bai bai</td>\n",
       "      <td>goodbye</td>\n",
       "    </tr>\n",
       "    <tr>\n",
       "      <th>60</th>\n",
       "      <td>thôi chào nhé</td>\n",
       "      <td>goodbye</td>\n",
       "    </tr>\n",
       "    <tr>\n",
       "      <th>61</th>\n",
       "      <td>mình đi đây</td>\n",
       "      <td>goodbye</td>\n",
       "    </tr>\n",
       "    <tr>\n",
       "      <th>62</th>\n",
       "      <td>tớ out đây</td>\n",
       "      <td>goodbye</td>\n",
       "    </tr>\n",
       "    <tr>\n",
       "      <th>63</th>\n",
       "      <td>thôi bạn ở lại nhé mình đi có việc đây</td>\n",
       "      <td>goodbye</td>\n",
       "    </tr>\n",
       "    <tr>\n",
       "      <th>64</th>\n",
       "      <td>không nói chuyện nữa đâu</td>\n",
       "      <td>goodbye</td>\n",
       "    </tr>\n",
       "    <tr>\n",
       "      <th>65</th>\n",
       "      <td>dừng nói chuyện ở đây nhé</td>\n",
       "      <td>goodbye</td>\n",
       "    </tr>\n",
       "    <tr>\n",
       "      <th>66</th>\n",
       "      <td>goodbye</td>\n",
       "      <td>goodbye</td>\n",
       "    </tr>\n",
       "  </tbody>\n",
       "</table>\n",
       "</div>"
      ],
      "text/plain": [
       "                                      text    label\n",
       "49                                tạm biệt  goodbye\n",
       "50                                 bái bai  goodbye\n",
       "51                         gặp lại sau nha  goodbye\n",
       "52                           chào tạm biệt  goodbye\n",
       "53                                 bye nhé  goodbye\n",
       "54                                good bye  goodbye\n",
       "55                           see you again  goodbye\n",
       "56                     mai gặp lại nhé bạn  goodbye\n",
       "57                        tạm biệt bot nhé  goodbye\n",
       "58                                 bye bye  goodbye\n",
       "59                                 bai bai  goodbye\n",
       "60                           thôi chào nhé  goodbye\n",
       "61                             mình đi đây  goodbye\n",
       "62                              tớ out đây  goodbye\n",
       "63  thôi bạn ở lại nhé mình đi có việc đây  goodbye\n",
       "64                không nói chuyện nữa đâu  goodbye\n",
       "65               dừng nói chuyện ở đây nhé  goodbye\n",
       "66                                 goodbye  goodbye"
      ]
     },
     "execution_count": 42,
     "metadata": {},
     "output_type": "execute_result"
    }
   ],
   "source": [
    "data_df[data_df['label'] == 'goodbye']"
   ]
  },
  {
   "cell_type": "code",
   "execution_count": 43,
   "id": "a254a924-335d-489b-ac8e-5ec8e70440e6",
   "metadata": {
    "tags": []
   },
   "outputs": [
    {
     "data": {
      "text/html": [
       "<div>\n",
       "<style scoped>\n",
       "    .dataframe tbody tr th:only-of-type {\n",
       "        vertical-align: middle;\n",
       "    }\n",
       "\n",
       "    .dataframe tbody tr th {\n",
       "        vertical-align: top;\n",
       "    }\n",
       "\n",
       "    .dataframe thead th {\n",
       "        text-align: right;\n",
       "    }\n",
       "</style>\n",
       "<table border=\"1\" class=\"dataframe\">\n",
       "  <thead>\n",
       "    <tr style=\"text-align: right;\">\n",
       "      <th></th>\n",
       "      <th>text</th>\n",
       "      <th>label</th>\n",
       "    </tr>\n",
       "  </thead>\n",
       "  <tbody>\n",
       "    <tr>\n",
       "      <th>0</th>\n",
       "      <td>tư vấn giúp mình với</td>\n",
       "      <td>greetings</td>\n",
       "    </tr>\n",
       "    <tr>\n",
       "      <th>1</th>\n",
       "      <td>hi</td>\n",
       "      <td>greetings</td>\n",
       "    </tr>\n",
       "    <tr>\n",
       "      <th>2</th>\n",
       "      <td>hi ad</td>\n",
       "      <td>greetings</td>\n",
       "    </tr>\n",
       "    <tr>\n",
       "      <th>3</th>\n",
       "      <td>chào buổi sáng</td>\n",
       "      <td>greetings</td>\n",
       "    </tr>\n",
       "    <tr>\n",
       "      <th>4</th>\n",
       "      <td>hello</td>\n",
       "      <td>greetings</td>\n",
       "    </tr>\n",
       "    <tr>\n",
       "      <th>...</th>\n",
       "      <td>...</td>\n",
       "      <td>...</td>\n",
       "    </tr>\n",
       "    <tr>\n",
       "      <th>1443</th>\n",
       "      <td>chuyển tiền trợ cấp thân nhân tối đa được</td>\n",
       "      <td>chuyentienquocte_hanmuc_trocap</td>\n",
       "    </tr>\n",
       "    <tr>\n",
       "      <th>1444</th>\n",
       "      <td>người thân nhận tiền trợ cấp từ tôi tối đa bao...</td>\n",
       "      <td>chuyentienquocte_hanmuc_trocap</td>\n",
       "    </tr>\n",
       "    <tr>\n",
       "      <th>1445</th>\n",
       "      <td>chuyển trợ cấp thân nhân nhiều nhất bao tiền m...</td>\n",
       "      <td>chuyentienquocte_hanmuc_trocap</td>\n",
       "    </tr>\n",
       "    <tr>\n",
       "      <th>1446</th>\n",
       "      <td>chuyển tối đa bao nhiêu usd tiền trợ cấp thân ...</td>\n",
       "      <td>chuyentienquocte_hanmuc_trocap</td>\n",
       "    </tr>\n",
       "    <tr>\n",
       "      <th>1447</th>\n",
       "      <td>trợ cấp thân nhân hạn mức tiền thế nào</td>\n",
       "      <td>chuyentienquocte_hanmuc_trocap</td>\n",
       "    </tr>\n",
       "  </tbody>\n",
       "</table>\n",
       "<p>1448 rows × 2 columns</p>\n",
       "</div>"
      ],
      "text/plain": [
       "                                                   text  \\\n",
       "0                                  tư vấn giúp mình với   \n",
       "1                                                    hi   \n",
       "2                                                 hi ad   \n",
       "3                                        chào buổi sáng   \n",
       "4                                                 hello   \n",
       "...                                                 ...   \n",
       "1443          chuyển tiền trợ cấp thân nhân tối đa được   \n",
       "1444  người thân nhận tiền trợ cấp từ tôi tối đa bao...   \n",
       "1445  chuyển trợ cấp thân nhân nhiều nhất bao tiền m...   \n",
       "1446  chuyển tối đa bao nhiêu usd tiền trợ cấp thân ...   \n",
       "1447             trợ cấp thân nhân hạn mức tiền thế nào   \n",
       "\n",
       "                               label  \n",
       "0                          greetings  \n",
       "1                          greetings  \n",
       "2                          greetings  \n",
       "3                          greetings  \n",
       "4                          greetings  \n",
       "...                              ...  \n",
       "1443  chuyentienquocte_hanmuc_trocap  \n",
       "1444  chuyentienquocte_hanmuc_trocap  \n",
       "1445  chuyentienquocte_hanmuc_trocap  \n",
       "1446  chuyentienquocte_hanmuc_trocap  \n",
       "1447  chuyentienquocte_hanmuc_trocap  \n",
       "\n",
       "[1448 rows x 2 columns]"
      ]
     },
     "execution_count": 43,
     "metadata": {},
     "output_type": "execute_result"
    }
   ],
   "source": [
    "data_df = pd.concat()"
   ]
  },
  {
   "cell_type": "code",
   "execution_count": 46,
   "id": "31948d71-1d44-4e48-929c-ee039938e84c",
   "metadata": {
    "tags": []
   },
   "outputs": [
    {
     "data": {
      "text/html": [
       "<div>\n",
       "<style scoped>\n",
       "    .dataframe tbody tr th:only-of-type {\n",
       "        vertical-align: middle;\n",
       "    }\n",
       "\n",
       "    .dataframe tbody tr th {\n",
       "        vertical-align: top;\n",
       "    }\n",
       "\n",
       "    .dataframe thead th {\n",
       "        text-align: right;\n",
       "    }\n",
       "</style>\n",
       "<table border=\"1\" class=\"dataframe\">\n",
       "  <thead>\n",
       "    <tr style=\"text-align: right;\">\n",
       "      <th></th>\n",
       "      <th>label</th>\n",
       "      <th>text</th>\n",
       "    </tr>\n",
       "  </thead>\n",
       "  <tbody>\n",
       "    <tr>\n",
       "      <th>0</th>\n",
       "      <td>greetings</td>\n",
       "      <td>tư vấn giúp mình với</td>\n",
       "    </tr>\n",
       "    <tr>\n",
       "      <th>1</th>\n",
       "      <td>greetings</td>\n",
       "      <td>hi</td>\n",
       "    </tr>\n",
       "    <tr>\n",
       "      <th>2</th>\n",
       "      <td>greetings</td>\n",
       "      <td>hi ad</td>\n",
       "    </tr>\n",
       "    <tr>\n",
       "      <th>3</th>\n",
       "      <td>greetings</td>\n",
       "      <td>chào buổi sáng</td>\n",
       "    </tr>\n",
       "    <tr>\n",
       "      <th>4</th>\n",
       "      <td>greetings</td>\n",
       "      <td>hello</td>\n",
       "    </tr>\n",
       "  </tbody>\n",
       "</table>\n",
       "</div>"
      ],
      "text/plain": [
       "       label                  text\n",
       "0  greetings  tư vấn giúp mình với\n",
       "1  greetings                    hi\n",
       "2  greetings                 hi ad\n",
       "3  greetings        chào buổi sáng\n",
       "4  greetings                 hello"
      ]
     },
     "execution_count": 46,
     "metadata": {},
     "output_type": "execute_result"
    }
   ],
   "source": [
    "data_df['text'] = data_df['text'].apply(process_text)\n",
    "data_df.head()"
   ]
  },
  {
   "cell_type": "code",
   "execution_count": 54,
   "id": "2c33f622-db74-4b07-8d2b-53e728813ed0",
   "metadata": {
    "tags": []
   },
   "outputs": [
    {
     "data": {
      "text/html": [
       "<div>\n",
       "<style scoped>\n",
       "    .dataframe tbody tr th:only-of-type {\n",
       "        vertical-align: middle;\n",
       "    }\n",
       "\n",
       "    .dataframe tbody tr th {\n",
       "        vertical-align: top;\n",
       "    }\n",
       "\n",
       "    .dataframe thead th {\n",
       "        text-align: right;\n",
       "    }\n",
       "</style>\n",
       "<table border=\"1\" class=\"dataframe\">\n",
       "  <thead>\n",
       "    <tr style=\"text-align: right;\">\n",
       "      <th></th>\n",
       "      <th>text</th>\n",
       "      <th>label</th>\n",
       "    </tr>\n",
       "  </thead>\n",
       "  <tbody>\n",
       "    <tr>\n",
       "      <th>0</th>\n",
       "      <td>hôm nay có hoạt động nào trên thẻ của tôi không</td>\n",
       "      <td>lost_or_stolen_card</td>\n",
       "    </tr>\n",
       "    <tr>\n",
       "      <th>1</th>\n",
       "      <td>tôi bị mất ví và tất cả các thẻ của tôi đều ở ...</td>\n",
       "      <td>lost_or_stolen_card</td>\n",
       "    </tr>\n",
       "    <tr>\n",
       "      <th>2</th>\n",
       "      <td>tôi đang hoảng loạn tôi bị mất thẻ của tôi giú...</td>\n",
       "      <td>lost_or_stolen_card</td>\n",
       "    </tr>\n",
       "    <tr>\n",
       "      <th>3</th>\n",
       "      <td>tôi cần báo cáo thẻ bị đánh cắp</td>\n",
       "      <td>lost_or_stolen_card</td>\n",
       "    </tr>\n",
       "    <tr>\n",
       "      <th>4</th>\n",
       "      <td>làm cách nào để thay thế thẻ bị đánh cắp</td>\n",
       "      <td>lost_or_stolen_card</td>\n",
       "    </tr>\n",
       "  </tbody>\n",
       "</table>\n",
       "</div>"
      ],
      "text/plain": [
       "                                                text                label\n",
       "0    hôm nay có hoạt động nào trên thẻ của tôi không  lost_or_stolen_card\n",
       "1  tôi bị mất ví và tất cả các thẻ của tôi đều ở ...  lost_or_stolen_card\n",
       "2  tôi đang hoảng loạn tôi bị mất thẻ của tôi giú...  lost_or_stolen_card\n",
       "3                    tôi cần báo cáo thẻ bị đánh cắp  lost_or_stolen_card\n",
       "4           làm cách nào để thay thế thẻ bị đánh cắp  lost_or_stolen_card"
      ]
     },
     "execution_count": 54,
     "metadata": {},
     "output_type": "execute_result"
    }
   ],
   "source": [
    "data_df_1['text'] = data_df_1['text'].apply(process_text)\n",
    "data_df_2['text'] = data_df_2['text'].apply(process_text)\n",
    "data_df_2.head()"
   ]
  },
  {
   "cell_type": "code",
   "execution_count": 60,
   "id": "c49f8902-ec7b-48aa-9eff-c07a35c07f7a",
   "metadata": {
    "tags": []
   },
   "outputs": [],
   "source": [
    "data_df_2 = data_df_2[:190]"
   ]
  },
  {
   "cell_type": "code",
   "execution_count": 61,
   "id": "8d0a992f-132d-44ef-84f0-6186ec8cd6bb",
   "metadata": {
    "tags": []
   },
   "outputs": [
    {
     "data": {
      "text/plain": [
       "<AxesSubplot: >"
      ]
     },
     "execution_count": 61,
     "metadata": {},
     "output_type": "execute_result"
    },
    {
     "data": {
      "image/png": "[encoded data removed]",
      "text/plain": [
       "<Figure size 640x480 with 1 Axes>"
      ]
     },
     "metadata": {},
     "output_type": "display_data"
    }
   ],
   "source": [
    "data_df_2['label'].value_counts().plot(y=['li','la'],kind='barh')"
   ]
  },
  {
   "cell_type": "code",
   "execution_count": 22,
   "id": "ad78ba8f-12b6-408d-b2ff-c30d4200ce78",
   "metadata": {
    "tags": []
   },
   "outputs": [],
   "source": [
    "def preprocess_sentence(sen):\n",
    "  sen = process_text(sen)\n",
    "  sen = tokenize(sen)\n",
    "  return sen"
   ]
  },
  {
   "cell_type": "code",
   "execution_count": 24,
   "id": "d8ebe151-286e-4e74-9ac7-e5807a00833e",
   "metadata": {
    "tags": []
   },
   "outputs": [],
   "source": [
    "from pyvi.ViTokenizer import tokenize\n",
    "\n",
    "def preprocess_text(df):\n",
    "  sen = df['text']\n",
    "  sen = tokenize(sen)\n",
    "  # sen = process_text(sen)\n",
    "  return sen\n",
    "# vec_pre = np.vectorize(preprocess_text)\n",
    "# print(vec_pre((data_df.iloc[3,3])))\n",
    "# data_df['concat_text'] = data_df.apply(lambda x: preprocess_text(x), axis = 1)"
   ]
  },
  {
   "cell_type": "code",
   "execution_count": 65,
   "id": "a74e336e-a77a-4277-bf77-d15694a6c566",
   "metadata": {
    "tags": []
   },
   "outputs": [
    {
     "name": "stdout",
     "output_type": "stream",
     "text": [
      "                                                  text  \\\n",
      "75   để hoàn tiền thì tôi cần số tiền tích lũy tối ...   \n",
      "219                    tư vấn giúp tôi các kênh đầu tư   \n",
      "149  tôi đang ở nhà nội trợ nhưng có nhà thì có vay...   \n",
      "496               kích hoạt thẻ tín dụng như thế nào ạ   \n",
      "465  trong tuần vib mở cửa giao dịch từ mấy giờ đến...   \n",
      "\n",
      "                       label  \n",
      "75      nghiepvuthe_hoantien  \n",
      "219               dautu_kenh  \n",
      "149             vay_tieudung  \n",
      "496   thetindung_kichhoatthe  \n",
      "465  giolamviec_giaodichvien  \n"
     ]
    },
    {
     "data": {
      "text/plain": [
       "baohiem_prudautulinhhoat_quyenloi    3\n",
       "baohiem_prudautulinhhoat_dotuoi      3\n",
       "baohiem_hoso                         3\n",
       "dautu_chungchiquy                    3\n",
       "baohiem_sanpham                      3\n",
       "                                    ..\n",
       "nghiepvuthe_vibplus_caidat           2\n",
       "vay_bieuphi                          2\n",
       "taikhoan_bieuphi                     2\n",
       "chuyentienquocte_hoso_mua            2\n",
       "chuyentienquocte_hanmuc_dinhcu       2\n",
       "Name: label, Length: 62, dtype: int64"
      ]
     },
     "execution_count": 65,
     "metadata": {},
     "output_type": "execute_result"
    }
   ],
   "source": [
    "data_df_1_train, data_df_1_test = train_test_split(data_df_1, test_size=0.25, random_state=42, shuffle=True, stratify=data_df_1['label'])\n",
    "print(data_df_1_train.head())\n",
    "data_df_1_test['label'].value_counts()"
   ]
  },
  {
   "cell_type": "code",
   "execution_count": 68,
   "id": "019b481f-e083-4cf7-b25b-85890c1d80ad",
   "metadata": {
    "tags": []
   },
   "outputs": [
    {
     "data": {
      "text/html": [
       "<div>\n",
       "<style scoped>\n",
       "    .dataframe tbody tr th:only-of-type {\n",
       "        vertical-align: middle;\n",
       "    }\n",
       "\n",
       "    .dataframe tbody tr th {\n",
       "        vertical-align: top;\n",
       "    }\n",
       "\n",
       "    .dataframe thead th {\n",
       "        text-align: right;\n",
       "    }\n",
       "</style>\n",
       "<table border=\"1\" class=\"dataframe\">\n",
       "  <thead>\n",
       "    <tr style=\"text-align: right;\">\n",
       "      <th></th>\n",
       "      <th>label</th>\n",
       "      <th>text</th>\n",
       "    </tr>\n",
       "  </thead>\n",
       "  <tbody>\n",
       "    <tr>\n",
       "      <th>0</th>\n",
       "      <td>greetings</td>\n",
       "      <td>tư vấn giúp mình với</td>\n",
       "    </tr>\n",
       "    <tr>\n",
       "      <th>1</th>\n",
       "      <td>greetings</td>\n",
       "      <td>hi</td>\n",
       "    </tr>\n",
       "    <tr>\n",
       "      <th>2</th>\n",
       "      <td>greetings</td>\n",
       "      <td>hi ad</td>\n",
       "    </tr>\n",
       "    <tr>\n",
       "      <th>3</th>\n",
       "      <td>greetings</td>\n",
       "      <td>chào buổi sáng</td>\n",
       "    </tr>\n",
       "    <tr>\n",
       "      <th>4</th>\n",
       "      <td>greetings</td>\n",
       "      <td>hello</td>\n",
       "    </tr>\n",
       "    <tr>\n",
       "      <th>...</th>\n",
       "      <td>...</td>\n",
       "      <td>...</td>\n",
       "    </tr>\n",
       "    <tr>\n",
       "      <th>1352</th>\n",
       "      <td>terminate_account</td>\n",
       "      <td>tôi không hài lòng tôi muốn đóng tài khoản của...</td>\n",
       "    </tr>\n",
       "    <tr>\n",
       "      <th>1353</th>\n",
       "      <td>terminate_account</td>\n",
       "      <td>tôi không hài lòng với các dịch vụ mà bạn đang...</td>\n",
       "    </tr>\n",
       "    <tr>\n",
       "      <th>1354</th>\n",
       "      <td>terminate_account</td>\n",
       "      <td>tôi cần đóng tài khoản của mình càng sớm càng tốt</td>\n",
       "    </tr>\n",
       "    <tr>\n",
       "      <th>1355</th>\n",
       "      <td>terminate_account</td>\n",
       "      <td>tôi không hài lòng với dịch vụ của bạn đóng tà...</td>\n",
       "    </tr>\n",
       "    <tr>\n",
       "      <th>1356</th>\n",
       "      <td>terminate_account</td>\n",
       "      <td>tôi không còn muốn tài khoản này tôi nên làm gì</td>\n",
       "    </tr>\n",
       "  </tbody>\n",
       "</table>\n",
       "<p>1357 rows × 2 columns</p>\n",
       "</div>"
      ],
      "text/plain": [
       "                  label                                               text\n",
       "0             greetings                               tư vấn giúp mình với\n",
       "1             greetings                                                 hi\n",
       "2             greetings                                              hi ad\n",
       "3             greetings                                     chào buổi sáng\n",
       "4             greetings                                              hello\n",
       "...                 ...                                                ...\n",
       "1352  terminate_account  tôi không hài lòng tôi muốn đóng tài khoản của...\n",
       "1353  terminate_account  tôi không hài lòng với các dịch vụ mà bạn đang...\n",
       "1354  terminate_account  tôi cần đóng tài khoản của mình càng sớm càng tốt\n",
       "1355  terminate_account  tôi không hài lòng với dịch vụ của bạn đóng tà...\n",
       "1356  terminate_account    tôi không còn muốn tài khoản này tôi nên làm gì\n",
       "\n",
       "[1357 rows x 2 columns]"
      ]
     },
     "execution_count": 68,
     "metadata": {},
     "output_type": "execute_result"
    }
   ],
   "source": [
    "train_df = pd.concat([data_df, data_df_1_train, data_df_2], ignore_index = True)\n",
    "train_df"
   ]
  },
  {
   "cell_type": "code",
   "execution_count": 99,
   "id": "61b3fecf-7c7c-4cee-a21d-838f830163d9",
   "metadata": {
    "tags": []
   },
   "outputs": [
    {
     "data": {
      "text/html": [
       "<div>\n",
       "<style scoped>\n",
       "    .dataframe tbody tr th:only-of-type {\n",
       "        vertical-align: middle;\n",
       "    }\n",
       "\n",
       "    .dataframe tbody tr th {\n",
       "        vertical-align: top;\n",
       "    }\n",
       "\n",
       "    .dataframe thead th {\n",
       "        text-align: right;\n",
       "    }\n",
       "</style>\n",
       "<table border=\"1\" class=\"dataframe\">\n",
       "  <thead>\n",
       "    <tr style=\"text-align: right;\">\n",
       "      <th></th>\n",
       "      <th>text</th>\n",
       "      <th>label</th>\n",
       "    </tr>\n",
       "  </thead>\n",
       "  <tbody>\n",
       "    <tr>\n",
       "      <th>0</th>\n",
       "      <td>chuẩn bị những giấy tờ gì để mua ngoại tệ du l...</td>\n",
       "      <td>chuyentienquocte_hoso_muaho</td>\n",
       "    </tr>\n",
       "    <tr>\n",
       "      <th>1</th>\n",
       "      <td>đi ăn thanh toán bằng thẻ visa dining của vib ...</td>\n",
       "      <td>nghiepvuthe_vibvisadining_uudai</td>\n",
       "    </tr>\n",
       "    <tr>\n",
       "      <th>2</th>\n",
       "      <td>vào mùa đông hầu như tôi không có lương vậy tô...</td>\n",
       "      <td>nghiepvuthe_dangkythe_khongluong</td>\n",
       "    </tr>\n",
       "    <tr>\n",
       "      <th>3</th>\n",
       "      <td>cần có giấy tờ nào để mua tiền ngoại tệ đi du ...</td>\n",
       "      <td>chuyentienquocte_hoso_khongvisa</td>\n",
       "    </tr>\n",
       "    <tr>\n",
       "      <th>4</th>\n",
       "      <td>tôi nên chọn kênh nào nếu muốn đầu tư</td>\n",
       "      <td>dautu_kenh</td>\n",
       "    </tr>\n",
       "    <tr>\n",
       "      <th>...</th>\n",
       "      <td>...</td>\n",
       "      <td>...</td>\n",
       "    </tr>\n",
       "    <tr>\n",
       "      <th>284</th>\n",
       "      <td>i don t find your services useful anymore how ...</td>\n",
       "      <td>terminate_account</td>\n",
       "    </tr>\n",
       "    <tr>\n",
       "      <th>285</th>\n",
       "      <td>please delete my account this company is not w...</td>\n",
       "      <td>terminate_account</td>\n",
       "    </tr>\n",
       "    <tr>\n",
       "      <th>286</th>\n",
       "      <td>i want to delete my account i m unhappy with t...</td>\n",
       "      <td>terminate_account</td>\n",
       "    </tr>\n",
       "    <tr>\n",
       "      <th>287</th>\n",
       "      <td>can you tell me how to close my account</td>\n",
       "      <td>terminate_account</td>\n",
       "    </tr>\n",
       "    <tr>\n",
       "      <th>288</th>\n",
       "      <td>this company sucks can you terminate my account</td>\n",
       "      <td>terminate_account</td>\n",
       "    </tr>\n",
       "  </tbody>\n",
       "</table>\n",
       "<p>289 rows × 2 columns</p>\n",
       "</div>"
      ],
      "text/plain": [
       "                                                  text  \\\n",
       "0    chuẩn bị những giấy tờ gì để mua ngoại tệ du l...   \n",
       "1    đi ăn thanh toán bằng thẻ visa dining của vib ...   \n",
       "2    vào mùa đông hầu như tôi không có lương vậy tô...   \n",
       "3    cần có giấy tờ nào để mua tiền ngoại tệ đi du ...   \n",
       "4                tôi nên chọn kênh nào nếu muốn đầu tư   \n",
       "..                                                 ...   \n",
       "284  i don t find your services useful anymore how ...   \n",
       "285  please delete my account this company is not w...   \n",
       "286  i want to delete my account i m unhappy with t...   \n",
       "287            can you tell me how to close my account   \n",
       "288    this company sucks can you terminate my account   \n",
       "\n",
       "                                label  \n",
       "0         chuyentienquocte_hoso_muaho  \n",
       "1     nghiepvuthe_vibvisadining_uudai  \n",
       "2    nghiepvuthe_dangkythe_khongluong  \n",
       "3     chuyentienquocte_hoso_khongvisa  \n",
       "4                          dautu_kenh  \n",
       "..                                ...  \n",
       "284                 terminate_account  \n",
       "285                 terminate_account  \n",
       "286                 terminate_account  \n",
       "287                 terminate_account  \n",
       "288                 terminate_account  \n",
       "\n",
       "[289 rows x 2 columns]"
      ]
     },
     "execution_count": 99,
     "metadata": {},
     "output_type": "execute_result"
    }
   ],
   "source": [
    "test_df_con = pd.concat([data_df_1_test, test_df_3], ignore_index = True)\n",
    "test_df_con"
   ]
  },
  {
   "cell_type": "code",
   "execution_count": 69,
   "id": "445a6229-f060-428a-8a4d-5d0f94792acf",
   "metadata": {
    "tags": []
   },
   "outputs": [],
   "source": [
    "data_df = train_df"
   ]
  },
  {
   "cell_type": "code",
   "execution_count": 36,
   "id": "c69eeb86-a2f3-4fe9-a92d-41e3f1d358a8",
   "metadata": {
    "tags": []
   },
   "outputs": [],
   "source": [
    "label_list = data_df['label'].unique().tolist()"
   ]
  },
  {
   "cell_type": "code",
   "execution_count": 37,
   "id": "46ad9800-e731-4ea0-bc00-7b62b4a47062",
   "metadata": {
    "tags": []
   },
   "outputs": [
    {
     "data": {
      "text/plain": [
       "80"
      ]
     },
     "execution_count": 37,
     "metadata": {},
     "output_type": "execute_result"
    }
   ],
   "source": [
    "len(label_list)"
   ]
  },
  {
   "cell_type": "code",
   "execution_count": 38,
   "id": "02710a2b-dedf-41c1-bc60-e519b3b2cf11",
   "metadata": {
    "tags": []
   },
   "outputs": [],
   "source": [
    "def convert_label(x):\n",
    "    return label_list.index(x)"
   ]
  },
  {
   "cell_type": "code",
   "execution_count": 55,
   "id": "05ff4bc9-9619-437c-b381-1c77216f238c",
   "metadata": {
    "tags": []
   },
   "outputs": [
    {
     "data": {
      "text/html": [
       "<div>\n",
       "<style scoped>\n",
       "    .dataframe tbody tr th:only-of-type {\n",
       "        vertical-align: middle;\n",
       "    }\n",
       "\n",
       "    .dataframe tbody tr th {\n",
       "        vertical-align: top;\n",
       "    }\n",
       "\n",
       "    .dataframe thead th {\n",
       "        text-align: right;\n",
       "    }\n",
       "</style>\n",
       "<table border=\"1\" class=\"dataframe\">\n",
       "  <thead>\n",
       "    <tr style=\"text-align: right;\">\n",
       "      <th></th>\n",
       "      <th>text</th>\n",
       "      <th>label</th>\n",
       "    </tr>\n",
       "  </thead>\n",
       "  <tbody>\n",
       "    <tr>\n",
       "      <th>0</th>\n",
       "      <td>tư vấn giúp mình với</td>\n",
       "      <td>0</td>\n",
       "    </tr>\n",
       "    <tr>\n",
       "      <th>1</th>\n",
       "      <td>hi</td>\n",
       "      <td>0</td>\n",
       "    </tr>\n",
       "    <tr>\n",
       "      <th>2</th>\n",
       "      <td>hi ad</td>\n",
       "      <td>0</td>\n",
       "    </tr>\n",
       "    <tr>\n",
       "      <th>3</th>\n",
       "      <td>chào buổi sáng</td>\n",
       "      <td>0</td>\n",
       "    </tr>\n",
       "    <tr>\n",
       "      <th>4</th>\n",
       "      <td>hello</td>\n",
       "      <td>0</td>\n",
       "    </tr>\n",
       "  </tbody>\n",
       "</table>\n",
       "</div>"
      ],
      "text/plain": [
       "                   text  label\n",
       "0  tư vấn giúp mình với      0\n",
       "1                    hi      0\n",
       "2                 hi ad      0\n",
       "3        chào buổi sáng      0\n",
       "4                 hello      0"
      ]
     },
     "execution_count": 55,
     "metadata": {},
     "output_type": "execute_result"
    }
   ],
   "source": [
    "data_df['label'] = data_df['label'].apply(lambda x: convert_label(x))\n",
    "data_df.head()"
   ]
  },
  {
   "cell_type": "code",
   "execution_count": 45,
   "id": "6399eb74-dd72-4873-8a42-4b8680b7a422",
   "metadata": {
    "tags": []
   },
   "outputs": [
    {
     "data": {
      "text/html": [
       "<div>\n",
       "<style scoped>\n",
       "    .dataframe tbody tr th:only-of-type {\n",
       "        vertical-align: middle;\n",
       "    }\n",
       "\n",
       "    .dataframe tbody tr th {\n",
       "        vertical-align: top;\n",
       "    }\n",
       "\n",
       "    .dataframe thead th {\n",
       "        text-align: right;\n",
       "    }\n",
       "</style>\n",
       "<table border=\"1\" class=\"dataframe\">\n",
       "  <thead>\n",
       "    <tr style=\"text-align: right;\">\n",
       "      <th></th>\n",
       "      <th>label</th>\n",
       "      <th>text</th>\n",
       "    </tr>\n",
       "  </thead>\n",
       "  <tbody>\n",
       "    <tr>\n",
       "      <th>0</th>\n",
       "      <td>0</td>\n",
       "      <td>chào bạn cho mình hỏi chút với ạ</td>\n",
       "    </tr>\n",
       "    <tr>\n",
       "      <th>1</th>\n",
       "      <td>0</td>\n",
       "      <td>xin chào mình là nghĩa</td>\n",
       "    </tr>\n",
       "    <tr>\n",
       "      <th>2</th>\n",
       "      <td>0</td>\n",
       "      <td>tên tôi là thảo</td>\n",
       "    </tr>\n",
       "    <tr>\n",
       "      <th>3</th>\n",
       "      <td>0</td>\n",
       "      <td>bạn có thể giúp tôi được không</td>\n",
       "    </tr>\n",
       "    <tr>\n",
       "      <th>4</th>\n",
       "      <td>0</td>\n",
       "      <td>tôi cần hỏi một số việc</td>\n",
       "    </tr>\n",
       "    <tr>\n",
       "      <th>...</th>\n",
       "      <td>...</td>\n",
       "      <td>...</td>\n",
       "    </tr>\n",
       "    <tr>\n",
       "      <th>481</th>\n",
       "      <td>69</td>\n",
       "      <td>i don t find your services useful anymore how ...</td>\n",
       "    </tr>\n",
       "    <tr>\n",
       "      <th>482</th>\n",
       "      <td>69</td>\n",
       "      <td>please delete my account this company is not w...</td>\n",
       "    </tr>\n",
       "    <tr>\n",
       "      <th>483</th>\n",
       "      <td>69</td>\n",
       "      <td>i want to delete my account i m unhappy with t...</td>\n",
       "    </tr>\n",
       "    <tr>\n",
       "      <th>484</th>\n",
       "      <td>69</td>\n",
       "      <td>can you tell me how to close my account</td>\n",
       "    </tr>\n",
       "    <tr>\n",
       "      <th>485</th>\n",
       "      <td>69</td>\n",
       "      <td>this company sucks can you terminate my account</td>\n",
       "    </tr>\n",
       "  </tbody>\n",
       "</table>\n",
       "<p>486 rows × 2 columns</p>\n",
       "</div>"
      ],
      "text/plain": [
       "     label                                               text\n",
       "0        0                   chào bạn cho mình hỏi chút với ạ\n",
       "1        0                             xin chào mình là nghĩa\n",
       "2        0                                    tên tôi là thảo\n",
       "3        0                     bạn có thể giúp tôi được không\n",
       "4        0                            tôi cần hỏi một số việc\n",
       "..     ...                                                ...\n",
       "481     69  i don t find your services useful anymore how ...\n",
       "482     69  please delete my account this company is not w...\n",
       "483     69  i want to delete my account i m unhappy with t...\n",
       "484     69            can you tell me how to close my account\n",
       "485     69    this company sucks can you terminate my account\n",
       "\n",
       "[486 rows x 2 columns]"
      ]
     },
     "execution_count": 45,
     "metadata": {},
     "output_type": "execute_result"
    }
   ],
   "source": [
    "test_df_all['label'] = test_df_all['label'].apply(lambda x: convert_label(x))\n",
    "test_df_all"
   ]
  },
  {
   "cell_type": "code",
   "execution_count": 46,
   "id": "c01391c9-a794-4c84-8fe0-5d5d4b15b737",
   "metadata": {
    "tags": []
   },
   "outputs": [
    {
     "data": {
      "text/plain": [
       "<AxesSubplot: >"
      ]
     },
     "execution_count": 46,
     "metadata": {},
     "output_type": "execute_result"
    },
    {
     "data": {
      "image/png": "[encoded data removed]",
      "text/plain": [
       "<Figure size 640x480 with 1 Axes>"
      ]
     },
     "metadata": {},
     "output_type": "display_data"
    }
   ],
   "source": [
    "data_df['label'].value_counts().plot(y=['li','la'],kind='barh')"
   ]
  },
  {
   "cell_type": "code",
   "execution_count": null,
   "id": "f9773b01-a0a6-40b0-bd79-a951b0cc33e9",
   "metadata": {},
   "outputs": [],
   "source": []
  },
  {
   "cell_type": "code",
   "execution_count": 47,
   "id": "809ef44b-c8e0-4585-88c7-a4dcf9353ff2",
   "metadata": {
    "tags": []
   },
   "outputs": [],
   "source": [
    "from sentence_transformers.losses import CosineSimilarityLoss\n",
    "from setfit import SetFitModel, SetFitTrainer, sample_dataset"
   ]
  },
  {
   "cell_type": "code",
   "execution_count": 48,
   "id": "824e0393-e368-4393-96cb-4b9f182901ba",
   "metadata": {
    "tags": []
   },
   "outputs": [],
   "source": [
    "# train_df = data_df.groupby('label').sample(n=16, random_state = 42)\n",
    "# train_df"
   ]
  },
  {
   "cell_type": "code",
   "execution_count": 49,
   "id": "58671f3b-c159-490b-95c4-ac0170f242a7",
   "metadata": {
    "tags": []
   },
   "outputs": [],
   "source": [
    "# test_df = data_df.loc[list(set(data_df.index) - set(train_df.index))]\n",
    "# test_df"
   ]
  },
  {
   "cell_type": "code",
   "execution_count": 50,
   "id": "095d393f-970e-4724-a2a3-1764973bd0a8",
   "metadata": {
    "tags": []
   },
   "outputs": [],
   "source": [
    "# with open('./data/test.json') as f:\n",
    "#     test_json = json.load(f)\n",
    "# test_json['submenucomplain']"
   ]
  },
  {
   "cell_type": "code",
   "execution_count": 51,
   "id": "cfc4aded-6951-4779-a66d-8753b136d4d0",
   "metadata": {
    "tags": []
   },
   "outputs": [
    {
     "data": {
      "text/plain": [
       "80"
      ]
     },
     "execution_count": 51,
     "metadata": {},
     "output_type": "execute_result"
    }
   ],
   "source": [
    "len(label_list)"
   ]
  },
  {
   "cell_type": "code",
   "execution_count": 52,
   "id": "614357a6-1920-4e14-81e2-baabdb314f8e",
   "metadata": {
    "tags": []
   },
   "outputs": [
    {
     "data": {
      "text/plain": [
       "['greetings',\n",
       " 'goodbye',\n",
       " 'thanks',\n",
       " 'affirm',\n",
       " 'deny',\n",
       " 'moodgreat',\n",
       " 'mainmenu',\n",
       " 'submenuthongtin',\n",
       " 'submenuthongtinID',\n",
       " 'submenuthongtinemailphone',\n",
       " 'submenucomplain',\n",
       " 'submenulienhetuvan',\n",
       " 'branchlocation',\n",
       " 'cardproductmainmenu',\n",
       " 'cardproductkiemtrahoso',\n",
       " 'cardproductkiemtragiaonhan',\n",
       " 'outofscorenonvietnamese',\n",
       " 'outofscoreother',\n",
       " 'nghiepvuthe_hoantien',\n",
       " 'dautu_kenh',\n",
       " 'vay_tieudung',\n",
       " 'thetindung_kichhoatthe',\n",
       " 'giolamviec_giaodichvien',\n",
       " 'nghiepvuthe_vibvisadining_bieuphi',\n",
       " 'chuyentienquocte_hoso_khongvisa',\n",
       " 'nghiepvuthe_vibvisatravel_sudung',\n",
       " 'taikhoan_uudai',\n",
       " 'nghiepvuthe_vibplus_caidat',\n",
       " 'dautu_chungchiquy',\n",
       " 'taikhoan_bieuphi',\n",
       " 'nghiepvuthe_vibmastercardsuperfree_uudai',\n",
       " 'baohiem_prudautulinhhoat_quyenloi',\n",
       " 'vayuudai_thongtin',\n",
       " 'nghiepvuthe_vibvisadining_uudai',\n",
       " 'taikhoan_bieuphi_dangky',\n",
       " 'baohiem_muaquaVIB',\n",
       " 'dautu_traiphieu',\n",
       " 'chuyentienquocte_hanmuc_sinhhoatphi',\n",
       " 'nghiepvuthe_uudai',\n",
       " 'taikhoan_chuyentien',\n",
       " 'chuyentienquocte_hoso_sinhhoatphi',\n",
       " 'chuyentienquocte_hoso_trocap',\n",
       " 'thetindung_cachnhanthe',\n",
       " 'vay_kinhdoanh',\n",
       " 'vay_oto',\n",
       " 'baohiem_sanpham',\n",
       " 'chuyentienquocte_hoso_muaho',\n",
       " 'taikhoan_kiemtrasodu',\n",
       " 'baohiem_prudautulinhhoat_dotuoi',\n",
       " 'chuyentienquocte_muanha',\n",
       " 'nghiepvuthe_vibvisadining_thanhtoan',\n",
       " 'chuyentienquocte_taikhoan',\n",
       " 'nghiepvuthe_vibvisamastercard',\n",
       " 'nghiepvuthe_matthe',\n",
       " 'taikhoan_bieuphi_hangthang',\n",
       " 'nghiepvuthe_dangkythe_khongluong',\n",
       " 'baohiem_VIB',\n",
       " 'giolamviec_chinhanh',\n",
       " 'baohiem_hoso',\n",
       " 'chuyentienquocte_hoso_mua',\n",
       " 'guitietkiem_laisuat',\n",
       " 'taikhoan_thutuc_dangky',\n",
       " 'chuyentienquocte_doituong_trocap',\n",
       " 'vay_nha',\n",
       " 'chuyentienquocte_hoso',\n",
       " 'chuyentienquocte_mua',\n",
       " 'chuyentienquocte_hanmuc_trocap',\n",
       " 'nghiepvuthe_vibplus',\n",
       " 'chuyentienquocte_hanmuc',\n",
       " 'taikhoan_khoa',\n",
       " 'taikhoan_dangky',\n",
       " 'vay_bieuphi',\n",
       " 'chuyentienquocte_hoso_hocphi',\n",
       " 'nghiepvuthe_vibvisa_bieuphi',\n",
       " 'chuyentienquocte_hanmuc_dinhcu',\n",
       " 'thetindung_mapin_cachlay',\n",
       " 'thetindung_doanhnghiep',\n",
       " 'nghiepvuthe_dangkythe',\n",
       " 'guitietkiem_thongtin',\n",
       " 'thetindung_thongtin']"
      ]
     },
     "execution_count": 52,
     "metadata": {},
     "output_type": "execute_result"
    }
   ],
   "source": [
    "label_list"
   ]
  },
  {
   "cell_type": "code",
   "execution_count": 56,
   "id": "f1e25ab8-ce59-46dd-aaf1-9028d0d15243",
   "metadata": {
    "tags": []
   },
   "outputs": [],
   "source": [
    "train_df = data_df \n",
    "test_df = test_df_all"
   ]
  },
  {
   "cell_type": "code",
   "execution_count": 57,
   "id": "2ffb0044-0888-4e19-aa1e-95c91040a0de",
   "metadata": {
    "tags": []
   },
   "outputs": [
    {
     "data": {
      "text/html": [
       "<div>\n",
       "<style scoped>\n",
       "    .dataframe tbody tr th:only-of-type {\n",
       "        vertical-align: middle;\n",
       "    }\n",
       "\n",
       "    .dataframe tbody tr th {\n",
       "        vertical-align: top;\n",
       "    }\n",
       "\n",
       "    .dataframe thead th {\n",
       "        text-align: right;\n",
       "    }\n",
       "</style>\n",
       "<table border=\"1\" class=\"dataframe\">\n",
       "  <thead>\n",
       "    <tr style=\"text-align: right;\">\n",
       "      <th></th>\n",
       "      <th>text</th>\n",
       "      <th>label</th>\n",
       "    </tr>\n",
       "  </thead>\n",
       "  <tbody>\n",
       "    <tr>\n",
       "      <th>0</th>\n",
       "      <td>tư vấn giúp mình với</td>\n",
       "      <td>0</td>\n",
       "    </tr>\n",
       "    <tr>\n",
       "      <th>1</th>\n",
       "      <td>hi</td>\n",
       "      <td>0</td>\n",
       "    </tr>\n",
       "    <tr>\n",
       "      <th>2</th>\n",
       "      <td>hi ad</td>\n",
       "      <td>0</td>\n",
       "    </tr>\n",
       "    <tr>\n",
       "      <th>3</th>\n",
       "      <td>chào buổi sáng</td>\n",
       "      <td>0</td>\n",
       "    </tr>\n",
       "    <tr>\n",
       "      <th>4</th>\n",
       "      <td>hello</td>\n",
       "      <td>0</td>\n",
       "    </tr>\n",
       "  </tbody>\n",
       "</table>\n",
       "</div>"
      ],
      "text/plain": [
       "                   text  label\n",
       "0  tư vấn giúp mình với      0\n",
       "1                    hi      0\n",
       "2                 hi ad      0\n",
       "3        chào buổi sáng      0\n",
       "4                 hello      0"
      ]
     },
     "execution_count": 57,
     "metadata": {},
     "output_type": "execute_result"
    }
   ],
   "source": [
    "train_df = train_df.reset_index(drop=True)\n",
    "test_df = test_df.reset_index(drop=True)\n",
    "train_df.head()"
   ]
  },
  {
   "cell_type": "code",
   "execution_count": 40,
   "id": "2ec84048-8b4a-4637-b44c-6d08e47644fa",
   "metadata": {
    "tags": []
   },
   "outputs": [],
   "source": [
    "def convert_idx_to_label(x):\n",
    "    return label_list[int(x)]"
   ]
  },
  {
   "cell_type": "code",
   "execution_count": 43,
   "id": "e738c05d-d959-4795-84ca-befd5f65c1e0",
   "metadata": {
    "tags": []
   },
   "outputs": [],
   "source": [
    "# data_df['label'] =  data_df['label'].apply(convert_idx_to_label)\n",
    "# data_df"
   ]
  },
  {
   "cell_type": "code",
   "execution_count": 58,
   "id": "ccc6435b-c854-46c9-9ac9-82b5a2c5cb25",
   "metadata": {
    "tags": []
   },
   "outputs": [],
   "source": [
    "from datasets import Dataset"
   ]
  },
  {
   "cell_type": "code",
   "execution_count": 59,
   "id": "db603f39-d7f8-40ba-b99b-e6666d63c8a1",
   "metadata": {
    "tags": []
   },
   "outputs": [],
   "source": [
    "train_dataset = Dataset.from_pandas(train_df)\n",
    "test_dataset = Dataset.from_pandas(test_df)"
   ]
  },
  {
   "cell_type": "code",
   "execution_count": 60,
   "id": "2b45ec5a-81c5-43c2-8e17-f84b60617c81",
   "metadata": {
    "tags": []
   },
   "outputs": [
    {
     "name": "stdout",
     "output_type": "stream",
     "text": [
      "17    172\n",
      "15    162\n",
      "7     118\n",
      "69    114\n",
      "53     88\n",
      "     ... \n",
      "46      6\n",
      "47      6\n",
      "49      6\n",
      "79      6\n",
      "14      5\n",
      "Name: label, Length: 80, dtype: int64\n",
      "53    82\n",
      "69    82\n",
      "9     20\n",
      "0     17\n",
      "8     14\n",
      "      ..\n",
      "29     2\n",
      "59     2\n",
      "49     2\n",
      "24     2\n",
      "74     2\n",
      "Name: label, Length: 78, dtype: int64\n"
     ]
    }
   ],
   "source": [
    "print(train_df['label'].value_counts())\n",
    "print(test_df['label'].value_counts())"
   ]
  },
  {
   "cell_type": "code",
   "execution_count": 62,
   "id": "cd807419-a257-4cc2-aa98-be1450c0b60d",
   "metadata": {
    "tags": []
   },
   "outputs": [
    {
     "name": "stderr",
     "output_type": "stream",
     "text": [
      "model_head.pkl not found on HuggingFace Hub, initialising classification head with random weights. You should TRAIN this model on a downstream task to use it for predictions and inference.\n"
     ]
    }
   ],
   "source": [
    "num_classes = len(label_list)\n",
    "\n",
    "model = SetFitModel.from_pretrained(\n",
    "    \"sentence-transformers/paraphrase-multilingual-mpnet-base-v2\",\n",
    "    use_differentiable_head=True,\n",
    "    head_params={\"out_features\": num_classes}\n",
    ")"
   ]
  },
  {
   "cell_type": "code",
   "execution_count": 119,
   "id": "88a2938f-6f77-4abe-aa1e-1df70c36fbc4",
   "metadata": {
    "tags": []
   },
   "outputs": [],
   "source": [
    "model = model.to('cuda:1')"
   ]
  },
  {
   "cell_type": "code",
   "execution_count": 43,
   "id": "d569ceae-9681-4772-a34f-89d81a6f4964",
   "metadata": {
    "tags": []
   },
   "outputs": [],
   "source": [
    "num_classes = len(label_list)\n",
    "\n",
    "model = SetFitModel.from_pretrained(\n",
    "    \"setfitckpt_multiphoMT\"\n",
    ")"
   ]
  },
  {
   "cell_type": "code",
   "execution_count": 44,
   "id": "9d60c7ef-1448-495a-bf55-87f8d11d1ee8",
   "metadata": {
    "tags": []
   },
   "outputs": [],
   "source": [
    "# model = model.to('cuda:1')"
   ]
  },
  {
   "cell_type": "code",
   "execution_count": 63,
   "id": "c02b77ac-c4aa-45d6-bfaa-90a4df9af485",
   "metadata": {
    "tags": []
   },
   "outputs": [
    {
     "data": {
      "text/plain": [
       "Parameter containing:\n",
       "tensor([[ 0.0662,  0.0555,  0.0743,  ...,  0.0534,  0.0464,  0.0255],\n",
       "        [-0.0026,  0.0016, -0.0028,  ...,  0.0028,  0.0014, -0.0028],\n",
       "        [ 0.0888,  0.0866,  0.0601,  ...,  0.0713, -0.0012,  0.0890],\n",
       "        ...,\n",
       "        [ 0.1257, -0.1544,  0.0596,  ...,  0.0792,  0.0191,  0.0341],\n",
       "        [ 0.0070, -0.0440,  0.0062,  ..., -0.0052,  0.0124, -0.0409],\n",
       "        [ 0.0358,  0.0211,  0.0197,  ...,  0.0437, -0.0023,  0.0433]],\n",
       "       device='cuda:0', requires_grad=True)"
      ]
     },
     "execution_count": 63,
     "metadata": {},
     "output_type": "execute_result"
    }
   ],
   "source": [
    "next(model.model_body.parameters())"
   ]
  },
  {
   "cell_type": "code",
   "execution_count": 64,
   "id": "87764b68-f8ba-4b58-8c28-2e9cc1ae8df2",
   "metadata": {
    "tags": []
   },
   "outputs": [],
   "source": [
    "config = dict(\n",
    "    model=\"sentence-transformers/paraphrase-mpnet-base-v2\",\n",
    "    metric=\"f1\",\n",
    "    batch_size=16,\n",
    "    num_iterations=20,\n",
    "    num_epochs=1,\n",
    "    body_learning_rate=1e-5, # The body's learning rate\n",
    "    learning_rate=1e-2, # The head's learning rate\n",
    "    l2_weight=0.0, # Weight decay on **both** the body and head. If `None`, will use 0.01.\n",
    "    mixed_precision=True,\n",
    ")"
   ]
  },
  {
   "cell_type": "code",
   "execution_count": 65,
   "id": "bb6df635-3355-4a1f-bb7a-8f4192d436ef",
   "metadata": {
    "tags": []
   },
   "outputs": [],
   "source": [
    "trainer = SetFitTrainer(\n",
    "        model=model,\n",
    "        train_dataset=train_dataset,\n",
    "        eval_dataset=test_dataset,\n",
    "        loss_class=CosineSimilarityLoss,\n",
    "        metric=config[\"metric\"],\n",
    "        batch_size=config[\"batch_size\"],\n",
    "        num_iterations=config[\"num_iterations\"],\n",
    "        num_epochs=config[\"num_epochs\"],\n",
    "        column_mapping={\"text\": \"text\", \"label\": \"label\"}\n",
    "    )"
   ]
  },
  {
   "cell_type": "code",
   "execution_count": 66,
   "id": "34bb436d-edea-4f7b-a268-3b7f245e7ad6",
   "metadata": {
    "tags": []
   },
   "outputs": [
    {
     "data": {
      "text/plain": [
       "80"
      ]
     },
     "execution_count": 66,
     "metadata": {},
     "output_type": "execute_result"
    }
   ],
   "source": [
    "len(label_list)"
   ]
  },
  {
   "cell_type": "code",
   "execution_count": 67,
   "id": "fe89b082-4424-4fcc-ae90-04992460efa1",
   "metadata": {
    "tags": []
   },
   "outputs": [
    {
     "name": "stderr",
     "output_type": "stream",
     "text": [
      "Applying column mapping to training dataset\n",
      "***** Running training *****\n",
      "  Num examples = 53560\n",
      "  Num epochs = 1\n",
      "  Total optimization steps = 3348\n",
      "  Total train batch size = 16\n"
     ]
    },
    {
     "data": {
      "application/vnd.jupyter.widget-view+json": {
       "model_id": "f5314fab2a9a42aeb11df4af0859258c",
       "version_major": 2,
       "version_minor": 0
      },
      "text/plain": [
       "Epoch:   0%|          | 0/1 [00:00<?, ?it/s]"
      ]
     },
     "metadata": {},
     "output_type": "display_data"
    },
    {
     "data": {
      "application/vnd.jupyter.widget-view+json": {
       "model_id": "947ff929a4484f859e4cbc02d5c5e2be",
       "version_major": 2,
       "version_minor": 0
      },
      "text/plain": [
       "Iteration:   0%|          | 0/3348 [00:00<?, ?it/s]"
      ]
     },
     "metadata": {},
     "output_type": "display_data"
    }
   ],
   "source": [
    "trainer.freeze() # Freeze the head\n",
    "trainer.train(\n",
    "        body_learning_rate=config[\"body_learning_rate\"],\n",
    "        num_epochs=config[\"num_epochs\"]\n",
    "    )"
   ]
  },
  {
   "cell_type": "code",
   "execution_count": 68,
   "id": "9e1a9711-c0e5-4eff-99ec-988d782ee972",
   "metadata": {
    "tags": []
   },
   "outputs": [
    {
     "name": "stdout",
     "output_type": "stream",
     "text": [
      "huggingface/tokenizers: The current process just got forked, after parallelism has already been used. Disabling parallelism to avoid deadlocks...\n",
      "To disable this warning, you can either:\n",
      "\t- Avoid using `tokenizers` before the fork if possible\n",
      "\t- Explicitly set the environment variable TOKENIZERS_PARALLELISM=(true | false)\n",
      "Sat Apr  8 10:32:48 2023       \n",
      "+-----------------------------------------------------------------------------+\n",
      "| NVIDIA-SMI 460.27.04    Driver Version: 460.27.04    CUDA Version: 11.2     |\n",
      "|-------------------------------+----------------------+----------------------+\n",
      "| GPU  Name        Persistence-M| Bus-Id        Disp.A | Volatile Uncorr. ECC |\n",
      "| Fan  Temp  Perf  Pwr:Usage/Cap|         Memory-Usage | GPU-Util  Compute M. |\n",
      "|                               |                      |               MIG M. |\n",
      "|===============================+======================+======================|\n",
      "|   0  GeForce RTX 3090    Off  | 00000000:00:07.0 Off |                  N/A |\n",
      "| 37%   37C    P2   106W / 350W |  24186MiB / 24268MiB |      0%      Default |\n",
      "|                               |                      |                  N/A |\n",
      "+-------------------------------+----------------------+----------------------+\n",
      "|   1  GeForce RTX 3090    Off  | 00000000:00:08.0 Off |                  N/A |\n",
      "| 30%   35C    P2   114W / 350W |   9036MiB / 24268MiB |      8%      Default |\n",
      "|                               |                      |                  N/A |\n",
      "+-------------------------------+----------------------+----------------------+\n",
      "                                                                               \n",
      "+-----------------------------------------------------------------------------+\n",
      "| Processes:                                                                  |\n",
      "|  GPU   GI   CI        PID   Type   Process name                  GPU Memory |\n",
      "|        ID   ID                                                   Usage      |\n",
      "|=============================================================================|\n",
      "|    0   N/A  N/A    651228      C   ...onda3/envs/SEO/bin/python    10009MiB |\n",
      "|    0   N/A  N/A   1015326      C   ...rec_engine_1_1/bin/python      711MiB |\n",
      "|    0   N/A  N/A   1015327      C   ...rec_engine_1_1/bin/python      677MiB |\n",
      "|    0   N/A  N/A   1015329      C   ...rec_engine_1_1/bin/python      711MiB |\n",
      "|    0   N/A  N/A   1015330      C   ...rec_engine_1_1/bin/python      705MiB |\n",
      "|    0   N/A  N/A   1015347      C   ...rec_engine_1_1/bin/python      747MiB |\n",
      "|    0   N/A  N/A   1015366      C   ...rec_engine_1_1/bin/python      677MiB |\n",
      "|    0   N/A  N/A   1015369      C   ...rec_engine_1_1/bin/python      711MiB |\n",
      "|    0   N/A  N/A   1015444      C   ...rec_engine_1_1/bin/python      919MiB |\n",
      "|    0   N/A  N/A   1015447      C   ...rec_engine_1_1/bin/python      677MiB |\n",
      "|    0   N/A  N/A   1015466      C   ...rec_engine_1_1/bin/python      713MiB |\n",
      "|    0   N/A  N/A   1015494      C   ...rec_engine_1_1/bin/python      677MiB |\n",
      "|    0   N/A  N/A   1015520      C   ...rec_engine_1_1/bin/python      713MiB |\n",
      "|    0   N/A  N/A   1015636      C   ...rec_engine_1_1/bin/python      759MiB |\n",
      "|    0   N/A  N/A   1015637      C   ...rec_engine_1_1/bin/python      707MiB |\n",
      "|    0   N/A  N/A   1026757      C   ...rec_engine_1_1/bin/python      701MiB |\n",
      "|    0   N/A  N/A   1242003      C   ...rec_engine_1_1/bin/python      675MiB |\n",
      "|    0   N/A  N/A   4036258      C   python                           2691MiB |\n",
      "|    1   N/A  N/A     45077      C   python                           3855MiB |\n",
      "|    1   N/A  N/A    919611      C   python                           5179MiB |\n",
      "+-----------------------------------------------------------------------------+\n"
     ]
    }
   ],
   "source": [
    "!nvidia-smi"
   ]
  },
  {
   "cell_type": "code",
   "execution_count": 69,
   "id": "b0176c76-055d-4cad-a191-9169df498524",
   "metadata": {
    "tags": []
   },
   "outputs": [],
   "source": [
    "# Unfreeze the head and freeze the body -> head-only training\n",
    "trainer.unfreeze(keep_body_frozen=True)\n",
    "# or\n",
    "# Unfreeze the head and unfreeze the body -> end-to-end training\n",
    "# trainer.unfreeze(keep_body_frozen=False)"
   ]
  },
  {
   "cell_type": "code",
   "execution_count": 70,
   "id": "da8f3091-c5e1-4dac-acba-577dd682f302",
   "metadata": {
    "tags": []
   },
   "outputs": [
    {
     "data": {
      "text/plain": [
       "'accuracy'"
      ]
     },
     "execution_count": 70,
     "metadata": {},
     "output_type": "execute_result"
    }
   ],
   "source": [
    "trainer.metric = 'accuracy'\n",
    "trainer.metric"
   ]
  },
  {
   "cell_type": "code",
   "execution_count": 71,
   "id": "1155cb23-da9d-42e4-b1f0-ceb7b438ce72",
   "metadata": {
    "tags": []
   },
   "outputs": [
    {
     "name": "stderr",
     "output_type": "stream",
     "text": [
      "Applying column mapping to training dataset\n",
      "The `max_length` is `None`. Using the maximum acceptable length according to the current model body: 128.\n"
     ]
    },
    {
     "data": {
      "application/vnd.jupyter.widget-view+json": {
       "model_id": "b68d28d00f6b498d912a2b1d69f6c4a1",
       "version_major": 2,
       "version_minor": 0
      },
      "text/plain": [
       "Epoch:   0%|          | 0/50 [00:00<?, ?it/s]"
      ]
     },
     "metadata": {},
     "output_type": "display_data"
    },
    {
     "name": "stderr",
     "output_type": "stream",
     "text": [
      "Applying column mapping to evaluation dataset\n",
      "***** Running evaluation *****\n"
     ]
    },
    {
     "name": "stdout",
     "output_type": "stream",
     "text": [
      "{'accuracy': 0.9197530864197531}\n"
     ]
    }
   ],
   "source": [
    "trainer.train(learning_rate=1e-2, num_epochs=50)\n",
    "metrics = trainer.evaluate()\n",
    "print(metrics)"
   ]
  },
  {
   "cell_type": "code",
   "execution_count": 72,
   "id": "4d97e745-7517-4013-aad2-1b0a6b39270f",
   "metadata": {
    "tags": []
   },
   "outputs": [
    {
     "data": {
      "text/plain": [
       "<setfit.trainer.SetFitTrainer at 0x7f8f49fc9d30>"
      ]
     },
     "execution_count": 72,
     "metadata": {},
     "output_type": "execute_result"
    }
   ],
   "source": [
    "trainer"
   ]
  },
  {
   "cell_type": "code",
   "execution_count": 73,
   "id": "a9580e17-88d6-445e-8023-03a41030d01f",
   "metadata": {
    "tags": []
   },
   "outputs": [],
   "source": [
    "trainer.model._save_pretrained('setfitckpt_multilingual_8_4_2023')"
   ]
  },
  {
   "cell_type": "code",
   "execution_count": 74,
   "id": "2c9c3b4e-1b2b-4017-97eb-78b65dba7893",
   "metadata": {
    "tags": []
   },
   "outputs": [],
   "source": [
    "import gc\n",
    "\n",
    "del trainer, model\n",
    "gc.collect()\n",
    "torch.cuda.empty_cache()"
   ]
  },
  {
   "cell_type": "code",
   "execution_count": 75,
   "id": "0fa7afa0-ceca-4ff7-9e50-86df2e4d6f15",
   "metadata": {
    "tags": []
   },
   "outputs": [],
   "source": [
    "model = SetFitModel.from_pretrained(\"./setfitckpt_multilingual_8_4_2023\")"
   ]
  },
  {
   "cell_type": "code",
   "execution_count": 54,
   "id": "c08337b8-b2f2-415a-8810-c2cdde30e92b",
   "metadata": {
    "tags": []
   },
   "outputs": [],
   "source": [
    "model = trainer.model"
   ]
  },
  {
   "cell_type": "code",
   "execution_count": 76,
   "id": "13949db5-02c4-467c-84e8-022b9e013447",
   "metadata": {
    "tags": []
   },
   "outputs": [
    {
     "data": {
      "text/plain": [
       "SetFitModel()"
      ]
     },
     "execution_count": 76,
     "metadata": {},
     "output_type": "execute_result"
    }
   ],
   "source": [
    "model"
   ]
  },
  {
   "cell_type": "code",
   "execution_count": 77,
   "id": "7db1024e-f930-4655-a0d1-53de1c8a3c2a",
   "metadata": {
    "tags": []
   },
   "outputs": [
    {
     "data": {
      "text/plain": [
       "Transformer({'max_seq_length': 128, 'do_lower_case': False}) with Transformer model: XLMRobertaModel "
      ]
     },
     "execution_count": 77,
     "metadata": {},
     "output_type": "execute_result"
    }
   ],
   "source": [
    "model.model_body[0]"
   ]
  },
  {
   "cell_type": "markdown",
   "id": "fc62b8e8-0b5a-43e9-90a8-a1e39d89d3aa",
   "metadata": {},
   "source": [
    "## Evaluation"
   ]
  },
  {
   "cell_type": "code",
   "execution_count": 78,
   "id": "03ac0331-a896-4b0a-b638-bea7fe512fbf",
   "metadata": {
    "tags": []
   },
   "outputs": [
    {
     "data": {
      "text/html": [
       "<div>\n",
       "<style scoped>\n",
       "    .dataframe tbody tr th:only-of-type {\n",
       "        vertical-align: middle;\n",
       "    }\n",
       "\n",
       "    .dataframe tbody tr th {\n",
       "        vertical-align: top;\n",
       "    }\n",
       "\n",
       "    .dataframe thead th {\n",
       "        text-align: right;\n",
       "    }\n",
       "</style>\n",
       "<table border=\"1\" class=\"dataframe\">\n",
       "  <thead>\n",
       "    <tr style=\"text-align: right;\">\n",
       "      <th></th>\n",
       "      <th>label</th>\n",
       "      <th>text</th>\n",
       "    </tr>\n",
       "  </thead>\n",
       "  <tbody>\n",
       "    <tr>\n",
       "      <th>0</th>\n",
       "      <td>0</td>\n",
       "      <td>chào bạn cho mình hỏi chút với ạ</td>\n",
       "    </tr>\n",
       "    <tr>\n",
       "      <th>1</th>\n",
       "      <td>0</td>\n",
       "      <td>xin chào mình là nghĩa</td>\n",
       "    </tr>\n",
       "    <tr>\n",
       "      <th>2</th>\n",
       "      <td>0</td>\n",
       "      <td>tên tôi là thảo</td>\n",
       "    </tr>\n",
       "    <tr>\n",
       "      <th>3</th>\n",
       "      <td>0</td>\n",
       "      <td>bạn có thể giúp tôi được không</td>\n",
       "    </tr>\n",
       "    <tr>\n",
       "      <th>4</th>\n",
       "      <td>0</td>\n",
       "      <td>tôi cần hỏi một số việc</td>\n",
       "    </tr>\n",
       "    <tr>\n",
       "      <th>...</th>\n",
       "      <td>...</td>\n",
       "      <td>...</td>\n",
       "    </tr>\n",
       "    <tr>\n",
       "      <th>481</th>\n",
       "      <td>69</td>\n",
       "      <td>i don t find your services useful anymore how ...</td>\n",
       "    </tr>\n",
       "    <tr>\n",
       "      <th>482</th>\n",
       "      <td>69</td>\n",
       "      <td>please delete my account this company is not w...</td>\n",
       "    </tr>\n",
       "    <tr>\n",
       "      <th>483</th>\n",
       "      <td>69</td>\n",
       "      <td>i want to delete my account i m unhappy with t...</td>\n",
       "    </tr>\n",
       "    <tr>\n",
       "      <th>484</th>\n",
       "      <td>69</td>\n",
       "      <td>can you tell me how to close my account</td>\n",
       "    </tr>\n",
       "    <tr>\n",
       "      <th>485</th>\n",
       "      <td>69</td>\n",
       "      <td>this company sucks can you terminate my account</td>\n",
       "    </tr>\n",
       "  </tbody>\n",
       "</table>\n",
       "<p>486 rows × 2 columns</p>\n",
       "</div>"
      ],
      "text/plain": [
       "     label                                               text\n",
       "0        0                   chào bạn cho mình hỏi chút với ạ\n",
       "1        0                             xin chào mình là nghĩa\n",
       "2        0                                    tên tôi là thảo\n",
       "3        0                     bạn có thể giúp tôi được không\n",
       "4        0                            tôi cần hỏi một số việc\n",
       "..     ...                                                ...\n",
       "481     69  i don t find your services useful anymore how ...\n",
       "482     69  please delete my account this company is not w...\n",
       "483     69  i want to delete my account i m unhappy with t...\n",
       "484     69            can you tell me how to close my account\n",
       "485     69    this company sucks can you terminate my account\n",
       "\n",
       "[486 rows x 2 columns]"
      ]
     },
     "execution_count": 78,
     "metadata": {},
     "output_type": "execute_result"
    }
   ],
   "source": [
    "test_df"
   ]
  },
  {
   "cell_type": "code",
   "execution_count": 79,
   "id": "cf2d39f3-e25f-4d4f-b96d-d65c39c1cce8",
   "metadata": {
    "tags": []
   },
   "outputs": [
    {
     "data": {
      "text/plain": [
       "53    82\n",
       "69    82\n",
       "9     20\n",
       "0     17\n",
       "8     14\n",
       "      ..\n",
       "29     2\n",
       "59     2\n",
       "49     2\n",
       "24     2\n",
       "74     2\n",
       "Name: label, Length: 78, dtype: int64"
      ]
     },
     "execution_count": 79,
     "metadata": {},
     "output_type": "execute_result"
    }
   ],
   "source": [
    "test_df['label'].value_counts()"
   ]
  },
  {
   "cell_type": "code",
   "execution_count": 136,
   "id": "5379eaab-49dc-43a0-99e6-41423b6e7877",
   "metadata": {
    "tags": []
   },
   "outputs": [
    {
     "data": {
      "text/plain": [
       "SetFitHead({'in_features': 768, 'out_features': 82, 'temperature': 1.0, 'bias': True, 'device': 'cuda'})"
      ]
     },
     "execution_count": 136,
     "metadata": {},
     "output_type": "execute_result"
    }
   ],
   "source": [
    "model.model_head.to('cuda:0')"
   ]
  },
  {
   "cell_type": "code",
   "execution_count": 80,
   "id": "fadd1240-097f-4115-9ae0-defea58794ac",
   "metadata": {
    "tags": []
   },
   "outputs": [
    {
     "data": {
      "text/plain": [
       "Parameter containing:\n",
       "tensor([[ 0.3438, -0.2889,  0.2725,  ...,  0.1824, -0.1427,  0.2434],\n",
       "        [ 0.3158,  0.0963, -0.0075,  ...,  0.0241,  0.1344, -0.0600],\n",
       "        [ 0.4892, -0.2469, -0.0107,  ..., -0.3360,  0.0861,  0.4114],\n",
       "        ...,\n",
       "        [ 0.0019,  0.2111,  0.5973,  ...,  0.0271, -0.0951, -0.1918],\n",
       "        [ 0.7611, -0.1962,  0.5032,  ...,  0.1635, -0.2315, -0.0970],\n",
       "        [-0.2307, -0.3110,  0.1186,  ...,  0.3005, -0.0477,  0.1113]],\n",
       "       device='cuda:0', requires_grad=True)"
      ]
     },
     "execution_count": 80,
     "metadata": {},
     "output_type": "execute_result"
    }
   ],
   "source": [
    "next(model.model_head.parameters())"
   ]
  },
  {
   "cell_type": "code",
   "execution_count": 81,
   "id": "2e49c31e-ab22-459b-af99-38d8154a8842",
   "metadata": {
    "tags": []
   },
   "outputs": [],
   "source": [
    "preds = model(list(test_df['text']))"
   ]
  },
  {
   "cell_type": "code",
   "execution_count": 82,
   "id": "151fed67-f694-48c2-af95-9162b33aa30f",
   "metadata": {
    "tags": []
   },
   "outputs": [],
   "source": [
    "preds = preds.cpu()"
   ]
  },
  {
   "cell_type": "code",
   "execution_count": 83,
   "id": "d7708171-46b8-49a1-a273-c0780c254a7e",
   "metadata": {
    "tags": []
   },
   "outputs": [],
   "source": [
    "y_true = list(test_df['label'])"
   ]
  },
  {
   "cell_type": "code",
   "execution_count": 84,
   "id": "1f05354a-975c-484e-886d-f05b8e18d089",
   "metadata": {
    "tags": []
   },
   "outputs": [],
   "source": [
    "from sklearn.metrics import classification_report"
   ]
  },
  {
   "cell_type": "code",
   "execution_count": 12,
   "id": "c23a12f8-5595-477a-af01-f04f943615f8",
   "metadata": {
    "tags": []
   },
   "outputs": [],
   "source": [
    "train_df = pd.read_csv('./data/train_all.csv')\n",
    "label_list = train_df['label'].unique().tolist()"
   ]
  },
  {
   "cell_type": "code",
   "execution_count": 90,
   "id": "74646575-e0f2-4a8f-a581-3222e43e04ff",
   "metadata": {
    "tags": []
   },
   "outputs": [],
   "source": [
    "false_label = []"
   ]
  },
  {
   "cell_type": "code",
   "execution_count": 16,
   "id": "9aa52c27-c5b4-41c9-91f7-1e908f22e740",
   "metadata": {
    "tags": []
   },
   "outputs": [
    {
     "data": {
      "text/plain": [
       "'taikhoan_bieuphi_hangthang'"
      ]
     },
     "execution_count": 16,
     "metadata": {},
     "output_type": "execute_result"
    }
   ],
   "source": [
    "idx = 54\n",
    "label_list[idx]"
   ]
  },
  {
   "cell_type": "code",
   "execution_count": 118,
   "id": "a617f57b-6806-44f3-9a85-30061dca0f5e",
   "metadata": {
    "tags": []
   },
   "outputs": [
    {
     "data": {
      "text/plain": [
       "['goodbye',\n",
       " 'cardproductmainmenu',\n",
       " 'cardproductkiemtrahoso',\n",
       " 'giolamviec_giaodichvien',\n",
       " 'nghiepvuthe_vibvisadining_bieuphi',\n",
       " 'baohiem_prudautulinhhoat_quyenloi',\n",
       " 'thetindung_cachnhanthe',\n",
       " 'baohiem_prudautulinhhoat_dotuoi',\n",
       " 'nghiepvuthe_vibvisadining_thanhtoan',\n",
       " 'taikhoan_bieuphi_hangthang',\n",
       " 'baohiem_hoso',\n",
       " 'chuyentienquocte_hoso_mua',\n",
       " 'chuyentienquocte_doituong_trocap',\n",
       " 'chuyentienquocte_hanmuc_trocap']"
      ]
     },
     "execution_count": 118,
     "metadata": {},
     "output_type": "execute_result"
    }
   ],
   "source": [
    "false_label.append(label_list[idx])\n",
    "false_label"
   ]
  },
  {
   "cell_type": "code",
   "execution_count": 86,
   "id": "c70ca794-c26f-4f6d-8333-6daf9a101ec4",
   "metadata": {
    "tags": []
   },
   "outputs": [
    {
     "name": "stdout",
     "output_type": "stream",
     "text": [
      "              precision    recall  f1-score   support\n",
      "\n",
      "           0       1.00      0.82      0.90        17\n",
      "           1       0.89      0.67      0.76        12\n",
      "           2       1.00      1.00      1.00        12\n",
      "           3       0.92      1.00      0.96        12\n",
      "           4       1.00      0.82      0.90        11\n",
      "           5       1.00      0.91      0.95        11\n",
      "           6       1.00      0.36      0.53        11\n",
      "           7       0.92      1.00      0.96        11\n",
      "           8       0.93      1.00      0.97        14\n",
      "           9       1.00      0.85      0.92        20\n",
      "          10       0.90      0.90      0.90        10\n",
      "          11       0.92      0.92      0.92        12\n",
      "          12       1.00      0.92      0.96        12\n",
      "          13       0.75      0.75      0.75        12\n",
      "          14       0.60      1.00      0.75         9\n",
      "          15       1.00      1.00      1.00        11\n",
      "          17       0.00      0.00      0.00         0\n",
      "          18       1.00      1.00      1.00         2\n",
      "          19       1.00      1.00      1.00         2\n",
      "          20       1.00      1.00      1.00         2\n",
      "          21       1.00      1.00      1.00         2\n",
      "          22       0.67      1.00      0.80         2\n",
      "          23       0.67      1.00      0.80         2\n",
      "          24       1.00      1.00      1.00         2\n",
      "          25       1.00      1.00      1.00         2\n",
      "          26       1.00      1.00      1.00         2\n",
      "          27       1.00      1.00      1.00         2\n",
      "          28       1.00      1.00      1.00         3\n",
      "          29       0.67      1.00      0.80         2\n",
      "          30       1.00      1.00      1.00         2\n",
      "          31       0.75      1.00      0.86         3\n",
      "          32       1.00      1.00      1.00         2\n",
      "          33       0.00      0.00      0.00         2\n",
      "          34       1.00      1.00      1.00         2\n",
      "          35       1.00      1.00      1.00         2\n",
      "          36       1.00      1.00      1.00         2\n",
      "          37       1.00      1.00      1.00         2\n",
      "          38       1.00      1.00      1.00         2\n",
      "          39       1.00      1.00      1.00         2\n",
      "          40       1.00      1.00      1.00         2\n",
      "          41       1.00      1.00      1.00         2\n",
      "          42       0.40      1.00      0.57         2\n",
      "          43       1.00      1.00      1.00         2\n",
      "          44       1.00      1.00      1.00         2\n",
      "          45       1.00      1.00      1.00         3\n",
      "          46       0.00      0.00      0.00         2\n",
      "          47       1.00      1.00      1.00         2\n",
      "          48       1.00      0.67      0.80         3\n",
      "          49       1.00      1.00      1.00         2\n",
      "          50       0.67      1.00      0.80         2\n",
      "          51       1.00      1.00      1.00         2\n",
      "          52       1.00      1.00      1.00         2\n",
      "          53       1.00      0.96      0.98        82\n",
      "          54       1.00      0.50      0.67         2\n",
      "          55       1.00      1.00      1.00         2\n",
      "          56       1.00      1.00      1.00         2\n",
      "          57       0.00      0.00      0.00         2\n",
      "          58       1.00      0.67      0.80         3\n",
      "          59       0.50      1.00      0.67         2\n",
      "          60       1.00      1.00      1.00         2\n",
      "          61       1.00      1.00      1.00         2\n",
      "          62       0.67      1.00      0.80         2\n",
      "          63       1.00      1.00      1.00         2\n",
      "          64       1.00      1.00      1.00         2\n",
      "          65       1.00      1.00      1.00         2\n",
      "          66       1.00      0.50      0.67         2\n",
      "          67       1.00      1.00      1.00         2\n",
      "          68       1.00      1.00      1.00         2\n",
      "          69       1.00      1.00      1.00        82\n",
      "          70       1.00      1.00      1.00         2\n",
      "          71       1.00      1.00      1.00         2\n",
      "          72       1.00      1.00      1.00         2\n",
      "          73       1.00      1.00      1.00         2\n",
      "          74       1.00      1.00      1.00         2\n",
      "          75       1.00      1.00      1.00         2\n",
      "          76       1.00      1.00      1.00         2\n",
      "          77       1.00      1.00      1.00         2\n",
      "          78       1.00      1.00      1.00         2\n",
      "          79       1.00      1.00      1.00         2\n",
      "\n",
      "    accuracy                           0.92       486\n",
      "   macro avg       0.90      0.90      0.89       486\n",
      "weighted avg       0.95      0.92      0.93       486\n",
      "\n"
     ]
    },
    {
     "name": "stderr",
     "output_type": "stream",
     "text": [
      "/data2/nghiatl/anaconda3/envs/SEO/lib/python3.8/site-packages/sklearn/metrics/_classification.py:1344: UndefinedMetricWarning: Precision and F-score are ill-defined and being set to 0.0 in labels with no predicted samples. Use `zero_division` parameter to control this behavior.\n",
      "  _warn_prf(average, modifier, msg_start, len(result))\n",
      "/data2/nghiatl/anaconda3/envs/SEO/lib/python3.8/site-packages/sklearn/metrics/_classification.py:1344: UndefinedMetricWarning: Recall and F-score are ill-defined and being set to 0.0 in labels with no true samples. Use `zero_division` parameter to control this behavior.\n",
      "  _warn_prf(average, modifier, msg_start, len(result))\n",
      "/data2/nghiatl/anaconda3/envs/SEO/lib/python3.8/site-packages/sklearn/metrics/_classification.py:1344: UndefinedMetricWarning: Precision and F-score are ill-defined and being set to 0.0 in labels with no predicted samples. Use `zero_division` parameter to control this behavior.\n",
      "  _warn_prf(average, modifier, msg_start, len(result))\n",
      "/data2/nghiatl/anaconda3/envs/SEO/lib/python3.8/site-packages/sklearn/metrics/_classification.py:1344: UndefinedMetricWarning: Recall and F-score are ill-defined and being set to 0.0 in labels with no true samples. Use `zero_division` parameter to control this behavior.\n",
      "  _warn_prf(average, modifier, msg_start, len(result))\n",
      "/data2/nghiatl/anaconda3/envs/SEO/lib/python3.8/site-packages/sklearn/metrics/_classification.py:1344: UndefinedMetricWarning: Precision and F-score are ill-defined and being set to 0.0 in labels with no predicted samples. Use `zero_division` parameter to control this behavior.\n",
      "  _warn_prf(average, modifier, msg_start, len(result))\n",
      "/data2/nghiatl/anaconda3/envs/SEO/lib/python3.8/site-packages/sklearn/metrics/_classification.py:1344: UndefinedMetricWarning: Recall and F-score are ill-defined and being set to 0.0 in labels with no true samples. Use `zero_division` parameter to control this behavior.\n",
      "  _warn_prf(average, modifier, msg_start, len(result))\n"
     ]
    }
   ],
   "source": [
    "print(classification_report(y_true, preds))"
   ]
  },
  {
   "cell_type": "code",
   "execution_count": 54,
   "id": "7b09fc64-408c-4f7c-881f-934c1d0794a0",
   "metadata": {
    "tags": []
   },
   "outputs": [
    {
     "data": {
      "text/plain": [
       "7"
      ]
     },
     "execution_count": 54,
     "metadata": {},
     "output_type": "execute_result"
    }
   ],
   "source": [
    "label_list.index('submenuthongtin')"
   ]
  },
  {
   "cell_type": "code",
   "execution_count": 68,
   "id": "97ad6543-2160-4f63-9f23-22d022a3430f",
   "metadata": {
    "tags": []
   },
   "outputs": [],
   "source": [
    "false_preds_idx = []\n",
    "false_preds = []\n",
    "for idx, p in enumerate(zip(preds, y_true)):\n",
    "    if p[0] == p[1]:\n",
    "        # print(p)\n",
    "        false_preds_idx.append(idx)\n",
    "        false_preds.append(int(p[0]))"
   ]
  },
  {
   "cell_type": "code",
   "execution_count": 69,
   "id": "62dedf1d-5301-47ad-8a9a-8791dbef5145",
   "metadata": {
    "tags": []
   },
   "outputs": [
    {
     "data": {
      "text/html": [
       "<div>\n",
       "<style scoped>\n",
       "    .dataframe tbody tr th:only-of-type {\n",
       "        vertical-align: middle;\n",
       "    }\n",
       "\n",
       "    .dataframe tbody tr th {\n",
       "        vertical-align: top;\n",
       "    }\n",
       "\n",
       "    .dataframe thead th {\n",
       "        text-align: right;\n",
       "    }\n",
       "</style>\n",
       "<table border=\"1\" class=\"dataframe\">\n",
       "  <thead>\n",
       "    <tr style=\"text-align: right;\">\n",
       "      <th></th>\n",
       "      <th>label</th>\n",
       "      <th>predict_label</th>\n",
       "      <th>text</th>\n",
       "    </tr>\n",
       "  </thead>\n",
       "  <tbody>\n",
       "    <tr>\n",
       "      <th>0</th>\n",
       "      <td>0</td>\n",
       "      <td>greetings</td>\n",
       "      <td>chào bạn cho mình hỏi chút với ạ</td>\n",
       "    </tr>\n",
       "    <tr>\n",
       "      <th>1</th>\n",
       "      <td>0</td>\n",
       "      <td>greetings</td>\n",
       "      <td>xin chào mình là nghĩa</td>\n",
       "    </tr>\n",
       "    <tr>\n",
       "      <th>2</th>\n",
       "      <td>0</td>\n",
       "      <td>greetings</td>\n",
       "      <td>tên tôi là thảo</td>\n",
       "    </tr>\n",
       "    <tr>\n",
       "      <th>4</th>\n",
       "      <td>0</td>\n",
       "      <td>mainmenu</td>\n",
       "      <td>tôi cần hỏi một số việc</td>\n",
       "    </tr>\n",
       "    <tr>\n",
       "      <th>5</th>\n",
       "      <td>0</td>\n",
       "      <td>greetings</td>\n",
       "      <td>xin chào bạn có thể giúp tôi một số việc được ...</td>\n",
       "    </tr>\n",
       "    <tr>\n",
       "      <th>...</th>\n",
       "      <td>...</td>\n",
       "      <td>...</td>\n",
       "      <td>...</td>\n",
       "    </tr>\n",
       "    <tr>\n",
       "      <th>427</th>\n",
       "      <td>11</td>\n",
       "      <td>NaN</td>\n",
       "      <td>You answer so badly</td>\n",
       "    </tr>\n",
       "    <tr>\n",
       "      <th>428</th>\n",
       "      <td>11</td>\n",
       "      <td>NaN</td>\n",
       "      <td>really bad</td>\n",
       "    </tr>\n",
       "    <tr>\n",
       "      <th>429</th>\n",
       "      <td>11</td>\n",
       "      <td>NaN</td>\n",
       "      <td>Too worse</td>\n",
       "    </tr>\n",
       "    <tr>\n",
       "      <th>430</th>\n",
       "      <td>11</td>\n",
       "      <td>NaN</td>\n",
       "      <td>Staff attitude is unprofessional</td>\n",
       "    </tr>\n",
       "    <tr>\n",
       "      <th>431</th>\n",
       "      <td>11</td>\n",
       "      <td>NaN</td>\n",
       "      <td>The attitude of the staff is too bad</td>\n",
       "    </tr>\n",
       "  </tbody>\n",
       "</table>\n",
       "<p>387 rows × 3 columns</p>\n",
       "</div>"
      ],
      "text/plain": [
       "     label predict_label                                               text\n",
       "0        0     greetings                   chào bạn cho mình hỏi chút với ạ\n",
       "1        0     greetings                             xin chào mình là nghĩa\n",
       "2        0     greetings                                    tên tôi là thảo\n",
       "4        0      mainmenu                            tôi cần hỏi một số việc\n",
       "5        0     greetings  xin chào bạn có thể giúp tôi một số việc được ...\n",
       "..     ...           ...                                                ...\n",
       "427     11           NaN                                You answer so badly\n",
       "428     11           NaN                                         really bad\n",
       "429     11           NaN                                          Too worse\n",
       "430     11           NaN                   Staff attitude is unprofessional\n",
       "431     11           NaN               The attitude of the staff is too bad\n",
       "\n",
       "[387 rows x 3 columns]"
      ]
     },
     "execution_count": 69,
     "metadata": {},
     "output_type": "execute_result"
    }
   ],
   "source": [
    "test_false_df = test_df.iloc[false_preds_idx]\n",
    "test_false_df"
   ]
  },
  {
   "cell_type": "code",
   "execution_count": 70,
   "id": "b08e53f6-9cc9-4542-9f35-ccb59fbd7e6a",
   "metadata": {
    "tags": []
   },
   "outputs": [],
   "source": [
    "def convert_id_to_label(id_label):\n",
    "    return label_list[id_label]"
   ]
  },
  {
   "cell_type": "code",
   "execution_count": 71,
   "id": "e1b67f23-a279-4eba-a92a-c850f92984f2",
   "metadata": {
    "tags": []
   },
   "outputs": [
    {
     "name": "stderr",
     "output_type": "stream",
     "text": [
      "/data2/nghiatl/.tmp/ipykernel_1458156/499004396.py:1: SettingWithCopyWarning: \n",
      "A value is trying to be set on a copy of a slice from a DataFrame.\n",
      "Try using .loc[row_indexer,col_indexer] = value instead\n",
      "\n",
      "See the caveats in the documentation: https://pandas.pydata.org/pandas-docs/stable/user_guide/indexing.html#returning-a-view-versus-a-copy\n",
      "  test_false_df['preds'] = false_preds\n"
     ]
    },
    {
     "data": {
      "text/html": [
       "<div>\n",
       "<style scoped>\n",
       "    .dataframe tbody tr th:only-of-type {\n",
       "        vertical-align: middle;\n",
       "    }\n",
       "\n",
       "    .dataframe tbody tr th {\n",
       "        vertical-align: top;\n",
       "    }\n",
       "\n",
       "    .dataframe thead th {\n",
       "        text-align: right;\n",
       "    }\n",
       "</style>\n",
       "<table border=\"1\" class=\"dataframe\">\n",
       "  <thead>\n",
       "    <tr style=\"text-align: right;\">\n",
       "      <th></th>\n",
       "      <th>label</th>\n",
       "      <th>predict_label</th>\n",
       "      <th>text</th>\n",
       "      <th>preds</th>\n",
       "    </tr>\n",
       "  </thead>\n",
       "  <tbody>\n",
       "    <tr>\n",
       "      <th>0</th>\n",
       "      <td>0</td>\n",
       "      <td>greetings</td>\n",
       "      <td>chào bạn cho mình hỏi chút với ạ</td>\n",
       "      <td>0</td>\n",
       "    </tr>\n",
       "    <tr>\n",
       "      <th>1</th>\n",
       "      <td>0</td>\n",
       "      <td>greetings</td>\n",
       "      <td>xin chào mình là nghĩa</td>\n",
       "      <td>0</td>\n",
       "    </tr>\n",
       "    <tr>\n",
       "      <th>2</th>\n",
       "      <td>0</td>\n",
       "      <td>greetings</td>\n",
       "      <td>tên tôi là thảo</td>\n",
       "      <td>0</td>\n",
       "    </tr>\n",
       "    <tr>\n",
       "      <th>4</th>\n",
       "      <td>0</td>\n",
       "      <td>mainmenu</td>\n",
       "      <td>tôi cần hỏi một số việc</td>\n",
       "      <td>0</td>\n",
       "    </tr>\n",
       "    <tr>\n",
       "      <th>5</th>\n",
       "      <td>0</td>\n",
       "      <td>greetings</td>\n",
       "      <td>xin chào bạn có thể giúp tôi một số việc được ...</td>\n",
       "      <td>0</td>\n",
       "    </tr>\n",
       "    <tr>\n",
       "      <th>...</th>\n",
       "      <td>...</td>\n",
       "      <td>...</td>\n",
       "      <td>...</td>\n",
       "      <td>...</td>\n",
       "    </tr>\n",
       "    <tr>\n",
       "      <th>427</th>\n",
       "      <td>11</td>\n",
       "      <td>NaN</td>\n",
       "      <td>You answer so badly</td>\n",
       "      <td>11</td>\n",
       "    </tr>\n",
       "    <tr>\n",
       "      <th>428</th>\n",
       "      <td>11</td>\n",
       "      <td>NaN</td>\n",
       "      <td>really bad</td>\n",
       "      <td>11</td>\n",
       "    </tr>\n",
       "    <tr>\n",
       "      <th>429</th>\n",
       "      <td>11</td>\n",
       "      <td>NaN</td>\n",
       "      <td>Too worse</td>\n",
       "      <td>11</td>\n",
       "    </tr>\n",
       "    <tr>\n",
       "      <th>430</th>\n",
       "      <td>11</td>\n",
       "      <td>NaN</td>\n",
       "      <td>Staff attitude is unprofessional</td>\n",
       "      <td>11</td>\n",
       "    </tr>\n",
       "    <tr>\n",
       "      <th>431</th>\n",
       "      <td>11</td>\n",
       "      <td>NaN</td>\n",
       "      <td>The attitude of the staff is too bad</td>\n",
       "      <td>11</td>\n",
       "    </tr>\n",
       "  </tbody>\n",
       "</table>\n",
       "<p>387 rows × 4 columns</p>\n",
       "</div>"
      ],
      "text/plain": [
       "     label predict_label                                               text  \\\n",
       "0        0     greetings                   chào bạn cho mình hỏi chút với ạ   \n",
       "1        0     greetings                             xin chào mình là nghĩa   \n",
       "2        0     greetings                                    tên tôi là thảo   \n",
       "4        0      mainmenu                            tôi cần hỏi một số việc   \n",
       "5        0     greetings  xin chào bạn có thể giúp tôi một số việc được ...   \n",
       "..     ...           ...                                                ...   \n",
       "427     11           NaN                                You answer so badly   \n",
       "428     11           NaN                                         really bad   \n",
       "429     11           NaN                                          Too worse   \n",
       "430     11           NaN                   Staff attitude is unprofessional   \n",
       "431     11           NaN               The attitude of the staff is too bad   \n",
       "\n",
       "     preds  \n",
       "0        0  \n",
       "1        0  \n",
       "2        0  \n",
       "4        0  \n",
       "5        0  \n",
       "..     ...  \n",
       "427     11  \n",
       "428     11  \n",
       "429     11  \n",
       "430     11  \n",
       "431     11  \n",
       "\n",
       "[387 rows x 4 columns]"
      ]
     },
     "execution_count": 71,
     "metadata": {},
     "output_type": "execute_result"
    }
   ],
   "source": [
    "test_false_df['preds'] = false_preds\n",
    "test_false_df"
   ]
  },
  {
   "cell_type": "code",
   "execution_count": 72,
   "id": "aa4cbfcc-7785-4be8-961f-89474d2b1efe",
   "metadata": {
    "tags": []
   },
   "outputs": [
    {
     "name": "stderr",
     "output_type": "stream",
     "text": [
      "/data2/nghiatl/.tmp/ipykernel_1458156/3469866742.py:1: SettingWithCopyWarning: \n",
      "A value is trying to be set on a copy of a slice from a DataFrame.\n",
      "Try using .loc[row_indexer,col_indexer] = value instead\n",
      "\n",
      "See the caveats in the documentation: https://pandas.pydata.org/pandas-docs/stable/user_guide/indexing.html#returning-a-view-versus-a-copy\n",
      "  test_false_df['label'] = test_false_df['label'].apply(convert_id_to_label)\n"
     ]
    }
   ],
   "source": [
    "test_false_df['label'] = test_false_df['label'].apply(convert_id_to_label)"
   ]
  },
  {
   "cell_type": "code",
   "execution_count": 73,
   "id": "47bb0fe7-faeb-442c-9091-90efa839d61a",
   "metadata": {
    "tags": []
   },
   "outputs": [
    {
     "name": "stderr",
     "output_type": "stream",
     "text": [
      "/data2/nghiatl/.tmp/ipykernel_1458156/4291957028.py:1: SettingWithCopyWarning: \n",
      "A value is trying to be set on a copy of a slice from a DataFrame.\n",
      "Try using .loc[row_indexer,col_indexer] = value instead\n",
      "\n",
      "See the caveats in the documentation: https://pandas.pydata.org/pandas-docs/stable/user_guide/indexing.html#returning-a-view-versus-a-copy\n",
      "  test_false_df['preds'] = test_false_df['preds'].apply(convert_id_to_label)\n"
     ]
    }
   ],
   "source": [
    "test_false_df['preds'] = test_false_df['preds'].apply(convert_id_to_label)"
   ]
  },
  {
   "cell_type": "code",
   "execution_count": 74,
   "id": "a1290fd9-62c2-4606-a58a-dd990a4e156c",
   "metadata": {
    "tags": []
   },
   "outputs": [
    {
     "data": {
      "text/html": [
       "<div>\n",
       "<style scoped>\n",
       "    .dataframe tbody tr th:only-of-type {\n",
       "        vertical-align: middle;\n",
       "    }\n",
       "\n",
       "    .dataframe tbody tr th {\n",
       "        vertical-align: top;\n",
       "    }\n",
       "\n",
       "    .dataframe thead th {\n",
       "        text-align: right;\n",
       "    }\n",
       "</style>\n",
       "<table border=\"1\" class=\"dataframe\">\n",
       "  <thead>\n",
       "    <tr style=\"text-align: right;\">\n",
       "      <th></th>\n",
       "      <th>label</th>\n",
       "      <th>predict_label</th>\n",
       "      <th>text</th>\n",
       "      <th>preds</th>\n",
       "    </tr>\n",
       "  </thead>\n",
       "  <tbody>\n",
       "    <tr>\n",
       "      <th>0</th>\n",
       "      <td>greetings</td>\n",
       "      <td>greetings</td>\n",
       "      <td>chào bạn cho mình hỏi chút với ạ</td>\n",
       "      <td>greetings</td>\n",
       "    </tr>\n",
       "    <tr>\n",
       "      <th>1</th>\n",
       "      <td>greetings</td>\n",
       "      <td>greetings</td>\n",
       "      <td>xin chào mình là nghĩa</td>\n",
       "      <td>greetings</td>\n",
       "    </tr>\n",
       "    <tr>\n",
       "      <th>2</th>\n",
       "      <td>greetings</td>\n",
       "      <td>greetings</td>\n",
       "      <td>tên tôi là thảo</td>\n",
       "      <td>greetings</td>\n",
       "    </tr>\n",
       "    <tr>\n",
       "      <th>3</th>\n",
       "      <td>greetings</td>\n",
       "      <td>mainmenu</td>\n",
       "      <td>tôi cần hỏi một số việc</td>\n",
       "      <td>greetings</td>\n",
       "    </tr>\n",
       "    <tr>\n",
       "      <th>4</th>\n",
       "      <td>greetings</td>\n",
       "      <td>greetings</td>\n",
       "      <td>xin chào bạn có thể giúp tôi một số việc được ...</td>\n",
       "      <td>greetings</td>\n",
       "    </tr>\n",
       "    <tr>\n",
       "      <th>...</th>\n",
       "      <td>...</td>\n",
       "      <td>...</td>\n",
       "      <td>...</td>\n",
       "      <td>...</td>\n",
       "    </tr>\n",
       "    <tr>\n",
       "      <th>382</th>\n",
       "      <td>submenucomplain</td>\n",
       "      <td>NaN</td>\n",
       "      <td>You answer so badly</td>\n",
       "      <td>submenucomplain</td>\n",
       "    </tr>\n",
       "    <tr>\n",
       "      <th>383</th>\n",
       "      <td>submenucomplain</td>\n",
       "      <td>NaN</td>\n",
       "      <td>really bad</td>\n",
       "      <td>submenucomplain</td>\n",
       "    </tr>\n",
       "    <tr>\n",
       "      <th>384</th>\n",
       "      <td>submenucomplain</td>\n",
       "      <td>NaN</td>\n",
       "      <td>Too worse</td>\n",
       "      <td>submenucomplain</td>\n",
       "    </tr>\n",
       "    <tr>\n",
       "      <th>385</th>\n",
       "      <td>submenucomplain</td>\n",
       "      <td>NaN</td>\n",
       "      <td>Staff attitude is unprofessional</td>\n",
       "      <td>submenucomplain</td>\n",
       "    </tr>\n",
       "    <tr>\n",
       "      <th>386</th>\n",
       "      <td>submenucomplain</td>\n",
       "      <td>NaN</td>\n",
       "      <td>The attitude of the staff is too bad</td>\n",
       "      <td>submenucomplain</td>\n",
       "    </tr>\n",
       "  </tbody>\n",
       "</table>\n",
       "<p>387 rows × 4 columns</p>\n",
       "</div>"
      ],
      "text/plain": [
       "               label predict_label  \\\n",
       "0          greetings     greetings   \n",
       "1          greetings     greetings   \n",
       "2          greetings     greetings   \n",
       "3          greetings      mainmenu   \n",
       "4          greetings     greetings   \n",
       "..               ...           ...   \n",
       "382  submenucomplain           NaN   \n",
       "383  submenucomplain           NaN   \n",
       "384  submenucomplain           NaN   \n",
       "385  submenucomplain           NaN   \n",
       "386  submenucomplain           NaN   \n",
       "\n",
       "                                                  text            preds  \n",
       "0                     chào bạn cho mình hỏi chút với ạ        greetings  \n",
       "1                               xin chào mình là nghĩa        greetings  \n",
       "2                                      tên tôi là thảo        greetings  \n",
       "3                              tôi cần hỏi một số việc        greetings  \n",
       "4    xin chào bạn có thể giúp tôi một số việc được ...        greetings  \n",
       "..                                                 ...              ...  \n",
       "382                                You answer so badly  submenucomplain  \n",
       "383                                         really bad  submenucomplain  \n",
       "384                                          Too worse  submenucomplain  \n",
       "385                   Staff attitude is unprofessional  submenucomplain  \n",
       "386               The attitude of the staff is too bad  submenucomplain  \n",
       "\n",
       "[387 rows x 4 columns]"
      ]
     },
     "execution_count": 74,
     "metadata": {},
     "output_type": "execute_result"
    }
   ],
   "source": [
    "# test_false_df.drop(columns=['Unnamed: 0'], inplace = True)\n",
    "test_false_df = test_false_df.reset_index(drop=True)\n",
    "test_false_df"
   ]
  },
  {
   "cell_type": "code",
   "execution_count": 75,
   "id": "a059d34f-9e18-4bd0-bd97-5837203623b4",
   "metadata": {
    "tags": []
   },
   "outputs": [
    {
     "data": {
      "text/html": [
       "<div>\n",
       "<style scoped>\n",
       "    .dataframe tbody tr th:only-of-type {\n",
       "        vertical-align: middle;\n",
       "    }\n",
       "\n",
       "    .dataframe tbody tr th {\n",
       "        vertical-align: top;\n",
       "    }\n",
       "\n",
       "    .dataframe thead th {\n",
       "        text-align: right;\n",
       "    }\n",
       "</style>\n",
       "<table border=\"1\" class=\"dataframe\">\n",
       "  <thead>\n",
       "    <tr style=\"text-align: right;\">\n",
       "      <th></th>\n",
       "      <th>label</th>\n",
       "      <th>text</th>\n",
       "      <th>concat_text</th>\n",
       "    </tr>\n",
       "  </thead>\n",
       "  <tbody>\n",
       "    <tr>\n",
       "      <th>443</th>\n",
       "      <td>17</td>\n",
       "      <td>tôi muốn kiểm tra hồ sơ mở thẻ</td>\n",
       "      <td>tôi muốn kiểm_tra hồ_sơ mở thẻ</td>\n",
       "    </tr>\n",
       "    <tr>\n",
       "      <th>444</th>\n",
       "      <td>17</td>\n",
       "      <td>tôi đăng kí chưa nhận được thông tin</td>\n",
       "      <td>tôi đăng_kí chưa nhận được thông_tin</td>\n",
       "    </tr>\n",
       "    <tr>\n",
       "      <th>445</th>\n",
       "      <td>17</td>\n",
       "      <td>mình cần tra thông tin cá nhân</td>\n",
       "      <td>mình cần tra thông_tin cá_nhân</td>\n",
       "    </tr>\n",
       "    <tr>\n",
       "      <th>446</th>\n",
       "      <td>17</td>\n",
       "      <td>tôi chưa thấy thông tin của mình</td>\n",
       "      <td>tôi chưa thấy thông_tin của mình</td>\n",
       "    </tr>\n",
       "    <tr>\n",
       "      <th>447</th>\n",
       "      <td>17</td>\n",
       "      <td>kiểm tra hồ sơ đăng ký thẻ atm</td>\n",
       "      <td>kiểm_tra hồ_sơ đăng_ký thẻ atm</td>\n",
       "    </tr>\n",
       "    <tr>\n",
       "      <th>1258</th>\n",
       "      <td>17</td>\n",
       "      <td>I want to check the card opening</td>\n",
       "      <td>I want to check the card opening</td>\n",
       "    </tr>\n",
       "    <tr>\n",
       "      <th>1259</th>\n",
       "      <td>17</td>\n",
       "      <td>I have not yet received the information</td>\n",
       "      <td>I have not yet received the_information</td>\n",
       "    </tr>\n",
       "    <tr>\n",
       "      <th>1260</th>\n",
       "      <td>17</td>\n",
       "      <td>I need to look up personal information</td>\n",
       "      <td>I need to look up personal information</td>\n",
       "    </tr>\n",
       "    <tr>\n",
       "      <th>1261</th>\n",
       "      <td>17</td>\n",
       "      <td>I have not seen my information</td>\n",
       "      <td>I have not seen my information</td>\n",
       "    </tr>\n",
       "    <tr>\n",
       "      <th>1262</th>\n",
       "      <td>17</td>\n",
       "      <td>Check the ATM card registration record</td>\n",
       "      <td>Check the ATM card registration record</td>\n",
       "    </tr>\n",
       "  </tbody>\n",
       "</table>\n",
       "</div>"
      ],
      "text/plain": [
       "      label                                     text  \\\n",
       "443      17           tôi muốn kiểm tra hồ sơ mở thẻ   \n",
       "444      17     tôi đăng kí chưa nhận được thông tin   \n",
       "445      17           mình cần tra thông tin cá nhân   \n",
       "446      17         tôi chưa thấy thông tin của mình   \n",
       "447      17           kiểm tra hồ sơ đăng ký thẻ atm   \n",
       "1258     17         I want to check the card opening   \n",
       "1259     17  I have not yet received the information   \n",
       "1260     17   I need to look up personal information   \n",
       "1261     17           I have not seen my information   \n",
       "1262     17   Check the ATM card registration record   \n",
       "\n",
       "                                  concat_text  \n",
       "443            tôi muốn kiểm_tra hồ_sơ mở thẻ  \n",
       "444      tôi đăng_kí chưa nhận được thông_tin  \n",
       "445            mình cần tra thông_tin cá_nhân  \n",
       "446          tôi chưa thấy thông_tin của mình  \n",
       "447            kiểm_tra hồ_sơ đăng_ký thẻ atm  \n",
       "1258         I want to check the card opening  \n",
       "1259  I have not yet received the_information  \n",
       "1260   I need to look up personal information  \n",
       "1261           I have not seen my information  \n",
       "1262   Check the ATM card registration record  "
      ]
     },
     "execution_count": 75,
     "metadata": {},
     "output_type": "execute_result"
    }
   ],
   "source": [
    "train_df[train_df['label'] == 17]"
   ]
  },
  {
   "cell_type": "code",
   "execution_count": 76,
   "id": "d3846a7b-e357-4bee-a90b-065cdc862d1d",
   "metadata": {
    "tags": []
   },
   "outputs": [
    {
     "data": {
      "text/plain": [
       "'submenuthongtinID'"
      ]
     },
     "execution_count": 76,
     "metadata": {},
     "output_type": "execute_result"
    }
   ],
   "source": [
    "label_list[8]"
   ]
  },
  {
   "cell_type": "code",
   "execution_count": 77,
   "id": "2e9acc30-5f63-4f46-9297-711cb3906347",
   "metadata": {
    "tags": []
   },
   "outputs": [],
   "source": [
    "test_false_df.to_excel('./data/true_predict_differ_head_multilingual_on_multi_test_app_2.xlsx', index = False)"
   ]
  },
  {
   "cell_type": "code",
   "execution_count": 172,
   "id": "fc1e084c-f5d9-40d1-897c-98591279537d",
   "metadata": {},
   "outputs": [
    {
     "data": {
      "text/html": [
       "<div>\n",
       "<style scoped>\n",
       "    .dataframe tbody tr th:only-of-type {\n",
       "        vertical-align: middle;\n",
       "    }\n",
       "\n",
       "    .dataframe tbody tr th {\n",
       "        vertical-align: top;\n",
       "    }\n",
       "\n",
       "    .dataframe thead th {\n",
       "        text-align: right;\n",
       "    }\n",
       "</style>\n",
       "<table border=\"1\" class=\"dataframe\">\n",
       "  <thead>\n",
       "    <tr style=\"text-align: right;\">\n",
       "      <th></th>\n",
       "      <th>Link bài</th>\n",
       "      <th>title</th>\n",
       "      <th>sapo</th>\n",
       "      <th>content</th>\n",
       "    </tr>\n",
       "  </thead>\n",
       "  <tbody>\n",
       "    <tr>\n",
       "      <th>0</th>\n",
       "      <td>https://kenh14.vn/phi-cong-may-bay-su-22-hy-si...</td>\n",
       "      <td>Phi công máy bay Su-22 hy sinh được truy tặng ...</td>\n",
       "      <td>Ban Thường vụ Trung ương Đoàn TNCS Hồ Chí Minh...</td>\n",
       "      <td>Ngày 1/2, Bí thư Thường trực Trung ương Đoàn N...</td>\n",
       "    </tr>\n",
       "    <tr>\n",
       "      <th>1</th>\n",
       "      <td>https://kenh14.vn/tai-nan-may-bay-quan-su-o-ye...</td>\n",
       "      <td>Tai nạn máy bay quân sự ở Yên Bái, một phi côn...</td>\n",
       "      <td>Chiều 31/1, nguồn tin của Tiền Phong cho biết ...</td>\n",
       "      <td>Theo đó, vào lúc 12 giờ 9 phút cùng ngày, máy ...</td>\n",
       "    </tr>\n",
       "    <tr>\n",
       "      <th>2</th>\n",
       "      <td>https://kenh14.vn/loi-khai-cua-ke-cuop-tiem-va...</td>\n",
       "      <td>Lời khai của kẻ cướp tiệm vàng ngày vía Thần T...</td>\n",
       "      <td>Sau khi tiêu hết tiền, Huỳnh Dũng Em nảy sinh ...</td>\n",
       "      <td>Công an thị xã Bình Minh, tỉnh Vĩnh Long vẫn đ...</td>\n",
       "    </tr>\n",
       "  </tbody>\n",
       "</table>\n",
       "</div>"
      ],
      "text/plain": [
       "                                            Link bài  \\\n",
       "0  https://kenh14.vn/phi-cong-may-bay-su-22-hy-si...   \n",
       "1  https://kenh14.vn/tai-nan-may-bay-quan-su-o-ye...   \n",
       "2  https://kenh14.vn/loi-khai-cua-ke-cuop-tiem-va...   \n",
       "\n",
       "                                               title  \\\n",
       "0  Phi công máy bay Su-22 hy sinh được truy tặng ...   \n",
       "1  Tai nạn máy bay quân sự ở Yên Bái, một phi côn...   \n",
       "2  Lời khai của kẻ cướp tiệm vàng ngày vía Thần T...   \n",
       "\n",
       "                                                sapo  \\\n",
       "0  Ban Thường vụ Trung ương Đoàn TNCS Hồ Chí Minh...   \n",
       "1  Chiều 31/1, nguồn tin của Tiền Phong cho biết ...   \n",
       "2  Sau khi tiêu hết tiền, Huỳnh Dũng Em nảy sinh ...   \n",
       "\n",
       "                                             content  \n",
       "0  Ngày 1/2, Bí thư Thường trực Trung ương Đoàn N...  \n",
       "1  Theo đó, vào lúc 12 giờ 9 phút cùng ngày, máy ...  \n",
       "2  Công an thị xã Bình Minh, tỉnh Vĩnh Long vẫn đ...  "
      ]
     },
     "execution_count": 172,
     "metadata": {},
     "output_type": "execute_result"
    }
   ],
   "source": [
    "test_df_50 = pd.read_csv('./dataset/3_xa_hoi_test_crawled.csv')\n",
    "test_df_50.head()"
   ]
  },
  {
   "cell_type": "code",
   "execution_count": 80,
   "id": "5453cf87-c6fe-4e8e-88f7-a88d5e5bfcd7",
   "metadata": {},
   "outputs": [],
   "source": [
    "test_df_50.loc[test_df_50['Chủ đề'] == 'ngày, lễ đặc biệt', \"Chủ đề\"]= \"ngày lễ trong năm\""
   ]
  },
  {
   "cell_type": "code",
   "execution_count": 180,
   "id": "8a9adbc9-6e3b-4036-a2e8-522f9770eec0",
   "metadata": {},
   "outputs": [
    {
     "data": {
      "text/plain": [
       "'Ban Thường vụ Trung ương Đoàn TNCS Hồ Chí Minh truy tặng Huy hiệu \"Tuổi trẻ dũng cảm\" cho Thiếu tá Trần Ngọc Duy vì đã dũng cảm hy sinh khi thực hiện nhiệm vụ.'"
      ]
     },
     "execution_count": 180,
     "metadata": {},
     "output_type": "execute_result"
    }
   ],
   "source": [
    "test_df_50.iloc[0]['sapo']"
   ]
  },
  {
   "cell_type": "code",
   "execution_count": 81,
   "id": "3f3c80ec-8e9d-4717-8036-d0da3af538fe",
   "metadata": {},
   "outputs": [
    {
     "data": {
      "text/html": [
       "<div>\n",
       "<style scoped>\n",
       "    .dataframe tbody tr th:only-of-type {\n",
       "        vertical-align: middle;\n",
       "    }\n",
       "\n",
       "    .dataframe tbody tr th {\n",
       "        vertical-align: top;\n",
       "    }\n",
       "\n",
       "    .dataframe thead th {\n",
       "        text-align: right;\n",
       "    }\n",
       "</style>\n",
       "<table border=\"1\" class=\"dataframe\">\n",
       "  <thead>\n",
       "    <tr style=\"text-align: right;\">\n",
       "      <th></th>\n",
       "      <th>Chủ đề</th>\n",
       "      <th>Link bài</th>\n",
       "      <th>title</th>\n",
       "      <th>sapo</th>\n",
       "      <th>content</th>\n",
       "      <th>label</th>\n",
       "    </tr>\n",
       "  </thead>\n",
       "  <tbody>\n",
       "    <tr>\n",
       "      <th>0</th>\n",
       "      <td>cháy</td>\n",
       "      <td>https://kenh14.vn/clip-xe-oto-con-dang-chay-ba...</td>\n",
       "      <td>CLIP: Xe ôtô con đang chạy bất ngờ bốc cháy ng...</td>\n",
       "      <td>Đang lưu thông trên quốc lộ, xe ôtô con bất ng...</td>\n",
       "      <td>Vụ việc trên xảy lúc hơn 20 giờ ngày 31-10, tr...</td>\n",
       "      <td>5</td>\n",
       "    </tr>\n",
       "    <tr>\n",
       "      <th>1</th>\n",
       "      <td>bão</td>\n",
       "      <td>https://kenh14.vn/bao-so-7-cach-quan-dao-hoang...</td>\n",
       "      <td>Bão số 7 cách quần đảo Hoàng Sa khoảng 570km, ...</td>\n",
       "      <td>Trong 12 giờ tới, bão có khả năng mạnh thê...</td>\n",
       "      <td>Trung tâm Dự báo khí tượng thủy văn quốc gia c...</td>\n",
       "      <td>9</td>\n",
       "    </tr>\n",
       "    <tr>\n",
       "      <th>2</th>\n",
       "      <td>tai nạn</td>\n",
       "      <td>https://kenh14.vn/tang-thuong-ca-gia-dinh-cong...</td>\n",
       "      <td>Tang thương cả gia đình công nhân ra đi vì tai...</td>\n",
       "      <td>14 giờ chiều nay (2/11), gia đình sẽ tổ chức a...</td>\n",
       "      <td>Tại lễ tang 3 cha con anh Phạm Văn Luốc (37 tu...</td>\n",
       "      <td>6</td>\n",
       "    </tr>\n",
       "    <tr>\n",
       "      <th>3</th>\n",
       "      <td>dự báo thời tiết</td>\n",
       "      <td>https://kenh14.vn/bac-bo-co-the-ret-dam-trong-...</td>\n",
       "      <td>Bắc Bộ có thể rét đậm trong dịp Tết Nguyên đán</td>\n",
       "      <td>Theo dự báo, dịp Tết Nguyên đán năm 2023, Bắc ...</td>\n",
       "      <td>Theo Trung tâm Dự báo Khí tượng Thuỷ văn Quốc ...</td>\n",
       "      <td>8</td>\n",
       "    </tr>\n",
       "    <tr>\n",
       "      <th>4</th>\n",
       "      <td>dự báo thời tiết</td>\n",
       "      <td>https://kenh14.vn/chuyen-gia-ret-dam-ret-hai-b...</td>\n",
       "      <td>Chuyên gia: Rét đậm, rét hại, băng giá có thể ...</td>\n",
       "      <td>Chuyên gia thời tiết đưa ra những cảnh báo về ...</td>\n",
       "      <td>Video: Chuyên gia cảnh báo đợt rét đậm, rét hạ...</td>\n",
       "      <td>8</td>\n",
       "    </tr>\n",
       "  </tbody>\n",
       "</table>\n",
       "</div>"
      ],
      "text/plain": [
       "             Chủ đề                                           Link bài  \\\n",
       "0              cháy  https://kenh14.vn/clip-xe-oto-con-dang-chay-ba...   \n",
       "1               bão  https://kenh14.vn/bao-so-7-cach-quan-dao-hoang...   \n",
       "2           tai nạn  https://kenh14.vn/tang-thuong-ca-gia-dinh-cong...   \n",
       "3  dự báo thời tiết  https://kenh14.vn/bac-bo-co-the-ret-dam-trong-...   \n",
       "4  dự báo thời tiết  https://kenh14.vn/chuyen-gia-ret-dam-ret-hai-b...   \n",
       "\n",
       "                                               title  \\\n",
       "0  CLIP: Xe ôtô con đang chạy bất ngờ bốc cháy ng...   \n",
       "1  Bão số 7 cách quần đảo Hoàng Sa khoảng 570km, ...   \n",
       "2  Tang thương cả gia đình công nhân ra đi vì tai...   \n",
       "3     Bắc Bộ có thể rét đậm trong dịp Tết Nguyên đán   \n",
       "4  Chuyên gia: Rét đậm, rét hại, băng giá có thể ...   \n",
       "\n",
       "                                                sapo  \\\n",
       "0  Đang lưu thông trên quốc lộ, xe ôtô con bất ng...   \n",
       "1  Trong 12 giờ tới, bão có khả năng mạnh thê...   \n",
       "2  14 giờ chiều nay (2/11), gia đình sẽ tổ chức a...   \n",
       "3  Theo dự báo, dịp Tết Nguyên đán năm 2023, Bắc ...   \n",
       "4  Chuyên gia thời tiết đưa ra những cảnh báo về ...   \n",
       "\n",
       "                                             content  label  \n",
       "0  Vụ việc trên xảy lúc hơn 20 giờ ngày 31-10, tr...      5  \n",
       "1  Trung tâm Dự báo khí tượng thủy văn quốc gia c...      9  \n",
       "2  Tại lễ tang 3 cha con anh Phạm Văn Luốc (37 tu...      6  \n",
       "3  Theo Trung tâm Dự báo Khí tượng Thuỷ văn Quốc ...      8  \n",
       "4  Video: Chuyên gia cảnh báo đợt rét đậm, rét hạ...      8  "
      ]
     },
     "execution_count": 81,
     "metadata": {},
     "output_type": "execute_result"
    }
   ],
   "source": [
    "test_df_50['label'] = test_df_50['Chủ đề'].apply(lambda x: convert_label(x))\n",
    "test_df_50.head()"
   ]
  },
  {
   "cell_type": "code",
   "execution_count": 173,
   "id": "9d11e453-b724-4c0b-9298-597ae249021a",
   "metadata": {},
   "outputs": [
    {
     "data": {
      "text/html": [
       "<div>\n",
       "<style scoped>\n",
       "    .dataframe tbody tr th:only-of-type {\n",
       "        vertical-align: middle;\n",
       "    }\n",
       "\n",
       "    .dataframe tbody tr th {\n",
       "        vertical-align: top;\n",
       "    }\n",
       "\n",
       "    .dataframe thead th {\n",
       "        text-align: right;\n",
       "    }\n",
       "</style>\n",
       "<table border=\"1\" class=\"dataframe\">\n",
       "  <thead>\n",
       "    <tr style=\"text-align: right;\">\n",
       "      <th></th>\n",
       "      <th>Link bài</th>\n",
       "      <th>title</th>\n",
       "      <th>sapo</th>\n",
       "      <th>content</th>\n",
       "      <th>concat_text</th>\n",
       "    </tr>\n",
       "  </thead>\n",
       "  <tbody>\n",
       "    <tr>\n",
       "      <th>0</th>\n",
       "      <td>https://kenh14.vn/phi-cong-may-bay-su-22-hy-si...</td>\n",
       "      <td>Phi công máy bay Su-22 hy sinh được truy tặng ...</td>\n",
       "      <td>Ban Thường vụ Trung ương Đoàn TNCS Hồ Chí Minh...</td>\n",
       "      <td>Ngày 1/2, Bí thư Thường trực Trung ương Đoàn N...</td>\n",
       "      <td>Phi_công máy_bay Su 22 hy_sinh được truy_tặng ...</td>\n",
       "    </tr>\n",
       "    <tr>\n",
       "      <th>1</th>\n",
       "      <td>https://kenh14.vn/tai-nan-may-bay-quan-su-o-ye...</td>\n",
       "      <td>Tai nạn máy bay quân sự ở Yên Bái, một phi côn...</td>\n",
       "      <td>Chiều 31/1, nguồn tin của Tiền Phong cho biết ...</td>\n",
       "      <td>Theo đó, vào lúc 12 giờ 9 phút cùng ngày, máy ...</td>\n",
       "      <td>Tai_nạn máy_bay quân_sự ở Yên_Bái một phi_công...</td>\n",
       "    </tr>\n",
       "    <tr>\n",
       "      <th>2</th>\n",
       "      <td>https://kenh14.vn/loi-khai-cua-ke-cuop-tiem-va...</td>\n",
       "      <td>Lời khai của kẻ cướp tiệm vàng ngày vía Thần T...</td>\n",
       "      <td>Sau khi tiêu hết tiền, Huỳnh Dũng Em nảy sinh ...</td>\n",
       "      <td>Công an thị xã Bình Minh, tỉnh Vĩnh Long vẫn đ...</td>\n",
       "      <td>Lời khai của kẻ_cướp tiệm vàng ngày vía Thần_T...</td>\n",
       "    </tr>\n",
       "  </tbody>\n",
       "</table>\n",
       "</div>"
      ],
      "text/plain": [
       "                                            Link bài  \\\n",
       "0  https://kenh14.vn/phi-cong-may-bay-su-22-hy-si...   \n",
       "1  https://kenh14.vn/tai-nan-may-bay-quan-su-o-ye...   \n",
       "2  https://kenh14.vn/loi-khai-cua-ke-cuop-tiem-va...   \n",
       "\n",
       "                                               title  \\\n",
       "0  Phi công máy bay Su-22 hy sinh được truy tặng ...   \n",
       "1  Tai nạn máy bay quân sự ở Yên Bái, một phi côn...   \n",
       "2  Lời khai của kẻ cướp tiệm vàng ngày vía Thần T...   \n",
       "\n",
       "                                                sapo  \\\n",
       "0  Ban Thường vụ Trung ương Đoàn TNCS Hồ Chí Minh...   \n",
       "1  Chiều 31/1, nguồn tin của Tiền Phong cho biết ...   \n",
       "2  Sau khi tiêu hết tiền, Huỳnh Dũng Em nảy sinh ...   \n",
       "\n",
       "                                             content  \\\n",
       "0  Ngày 1/2, Bí thư Thường trực Trung ương Đoàn N...   \n",
       "1  Theo đó, vào lúc 12 giờ 9 phút cùng ngày, máy ...   \n",
       "2  Công an thị xã Bình Minh, tỉnh Vĩnh Long vẫn đ...   \n",
       "\n",
       "                                         concat_text  \n",
       "0  Phi_công máy_bay Su 22 hy_sinh được truy_tặng ...  \n",
       "1  Tai_nạn máy_bay quân_sự ở Yên_Bái một phi_công...  \n",
       "2  Lời khai của kẻ_cướp tiệm vàng ngày vía Thần_T...  "
      ]
     },
     "execution_count": 173,
     "metadata": {},
     "output_type": "execute_result"
    }
   ],
   "source": [
    "test_df_50['concat_text'] = test_df_50.apply(lambda x: preprocess_text(x), axis = 1)\n",
    "test_df_50"
   ]
  },
  {
   "cell_type": "code",
   "execution_count": 102,
   "id": "f72abed1-1b52-4390-a71c-7e3b39ff4f8f",
   "metadata": {},
   "outputs": [],
   "source": [
    "label_l = ['rơi chung cư', 'Ngày cá tháng tư', 'Tết', 'ngày cô hồn', 'Lễ vu lan', 'hiếp dâm', 'cháy', 'tai nạn', 'Trung thu', 'dự báo thời tiết', 'bão', 'ngày lễ trong năm', 'Lễ Thất tịch', 'doanh nhân/ đại gia /người nổi tiếng', 'vụ án: chém/giết người/thảm sát/nổ súng', 'phốt', 'ngộ độc thực phẩm', 'bạo hành', 'đánh ghen']"
   ]
  },
  {
   "cell_type": "code",
   "execution_count": 103,
   "id": "ab4daf68-75b9-46d7-b201-8e5f77f352fc",
   "metadata": {},
   "outputs": [],
   "source": [
    "preds = [convert_label(label_l[p]) for p in preds]"
   ]
  },
  {
   "cell_type": "code",
   "execution_count": 147,
   "id": "27fd14b8-1322-4a68-8dd0-39d6fd20d658",
   "metadata": {},
   "outputs": [
    {
     "data": {
      "text/plain": [
       "'Lễ Thất tịch'"
      ]
     },
     "execution_count": 147,
     "metadata": {},
     "output_type": "execute_result"
    }
   ],
   "source": [
    "label_list[11]"
   ]
  },
  {
   "cell_type": "code",
   "execution_count": 106,
   "id": "33b49d9f-7d90-413b-b3e6-368d271f74b9",
   "metadata": {},
   "outputs": [
    {
     "name": "stdout",
     "output_type": "stream",
     "text": [
      "              precision    recall  f1-score   support\n",
      "\n",
      "           2       0.00      0.00      0.00         0\n",
      "           5       0.80      1.00      0.89         4\n",
      "           6       1.00      0.93      0.96        14\n",
      "           8       1.00      1.00      1.00        18\n",
      "           9       1.00      1.00      1.00         2\n",
      "          10       0.00      0.00      0.00         1\n",
      "          13       1.00      1.00      1.00        11\n",
      "\n",
      "    accuracy                           0.96        50\n",
      "   macro avg       0.69      0.70      0.69        50\n",
      "weighted avg       0.96      0.96      0.96        50\n",
      "\n"
     ]
    },
    {
     "name": "stderr",
     "output_type": "stream",
     "text": [
      "/home/nghiatl/anaconda3/envs/SEO/lib/python3.8/site-packages/sklearn/metrics/_classification.py:1344: UndefinedMetricWarning: Precision and F-score are ill-defined and being set to 0.0 in labels with no predicted samples. Use `zero_division` parameter to control this behavior.\n",
      "  _warn_prf(average, modifier, msg_start, len(result))\n",
      "/home/nghiatl/anaconda3/envs/SEO/lib/python3.8/site-packages/sklearn/metrics/_classification.py:1344: UndefinedMetricWarning: Recall and F-score are ill-defined and being set to 0.0 in labels with no true samples. Use `zero_division` parameter to control this behavior.\n",
      "  _warn_prf(average, modifier, msg_start, len(result))\n",
      "/home/nghiatl/anaconda3/envs/SEO/lib/python3.8/site-packages/sklearn/metrics/_classification.py:1344: UndefinedMetricWarning: Precision and F-score are ill-defined and being set to 0.0 in labels with no predicted samples. Use `zero_division` parameter to control this behavior.\n",
      "  _warn_prf(average, modifier, msg_start, len(result))\n",
      "/home/nghiatl/anaconda3/envs/SEO/lib/python3.8/site-packages/sklearn/metrics/_classification.py:1344: UndefinedMetricWarning: Recall and F-score are ill-defined and being set to 0.0 in labels with no true samples. Use `zero_division` parameter to control this behavior.\n",
      "  _warn_prf(average, modifier, msg_start, len(result))\n",
      "/home/nghiatl/anaconda3/envs/SEO/lib/python3.8/site-packages/sklearn/metrics/_classification.py:1344: UndefinedMetricWarning: Precision and F-score are ill-defined and being set to 0.0 in labels with no predicted samples. Use `zero_division` parameter to control this behavior.\n",
      "  _warn_prf(average, modifier, msg_start, len(result))\n",
      "/home/nghiatl/anaconda3/envs/SEO/lib/python3.8/site-packages/sklearn/metrics/_classification.py:1344: UndefinedMetricWarning: Recall and F-score are ill-defined and being set to 0.0 in labels with no true samples. Use `zero_division` parameter to control this behavior.\n",
      "  _warn_prf(average, modifier, msg_start, len(result))\n"
     ]
    }
   ],
   "source": [
    "# ckpt 3\n",
    "print(classification_report(y_true, preds))"
   ]
  },
  {
   "cell_type": "code",
   "execution_count": 91,
   "id": "85c90392-be3a-4d7f-abea-361b5a437dc5",
   "metadata": {},
   "outputs": [
    {
     "name": "stdout",
     "output_type": "stream",
     "text": [
      "              precision    recall  f1-score   support\n",
      "\n",
      "           5       0.80      1.00      0.89         4\n",
      "           6       1.00      0.93      0.96        14\n",
      "           8       1.00      1.00      1.00        18\n",
      "           9       1.00      1.00      1.00         2\n",
      "          10       0.00      0.00      0.00         1\n",
      "          11       0.00      0.00      0.00         0\n",
      "          13       1.00      1.00      1.00        11\n",
      "\n",
      "    accuracy                           0.96        50\n",
      "   macro avg       0.69      0.70      0.69        50\n",
      "weighted avg       0.96      0.96      0.96        50\n",
      "\n"
     ]
    },
    {
     "name": "stderr",
     "output_type": "stream",
     "text": [
      "/home/nghiatl/anaconda3/envs/SEO/lib/python3.8/site-packages/sklearn/metrics/_classification.py:1344: UndefinedMetricWarning: Precision and F-score are ill-defined and being set to 0.0 in labels with no predicted samples. Use `zero_division` parameter to control this behavior.\n",
      "  _warn_prf(average, modifier, msg_start, len(result))\n",
      "/home/nghiatl/anaconda3/envs/SEO/lib/python3.8/site-packages/sklearn/metrics/_classification.py:1344: UndefinedMetricWarning: Recall and F-score are ill-defined and being set to 0.0 in labels with no true samples. Use `zero_division` parameter to control this behavior.\n",
      "  _warn_prf(average, modifier, msg_start, len(result))\n",
      "/home/nghiatl/anaconda3/envs/SEO/lib/python3.8/site-packages/sklearn/metrics/_classification.py:1344: UndefinedMetricWarning: Precision and F-score are ill-defined and being set to 0.0 in labels with no predicted samples. Use `zero_division` parameter to control this behavior.\n",
      "  _warn_prf(average, modifier, msg_start, len(result))\n",
      "/home/nghiatl/anaconda3/envs/SEO/lib/python3.8/site-packages/sklearn/metrics/_classification.py:1344: UndefinedMetricWarning: Recall and F-score are ill-defined and being set to 0.0 in labels with no true samples. Use `zero_division` parameter to control this behavior.\n",
      "  _warn_prf(average, modifier, msg_start, len(result))\n",
      "/home/nghiatl/anaconda3/envs/SEO/lib/python3.8/site-packages/sklearn/metrics/_classification.py:1344: UndefinedMetricWarning: Precision and F-score are ill-defined and being set to 0.0 in labels with no predicted samples. Use `zero_division` parameter to control this behavior.\n",
      "  _warn_prf(average, modifier, msg_start, len(result))\n",
      "/home/nghiatl/anaconda3/envs/SEO/lib/python3.8/site-packages/sklearn/metrics/_classification.py:1344: UndefinedMetricWarning: Recall and F-score are ill-defined and being set to 0.0 in labels with no true samples. Use `zero_division` parameter to control this behavior.\n",
      "  _warn_prf(average, modifier, msg_start, len(result))\n"
     ]
    }
   ],
   "source": [
    "#ckpt\n",
    "print(classification_report(y_true, preds))"
   ]
  },
  {
   "cell_type": "code",
   "execution_count": 150,
   "id": "9f6d1e13-3d8d-4ba3-b55a-04c3c355e7d3",
   "metadata": {},
   "outputs": [
    {
     "name": "stdout",
     "output_type": "stream",
     "text": [
      "(2, 10)\n"
     ]
    },
    {
     "data": {
      "text/plain": [
       "[47]"
      ]
     },
     "execution_count": 150,
     "metadata": {},
     "output_type": "execute_result"
    }
   ],
   "source": [
    "false_preds_idx = []\n",
    "for idx, p in enumerate(zip(preds, y_true)):\n",
    "    if p[1] == 10 and p[0] != p[1]:\n",
    "        print(p)\n",
    "        false_preds_idx.append(idx)\n",
    "false_preds_idx"
   ]
  },
  {
   "cell_type": "code",
   "execution_count": 152,
   "id": "eda5cdb6-3656-443f-bc04-51cfcdd68cae",
   "metadata": {},
   "outputs": [
    {
     "data": {
      "text/html": [
       "<div>\n",
       "<style scoped>\n",
       "    .dataframe tbody tr th:only-of-type {\n",
       "        vertical-align: middle;\n",
       "    }\n",
       "\n",
       "    .dataframe tbody tr th {\n",
       "        vertical-align: top;\n",
       "    }\n",
       "\n",
       "    .dataframe thead th {\n",
       "        text-align: right;\n",
       "    }\n",
       "</style>\n",
       "<table border=\"1\" class=\"dataframe\">\n",
       "  <thead>\n",
       "    <tr style=\"text-align: right;\">\n",
       "      <th></th>\n",
       "      <th>Chủ đề</th>\n",
       "      <th>Link bài</th>\n",
       "      <th>title</th>\n",
       "      <th>sapo</th>\n",
       "      <th>content</th>\n",
       "      <th>label</th>\n",
       "      <th>concat_text</th>\n",
       "    </tr>\n",
       "  </thead>\n",
       "  <tbody>\n",
       "    <tr>\n",
       "      <th>47</th>\n",
       "      <td>ngày lễ trong năm</td>\n",
       "      <td>https://kenh14.vn/dan-cong-so-ha-noi-ngoi-chat...</td>\n",
       "      <td>Dân công sở Hà Nội ngồi chật kín giữa trời rét...</td>\n",
       "      <td>Tối ngày 31/1 (tức ngày 10 tháng Giêng âm lịch...</td>\n",
       "      <td>Theo ghi nhận của phóng viên, lượng người đi m...</td>\n",
       "      <td>10</td>\n",
       "      <td>Dân_công_sở Hà_Nội ngồi chật kín giữa trời rét...</td>\n",
       "    </tr>\n",
       "  </tbody>\n",
       "</table>\n",
       "</div>"
      ],
      "text/plain": [
       "               Chủ đề                                           Link bài  \\\n",
       "47  ngày lễ trong năm  https://kenh14.vn/dan-cong-so-ha-noi-ngoi-chat...   \n",
       "\n",
       "                                                title  \\\n",
       "47  Dân công sở Hà Nội ngồi chật kín giữa trời rét...   \n",
       "\n",
       "                                                 sapo  \\\n",
       "47  Tối ngày 31/1 (tức ngày 10 tháng Giêng âm lịch...   \n",
       "\n",
       "                                              content  label  \\\n",
       "47  Theo ghi nhận của phóng viên, lượng người đi m...     10   \n",
       "\n",
       "                                          concat_text  \n",
       "47  Dân_công_sở Hà_Nội ngồi chật kín giữa trời rét...  "
      ]
     },
     "execution_count": 152,
     "metadata": {},
     "output_type": "execute_result"
    }
   ],
   "source": [
    "test_df_50.iloc[false_preds_idx]"
   ]
  },
  {
   "cell_type": "code",
   "execution_count": 154,
   "id": "e5d3fd7f-5ba6-4112-9628-abf8183955d2",
   "metadata": {},
   "outputs": [
    {
     "data": {
      "text/plain": [
       "'Tối ngày 31/1 (tức ngày 10 tháng Giêng âm lịch hay còn được gọi là ngày vía Thần Tài), các cửa hàng vàng trên địa bàn Hà Nội vẫn chật kín người dân mua vàng.'"
      ]
     },
     "execution_count": 154,
     "metadata": {},
     "output_type": "execute_result"
    }
   ],
   "source": [
    "test_df_50.iloc[false_preds_idx].iloc[0]['sapo']"
   ]
  },
  {
   "cell_type": "code",
   "execution_count": 52,
   "id": "1b069c86-63fc-4039-90cf-d86b33ceb839",
   "metadata": {},
   "outputs": [],
   "source": [
    "# from sentence_transformers import SentenceTransformer\n",
    "# from pyvi.ViTokenizer import tokenize\n",
    "\n",
    "# model = SentenceTransformer('VoVanPhuc/sup-SimCSE-VietNamese-phobert-base')\n",
    "\n",
    "# sentences = ['Kẻ đánh bom đinh tồi tệ nhất nước Anh.',\n",
    "#           'Nghệ sĩ làm thiện nguyện - minh bạch là việc cấp thiết.',\n",
    "#           'Bắc Giang tăng khả năng điều trị và xét nghiệm.',\n",
    "#           'HLV futsal Việt Nam tiết lộ lý do hạ Lebanon.',\n",
    "#           'việc quan trọng khi kêu gọi quyên góp từ thiện là phải minh bạch, giải ngân kịp thời.',\n",
    "#           '20% bệnh nhân Covid-19 có thể nhanh chóng trở nặng.',\n",
    "#           'thái Lan thua giao hữu trước vòng loại World Cup.',\n",
    "#           'Cựu tuyển thủ Nguyễn Bảo Quân: May mắn ủng hộ futsal Việt Nam',\n",
    "#           'Chủ ki-ốt bị đâm chết trong chợ đầu mối lớn nhất Thanh Hoá.',\n",
    "#           'Bắn chết người trong cuộc rượt đuổi trên sông.'\n",
    "#           ]\n",
    "\n",
    "# sentences = [tokenize(sentence) for sentence in sentences]\n",
    "# embeddings = model.encode(sentences)"
   ]
  },
  {
   "cell_type": "code",
   "execution_count": 30,
   "id": "6e54a3cd-2fff-4b70-95a5-f9ef122c7954",
   "metadata": {},
   "outputs": [],
   "source": [
    "# sentences = ['Kẻ đánh bom đinh tồi tệ nhất nước Anh.',\n",
    "#           'Nghệ sĩ làm thiện nguyện - minh bạch là việc cấp thiết.',\n",
    "#           'Bắc Giang tăng khả năng điều trị và xét nghiệm.',\n",
    "#           'HLV futsal Việt Nam tiết lộ lý do hạ Lebanon.',\n",
    "#           'việc quan trọng khi kêu gọi quyên góp từ thiện là phải minh bạch, giải ngân kịp thời.',\n",
    "#           '20% bệnh nhân Covid-19 có thể nhanh chóng trở nặng.',\n",
    "#           'Thái lan thua giao hữu trước vòng loại World Cup.',\n",
    "#           'Cựu tuyển thủ Nguyễn Bảo Quân: May mắn ủng hộ futsal Việt Nam bà Phương Hằng',\n",
    "#           'Chủ ki-ốt bị đâm chết trong chợ đầu mối lớn nhất Thanh Hoá.',\n",
    "#           'Bắn chết người trong cuộc rượt đuổi trên sông.',\n",
    "#           'Công an TP Thủ Đức TP HCM làm rõ nguyên nhân vụ việc nam thanh niên rơi từ tầng 22 của một chung cư tử vong',\n",
    "#           'Công an TP Thủ Đức, TP.HCM làm rõ nguyên nhân vụ việc nam thanh niên rơi từ tầng 22 của một chung cư tử vong.'\n",
    "#           ]\n",
    "\n",
    "# sentences = [tokenize(sentence) for sentence in sentences]\n",
    "# sentences"
   ]
  },
  {
   "cell_type": "code",
   "execution_count": 117,
   "id": "1c3aa4e9-6ae9-4a12-8957-d8c572568083",
   "metadata": {
    "tags": []
   },
   "outputs": [],
   "source": [
    "test_df = pd.read_csv('./data/test.csv')"
   ]
  },
  {
   "cell_type": "code",
   "execution_count": 128,
   "id": "b5a9aa56-841a-43aa-a9e4-6c4c0fe72732",
   "metadata": {
    "tags": []
   },
   "outputs": [],
   "source": [
    "test_df.iloc[95, [1]] = 'submenuthongtinemailphone' "
   ]
  },
  {
   "cell_type": "code",
   "execution_count": 131,
   "id": "d6ae5a0c-4244-43c9-a1e4-8ecdbe3cdb80",
   "metadata": {
    "tags": []
   },
   "outputs": [
    {
     "data": {
      "text/html": [
       "<div>\n",
       "<style scoped>\n",
       "    .dataframe tbody tr th:only-of-type {\n",
       "        vertical-align: middle;\n",
       "    }\n",
       "\n",
       "    .dataframe tbody tr th {\n",
       "        vertical-align: top;\n",
       "    }\n",
       "\n",
       "    .dataframe thead th {\n",
       "        text-align: right;\n",
       "    }\n",
       "</style>\n",
       "<table border=\"1\" class=\"dataframe\">\n",
       "  <thead>\n",
       "    <tr style=\"text-align: right;\">\n",
       "      <th></th>\n",
       "      <th>label</th>\n",
       "      <th>message</th>\n",
       "      <th>predict_label</th>\n",
       "      <th>message_clean</th>\n",
       "    </tr>\n",
       "  </thead>\n",
       "  <tbody>\n",
       "    <tr>\n",
       "      <th>87</th>\n",
       "      <td>submenuthongtin</td>\n",
       "      <td>t muốn thay đổi thông tin</td>\n",
       "      <td>submenuthongtin</td>\n",
       "      <td>tôi muốn thay đổi thông tin</td>\n",
       "    </tr>\n",
       "    <tr>\n",
       "      <th>88</th>\n",
       "      <td>submenuthongtin</td>\n",
       "      <td>tôi muốn thay đổi thông tin</td>\n",
       "      <td>submenuthongtin</td>\n",
       "      <td>tôi muốn thay đổi thông tin</td>\n",
       "    </tr>\n",
       "    <tr>\n",
       "      <th>89</th>\n",
       "      <td>submenuthongtin</td>\n",
       "      <td>muốn cập nhật thông tin thì làm như thế nào đư...</td>\n",
       "      <td>submenuthongtin</td>\n",
       "      <td>muốn cập nhật thông tin thì làm như thế nào đư...</td>\n",
       "    </tr>\n",
       "    <tr>\n",
       "      <th>90</th>\n",
       "      <td>submenuthongtin</td>\n",
       "      <td>muốn sửa thông tin thì làm cách nào b</td>\n",
       "      <td>submenuthongtin</td>\n",
       "      <td>muốn sửa thông tin thì làm cách nào bạn</td>\n",
       "    </tr>\n",
       "    <tr>\n",
       "      <th>91</th>\n",
       "      <td>submenuthongtin</td>\n",
       "      <td>b hướng dẫn tôi cách sửa thông tin cá nhân đượ...</td>\n",
       "      <td>submenuthongtin</td>\n",
       "      <td>bạn hướng dẫn tôi cách sửa thông tin cá nhân đ...</td>\n",
       "    </tr>\n",
       "    <tr>\n",
       "      <th>92</th>\n",
       "      <td>submenuthongtin</td>\n",
       "      <td>t muốn cập nhật thông tin của mình</td>\n",
       "      <td>submenuthongtin</td>\n",
       "      <td>tôi muốn cập nhật thông tin của mình</td>\n",
       "    </tr>\n",
       "    <tr>\n",
       "      <th>97</th>\n",
       "      <td>submenuthongtin</td>\n",
       "      <td>t muốn thay đổi họ tên của mình</td>\n",
       "      <td>submenuthongtin</td>\n",
       "      <td>tôi muốn thay đổi họ tên của mình</td>\n",
       "    </tr>\n",
       "    <tr>\n",
       "      <th>98</th>\n",
       "      <td>submenuthongtin</td>\n",
       "      <td>thay đổi họ tên thì làm như thế nào</td>\n",
       "      <td>submenuthongtin</td>\n",
       "      <td>thay đổi họ tên thì làm như thế nào</td>\n",
       "    </tr>\n",
       "    <tr>\n",
       "      <th>99</th>\n",
       "      <td>submenuthongtin</td>\n",
       "      <td>thay đổi thông tin của tôi thì làm như thế nào</td>\n",
       "      <td>submenuthongtin</td>\n",
       "      <td>thay đổi thông tin của tôi thì làm như thế nào</td>\n",
       "    </tr>\n",
       "    <tr>\n",
       "      <th>100</th>\n",
       "      <td>submenuthongtin</td>\n",
       "      <td>t cần thay đổi thông tin cá nhân</td>\n",
       "      <td>submenuthongtin</td>\n",
       "      <td>tôi cần thay đổi thông tin cá nhân</td>\n",
       "    </tr>\n",
       "    <tr>\n",
       "      <th>101</th>\n",
       "      <td>submenuthongtin</td>\n",
       "      <td>thay đổi thông tin cá nhân</td>\n",
       "      <td>submenuthongtin</td>\n",
       "      <td>thay đổi thông tin cá nhân</td>\n",
       "    </tr>\n",
       "  </tbody>\n",
       "</table>\n",
       "</div>"
      ],
      "text/plain": [
       "               label                                            message  \\\n",
       "87   submenuthongtin                          t muốn thay đổi thông tin   \n",
       "88   submenuthongtin                        tôi muốn thay đổi thông tin   \n",
       "89   submenuthongtin  muốn cập nhật thông tin thì làm như thế nào đư...   \n",
       "90   submenuthongtin              muốn sửa thông tin thì làm cách nào b   \n",
       "91   submenuthongtin  b hướng dẫn tôi cách sửa thông tin cá nhân đượ...   \n",
       "92   submenuthongtin                 t muốn cập nhật thông tin của mình   \n",
       "97   submenuthongtin                    t muốn thay đổi họ tên của mình   \n",
       "98   submenuthongtin                thay đổi họ tên thì làm như thế nào   \n",
       "99   submenuthongtin     thay đổi thông tin của tôi thì làm như thế nào   \n",
       "100  submenuthongtin                   t cần thay đổi thông tin cá nhân   \n",
       "101  submenuthongtin                         thay đổi thông tin cá nhân   \n",
       "\n",
       "       predict_label                                      message_clean  \n",
       "87   submenuthongtin                        tôi muốn thay đổi thông tin  \n",
       "88   submenuthongtin                        tôi muốn thay đổi thông tin  \n",
       "89   submenuthongtin  muốn cập nhật thông tin thì làm như thế nào đư...  \n",
       "90   submenuthongtin            muốn sửa thông tin thì làm cách nào bạn  \n",
       "91   submenuthongtin  bạn hướng dẫn tôi cách sửa thông tin cá nhân đ...  \n",
       "92   submenuthongtin               tôi muốn cập nhật thông tin của mình  \n",
       "97   submenuthongtin                  tôi muốn thay đổi họ tên của mình  \n",
       "98   submenuthongtin                thay đổi họ tên thì làm như thế nào  \n",
       "99   submenuthongtin     thay đổi thông tin của tôi thì làm như thế nào  \n",
       "100  submenuthongtin                 tôi cần thay đổi thông tin cá nhân  \n",
       "101  submenuthongtin                         thay đổi thông tin cá nhân  "
      ]
     },
     "execution_count": 131,
     "metadata": {},
     "output_type": "execute_result"
    }
   ],
   "source": [
    "test_df[test_df['label'] == 'submenuthongtin']"
   ]
  },
  {
   "cell_type": "code",
   "execution_count": 98,
   "id": "4aabf65b-da45-499c-ae72-3ff5b20d8eba",
   "metadata": {
    "tags": []
   },
   "outputs": [
    {
     "data": {
      "text/plain": [
       "array(['greetings', 'goodbye', 'thanks', 'affirm', 'deny', 'moodgreat',\n",
       "       'mainmenu', 'submenuthongtin', 'submenuthongtinID',\n",
       "       'submenuthongtinemailphone', 'submenubieuphi',\n",
       "       'submenulienhetuvan', 'branchlocation', 'cardproductmainmenu',\n",
       "       'cardproductdangkythe', 'cardproductkhuyenmai',\n",
       "       'cardproductkiemtrahoso', 'cardproductkiemtragiaonhan',\n",
       "       'submenucomplain'], dtype=object)"
      ]
     },
     "execution_count": 98,
     "metadata": {},
     "output_type": "execute_result"
    }
   ],
   "source": [
    "test_df['label'].unique()"
   ]
  },
  {
   "cell_type": "code",
   "execution_count": 130,
   "id": "81562a23-c473-47ff-b7c3-a92173f5f1f4",
   "metadata": {
    "tags": []
   },
   "outputs": [],
   "source": [
    "test_df.drop(columns=['Unnamed: 0'], inplace = True)"
   ]
  },
  {
   "cell_type": "code",
   "execution_count": 132,
   "id": "f799b3c6-2940-4c61-8824-10efa8bb844f",
   "metadata": {
    "tags": []
   },
   "outputs": [
    {
     "data": {
      "text/html": [
       "<div>\n",
       "<style scoped>\n",
       "    .dataframe tbody tr th:only-of-type {\n",
       "        vertical-align: middle;\n",
       "    }\n",
       "\n",
       "    .dataframe tbody tr th {\n",
       "        vertical-align: top;\n",
       "    }\n",
       "\n",
       "    .dataframe thead th {\n",
       "        text-align: right;\n",
       "    }\n",
       "</style>\n",
       "<table border=\"1\" class=\"dataframe\">\n",
       "  <thead>\n",
       "    <tr style=\"text-align: right;\">\n",
       "      <th></th>\n",
       "      <th>label</th>\n",
       "      <th>message</th>\n",
       "      <th>predict_label</th>\n",
       "      <th>message_clean</th>\n",
       "    </tr>\n",
       "  </thead>\n",
       "  <tbody>\n",
       "    <tr>\n",
       "      <th>0</th>\n",
       "      <td>greetings</td>\n",
       "      <td>chào bạn cho mình hỏi chút với ạ</td>\n",
       "      <td>greetings</td>\n",
       "      <td>chào bạn cho mình hỏi chút với ạ</td>\n",
       "    </tr>\n",
       "    <tr>\n",
       "      <th>1</th>\n",
       "      <td>greetings</td>\n",
       "      <td>xin chào mình là Nghĩa</td>\n",
       "      <td>greetings</td>\n",
       "      <td>xin chào mình là nghĩa</td>\n",
       "    </tr>\n",
       "    <tr>\n",
       "      <th>2</th>\n",
       "      <td>greetings</td>\n",
       "      <td>tên t là Thảo</td>\n",
       "      <td>greetings</td>\n",
       "      <td>tên tôi là thảo</td>\n",
       "    </tr>\n",
       "    <tr>\n",
       "      <th>3</th>\n",
       "      <td>greetings</td>\n",
       "      <td>b có thể giúp tôi được không</td>\n",
       "      <td>outofscoreother</td>\n",
       "      <td>bạn có thể giúp tôi được không</td>\n",
       "    </tr>\n",
       "    <tr>\n",
       "      <th>4</th>\n",
       "      <td>greetings</td>\n",
       "      <td>t cần hỏi một số việc</td>\n",
       "      <td>mainmenu</td>\n",
       "      <td>tôi cần hỏi một số việc</td>\n",
       "    </tr>\n",
       "    <tr>\n",
       "      <th>...</th>\n",
       "      <td>...</td>\n",
       "      <td>...</td>\n",
       "      <td>...</td>\n",
       "      <td>...</td>\n",
       "    </tr>\n",
       "    <tr>\n",
       "      <th>223</th>\n",
       "      <td>submenucomplain</td>\n",
       "      <td>bạn trả lời tệ thế</td>\n",
       "      <td>submenucomplain</td>\n",
       "      <td>bạn trả lời tệ thế</td>\n",
       "    </tr>\n",
       "    <tr>\n",
       "      <th>224</th>\n",
       "      <td>submenucomplain</td>\n",
       "      <td>tệ thật sự</td>\n",
       "      <td>submenucomplain</td>\n",
       "      <td>tệ thật sự</td>\n",
       "    </tr>\n",
       "    <tr>\n",
       "      <th>225</th>\n",
       "      <td>submenucomplain</td>\n",
       "      <td>kém quá đi</td>\n",
       "      <td>submenucomplain</td>\n",
       "      <td>kém quá đi</td>\n",
       "    </tr>\n",
       "    <tr>\n",
       "      <th>226</th>\n",
       "      <td>submenucomplain</td>\n",
       "      <td>thái độ nhân viên thiếu chuyên nghiệp</td>\n",
       "      <td>submenucomplain</td>\n",
       "      <td>thái độ nhân viên thiếu chuyên nghiệp</td>\n",
       "    </tr>\n",
       "    <tr>\n",
       "      <th>227</th>\n",
       "      <td>submenucomplain</td>\n",
       "      <td>thái độ của nhân viên quá tệ</td>\n",
       "      <td>submenucomplain</td>\n",
       "      <td>thái độ của nhân viên quá tệ</td>\n",
       "    </tr>\n",
       "  </tbody>\n",
       "</table>\n",
       "<p>227 rows × 4 columns</p>\n",
       "</div>"
      ],
      "text/plain": [
       "               label                                message    predict_label  \\\n",
       "0          greetings       chào bạn cho mình hỏi chút với ạ        greetings   \n",
       "1          greetings                 xin chào mình là Nghĩa        greetings   \n",
       "2          greetings                          tên t là Thảo        greetings   \n",
       "3          greetings           b có thể giúp tôi được không  outofscoreother   \n",
       "4          greetings                  t cần hỏi một số việc         mainmenu   \n",
       "..               ...                                    ...              ...   \n",
       "223  submenucomplain                     bạn trả lời tệ thế  submenucomplain   \n",
       "224  submenucomplain                             tệ thật sự  submenucomplain   \n",
       "225  submenucomplain                             kém quá đi  submenucomplain   \n",
       "226  submenucomplain  thái độ nhân viên thiếu chuyên nghiệp  submenucomplain   \n",
       "227  submenucomplain           thái độ của nhân viên quá tệ  submenucomplain   \n",
       "\n",
       "                             message_clean  \n",
       "0         chào bạn cho mình hỏi chút với ạ  \n",
       "1                   xin chào mình là nghĩa  \n",
       "2                          tên tôi là thảo  \n",
       "3           bạn có thể giúp tôi được không  \n",
       "4                  tôi cần hỏi một số việc  \n",
       "..                                     ...  \n",
       "223                     bạn trả lời tệ thế  \n",
       "224                             tệ thật sự  \n",
       "225                             kém quá đi  \n",
       "226  thái độ nhân viên thiếu chuyên nghiệp  \n",
       "227           thái độ của nhân viên quá tệ  \n",
       "\n",
       "[227 rows x 4 columns]"
      ]
     },
     "execution_count": 132,
     "metadata": {},
     "output_type": "execute_result"
    }
   ],
   "source": [
    "test_df.to_csv('./data/test.csv', index = False)\n",
    "test_df"
   ]
  },
  {
   "cell_type": "code",
   "execution_count": null,
   "id": "4ee33a15-0d7c-4d8a-b7e0-324cb4619ed0",
   "metadata": {},
   "outputs": [],
   "source": []
  }
 ],
 "metadata": {
  "kernelspec": {
   "display_name": "SEO",
   "language": "python",
   "name": "seo"
  },
  "language_info": {
   "codemirror_mode": {
    "name": "ipython",
    "version": 3
   },
   "file_extension": ".py",
   "mimetype": "text/x-python",
   "name": "python",
   "nbconvert_exporter": "python",
   "pygments_lexer": "ipython3",
   "version": "3.8.16"
  }
 },
 "nbformat": 4,
 "nbformat_minor": 5
}
